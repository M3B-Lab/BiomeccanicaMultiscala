{
 "cells": [
  {
   "cell_type": "markdown",
   "metadata": {},
   "source": [
    "<a href=\"https://colab.research.google.com/github/lorenzopallante/BiomeccanicaMultiscala/blob/main/LAB/00-SystemSetup/00-SystemSetup.ipynb\" target=\"_parent\"><img src=\"https://colab.research.google.com/assets/colab-badge.svg\" alt=\"Open In Colab\"/></a>"
   ]
  },
  {
   "cell_type": "markdown",
   "metadata": {
    "id": "LeRZF0AUWVcK"
   },
   "source": [
    "\n",
    "# **LINUX INSTALLATION** \n",
    "****\n",
    "Regarding the installation of Linux on one's own pc, several paths can be followed.\n",
    "The first option is to install Linux as the only operating system. This is a radical solution; all data saved on the pc will be lost.\n",
    "In case you do not want to change the operating system, you can follow one of the following paths:\n",
    "\n",
    "1) installation of a **virtual machine**\n",
    "\n",
    "2) installation of a **subsystem on pc with Windows 10** system (WSL10)\n",
    "\n",
    "3) installation of a **subsystem** on pc with **Windows 11** system (WSL11)\n",
    "\n",
    "In the following sections you can find step-by-step instructions to follow for each of these three options"
   ]
  },
  {
   "cell_type": "markdown",
   "metadata": {
    "id": "MoNkSAG_YTrC"
   },
   "source": [
    "\n",
    "## Install a Virtual Machine (VM)\n",
    "****\n",
    "For detailed procedures follow the guide provided. Below we provide a brief summary of the necessary steps accompanied by some useful tips and links to solve any problems encountered during the installation process.\n",
    "\n",
    "1.   Download virtualbox from the link : www.virtualbox.org \n",
    "2.   Download the .exe file and proceed by clicking on 'next' without changing the basic settings \n",
    "3.   Download the .ova file at the link https://drive.google.com/file1-CLJIgcSw2BByQQNs1in326oyij2ofvz/view?usp=sharing\n",
    "\n",
    "Tips:\n",
    "* If you have difficulty downloading the file on the first attempt, try again several times until the goal is achieved. In fact, it is possible that you may have to repeat the procedure several times if the download starts but stops after a few minutes, signaling an error. It is recommended that you make at least 3-4 attempts.. \n",
    "* **Warning** : to start the download, do not press on the bar where 'zipper extractor' appears. , but press on the download icon in the upper right corner\n",
    "4.   Open the VirtualMachine and follow the instructions to import the file. \n",
    "     Tip : change, if necessary, the CPU and RAM parameters, it is recommended to enter respectively (**CPU : 2 / RAM : 2048 MB**). These parameters can also be changed later. \n",
    "\n",
    "5.   Click on import (the file may take about ten minutes to load).\n",
    "\n",
    "* **WARNING**: If the icon described in the help in the upper left corner of the virtualbox does not appear, or if the session ended warning appears, use the instructions for virtualizing the VM , specified at the following the link: https://www.aranzulla.it/come-attivare-la-virtualizzazione-nel-bios-1231556.html#:~:text=Ad%20every%20mode%2C%20every%20there%C3%B2,the%20Enable%2FActive%20option.\n",
    "\n",
    "\n",
    "OTHER PROCEDURES \n",
    "*It is possible that once opened, the VM screen appears blurry and enlarged, you need to fix the scale and resolution settings as described in the guide (if you do not see the menu indicated in the guide , go to **Settings > Screen > Scale Factor > 100%**)\n",
    "\n",
    "* Activating the **Virtualization of the BIOS** (Caution: the procedure to be followed may vary slightly from pc to pc).\n",
    "Press the **win+I** keys > select **edit pc settings** > **update and restore** > **restore** > **restart now** > **troubleshooting** > **advanced options** > **UFI firmware settings** > reboot > press the **f10** key > select **system configuration** (top) > **virtualization technology** > **enable**.\n",
    "\n",
    "\n",
    "* For guest addition , in case the guide procedure does not work, follow the instructions below. \n",
    "Go to google and type **Oracle > download > VM virtualbox > Vbox guest addition**.\n",
    "Then go back to virtualBox , go to settings , go to storage , select 'VBoxGuestAddition.iso'. Select the diskette next to 'optical drive'. Select the item ' choose a disk file...' and import the Vbox guest addition download.\n",
    "* In conclusion go to **Devices > insert guest addition CD image > press 'ok' > press 'run' > enter password 'student'** , if required. Finally press 'enter' when prompted by the terminal."
   ]
  },
  {
   "cell_type": "markdown",
   "metadata": {
    "id": "metljUi1yj9c"
   },
   "source": [
    "## Intsall LINUX SUBSYSTEM on WINDOWS 10\n",
    "****\n",
    "* To begin, you must open the command prompt or Windows PowerShell by running them in administrator mode (right-click >run as administrator). \n",
    "* Type `wsl --install`, press enter and wait for the installation to complete.\n",
    "* Finish the installation, open the search bar and type `enable or disable Windows features'. Alternatively, type Windows+R and in the window that opens type \"optionalfeatures.\"\n",
    "* In the window that appears you need to check:\n",
    ">* Virtual Machine Platform\n",
    ">* Windows Hypervisor Platform\n",
    ">* Windows Subsystem for Linux\n",
    "* Press okay when finished and restart the computer.\n",
    "* Upon reboot Ubuntu will open and proceed with installing the necessary files, wait a few minutes for it to finish.\n",
    ">* If at the end of the installation appears on the screen `\"error 0x80370102 the virtual machine could not be started because a required features is not installed\"` you should:\n",
    ">>* first check that CPU virtualization is enabled. Press ctrl+alt+delete, open task manager >performance and check next to \"virtualization\" is \"enabled\". In case it is not, look at appendix 1.\n",
    ">>* if it still does not work it could be a problem related to the version of wsl you are using. Open the command prompt or Windows PowerShell and type `wsl --set-default-version 1` and then `wsl --install -d Ubuntu`.\n",
    "* At the end of the installation you will be prompted for a username and password. Use a lowercase username to avoid any problems. It is normal for nothing to appear on the screen while typing the password (it is actually read correctly anyway).\n",
    "* Typing \"wsl\" in the search bar will open the default distribution (to see what it is just type `wsl -l -v` at the command prompt).\n",
    "\n"
   ]
  },
  {
   "cell_type": "markdown",
   "metadata": {
    "id": "kuntNwZpAGpJ"
   },
   "source": [
    "## Install LINUX SUBSYSTEM on WINDOWS 11\n",
    "****\n",
    "In windows 11 through the wsl subsystem it is possbile to run linux programs with their own GUI. Windows 11, as well as several recent versions of Win10, make use of WSL 2: this is the second redesigned version of WSL1 that runs a full Linux kernel in a Hyper-V hypervisor for better compatibility.  When you enable this feature Windows 11 downloads a Linux kernel created by Microsoft that runs in the background, while, Windows Update keeps the kernel up-to-date.  \n",
    "Eventually, you can also use your own custom Linux kernel. \n",
    "\n",
    "### Installation process.\n",
    "\n",
    "#### Activation via command line. \n",
    "\n",
    "1.   Open the windows terminal or command prompt (cmd) **as administrator** (right-click on the taskbar start button)\n",
    "2.  Type at the prompt ` wsl -install ` to enable the windows subsystem for linux.  \n",
    "\n",
    "      2.2. Having completed this step those with a windows 10 system, but also on windows 11 following a different installation method from the command line, you need to type in the search bar \"*optionalfeatures*\" which will take you to the \"*Windows Features*\" screen where the following should be checked:\n",
    "\n",
    "\n",
    "\n",
    "  * Virtual Machine Platform\n",
    "  * Windows Hyper-V platform.\n",
    "  * Windows subsystem for Linux.\n",
    "\n",
    "  After this step press OK and restart the computer\n",
    "\n",
    "\n",
    "3.  After the installation of wsl is complete, you need to restart the computer \n",
    "\n",
    "4. Upon restarting the computer you can run the command ` wsl -l -v ` to find out what Linux distrubutions are already installed (You may have automatically installed the latest version of Ubuntu, as happened in our case, alternatively if there are no distributions already installed or if you prefer to install different ones see the following points)\n",
    "\n",
    "5. To view all available distributions run the command `` wsl -l -o `` \n",
    "\n",
    "6. To install a new distribution run the command ` wsl -install -d NAME `, where NAME should be replaced with one of the distrubutions of your choice that appear as indicated in the previous point under the NAME column \n",
    "\n",
    "7. You can install a variety of distributions, and afterwards you must reboot the computer. Once restarted you can start the distribution directly from the windows start menu\n",
    "\n",
    "\n",
    "#### Enable WSL alternatively.\n",
    "You can also enable the Windows subsystem for Linux through the operating system interface, without using the command line. The steps to be performed in this case are:\n",
    "\n",
    "1. See section 2.2 of the previous method \n",
    "2. Install the desired Linux distribution by downloading it directly from the Microsoft Store. Install it as you would any other application. Once the installation is finished, you can start it via the windows Start menu  \n",
    "\n",
    "\n",
    "### Linux programs with a graphical user interface.\n",
    "One of the main advantages of the WSL subsystem for windows 11 is precisely that it can natively run Linux programs with a graphical interface (which is not possible with WSL for windows 10, except by also installing a graphical server). To do this one must:\n",
    "\n",
    "1. Boot the Linux distribution we chose earlier (If this is the first boot, a user name and password will be required)\n",
    "\n",
    "2. Make sure you have the latest version of the distribution and possibly upgrade it via the command `sudo apt update && sudo apt upgrade -y`\n",
    "\n",
    "3. Now you can then install any Linux program with a GUI via the command `sudo apt install NAME -y`, where NAME should be replaced with the name of the desired program. Some of the most common and widely used are: gimp (digital image processing software); gedit (text editor); nautilus (file management software).\n",
    "4. Once installed simply type the name of the program into the Linux window and its window will open (Note that the terminal may show warning (Warning) messages or actual errors (Error): this is all completely normal and does not indicate a malfunction). \n",
    "\n",
    "\n",
    "\n",
    "\n",
    "\n",
    "\n",
    "\n"
   ]
  }
 ],
 "metadata": {
  "colab": {
   "collapsed_sections": [],
   "name": "Intro+installazione_completo.ipynb",
   "provenance": []
  },
  "kernelspec": {
   "display_name": "Python 3 (ipykernel)",
   "language": "python",
   "name": "python3"
  },
  "language_info": {
   "codemirror_mode": {
    "name": "ipython",
    "version": 3
   },
   "file_extension": ".py",
   "mimetype": "text/x-python",
   "name": "python",
   "nbconvert_exporter": "python",
   "pygments_lexer": "ipython3",
   "version": "3.9.13"
  },
  "toc": {
   "base_numbering": 1,
   "nav_menu": {},
   "number_sections": true,
   "sideBar": true,
   "skip_h1_title": false,
   "title_cell": "Table of Contents",
   "title_sidebar": "Contents",
   "toc_cell": false,
   "toc_position": {},
   "toc_section_display": true,
   "toc_window_display": false
  }
 },
 "nbformat": 4,
 "nbformat_minor": 1
}
