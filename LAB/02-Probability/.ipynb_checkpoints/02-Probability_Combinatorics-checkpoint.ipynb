{
 "cells": [
  {
   "cell_type": "markdown",
   "id": "fa438a6b",
   "metadata": {
    "slideshow": {
     "slide_type": "slide"
    }
   },
   "source": [
    "# Biomeccanica Multiscala\n",
    "## Laboratorio 2\n",
    "***Molecular Driving Forces - Principles of Probability***\n",
    "\n",
    "Authors:\n",
    "    \n",
    "- Prof. Marco A. Deriu (marco.deriu@polito.it)\n",
    "- Lorenzo Pallante (lorenzo.pallante@polito.it)\n",
    "- Eric A. Zizzi (eric.zizzi@polito.it)\n",
    "- Marcello Miceli (marcello.miceli@polito.it)\n",
    "- Marco Cannariato (marco.cannariato@polito.it)"
   ]
  },
  {
   "cell_type": "markdown",
   "id": "179e2d66",
   "metadata": {
    "slideshow": {
     "slide_type": "slide"
    }
   },
   "source": [
    "# Import necessary packages"
   ]
  },
  {
   "cell_type": "code",
   "execution_count": null,
   "id": "b1202844",
   "metadata": {
    "slideshow": {
     "slide_type": "fragment"
    }
   },
   "outputs": [],
   "source": [
    "import numpy as np\n",
    "import matplotlib.pyplot as plt\n",
    "import matplotlib as mpl\n",
    "from itertools import *\n",
    "from math import *\n",
    "from random import shuffle\n",
    "import scipy.stats as stats\n",
    "\n",
    "%matplotlib inline\n",
    "mpl.rcParams['font.size'] = 20\n",
    "mpl.rcParams['lines.linewidth'] = 3\n",
    "mpl.rcParams['legend.frameon'] = False\n",
    "mpl.rcParams['legend.fontsize'] = 20"
   ]
  },
  {
   "cell_type": "code",
   "execution_count": null,
   "id": "14c15bea",
   "metadata": {},
   "outputs": [],
   "source": [
    "# copy over data repository\n",
    "!if [ -n \"$COLAB_GPU\" ]; then git clone https://github.com/lorenzopallante/BiomeccanicaMultiscala.git; fi\n",
    "!if [ -n \"$COLAB_GPU\" ]; then mv BiomeccanicaMultiscala/LAB/02-Probability/data .; fi"
   ]
  },
  {
   "cell_type": "markdown",
   "id": "e4ebd872",
   "metadata": {
    "slideshow": {
     "slide_type": "slide"
    }
   },
   "source": [
    "# Basic Probability"
   ]
  },
  {
   "cell_type": "markdown",
   "id": "3e19f4c1",
   "metadata": {
    "slideshow": {
     "slide_type": "subslide"
    }
   },
   "source": [
    "## Exercise 1\n",
    "**Definition of probability**\n",
    "\n",
    "What is the probability of throwing one die and getting a number greater than 3?"
   ]
  },
  {
   "cell_type": "markdown",
   "id": "fef79e27",
   "metadata": {
    "slideshow": {
     "slide_type": "fragment"
    }
   },
   "source": [
    "The probability of an event A is defined as the number of outcomes $n_A$ falling into the category of A divided by the total number of possible outcomes $N$: $$p_A = \\frac{n_{A}}{N}$$\n",
    "\n",
    "Outcomes into the category A: 4,5,6 $\\rightarrow$ $n_A = 3$\n",
    "\n",
    "Total of outcomes: 1,2,3,4,5,6 $\\rightarrow$ $N = 6$\n",
    "$$p_A = \\frac{3}{6} = 0.5$$"
   ]
  },
  {
   "cell_type": "markdown",
   "id": "663976ce",
   "metadata": {
    "slideshow": {
     "slide_type": "slide"
    }
   },
   "source": [
    "## Exercise 2\n",
    "**Indipendent events**\n",
    "\n",
    "What is the probability of a 1 on the first roll of a die **AND** a 4 on the second roll of a die?"
   ]
  },
  {
   "cell_type": "markdown",
   "id": "0145dd23",
   "metadata": {
    "slideshow": {
     "slide_type": "fragment"
    }
   },
   "source": [
    "Two consecutive rolls of a die are independent events, therefore the rules of probability tells us that:\n",
    "$$p(A \\cap B) = p_A \\bullet p_B$$\n",
    "\n",
    "In this case, $p_A = p_B = 1/6$, therefore: $$p(A \\cap B) = \\left(\\frac{1}{6}\\right)^2 = 0.028$$"
   ]
  },
  {
   "cell_type": "markdown",
   "id": "41e42d32",
   "metadata": {
    "slideshow": {
     "slide_type": "slide"
    }
   },
   "source": [
    "## Exercise 3\n",
    "**Mutually exclusive events**\n",
    "\n",
    "What is the probability of obtaining a 4 or a 6 in one dice roll?"
   ]
  },
  {
   "cell_type": "markdown",
   "id": "6546e768",
   "metadata": {
    "slideshow": {
     "slide_type": "fragment"
    }
   },
   "source": [
    "Since we consider one die roll, the events \"outcome 4\" and \"outcome 6\" are mutually exclusive. Therefore, the probability of their union is simply the sum of the single probabilities\n",
    "\n",
    "$$p\\left(A\\cup B \\right) = p\\left(A\\right) + p\\left(B \\right) = \\frac{1}{6} + \\frac{1}{6} = \\frac{1}{3} $$"
   ]
  },
  {
   "cell_type": "markdown",
   "id": "12dbab92",
   "metadata": {
    "cell_style": "center",
    "slideshow": {
     "slide_type": "slide"
    }
   },
   "source": [
    "## Exercise 4\n",
    "**Events that are not mutually exclusive**\n",
    "\n",
    "A die is rolled two times. What is the probability of a 1 on the first roll **OR** a number greater than 4 on the second roll?"
   ]
  },
  {
   "cell_type": "markdown",
   "id": "4adf3176",
   "metadata": {
    "cell_style": "split",
    "slideshow": {
     "slide_type": "fragment"
    }
   },
   "source": [
    "It is possible to compute the probability through the addition rule in the case of not mutually exclusive events:\n",
    "\n",
    "$$p\\left(A \\cup B \\right) = p\\left(A\\right) + p\\left(B\\right) - p\\left(A \\cap B \\right)$$\n",
    "\n",
    "$$p\\left(A\\right) = \\frac{6}{36} \\text{ ; } p\\left(B\\right) = \\frac{12}{36} \\text{ ; } p\\left(A \\cap B\\right) = \\frac{2}{36}$$\n",
    "\n",
    "$$p\\left(A \\cup B \\right) = \\frac{16}{36}$$"
   ]
  },
  {
   "cell_type": "markdown",
   "id": "bf1a3139",
   "metadata": {
    "cell_style": "split",
    "slideshow": {
     "slide_type": "fragment"
    }
   },
   "source": [
    "\n",
    "<center><img src=https://miro.medium.com/max/939/1*BgZcoMvx9g_ZPUtM0SjrDA.png width=700 height=500 /><center>"
   ]
  },
  {
   "cell_type": "markdown",
   "id": "53075f61",
   "metadata": {
    "cell_style": "center",
    "slideshow": {
     "slide_type": "subslide"
    }
   },
   "source": [
    "Otherwise, we can obtain them as:"
   ]
  },
  {
   "cell_type": "code",
   "execution_count": null,
   "id": "d8bea23e",
   "metadata": {
    "cell_style": "split",
    "slideshow": {
     "slide_type": "fragment"
    }
   },
   "outputs": [],
   "source": [
    "outcomes = []\n",
    "for i in range(1,7):      # roll of the first die\n",
    "    for j in range(1,7):  # roll of the secon die\n",
    "        outcomes.append([i,j]) # store the present outcomes\n",
    "\n",
    "# now, transform the list in a numpy array\n",
    "outcomes = np.vstack(outcomes) \n",
    "print(outcomes)"
   ]
  },
  {
   "cell_type": "code",
   "execution_count": null,
   "id": "462bf14a",
   "metadata": {
    "cell_style": "split",
    "slideshow": {
     "slide_type": "fragment"
    }
   },
   "outputs": [],
   "source": [
    "N = outcomes.shape[0]\n",
    "print(f\"Total number of outcomes: {N}\")\n",
    "n_AB = np.sum((outcomes[:,0]==1) | (outcomes[:,1]>4))\n",
    "print(f\"Number of favourable outcomes: {n_AB}\")\n",
    "p = n_AB/N ; print(f\"Probability: {p:.2f}\")\n",
    "\n",
    "# the result is different considering the two\n",
    "# events separately\n",
    "n_A = np.sum((outcomes[:,0]==1))\n",
    "n_B = np.sum((outcomes[:,0]>4))\n",
    "print(f\"Favourable outcomes considering separated events: {n_A+n_B}\")"
   ]
  },
  {
   "cell_type": "markdown",
   "id": "cb315054",
   "metadata": {
    "slideshow": {
     "slide_type": "slide"
    }
   },
   "source": [
    "## Exercise 5\n",
    "**Events that are not independent**\n",
    "\n",
    "What is the probability of getting a card of clubs, a card of diamonds, and a card of clubs in three consecutive extractions? how does this probability change if after each extraction the card is put again into the deck?\n",
    "\n",
    "<div class=\"alert alert-info\"> <b>Hint</b>: Remember the definition of conditional probability!</div>\n",
    "\n",
    "***Try to do it by yourself first!***"
   ]
  },
  {
   "cell_type": "markdown",
   "id": "ff0f88b3",
   "metadata": {
    "slideshow": {
     "slide_type": "subslide"
    }
   },
   "source": [
    "### Solution"
   ]
  },
  {
   "cell_type": "markdown",
   "id": "cf770e23",
   "metadata": {},
   "source": [
    "Let us first consider the case of extraction without replacement. The probability of getting a card of clubs in the first extraction is $$p(C)=\\frac{13}{52}$$\n",
    "The probability of getting a diamond in the second extraction is $$p(D|C)=\\frac{13}{51}$$\n",
    "The probability of getting a club in the third extraction is $$p(C|D,C)=\\frac{12}{50}$$\n",
    "\n",
    "The probability of the composite event is\n",
    "$$p(C,D,C)=p(C)\\bullet p(D|C) \\bullet p(C|D,C) = \\frac{13}{52} \\bullet \\frac{13}{51} \\bullet \\frac{12}{50} = 0.0153$$"
   ]
  },
  {
   "cell_type": "markdown",
   "id": "0ce24bc6",
   "metadata": {},
   "source": [
    "Now, if the cards are put again into the deck, the extractions become independent and with same probability. Thus,\n",
    "$$p(C,D,C)=p(C)^3 = \\left(\\frac{13}{52}\\right)^3 = 0.0156$$\n",
    "\n",
    "Which corresponds to an increase of 2.16%"
   ]
  },
  {
   "cell_type": "markdown",
   "id": "0381635f",
   "metadata": {
    "slideshow": {
     "slide_type": "slide"
    }
   },
   "source": [
    "## Exercise 6\n",
    "A die is rolled 3 times. What is the probability that either of this events are happening:\n",
    "- a 2 is obtained in the first roll\n",
    "- a 6 is obtained in the second roll\n",
    "- a 5 is obtained in the third\n",
    "\n",
    "<div class=\"alert alert-info\"> <b>Hint</b>: When computing the probability of the union of two or more events, make sure you are treating the insersection of the events in the right way!</div>\n",
    "\n",
    "***Try to do it by yourself first!***"
   ]
  },
  {
   "cell_type": "markdown",
   "id": "670107c5",
   "metadata": {
    "slideshow": {
     "slide_type": "subslide"
    }
   },
   "source": [
    "### Solution"
   ]
  },
  {
   "cell_type": "markdown",
   "id": "63b77eda",
   "metadata": {
    "slideshow": {
     "slide_type": "fragment"
    }
   },
   "source": [
    "In this case, we have to consider the union of three events that are NOT mutually exclusive. Therefore, we have to apply the formula general addition rule\n",
    "\n",
    "$$p(A \\cup B \\cup C)=p(A) + p(B) + p(C) - p(A \\cap B)- p(A \\cap C) - p(B \\cap C) + p(A \\cap B \\cap C)$$\n",
    "\n",
    "<center><img src=https://i.pinimg.com/originals/89/a1/17/89a1177e7e1f988eb92878d39c95175e.png width=500 height=500 /><center>"
   ]
  },
  {
   "cell_type": "code",
   "execution_count": null,
   "id": "d9d02f7b",
   "metadata": {
    "slideshow": {
     "slide_type": "subslide"
    }
   },
   "outputs": [],
   "source": [
    "# Create a matrix containing all the possible outcomes of the three rolls of the dice\n",
    "# This is the same as we have done before, but in a more compact form using list comprehension\n",
    "tot_out = np.array([x for x in product(np.arange(1,7),np.arange(1,7),np.arange(1,7))])\n",
    "\n",
    "# compute the single probabilities\n",
    "p_A = np.sum(tot_out[:,0]==2)/tot_out.shape[0]\n",
    "p_B = np.sum(tot_out[:,1]==6)/tot_out.shape[0]\n",
    "p_C = np.sum(tot_out[:,2]==5)/tot_out.shape[0]\n",
    "p_A_B = np.sum((tot_out[:,0]==2)&(tot_out[:,1]==6))/tot_out.shape[0]\n",
    "p_A_C = np.sum((tot_out[:,0]==2)&(tot_out[:,2]==5))/tot_out.shape[0]\n",
    "p_B_C = np.sum((tot_out[:,2]==5)&(tot_out[:,1]==6))/tot_out.shape[0]\n",
    "p_A_B_C = np.sum((tot_out[:,0]==2)&(tot_out[:,1]==6)&(tot_out[:,2]==5))/tot_out.shape[0]\n",
    "\n",
    "# now apply the formula\n",
    "p = p_A + p_B + p_C - p_A_B - p_A_B - p_B_C + p_A_B_C\n",
    "print(f\"The probability is {100*p:.2f} %\")\n",
    "\n",
    "# We can check if the formula gives the same result as counting the favourable events\n",
    "p2 = np.sum((tot_out[:,0]==2)|(tot_out[:,1]==6)|(tot_out[:,2]==5))/tot_out.shape[0]\n",
    "print(f\"Are the two probabilities the same? {p==p2}\")"
   ]
  },
  {
   "cell_type": "markdown",
   "id": "fd67c476",
   "metadata": {
    "slideshow": {
     "slide_type": "slide"
    }
   },
   "source": [
    "# Combinatorics"
   ]
  },
  {
   "cell_type": "markdown",
   "id": "e5d3923d",
   "metadata": {
    "slideshow": {
     "slide_type": "fragment"
    }
   },
   "source": [
    "## Exercise 7\n",
    "**Permutations and Combinations**\n",
    "\n",
    "You have a set of 10 marbles. Compute:\n",
    "1. the number of permutations of the marbles, if they are all different;\n",
    "2. the number of permutations of the marbles, if 3 of them are blue, 4 are green, and 3 are red;\n",
    "3. the possible number of subsets composed by 6 marbles, considering them all different and ignoring their order."
   ]
  },
  {
   "cell_type": "markdown",
   "id": "db0bdd9e",
   "metadata": {
    "cell_style": "split",
    "slideshow": {
     "slide_type": "subslide"
    }
   },
   "source": [
    "In the case of **different marbles**, the number of possible permutations is given by the factorial:\n",
    "\n",
    "$$N = 10! = 10 \\bullet 9 \\bullet 8 \\bullet ... \\bullet 2 \\bullet 1 = 3628800$$"
   ]
  },
  {
   "cell_type": "markdown",
   "id": "e2f1602e",
   "metadata": {
    "cell_style": "split",
    "slideshow": {
     "slide_type": "fragment"
    }
   },
   "source": [
    "In the case of equal marbles, we have to take into account the repetitions. If there are $n$ element with $k$ repetitions, the total number of permutations is:\n",
    "\n",
    "$$N = \\frac{n!}{k!} $$\n",
    "\n",
    "Therefore:\n",
    "\n",
    "$$N = \\frac{10!}{3! 4! 3!} = 4200$$"
   ]
  },
  {
   "cell_type": "markdown",
   "id": "3635cc14",
   "metadata": {
    "slideshow": {
     "slide_type": "subslide"
    }
   },
   "source": [
    "If we want to compute the possible number of subusets composed of 6 marbles, ignoring their order and considering that the marbles are all different, we should compute the binomial coefficient.\n",
    "\n",
    "The binomial coefficient ${n \\choose k}$ is usually read as *n choose k* because there are ${n \\choose k}$ ways to choose an (unordered) subset of $k$ elements from a fixed set of $n$ elements.\n",
    "\n",
    "$${n \\choose k} = \\frac{n!}{k! (n-k)!}$$\n",
    "\n",
    "In our case:\n",
    "\n",
    "$$N = {10 \\choose 6} = \\frac{10!}{6! 4!} = 210$$"
   ]
  },
  {
   "cell_type": "markdown",
   "id": "3820db4e",
   "metadata": {
    "slideshow": {
     "slide_type": "subslide"
    }
   },
   "source": [
    "## Exercise 8\n",
    "**Combinatorics and Probability**\n",
    "\n",
    "A system is composed by 15 particles of type A and 5 particles of type B that can be organized in a total of 23 sites. Considering the particles of the same type as indistinguishable, how many arrangements are possible? If the total number of sites is 20 or 26, how does the number of combination changes?"
   ]
  },
  {
   "cell_type": "markdown",
   "id": "da569f0f",
   "metadata": {
    "slideshow": {
     "slide_type": "subslide"
    }
   },
   "source": [
    "We can solve this problem considering a number of objects equal to the number of sites and three type of objects:\n",
    "$$n_A = 15; n_B = 5; n_E = n_S - n_A - n_B $$\n",
    "where $n_S$ is the number of sites"
   ]
  },
  {
   "cell_type": "code",
   "execution_count": null,
   "id": "c673106d",
   "metadata": {
    "cell_style": "split",
    "slideshow": {
     "slide_type": "fragment"
    }
   },
   "outputs": [],
   "source": [
    "# define the number of sites\n",
    "nA, nB, nS = 15,5,23\n",
    "nE = nS-nA-nB\n",
    "\n",
    "# create a list containing the objects to look at 4 examples\n",
    "seq = list('A'*nA + 'B'*nB + '_'*nE)\n",
    "for i in range(4):\n",
    "    # pemutation of the objects in the list\n",
    "    shuffle(seq)   \n",
    "    print(''.join(seq)+'\\n')"
   ]
  },
  {
   "cell_type": "markdown",
   "id": "06fecab7",
   "metadata": {
    "cell_style": "split"
   },
   "source": [
    "The `string.join()` method accepts a list as input. When it is applied to a string, the string is used to join the elements of the list and create a string.\n",
    "\n",
    "Calling `''.join(list)` means joining the element of the list without spaces."
   ]
  },
  {
   "cell_type": "code",
   "execution_count": null,
   "id": "415bac9a",
   "metadata": {
    "cell_style": "split",
    "slideshow": {
     "slide_type": "subslide"
    }
   },
   "outputs": [],
   "source": [
    "for nS in [23,20,26]:\n",
    "    nE = nS-nA-nB\n",
    "    N = factorial(nS)/(factorial(nA)* \\\n",
    "                       factorial(nB)*factorial(nE))\n",
    "    print(f\"{nS} sites: {N:.0f} arrangements\\n\")"
   ]
  },
  {
   "cell_type": "code",
   "execution_count": null,
   "id": "49247eea",
   "metadata": {
    "cell_style": "split",
    "code_folding": [],
    "slideshow": {
     "slide_type": "fragment"
    }
   },
   "outputs": [],
   "source": [
    "nS = np.arange(20,41,dtype=int)\n",
    "N = list()\n",
    "for n in nS:\n",
    "    N.append(factorial(n)/(factorial(nA)* \\\n",
    "                           factorial(nB)* \\\n",
    "                           factorial(n-nA-nB)))\n",
    "N = np.array(N)\n",
    "fig,ax = plt.subplots(figsize=(10,6))\n",
    "ax.plot(nS,N,color='k')\n",
    "ax.set_xlim(nS[0]-1,nS[-1])\n",
    "ax.set_ylim(bottom=0); ax.set_xlabel(r\"$n_S$\")\n",
    "ax.set_ylabel('# combinations')\n",
    "plt.tight_layout()"
   ]
  },
  {
   "cell_type": "markdown",
   "id": "d56413af",
   "metadata": {
    "slideshow": {
     "slide_type": "slide"
    }
   },
   "source": [
    "## Exercise 9\n",
    "**Combinatorics and Probability**\n",
    "\n",
    "A test contains 10 questions, each one with available four different answers, among which just one is correct. To pass the test at least 5 questions must be answered correctly. What is the probability that completely unprepared student will pass the test?\n",
    "\n",
    "<div class=\"alert alert-info\"> <b>Hint</b>: When computing the grade, each question can have only two possible outcomes, correct (1) or wrong (0). Moreover, the answers of two different questions are independent.</div>\n",
    "\n",
    "***Try to do it by yourself first!***"
   ]
  },
  {
   "cell_type": "markdown",
   "id": "62afb90e",
   "metadata": {
    "slideshow": {
     "slide_type": "subslide"
    }
   },
   "source": [
    "### Solution"
   ]
  },
  {
   "cell_type": "markdown",
   "id": "17a4a8ff",
   "metadata": {},
   "source": [
    "Let us consider the test as one event. The probability for the student to pass the test with a score of 5 is\n",
    "$$p = {10 \\choose 5} p_{correct}^5 \\bullet p_{wrong}^5$$\n",
    "Where the multiplication factor takes into account that the order of answers has no effect on the final grade.\n",
    "\n",
    "The probability for the student to pass the test with a score of 6 is\n",
    "$$p = {10 \\choose 6} p_{correct}^6 \\bullet p_{wrong}^4$$\n",
    "and so on...\n",
    "\n",
    "Since the test outcomes are mutually exclusive, the total probability is the sum of the individual ones."
   ]
  },
  {
   "cell_type": "code",
   "execution_count": null,
   "id": "9d06177f",
   "metadata": {},
   "outputs": [],
   "source": [
    "pq = 1/4\n",
    "p = 0\n",
    "for i in range(5,11):\n",
    "    p += factorial(10)/(factorial(i)*factorial(10-i))*(pq**(i))*((1-pq)**(10-i))\n",
    "print(f\"The probability is {100*p:.2f} %\")"
   ]
  },
  {
   "cell_type": "markdown",
   "id": "0b490f1a",
   "metadata": {
    "slideshow": {
     "slide_type": "slide"
    }
   },
   "source": [
    "# Probability Distributions"
   ]
  },
  {
   "cell_type": "markdown",
   "id": "28a93c89",
   "metadata": {
    "slideshow": {
     "slide_type": "subslide"
    }
   },
   "source": [
    "## Exercise 10\n",
    "**Computing the probability from a distribution**\n",
    "\n",
    "The water molecule is characterized by an average angle of 104.5° and standard deviation of 5°. What is the probability for a water molecule of having an angle between 90° and 100°? "
   ]
  },
  {
   "cell_type": "markdown",
   "id": "99fc4c4e",
   "metadata": {
    "slideshow": {
     "slide_type": "fragment"
    }
   },
   "source": [
    "The probability can be derived from the probability density function as:\n",
    "$$P(a,b)=\\int_a^b \\! p(x) \\, \\mathrm{d}x$$\n",
    "\n",
    "where here we assume the probability density to a gaussian with mean $\\mu$ and variance $\\sigma^2$:\n",
    "$$p(x)=\\frac{1}{\\sqrt{2\\pi}}e^{-\\left(x-\\mu\\right)^2/2\\sigma^2}$$"
   ]
  },
  {
   "cell_type": "code",
   "execution_count": null,
   "id": "f07380aa",
   "metadata": {
    "slideshow": {
     "slide_type": "subslide"
    }
   },
   "outputs": [],
   "source": [
    "x = np.linspace(80,130,500)       # create the x points where the function will be evaluated\n",
    "y = stats.norm.pdf(x, 104.5, 5)   # values of a normal distribution of mean 104.5 and standard deviation 5\n",
    "i = (x>=90) & (x<=100)            # indices of points we are interested in\n",
    "fig,ax = plt.subplots(figsize=(8,4.5))\n",
    "ax.plot(x,y,color='k')\n",
    "ax.fill_between(x[i],0,y[i],color='r',alpha=.5)\n",
    "ax.set_xlim(80,130)\n",
    "ax.set_ylim(bottom=0); ax.set_xlabel(r\"Angle (°)\")\n",
    "ax.set_ylabel('Density')\n",
    "plt.tight_layout()\n",
    "plt.show()\n",
    "\n",
    "p = np.trapz(y[i],x[i])   # this function is the equivalent of the integration, but for the discrete case\n",
    "print(f\"Probability: {p:.2f}\")"
   ]
  },
  {
   "cell_type": "markdown",
   "id": "c5d6a5c5",
   "metadata": {
    "slideshow": {
     "slide_type": "slide"
    }
   },
   "source": [
    "## Exercise 11\n",
    "\n",
    "Consider the Boltzmann distribution:\n",
    "$$ p(x) = \\frac{1}{\\beta} e^{-x/\\beta}$$\n",
    "\n",
    "- If $\\beta=10$, what is the ratio between the probability of 10 and 20?\n",
    "- Consider the same ratio with $\\beta=5$ and $\\beta=20$. How does it change?\n",
    "- Plot the Boltzmann distribution at the three values of $\\beta$. Which difference do you notice? if $\\beta \\propto T$, where $T$ is the temperature, and $x$ is the energy of a particle when it is in a certain position, what can you deduce from the plot of the distributions?\n",
    "\n",
    "***Try to do it by yourself first!***"
   ]
  },
  {
   "cell_type": "markdown",
   "id": "20df2c9f",
   "metadata": {
    "slideshow": {
     "slide_type": "subslide"
    }
   },
   "source": [
    "### Solution"
   ]
  },
  {
   "cell_type": "code",
   "execution_count": null,
   "id": "f054821d",
   "metadata": {
    "cell_style": "center",
    "scrolled": true,
    "slideshow": {
     "slide_type": "fragment"
    }
   },
   "outputs": [],
   "source": [
    "beta = 10\n",
    "p1 = np.exp(-10/beta)/beta\n",
    "p2 = np.exp(-20/beta)/beta\n",
    "print(f\"{p1/p2:.2f}\")"
   ]
  },
  {
   "cell_type": "code",
   "execution_count": null,
   "id": "9a5382b5",
   "metadata": {
    "cell_style": "split",
    "scrolled": true,
    "slideshow": {
     "slide_type": "fragment"
    }
   },
   "outputs": [],
   "source": [
    "for beta in [5,10,20]:\n",
    "    p1 = np.exp(-10/beta)/beta\n",
    "    p2 = np.exp(-20/beta)/beta\n",
    "    print(f\"At beta = {beta}:\\t{p1/p2:.2f}\")"
   ]
  },
  {
   "cell_type": "markdown",
   "id": "8daedfb7",
   "metadata": {
    "cell_style": "split",
    "slideshow": {
     "slide_type": "fragment"
    }
   },
   "source": [
    "As could be expected by the Boltzmann distribution, probabilities at low $x$ values are greater than at higher values. Increasing the parameter $\\beta$, such difference is reduced, i.e., the different $x$ values becomes more and more equiprobable and, in the limit $\\beta \\rightarrow \\infty$ the distribution becomes flat."
   ]
  },
  {
   "cell_type": "code",
   "execution_count": null,
   "id": "2293ae13",
   "metadata": {
    "cell_style": "split",
    "slideshow": {
     "slide_type": "subslide"
    }
   },
   "outputs": [],
   "source": [
    "x2 = 50\n",
    "# create a set of 100 equidistant points between 0.01 and x2\n",
    "x = np.linspace(0.01,x2,100)\n",
    "fig,ax = plt.subplots(figsize=(10,6))\n",
    "for beta in [5,10,20]:\n",
    "    y = np.exp(-x/beta)/beta\n",
    "    ax.plot(x,y,label=fr\"$\\beta$={beta}\")\n",
    "ax.set_xlim(0,x2)\n",
    "ax.set_ylim(bottom=0); ax.set_xlabel(r\"$x$\")\n",
    "ax.set_ylabel(r'$P(x)$')\n",
    "ax.legend()\n",
    "plt.tight_layout()\n",
    "plt.show()\n"
   ]
  },
  {
   "cell_type": "markdown",
   "id": "9bee4ea2",
   "metadata": {
    "cell_style": "split",
    "slideshow": {
     "slide_type": "fragment"
    }
   },
   "source": [
    "The steepness of the curve at low $x$ increases while decreasing $\\beta$, and at the same time higher probabilities are reached. At higher $\\beta$, the distribution beacomes more and more flat.\n",
    "\n",
    "<div class=\"alert alert-success\">Considerig the case in which $\\beta \\propto T$, and $x$ is the energy of a particle when it is in a certain position, the Boltzmann distribution describes a situation where positions of the particle corresponing to a lower energy are more favoured in general. However, increasing the temperature, positions at higher energy becomes more probable. In the limit $T \\rightarrow \\infty$, all positions have the same probability</div>\n"
   ]
  },
  {
   "cell_type": "markdown",
   "id": "a3ab783b",
   "metadata": {
    "slideshow": {
     "slide_type": "slide"
    }
   },
   "source": [
    "## Exercise 12\n",
    "**Advanced Exercise**\n",
    "\n",
    "In the folder *data* there is a file named *samples.txt* containing 500 samples obtained from the distribution of two variables, $x$ and $y$. Read the samples from the file into two variables using numpy built-in function, then\n",
    "1. plot the an histogram of the two distribution using matplotlib built-in funcion **plt.hist**\n",
    "2. plot a scatter plot of the samples with matplotlib built-in funcion **plt.scatter**. Is there a correlation between the two variables?\n",
    "3. estimate the mean and variance of the variable x.\n",
    "4. supposing that x follows a gaussian distribution with the estimated mean and variance, compute the probability that x is greater than 11. Basing on the histogram of x plotted before, is the assumption of gaussian distribution reasonable?\n",
    "\n",
    "***Complete the missing parts of the following code***\n",
    "\n",
    "\n",
    "<div class=\"alert alert-danger\"> <b>Hint</b>: This exercise may contain functions and pieces of code that might be useful for the project!</div>\n"
   ]
  },
  {
   "cell_type": "code",
   "execution_count": null,
   "id": "9ed1e9b7",
   "metadata": {
    "slideshow": {
     "slide_type": "subslide"
    }
   },
   "outputs": [],
   "source": [
    "# Read the data from the file\n",
    "# With this function, each variable is a column of a matrix\n",
    "data = np.loadtxt('data/samples.txt',comments='#')\n",
    "\n",
    "# plot the histograms\n",
    "fig = plt.figure(figsize=(8,4))\n",
    "ax1 = fig.add_subplot(121)\n",
    "ax1.hist(data[:,0])\n",
    "ax1.set_ylabel('Count')\n",
    "ax1.set_xlabel('x')\n",
    "ax2 = fig.add_subplot(122)\n",
    "ax2.hist(data[:,1])\n",
    "ax2.set_ylabel('Count')\n",
    "ax2.set_xlabel('y')\n",
    "plt.tight_layout()"
   ]
  },
  {
   "cell_type": "code",
   "execution_count": null,
   "id": "c505f480",
   "metadata": {
    "cell_style": "split",
    "slideshow": {
     "slide_type": "subslide"
    }
   },
   "outputs": [],
   "source": [
    "# scatter plot of the two variables\n",
    "# the scatter plot function accepts separately the\n",
    "# x and y data\n",
    "fig,ax = plt.subplots(figsize=(5,5))\n",
    "ax.scatter(data[:,0],data[:,1],15)\n",
    "ax.set_xlabel('x'); ax.set_ylabel('y')\n",
    "plt.tight_layout()"
   ]
  },
  {
   "cell_type": "markdown",
   "id": "e752f01b",
   "metadata": {
    "cell_style": "split",
    "slideshow": {
     "slide_type": "fragment"
    }
   },
   "source": [
    "From the scatter plot, we can observe that the two variables x and y seems to be positively correlated. Tow quantify the linear correlation we can compute the correlation coefficient between them.\n",
    "\n",
    "The correlation coefficient is computed with the following formula:\n",
    "\n",
    "\n",
    "$$r=\\frac{\\sum{(x-x_m)(y-y_m)}}{\\sqrt{\\sigma_{x}^2 \\sigma_{y}^2}}$$"
   ]
  },
  {
   "cell_type": "code",
   "execution_count": null,
   "id": "470f7bd8",
   "metadata": {
    "cell_style": "split",
    "slideshow": {
     "slide_type": "fragment"
    }
   },
   "outputs": [],
   "source": [
    "# this function to compute the correlation accepts\n",
    "# separately the x and y data\n",
    "r,_ = stats.pearsonr(data[:,0],data[:,1])\n",
    "print(f'Correlation Coefficient: {r:.2f}')"
   ]
  },
  {
   "cell_type": "code",
   "execution_count": null,
   "id": "8a023562",
   "metadata": {
    "cell_style": "split",
    "scrolled": true,
    "slideshow": {
     "slide_type": "subslide"
    }
   },
   "outputs": [],
   "source": [
    "# since the data is stored in a numpy array, the mean and variance can be easily computed with the built-in functions\n",
    "x_m, y_m = data.mean(axis=0)\n",
    "x_v, y_v = data.var(axis=0)\n",
    "print(f\"x: mean = {x_m:.2f}; variance = {x_v:.2f}\\n\")\n",
    "print(f\"y: mean = {y_m:.2f}; variance = {y_v:.2f}\")"
   ]
  },
  {
   "cell_type": "markdown",
   "id": "20152bfb",
   "metadata": {
    "cell_style": "split",
    "slideshow": {
     "slide_type": "-"
    }
   },
   "source": [
    "***Remember:***\n",
    "\n",
    "In a numpy array with two dimensions, the axis 0 is the column and the axis 1 is the row.\n",
    "\n",
    "Many numpy functions can be applied along a direction, that can be specified with the option \"axis\"."
   ]
  },
  {
   "cell_type": "code",
   "execution_count": null,
   "id": "caa2c42e",
   "metadata": {
    "slideshow": {
     "slide_type": "subslide"
    }
   },
   "outputs": [],
   "source": [
    "# Compute the probability as for Exercise 8\n",
    "x_sd = np.sqrt(x_v)\n",
    "xx = np.linspace(x_m-2*x_sd,x_m+2*x_sd,500)\n",
    "yy = stats.norm.pdf(xx, x_m,x_sd)\n",
    "i = (xx>=11)\n",
    "fig,ax = plt.subplots(figsize=(8,4.5))\n",
    "ax.plot(xx,yy,color='k')\n",
    "ax.fill_between(xx[i],0,yy[i],color='r',alpha=.5)\n",
    "ax.set_xlim(x_m-2.5*x_sd,x_m+2.5*x_sd)\n",
    "ax.set_ylim(bottom=0); ax.set_xlabel(r\"s\"); ax.set_ylabel('Density')\n",
    "plt.tight_layout(); plt.show()\n",
    "\n",
    "p = np.trapz(yy[i],xx[i])\n",
    "print(f\"Probability: {p:.2f}\")"
   ]
  }
 ],
 "metadata": {
  "celltoolbar": "Slideshow",
  "collapsed": false,
  "kernelspec": {
   "display_name": "Python 3 (ipykernel)",
   "language": "python",
   "name": "python3"
  },
  "language_info": {
   "codemirror_mode": {
    "name": "ipython",
    "version": 3
   },
   "file_extension": ".py",
   "mimetype": "text/x-python",
   "name": "python",
   "nbconvert_exporter": "python",
   "pygments_lexer": "ipython3",
   "version": "3.9.13"
  },
  "toc": {
   "base_numbering": 1,
   "nav_menu": {
    "height": "328px",
    "width": "324px"
   },
   "number_sections": false,
   "sideBar": true,
   "skip_h1_title": false,
   "title_cell": "Table of Contents",
   "title_sidebar": "Contents",
   "toc_cell": false,
   "toc_position": {},
   "toc_section_display": true,
   "toc_window_display": false
  },
  "vscode": {
   "interpreter": {
    "hash": "916dbcbb3f70747c44a77c7bcd40155683ae19c65e1c03b4aa3499c5328201f1"
   }
  }
 },
 "nbformat": 4,
 "nbformat_minor": 5
}
