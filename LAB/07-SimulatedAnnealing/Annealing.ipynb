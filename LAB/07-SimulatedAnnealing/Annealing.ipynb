{
 "cells": [
  {
   "cell_type": "markdown",
   "metadata": {
    "heading_collapsed": true,
    "slideshow": {
     "slide_type": "slide"
    }
   },
   "source": [
    "# Laboratorio 7\n",
    "**Simulated Annealing using GROMACS**\n",
    "\n",
    "\n",
    "Authors:\n",
    "    \n",
    "- Prof. Marco A. Deriu (marco.deriu@polito.it)\n",
    "- Lorenzo Pallante (lorenzo.pallante@polito.it)\n",
    "- Eric A. Zizzi (eric.zizzi@polito.it)\n",
    "- Marcello Miceli (marcello.miceli@polito.it)\n",
    "- Marco Cannariato (marco.cannariato@polito.it)"
   ]
  },
  {
   "cell_type": "markdown",
   "metadata": {
    "slideshow": {
     "slide_type": "slide"
    }
   },
   "source": [
    "# Table of Contents\n",
    "\n",
    "1. Introduction to Simulated Annealing \n",
    "2. Setting up the simulation\n",
    "3. Simulation\n",
    "4. Data Analysis and comments\n",
    "\n",
    "**Learning outcomes:** \n",
    "- familiarizing with the SA techniques\n",
    "- awareness of SA strengths and weaknesses\n",
    "- GROMACS:\n",
    "    - create an mdp file for SA\n",
    "    - setting up the simulation using GROMACS\n",
    "    - performing and analyzing the simulation"
   ]
  },
  {
   "cell_type": "code",
   "execution_count": null,
   "metadata": {
    "slideshow": {
     "slide_type": "subslide"
    }
   },
   "outputs": [],
   "source": [
    "from notebook.services.config import ConfigManager\n",
    "cm = ConfigManager().update('notebook', {'limit_output': 100000000})"
   ]
  },
  {
   "cell_type": "code",
   "execution_count": null,
   "metadata": {
    "slideshow": {
     "slide_type": "-"
    }
   },
   "outputs": [],
   "source": [
    "# Some of the output files have been already generated to save time during the lab. If you want to download them from the relative google drive folder, you need to install gdown.\n",
    "# Please install version 4.6 (version 4.7 resulted in some errors)\n",
    "!pip install gdown==4.6"
   ]
  },
  {
   "cell_type": "code",
   "execution_count": null,
   "metadata": {
    "scrolled": true,
    "slideshow": {
     "slide_type": "skip"
    }
   },
   "outputs": [],
   "source": [
    "# IF YOU ARE USING COLAB EXECUTE THE FOLLOWING CELLS (to copy over data repository, install and enable the necessary packages)\n",
    "!git clone https://github.com/lorenzopallante/BiomeccanicaMultiscala.git\n",
    "!mv BiomeccanicaMultiscala/LAB/07-SimulatedAnnealing/* ."
   ]
  },
  {
   "cell_type": "code",
   "execution_count": null,
   "metadata": {
    "slideshow": {
     "slide_type": "skip"
    }
   },
   "outputs": [],
   "source": [
    "!pip install nglview &> /dev/null\n",
    "!pip install simpletraj &> /dev/null\n",
    "!apt install ghostscript &> /dev/null\n",
    "!pip install mdanalysis &> /dev/null\n",
    "from google.colab import output\n",
    "output.enable_custom_widget_manager()"
   ]
  },
  {
   "cell_type": "code",
   "execution_count": null,
   "metadata": {
    "slideshow": {
     "slide_type": "skip"
    }
   },
   "outputs": [],
   "source": [
    "#@title Installing DSSP\n",
    "!apt install dssp &> /dev/null\n",
    "!ln -s /usr/bin/dssp /usr/local/bin/dssp\n",
    "\n",
    "# if this will not work (due to some incompatibilities between GROMACS and the version of DSSP), read the relative thread on Discord!"
   ]
  },
  {
   "cell_type": "code",
   "execution_count": null,
   "metadata": {
    "slideshow": {
     "slide_type": "skip"
    }
   },
   "outputs": [],
   "source": [
    "#@title Installing GROMACS\n",
    "!apt install gromacs &> /dev/null"
   ]
  },
  {
   "cell_type": "markdown",
   "metadata": {
    "slideshow": {
     "slide_type": "slide"
    }
   },
   "source": [
    "# Introduction to Simulated Annealing"
   ]
  },
  {
   "cell_type": "markdown",
   "metadata": {
    "slideshow": {
     "slide_type": "subslide"
    }
   },
   "source": [
    "First of all, what does the term **\"annealing\"** refer to?<br>\n",
    "Annealing is the process in which the temperature of a molten substance is slowly reduced until the material crystallises to give a large single crystal. This process is widely used in many areas of manufacture, and a key feature of annealing is the use of very careful temperature control at the liquid-solid phase transition. <u>The perfect crystal that is eventually obtained corresponds to the global minimum of the free energy</u>.<br>\n",
    "Simulated annealing is **a computational method that mimics this process in order to find the 'optimal' or 'best' solutions** to problems which have a large number of possible solutions [Kirkpatrick et al. 1983]."
   ]
  },
  {
   "cell_type": "markdown",
   "metadata": {
    "slideshow": {
     "slide_type": "subslide"
    }
   },
   "source": [
    "In simulated annealing, a cost function takes the role of the free energy in physical annealing and a control parameter corresponds to the temperature. To use simulated annealing in conformational analysis the cost function would be the internal energy. <u>At a given temperature the system is allowed to reach 'thermal equilibrium' using a molecular dynamics simulation</u>:\n",
    "* At high temperatures, the systern is able to occupy high-energy regions of conformational space and to pass over high energy barriers\n",
    "* At lower temperatures, the lower energy states becomes more probable in accordance with the Boltzmann distribution.\n",
    "* At absolute zero, the system should occupy the lowest-energy state (i.e. the global minimum energy conformation). "
   ]
  },
  {
   "cell_type": "markdown",
   "metadata": {
    "slideshow": {
     "slide_type": "-"
    }
   },
   "source": [
    "<img src=\"imgs/simulated_annealing2.png\" width=\"1500\" align=\"center\">"
   ]
  },
  {
   "cell_type": "markdown",
   "metadata": {
    "slideshow": {
     "slide_type": "subslide"
    }
   },
   "source": [
    "To guarantee that the globally optimal solution is actually reached would require an <u>infinite number of temperature steps</u>, at each of which the system would have to come to thermal equilibrium. Careful temperature control is required when the energy of the system is comparable with the height of the barriers that separate one region of conformational space from another. \n",
    "\n",
    "This is often difficult to achieve in practice and so simulated annealing cannot guarantee to find the global minimum, much as a genetic algorithm cannot guarantee to identify the globally optimal solution. However, if the same answer is obtained from several different runs then there is a high probability that it corresponds to the true global minimum. Several simulated annealing runs may enable a series of low-energy conformations of a molecule to be obtained."
   ]
  },
  {
   "cell_type": "markdown",
   "metadata": {
    "slideshow": {
     "slide_type": "slide"
    }
   },
   "source": [
    "## Setting up the simulation"
   ]
  },
  {
   "cell_type": "markdown",
   "metadata": {
    "slideshow": {
     "slide_type": "subslide"
    }
   },
   "source": [
    "Let's dive into an example of SA simulation setup using GROMACS.<br>\n",
    "First of all, the general system setup (box configuration, solvation, neutralization, energy minimization, ...) will be exactly the same as we've seen for plain MD simulations, so we won't go into details again."
   ]
  },
  {
   "cell_type": "markdown",
   "metadata": {
    "slideshow": {
     "slide_type": "subslide"
    }
   },
   "source": [
    "Let's just review our MD scheme again and perform the initial steps to obtain a minimized system"
   ]
  },
  {
   "cell_type": "markdown",
   "metadata": {},
   "source": [
    "<img src=\"imgs/MD_FlowChart.png\" width=\"500\" align=\"center\">"
   ]
  },
  {
   "cell_type": "code",
   "execution_count": null,
   "metadata": {
    "slideshow": {
     "slide_type": "subslide"
    }
   },
   "outputs": [],
   "source": [
    "# First, a quick peek at the system using NGLView:\n",
    "import nglview as nv\n",
    "from IPython.display import IFrame\n",
    "# Make sure that the path to penetratin.pdb matches your paths if you're using Colab!\n",
    "with open(\"data/penetratin.pdb\") as f:\n",
    "    view = nv.show_file(f, ext=\"pdb\")\n",
    "view"
   ]
  },
  {
   "cell_type": "code",
   "execution_count": null,
   "metadata": {
    "slideshow": {
     "slide_type": "subslide"
    }
   },
   "outputs": [],
   "source": [
    "# Some subfolders to keep stuff tidy\n",
    "!mkdir -p 00-systemsetup 01-minimization 02-equilibration 03-production 04-annealing"
   ]
  },
  {
   "cell_type": "code",
   "execution_count": null,
   "metadata": {},
   "outputs": [],
   "source": [
    "# Let's create an index file as before:\n",
    "!echo -e \"q \\n\" | gmx make_ndx -f data/penetratin.pdb -o 00-systemsetup/index.ndx > /dev/null 2>&1"
   ]
  },
  {
   "cell_type": "code",
   "execution_count": null,
   "metadata": {},
   "outputs": [],
   "source": [
    "%%bash\n",
    "# Topology generation:\n",
    "cd 00-systemsetup\n",
    "gmx pdb2gmx -f ../data/penetratin.pdb -i penetratin_posre.itp -p penetratin.top -o penetratin.gro -ff amber99sb-ildn  -ignh -heavyh -water tip3p > /dev/null 2>&1\n",
    "cd .."
   ]
  },
  {
   "cell_type": "code",
   "execution_count": null,
   "metadata": {
    "slideshow": {
     "slide_type": "subslide"
    }
   },
   "outputs": [],
   "source": [
    "# Create simulation box:\n",
    "!gmx editconf -f 00-systemsetup/penetratin.gro -o 00-systemsetup/box.gro -c -d 0.8 -bt dodecahedron > /dev/null 2>&1"
   ]
  },
  {
   "cell_type": "code",
   "execution_count": null,
   "metadata": {
    "slideshow": {
     "slide_type": "subslide"
    }
   },
   "outputs": [],
   "source": [
    "# Solvation:\n",
    "!gmx solvate -cp 00-systemsetup/box.gro -cs spc216.gro -o 00-systemsetup/solvated.gro -p 00-systemsetup/penetratin.top > /dev/null 2>&1"
   ]
  },
  {
   "cell_type": "code",
   "execution_count": null,
   "metadata": {
    "slideshow": {
     "slide_type": "subslide"
    }
   },
   "outputs": [],
   "source": [
    "# Quick peek:\n",
    "import nglview as nv\n",
    "with open(\"00-systemsetup/solvated.gro\") as f:\n",
    "    view = nv.show_file(f, ext=\"gro\")\n",
    "view.add_ball_and_stick(selection=\"water\")\n",
    "view.camera = 'orthographic'\n",
    "view"
   ]
  },
  {
   "cell_type": "code",
   "execution_count": null,
   "metadata": {
    "slideshow": {
     "slide_type": "subslide"
    }
   },
   "outputs": [],
   "source": [
    "# Neutralize:\n",
    "!touch 00-systemsetup/dummy.mdp\n",
    "!gmx grompp -f 00-systemsetup/dummy.mdp -c 00-systemsetup/solvated.gro -p 00-systemsetup/penetratin.top -o 00-systemsetup/ions.tpr > /dev/null 2>&1\n",
    "!echo \"SOL\" | gmx genion -s 00-systemsetup/ions.tpr -p 00-systemsetup/penetratin.top -o 00-systemsetup/box_ions.gro -conc 0.15 -neutral > /dev/null 2>&1\n",
    "with open(\"00-systemsetup/box_ions.gro\") as f:\n",
    "    view = nv.show_file(f, ext=\"gro\")\n",
    "view.add_licorice(selection=\"water\")\n",
    "view.add_ball_and_stick(selection=\"NA\",color='blue',aspectRatio='5') \n",
    "view.add_ball_and_stick(selection=\"CL\",color='green',aspectRatio='5')\n",
    "view.camera = 'orthographic'\n",
    "view\n"
   ]
  },
  {
   "cell_type": "markdown",
   "metadata": {
    "slideshow": {
     "slide_type": "slide"
    }
   },
   "source": [
    "### Energy Minimization"
   ]
  },
  {
   "cell_type": "code",
   "execution_count": null,
   "metadata": {
    "slideshow": {
     "slide_type": "subslide"
    }
   },
   "outputs": [],
   "source": [
    "# Energy minimization:\n",
    "!gmx grompp -f data/mdp/em.mdp -p 00-systemsetup/penetratin.top -c 00-systemsetup/box_ions.gro -o 01-minimization/em.tpr  > /dev/null 2>&1\n",
    "!gmx mdrun -s 01-minimization/em.tpr -deffnm 01-minimization/em -v"
   ]
  },
  {
   "cell_type": "markdown",
   "metadata": {
    "slideshow": {
     "slide_type": "slide"
    }
   },
   "source": [
    "### Position-restrained NVT equilibration"
   ]
  },
  {
   "cell_type": "code",
   "execution_count": null,
   "metadata": {
    "slideshow": {
     "slide_type": "subslide"
    }
   },
   "outputs": [],
   "source": [
    "# Initial equilibration: (CAN BE SLOW ON COLB! SEE BELOW!)\n",
    "!gmx grompp -f data/mdp/posre.mdp -c 01-minimization/em.gro -r 01-minimization/em.gro -p 00-systemsetup/penetratin.top -o 02-equilibration/posres.tpr  -maxwarn 2 > 02-equilibration/grompp.log 2>&1\n",
    "!gmx mdrun -s 02-equilibration/posres.tpr -deffnm 02-equilibration/posres -v  > 02-equilibration/mdrun.log 2>&1"
   ]
  },
  {
   "cell_type": "code",
   "execution_count": null,
   "metadata": {
    "slideshow": {
     "slide_type": "subslide"
    }
   },
   "outputs": [],
   "source": [
    "%%bash\n",
    "# NOTE: The cell above (equilibration) might take a substantial amount of time on COLAB. To speed things up for the lesson, you can instead retrieve the \n",
    "# pre-computed trajectory from the repositorgdown --folder https://drive.google.com/drive/folders/1ymVZ2dV2-L3RPu9TNkAVKMVux0xByfip\\?usp\\=share_linky using the following command:\n",
    "gdown --folder https://drive.google.com/drive/folders/1ymVZ2dV2-L3RPu9TNkAVKMVux0xByfip?usp=share_link > /dev/null 2&>1"
   ]
  },
  {
   "cell_type": "markdown",
   "metadata": {
    "slideshow": {
     "slide_type": "slide"
    }
   },
   "source": [
    "### Production plain MD simulation"
   ]
  },
  {
   "cell_type": "code",
   "execution_count": null,
   "metadata": {
    "slideshow": {
     "slide_type": "subslide"
    }
   },
   "outputs": [],
   "source": [
    "# Quick production MD run (CAN BE SLOW ON COLB! SEE BELOW!):\n",
    "!gmx grompp -f data/mdp/md.mdp -c  02-equilibration/posres.gro -p 00-systemsetup/penetratin.top -o 03-production/md.tpr >03-production/grompp.log 2>&1 \n",
    "!gmx mdrun -deffnm 03-production/md -s 03-production/md.tpr -v > 03-production/mdrun.log 2>&1\n",
    "# Fix PBCs:\n",
    "! echo -e \"0 \\n\" | gmx trjconv -s 03-production/md.tpr -f 03-production/md.xtc -pbc mol -ur compact -o 03-production/noPBC.xtc  > /dev/null 2&>1"
   ]
  },
  {
   "cell_type": "code",
   "execution_count": null,
   "metadata": {
    "slideshow": {
     "slide_type": "subslide"
    }
   },
   "outputs": [],
   "source": [
    "%%bash\n",
    "# NOTE: The cell above (md simulation) might take a substantial amount of time on COLAB. To speed things up for the lesson, you can instead retrieve the \n",
    "# pre-computed trajectory from the repository using the following command:\n",
    "gdown --folder https://drive.google.com/drive/folders/1LCB9BbwfldN6JzzVKF7d6s_Ysr1BkvgH?usp=share_link &> /dev/null"
   ]
  },
  {
   "cell_type": "code",
   "execution_count": null,
   "metadata": {
    "slideshow": {
     "slide_type": "subslide"
    }
   },
   "outputs": [],
   "source": [
    "# Let's have a final look:\n",
    "import nglview as nv\n",
    "traj_nopbc = nv.SimpletrajTrajectory(\"03-production/noPBC.xtc\", \"03-production/md.gro\")\n",
    "view_nopbc = nv.show_simpletraj(traj_nopbc)\n",
    "view_nopbc.add_representation(\"ball+stick\",selection=\"water\")\n",
    "view_nopbc.center(\"sytem\")\n",
    "view_nopbc.camera = 'orthographic'\n",
    "view_nopbc"
   ]
  },
  {
   "cell_type": "markdown",
   "metadata": {
    "slideshow": {
     "slide_type": "slide"
    }
   },
   "source": [
    "## Setup the Simulated Annealing\n",
    "\n",
    "Now, let's have a look at the parameters we need to set.<br>\n",
    "First, a small but crucial technical note: the annealing is implemented in GROMACS by changing the current reference temperature for each group in the temperature coupling. This means that **the actual relaxation and coupling properties depends on the type of thermostat** you use and how hard you are coupling it. Since we are changing the reference temperature it is important to remember that <u>the system will NOT instantaneously reach this value</u> - you need to allow for the inherent relaxation time in the coupling algorithm too!<br>\n",
    "**If you are changing the annealing reference temperature faster than the temperature relaxation you will probably end up with a crash when the difference becomes too large.**"
   ]
  },
  {
   "cell_type": "markdown",
   "metadata": {
    "slideshow": {
     "slide_type": "subslide"
    }
   },
   "source": [
    "Suppose we want to impose the following annealing protocol over 2 ns of simulation:\n",
    "\n",
    "| Time (ps) | Ref. T (K) |\n",
    "|-----------|------------|\n",
    "| 0         | 303        |\n",
    "| 500       | 303        |\n",
    "| 501       | 500        |\n",
    "| 1000      | 500        |\n",
    "| 1001      | 1100       |\n",
    "| 1500      | 1100       |\n",
    "| 1501      | 303        |\n",
    "| 2000      | 303        |"
   ]
  },
  {
   "cell_type": "markdown",
   "metadata": {
    "slideshow": {
     "slide_type": "subslide"
    }
   },
   "source": [
    "How do we implement this?<br>\n",
    "The annealing protocol is specified as a <u>series of corresponding times and reference temperatures <b>for each group</b></u>, and you can also choose whether you only want a single sequence (after which the temperature will be coupled to the last reference value), or if the annealing should be periodic and restart at the first reference point once the sequence is completed.\n",
    "<div class=\"alert alert-block alert-warning\"> NOTE: you can mix and match both types of annealing and non-annealed groups in your simulation! </div>\n"
   ]
  },
  {
   "cell_type": "markdown",
   "metadata": {},
   "source": [
    "Technically, the reference temperature is a **piecewise linear function**. The actual annealing is performed by dynamically changing the reference temperature used in the thermostat algorithm selected, so remember that the system will usually not instantaneously reach the reference temperature!"
   ]
  },
  {
   "cell_type": "markdown",
   "metadata": {
    "slideshow": {
     "slide_type": "subslide"
    }
   },
   "source": [
    "| MDP Option        | Setting Options | Function                                                                                                                                                                                                                                                                                                                                                             |\n",
    "|-------------------|-----------------|----------------------------------------------------------------------------------------------------------------------------------------------------------------------------------------------------------------------------------------------------------------------------------------------------------------------------------------------------------------------|\n",
    "| Annealing         | no              | No simulated annealing - just couple to reference temperature value.                                                                                                                                                                                                                                                                                                 |\n",
    "|                   | single          | A single sequence of annealing points. If your simulation is longer than the time of the last point, the temperature will be coupled to this constant value after the annealing sequence has reached the last time point.                                                                                                                                            |\n",
    "|                   | periodic        | The annealing will start over at the first reference point once the last reference time is reached. This is repeated until the simulation ends.                                                                                                                                                                                                                      |\n",
    "| annealing-npoints |                 | A list with the number of annealing reference/control points used for each temperature group. Use 0 for groups that are not annealed. The number of entries should equal the number of temperature groups.                                                                                                                                                           |\n",
    "| annealing-time    |                 | List of times at the annealing reference/control points for each group. If you are using periodic annealing, the times will be used modulo the last value,  i.e.  if the values are 0, 5, 10, and 15, the coupling will restart at the 0ps value after 15ps, 30ps, 45ps, etc. The number of entries should equal the sum of the numbers given in  annealing-npoints. |\n",
    "| annealing-temp    |                 | List of temperatures at the annealing reference/control points for each group. The number of entries should equal the sum of the numbers given in  annealing-npoints.                                                                                                                                                                                                |"
   ]
  },
  {
   "cell_type": "markdown",
   "metadata": {
    "slideshow": {
     "slide_type": "slide"
    }
   },
   "source": [
    "## Example\n",
    "Assume we have two temperature groups (water and non-water).\n",
    "Let's set:\n",
    "* the group selections to:                  annealing = single single\n",
    "* the number of points of each group to:    annealing-npoints = 3 3\n",
    "* the times to:                             annealing-time = 0 100 500 0 100 500\n",
    "* the temperatures to:                      annealing-temp = 303 500 303 303 500 303 \n",
    "\n",
    "The first group will be coupled to 303K at 0ps, and the reference temperature will increase linearly to reach 500K at 100ps, and then linearly between 500K and 303K again from 100ps to 500ps. **After this it stays constant**, at 303K. The second group is coupled in exactly the same way (notice that the values are repeated in the mdp sequences).<br>\n",
    "REMEMBER: Check the summary printed by gmx grompp if you are unsure!"
   ]
  },
  {
   "cell_type": "markdown",
   "metadata": {
    "slideshow": {
     "slide_type": "slide"
    }
   },
   "source": [
    "## Exercise:\n",
    "Using the example above and the table of reference temperature values to be reached, edit the mdp file \"data/mdp/md_annealing.mdp\" to setup such a simulation."
   ]
  },
  {
   "cell_type": "markdown",
   "metadata": {
    "slideshow": {
     "slide_type": "slide"
    }
   },
   "source": [
    "## Running the SA"
   ]
  },
  {
   "cell_type": "code",
   "execution_count": null,
   "metadata": {
    "slideshow": {
     "slide_type": "subslide"
    }
   },
   "outputs": [],
   "source": [
    "# We will use the previous equilibrated MD structure as a starting point (we equilibrated it at 303K) (WARNING: SLOW ON COLAB!)!\n",
    "!gmx grompp -f data/mdp/md_annealing.mdp -c  03-production/md.gro -p 00-systemsetup/penetratin.top -o 04-annealing/annealing.tpr >04-annealing/grompp.log 2>&1 \n",
    "!gmx mdrun -deffnm 04-annealing/annealing -s 04-annealing/annealing.tpr -v -nt 12 > 04-annealing/mdrun.log 2>&1\n",
    "# Fix PBCs:\n",
    "! echo -e \"0 \\n\" | gmx trjconv -s 04-annealing/annealing.tpr -f 04-annealing/annealing.xtc -pbc mol -ur compact -o 04-annealing/noPBC.xtc  > /dev/null 2>&1\n",
    "# NOTICE HOW WE ARE USING STDOUT AND STDERR REDIRECTION TO WRITE SOME LOG FILES FOR INSPECTION!"
   ]
  },
  {
   "cell_type": "code",
   "execution_count": null,
   "metadata": {
    "slideshow": {
     "slide_type": "subslide"
    }
   },
   "outputs": [],
   "source": [
    "%%bash\n",
    "# NOTE: The cell above (SA simulation) might take a substantial amount of time on COLAB. To speed things up for the lesson, you can instead retrieve the \n",
    "# pre-computed trajectory from the repository using the following command:\n",
    "gdown --folder https://drive.google.com/drive/folders/1x3dGPJKEnvktCk8GvzEHVnvUPI1Snubo?usp=share_link &> /dev/null"
   ]
  },
  {
   "cell_type": "markdown",
   "metadata": {
    "slideshow": {
     "slide_type": "slide"
    }
   },
   "source": [
    "# Data Analysis and Comments"
   ]
  },
  {
   "cell_type": "markdown",
   "metadata": {
    "slideshow": {
     "slide_type": "subslide"
    }
   },
   "source": [
    "We now have the output simulation files for our SA simulation.<br>\n",
    "As a first thing, let's fix the PBCs and have a look at the simulation (you can use VMD or the NGLView snippet below)"
   ]
  },
  {
   "cell_type": "code",
   "execution_count": null,
   "metadata": {},
   "outputs": [],
   "source": [
    "# Let's have a final look:\n",
    "import nglview as nv\n",
    "traj_nopbc = nv.SimpletrajTrajectory(\"04-annealing/noPBC.xtc\", \"04-annealing/annealing.gro\")\n",
    "view_nopbc = nv.show_simpletraj(traj_nopbc)\n",
    "view_nopbc.add_representation(\"none\",selection=\"water\")\n",
    "view_nopbc.center(\"sytem\")\n",
    "view_nopbc.camera = 'orthographic'\n",
    "view_nopbc"
   ]
  },
  {
   "cell_type": "markdown",
   "metadata": {
    "slideshow": {
     "slide_type": "subslide"
    }
   },
   "source": [
    "The trajectory looks ok, but it's a bit hard to get a grasp of what's going on by just looking at it.<br>\n",
    "So as a first thing, let's check that the time evolution of the system temperature actually follows what we wanted to impose:"
   ]
  },
  {
   "cell_type": "code",
   "execution_count": null,
   "metadata": {},
   "outputs": [],
   "source": [
    "! echo -e \"Temperature \\n 0\\n\" | gmx energy -f 04-annealing/annealing.edr -o 04-annealing/temperatures.xvg > /dev/null 2>&1\n",
    "# Some python magic for plotting:\n",
    "import matplotlib.pyplot as plt\n",
    "import numpy as np\n",
    "data = np.loadtxt(\"04-annealing/temperatures.xvg\",skiprows=24)\n",
    "plt.plot(data[:,0],data[:,1])\n",
    "plt.xlabel(\"Time (ps)\",size=14)\n",
    "plt.ylabel(\"Temperature (K)\",size=14)\n",
    "plt.title(\"Temperature as a function of Time\",size=14)\n",
    "plt.show() "
   ]
  },
  {
   "cell_type": "markdown",
   "metadata": {
    "slideshow": {
     "slide_type": "subslide"
    }
   },
   "source": [
    "The temperatures look ok, but what about the reason we used SA to begin with? Remember, the goal was to somehow use thermal (i.e. kinetic) energy to get out of local energy minima.<br>\n",
    "In practice this might mean that we sampled a wider range of protein conformations during our simulation (if compared to plain MD).<br>\n",
    "One technique that might be useful to assess the conformational variability is **clustering**."
   ]
  },
  {
   "cell_type": "markdown",
   "metadata": {
    "slideshow": {
     "slide_type": "slide"
    }
   },
   "source": [
    "## Clustering"
   ]
  },
  {
   "cell_type": "markdown",
   "metadata": {
    "slideshow": {
     "slide_type": "subslide"
    }
   },
   "source": [
    "A very quick recap on clustering:<br>\n",
    "In very simple terms, think of clustering as a way to group similar elements into collections (named \"clusters\") which are assembled in such a way that elements within clusters (\"members\") are highly similar, and elements from two different clusters are increasingly dissimilar.<br>\n",
    "This means that to perform clustering you first of all need to define what is similar and what is not, and be able to quantify this. This is what's called a **similarity metric**.<br>\n",
    "You can think of many different ways to define similarity between two elements based on what you are trying to cluster:\n",
    "* the euclidean distance between a set of points\n",
    "* the plain difference between two numerical variables (perhaps it might be useful to take the abs. value or the root of the square...)\n",
    "* the tanimoto coefficient between sets of molecules\n",
    "* etc..."
   ]
  },
  {
   "cell_type": "markdown",
   "metadata": {
    "slideshow": {
     "slide_type": "subslide"
    }
   },
   "source": [
    "## Question\n",
    "In the molecular modelling world, can you think of a metric that defines the \"similarity\" between two molecular structues?"
   ]
  },
  {
   "cell_type": "markdown",
   "metadata": {
    "slideshow": {
     "slide_type": "subslide"
    }
   },
   "source": [
    "You guessed it, the **RMSD**<br>\n",
    "Let's take a look at our gif again:\n",
    "<img src=\"imgs/SupplementaryAnimationRMSD.gif\" width=\"1500\" align=\"center\">"
   ]
  },
  {
   "cell_type": "markdown",
   "metadata": {
    "slideshow": {
     "slide_type": "subslide"
    }
   },
   "source": [
    "As you can see, the RMSD can be very useful to define how \"similar\" two snapshots (e.g. two frames) of a given molecular structure are.<br>\n",
    "So if we want to cluster a bunch of snapshots, a naive but effective approach might be something like:\n",
    "* Take the first snapshot and make it the only member of the first cluster (initialization)\n",
    "* Take the second snapshot, overlap it with the first one (as in the gif above), calculate the RMSD between the two:\n",
    "  * if this value is below a given threshold (e.g., 1 Angstrom), then add the second snapshot to the cluster (which until now only contained the first snapshot)\n",
    "  * if this value is above the threshold, then this second snapshot becomes a new cluster (with just itself in it, for now)\n",
    "* Suppose we took the first option, now we have one single cluster with two snapshots in it\n",
    "* Now we look at the third snapshot, what RMSD do we calculate? There are different options:\n",
    "  * RMSD between this third snapshot and both members of the cluster (= the first two snapshots), then we average the two values\n",
    "  * We first calculate an \"average structure\" of the two members of the cluster, and then calculate the RMSD between the current (third) snapshot and this average structure\n",
    "  * ...any more ideas?\n",
    "* ...and then we keep going, iteratively, as above, until we processed all the snapshots"
   ]
  },
  {
   "cell_type": "markdown",
   "metadata": {
    "slideshow": {
     "slide_type": "subslide"
    }
   },
   "source": [
    "As you might guess, the more the snapshots remain similar throughout the simulation (=<u><b>conformational stability</u></b>), the less clusters we will end up with, because all the frames will end up in the same cluster(s)"
   ]
  },
  {
   "cell_type": "markdown",
   "metadata": {
    "slideshow": {
     "slide_type": "slide"
    }
   },
   "source": [
    "## Question\n",
    "Let's go back to our SA simulation. Remember, the goal was to play around with the thermal (kinetic) energy to be able to overcome energy barriers keeping our protein stuck in a local minimum and explore a wider portion of the phase space.<br>\n",
    "If you were to compare the outcomes of a clustering analysis of **the same system** in two cases:\n",
    "* Plain MD\n",
    "* Simulated Annealing \n",
    "\n",
    "what differences do you expect?"
   ]
  },
  {
   "cell_type": "markdown",
   "metadata": {
    "slideshow": {
     "slide_type": "subslide"
    }
   },
   "source": [
    "Let's do this analysis on our simulations and check out the results:"
   ]
  },
  {
   "cell_type": "code",
   "execution_count": null,
   "metadata": {},
   "outputs": [],
   "source": [
    "# IF YOU DOWNLOADED PRE-CALCULATED RESULTS, EXECUTE THIS CELL (FOR GROMACS VERSION COMPATIBILITY):\n",
    "!gmx grompp -f data/mdp/md.mdp -c  02-equilibration/posres.gro -p 00-systemsetup/penetratin.top -o 03-production/md.tpr >03-production/grompp18.log 2>&1 \n",
    "!gmx grompp -f data/mdp/md_annealing.mdp -c  03-production/md.gro -p 00-systemsetup/penetratin.top -o 04-annealing/annealing.tpr >04-annealing/grompp.log 2>&1 "
   ]
  },
  {
   "cell_type": "code",
   "execution_count": null,
   "metadata": {
    "slideshow": {
     "slide_type": "subslide"
    }
   },
   "outputs": [],
   "source": [
    "!mkdir -p 05-analysis\n",
    "# We will use the cluster analysis tool from GROMACS:\n",
    "!gmx cluster -h\n"
   ]
  },
  {
   "cell_type": "code",
   "execution_count": null,
   "metadata": {
    "slideshow": {
     "slide_type": "subslide"
    }
   },
   "outputs": [],
   "source": [
    "# Do the clustering on both the plain MD and the SA simulations:\n",
    "!echo -e \"Protein\\nProtein\\n\" | gmx cluster -s 03-production/md.tpr -f 03-production/md.xtc -cl 05-analysis/clusterMD.pdb -cutoff 0.15 -o 05-analysis/clusterMD.xpm -g 05-analysis/clusterMD.log -dt 1 -dist 05-analysis/rmsd-distMD.xvg > /dev/null 2>&1\n",
    "!echo -e \"Protein\\nProtein\\n\" | gmx cluster -s 04-annealing/annealing.tpr -f 04-annealing/annealing.xtc -cl 05-analysis/clusterSA.pdb -cutoff 0.15 -o 05-analysis/clusterSA.xpm -g 05-analysis/clusterSA.log -dt 1 -dist  05-analysis/rmsd-distSA.xvg > /dev/null 2>&1"
   ]
  },
  {
   "cell_type": "markdown",
   "metadata": {},
   "source": [
    "Here, we clustered both the plain MD trajectory and the simulated annealing trajectory, using the same settings and the same cutoff. First of all, let's have a look at how many clusters were found. This information is written in the log files:"
   ]
  },
  {
   "cell_type": "code",
   "execution_count": null,
   "metadata": {
    "slideshow": {
     "slide_type": "subslide"
    }
   },
   "outputs": [],
   "source": [
    "!echo \"*** Molecular Dynamics Clustering: ***\"\n",
    "!head -n 8 05-analysis/clusterMD.log\n",
    "!echo \"*** Simulated Annealing Clustering: ***\"\n",
    "!head -n 8 05-analysis/clusterSA.log  "
   ]
  },
  {
   "cell_type": "markdown",
   "metadata": {
    "slideshow": {
     "slide_type": "subslide"
    }
   },
   "source": [
    "We already see that plain MD yielded 1 cluster at 0.15 nm cutoff, whereas SA yielded a whopping 337 clusters! Indeed, the conformation of the peptide is much more variable (in terms of RMSD) in the SA, thanks to the added thermal driving force! \n",
    "Let's have a look at the two structures:"
   ]
  },
  {
   "cell_type": "code",
   "execution_count": null,
   "metadata": {
    "slideshow": {
     "slide_type": "subslide"
    }
   },
   "outputs": [],
   "source": [
    "# Here we have a single cluster, and only the central structure of the cluster is saved, so we can have a look at it with nglview:\n",
    "import nglview as nv\n",
    "from IPython.display import IFrame\n",
    "\n",
    "with open(\"05-analysis/clusterMD.pdb\") as f:\n",
    "    view = nv.show_file(f, ext=\"pdb\")\n",
    "view"
   ]
  },
  {
   "cell_type": "code",
   "execution_count": null,
   "metadata": {
    "slideshow": {
     "slide_type": "subslide"
    }
   },
   "outputs": [],
   "source": [
    "# In this case, the central structure of each of the 337 clusters is written to a single PDB file. By tweaking the NGLView settings we can see them all at once:\n",
    "import nglview as nv\n",
    "with open(\"05-analysis/clusterSA.pdb\") as f:\n",
    "    view = nv.show_file(f, ext=\"pdb\",default_representation=False)\n",
    "    view.add_representation(\"cartoon\",selection=\"protein\",color=\"modelindex\")\n",
    "view"
   ]
  },
  {
   "cell_type": "markdown",
   "metadata": {
    "slideshow": {
     "slide_type": "subslide"
    }
   },
   "source": [
    "As you can see we confirmed that performing simulated annealing allowed us to get an improved sampling of the different energy minima.<br>\n",
    "Of course, by increasing the simulation time and the temperatures you can aim for an even wider exploration of the different conformations of a given molecular system.<br>\n",
    "<div class=\"alert alert-block alert-warning\"> NOTE: be aware that even if the final temperature is the same as the starting one, it is very much likely that the final structure will be different from the starting one! Can you formulate a hypothesis as to why this occurs? </div>"
   ]
  },
  {
   "cell_type": "markdown",
   "metadata": {
    "slideshow": {
     "slide_type": "slide"
    }
   },
   "source": [
    "## Ramachandran Plots"
   ]
  },
  {
   "cell_type": "markdown",
   "metadata": {
    "slideshow": {
     "slide_type": "subslide"
    }
   },
   "source": [
    "Just as for plain MD simulations, we can analyse the Ramachandran plots for the different snapshots of an SA simulation to see what's going on with the peptide geometry:"
   ]
  },
  {
   "cell_type": "code",
   "execution_count": null,
   "metadata": {
    "slideshow": {
     "slide_type": "subslide"
    }
   },
   "outputs": [],
   "source": [
    "import matplotlib\n",
    "# Perform the analysis:\n",
    "!gmx rama -f 05-analysis/clusterSA.pdb -s 04-annealing/annealing.tpr -o 05-analysis/ramaSA.xvg > /dev/null 2>&1\n",
    "# Load data\n",
    "# You have to load separately floating point numbers and string\n",
    "phi, psi = np.loadtxt('05-analysis/ramaSA.xvg',comments=['@','#'],usecols=(0,1),unpack=True)\n",
    "residues = np.loadtxt('05-analysis/ramaSA.xvg',comments=['@','#'],usecols=(2),dtype=str)\n",
    "\n",
    "# This line searches all the points in the array where the first residue of the protein is present\n",
    "# Therefore, it contains the information to separate information of different frames\n",
    "delimiters = np.squeeze(np.argwhere(residues == residues[0]))\n",
    "from matplotlib.lines import Line2D # For the legend\n",
    "from MDAnalysis.analysis.data.filenames import Rama_ref\n",
    "fig = plt.figure(figsize=(5,5))\n",
    "ax = fig.add_subplot(111,)\n",
    "# Generate points in the plane to plot the Ramachandran regions\n",
    "# THESE X,Y POINTS ARE CREATED IN ORDER TO BE COHERENT WITH DATA IN Rama_ref\n",
    "# DO NOT MODIFY\n",
    "X, Y = np.meshgrid(np.arange(-180, 180, 4), np.arange(-180, 180, 4))\n",
    "Z = np.load(Rama_ref)\n",
    "# THE NUMBERS ON LEVELS ARE DEFINED TO PLOT THE ALLOWED AND GENEROUSLY ALLOWED REGIONS\n",
    "# DO NOT MODIFY\n",
    "c = ax.contourf(X, Y, Z, levels=[1, 17, 15000],colors = ['#A1D4FF', '#35A1FF'])\n",
    "\n",
    "# CHANGE THIS VARIABLE TO REFLECT HOW MANY CLUSTERS YOU HAVE\n",
    "Nclust=100\n",
    "# ----------------------------------------------------------\n",
    "frames = range(0,Nclust+1)\n",
    "# Get Nclust colors:\n",
    "colors=list(matplotlib.colors.cnames.keys())[0:Nclust-1]\n",
    "for col,frame in zip(colors,frames):\n",
    "    ax.scatter(phi[delimiters[frame]:delimiters[frame+1]],psi[delimiters[frame]:delimiters[frame+1]],\n",
    "              marker='o',s=20,c=col)\n",
    "\n",
    "# Set the limits of torsional angles\n",
    "ax.set_xlim(-180,180)\n",
    "ax.set_ylim(-180,180)\n",
    "ax.set_xlabel(r\"$\\phi$ [°]\")\n",
    "ax.set_ylabel(r\"$\\psi$ [°]\")\n",
    "ax.set_title(\"Ramachadran plot of the 15 cluster centroids\")\n",
    "#Personalize it with a legend\n",
    "custom_lines = [Line2D([0], [0], color='#A1D4FF', lw=8),\n",
    "                Line2D([0], [0], color='#35A1FF', lw=8)]\n",
    "ax.legend(custom_lines, ['99%', '90%'],loc='lower center',frameon=False)\n",
    "fig.tight_layout()"
   ]
  },
  {
   "cell_type": "markdown",
   "metadata": {
    "slideshow": {
     "slide_type": "subslide"
    }
   },
   "source": [
    "Do you notice anything in this plot? What are your thoughts and comments?"
   ]
  },
  {
   "cell_type": "markdown",
   "metadata": {
    "slideshow": {
     "slide_type": "slide"
    }
   },
   "source": [
    "## DSSP / Secondary Structure"
   ]
  },
  {
   "cell_type": "markdown",
   "metadata": {
    "slideshow": {
     "slide_type": "subslide"
    }
   },
   "source": [
    "Again, we can also use DSSP secondary structure analysis to try and see if the secondary structure is altered, and how so, during the SA simulation. We will use exactly the same procedure we used before for the plain MD simulation."
   ]
  },
  {
   "cell_type": "code",
   "execution_count": null,
   "metadata": {},
   "outputs": [],
   "source": [
    "# calculate secondary structure using mdtraj\n",
    "import mdtraj as md\n",
    "\n",
    "# load trajectory (pdb from the cluster analysis --> all centroids retrieved during the SA simulation)\n",
    "traj = md.load(\"05-analysis/clusterSA.pdb\", top=\"05-analysis/clusterSA.pdb\")\n",
    "# calculate secondary structure\n",
    "ss = md.compute_dssp(traj)\n",
    "\n",
    "# convert to numpy array\n",
    "SS = np.vstack(ss).T\n",
    "# substitute C with 0, H with 1 and E with 2\n",
    "SS[SS=='C'] = 0\n",
    "SS[SS=='E'] = 1\n",
    "SS[SS=='H'] = 2\n",
    "SS = SS.astype(int)\n",
    "\n",
    "# plot secondary structure\n",
    "from matplotlib.colors import ListedColormap\n",
    "mymap = ListedColormap(['silver','red','blue'])\n",
    "fig = plt.figure(figsize=(10,5))\n",
    "ax = fig.add_subplot(111)\n",
    "ax.imshow(SS,aspect='auto', cmap=mymap, interpolation='none')\n",
    "ax.set_xlim(0,SS.shape[1]-1)\n",
    "ax.set_ylim(0,SS.shape[0]-1)\n",
    "ax.set_xlabel(f'Time (ps)')\n",
    "ax.set_ylabel('Residue number')\n",
    "# show legend\n",
    "import matplotlib.patches as mpatches\n",
    "handles = [mpatches.Patch(color='silver', label='COIL'),\n",
    "           mpatches.Patch(color='red', label='SHEETS'),\n",
    "           mpatches.Patch(color='blue', label='HELICES')]\n",
    "# put a legend on the right side\n",
    "ax.legend(handles=handles, loc='upper right', bbox_to_anchor=(1.2, 1))\n",
    "fig.tight_layout()"
   ]
  },
  {
   "cell_type": "markdown",
   "metadata": {},
   "source": [
    "#### If you want to use DSSP: use it at your own risk!"
   ]
  },
  {
   "cell_type": "code",
   "execution_count": null,
   "metadata": {},
   "outputs": [],
   "source": [
    "# Let's do the SS analysis:\n",
    "!echo -e \"Protein\\n\" | gmx dssp -s 04-annealing/annealing.tpr -f 05-analysis/clusterSA.pdb -o 05-analysis/dssp.dat > /dev/null 2>&1"
   ]
  },
  {
   "cell_type": "code",
   "execution_count": null,
   "metadata": {},
   "outputs": [],
   "source": [
    "# now let's plot the secondary structure every frame using a different color for each secondary structure\n",
    "\n",
    "# Load the data\n",
    "data = np.loadtxt('05-analysis/dssp.dat',comments=['@','#'],dtype=str)\n",
    "\n",
    "# assign a number to each secondary structure\n",
    "ss = {'H':0,'B':1,'E':2,'G':3,'I':4,'T':5,'S':6,'P':7,'=':8,'~':9}\n",
    "ss_translation = {0:'Helix',1:'Beta-Sheet',2:'Strand',3:'3-10 helix',4:'Pi helix',5:'Hydrogen Bond Turn',6:'Bend',7:'Kappa-Helix',8:'Break',9:'Loop'}\n",
    "\n",
    "# i want to replace all the H letters with 0, all the B letters with 1, etc.\n",
    "data = [[ss[j] for j in i] for i in data]"
   ]
  },
  {
   "cell_type": "code",
   "execution_count": null,
   "metadata": {},
   "outputs": [],
   "source": [
    "# plot the data as a heatmap\n",
    "plt.figure(figsize=(10,5))\n",
    "\n",
    "# Define a set of discrete colors\n",
    "colors = [\n",
    "    \"#4E79A7\",  # Steel Blue\n",
    "    \"#F28E2B\",  # Mandarin Orange\n",
    "    \"#E15759\",  # Coral Red\n",
    "    \"#76B7B2\",  # Seafoam Green\n",
    "    \"#59A14F\",  # Fresh Green\n",
    "    \"#EDC948\",  # Golden Yellow\n",
    "    \"#AF7AA1\",  # Soft Lavender\n",
    "    \"#FF9DA7\",  # Pink Salmon\n",
    "    \"#9C755F\",  # Mocha Brown\n",
    "    \"#BAB0AC\"   # Warm Gray\n",
    "]\n",
    "\n",
    "# Create a colormap using the colors\n",
    "import matplotlib.colors as mcolors\n",
    "cmap = mcolors.ListedColormap(colors, name='discrete')\n",
    "\n",
    "plt.imshow(np.array(data).T, cmap=cmap, aspect='auto')\n",
    "plt.xlabel(\"Frame\")\n",
    "plt.ylabel(\"Residue\")\n",
    "plt.title(\"Secondary structure\")\n",
    "# create a legend outside the plot using the ss keys as labels\n",
    "plt.legend(handles=[plt.Line2D([0], [0], color=c, lw=4) for c in colors], labels=ss_translation.values(), loc='center left', bbox_to_anchor=(1, 0.5))\n",
    "\n",
    "plt.savefig('05-analysis/secondary_structure.png',dpi=300,facecolor='white')\n",
    "plt.tight_layout()"
   ]
  },
  {
   "cell_type": "markdown",
   "metadata": {},
   "source": [
    "What do you notice here? Any comments?"
   ]
  }
 ],
 "metadata": {
  "celltoolbar": "Slideshow",
  "kernelspec": {
   "display_name": "Python 3 (ipykernel)",
   "language": "python",
   "name": "python3"
  },
  "language_info": {
   "codemirror_mode": {
    "name": "ipython",
    "version": 3
   },
   "file_extension": ".py",
   "mimetype": "text/x-python",
   "name": "python",
   "nbconvert_exporter": "python",
   "pygments_lexer": "ipython3",
   "version": "3.13.0"
  },
  "toc": {
   "base_numbering": 1,
   "nav_menu": {},
   "number_sections": true,
   "sideBar": true,
   "skip_h1_title": false,
   "title_cell": "Table of Contents",
   "title_sidebar": "Contents",
   "toc_cell": false,
   "toc_position": {},
   "toc_section_display": true,
   "toc_window_display": false
  },
  "vscode": {
   "interpreter": {
    "hash": "5f8929016d30f12a89eab5b5e02a6c1410fc73da4b23b89b4eb7a3bc58137fe5"
   }
  }
 },
 "nbformat": 4,
 "nbformat_minor": 2
}
