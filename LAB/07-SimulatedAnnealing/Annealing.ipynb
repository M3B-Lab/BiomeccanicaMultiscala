{
 "cells": [
  {
   "cell_type": "markdown",
   "metadata": {},
   "source": [
    "# Laboratorio 7\n",
    "**Simulated Annealing using GROMACS**\n",
    "\n",
    "\n",
    "Authors:\n",
    "    \n",
    "- Prof. Marco A. Deriu (marco.deriu@polito.it)\n",
    "- Lorenzo Pallante (lorenzo.pallante@polito.it)\n",
    "- Eric A. Zizzi (eric.zizzi@polito.it)\n",
    "- Marcello Miceli (marcello.miceli@polito.it)\n",
    "- Marco Cannariato (marco.cannariato@polito.it)"
   ]
  },
  {
   "cell_type": "markdown",
   "metadata": {},
   "source": [
    "# Table of Contents\n",
    "\n",
    "1. Introduction to Simulated Annealing \n",
    "2. Setting up the simulation\n",
    "3. Simulation\n",
    "4. Data Analysis and comments\n",
    "\n",
    "**Learning outcomes:** \n",
    "- familiarizing with the SA techniques\n",
    "- awareness of SA strengths and weaknesses\n",
    "- GROMACS:\n",
    "    - create an mdp file for SA\n",
    "    - setting up the simulation using GROMACS\n",
    "    - performing and analyzing the simulation"
   ]
  },
  {
   "cell_type": "code",
   "execution_count": null,
   "metadata": {},
   "outputs": [],
   "source": [
    "from notebook.services.config import ConfigManager\n",
    "cm = ConfigManager().update('notebook', {'limit_output': 100000000})"
   ]
  },
  {
   "cell_type": "code",
   "execution_count": 3,
   "metadata": {
    "scrolled": true
   },
   "outputs": [
    {
     "name": "stdout",
     "output_type": "stream",
     "text": [
      "Clone in 'BiomeccanicaMultiscala' in corso...\n",
      "remote: Enumerating objects: 1284, done.\u001b[K\n",
      "remote: Counting objects: 100% (60/60), done.\u001b[K\n",
      "remote: Compressing objects: 100% (42/42), done.\u001b[K\n",
      "^Ccezione degli oggetti:   1% (17/1284), 6.31 MiB | 6.29 MiB/s\n",
      "fetch-pack: unexpected disconnect while reading sideband packet\n",
      "zsh:1: no matches found: BiomeccanicaMultiscala/LAB/07-SimulatedAnnealing/*\n"
     ]
    }
   ],
   "source": [
    "# IF YOU ARE USING COLAB EXECUTE THE FOLLOWING CELLS (to copy over data repository, install and enable the necessary packages)\n",
    "!git clone https://github.com/lorenzopallante/BiomeccanicaMultiscala.git\n",
    "!mv BiomeccanicaMultiscala/LAB/07-SimulatedAnnealing/* ."
   ]
  },
  {
   "cell_type": "code",
   "execution_count": null,
   "metadata": {},
   "outputs": [],
   "source": [
    "!pip install nglview &> /dev/null\n",
    "!pip install simpletraj &> /dev/null\n",
    "!apt install ghostscript &> /dev/null\n",
    "from google.colab import output\n",
    "output.enable_custom_widget_manager()"
   ]
  },
  {
   "cell_type": "code",
   "execution_count": null,
   "metadata": {},
   "outputs": [],
   "source": [
    "#@title Installing DSSP\n",
    "!apt install dssp &> /dev/null\n",
    "!ln -s /usr/bin/dssp /usr/local/bin/dssp"
   ]
  },
  {
   "cell_type": "code",
   "execution_count": null,
   "metadata": {},
   "outputs": [],
   "source": [
    "#@title Installing GROMACS\n",
    "!apt install gromacs &> /dev/null"
   ]
  },
  {
   "cell_type": "markdown",
   "metadata": {},
   "source": [
    "# Introduction to Simulated Annealing"
   ]
  },
  {
   "cell_type": "markdown",
   "metadata": {},
   "source": [
    "First of all, what does the term **\"annealing\"** refer to?<br>\n",
    "Annealing is the process in which the temperature of a molten substance is slowly reduced until the material crystallises to give a large single crystal. This process is widely used in many areas of manufacture, and a key feature of annealing is the use of very careful temperature control at the liquid-solid phase transition. <u>The perfect crystal that is eventually obtained corresponds to the global minimum of the free energy</u>.<br>\n",
    "Simulated annealing is **a computational method that mimics this process in order to find the 'optimal' or 'best' solutions** to problems which have a large number of possible solutions [Kirkpatrick et al. 1983]."
   ]
  },
  {
   "cell_type": "markdown",
   "metadata": {},
   "source": [
    "In simulated annealing, a cost function takes the role of the free energy in physical annealing and a control parameter corresponds to the temperature. To use simulated annealing in conformational analysis the cost function would be the internal energy. <u>At a given temperature the system is allowed to reach 'thermal equilibrium' using a molecular dynamics simulation</u>:\n",
    "* At high temperatures, the systern is able to occupy high-energy regions of conformational space and to pass over high energy barriers\n",
    "* At lower temperatures, the lower energy states becomes more probable in accordance with the Boltzmann distribution.\n",
    "* At absolute zero, the system should occupy the lowest-energy state (i.e. the global minimum energy conformation). "
   ]
  },
  {
   "cell_type": "markdown",
   "metadata": {},
   "source": [
    "<img src=\"imgs/simulated_annealing.png\" width=\"1500\" align=\"center\">"
   ]
  },
  {
   "cell_type": "markdown",
   "metadata": {},
   "source": [
    "To guarantee that the globally optimal solution is actually reached would require an <u>infinite number of temperature steps</u>, at each of which the system would have to come to thermal equilibrium. Careful temperature control is required when the energy of the system is comparable with the height of the barriers that separate one region of conformational space from another. \n",
    "\n",
    "This is often difficult to achieve in practice and so simulated annealing cannot guarantee to find the global minimum, much as a genetic algorithm cannot guarantee to identify the globally optimal solution. However, if the same answer is obtained from several different runs then there is a high probability that it corresponds to the true global minimum. Several simulated annealing runs may enable a series of low-energy conformations of a molecule to be obtained."
   ]
  },
  {
   "cell_type": "markdown",
   "metadata": {},
   "source": [
    "## Setting up the simulation"
   ]
  },
  {
   "cell_type": "markdown",
   "metadata": {},
   "source": [
    "Let's dive into an example of SA simulation setup using GROMACS.<br>\n",
    "First of all, the general system setup (box configuration, solvation, neutralization, energy minimization, ...) will be exactly the same as we've seen for plain MD simulations, so we won't go into details again."
   ]
  },
  {
   "cell_type": "markdown",
   "metadata": {},
   "source": [
    "Let's just review our MD scheme again and perform the initial steps to obtain a minimized system"
   ]
  },
  {
   "cell_type": "markdown",
   "metadata": {},
   "source": [
    "<img src=\"imgs/MD_FlowChart.png\" width=\"500\" align=\"center\">"
   ]
  },
  {
   "cell_type": "code",
   "execution_count": 4,
   "metadata": {},
   "outputs": [
    {
     "data": {
      "application/vnd.jupyter.widget-view+json": {
       "model_id": "48d35d1366e44d9f866a60de6438d953",
       "version_major": 2,
       "version_minor": 0
      },
      "text/plain": []
     },
     "metadata": {},
     "output_type": "display_data"
    },
    {
     "data": {
      "application/vnd.jupyter.widget-view+json": {
       "model_id": "01287187da8f4c9299a6080fe6b5ab01",
       "version_major": 2,
       "version_minor": 0
      },
      "text/plain": [
       "NGLWidget()"
      ]
     },
     "metadata": {},
     "output_type": "display_data"
    }
   ],
   "source": [
    "# First, a quick peek at the system using NGLView:\n",
    "import nglview as nv\n",
    "from IPython.display import IFrame\n",
    "# Make sure that the path to penetratin.pdb matches your paths if you're using Colab!\n",
    "with open(\"data/penetratin.pdb\") as f:\n",
    "    view = nv.show_file(f, ext=\"pdb\")\n",
    "view"
   ]
  },
  {
   "cell_type": "code",
   "execution_count": 66,
   "metadata": {},
   "outputs": [],
   "source": [
    "# Some subfolders to keep stuff tidy\n",
    "!mkdir -p 00-systemsetup 01-minimization 02-equilibration 03-production 04-annealing\n",
    "# Let's create an index file as before:\n",
    "!echo -e \"q \\n\" | gmx make_ndx -f data/penetratin.pdb -o 00-systemsetup/index.ndx > /dev/null 2>&1"
   ]
  },
  {
   "cell_type": "code",
   "execution_count": 51,
   "metadata": {},
   "outputs": [],
   "source": [
    "%%bash\n",
    "# Topology generation:\n",
    "cd 00-systemsetup\n",
    "gmx pdb2gmx -f ../data/penetratin.pdb -i penetratin_posre.itp -p penetratin.top -o penetratin.gro -ff amber99sb-ildn  -ignh -heavyh -water tip3p > /dev/null 2>&1\n",
    "cd .."
   ]
  },
  {
   "cell_type": "code",
   "execution_count": 52,
   "metadata": {},
   "outputs": [],
   "source": [
    "# Create simulation box:\n",
    "!gmx editconf -f 00-systemsetup/penetratin.gro -o 00-systemsetup/box.gro -c -d 0.8 -bt dodecahedron > /dev/null 2>&1"
   ]
  },
  {
   "cell_type": "code",
   "execution_count": 53,
   "metadata": {},
   "outputs": [],
   "source": [
    "# Solvation:\n",
    "!gmx solvate -cp 00-systemsetup/box.gro -cs spc216.gro -o 00-systemsetup/solvated.gro -p 00-systemsetup/penetratin.top > /dev/null 2>&1"
   ]
  },
  {
   "cell_type": "code",
   "execution_count": 54,
   "metadata": {},
   "outputs": [
    {
     "data": {
      "application/vnd.jupyter.widget-view+json": {
       "model_id": "675d6d915e6241158182e32d7e7dab93",
       "version_major": 2,
       "version_minor": 0
      },
      "text/plain": [
       "NGLWidget()"
      ]
     },
     "metadata": {},
     "output_type": "display_data"
    }
   ],
   "source": [
    "# Quick peek:\n",
    "import nglview as nv\n",
    "with open(\"00-systemsetup/solvated.gro\") as f:\n",
    "    view = nv.show_file(f, ext=\"gro\")\n",
    "view.add_ball_and_stick(selection=\"water\")\n",
    "view.camera = 'orthographic'\n",
    "view"
   ]
  },
  {
   "cell_type": "code",
   "execution_count": 55,
   "metadata": {},
   "outputs": [
    {
     "data": {
      "application/vnd.jupyter.widget-view+json": {
       "model_id": "3a9e6a356015429698f501fea0a2c474",
       "version_major": 2,
       "version_minor": 0
      },
      "text/plain": [
       "NGLWidget()"
      ]
     },
     "metadata": {},
     "output_type": "display_data"
    }
   ],
   "source": [
    "# Neutralize:\n",
    "!touch 00-systemsetup/dummy.mdp\n",
    "!gmx grompp -f 00-systemsetup/dummy.mdp -c 00-systemsetup/solvated.gro -p 00-systemsetup/penetratin.top -o 00-systemsetup/ions.tpr > /dev/null 2>&1\n",
    "!echo \"SOL\" | gmx genion -s 00-systemsetup/ions.tpr -p 00-systemsetup/penetratin.top -o 00-systemsetup/box_ions.gro -conc 0.15 -neutral > /dev/null 2>&1\n",
    "with open(\"00-systemsetup/box_ions.gro\") as f:\n",
    "    view = nv.show_file(f, ext=\"gro\")\n",
    "view.add_licorice(selection=\"water\")\n",
    "view.add_ball_and_stick(selection=\"NA\",color='blue',aspectRatio='5') \n",
    "view.add_ball_and_stick(selection=\"CL\",color='green',aspectRatio='5')\n",
    "view.camera = 'orthographic'\n",
    "view\n"
   ]
  },
  {
   "attachments": {},
   "cell_type": "markdown",
   "metadata": {},
   "source": [
    "### Energy Minimization"
   ]
  },
  {
   "cell_type": "code",
   "execution_count": 56,
   "metadata": {},
   "outputs": [
    {
     "name": "stdout",
     "output_type": "stream",
     "text": [
      "                      :-) GROMACS - gmx mdrun, 2021.3 (-:\n",
      "\n",
      "                            GROMACS is written by:\n",
      "     Andrey Alekseenko              Emile Apol              Rossen Apostolov     \n",
      "         Paul Bauer           Herman J.C. Berendsen           Par Bjelkmar       \n",
      "       Christian Blau           Viacheslav Bolnykh             Kevin Boyd        \n",
      "     Aldert van Buuren           Rudi van Drunen             Anton Feenstra      \n",
      "    Gilles Gouaillardet             Alan Gray               Gerrit Groenhof      \n",
      "       Anca Hamuraru            Vincent Hindriksen          M. Eric Irrgang      \n",
      "      Aleksei Iupinov           Christoph Junghans             Joe Jordan        \n",
      "    Dimitrios Karkoulis            Peter Kasson                Jiri Kraus        \n",
      "      Carsten Kutzner              Per Larsson              Justin A. Lemkul     \n",
      "       Viveca Lindahl            Magnus Lundborg             Erik Marklund       \n",
      "        Pascal Merz             Pieter Meulenhoff            Teemu Murtola       \n",
      "        Szilard Pall               Sander Pronk              Roland Schulz       \n",
      "       Michael Shirts            Alexey Shvetsov             Alfons Sijbers      \n",
      "       Peter Tieleman              Jon Vincent              Teemu Virolainen     \n",
      "     Christian Wennberg            Maarten Wolf              Artem Zhmurov       \n",
      "                           and the project leaders:\n",
      "        Mark Abraham, Berk Hess, Erik Lindahl, and David van der Spoel\n",
      "\n",
      "Copyright (c) 1991-2000, University of Groningen, The Netherlands.\n",
      "Copyright (c) 2001-2019, The GROMACS development team at\n",
      "Uppsala University, Stockholm University and\n",
      "the Royal Institute of Technology, Sweden.\n",
      "check out http://www.gromacs.org for more information.\n",
      "\n",
      "GROMACS is free software; you can redistribute it and/or modify it\n",
      "under the terms of the GNU Lesser General Public License\n",
      "as published by the Free Software Foundation; either version 2.1\n",
      "of the License, or (at your option) any later version.\n",
      "\n",
      "GROMACS:      gmx mdrun, version 2021.3\n",
      "Executable:   /opt/gromacs/2021.3_intel_OpenMP_OCL4/bin/gmx\n",
      "Data prefix:  /opt/gromacs/2021.3_intel_OpenMP_OCL4\n",
      "Working dir:  /Users/eric/Documents/GitHub/BiomeccanicaMultiscala/LAB/07-SimulatedAnnealing\n",
      "Command line:\n",
      "  gmx mdrun -s 01-minimization/em.tpr -deffnm 01-minimization/em -v -ntmpi 2\n",
      "\n",
      "Reading file 01-minimization/em.tpr, VERSION 2021.3 (single precision)\n",
      "On host pcdimeaszizzi.polito.it 2 GPUs selected for this run.\n",
      "Mapping of GPU IDs to the 2 GPU tasks in the 2 ranks on this node:\n",
      "  PP:0,PP:1\n",
      "PP tasks will do (non-perturbed) short-ranged interactions on the GPU\n",
      "PP task will update and constrain coordinates on the CPU\n",
      "Using 2 MPI threads\n",
      "Using 8 OpenMP threads per tMPI thread\n",
      "\n",
      "\n",
      "Steepest Descents:\n",
      "   Tolerance (Fmax)   =  1.00000e+03\n",
      "   Number of steps    =         1000\n",
      "Step=    0, Dmax= 1.0e-02 nm, Epot= -2.37126e+04 Fmax= 1.14328e+05, atom= 1367\n",
      "Step=    1, Dmax= 1.0e-02 nm, Epot= -3.60368e+04 Fmax= 4.08618e+04, atom= 1367\n",
      "Step=    2, Dmax= 1.2e-02 nm, Epot= -4.87361e+04 Fmax= 1.52051e+04, atom= 6548\n",
      "Step=    3, Dmax= 1.4e-02 nm, Epot= -5.95255e+04 Fmax= 6.22115e+03, atom= 6607\n",
      "Step=    4, Dmax= 1.7e-02 nm, Epot= -6.83754e+04 Fmax= 4.13495e+03, atom= 25\n",
      "Step=    5, Dmax= 2.1e-02 nm, Epot= -7.27772e+04 Fmax= 2.26589e+04, atom= 25\n",
      "Step=    6, Dmax= 2.5e-02 nm, Epot= -7.49566e+04 Fmax= 9.64617e+03, atom= 25\n",
      "Step=    8, Dmax= 1.5e-02 nm, Epot= -7.59275e+04 Fmax= 1.06471e+04, atom= 25\n",
      "Step=    9, Dmax= 1.8e-02 nm, Epot= -7.66869e+04 Fmax= 1.35426e+04, atom= 25\n",
      "Step=   10, Dmax= 2.1e-02 nm, Epot= -7.73120e+04 Fmax= 1.56971e+04, atom= 25\n",
      "Step=   11, Dmax= 2.6e-02 nm, Epot= -7.76170e+04 Fmax= 1.93798e+04, atom= 25\n",
      "Step=   12, Dmax= 3.1e-02 nm, Epot= -7.77175e+04 Fmax= 2.38933e+04, atom= 332\n",
      "Step=   14, Dmax= 1.9e-02 nm, Epot= -7.99448e+04 Fmax= 4.61828e+03, atom= 332\n",
      "Step=   15, Dmax= 2.2e-02 nm, Epot= -8.10964e+04 Fmax= 3.02708e+04, atom= 332\n",
      "Step=   16, Dmax= 2.7e-02 nm, Epot= -8.20246e+04 Fmax= 1.08869e+04, atom= 332\n",
      "Step=   17, Dmax= 3.2e-02 nm, Epot= -8.21089e+04 Fmax= 3.87800e+04, atom= 332\n",
      "Step=   18, Dmax= 3.9e-02 nm, Epot= -8.30415e+04 Fmax= 2.00879e+04, atom= 332\n",
      "Step=   20, Dmax= 2.3e-02 nm, Epot= -8.34511e+04 Fmax= 1.53388e+04, atom= 332\n",
      "Step=   21, Dmax= 2.8e-02 nm, Epot= -8.36521e+04 Fmax= 2.69266e+04, atom= 332\n",
      "Step=   22, Dmax= 3.3e-02 nm, Epot= -8.40355e+04 Fmax= 2.40701e+04, atom= 332\n",
      "Step=   24, Dmax= 2.0e-02 nm, Epot= -8.45093e+04 Fmax= 6.41946e+03, atom= 332\n",
      "Step=   25, Dmax= 2.4e-02 nm, Epot= -8.48902e+04 Fmax= 3.07430e+04, atom= 332\n",
      "Step=   26, Dmax= 2.9e-02 nm, Epot= -8.54611e+04 Fmax= 1.33847e+04, atom= 332\n",
      "Step=   28, Dmax= 1.7e-02 nm, Epot= -8.57206e+04 Fmax= 1.32081e+04, atom= 332\n",
      "Step=   29, Dmax= 2.1e-02 nm, Epot= -8.59340e+04 Fmax= 1.84474e+04, atom= 332\n",
      "Step=   30, Dmax= 2.5e-02 nm, Epot= -8.61572e+04 Fmax= 1.98018e+04, atom= 332\n",
      "Step=   31, Dmax= 3.0e-02 nm, Epot= -8.62842e+04 Fmax= 2.57164e+04, atom= 332\n",
      "Step=   32, Dmax= 3.6e-02 nm, Epot= -8.64305e+04 Fmax= 2.90576e+04, atom= 332\n",
      "Step=   33, Dmax= 4.3e-02 nm, Epot= -8.64329e+04 Fmax= 3.60445e+04, atom= 332\n",
      "Step=   35, Dmax= 2.6e-02 nm, Epot= -8.72069e+04 Fmax= 3.40562e+03, atom= 332\n",
      "Step=   36, Dmax= 3.1e-02 nm, Epot= -8.77017e+04 Fmax= 4.23713e+04, atom= 332\n",
      "Step=   37, Dmax= 3.7e-02 nm, Epot= -8.85639e+04 Fmax= 1.56930e+04, atom= 332\n",
      "Step=   39, Dmax= 2.2e-02 nm, Epot= -8.86915e+04 Fmax= 1.84944e+04, atom= 332\n",
      "Step=   40, Dmax= 2.7e-02 nm, Epot= -8.87816e+04 Fmax= 2.28052e+04, atom= 332\n",
      "Step=   41, Dmax= 3.2e-02 nm, Epot= -8.88609e+04 Fmax= 2.61475e+04, atom= 332\n",
      "Step=   43, Dmax= 1.9e-02 nm, Epot= -8.92860e+04 Fmax= 3.45775e+03, atom= 332\n",
      "Step=   44, Dmax= 2.3e-02 nm, Epot= -8.95558e+04 Fmax= 3.12851e+04, atom= 332\n",
      "Step=   45, Dmax= 2.8e-02 nm, Epot= -9.00647e+04 Fmax= 1.15586e+04, atom= 332\n",
      "Step=   47, Dmax= 1.7e-02 nm, Epot= -9.01793e+04 Fmax= 1.38525e+04, atom= 332\n",
      "Step=   48, Dmax= 2.0e-02 nm, Epot= -9.02756e+04 Fmax= 1.69216e+04, atom= 332\n",
      "Step=   49, Dmax= 2.4e-02 nm, Epot= -9.03595e+04 Fmax= 1.96610e+04, atom= 332\n",
      "Step=   50, Dmax= 2.9e-02 nm, Epot= -9.03931e+04 Fmax= 2.44505e+04, atom= 332\n",
      "Step=   51, Dmax= 3.4e-02 nm, Epot= -9.04234e+04 Fmax= 2.80255e+04, atom= 332\n",
      "Step=   53, Dmax= 2.1e-02 nm, Epot= -9.08822e+04 Fmax= 3.67764e+03, atom= 332\n",
      "Step=   54, Dmax= 2.5e-02 nm, Epot= -9.09205e+04 Fmax= 3.37994e+04, atom= 332\n",
      "Step=   55, Dmax= 3.0e-02 nm, Epot= -9.14804e+04 Fmax= 1.22948e+04, atom= 332\n",
      "Step=   57, Dmax= 1.8e-02 nm, Epot= -9.15587e+04 Fmax= 1.50512e+04, atom= 332\n",
      "Step=   58, Dmax= 2.1e-02 nm, Epot= -9.16240e+04 Fmax= 1.79909e+04, atom= 332\n",
      "Step=   59, Dmax= 2.6e-02 nm, Epot= -9.16667e+04 Fmax= 2.13230e+04, atom= 332\n",
      "Step=   60, Dmax= 3.1e-02 nm, Epot= -9.16668e+04 Fmax= 2.60126e+04, atom= 332\n",
      "Step=   62, Dmax= 1.9e-02 nm, Epot= -9.20564e+04 Fmax= 2.36034e+03, atom= 332\n",
      "Step=   63, Dmax= 2.2e-02 nm, Epot= -9.22402e+04 Fmax= 3.20914e+04, atom= 332\n",
      "Step=   64, Dmax= 2.7e-02 nm, Epot= -9.27536e+04 Fmax= 9.26464e+03, atom= 332\n",
      "Step=   66, Dmax= 1.6e-02 nm, Epot= -9.27910e+04 Fmax= 1.54773e+04, atom= 332\n",
      "Step=   67, Dmax= 1.9e-02 nm, Epot= -9.28912e+04 Fmax= 1.40092e+04, atom= 332\n",
      "Step=   69, Dmax= 1.2e-02 nm, Epot= -9.30349e+04 Fmax= 3.75144e+03, atom= 332\n",
      "Step=   70, Dmax= 1.4e-02 nm, Epot= -9.31218e+04 Fmax= 1.73435e+04, atom= 332\n",
      "Step=   71, Dmax= 1.7e-02 nm, Epot= -9.32964e+04 Fmax= 8.23394e+03, atom= 332\n",
      "Step=   73, Dmax= 1.0e-02 nm, Epot= -9.33775e+04 Fmax= 7.00370e+03, atom= 332\n",
      "Step=   74, Dmax= 1.2e-02 nm, Epot= -9.34379e+04 Fmax= 1.14605e+04, atom= 332\n",
      "Step=   75, Dmax= 1.4e-02 nm, Epot= -9.35202e+04 Fmax= 1.05055e+04, atom= 332\n",
      "Step=   76, Dmax= 1.7e-02 nm, Epot= -9.35420e+04 Fmax= 1.60177e+04, atom= 332\n",
      "Step=   77, Dmax= 2.1e-02 nm, Epot= -9.36199e+04 Fmax= 1.55910e+04, atom= 332\n",
      "Step=   79, Dmax= 1.2e-02 nm, Epot= -9.37805e+04 Fmax= 3.47278e+03, atom= 332\n",
      "Step=   80, Dmax= 1.5e-02 nm, Epot= -9.38387e+04 Fmax= 1.91357e+04, atom= 332\n",
      "Step=   81, Dmax= 1.8e-02 nm, Epot= -9.40362e+04 Fmax= 8.36062e+03, atom= 332\n",
      "Step=   83, Dmax= 1.1e-02 nm, Epot= -9.41058e+04 Fmax= 8.01418e+03, atom= 332\n",
      "Step=   84, Dmax= 1.3e-02 nm, Epot= -9.41521e+04 Fmax= 1.18180e+04, atom= 332\n",
      "Step=   85, Dmax= 1.5e-02 nm, Epot= -9.42181e+04 Fmax= 1.17859e+04, atom= 332\n",
      "Step=   86, Dmax= 1.8e-02 nm, Epot= -9.42286e+04 Fmax= 1.67006e+04, atom= 332\n",
      "Step=   87, Dmax= 2.2e-02 nm, Epot= -9.42836e+04 Fmax= 1.72568e+04, atom= 332\n",
      "Step=   89, Dmax= 1.3e-02 nm, Epot= -9.44663e+04 Fmax= 3.22171e+03, atom= 332\n",
      "Step=   90, Dmax= 1.6e-02 nm, Epot= -9.44912e+04 Fmax= 2.10582e+04, atom= 332\n",
      "Step=   91, Dmax= 1.9e-02 nm, Epot= -9.47190e+04 Fmax= 8.50386e+03, atom= 332\n",
      "Step=   93, Dmax= 1.1e-02 nm, Epot= -9.47760e+04 Fmax= 9.10021e+03, atom= 332\n",
      "Step=   94, Dmax= 1.4e-02 nm, Epot= -9.48135e+04 Fmax= 1.21994e+04, atom= 332\n",
      "Step=   95, Dmax= 1.7e-02 nm, Epot= -9.48617e+04 Fmax= 1.31687e+04, atom= 332\n",
      "Step=   96, Dmax= 2.0e-02 nm, Epot= -9.48651e+04 Fmax= 1.74242e+04, atom= 332\n",
      "Step=   97, Dmax= 2.4e-02 nm, Epot= -9.48940e+04 Fmax= 1.90567e+04, atom= 332\n",
      "Step=   99, Dmax= 1.4e-02 nm, Epot= -9.51054e+04 Fmax= 2.94254e+03, atom= 332\n",
      "Step=  101, Dmax= 8.6e-03 nm, Epot= -9.51858e+04 Fmax= 1.00397e+04, atom= 332\n",
      "Step=  102, Dmax= 1.0e-02 nm, Epot= -9.52631e+04 Fmax= 5.86316e+03, atom= 332\n",
      "Step=  103, Dmax= 1.2e-02 nm, Epot= -9.52836e+04 Fmax= 1.30366e+04, atom= 332\n",
      "Step=  104, Dmax= 1.5e-02 nm, Epot= -9.53680e+04 Fmax= 9.82899e+03, atom= 332\n",
      "Step=  106, Dmax= 8.9e-03 nm, Epot= -9.54457e+04 Fmax= 3.80616e+03, atom= 332\n",
      "Step=  107, Dmax= 1.1e-02 nm, Epot= -9.54866e+04 Fmax= 1.27661e+04, atom= 332\n",
      "Step=  108, Dmax= 1.3e-02 nm, Epot= -9.55833e+04 Fmax= 6.89632e+03, atom= 332\n",
      "Step=  110, Dmax= 7.7e-03 nm, Epot= -9.56393e+04 Fmax= 4.98643e+03, atom= 332\n",
      "Step=  111, Dmax= 9.2e-03 nm, Epot= -9.56825e+04 Fmax= 9.11656e+03, atom= 332\n",
      "Step=  112, Dmax= 1.1e-02 nm, Epot= -9.57398e+04 Fmax= 7.97838e+03, atom= 332\n",
      "Step=  113, Dmax= 1.3e-02 nm, Epot= -9.57583e+04 Fmax= 1.23715e+04, atom= 332\n",
      "Step=  114, Dmax= 1.6e-02 nm, Epot= -9.58100e+04 Fmax= 1.22004e+04, atom= 332\n",
      "Step=  116, Dmax= 9.6e-03 nm, Epot= -9.59104e+04 Fmax= 2.47027e+03, atom= 332\n",
      "Step=  117, Dmax= 1.1e-02 nm, Epot= -9.59685e+04 Fmax= 1.54123e+04, atom= 332\n",
      "Step=  118, Dmax= 1.4e-02 nm, Epot= -9.61017e+04 Fmax= 5.75285e+03, atom= 332\n",
      "Step=  120, Dmax= 8.3e-03 nm, Epot= -9.61457e+04 Fmax= 7.03093e+03, atom= 332\n",
      "Step=  121, Dmax= 9.9e-03 nm, Epot= -9.61866e+04 Fmax= 8.16471e+03, atom= 332\n",
      "Step=  122, Dmax= 1.2e-02 nm, Epot= -9.62197e+04 Fmax= 1.02119e+04, atom= 332\n",
      "Step=  123, Dmax= 1.4e-02 nm, Epot= -9.62518e+04 Fmax= 1.16834e+04, atom= 332\n",
      "Step=  124, Dmax= 1.7e-02 nm, Epot= -9.62630e+04 Fmax= 1.47207e+04, atom= 332\n",
      "Step=  125, Dmax= 2.1e-02 nm, Epot= -9.62770e+04 Fmax= 1.67827e+04, atom= 332\n",
      "Step=  127, Dmax= 1.2e-02 nm, Epot= -9.64411e+04 Fmax= 2.21188e+03, atom= 332\n",
      "Step=  128, Dmax= 1.5e-02 nm, Epot= -9.64636e+04 Fmax= 2.02418e+04, atom= 332\n",
      "Step=  129, Dmax= 1.8e-02 nm, Epot= -9.66698e+04 Fmax= 7.19762e+03, atom= 332\n",
      "Step=  131, Dmax= 1.1e-02 nm, Epot= -9.67011e+04 Fmax= 9.14063e+03, atom= 332\n",
      "Step=  132, Dmax= 1.3e-02 nm, Epot= -9.67316e+04 Fmax= 1.06029e+04, atom= 332\n",
      "Step=  133, Dmax= 1.5e-02 nm, Epot= -9.67491e+04 Fmax= 1.29321e+04, atom= 332\n",
      "Step=  134, Dmax= 1.8e-02 nm, Epot= -9.67587e+04 Fmax= 1.54326e+04, atom= 332\n",
      "Step=  136, Dmax= 1.1e-02 nm, Epot= -9.68982e+04 Fmax= 1.53217e+03, atom= 332\n",
      "Step=  137, Dmax= 1.3e-02 nm, Epot= -9.69812e+04 Fmax= 1.91869e+04, atom= 332\n",
      "Step=  138, Dmax= 1.6e-02 nm, Epot= -9.71726e+04 Fmax= 5.34441e+03, atom= 332\n",
      "Step=  140, Dmax= 9.6e-03 nm, Epot= -9.71947e+04 Fmax= 9.43108e+03, atom= 332\n",
      "Step=  141, Dmax= 1.1e-02 nm, Epot= -9.72402e+04 Fmax= 8.16361e+03, atom= 332\n",
      "Step=  143, Dmax= 6.9e-03 nm, Epot= -9.72948e+04 Fmax= 2.45140e+03, atom= 332\n",
      "Step=  144, Dmax= 8.3e-03 nm, Epot= -9.73417e+04 Fmax= 1.01248e+04, atom= 332\n",
      "Step=  145, Dmax= 9.9e-03 nm, Epot= -9.74068e+04 Fmax= 5.15573e+03, atom= 332\n",
      "Step=  147, Dmax= 5.9e-03 nm, Epot= -9.74440e+04 Fmax= 3.94366e+03, atom= 332\n",
      "Step=  148, Dmax= 7.1e-03 nm, Epot= -9.74765e+04 Fmax= 7.09779e+03, atom= 332\n",
      "Step=  149, Dmax= 8.6e-03 nm, Epot= -9.75161e+04 Fmax= 6.02289e+03, atom= 332\n",
      "Step=  150, Dmax= 1.0e-02 nm, Epot= -9.75324e+04 Fmax= 9.83825e+03, atom= 332\n",
      "Step=  151, Dmax= 1.2e-02 nm, Epot= -9.75727e+04 Fmax= 9.06378e+03, atom= 332\n",
      "Step=  153, Dmax= 7.4e-03 nm, Epot= -9.76330e+04 Fmax= 2.33920e+03, atom= 332\n",
      "Step=  154, Dmax= 8.9e-03 nm, Epot= -9.76733e+04 Fmax= 1.11714e+04, atom= 332\n",
      "Step=  155, Dmax= 1.1e-02 nm, Epot= -9.77466e+04 Fmax= 5.25043e+03, atom= 332\n",
      "Step=  157, Dmax= 6.4e-03 nm, Epot= -9.77814e+04 Fmax= 4.53269e+03, atom= 332\n",
      "Step=  158, Dmax= 7.7e-03 nm, Epot= -9.78085e+04 Fmax= 7.32309e+03, atom= 332\n",
      "Step=  159, Dmax= 9.2e-03 nm, Epot= -9.78438e+04 Fmax= 6.78302e+03, atom= 332\n",
      "Step=  160, Dmax= 1.1e-02 nm, Epot= -9.78557e+04 Fmax= 1.02538e+04, atom= 332\n",
      "Step=  161, Dmax= 1.3e-02 nm, Epot= -9.78894e+04 Fmax= 1.00651e+04, atom= 332\n",
      "Step=  163, Dmax= 7.9e-03 nm, Epot= -9.79574e+04 Fmax= 2.18633e+03, atom= 332\n",
      "Step=  164, Dmax= 9.5e-03 nm, Epot= -9.79912e+04 Fmax= 1.23346e+04, atom= 332\n",
      "Step=  165, Dmax= 1.1e-02 nm, Epot= -9.80756e+04 Fmax= 5.31465e+03, atom= 332\n",
      "Step=  167, Dmax= 6.9e-03 nm, Epot= -9.81070e+04 Fmax= 5.20472e+03, atom= 332\n",
      "Step=  168, Dmax= 8.2e-03 nm, Epot= -9.81303e+04 Fmax= 7.52695e+03, atom= 332\n",
      "Step=  169, Dmax= 9.9e-03 nm, Epot= -9.81603e+04 Fmax= 7.63848e+03, atom= 332\n",
      "Step=  170, Dmax= 1.2e-02 nm, Epot= -9.81698e+04 Fmax= 1.06619e+04, atom= 332\n",
      "Step=  171, Dmax= 1.4e-02 nm, Epot= -9.81947e+04 Fmax= 1.11794e+04, atom= 332\n",
      "Step=  173, Dmax= 8.5e-03 nm, Epot= -9.82731e+04 Fmax= 1.98417e+03, atom= 332\n",
      "Step=  174, Dmax= 1.0e-02 nm, Epot= -9.83016e+04 Fmax= 1.36187e+04, atom= 332\n",
      "Step=  175, Dmax= 1.2e-02 nm, Epot= -9.84002e+04 Fmax= 5.35322e+03, atom= 332\n",
      "Step=  177, Dmax= 7.4e-03 nm, Epot= -9.84276e+04 Fmax= 5.95827e+03, atom= 332\n",
      "Step=  178, Dmax= 8.9e-03 nm, Epot= -9.84490e+04 Fmax= 7.71651e+03, atom= 332\n",
      "Step=  179, Dmax= 1.1e-02 nm, Epot= -9.84720e+04 Fmax= 8.58771e+03, atom= 332\n",
      "Step=  180, Dmax= 1.3e-02 nm, Epot= -9.84808e+04 Fmax= 1.10717e+04, atom= 332\n",
      "Step=  181, Dmax= 1.5e-02 nm, Epot= -9.84948e+04 Fmax= 1.24047e+04, atom= 332\n",
      "Step=  183, Dmax= 9.2e-03 nm, Epot= -9.85864e+04 Fmax= 1.74047e+03, atom= 332\n",
      "Step=  184, Dmax= 1.1e-02 nm, Epot= -9.86119e+04 Fmax= 1.50149e+04, atom= 332\n",
      "Step=  185, Dmax= 1.3e-02 nm, Epot= -9.87283e+04 Fmax= 5.38445e+03, atom= 332\n",
      "Step=  187, Dmax= 7.9e-03 nm, Epot= -9.87504e+04 Fmax= 6.77965e+03, atom= 332\n",
      "Step=  188, Dmax= 9.5e-03 nm, Epot= -9.87715e+04 Fmax= 7.91086e+03, atom= 332\n",
      "Step=  189, Dmax= 1.1e-02 nm, Epot= -9.87860e+04 Fmax= 9.61782e+03, atom= 332\n",
      "Step=  190, Dmax= 1.4e-02 nm, Epot= -9.87958e+04 Fmax= 1.15033e+04, atom= 332\n",
      "Step=  191, Dmax= 1.6e-02 nm, Epot= -9.87964e+04 Fmax= 1.37301e+04, atom= 332\n",
      "Step=  193, Dmax= 9.9e-03 nm, Epot= -9.89042e+04 Fmax= 1.47200e+03, atom= 332\n",
      "Step=  194, Dmax= 1.2e-02 nm, Epot= -9.89314e+04 Fmax= 1.65004e+04, atom= 332\n",
      "Step=  195, Dmax= 1.4e-02 nm, Epot= -9.90688e+04 Fmax= 5.44389e+03, atom= 332\n",
      "Step=  197, Dmax= 8.5e-03 nm, Epot= -9.90846e+04 Fmax= 7.63873e+03, atom= 332\n",
      "Step=  198, Dmax= 1.0e-02 nm, Epot= -9.91066e+04 Fmax= 8.14691e+03, atom= 332\n",
      "Step=  199, Dmax= 1.2e-02 nm, Epot= -9.91113e+04 Fmax= 1.06984e+04, atom= 332\n",
      "Step=  200, Dmax= 1.5e-02 nm, Epot= -9.91232e+04 Fmax= 1.19950e+04, atom= 332\n",
      "Step=  202, Dmax= 8.8e-03 nm, Epot= -9.92075e+04 Fmax= 1.57970e+03, atom= 332\n",
      "Step=  203, Dmax= 1.1e-02 nm, Epot= -9.92247e+04 Fmax= 1.49197e+04, atom= 332\n",
      "Step=  204, Dmax= 1.3e-02 nm, Epot= -9.93398e+04 Fmax= 4.66702e+03, atom= 332\n",
      "Step=  206, Dmax= 7.6e-03 nm, Epot= -9.93555e+04 Fmax= 7.13135e+03, atom= 332\n",
      "Step=  207, Dmax= 9.2e-03 nm, Epot= -9.93800e+04 Fmax= 6.94269e+03, atom= 332\n",
      "Step=  208, Dmax= 1.1e-02 nm, Epot= -9.93830e+04 Fmax= 1.00187e+04, atom= 332\n",
      "Step=  209, Dmax= 1.3e-02 nm, Epot= -9.94039e+04 Fmax= 1.02451e+04, atom= 332\n",
      "Step=  211, Dmax= 7.9e-03 nm, Epot= -9.94684e+04 Fmax= 1.95678e+03, atom= 332\n",
      "Step=  212, Dmax= 9.5e-03 nm, Epot= -9.94782e+04 Fmax= 1.25523e+04, atom= 332\n",
      "Step=  213, Dmax= 1.1e-02 nm, Epot= -9.95601e+04 Fmax= 5.03049e+03, atom= 332\n",
      "Step=  215, Dmax= 6.8e-03 nm, Epot= -9.95813e+04 Fmax= 5.46436e+03, atom= 332\n",
      "Step=  216, Dmax= 8.2e-03 nm, Epot= -9.95967e+04 Fmax= 7.20679e+03, atom= 332\n",
      "Step=  217, Dmax= 9.9e-03 nm, Epot= -9.96147e+04 Fmax= 7.91773e+03, atom= 332\n",
      "Step=  218, Dmax= 1.2e-02 nm, Epot= -9.96189e+04 Fmax= 1.03039e+04, atom= 332\n",
      "Step=  219, Dmax= 1.4e-02 nm, Epot= -9.96294e+04 Fmax= 1.14733e+04, atom= 332\n",
      "Step=  221, Dmax= 8.5e-03 nm, Epot= -9.97065e+04 Fmax= 1.63996e+03, atom= 332\n",
      "Step=  222, Dmax= 1.0e-02 nm, Epot= -9.97165e+04 Fmax= 1.39317e+04, atom= 332\n",
      "Step=  223, Dmax= 1.2e-02 nm, Epot= -9.98153e+04 Fmax= 4.97576e+03, atom= 332\n",
      "Step=  225, Dmax= 7.4e-03 nm, Epot= -9.98321e+04 Fmax= 6.30801e+03, atom= 332\n",
      "Step=  226, Dmax= 8.8e-03 nm, Epot= -9.98485e+04 Fmax= 7.30668e+03, atom= 332\n",
      "Step=  227, Dmax= 1.1e-02 nm, Epot= -9.98586e+04 Fmax= 8.95166e+03, atom= 332\n",
      "Step=  228, Dmax= 1.3e-02 nm, Epot= -9.98656e+04 Fmax= 1.06270e+04, atom= 332\n",
      "Step=  230, Dmax= 7.6e-03 nm, Epot= -9.99327e+04 Fmax= 1.08610e+03, atom= 332\n",
      "Step=  231, Dmax= 9.2e-03 nm, Epot= -9.99827e+04 Fmax= 1.31708e+04, atom= 332\n",
      "Step=  232, Dmax= 1.1e-02 nm, Epot= -1.00075e+05 Fmax= 3.72898e+03, atom= 332\n",
      "Step=  234, Dmax= 6.6e-03 nm, Epot= -1.00089e+05 Fmax= 6.45311e+03, atom= 332\n",
      "Step=  235, Dmax= 7.9e-03 nm, Epot= -1.00112e+05 Fmax= 5.68997e+03, atom= 332\n",
      "Step=  236, Dmax= 9.5e-03 nm, Epot= -1.00114e+05 Fmax= 8.94489e+03, atom= 332\n",
      "Step=  237, Dmax= 1.1e-02 nm, Epot= -1.00137e+05 Fmax= 8.53914e+03, atom= 332\n",
      "Step=  239, Dmax= 6.8e-03 nm, Epot= -1.00184e+05 Fmax= 1.98842e+03, atom= 332\n",
      "Step=  240, Dmax= 8.2e-03 nm, Epot= -1.00193e+05 Fmax= 1.05404e+04, atom= 332\n",
      "Step=  241, Dmax= 9.8e-03 nm, Epot= -1.00252e+05 Fmax= 4.62272e+03, atom= 332\n",
      "Step=  243, Dmax= 5.9e-03 nm, Epot= -1.00272e+05 Fmax= 4.43042e+03, atom= 332\n",
      "Step=  244, Dmax= 7.1e-03 nm, Epot= -1.00285e+05 Fmax= 6.50199e+03, atom= 332\n",
      "Step=  245, Dmax= 8.5e-03 nm, Epot= -1.00304e+05 Fmax= 6.54498e+03, atom= 332\n",
      "Step=  246, Dmax= 1.0e-02 nm, Epot= -1.00307e+05 Fmax= 9.17664e+03, atom= 332\n",
      "Step=  247, Dmax= 1.2e-02 nm, Epot= -1.00322e+05 Fmax= 9.61259e+03, atom= 332\n",
      "Step=  249, Dmax= 7.3e-03 nm, Epot= -1.00378e+05 Fmax= 1.70019e+03, atom= 332\n",
      "Step=  250, Dmax= 8.8e-03 nm, Epot= -1.00387e+05 Fmax= 1.17508e+04, atom= 332\n",
      "Step=  251, Dmax= 1.1e-02 nm, Epot= -1.00458e+05 Fmax= 4.55071e+03, atom= 332\n",
      "Step=  253, Dmax= 6.3e-03 nm, Epot= -1.00475e+05 Fmax= 5.18096e+03, atom= 332\n",
      "Step=  254, Dmax= 7.6e-03 nm, Epot= -1.00488e+05 Fmax= 6.56427e+03, atom= 332\n",
      "Step=  255, Dmax= 9.1e-03 nm, Epot= -1.00502e+05 Fmax= 7.45974e+03, atom= 332\n",
      "Step=  256, Dmax= 1.1e-02 nm, Epot= -1.00506e+05 Fmax= 9.43271e+03, atom= 332\n",
      "Step=  257, Dmax= 1.3e-02 nm, Epot= -1.00512e+05 Fmax= 1.07613e+04, atom= 332\n",
      "Step=  259, Dmax= 7.9e-03 nm, Epot= -1.00580e+05 Fmax= 1.39713e+03, atom= 332\n",
      "Step=  260, Dmax= 9.5e-03 nm, Epot= -1.00591e+05 Fmax= 1.30337e+04, atom= 332\n",
      "Step=  261, Dmax= 1.1e-02 nm, Epot= -1.00678e+05 Fmax= 4.49606e+03, atom= 332\n",
      "Step=  263, Dmax= 6.8e-03 nm, Epot= -1.00691e+05 Fmax= 5.96605e+03, atom= 332\n",
      "Step=  264, Dmax= 8.2e-03 nm, Epot= -1.00705e+05 Fmax= 6.65523e+03, atom= 332\n",
      "Step=  265, Dmax= 9.8e-03 nm, Epot= -1.00712e+05 Fmax= 8.41925e+03, atom= 332\n",
      "Step=  266, Dmax= 1.2e-02 nm, Epot= -1.00719e+05 Fmax= 9.73273e+03, atom= 332\n",
      "Step=  268, Dmax= 7.1e-03 nm, Epot= -1.00776e+05 Fmax= 1.12600e+03, atom= 332\n",
      "Step=  269, Dmax= 8.5e-03 nm, Epot= -1.00806e+05 Fmax= 1.20757e+04, atom= 332\n",
      "Step=  270, Dmax= 1.0e-02 nm, Epot= -1.00882e+05 Fmax= 3.58385e+03, atom= 332\n",
      "Step=  272, Dmax= 6.1e-03 nm, Epot= -1.00894e+05 Fmax= 5.85309e+03, atom= 332\n",
      "Step=  273, Dmax= 7.3e-03 nm, Epot= -1.00913e+05 Fmax= 5.40242e+03, atom= 332\n",
      "Step=  274, Dmax= 8.8e-03 nm, Epot= -1.00916e+05 Fmax= 8.16408e+03, atom= 332\n",
      "Step=  275, Dmax= 1.1e-02 nm, Epot= -1.00934e+05 Fmax= 8.04485e+03, atom= 332\n",
      "Step=  277, Dmax= 6.3e-03 nm, Epot= -1.00975e+05 Fmax= 1.71528e+03, atom= 332\n",
      "Step=  278, Dmax= 7.6e-03 nm, Epot= -1.00985e+05 Fmax= 9.89290e+03, atom= 332\n",
      "Step=  279, Dmax= 9.1e-03 nm, Epot= -1.01037e+05 Fmax= 4.16539e+03, atom= 332\n",
      "Step=  281, Dmax= 5.5e-03 nm, Epot= -1.01053e+05 Fmax= 4.22652e+03, atom= 332\n",
      "Step=  282, Dmax= 6.6e-03 nm, Epot= -1.01065e+05 Fmax= 5.90839e+03, atom= 332\n",
      "Step=  283, Dmax= 7.9e-03 nm, Epot= -1.01080e+05 Fmax= 6.18623e+03, atom= 332\n",
      "Step=  284, Dmax= 9.5e-03 nm, Epot= -1.01083e+05 Fmax= 8.38948e+03, atom= 332\n",
      "Step=  285, Dmax= 1.1e-02 nm, Epot= -1.01095e+05 Fmax= 9.02989e+03, atom= 332\n",
      "Step=  287, Dmax= 6.8e-03 nm, Epot= -1.01144e+05 Fmax= 1.45922e+03, atom= 332\n",
      "Step=  288, Dmax= 8.2e-03 nm, Epot= -1.01155e+05 Fmax= 1.09988e+04, atom= 332\n",
      "Step=  289, Dmax= 9.8e-03 nm, Epot= -1.01217e+05 Fmax= 4.11497e+03, atom= 332\n",
      "Step=  291, Dmax= 5.9e-03 nm, Epot= -1.01232e+05 Fmax= 4.90557e+03, atom= 332\n",
      "Step=  292, Dmax= 7.1e-03 nm, Epot= -1.01243e+05 Fmax= 5.98414e+03, atom= 332\n",
      "Step=  293, Dmax= 8.5e-03 nm, Epot= -1.01254e+05 Fmax= 7.01598e+03, atom= 332\n",
      "Step=  294, Dmax= 1.0e-02 nm, Epot= -1.01259e+05 Fmax= 8.64627e+03, atom= 332\n",
      "Step=  295, Dmax= 1.2e-02 nm, Epot= -1.01263e+05 Fmax= 1.00757e+04, atom= 332\n",
      "Step=  297, Dmax= 7.3e-03 nm, Epot= -1.01321e+05 Fmax= 1.19801e+03, atom= 332\n",
      "Step=  298, Dmax= 8.8e-03 nm, Epot= -1.01337e+05 Fmax= 1.21607e+04, atom= 332\n",
      "Step=  299, Dmax= 1.1e-02 nm, Epot= -1.01412e+05 Fmax= 4.09183e+03, atom= 332\n",
      "Step=  301, Dmax= 6.3e-03 nm, Epot= -1.01423e+05 Fmax= 5.60517e+03, atom= 332\n",
      "Step=  302, Dmax= 7.6e-03 nm, Epot= -1.01437e+05 Fmax= 6.09701e+03, atom= 332\n",
      "Step=  303, Dmax= 9.1e-03 nm, Epot= -1.01442e+05 Fmax= 7.87652e+03, atom= 332\n",
      "Step=  304, Dmax= 1.1e-02 nm, Epot= -1.01449e+05 Fmax= 8.95427e+03, atom= 332\n",
      "Step=  306, Dmax= 6.6e-03 nm, Epot= -1.01497e+05 Fmax= 1.11121e+03, atom= 332\n",
      "Step=  307, Dmax= 7.9e-03 nm, Epot= -1.01518e+05 Fmax= 1.11293e+04, atom= 332\n",
      "Step=  308, Dmax= 9.4e-03 nm, Epot= -1.01584e+05 Fmax= 3.38255e+03, atom= 332\n",
      "Step=  310, Dmax= 5.7e-03 nm, Epot= -1.01594e+05 Fmax= 5.36712e+03, atom= 332\n",
      "Step=  311, Dmax= 6.8e-03 nm, Epot= -1.01610e+05 Fmax= 5.06439e+03, atom= 332\n",
      "Step=  312, Dmax= 8.2e-03 nm, Epot= -1.01613e+05 Fmax= 7.51454e+03, atom= 332\n",
      "Step=  313, Dmax= 9.8e-03 nm, Epot= -1.01628e+05 Fmax= 7.51021e+03, atom= 332\n",
      "Step=  315, Dmax= 5.9e-03 nm, Epot= -1.01664e+05 Fmax= 1.53959e+03, atom= 332\n",
      "Step=  316, Dmax= 7.0e-03 nm, Epot= -1.01674e+05 Fmax= 9.21084e+03, atom= 332\n",
      "Step=  317, Dmax= 8.5e-03 nm, Epot= -1.01720e+05 Fmax= 3.82327e+03, atom= 332\n",
      "Step=  319, Dmax= 5.1e-03 nm, Epot= -1.01734e+05 Fmax= 3.95405e+03, atom= 332\n",
      "Step=  320, Dmax= 6.1e-03 nm, Epot= -1.01744e+05 Fmax= 5.44400e+03, atom= 332\n",
      "Step=  321, Dmax= 7.3e-03 nm, Epot= -1.01757e+05 Fmax= 5.76598e+03, atom= 332\n",
      "Step=  322, Dmax= 8.8e-03 nm, Epot= -1.01760e+05 Fmax= 7.74955e+03, atom= 332\n",
      "Step=  323, Dmax= 1.1e-02 nm, Epot= -1.01770e+05 Fmax= 8.39790e+03, atom= 332\n",
      "Step=  325, Dmax= 6.3e-03 nm, Epot= -1.01813e+05 Fmax= 1.32809e+03, atom= 332\n",
      "Step=  326, Dmax= 7.6e-03 nm, Epot= -1.01824e+05 Fmax= 1.02078e+04, atom= 332\n",
      "Step=  327, Dmax= 9.1e-03 nm, Epot= -1.01878e+05 Fmax= 3.80451e+03, atom= 332\n",
      "Step=  329, Dmax= 5.5e-03 nm, Epot= -1.01890e+05 Fmax= 4.55487e+03, atom= 332\n",
      "Step=  330, Dmax= 6.5e-03 nm, Epot= -1.01901e+05 Fmax= 5.54321e+03, atom= 332\n",
      "Step=  331, Dmax= 7.9e-03 nm, Epot= -1.01910e+05 Fmax= 6.50578e+03, atom= 332\n",
      "Step=  332, Dmax= 9.4e-03 nm, Epot= -1.01915e+05 Fmax= 8.01768e+03, atom= 332\n",
      "Step=  333, Dmax= 1.1e-02 nm, Epot= -1.01918e+05 Fmax= 9.33734e+03, atom= 332\n",
      "Step=  335, Dmax= 6.8e-03 nm, Epot= -1.01969e+05 Fmax= 1.11613e+03, atom= 332\n",
      "Step=  336, Dmax= 8.1e-03 nm, Epot= -1.01984e+05 Fmax= 1.12526e+04, atom= 332\n",
      "Step=  337, Dmax= 9.8e-03 nm, Epot= -1.02049e+05 Fmax= 3.81398e+03, atom= 332\n",
      "Step=  339, Dmax= 5.9e-03 nm, Epot= -1.02059e+05 Fmax= 5.17185e+03, atom= 332\n",
      "Step=  340, Dmax= 7.0e-03 nm, Epot= -1.02070e+05 Fmax= 5.67959e+03, atom= 332\n",
      "Step=  341, Dmax= 8.4e-03 nm, Epot= -1.02075e+05 Fmax= 7.27156e+03, atom= 332\n",
      "Step=  342, Dmax= 1.0e-02 nm, Epot= -1.02081e+05 Fmax= 8.33531e+03, atom= 332\n",
      "Step=  344, Dmax= 6.1e-03 nm, Epot= -1.02123e+05 Fmax= 9.94879e+02, atom= 332\n",
      "\n",
      "writing lowest energy coordinates.\n",
      "\n",
      "Steepest Descents converged to Fmax < 1000 in 345 steps\n",
      "Potential Energy  = -1.0212296e+05\n",
      "Maximum force     =  9.9487872e+02 on atom 332\n",
      "Norm of force     =  4.2333694e+01\n",
      "\n",
      "GROMACS reminds you: \"I'd Like Monday Mornings Better If They Started Later\" (Garfield)\n",
      "\n"
     ]
    }
   ],
   "source": [
    "# Energy minimization:\n",
    "!gmx grompp -f data/mdp/em.mdp -p 00-systemsetup/penetratin.top -c 00-systemsetup/box_ions.gro -o 01-minimization/em.tpr  > /dev/null 2>&1\n",
    "!gmx mdrun -s 01-minimization/em.tpr -deffnm 01-minimization/em -v -ntmpi 2"
   ]
  },
  {
   "attachments": {},
   "cell_type": "markdown",
   "metadata": {},
   "source": [
    "### Position-restrained NVT equilibration"
   ]
  },
  {
   "cell_type": "code",
   "execution_count": 58,
   "metadata": {},
   "outputs": [
    {
     "name": "stdout",
     "output_type": "stream",
     "text": [
      "                      :-) GROMACS - gmx mdrun, 2021.3 (-:\n",
      "\n",
      "                            GROMACS is written by:\n",
      "     Andrey Alekseenko              Emile Apol              Rossen Apostolov     \n",
      "         Paul Bauer           Herman J.C. Berendsen           Par Bjelkmar       \n",
      "       Christian Blau           Viacheslav Bolnykh             Kevin Boyd        \n",
      "     Aldert van Buuren           Rudi van Drunen             Anton Feenstra      \n",
      "    Gilles Gouaillardet             Alan Gray               Gerrit Groenhof      \n",
      "       Anca Hamuraru            Vincent Hindriksen          M. Eric Irrgang      \n",
      "      Aleksei Iupinov           Christoph Junghans             Joe Jordan        \n",
      "    Dimitrios Karkoulis            Peter Kasson                Jiri Kraus        \n",
      "      Carsten Kutzner              Per Larsson              Justin A. Lemkul     \n",
      "       Viveca Lindahl            Magnus Lundborg             Erik Marklund       \n",
      "        Pascal Merz             Pieter Meulenhoff            Teemu Murtola       \n",
      "        Szilard Pall               Sander Pronk              Roland Schulz       \n",
      "       Michael Shirts            Alexey Shvetsov             Alfons Sijbers      \n",
      "       Peter Tieleman              Jon Vincent              Teemu Virolainen     \n",
      "     Christian Wennberg            Maarten Wolf              Artem Zhmurov       \n",
      "                           and the project leaders:\n",
      "        Mark Abraham, Berk Hess, Erik Lindahl, and David van der Spoel\n",
      "\n",
      "Copyright (c) 1991-2000, University of Groningen, The Netherlands.\n",
      "Copyright (c) 2001-2019, The GROMACS development team at\n",
      "Uppsala University, Stockholm University and\n",
      "the Royal Institute of Technology, Sweden.\n",
      "check out http://www.gromacs.org for more information.\n",
      "\n",
      "GROMACS is free software; you can redistribute it and/or modify it\n",
      "under the terms of the GNU Lesser General Public License\n",
      "as published by the Free Software Foundation; either version 2.1\n",
      "of the License, or (at your option) any later version.\n",
      "\n",
      "GROMACS:      gmx mdrun, version 2021.3\n",
      "Executable:   /opt/gromacs/2021.3_intel_OpenMP_OCL4/bin/gmx\n",
      "Data prefix:  /opt/gromacs/2021.3_intel_OpenMP_OCL4\n",
      "Working dir:  /Users/eric/Documents/GitHub/BiomeccanicaMultiscala/LAB/07-SimulatedAnnealing\n",
      "Command line:\n",
      "  gmx mdrun -s 02-equilibration/posres.tpr -deffnm 02-equilibration/posres -v -nt 12\n",
      "\n",
      "Reading file 02-equilibration/posres.tpr, VERSION 2021.3 (single precision)\n",
      "Changing nstlist from 20 to 100, rlist from 1.01 to 1.141\n",
      "\n",
      "On host pcdimeaszizzi.polito.it 2 GPUs selected for this run.\n",
      "Mapping of GPU IDs to the 2 GPU tasks in the 2 ranks on this node:\n",
      "  PP:0,PP:1\n",
      "PP tasks will do (non-perturbed) short-ranged interactions on the GPU\n",
      "PP task will update and constrain coordinates on the CPU\n",
      "Using 2 MPI threads\n",
      "Using 6 OpenMP threads per tMPI thread\n",
      "\n",
      "\n",
      "NOTE: DLB will not turn on during the first phase of PME tuning\n",
      "starting mdrun 'Penetratin-Silica Umbrella simulation in water'\n",
      "20000 steps,     20.0 ps.\n",
      "step 2000: timed with pme grid 40 40 40, coulomb cutoff 1.000: 604.0 M-cycles F 15% imb F 14% imb F 15% imb F 15% imb F 12% imb F 16% imb F 14% imb F 15% imb F 15% imb F 13% imb F  6% imb F 10% imb F 14% imb F  5% imb F  7% \n",
      "step 2200: timed with pme grid 32 32 32, coulomb cutoff 1.192: 698.1 M-cycles\n",
      "step 2400: timed with pme grid 36 36 36, coulomb cutoff 1.059: 654.3 M-cycles\n",
      "step 2600: timed with pme grid 40 40 40, coulomb cutoff 1.000: 581.8 M-cycles\n",
      "step 2800: timed with pme grid 40 40 40, coulomb cutoff 1.000: 590.7 M-cycles\n",
      "              optimal pme grid 40 40 40, coulomb cutoff 1.000\n",
      "\n",
      "NOTE: DLB can now turn on, when beneficial\n",
      "step 19900, remaining wall clock time:     0 s          mb F  7% vol 0.95  imb F 15% vol 0.98  imb F 12% vol 0.92  imb F 10% vol 0.87  imb F 11% vol 0.81  imb F 12% vol 0.76  imb F  5% vol 0.73  imb F  1% vol 0.73  imb F  4% vol 0.71  imb F  5% vol 0.68  imb F  5% vol 0.66  imb F  6% vol 0.63  imb F  5% vol 0.61! imb F  3% vol 0.61! imb F  5% vol 0.61! imb F  5% vol 0.61! imb F  5% vol 0.61! imb F  3% vol 0.61! imb F  5% vol 0.61! imb F  4% vol 0.61! imb F  4% vol 0.61! imb F  4% vol 0.61! imb F  5% vol 0.61! imb F  3% vol 0.61! imb F  4% vol 0.61! imb F  4% vol 0.61! imb F  5% vol 0.61! imb F  4% vol 0.61! imb F  5% vol 0.61! imb F  4% vol 0.61! imb F  5% vol 0.61! imb F  4% vol 0.61! imb F  5% vol 0.61! imb F  5% vol 0.61! imb F  4% vol 0.61! imb F  4% vol 0.61! imb F  4% vol 0.61! imb F  3% vol 0.61! imb F  3% vol 0.61! imb F  6% vol 0.61! imb F  5% vol 0.61! imb F  4% vol 0.61! imb F  4% vol 0.61! imb F  1% vol 0.61! imb F  4% vol 0.61! imb F  3% vol 0.61! imb F  4% vol 0.61! imb F  3% vol 0.61! imb F  3% vol 0.61! imb F  1% vol 0.61! imb F  1% vol 0.61! imb F  1% vol 0.61! imb F  3% vol 0.61! imb F  4% vol 0.61! imb F  4% vol 0.61! imb F  5% vol 0.61! imb F  4% vol 0.61! imb F  4% vol 0.61! imb F  5% vol 0.61! imb F  3% vol 0.61! imb F  3% vol 0.61! imb F  2% vol 0.61! imb F  4% vol 0.61! imb F  2% vol 0.61! imb F  3% vol 0.61! imb F  1% vol 0.61! imb F  4% vol 0.61! imb F  3% vol 0.61! imb F  5% vol 0.61! imb F  3% vol 0.61! imb F  3% vol 0.61! imb F  5% vol 0.61! imb F  5% vol 0.61! imb F  5% vol 0.61! imb F  5% vol 0.61! imb F  4% vol 0.61! imb F  5% vol 0.61! imb F  5% vol 0.61! imb F  5% vol 0.61! imb F  5% vol 0.61! imb F  4% vol 0.61! imb F  5% vol 0.61! imb F  4% vol 0.61! imb F  5% vol 0.61! imb F  5% vol 0.61! imb F  4% vol 0.61! imb F  4% vol 0.61! imb F  5% vol 0.61! imb F  5% vol 0.61! imb F  5% vol 0.61! imb F  4% vol 0.61! imb F  5% vol 0.61! imb F  4% vol 0.61! imb F  5% vol 0.61! imb F  4% vol 0.61! imb F  5% vol 0.61! imb F  4% vol 0.61! imb F  5% vol 0.61! imb F  5% vol 0.61! imb F  5% vol 0.61! imb F  5% vol 0.61! imb F  4% vol 0.61! imb F  4% vol 0.61! imb F  4% vol 0.61! imb F  4% vol 0.61! imb F  4% vol 0.61! imb F  4% vol 0.61! imb F  4% vol 0.61! imb F  3% vol 0.61! imb F  5% vol 0.61! imb F  2% vol 0.61! imb F  3% vol 0.61! imb F  4% vol 0.61! imb F  3% vol 0.61! imb F  4% vol 0.61! imb F  4% vol 0.61! imb F  4% vol 0.61! imb F  5% vol 0.61! imb F  3% vol 0.61! imb F  3% vol 0.61! imb F  3% vol 0.61! imb F  3% vol 0.61! imb F  4% vol 0.61! imb F  5% vol 0.61! imb F  4% vol 0.61! imb F  4% vol 0.61! imb F  3% vol 0.61! imb F  5% vol 0.61! imb F  3% vol 0.61! imb F  3% vol 0.61! imb F  2% vol 0.61! imb F  3% vol 0.61! imb F  4% vol 0.61! imb F  3% vol 0.61! imb F  4% vol 0.61! imb F  4% vol 0.61! imb F  5% vol 0.61! imb F  5% vol 0.61! imb F  5% vol 0.61! imb F  4% vol 0.61! imb F  4% vol 0.61! imb F  5% vol 0.61! imb F  4% vol 0.61! imb F  4% vol 0.61! imb F  2% vol 0.61! imb F  4% vol 0.61! imb F  4% vol 0.61! imb F  4% vol 0.61! imb F  5% vol 0.61! imb F  6% vol 0.61! imb F  4% vol 0.61! imb F  4% vol 0.61! imb F  4% vol 0.61! imb F  5% vol 0.61! imb F  4% vol 0.61! imb F  4% vol 0.61! imb F  5% vol 0.61! imb F  5% vol 0.61! imb F  4% vol 0.61! imb F  4% vol 0.61! imb F  4% vol 0.61! imb F  4% vol 0.61! imb F  4% vol 0.61! imb F  4% vol 0.61! imb F  5% vol 0.61! imb F  3% vol 0.61! imb F  5% vol 0.61! imb F  5% vol 0.61! imb F  4% vol 0.61! imb F  5% vol 0.61! imb F  4% \n",
      "Writing final coordinates.\n",
      "step 20000, remaining wall clock time:     0 s          \n",
      "\n",
      "Dynamic load balancing report:\n",
      " DLB was turned on during the run due to measured imbalance.\n",
      " Average load imbalance: 6.4%.\n",
      " The balanceable part of the MD step is 59%, load imbalance is computed from this.\n",
      " Part of the total run time spent waiting due to load imbalance: 3.8%.\n",
      " Steps where the load balancing was limited by -rdd, -rcon and/or -dds: X 0 %\n",
      "\n",
      "\n",
      "NOTE: The CPU has >25% more load than the GPU. This imbalance wastes\n",
      "      GPU resources. Maybe the domain decomposition limits the PME tuning.\n",
      "      In that case, try setting the DD grid manually (-dd) or lowering -dds.\n",
      "\n",
      "               Core t (s)   Wall t (s)        (%)\n",
      "       Time:      580.563       48.381     1200.0\n",
      "                 (ns/day)    (hour/ns)\n",
      "Performance:       35.718        0.672\n",
      "\n",
      "GROMACS reminds you: \"Marie, you're looking more radiant every day!\" (Pierre Curie)\n",
      "\n"
     ]
    }
   ],
   "source": [
    "# Initial equilibration: (CAN BE SLOW ON COLB! SEE BELOW!)\n",
    "!gmx grompp -f data/mdp/posre.mdp -c 01-minimization/em.gro -r 01-minimization/em.gro -p 00-systemsetup/penetratin.top -o 02-equilibration/posres.tpr  -maxwarn 2 > 02-equilibration/grompp.log 2>&1\n",
    "!gmx mdrun -s 02-equilibration/posres.tpr -deffnm 02-equilibration/posres -v  > 02-equilibration/mdrun.log 2>&1"
   ]
  },
  {
   "cell_type": "code",
   "execution_count": null,
   "metadata": {},
   "outputs": [],
   "source": [
    "# NOTE: The cell above (equilibration) might take a substantial amount of time on COLAB. To speed things up for the lesson, you can instead retrieve the \n",
    "# pre-computed trajectory from the repository using the following command:\n",
    "!gdown --folder https://drive.google.com/drive/folders/1ymVZ2dV2-L3RPu9TNkAVKMVux0xByfip?usp=share_link > /dev/null 2&>1"
   ]
  },
  {
   "attachments": {},
   "cell_type": "markdown",
   "metadata": {},
   "source": [
    "### Production plain MD simulation"
   ]
  },
  {
   "cell_type": "code",
   "execution_count": 61,
   "metadata": {},
   "outputs": [],
   "source": [
    "# Quick production MD run (CAN BE SLOW ON COLB! SEE BELOW!):\n",
    "!gmx grompp -f data/mdp/md.mdp -c  02-equilibration/posres.gro -p 00-systemsetup/penetratin.top -o 03-production/md.tpr >03-production/grompp.log 2>&1 \n",
    "!gmx mdrun -deffnm 03-production/md -s 03-production/md.tpr -v > 03-production/mdrun.log 2>&1\n",
    "# Fix PBCs:\n",
    "! echo -e \"0 \\n\" | gmx trjconv -s 03-production/md.tpr -f 03-production/md.xtc -pbc mol -ur compact -o 03-production/noPBC.xtc  > /dev/null 2&>1"
   ]
  },
  {
   "cell_type": "code",
   "execution_count": null,
   "metadata": {},
   "outputs": [],
   "source": [
    "# NOTE: The cell above (md simulation) might take a substantial amount of time on COLAB. To speed things up for the lesson, you can instead retrieve the \n",
    "# pre-computed trajectory from the repository using the following command:\n",
    "!gdown --folder https://drive.google.com/drive/folders/1LCB9BbwfldN6JzzVKF7d6s_Ysr1BkvgH?usp=share_link &> /dev/null"
   ]
  },
  {
   "cell_type": "code",
   "execution_count": 65,
   "metadata": {},
   "outputs": [
    {
     "data": {
      "application/vnd.jupyter.widget-view+json": {
       "model_id": "b506d2f1a8604b32bd60545ffb0f9c6e",
       "version_major": 2,
       "version_minor": 0
      },
      "text/plain": [
       "NGLWidget(max_frame=2500)"
      ]
     },
     "metadata": {},
     "output_type": "display_data"
    }
   ],
   "source": [
    "# Let's have a final look:\n",
    "import nglview as nv\n",
    "traj_nopbc = nv.SimpletrajTrajectory(\"03-production/noPBC.xtc\", \"03-production/md.gro\")\n",
    "view_nopbc = nv.show_simpletraj(traj_nopbc)\n",
    "view_nopbc.add_representation(\"ball+stick\",selection=\"water\")\n",
    "view_nopbc.center(\"sytem\")\n",
    "view_nopbc.camera = 'orthographic'\n",
    "view_nopbc"
   ]
  },
  {
   "cell_type": "markdown",
   "metadata": {},
   "source": [
    "## Setup the Simulated Annealing\n",
    "\n",
    "Now, let's have a look at the parameters we need to set.<br>\n",
    "First, a small but crucial technical note: the annealing is implemented in GROMACS by changing the current reference temperature for each group in the temperature coupling. This means that **the actual relaxation and coupling properties depends on the type of thermostat** you use and how hard you are coupling it. Since we are changing the reference temperature it is important to remember that <u>the system will NOT instantaneously reach this value</u> - you need to allow for the inherent relaxation time in the coupling algorithm too!<br>\n",
    "**If you are changing the annealing reference temperature faster than the temperature relaxation you will probably end up with a crash when the difference becomes too large.**"
   ]
  },
  {
   "cell_type": "markdown",
   "metadata": {},
   "source": [
    "Suppose we want to impose the following annealing protocol over 2 ns of simulation:\n",
    "\n",
    "| Time (ps) | Ref. T (K) |\n",
    "|-----------|------------|\n",
    "| 0         | 303        |\n",
    "| 500       | 303        |\n",
    "| 501       | 500        |\n",
    "| 1000      | 500        |\n",
    "| 1001      | 1100       |\n",
    "| 1500      | 1100       |\n",
    "| 1501      | 303        |\n",
    "| 2000      | 303        |"
   ]
  },
  {
   "cell_type": "markdown",
   "metadata": {},
   "source": [
    "How do we implement this?<br>\n",
    "The annealing protocol is specified as a <u>series of corresponding times and reference temperatures <b>for each group</b></u>, and you can also choose whether you only want a single sequence (after which the temperature will be coupled to the last reference value), or if the annealing should be periodic and restart at the first reference point once the sequence is completed.\n",
    "<div class=\"alert alert-block alert-warning\"> NOTE: you can mix and match both types of annealing and non-annealed groups in your simulation! </div>\n"
   ]
  },
  {
   "cell_type": "markdown",
   "metadata": {},
   "source": [
    "Technically, the reference temperature is a **piecewise linear function**. The actual annealing is performed by dynamically changing the reference temperature used in the thermostat algorithm selected, so remember that the system will usually not instantaneously reach the reference temperature!"
   ]
  },
  {
   "cell_type": "markdown",
   "metadata": {},
   "source": [
    "| MDP Option        | Setting Options | Function                                                                                                                                                                                                                                                                                                                                                             |\n",
    "|-------------------|-----------------|----------------------------------------------------------------------------------------------------------------------------------------------------------------------------------------------------------------------------------------------------------------------------------------------------------------------------------------------------------------------|\n",
    "| Annealing         | no              | No simulated annealing - just couple to reference temperature value.                                                                                                                                                                                                                                                                                                 |\n",
    "|                   | single          | A single sequence of annealing points. If your simulation is longer than the time of the last point, the temperature will be coupled to this constant value after the annealing sequence has reached the last time point.                                                                                                                                            |\n",
    "|                   | periodic        | The annealing will start over at the first reference point once the last reference time is reached. This is repeated until the simulation ends.                                                                                                                                                                                                                      |\n",
    "| annealing-npoints |                 | A list with the number of annealing reference/control points used for each temperature group. Use 0 for groups that are not annealed. The number of entries should equal the number of temperature groups.                                                                                                                                                           |\n",
    "| annealing-time    |                 | List of times at the annealing reference/control points for each group. If you are using periodic annealing, the times will be used modulo the last value,  i.e.  if the values are 0, 5, 10, and 15, the coupling will restart at the 0ps value after 15ps, 30ps, 45ps, etc. The number of entries should equal the sum of the numbers given in  annealing-npoints. |\n",
    "| annealing-temp    |                 | List of temperatures at the annealing reference/control points for each group. The number of entries should equal the sum of the numbers given in  annealing-npoints.                                                                                                                                                                                                |"
   ]
  },
  {
   "attachments": {},
   "cell_type": "markdown",
   "metadata": {},
   "source": [
    "## Example\n",
    "Assume we have two temperature groups (water and non-water).\n",
    "Let's set:\n",
    "* the group selections to:                  annealing = single single\n",
    "* the number of points of each group to:    annealing-npoints = 3 3\n",
    "* the times to:                             annealing-time = 0 100 500 0 100 500\n",
    "* the temperatures to:                      annealing-temp = 303 500 303 303 500 303 \n",
    "\n",
    "The first group will be coupled to 303K at 0ps, and the reference temperature will increase linearly to reach 500K at 100ps, and then linearly between 500K and 303K again from 100ps to 500ps. **After this it stays constant**, at 303K. The second group is coupled in exactly the same way (notice that the values are repeated in the mdp sequences).<br>\n",
    "REMEMBER: Check the summary printed by gmx grompp if you are unsure!"
   ]
  },
  {
   "cell_type": "markdown",
   "metadata": {},
   "source": [
    "## Exercise:\n",
    "Using the example above and the table of reference temperature values to be reached, edit the mdp file \"data/mdp/md_annealing.mdp\" to setup such a simulation."
   ]
  },
  {
   "attachments": {},
   "cell_type": "markdown",
   "metadata": {},
   "source": [
    "## Running the SA"
   ]
  },
  {
   "cell_type": "code",
   "execution_count": 1,
   "metadata": {},
   "outputs": [],
   "source": [
    "# We will use the previous equilibrated MD structure as a starting point (we equilibrated it at 303K) (WARNING: SLOW ON COLAB!)!\n",
    "!gmx grompp -f data/mdp/md_annealing.mdp -c  03-production/md.gro -p 00-systemsetup/penetratin.top -o 04-annealing/annealing.tpr >04-annealing/grompp.log 2>&1 \n",
    "!gmx mdrun -deffnm 04-annealing/annealing -s 04-annealing/annealing.tpr -v -nt 12 > 04-annealing/mdrun.log 2>&1\n",
    "# Fix PBCs:\n",
    "! echo -e \"0 \\n\" | gmx trjconv -s 04-annealing/annealing.tpr -f 04-annealing/annealing.xtc -pbc mol -ur compact -o 04-annealing/noPBC.xtc  > /dev/null 2>&1\n",
    "# NOTICE HOW WE ARE USING STDOUT AND STDERR REDIRECTION TO WRITE SOME LOG FILES FOR INSPECTION!"
   ]
  },
  {
   "cell_type": "code",
   "execution_count": null,
   "metadata": {},
   "outputs": [],
   "source": [
    "# NOTE: The cell above (SA simulation) might take a substantial amount of time on COLAB. To speed things up for the lesson, you can instead retrieve the \n",
    "# pre-computed trajectory from the repository using the following command:\n",
    "!gdown --folder https://drive.google.com/drive/folders/1x3dGPJKEnvktCk8GvzEHVnvUPI1Snubo?usp=share_link &> /dev/null"
   ]
  },
  {
   "cell_type": "markdown",
   "metadata": {},
   "source": [
    "# Data Analysis and Comments"
   ]
  },
  {
   "cell_type": "markdown",
   "metadata": {},
   "source": [
    "We now have the output simulation files for our SA simulation.<br>\n",
    "As a first thing, let's fix the PBCs and have a look at the simulation (you can use VMD or the NGLView snippet below)"
   ]
  },
  {
   "cell_type": "code",
   "execution_count": null,
   "metadata": {},
   "outputs": [],
   "source": [
    "# Let's have a final look:\n",
    "import nglview as nv\n",
    "traj_nopbc = nv.SimpletrajTrajectory(\"04-annealing/noPBC.xtc\", \"04-annealing/annealing.gro\")\n",
    "view_nopbc = nv.show_simpletraj(traj_nopbc)\n",
    "view_nopbc.add_representation(\"none\",selection=\"water\")\n",
    "view_nopbc.center(\"sytem\")\n",
    "view_nopbc.camera = 'orthographic'\n",
    "view_nopbc"
   ]
  },
  {
   "cell_type": "markdown",
   "metadata": {},
   "source": [
    "The trajectory looks ok, but it's a bit hard to get a grasp of what's going on by just looking at it.<br>\n",
    "So as a first thing, let's check that the time evolution of the system temperature actually follows what we wanted to impose:"
   ]
  },
  {
   "cell_type": "code",
   "execution_count": 3,
   "metadata": {},
   "outputs": [
    {
     "data": {
      "image/png": "[encoded data removed]",
      "text/plain": [
       "<Figure size 432x288 with 1 Axes>"
      ]
     },
     "metadata": {
      "needs_background": "light"
     },
     "output_type": "display_data"
    }
   ],
   "source": [
    "! echo -e \"Temperature \\n 0\\n\" | gmx energy -f 04-annealing/annealing.edr -o 04-annealing/temperatures.xvg > /dev/null 2>&1\n",
    "# Some python magic for plotting:\n",
    "import matplotlib.pyplot as plt\n",
    "import numpy as np\n",
    "data = np.loadtxt(\"04-annealing/temperatures.xvg\",skiprows=24)\n",
    "plt.plot(data[:,0],data[:,1])\n",
    "plt.xlabel(\"Time (ps)\",size=14)\n",
    "plt.ylabel(\"Temperature (K)\",size=14)\n",
    "plt.title(\"Temperature as a function of Time\",size=14)\n",
    "plt.show() "
   ]
  },
  {
   "cell_type": "markdown",
   "metadata": {},
   "source": [
    "The temperatures look ok, but what about the reason we used SA to begin with? Remember, the goal was to somehow use thermal (i.e. kinetic) energy to get out of local energy minima.<br>\n",
    "In practice this might mean that we sampled a wider range of protein conformations during our simulation (if compared to plain MD).<br>\n",
    "One technique that might be useful to assess the conformational variability is **clustering**."
   ]
  },
  {
   "cell_type": "markdown",
   "metadata": {},
   "source": [
    "## Clustering"
   ]
  },
  {
   "cell_type": "markdown",
   "metadata": {},
   "source": [
    "A very quick recap on clustering:<br>\n",
    "In very simple terms, think of clustering as a way to group similar elements into collections (named \"clusters\") which are assembled in such a way that elements within clusters (\"members\") are highly similar, and elements from two different clusters are increasingly dissimilar.<br>\n",
    "This means that to perform clustering you first of all need to define what is similar and what is not, and be able to quantify this. This is what's called a **similarity metric**.<br>\n",
    "You can think of many different ways to define similarity between two elements based on what you are trying to cluster:\n",
    "* the euclidean distance between a set of points\n",
    "* the plain difference between two numerical variables (perhaps it might be useful to take the abs. value or the root of the square...)\n",
    "* the tanimoto coefficient between sets of molecules\n",
    "* etc..."
   ]
  },
  {
   "cell_type": "markdown",
   "metadata": {},
   "source": [
    "## Question: \n",
    "In the molecular modelling world, can you think of a metric that defines the \"similarity\" between two molecular structues?"
   ]
  },
  {
   "cell_type": "markdown",
   "metadata": {},
   "source": [
    "You guessed it, the **RMSD**<br>\n",
    "Let's take a look at our gif again:\n",
    "<img src=\"imgs/SupplementaryAnimationRMSD.gif\" width=\"1500\" align=\"center\">"
   ]
  },
  {
   "cell_type": "markdown",
   "metadata": {},
   "source": [
    "As you can see, the RMSD can be very useful to define how \"similar\" two snapshots (e.g. two frames) of a given molecular structure are.<br>\n",
    "So if we want to cluster a bunch of snapshots, a naive but effective approach might be something like:\n",
    "* Take the first snapshot and make it the only member of the first cluster (initialization)\n",
    "* Take the second snapshot, overlap it with the first one (as in the gif above), calculate the RMSD between the two:\n",
    "  * if this value is below a given threshold (e.g., 1 Angstrom), then add the second snapshot to the cluster (which until now only contained the first snapshot)\n",
    "  * if this value is above the threshold, then this second snapshot becomes a new cluster (with just itself in it, for now)\n",
    "* Suppose we took the first option, now we have one single cluster with two snapshots in it\n",
    "* Now we look at the third snapshot, what RMSD do we calculate? There are different options:\n",
    "  * RMSD between this third snapshot and both members of the cluster (= the first two snapshots), then we average the two values\n",
    "  * We first calculate an \"average structure\" of the two members of the cluster, and then calculate the RMSD between the current (third) snapshot and this average structure\n",
    "  * ...any more ideas?\n",
    "* ...and then we keep going, iteratively, as above, until we processed all the snapshots"
   ]
  },
  {
   "cell_type": "markdown",
   "metadata": {},
   "source": [
    "As you might guess, the more the snapshots remain similar throughout the simulation (=<u><b>conformational stability</u></b>), the less clusters we will end up with, because all the frames will end up in the same cluster(s)"
   ]
  },
  {
   "cell_type": "markdown",
   "metadata": {},
   "source": [
    "## Question\n",
    "Let's go back to our SA simulation. Remember, the goal was to play around with the thermal (kinetic) energy to be able to overcome energy barriers keeping our protein stuck in a local minimum and explore a wider portion of the phase space.<br>\n",
    "If you were to compare the outcomes of a clustering analysis of **the same system** in two cases:\n",
    "* Plain MD\n",
    "* Simulated Annealing \n",
    "\n",
    "what differences do you expect?"
   ]
  },
  {
   "cell_type": "markdown",
   "metadata": {},
   "source": [
    "Let's do this analysis on our simulations and check out the results:"
   ]
  },
  {
   "cell_type": "code",
   "execution_count": null,
   "metadata": {},
   "outputs": [],
   "source": [
    "# IF YOU DOWNLOADED PRE-CALCULATED RESULTS, EXECUTE THIS CELL (FOR GROMACS VERSION COMPATIBILITY):\n",
    "!gmx grompp -f data/mdp/md.mdp -c  02-equilibration/posres.gro -p 00-systemsetup/penetratin.top -o 03-production/md.tpr >03-production/grompp18.log 2>&1 \n",
    "!gmx grompp -f data/mdp/md_annealing.mdp -c  03-production/md.gro -p 00-systemsetup/penetratin.top -o 04-annealing/annealing.tpr >04-annealing/grompp.log 2>&1 "
   ]
  },
  {
   "cell_type": "code",
   "execution_count": 4,
   "metadata": {},
   "outputs": [
    {
     "name": "stdout",
     "output_type": "stream",
     "text": [
      "                     :-) GROMACS - gmx cluster, 2021.3 (-:\n",
      "\n",
      "                            GROMACS is written by:\n",
      "     Andrey Alekseenko              Emile Apol              Rossen Apostolov     \n",
      "         Paul Bauer           Herman J.C. Berendsen           Par Bjelkmar       \n",
      "       Christian Blau           Viacheslav Bolnykh             Kevin Boyd        \n",
      "     Aldert van Buuren           Rudi van Drunen             Anton Feenstra      \n",
      "    Gilles Gouaillardet             Alan Gray               Gerrit Groenhof      \n",
      "       Anca Hamuraru            Vincent Hindriksen          M. Eric Irrgang      \n",
      "      Aleksei Iupinov           Christoph Junghans             Joe Jordan        \n",
      "    Dimitrios Karkoulis            Peter Kasson                Jiri Kraus        \n",
      "      Carsten Kutzner              Per Larsson              Justin A. Lemkul     \n",
      "       Viveca Lindahl            Magnus Lundborg             Erik Marklund       \n",
      "        Pascal Merz             Pieter Meulenhoff            Teemu Murtola       \n",
      "        Szilard Pall               Sander Pronk              Roland Schulz       \n",
      "       Michael Shirts            Alexey Shvetsov             Alfons Sijbers      \n",
      "       Peter Tieleman              Jon Vincent              Teemu Virolainen     \n",
      "     Christian Wennberg            Maarten Wolf              Artem Zhmurov       \n",
      "                           and the project leaders:\n",
      "        Mark Abraham, Berk Hess, Erik Lindahl, and David van der Spoel\n",
      "\n",
      "Copyright (c) 1991-2000, University of Groningen, The Netherlands.\n",
      "Copyright (c) 2001-2019, The GROMACS development team at\n",
      "Uppsala University, Stockholm University and\n",
      "the Royal Institute of Technology, Sweden.\n",
      "check out http://www.gromacs.org for more information.\n",
      "\n",
      "GROMACS is free software; you can redistribute it and/or modify it\n",
      "under the terms of the GNU Lesser General Public License\n",
      "as published by the Free Software Foundation; either version 2.1\n",
      "of the License, or (at your option) any later version.\n",
      "\n",
      "GROMACS:      gmx cluster, version 2021.3\n",
      "Executable:   /opt/gromacs/2021.3_intel_OpenMP_OCL4/bin/gmx\n",
      "Data prefix:  /opt/gromacs/2021.3_intel_OpenMP_OCL4\n",
      "Working dir:  /Users/eric/Documents/GitHub/BiomeccanicaMultiscala/LAB/07-SimulatedAnnealing\n",
      "Command line:\n",
      "  gmx cluster -h\n",
      "\n",
      "SYNOPSIS\n",
      "\n",
      "gmx cluster [-f [<.xtc/.trr/...>]] [-s [<.tpr/.gro/...>]] [-n [<.ndx>]]\n",
      "            [-dm [<.xpm>]] [-om [<.xpm>]] [-o [<.xpm>]] [-g [<.log>]]\n",
      "            [-dist [<.xvg>]] [-ev [<.xvg>]] [-conv [<.xvg>]] [-sz [<.xvg>]]\n",
      "            [-tr [<.xpm>]] [-ntr [<.xvg>]] [-clid [<.xvg>]]\n",
      "            [-cl [<.xtc/.trr/...>]] [-clndx [<.ndx>]] [-b <time>] [-e <time>]\n",
      "            [-dt <time>] [-tu <enum>] [-[no]w] [-xvg <enum>] [-[no]dista]\n",
      "            [-nlevels <int>] [-cutoff <real>] [-[no]fit] [-max <real>]\n",
      "            [-skip <int>] [-[no]av] [-wcl <int>] [-nst <int>]\n",
      "            [-rmsmin <real>] [-method <enum>] [-minstruct <int>]\n",
      "            [-[no]binary] [-M <int>] [-P <int>] [-seed <int>] [-niter <int>]\n",
      "            [-nrandom <int>] [-kT <real>] [-[no]pbc]\n",
      "\n",
      "DESCRIPTION\n",
      "\n",
      "gmx cluster can cluster structures using several different methods. Distances\n",
      "between structures can be determined from a trajectory or read from an .xpm\n",
      "matrix file with the -dm option. RMS deviation after fitting or RMS deviation\n",
      "of atom-pair distances can be used to define the distance between structures.\n",
      "\n",
      "single linkage: add a structure to a cluster when its distance to any element\n",
      "of the cluster is less than cutoff.\n",
      "\n",
      "Jarvis Patrick: add a structure to a cluster when this structure and a\n",
      "structure in the cluster have each other as neighbors and they have a least P\n",
      "neighbors in common. The neighbors of a structure are the M closest structures\n",
      "or all structures within cutoff.\n",
      "\n",
      "Monte Carlo: reorder the RMSD matrix using Monte Carlo such that the order of\n",
      "the frames is using the smallest possible increments. With this it is possible\n",
      "to make a smooth animation going from one structure to another with the\n",
      "largest possible (e.g.) RMSD between them, however the intermediate steps\n",
      "should be as small as possible. Applications could be to visualize a potential\n",
      "of mean force ensemble of simulations or a pulling simulation. Obviously the\n",
      "user has to prepare the trajectory well (e.g. by not superimposing frames).\n",
      "The final result can be inspect visually by looking at the matrix .xpm file,\n",
      "which should vary smoothly from bottom to top.\n",
      "\n",
      "diagonalization: diagonalize the RMSD matrix.\n",
      "\n",
      "gromos: use algorithm as described in Daura et al. (Angew. Chem. Int. Ed.\n",
      "1999, 38, pp 236-240). Count number of neighbors using cut-off, take structure\n",
      "with largest number of neighbors with all its neighbors as cluster and\n",
      "eliminate it from the pool of clusters. Repeat for remaining structures in\n",
      "pool.\n",
      "\n",
      "When the clustering algorithm assigns each structure to exactly one cluster\n",
      "(single linkage, Jarvis Patrick and gromos) and a trajectory file is supplied,\n",
      "the structure with the smallest average distance to the others or the average\n",
      "structure or all structures for each cluster will be written to a trajectory\n",
      "file. When writing all structures, separate numbered files are made for each\n",
      "cluster.\n",
      "\n",
      "Two output files are always written:\n",
      "\n",
      " * -o writes the RMSD values in the upper left half of the matrix and a\n",
      "   graphical depiction of the clusters in the lower right half When -minstruct\n",
      "   = 1 the graphical depiction is black when two structures are in the same\n",
      "   cluster. When -minstruct > 1 different colors will be used for each\n",
      "   cluster.\n",
      " * -g writes information on the options used and a detailed list of all\n",
      "   clusters and their members.\n",
      "\n",
      "Additionally, a number of optional output files can be written:\n",
      "\n",
      " * -dist writes the RMSD distribution.\n",
      " * -ev writes the eigenvectors of the RMSD matrix diagonalization.\n",
      " * -sz writes the cluster sizes.\n",
      " * -tr writes a matrix of the number transitions between cluster pairs.\n",
      " * -ntr writes the total number of transitions to or from each cluster.\n",
      " * -clid writes the cluster number as a function of time.\n",
      " * -clndx writes the frame numbers corresponding to the clusters to the\n",
      "   specified index file to be read into trjconv.\n",
      " * -cl writes average (with option -av) or central structure of each cluster\n",
      "   or writes numbered files with cluster members for a selected set of\n",
      "   clusters (with option -wcl, depends on -nst and -rmsmin). The center of a\n",
      "   cluster is the structure with the smallest average RMSD from all other\n",
      "   structures of the cluster.\n",
      "\n",
      "OPTIONS\n",
      "\n",
      "Options to specify input files:\n",
      "\n",
      " -f      [<.xtc/.trr/...>]  (traj.xtc)       (Opt.)\n",
      "           Trajectory: xtc trr cpt gro g96 pdb tng\n",
      " -s      [<.tpr/.gro/...>]  (topol.tpr)\n",
      "           Structure+mass(db): tpr gro g96 pdb brk ent\n",
      " -n      [<.ndx>]           (index.ndx)      (Opt.)\n",
      "           Index file\n",
      " -dm     [<.xpm>]           (rmsd.xpm)       (Opt.)\n",
      "           X PixMap compatible matrix file\n",
      "\n",
      "Options to specify output files:\n",
      "\n",
      " -om     [<.xpm>]           (rmsd-raw.xpm)\n",
      "           X PixMap compatible matrix file\n",
      " -o      [<.xpm>]           (rmsd-clust.xpm)\n",
      "           X PixMap compatible matrix file\n",
      " -g      [<.log>]           (cluster.log)\n",
      "           Log file\n",
      " -dist   [<.xvg>]           (rmsd-dist.xvg)  (Opt.)\n",
      "           xvgr/xmgr file\n",
      " -ev     [<.xvg>]           (rmsd-eig.xvg)   (Opt.)\n",
      "           xvgr/xmgr file\n",
      " -conv   [<.xvg>]           (mc-conv.xvg)    (Opt.)\n",
      "           xvgr/xmgr file\n",
      " -sz     [<.xvg>]           (clust-size.xvg) (Opt.)\n",
      "           xvgr/xmgr file\n",
      " -tr     [<.xpm>]           (clust-trans.xpm) (Opt.)\n",
      "           X PixMap compatible matrix file\n",
      " -ntr    [<.xvg>]           (clust-trans.xvg) (Opt.)\n",
      "           xvgr/xmgr file\n",
      " -clid   [<.xvg>]           (clust-id.xvg)   (Opt.)\n",
      "           xvgr/xmgr file\n",
      " -cl     [<.xtc/.trr/...>]  (clusters.pdb)   (Opt.)\n",
      "           Trajectory: xtc trr cpt gro g96 pdb tng\n",
      " -clndx  [<.ndx>]           (clusters.ndx)   (Opt.)\n",
      "           Index file\n",
      "\n",
      "Other options:\n",
      "\n",
      " -b      <time>             (0)\n",
      "           Time of first frame to read from trajectory (default unit ps)\n",
      " -e      <time>             (0)\n",
      "           Time of last frame to read from trajectory (default unit ps)\n",
      " -dt     <time>             (0)\n",
      "           Only use frame when t MOD dt = first time (default unit ps)\n",
      " -tu     <enum>             (ps)\n",
      "           Unit for time values: fs, ps, ns, us, ms, s\n",
      " -[no]w                     (no)\n",
      "           View output .xvg, .xpm, .eps and .pdb files\n",
      " -xvg    <enum>             (xmgrace)\n",
      "           xvg plot formatting: xmgrace, xmgr, none\n",
      " -[no]dista                 (no)\n",
      "           Use RMSD of distances instead of RMS deviation\n",
      " -nlevels <int>             (40)\n",
      "           Discretize RMSD matrix in this number of levels\n",
      " -cutoff <real>             (0.1)\n",
      "           RMSD cut-off (nm) for two structures to be neighbor\n",
      " -[no]fit                   (yes)\n",
      "           Use least squares fitting before RMSD calculation\n",
      " -max    <real>             (-1)\n",
      "           Maximum level in RMSD matrix\n",
      " -skip   <int>              (1)\n",
      "           Only analyze every nr-th frame\n",
      " -[no]av                    (no)\n",
      "           Write average instead of middle structure for each cluster\n",
      " -wcl    <int>              (0)\n",
      "           Write the structures for this number of clusters to numbered files\n",
      " -nst    <int>              (1)\n",
      "           Only write all structures if more than this number of structures\n",
      "           per cluster\n",
      " -rmsmin <real>             (0)\n",
      "           minimum rms difference with rest of cluster for writing structures\n",
      " -method <enum>             (linkage)\n",
      "           Method for cluster determination: linkage, jarvis-patrick,\n",
      "           monte-carlo, diagonalization, gromos\n",
      " -minstruct <int>           (1)\n",
      "           Minimum number of structures in cluster for coloring in the .xpm\n",
      "           file\n",
      " -[no]binary                (no)\n",
      "           Treat the RMSD matrix as consisting of 0 and 1, where the cut-off\n",
      "           is given by -cutoff\n",
      " -M      <int>              (10)\n",
      "           Number of nearest neighbors considered for Jarvis-Patrick\n",
      "           algorithm, 0 is use cutoff\n",
      " -P      <int>              (3)\n",
      "           Number of identical nearest neighbors required to form a cluster\n",
      " -seed   <int>              (0)\n",
      "           Random number seed for Monte Carlo clustering algorithm (0 means\n",
      "           generate)\n",
      " -niter  <int>              (10000)\n",
      "           Number of iterations for MC\n",
      " -nrandom <int>             (0)\n",
      "           The first iterations for MC may be done complete random, to shuffle\n",
      "           the frames\n",
      " -kT     <real>             (0.001)\n",
      "           Boltzmann weighting factor for Monte Carlo optimization (zero turns\n",
      "           off uphill steps)\n",
      " -[no]pbc                   (yes)\n",
      "           PBC check\n",
      "\n",
      "GROMACS reminds you: \"There is nothing new to be discovered in physics now. All that remains is more and more precise measurement.\" (Lord Kelvin, 1900)\n",
      "\n"
     ]
    }
   ],
   "source": [
    "!mkdir -p 05-analysis\n",
    "# We will use the cluster analysis tool from GROMACS:\n",
    "!gmx cluster -h\n"
   ]
  },
  {
   "cell_type": "code",
   "execution_count": 19,
   "metadata": {},
   "outputs": [],
   "source": [
    "# Do the clustering on both the plain MD and the SA simulations:\n",
    "!echo -e \"Protein\\nProtein\\n\" | gmx cluster -s 03-production/md.tpr -f 03-production/md.xtc -cl 05-analysis/clusterMD.pdb -cutoff 0.15 -o 05-analysis/clusterMD.xpm -g 05-analysis/clusterMD.log -dt 1 -dist 05-analysis/rmsd-distMD.xvg > /dev/null 2>&1\n",
    "!echo -e \"Protein\\nProtein\\n\" | gmx cluster -s 04-annealing/annealing.tpr -f 04-annealing/annealing.xtc -cl 05-analysis/clusterSA.pdb -cutoff 0.15 -o 05-analysis/clusterSA.xpm -g 05-analysis/clusterSA.log -dt 1 -dist  05-analysis/rmsd-distSA.xvg > /dev/null 2>&1"
   ]
  },
  {
   "cell_type": "markdown",
   "metadata": {},
   "source": [
    "Here, we clustered both the plain MD trajectory and the simulated annealing trajectory, using the same settings and the same cutoff. First of all, let's have a look at how many clusters were found. This information is written in the log files:"
   ]
  },
  {
   "cell_type": "code",
   "execution_count": 23,
   "metadata": {},
   "outputs": [
    {
     "name": "stdout",
     "output_type": "stream",
     "text": [
      "*** Molecular Dynamics Clustering: ***\n",
      "Using linkage method for clustering\n",
      "Using RMSD cutoff 0.15 nm\n",
      "The RMSD ranges from 0.0530823 to 0.2094 nm\n",
      "Average RMSD is 0.134276\n",
      "Number of structures for matrix 51\n",
      "Energy of the matrix is 0.250216.\n",
      "\n",
      "Found 1 clusters\n",
      "*** Simulated Annealing Clustering: ***\n",
      "Using linkage method for clustering\n",
      "Using RMSD cutoff 0.15 nm\n",
      "The RMSD ranges from 0.0633693 to 0.655419 nm\n",
      "Average RMSD is 0.351793\n",
      "Number of structures for matrix 501\n",
      "Energy of the matrix is 5.34739.\n",
      "\n",
      "Found 15 clusters\n"
     ]
    }
   ],
   "source": [
    "!echo \"*** Molecular Dynamics Clustering: ***\"\n",
    "!head -n 8 05-analysis/clusterMD.log\n",
    "!echo \"*** Simulated Annealing Clustering: ***\"\n",
    "!head -n 8 05-analysis/clusterSA.log"
   ]
  },
  {
   "attachments": {},
   "cell_type": "markdown",
   "metadata": {},
   "source": [
    "We already see that plain MD yielded 1 cluster at 0.15 nm cutoff, whereas SA yielded a whopping 337 clusters! Indeed, the conformation of the peptide is much more variable (in terms of RMSD) in the SA, thanks to the added thermal driving force! \n",
    "Let's have a look at the two structures:"
   ]
  },
  {
   "cell_type": "code",
   "execution_count": 24,
   "metadata": {},
   "outputs": [
    {
     "data": {
      "application/vnd.jupyter.widget-view+json": {
       "model_id": "e6ee14a16d3a4e1d90286f36751b4f95",
       "version_major": 2,
       "version_minor": 0
      },
      "text/plain": []
     },
     "metadata": {},
     "output_type": "display_data"
    },
    {
     "data": {
      "application/vnd.jupyter.widget-view+json": {
       "model_id": "82eb795d78e84a0b8b01e8f223d759c5",
       "version_major": 2,
       "version_minor": 0
      },
      "text/plain": [
       "NGLWidget()"
      ]
     },
     "metadata": {},
     "output_type": "display_data"
    }
   ],
   "source": [
    "# Here we have a single cluster, and only the central structure of the cluster is saved, so we can have a look at it with nglview:\n",
    "import nglview as nv\n",
    "from IPython.display import IFrame\n",
    "\n",
    "with open(\"05-analysis/clusterMD.pdb\") as f:\n",
    "    view = nv.show_file(f, ext=\"pdb\")\n",
    "view"
   ]
  },
  {
   "cell_type": "code",
   "execution_count": 32,
   "metadata": {},
   "outputs": [
    {
     "data": {
      "application/vnd.jupyter.widget-view+json": {
       "model_id": "9e7206a85a094df4ab1f8b51ab7ea836",
       "version_major": 2,
       "version_minor": 0
      },
      "text/plain": [
       "NGLWidget()"
      ]
     },
     "metadata": {},
     "output_type": "display_data"
    }
   ],
   "source": [
    "# In this case, the central structure of each of the 337 clusters is written to a single PDB file. By tweaking the NGLView settings we can see them all at once:\n",
    "import nglview as nv\n",
    "with open(\"05-analysis/clusterSA.pdb\") as f:\n",
    "    view = nv.show_file(f, ext=\"pdb\",default_representation=False)\n",
    "    view.add_representation(\"cartoon\",selection=\"protein\",color=\"modelindex\")\n",
    "view"
   ]
  },
  {
   "cell_type": "markdown",
   "metadata": {},
   "source": [
    "As you can see we confirmed that performing simulated annealing allowed us to get an improved sampling of the different energy minima.<br>\n",
    "Of course, by increasing the simulation time and the temperatures you can aim for an even wider exploration of the different conformations of a given molecular system.<br>\n",
    "<div class=\"alert alert-block alert-warning\"> NOTE: be aware that even if the final temperature is the same as the starting one, it is very much likely that the final structure will be different from the starting one! Can you formulate a hypothesis as to why this occurs? </div>"
   ]
  },
  {
   "cell_type": "markdown",
   "metadata": {},
   "source": [
    "## Ramachandran Plots"
   ]
  },
  {
   "cell_type": "markdown",
   "metadata": {},
   "source": [
    "Just as for plain MD simulations, we can analyse the Ramachandran plots for the different snapshots of an SA simulation to see what's going on with the peptide geomtry:"
   ]
  },
  {
   "cell_type": "code",
   "execution_count": 60,
   "metadata": {},
   "outputs": [
    {
     "data": {
      "image/png": "[encoded data removed]",
      "text/plain": [
       "<Figure size 360x360 with 1 Axes>"
      ]
     },
     "metadata": {
      "needs_background": "light"
     },
     "output_type": "display_data"
    }
   ],
   "source": [
    "import matplotlib\n",
    "# Perform the analysis:\n",
    "!gmx rama -f 05-analysis/clusterSA.pdb -s 04-annealing/annealing.tpr -o 05-analysis/ramaSA.xvg > /dev/null 2>&1\n",
    "# Load data\n",
    "# You have to load separately floating point numbers and string\n",
    "phi, psi = np.loadtxt('05-analysis/ramaSA.xvg',comments=['@','#'],usecols=(0,1),unpack=True)\n",
    "residues = np.loadtxt('05-analysis/ramaSA.xvg',comments=['@','#'],usecols=(2),dtype=str)\n",
    "\n",
    "# This line searches all the points in the array where the first residue of the protein is present\n",
    "# Therefore, it contains the information to separate information of different frames\n",
    "delimiters = np.squeeze(np.argwhere(residues == residues[0]))\n",
    "from matplotlib.lines import Line2D # For the legend\n",
    "from MDAnalysis.analysis.data.filenames import Rama_ref\n",
    "fig = plt.figure(figsize=(5,5))\n",
    "ax = fig.add_subplot(111,)\n",
    "# Generate points in the plane to plot the Ramachandran regions\n",
    "# THESE X,Y POINTS ARE CREATED IN ORDER TO BE COHERENT WITH DATA IN Rama_ref\n",
    "# DO NOT MODIFY\n",
    "X, Y = np.meshgrid(np.arange(-180, 180, 4), np.arange(-180, 180, 4))\n",
    "Z = np.load(Rama_ref)\n",
    "# THE NUMBERS ON LEVELS ARE DEFINED TO PLOT THE ALLOWED AND GENEROUSLY ALLOWED REGIONS\n",
    "# DO NOT MODIFY\n",
    "c = ax.contourf(X, Y, Z, levels=[1, 17, 15000],colors = ['#A1D4FF', '#35A1FF'])\n",
    "\n",
    "# CHANGE THIS VARIABLE TO REFLECT HOW MANY CLUSTERS YOU HAVE\n",
    "Nclust=15\n",
    "# ----------------------------------------------------------\n",
    "frames = range(0,Nclust+1)\n",
    "# Get Nclust colors:\n",
    "colors=list(matplotlib.colors.cnames.keys())[0:Nclust-1]\n",
    "for col,frame in zip(colors,frames):\n",
    "    ax.scatter(phi[delimiters[frame]:delimiters[frame+1]],psi[delimiters[frame]:delimiters[frame+1]],\n",
    "              marker='o',s=20,c=col)\n",
    "\n",
    "# Set the limits of torsional angles\n",
    "ax.set_xlim(-180,180)\n",
    "ax.set_ylim(-180,180)\n",
    "ax.set_xlabel(r\"$\\phi$ [°]\")\n",
    "ax.set_ylabel(r\"$\\psi$ [°]\")\n",
    "ax.set_title(\"Ramachadran plot of the 15 cluster centroids\")\n",
    "#Personalize it with a legend\n",
    "custom_lines = [Line2D([0], [0], color='#A1D4FF', lw=8),\n",
    "                Line2D([0], [0], color='#35A1FF', lw=8)]\n",
    "ax.legend(custom_lines, ['99%', '90%'],loc='lower center',frameon=False)\n",
    "fig.tight_layout()"
   ]
  },
  {
   "cell_type": "markdown",
   "metadata": {},
   "source": [
    "Do you notice anything in this plot? What are your thoughts and comments?"
   ]
  },
  {
   "cell_type": "markdown",
   "metadata": {},
   "source": [
    "## DSSP / Secondary Structure"
   ]
  },
  {
   "cell_type": "markdown",
   "metadata": {},
   "source": [
    "Again, we can also use DSSP secondary structure analysis to try and see if the secondary structure is altered, and how so, during the SA simulation. We will use exactly the same procedure we used before for the plain MD simulation."
   ]
  },
  {
   "cell_type": "code",
   "execution_count": 68,
   "metadata": {},
   "outputs": [
    {
     "data": {
      "image/png": "[encoded data removed]",
      "text/plain": [
       "<IPython.core.display.Image object>"
      ]
     },
     "execution_count": 68,
     "metadata": {},
     "output_type": "execute_result"
    }
   ],
   "source": [
    "# Let's do the SS analysis:\n",
    "!echo -e \"Protein\\n\" | gmx do_dssp -s 04-annealing/annealing.tpr -f 05-analysis/clusterSA.pdb -o 05-analysis/ssSA.xpm -dt 50 > /dev/null 2>&1\n",
    "# Some XPM settings:\n",
    "!echo -e \"; Command line options of xpm2ps override the parameters in this file\\nxbox                     = 30.0          ; x-size of a matrix element\\nybox                     = 8.0          ; x-size of a matrix element\\ny-major                  = 5            ; y major ticks\\ny-minor                  = 0\\n\" > 05-analysis/options.m2p\n",
    "!gmx xpm2ps -f 05-analysis/ssSA.xpm -di 05-analysis/options.m2p -o 05-analysis/ssSA.eps > /dev/null 2>&1\n",
    "# Convert to png and display:\n",
    "!convert 05-analysis/ssSA.eps 05-analysis/ssSA.png\n",
    "# Show png in notebook:\n",
    "from IPython.display import Image\n",
    "Image(filename='05-analysis/ssSA.png')"
   ]
  },
  {
   "cell_type": "code",
   "execution_count": null,
   "metadata": {},
   "outputs": [],
   "source": [
    "# IF YOU ARE ON COLAB, USE THIS CELL TO VISUALIZE THE PLOT:\n",
    "def convert_image(f=\"plot.eps\",o=\"plot.png\"):\n",
    "    '''\n",
    "    Function that allows you to convert a file from esp format to png format\n",
    "    '''\n",
    "    from PIL import Image\n",
    "    eps_image = Image.open(f)\n",
    "    eps_image.load(scale=10)\n",
    "    eps_image.save(o)\n",
    "\n",
    "convert_image(f=\"05-analysis/ssSA.eps\",o=\"05-analysis/ssSA.png\")\n",
    "# Show png in notebook:\n",
    "from IPython.display import Image\n",
    "Image(filename='05-analysis/ssSA.png')"
   ]
  },
  {
   "cell_type": "code",
   "execution_count": null,
   "metadata": {},
   "outputs": [],
   "source": [
    "# IF YOU ARE ON YOUR OWN PC, USE THIS CELL TO VISUALIZE THE PLOT:\n",
    "!convert 05-analysis/ssSA.eps 05-analysis/ssSA.png\n",
    "from IPython.display import Image\n",
    "Image(filename='05-analysis/ssSA.png')"
   ]
  },
  {
   "cell_type": "markdown",
   "metadata": {},
   "source": [
    "What do you notice here? Any comments?"
   ]
  }
 ],
 "metadata": {
  "kernelspec": {
   "display_name": "Python 3",
   "language": "python",
   "name": "python3"
  },
  "language_info": {
   "codemirror_mode": {
    "name": "ipython",
    "version": 3
   },
   "file_extension": ".py",
   "mimetype": "text/x-python",
   "name": "python",
   "nbconvert_exporter": "python",
   "pygments_lexer": "ipython3",
   "version": "3.8.5"
  },
  "toc": {
   "base_numbering": 1,
   "nav_menu": {},
   "number_sections": true,
   "sideBar": true,
   "skip_h1_title": false,
   "title_cell": "Table of Contents",
   "title_sidebar": "Contents",
   "toc_cell": false,
   "toc_position": {},
   "toc_section_display": true,
   "toc_window_display": false
  },
  "vscode": {
   "interpreter": {
    "hash": "5f8929016d30f12a89eab5b5e02a6c1410fc73da4b23b89b4eb7a3bc58137fe5"
   }
  }
 },
 "nbformat": 4,
 "nbformat_minor": 2
}
