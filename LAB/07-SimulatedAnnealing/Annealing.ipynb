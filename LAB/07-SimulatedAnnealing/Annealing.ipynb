{
 "cells": [
  {
   "cell_type": "markdown",
   "metadata": {
    "slideshow": {
     "slide_type": "slide"
    }
   },
   "source": [
    "# Laboratorio 7\n",
    "**Simulated Annealing using GROMACS**\n",
    "\n",
    "\n",
    "Authors:\n",
    "    \n",
    "- Prof. Marco A. Deriu (marco.deriu@polito.it)\n",
    "- Lorenzo Pallante (lorenzo.pallante@polito.it)\n",
    "- Eric A. Zizzi (eric.zizzi@polito.it)\n",
    "- Marcello Miceli (marcello.miceli@polito.it)\n",
    "- Marco Cannariato (marco.cannariato@polito.it)"
   ]
  },
  {
   "cell_type": "markdown",
   "metadata": {
    "slideshow": {
     "slide_type": "slide"
    }
   },
   "source": [
    "# Table of Contents\n",
    "\n",
    "1. Introduction to Simulated Annealing \n",
    "2. Setting up the simulation\n",
    "3. Simulation\n",
    "4. Data Analysis and comments\n",
    "\n",
    "**Learning outcomes:** \n",
    "- familiarizing with the SA techniques\n",
    "- awareness of SA strengths and weaknesses\n",
    "- GROMACS:\n",
    "    - create an mdp file for SA\n",
    "    - setting up the simulation using GROMACS\n",
    "    - performing and analyzing the simulation"
   ]
  },
  {
   "cell_type": "code",
   "execution_count": 1,
   "metadata": {
    "slideshow": {
     "slide_type": "subslide"
    }
   },
   "outputs": [],
   "source": [
    "from notebook.services.config import ConfigManager\n",
    "cm = ConfigManager().update('notebook', {'limit_output': 100000000})"
   ]
  },
  {
   "cell_type": "code",
   "execution_count": 3,
   "metadata": {
    "scrolled": true,
    "slideshow": {
     "slide_type": "skip"
    }
   },
   "outputs": [
    {
     "name": "stdout",
     "output_type": "stream",
     "text": [
      "Clone in 'BiomeccanicaMultiscala' in corso...\n",
      "remote: Enumerating objects: 1284, done.\u001b[K\n",
      "remote: Counting objects: 100% (60/60), done.\u001b[K\n",
      "remote: Compressing objects: 100% (42/42), done.\u001b[K\n",
      "^Ccezione degli oggetti:   1% (17/1284), 6.31 MiB | 6.29 MiB/s\n",
      "fetch-pack: unexpected disconnect while reading sideband packet\n",
      "zsh:1: no matches found: BiomeccanicaMultiscala/LAB/07-SimulatedAnnealing/*\n"
     ]
    }
   ],
   "source": [
    "# IF YOU ARE USING COLAB EXECUTE THE FOLLOWING CELLS (to copy over data repository, install and enable the necessary packages)\n",
    "!git clone https://github.com/lorenzopallante/BiomeccanicaMultiscala.git\n",
    "!mv BiomeccanicaMultiscala/LAB/07-SimulatedAnnealing/* ."
   ]
  },
  {
   "cell_type": "code",
   "execution_count": null,
   "metadata": {
    "slideshow": {
     "slide_type": "skip"
    }
   },
   "outputs": [],
   "source": [
    "!pip install nglview &> /dev/null\n",
    "!pip install simpletraj &> /dev/null\n",
    "!apt install ghostscript &> /dev/null\n",
    "from google.colab import output\n",
    "output.enable_custom_widget_manager()"
   ]
  },
  {
   "cell_type": "code",
   "execution_count": null,
   "metadata": {
    "slideshow": {
     "slide_type": "skip"
    }
   },
   "outputs": [],
   "source": [
    "#@title Installing DSSP\n",
    "!apt install dssp &> /dev/null\n",
    "!ln -s /usr/bin/dssp /usr/local/bin/dssp"
   ]
  },
  {
   "cell_type": "code",
   "execution_count": null,
   "metadata": {
    "slideshow": {
     "slide_type": "skip"
    }
   },
   "outputs": [],
   "source": [
    "#@title Installing GROMACS\n",
    "!apt install gromacs &> /dev/null"
   ]
  },
  {
   "cell_type": "markdown",
   "metadata": {
    "slideshow": {
     "slide_type": "slide"
    }
   },
   "source": [
    "# Introduction to Simulated Annealing"
   ]
  },
  {
   "cell_type": "markdown",
   "metadata": {
    "slideshow": {
     "slide_type": "subslide"
    }
   },
   "source": [
    "First of all, what does the term **\"annealing\"** refer to?<br>\n",
    "Annealing is the process in which the temperature of a molten substance is slowly reduced until the material crystallises to give a large single crystal. This process is widely used in many areas of manufacture, and a key feature of annealing is the use of very careful temperature control at the liquid-solid phase transition. <u>The perfect crystal that is eventually obtained corresponds to the global minimum of the free energy</u>.<br>\n",
    "Simulated annealing is **a computational method that mimics this process in order to find the 'optimal' or 'best' solutions** to problems which have a large number of possible solutions [Kirkpatrick et al. 1983]."
   ]
  },
  {
   "cell_type": "markdown",
   "metadata": {
    "slideshow": {
     "slide_type": "subslide"
    }
   },
   "source": [
    "In simulated annealing, a cost function takes the role of the free energy in physical annealing and a control parameter corresponds to the temperature. To use simulated annealing in conformational analysis the cost function would be the internal energy. <u>At a given temperature the system is allowed to reach 'thermal equilibrium' using a molecular dynamics simulation</u>:\n",
    "* At high temperatures, the systern is able to occupy high-energy regions of conformational space and to pass over high energy barriers\n",
    "* At lower temperatures, the lower energy states becomes more probable in accordance with the Boltzmann distribution.\n",
    "* At absolute zero, the system should occupy the lowest-energy state (i.e. the global minimum energy conformation). "
   ]
  },
  {
   "cell_type": "markdown",
   "metadata": {
    "slideshow": {
     "slide_type": "-"
    }
   },
   "source": [
    "<img src=\"imgs/simulated_annealing.png\" width=\"1500\" align=\"center\">"
   ]
  },
  {
   "cell_type": "markdown",
   "metadata": {
    "slideshow": {
     "slide_type": "subslide"
    }
   },
   "source": [
    "To guarantee that the globally optimal solution is actually reached would require an <u>infinite number of temperature steps</u>, at each of which the system would have to come to thermal equilibrium. Careful temperature control is required when the energy of the system is comparable with the height of the barriers that separate one region of conformational space from another. \n",
    "\n",
    "This is often difficult to achieve in practice and so simulated annealing cannot guarantee to find the global minimum, much as a genetic algorithm cannot guarantee to identify the globally optimal solution. However, if the same answer is obtained from several different runs then there is a high probability that it corresponds to the true global minimum. Several simulated annealing runs may enable a series of low-energy conformations of a molecule to be obtained."
   ]
  },
  {
   "cell_type": "markdown",
   "metadata": {
    "slideshow": {
     "slide_type": "slide"
    }
   },
   "source": [
    "## Setting up the simulation"
   ]
  },
  {
   "cell_type": "markdown",
   "metadata": {
    "slideshow": {
     "slide_type": "subslide"
    }
   },
   "source": [
    "Let's dive into an example of SA simulation setup using GROMACS.<br>\n",
    "First of all, the general system setup (box configuration, solvation, neutralization, energy minimization, ...) will be exactly the same as we've seen for plain MD simulations, so we won't go into details again."
   ]
  },
  {
   "cell_type": "markdown",
   "metadata": {
    "slideshow": {
     "slide_type": "subslide"
    }
   },
   "source": [
    "Let's just review our MD scheme again and perform the initial steps to obtain a minimized system"
   ]
  },
  {
   "cell_type": "markdown",
   "metadata": {},
   "source": [
    "<img src=\"imgs/MD_FlowChart.png\" width=\"500\" align=\"center\">"
   ]
  },
  {
   "cell_type": "code",
   "execution_count": 1,
   "metadata": {
    "slideshow": {
     "slide_type": "subslide"
    }
   },
   "outputs": [
    {
     "data": {
      "application/vnd.jupyter.widget-view+json": {
       "model_id": "e8ddc037a2b44cc4993ee9005e29359d",
       "version_major": 2,
       "version_minor": 0
      },
      "text/plain": []
     },
     "metadata": {},
     "output_type": "display_data"
    },
    {
     "data": {
      "application/vnd.jupyter.widget-view+json": {
       "model_id": "41aaf716ae6845eb96c0d38eddd47b3f",
       "version_major": 2,
       "version_minor": 0
      },
      "text/plain": [
       "NGLWidget()"
      ]
     },
     "metadata": {},
     "output_type": "display_data"
    }
   ],
   "source": [
    "# First, a quick peek at the system using NGLView:\n",
    "import nglview as nv\n",
    "from IPython.display import IFrame\n",
    "# Make sure that the path to penetratin.pdb matches your paths if you're using Colab!\n",
    "with open(\"data/penetratin.pdb\") as f:\n",
    "    view = nv.show_file(f, ext=\"pdb\")\n",
    "view"
   ]
  },
  {
   "cell_type": "code",
   "execution_count": 2,
   "metadata": {
    "slideshow": {
     "slide_type": "subslide"
    }
   },
   "outputs": [],
   "source": [
    "# Some subfolders to keep stuff tidy\n",
    "!mkdir -p 00-systemsetup 01-minimization 02-equilibration 03-production 04-annealing\n",
    "# Let's create an index file as before:\n",
    "!echo -e \"q \\n\" | gmx make_ndx -f data/penetratin.pdb -o 00-systemsetup/index.ndx > /dev/null 2>&1"
   ]
  },
  {
   "cell_type": "code",
   "execution_count": 3,
   "metadata": {},
   "outputs": [],
   "source": [
    "%%bash\n",
    "# Topology generation:\n",
    "cd 00-systemsetup\n",
    "gmx pdb2gmx -f ../data/penetratin.pdb -i penetratin_posre.itp -p penetratin.top -o penetratin.gro -ff amber99sb-ildn  -ignh -heavyh -water tip3p > /dev/null 2>&1\n",
    "cd .."
   ]
  },
  {
   "cell_type": "code",
   "execution_count": 4,
   "metadata": {
    "slideshow": {
     "slide_type": "subslide"
    }
   },
   "outputs": [],
   "source": [
    "# Create simulation box:\n",
    "!gmx editconf -f 00-systemsetup/penetratin.gro -o 00-systemsetup/box.gro -c -d 0.8 -bt dodecahedron > /dev/null 2>&1"
   ]
  },
  {
   "cell_type": "code",
   "execution_count": 5,
   "metadata": {
    "slideshow": {
     "slide_type": "subslide"
    }
   },
   "outputs": [],
   "source": [
    "# Solvation:\n",
    "!gmx solvate -cp 00-systemsetup/box.gro -cs spc216.gro -o 00-systemsetup/solvated.gro -p 00-systemsetup/penetratin.top > /dev/null 2>&1"
   ]
  },
  {
   "cell_type": "code",
   "execution_count": 6,
   "metadata": {
    "slideshow": {
     "slide_type": "subslide"
    }
   },
   "outputs": [
    {
     "data": {
      "application/vnd.jupyter.widget-view+json": {
       "model_id": "59208487e1634482878dce451864bed9",
       "version_major": 2,
       "version_minor": 0
      },
      "text/plain": [
       "NGLWidget()"
      ]
     },
     "metadata": {},
     "output_type": "display_data"
    }
   ],
   "source": [
    "# Quick peek:\n",
    "import nglview as nv\n",
    "with open(\"00-systemsetup/solvated.gro\") as f:\n",
    "    view = nv.show_file(f, ext=\"gro\")\n",
    "view.add_ball_and_stick(selection=\"water\")\n",
    "view.camera = 'orthographic'\n",
    "view"
   ]
  },
  {
   "cell_type": "code",
   "execution_count": 7,
   "metadata": {
    "slideshow": {
     "slide_type": "subslide"
    }
   },
   "outputs": [
    {
     "data": {
      "application/vnd.jupyter.widget-view+json": {
       "model_id": "d63cc79ffe634a5bbef09717704fb222",
       "version_major": 2,
       "version_minor": 0
      },
      "text/plain": [
       "NGLWidget()"
      ]
     },
     "metadata": {},
     "output_type": "display_data"
    }
   ],
   "source": [
    "# Neutralize:\n",
    "!touch 00-systemsetup/dummy.mdp\n",
    "!gmx grompp -f 00-systemsetup/dummy.mdp -c 00-systemsetup/solvated.gro -p 00-systemsetup/penetratin.top -o 00-systemsetup/ions.tpr > /dev/null 2>&1\n",
    "!echo \"SOL\" | gmx genion -s 00-systemsetup/ions.tpr -p 00-systemsetup/penetratin.top -o 00-systemsetup/box_ions.gro -conc 0.15 -neutral > /dev/null 2>&1\n",
    "with open(\"00-systemsetup/box_ions.gro\") as f:\n",
    "    view = nv.show_file(f, ext=\"gro\")\n",
    "view.add_licorice(selection=\"water\")\n",
    "view.add_ball_and_stick(selection=\"NA\",color='blue',aspectRatio='5') \n",
    "view.add_ball_and_stick(selection=\"CL\",color='green',aspectRatio='5')\n",
    "view.camera = 'orthographic'\n",
    "view\n"
   ]
  },
  {
   "cell_type": "markdown",
   "metadata": {
    "slideshow": {
     "slide_type": "slide"
    }
   },
   "source": [
    "### Energy Minimization"
   ]
  },
  {
   "cell_type": "code",
   "execution_count": 8,
   "metadata": {
    "slideshow": {
     "slide_type": "subslide"
    }
   },
   "outputs": [
    {
     "name": "stdout",
     "output_type": "stream",
     "text": [
      "                      :-) GROMACS - gmx mdrun, 2021.3 (-:\n",
      "\n",
      "                            GROMACS is written by:\n",
      "     Andrey Alekseenko              Emile Apol              Rossen Apostolov     \n",
      "         Paul Bauer           Herman J.C. Berendsen           Par Bjelkmar       \n",
      "       Christian Blau           Viacheslav Bolnykh             Kevin Boyd        \n",
      "     Aldert van Buuren           Rudi van Drunen             Anton Feenstra      \n",
      "    Gilles Gouaillardet             Alan Gray               Gerrit Groenhof      \n",
      "       Anca Hamuraru            Vincent Hindriksen          M. Eric Irrgang      \n",
      "      Aleksei Iupinov           Christoph Junghans             Joe Jordan        \n",
      "    Dimitrios Karkoulis            Peter Kasson                Jiri Kraus        \n",
      "      Carsten Kutzner              Per Larsson              Justin A. Lemkul     \n",
      "       Viveca Lindahl            Magnus Lundborg             Erik Marklund       \n",
      "        Pascal Merz             Pieter Meulenhoff            Teemu Murtola       \n",
      "        Szilard Pall               Sander Pronk              Roland Schulz       \n",
      "       Michael Shirts            Alexey Shvetsov             Alfons Sijbers      \n",
      "       Peter Tieleman              Jon Vincent              Teemu Virolainen     \n",
      "     Christian Wennberg            Maarten Wolf              Artem Zhmurov       \n",
      "                           and the project leaders:\n",
      "        Mark Abraham, Berk Hess, Erik Lindahl, and David van der Spoel\n",
      "\n",
      "Copyright (c) 1991-2000, University of Groningen, The Netherlands.\n",
      "Copyright (c) 2001-2019, The GROMACS development team at\n",
      "Uppsala University, Stockholm University and\n",
      "the Royal Institute of Technology, Sweden.\n",
      "check out http://www.gromacs.org for more information.\n",
      "\n",
      "GROMACS is free software; you can redistribute it and/or modify it\n",
      "under the terms of the GNU Lesser General Public License\n",
      "as published by the Free Software Foundation; either version 2.1\n",
      "of the License, or (at your option) any later version.\n",
      "\n",
      "GROMACS:      gmx mdrun, version 2021.3\n",
      "Executable:   /opt/gromacs/2021.3_intel_OpenMP_OCL4/bin/gmx\n",
      "Data prefix:  /opt/gromacs/2021.3_intel_OpenMP_OCL4\n",
      "Working dir:  /Users/eric/Documents/GitHub/BiomeccanicaMultiscala/LAB/07-SimulatedAnnealing\n",
      "Command line:\n",
      "  gmx mdrun -s 01-minimization/em.tpr -deffnm 01-minimization/em -v\n",
      "\n",
      "Reading file 01-minimization/em.tpr, VERSION 2021.3 (single precision)\n",
      "On host Chromecast.simoninet 2 GPUs selected for this run.\n",
      "Mapping of GPU IDs to the 4 GPU tasks in the 4 ranks on this node:\n",
      "  PP:0,PP:0,PP:1,PP:1\n",
      "PP tasks will do (non-perturbed) short-ranged interactions on the GPU\n",
      "PP task will update and constrain coordinates on the CPU\n",
      "Using 4 MPI threads\n",
      "Using 4 OpenMP threads per tMPI thread\n",
      "\n",
      "\n",
      "Steepest Descents:\n",
      "   Tolerance (Fmax)   =  1.00000e+03\n",
      "   Number of steps    =         1000\n",
      "Step=    0, Dmax= 1.0e-02 nm, Epot= -2.28761e+04 Fmax= 1.14428e+05, atom= 1370\n",
      "Step=    1, Dmax= 1.0e-02 nm, Epot= -3.55365e+04 Fmax= 4.09802e+04, atom= 1370\n",
      "Step=    2, Dmax= 1.2e-02 nm, Epot= -4.85266e+04 Fmax= 1.42533e+04, atom= 6548\n",
      "Step=    3, Dmax= 1.4e-02 nm, Epot= -6.00029e+04 Fmax= 6.94216e+03, atom= 6188\n",
      "Step=    4, Dmax= 1.7e-02 nm, Epot= -6.78624e+04 Fmax= 3.87788e+03, atom= 25\n",
      "Step=    5, Dmax= 2.1e-02 nm, Epot= -7.29128e+04 Fmax= 2.34662e+04, atom= 25\n",
      "Step=    6, Dmax= 2.5e-02 nm, Epot= -7.50754e+04 Fmax= 8.87948e+03, atom= 25\n",
      "Step=    8, Dmax= 1.5e-02 nm, Epot= -7.59889e+04 Fmax= 1.13736e+04, atom= 25\n",
      "Step=    9, Dmax= 1.8e-02 nm, Epot= -7.67416e+04 Fmax= 1.28934e+04, atom= 25\n",
      "Step=   10, Dmax= 2.1e-02 nm, Epot= -7.72201e+04 Fmax= 1.63310e+04, atom= 25\n",
      "Step=   11, Dmax= 2.6e-02 nm, Epot= -7.75645e+04 Fmax= 1.87660e+04, atom= 25\n",
      "Step=   13, Dmax= 1.5e-02 nm, Epot= -7.92620e+04 Fmax= 5.02602e+03, atom= 332\n",
      "Step=   14, Dmax= 1.9e-02 nm, Epot= -8.02007e+04 Fmax= 2.31549e+04, atom= 332\n",
      "Step=   15, Dmax= 2.2e-02 nm, Epot= -8.10416e+04 Fmax= 1.13083e+04, atom= 332\n",
      "Step=   16, Dmax= 2.7e-02 nm, Epot= -8.13081e+04 Fmax= 2.95101e+04, atom= 332\n",
      "Step=   17, Dmax= 3.2e-02 nm, Epot= -8.20188e+04 Fmax= 1.98649e+04, atom= 332\n",
      "Step=   19, Dmax= 1.9e-02 nm, Epot= -8.24967e+04 Fmax= 9.55077e+03, atom= 332\n",
      "Step=   20, Dmax= 2.3e-02 nm, Epot= -8.28550e+04 Fmax= 2.62508e+04, atom= 332\n",
      "Step=   21, Dmax= 2.8e-02 nm, Epot= -8.33644e+04 Fmax= 1.61917e+04, atom= 332\n",
      "Step=   22, Dmax= 3.3e-02 nm, Epot= -8.33786e+04 Fmax= 3.50550e+04, atom= 332\n",
      "Step=   23, Dmax= 4.0e-02 nm, Epot= -8.39373e+04 Fmax= 2.57451e+04, atom= 332\n",
      "Step=   25, Dmax= 2.4e-02 nm, Epot= -8.44383e+04 Fmax= 1.08881e+04, atom= 332\n",
      "Step=   26, Dmax= 2.9e-02 nm, Epot= -8.45261e+04 Fmax= 3.28618e+04, atom= 332\n",
      "Step=   27, Dmax= 3.5e-02 nm, Epot= -8.50887e+04 Fmax= 2.00388e+04, atom= 332\n",
      "Step=   29, Dmax= 2.1e-02 nm, Epot= -8.54304e+04 Fmax= 1.14986e+04, atom= 332\n",
      "Step=   30, Dmax= 2.5e-02 nm, Epot= -8.55545e+04 Fmax= 2.68066e+04, atom= 332\n",
      "Step=   31, Dmax= 3.0e-02 nm, Epot= -8.59392e+04 Fmax= 1.87130e+04, atom= 332\n",
      "Step=   33, Dmax= 1.8e-02 nm, Epot= -8.62497e+04 Fmax= 8.76710e+03, atom= 332\n",
      "Step=   34, Dmax= 2.1e-02 nm, Epot= -8.64223e+04 Fmax= 2.39271e+04, atom= 332\n",
      "Step=   35, Dmax= 2.6e-02 nm, Epot= -8.67641e+04 Fmax= 1.57066e+04, atom= 332\n",
      "Step=   37, Dmax= 1.5e-02 nm, Epot= -8.70127e+04 Fmax= 7.90636e+03, atom= 332\n",
      "Step=   38, Dmax= 1.9e-02 nm, Epot= -8.71942e+04 Fmax= 2.08289e+04, atom= 332\n",
      "Step=   39, Dmax= 2.2e-02 nm, Epot= -8.74792e+04 Fmax= 1.32523e+04, atom= 332\n",
      "Step=   41, Dmax= 1.3e-02 nm, Epot= -8.76877e+04 Fmax= 7.35327e+03, atom= 332\n",
      "Step=   42, Dmax= 1.6e-02 nm, Epot= -8.78760e+04 Fmax= 1.70765e+04, atom= 332\n",
      "Step=   43, Dmax= 1.9e-02 nm, Epot= -8.80971e+04 Fmax= 1.25960e+04, atom= 332\n",
      "Step=   44, Dmax= 2.3e-02 nm, Epot= -8.81601e+04 Fmax= 2.26650e+04, atom= 332\n",
      "Step=   45, Dmax= 2.8e-02 nm, Epot= -8.83771e+04 Fmax= 1.99105e+04, atom= 332\n",
      "Step=   47, Dmax= 1.7e-02 nm, Epot= -8.86641e+04 Fmax= 5.50120e+03, atom= 332\n",
      "Step=   48, Dmax= 2.0e-02 nm, Epot= -8.88010e+04 Fmax= 2.54891e+04, atom= 332\n",
      "Step=   49, Dmax= 2.4e-02 nm, Epot= -8.91664e+04 Fmax= 1.12280e+04, atom= 332\n",
      "Step=   51, Dmax= 1.4e-02 nm, Epot= -8.93162e+04 Fmax= 1.09315e+04, atom= 332\n",
      "Step=   52, Dmax= 1.7e-02 nm, Epot= -8.94304e+04 Fmax= 1.54084e+04, atom= 332\n",
      "Step=   53, Dmax= 2.1e-02 nm, Epot= -8.95604e+04 Fmax= 1.64586e+04, atom= 332\n",
      "Step=   54, Dmax= 2.5e-02 nm, Epot= -8.96219e+04 Fmax= 2.14650e+04, atom= 332\n",
      "Step=   55, Dmax= 3.0e-02 nm, Epot= -8.97029e+04 Fmax= 2.42304e+04, atom= 332\n",
      "Step=   57, Dmax= 1.8e-02 nm, Epot= -9.00660e+04 Fmax= 3.12099e+03, atom= 332\n",
      "Step=   58, Dmax= 2.1e-02 nm, Epot= -9.02919e+04 Fmax= 3.02982e+04, atom= 332\n",
      "Step=   59, Dmax= 2.6e-02 nm, Epot= -9.07721e+04 Fmax= 9.40768e+03, atom= 332\n",
      "Step=   61, Dmax= 1.5e-02 nm, Epot= -9.08578e+04 Fmax= 1.44688e+04, atom= 332\n",
      "Step=   62, Dmax= 1.9e-02 nm, Epot= -9.09742e+04 Fmax= 1.39302e+04, atom= 332\n",
      "Step=   63, Dmax= 2.2e-02 nm, Epot= -9.10014e+04 Fmax= 2.03211e+04, atom= 332\n",
      "Step=   64, Dmax= 2.7e-02 nm, Epot= -9.11039e+04 Fmax= 2.04738e+04, atom= 332\n",
      "Step=   66, Dmax= 1.6e-02 nm, Epot= -9.13705e+04 Fmax= 4.12491e+03, atom= 332\n",
      "Step=   67, Dmax= 1.9e-02 nm, Epot= -9.14365e+04 Fmax= 2.50827e+04, atom= 332\n",
      "Step=   68, Dmax= 2.3e-02 nm, Epot= -9.17650e+04 Fmax= 1.04591e+04, atom= 332\n",
      "Step=   70, Dmax= 1.4e-02 nm, Epot= -9.18605e+04 Fmax= 1.06921e+04, atom= 332\n",
      "Step=   71, Dmax= 1.7e-02 nm, Epot= -9.19216e+04 Fmax= 1.49184e+04, atom= 332\n",
      "Step=   72, Dmax= 2.0e-02 nm, Epot= -9.20065e+04 Fmax= 1.55591e+04, atom= 332\n",
      "Step=   73, Dmax= 2.4e-02 nm, Epot= -9.20129e+04 Fmax= 2.12015e+04, atom= 332\n",
      "Step=   74, Dmax= 2.9e-02 nm, Epot= -9.20733e+04 Fmax= 2.25875e+04, atom= 332\n",
      "Step=   76, Dmax= 1.7e-02 nm, Epot= -9.23759e+04 Fmax= 3.82928e+03, atom= 332\n",
      "Step=   78, Dmax= 1.0e-02 nm, Epot= -9.24961e+04 Fmax= 1.17603e+04, atom= 332\n",
      "Step=   79, Dmax= 1.2e-02 nm, Epot= -9.26081e+04 Fmax= 7.36263e+03, atom= 332\n",
      "Step=   80, Dmax= 1.5e-02 nm, Epot= -9.26477e+04 Fmax= 1.53480e+04, atom= 332\n",
      "Step=   81, Dmax= 1.8e-02 nm, Epot= -9.27664e+04 Fmax= 1.21408e+04, atom= 332\n",
      "Step=   83, Dmax= 1.1e-02 nm, Epot= -9.28856e+04 Fmax= 4.24463e+03, atom= 332\n",
      "Step=   84, Dmax= 1.3e-02 nm, Epot= -9.29596e+04 Fmax= 1.57156e+04, atom= 332\n",
      "Step=   85, Dmax= 1.5e-02 nm, Epot= -9.31089e+04 Fmax= 7.92409e+03, atom= 332\n"
     ]
    },
    {
     "name": "stdout",
     "output_type": "stream",
     "text": [
      "Step=   87, Dmax= 9.2e-03 nm, Epot= -9.31900e+04 Fmax= 6.37148e+03, atom= 332\n",
      "Step=   88, Dmax= 1.1e-02 nm, Epot= -9.32558e+04 Fmax= 1.05809e+04, atom= 332\n",
      "Step=   89, Dmax= 1.3e-02 nm, Epot= -9.33352e+04 Fmax= 9.98148e+03, atom= 332\n",
      "Step=   90, Dmax= 1.6e-02 nm, Epot= -9.33703e+04 Fmax= 1.44743e+04, atom= 332\n",
      "Step=   91, Dmax= 1.9e-02 nm, Epot= -9.34366e+04 Fmax= 1.50664e+04, atom= 332\n",
      "Step=   93, Dmax= 1.1e-02 nm, Epot= -9.35882e+04 Fmax= 2.56854e+03, atom= 332\n",
      "Step=   94, Dmax= 1.4e-02 nm, Epot= -9.37045e+04 Fmax= 1.90100e+04, atom= 332\n",
      "Step=   95, Dmax= 1.7e-02 nm, Epot= -9.39068e+04 Fmax= 6.45769e+03, atom= 332\n",
      "Step=   97, Dmax= 9.9e-03 nm, Epot= -9.39677e+04 Fmax= 8.93269e+03, atom= 332\n",
      "Step=   98, Dmax= 1.2e-02 nm, Epot= -9.40308e+04 Fmax= 9.33707e+03, atom= 332\n",
      "Step=   99, Dmax= 1.4e-02 nm, Epot= -9.40704e+04 Fmax= 1.27725e+04, atom= 332\n",
      "Step=  100, Dmax= 1.7e-02 nm, Epot= -9.41254e+04 Fmax= 1.35414e+04, atom= 332\n",
      "Step=  101, Dmax= 2.1e-02 nm, Epot= -9.41266e+04 Fmax= 1.82027e+04, atom= 332\n",
      "Step=  102, Dmax= 2.5e-02 nm, Epot= -9.41624e+04 Fmax= 1.96293e+04, atom= 332\n",
      "Step=  104, Dmax= 1.5e-02 nm, Epot= -9.43872e+04 Fmax= 3.18834e+03, atom= 332\n",
      "Step=  106, Dmax= 8.9e-03 nm, Epot= -9.44703e+04 Fmax= 1.02700e+04, atom= 332\n",
      "Step=  107, Dmax= 1.1e-02 nm, Epot= -9.45518e+04 Fmax= 6.23247e+03, atom= 332\n",
      "Step=  108, Dmax= 1.3e-02 nm, Epot= -9.45747e+04 Fmax= 1.33606e+04, atom= 332\n",
      "Step=  109, Dmax= 1.5e-02 nm, Epot= -9.46622e+04 Fmax= 1.03655e+04, atom= 332\n",
      "Step=  111, Dmax= 9.2e-03 nm, Epot= -9.47476e+04 Fmax= 3.77276e+03, atom= 332\n",
      "Step=  112, Dmax= 1.1e-02 nm, Epot= -9.47935e+04 Fmax= 1.34501e+04, atom= 332\n",
      "Step=  113, Dmax= 1.3e-02 nm, Epot= -9.49008e+04 Fmax= 6.94173e+03, atom= 332\n",
      "Step=  115, Dmax= 8.0e-03 nm, Epot= -9.49595e+04 Fmax= 5.39623e+03, atom= 332\n",
      "Step=  116, Dmax= 9.6e-03 nm, Epot= -9.50053e+04 Fmax= 9.22245e+03, atom= 332\n",
      "Step=  117, Dmax= 1.1e-02 nm, Epot= -9.50636e+04 Fmax= 8.52329e+03, atom= 332\n",
      "Step=  118, Dmax= 1.4e-02 nm, Epot= -9.50862e+04 Fmax= 1.25742e+04, atom= 332\n",
      "Step=  119, Dmax= 1.7e-02 nm, Epot= -9.51356e+04 Fmax= 1.29272e+04, atom= 332\n",
      "Step=  121, Dmax= 9.9e-03 nm, Epot= -9.52464e+04 Fmax= 2.28703e+03, atom= 332\n",
      "Step=  122, Dmax= 1.2e-02 nm, Epot= -9.53220e+04 Fmax= 1.63427e+04, atom= 332\n",
      "Step=  123, Dmax= 1.4e-02 nm, Epot= -9.54712e+04 Fmax= 5.61532e+03, atom= 332\n",
      "Step=  125, Dmax= 8.6e-03 nm, Epot= -9.55158e+04 Fmax= 7.66857e+03, atom= 332\n",
      "Step=  126, Dmax= 1.0e-02 nm, Epot= -9.55619e+04 Fmax= 8.08655e+03, atom= 332\n",
      "Step=  127, Dmax= 1.2e-02 nm, Epot= -9.55913e+04 Fmax= 1.09973e+04, atom= 332\n",
      "Step=  128, Dmax= 1.5e-02 nm, Epot= -9.56315e+04 Fmax= 1.17048e+04, atom= 332\n",
      "Step=  129, Dmax= 1.8e-02 nm, Epot= -9.56326e+04 Fmax= 1.57040e+04, atom= 332\n",
      "Step=  130, Dmax= 2.1e-02 nm, Epot= -9.56591e+04 Fmax= 1.69599e+04, atom= 332\n",
      "Step=  132, Dmax= 1.3e-02 nm, Epot= -9.58267e+04 Fmax= 2.74491e+03, atom= 332\n",
      "Step=  134, Dmax= 7.7e-03 nm, Epot= -9.58891e+04 Fmax= 8.86606e+03, atom= 332\n",
      "Step=  135, Dmax= 9.2e-03 nm, Epot= -9.59503e+04 Fmax= 5.37772e+03, atom= 332\n",
      "Step=  136, Dmax= 1.1e-02 nm, Epot= -9.59683e+04 Fmax= 1.15178e+04, atom= 332\n",
      "Step=  137, Dmax= 1.3e-02 nm, Epot= -9.60340e+04 Fmax= 8.96264e+03, atom= 332\n",
      "Step=  139, Dmax= 8.0e-03 nm, Epot= -9.60981e+04 Fmax= 3.23358e+03, atom= 332\n",
      "Step=  140, Dmax= 9.6e-03 nm, Epot= -9.61344e+04 Fmax= 1.16415e+04, atom= 332\n",
      "Step=  141, Dmax= 1.1e-02 nm, Epot= -9.62157e+04 Fmax= 5.94728e+03, atom= 332\n",
      "Step=  143, Dmax= 6.9e-03 nm, Epot= -9.62601e+04 Fmax= 4.70486e+03, atom= 332\n",
      "Step=  144, Dmax= 8.3e-03 nm, Epot= -9.62959e+04 Fmax= 7.89982e+03, atom= 332\n",
      "Step=  145, Dmax= 9.9e-03 nm, Epot= -9.63400e+04 Fmax= 7.41821e+03, atom= 332\n",
      "Step=  146, Dmax= 1.2e-02 nm, Epot= -9.63593e+04 Fmax= 1.07791e+04, atom= 332\n",
      "Step=  147, Dmax= 1.4e-02 nm, Epot= -9.63963e+04 Fmax= 1.12361e+04, atom= 332\n",
      "Step=  149, Dmax= 8.6e-03 nm, Epot= -9.64805e+04 Fmax= 1.88900e+03, atom= 332\n",
      "Step=  150, Dmax= 1.0e-02 nm, Epot= -9.65486e+04 Fmax= 1.42227e+04, atom= 332\n",
      "Step=  151, Dmax= 1.2e-02 nm, Epot= -9.66630e+04 Fmax= 4.71447e+03, atom= 332\n",
      "Step=  153, Dmax= 7.4e-03 nm, Epot= -9.66981e+04 Fmax= 6.75718e+03, atom= 332\n",
      "Step=  154, Dmax= 8.9e-03 nm, Epot= -9.67355e+04 Fmax= 6.83015e+03, atom= 332\n",
      "Step=  155, Dmax= 1.1e-02 nm, Epot= -9.67583e+04 Fmax= 9.64585e+03, atom= 332\n",
      "Step=  156, Dmax= 1.3e-02 nm, Epot= -9.67928e+04 Fmax= 9.93882e+03, atom= 332\n",
      "Step=  157, Dmax= 1.5e-02 nm, Epot= -9.67929e+04 Fmax= 1.37266e+04, atom= 332\n",
      "Step=  158, Dmax= 1.8e-02 nm, Epot= -9.68191e+04 Fmax= 1.44677e+04, atom= 332\n",
      "Step=  160, Dmax= 1.1e-02 nm, Epot= -9.69424e+04 Fmax= 2.54543e+03, atom= 332\n",
      "Step=  162, Dmax= 6.6e-03 nm, Epot= -9.69901e+04 Fmax= 7.48086e+03, atom= 332\n",
      "Step=  163, Dmax= 7.9e-03 nm, Epot= -9.70360e+04 Fmax= 4.81413e+03, atom= 332\n",
      "Step=  164, Dmax= 9.5e-03 nm, Epot= -9.70538e+04 Fmax= 9.75605e+03, atom= 332\n",
      "Step=  165, Dmax= 1.1e-02 nm, Epot= -9.71022e+04 Fmax= 7.92230e+03, atom= 332\n",
      "Step=  167, Dmax= 6.9e-03 nm, Epot= -9.71531e+04 Fmax= 2.59781e+03, atom= 332\n",
      "Step=  168, Dmax= 8.2e-03 nm, Epot= -9.71891e+04 Fmax= 1.02626e+04, atom= 332\n",
      "Step=  169, Dmax= 9.9e-03 nm, Epot= -9.72541e+04 Fmax= 4.90898e+03, atom= 332\n",
      "Step=  171, Dmax= 5.9e-03 nm, Epot= -9.72889e+04 Fmax= 4.29064e+03, atom= 332\n",
      "Step=  172, Dmax= 7.1e-03 nm, Epot= -9.73191e+04 Fmax= 6.58005e+03, atom= 332\n",
      "Step=  173, Dmax= 8.5e-03 nm, Epot= -9.73525e+04 Fmax= 6.64460e+03, atom= 332\n",
      "Step=  174, Dmax= 1.0e-02 nm, Epot= -9.73725e+04 Fmax= 9.05153e+03, atom= 332\n",
      "Step=  175, Dmax= 1.2e-02 nm, Epot= -9.73990e+04 Fmax= 9.95429e+03, atom= 332\n",
      "Step=  176, Dmax= 1.5e-02 nm, Epot= -9.74048e+04 Fmax= 1.26692e+04, atom= 332\n",
      "Step=  177, Dmax= 1.8e-02 nm, Epot= -9.74137e+04 Fmax= 1.46350e+04, atom= 332\n",
      "Step=  179, Dmax= 1.1e-02 nm, Epot= -9.75367e+04 Fmax= 1.67560e+03, atom= 332\n",
      "Step=  180, Dmax= 1.3e-02 nm, Epot= -9.75587e+04 Fmax= 1.83344e+04, atom= 332\n",
      "Step=  181, Dmax= 1.5e-02 nm, Epot= -9.77303e+04 Fmax= 5.23395e+03, atom= 332\n",
      "Step=  183, Dmax= 9.2e-03 nm, Epot= -9.77455e+04 Fmax= 9.00043e+03, atom= 332\n",
      "Step=  184, Dmax= 1.1e-02 nm, Epot= -9.77828e+04 Fmax= 7.90369e+03, atom= 332\n",
      "Step=  186, Dmax= 6.6e-03 nm, Epot= -9.78310e+04 Fmax= 2.31860e+03, atom= 332\n",
      "Step=  187, Dmax= 7.9e-03 nm, Epot= -9.78653e+04 Fmax= 9.72360e+03, atom= 332\n",
      "Step=  188, Dmax= 9.5e-03 nm, Epot= -9.79227e+04 Fmax= 4.99050e+03, atom= 332\n",
      "Step=  190, Dmax= 5.7e-03 nm, Epot= -9.79538e+04 Fmax= 3.74511e+03, atom= 332\n",
      "Step=  191, Dmax= 6.9e-03 nm, Epot= -9.79787e+04 Fmax= 6.90631e+03, atom= 332\n",
      "Step=  192, Dmax= 8.2e-03 nm, Epot= -9.80124e+04 Fmax= 5.69703e+03, atom= 332\n",
      "Step=  193, Dmax= 9.9e-03 nm, Epot= -9.80218e+04 Fmax= 9.59035e+03, atom= 332\n",
      "Step=  194, Dmax= 1.2e-02 nm, Epot= -9.80576e+04 Fmax= 8.57450e+03, atom= 332\n",
      "Step=  196, Dmax= 7.1e-03 nm, Epot= -9.81099e+04 Fmax= 2.40843e+03, atom= 332\n",
      "Step=  197, Dmax= 8.5e-03 nm, Epot= -9.81342e+04 Fmax= 1.05373e+04, atom= 332\n",
      "Step=  198, Dmax= 1.0e-02 nm, Epot= -9.81970e+04 Fmax= 5.27459e+03, atom= 332\n",
      "Step=  200, Dmax= 6.1e-03 nm, Epot= -9.82270e+04 Fmax= 4.11832e+03, atom= 332\n",
      "Step=  201, Dmax= 7.4e-03 nm, Epot= -9.82472e+04 Fmax= 7.32090e+03, atom= 332\n",
      "Step=  202, Dmax= 8.8e-03 nm, Epot= -9.82795e+04 Fmax= 6.22954e+03, atom= 332\n",
      "Step=  203, Dmax= 1.1e-02 nm, Epot= -9.82835e+04 Fmax= 1.01925e+04, atom= 332\n",
      "Step=  204, Dmax= 1.3e-02 nm, Epot= -9.83171e+04 Fmax= 9.33442e+03, atom= 332\n",
      "Step=  206, Dmax= 7.6e-03 nm, Epot= -9.83750e+04 Fmax= 2.46564e+03, atom= 332\n",
      "Step=  207, Dmax= 9.2e-03 nm, Epot= -9.83888e+04 Fmax= 1.14561e+04, atom= 332\n",
      "Step=  208, Dmax= 1.1e-02 nm, Epot= -9.84588e+04 Fmax= 5.53548e+03, atom= 332\n",
      "Step=  210, Dmax= 6.6e-03 nm, Epot= -9.84875e+04 Fmax= 4.56409e+03, atom= 332\n",
      "Step=  211, Dmax= 7.9e-03 nm, Epot= -9.85035e+04 Fmax= 7.72032e+03, atom= 332\n",
      "Step=  212, Dmax= 9.5e-03 nm, Epot= -9.85340e+04 Fmax= 6.84775e+03, atom= 332\n",
      "Step=  214, Dmax= 5.7e-03 nm, Epot= -9.85722e+04 Fmax= 1.97580e+03, atom= 332\n",
      "Step=  215, Dmax= 6.8e-03 nm, Epot= -9.86074e+04 Fmax= 8.38392e+03, atom= 332\n",
      "Step=  216, Dmax= 8.2e-03 nm, Epot= -9.86526e+04 Fmax= 4.31513e+03, atom= 332\n",
      "Step=  218, Dmax= 4.9e-03 nm, Epot= -9.86787e+04 Fmax= 3.21418e+03, atom= 332\n",
      "Step=  219, Dmax= 5.9e-03 nm, Epot= -9.87019e+04 Fmax= 5.98557e+03, atom= 332\n",
      "Step=  220, Dmax= 7.1e-03 nm, Epot= -9.87302e+04 Fmax= 4.88029e+03, atom= 332\n",
      "Step=  221, Dmax= 8.5e-03 nm, Epot= -9.87415e+04 Fmax= 8.31875e+03, atom= 332\n"
     ]
    },
    {
     "name": "stdout",
     "output_type": "stream",
     "text": [
      "Step=  222, Dmax= 1.0e-02 nm, Epot= -9.87719e+04 Fmax= 7.34702e+03, atom= 332\n",
      "Step=  224, Dmax= 6.1e-03 nm, Epot= -9.88126e+04 Fmax= 2.13370e+03, atom= 332\n",
      "Step=  225, Dmax= 7.4e-03 nm, Epot= -9.88388e+04 Fmax= 9.01923e+03, atom= 332\n",
      "Step=  226, Dmax= 8.8e-03 nm, Epot= -9.88873e+04 Fmax= 4.62636e+03, atom= 332\n",
      "Step=  228, Dmax= 5.3e-03 nm, Epot= -9.89128e+04 Fmax= 3.47134e+03, atom= 332\n",
      "Step=  229, Dmax= 6.4e-03 nm, Epot= -9.89325e+04 Fmax= 6.40836e+03, atom= 332\n",
      "Step=  230, Dmax= 7.6e-03 nm, Epot= -9.89605e+04 Fmax= 5.27600e+03, atom= 332\n",
      "Step=  231, Dmax= 9.2e-03 nm, Epot= -9.89670e+04 Fmax= 8.90220e+03, atom= 332\n",
      "Step=  232, Dmax= 1.1e-02 nm, Epot= -9.89968e+04 Fmax= 7.94038e+03, atom= 332\n",
      "Step=  234, Dmax= 6.6e-03 nm, Epot= -9.90410e+04 Fmax= 2.24551e+03, atom= 332\n",
      "Step=  235, Dmax= 7.9e-03 nm, Epot= -9.90589e+04 Fmax= 9.75446e+03, atom= 332\n",
      "Step=  236, Dmax= 9.5e-03 nm, Epot= -9.91119e+04 Fmax= 4.90840e+03, atom= 332\n",
      "Step=  238, Dmax= 5.7e-03 nm, Epot= -9.91370e+04 Fmax= 3.79981e+03, atom= 332\n",
      "Step=  239, Dmax= 6.8e-03 nm, Epot= -9.91530e+04 Fmax= 6.80958e+03, atom= 332\n",
      "Step=  240, Dmax= 8.2e-03 nm, Epot= -9.91802e+04 Fmax= 5.75360e+03, atom= 332\n",
      "Step=  241, Dmax= 9.8e-03 nm, Epot= -9.91823e+04 Fmax= 9.47632e+03, atom= 332\n",
      "Step=  242, Dmax= 1.2e-02 nm, Epot= -9.92108e+04 Fmax= 8.62993e+03, atom= 332\n",
      "Step=  244, Dmax= 7.1e-03 nm, Epot= -9.92597e+04 Fmax= 2.31363e+03, atom= 332\n",
      "Step=  245, Dmax= 8.5e-03 nm, Epot= -9.92692e+04 Fmax= 1.05929e+04, atom= 332\n",
      "Step=  246, Dmax= 1.0e-02 nm, Epot= -9.93284e+04 Fmax= 5.16334e+03, atom= 332\n",
      "Step=  248, Dmax= 6.1e-03 nm, Epot= -9.93527e+04 Fmax= 4.20032e+03, atom= 332\n",
      "Step=  249, Dmax= 7.3e-03 nm, Epot= -9.93655e+04 Fmax= 7.19306e+03, atom= 332\n",
      "Step=  250, Dmax= 8.8e-03 nm, Epot= -9.93915e+04 Fmax= 6.31395e+03, atom= 332\n",
      "Step=  252, Dmax= 5.3e-03 nm, Epot= -9.94237e+04 Fmax= 1.86899e+03, atom= 332\n",
      "Step=  253, Dmax= 6.3e-03 nm, Epot= -9.94517e+04 Fmax= 7.73603e+03, atom= 332\n",
      "Step=  254, Dmax= 7.6e-03 nm, Epot= -9.94898e+04 Fmax= 4.03994e+03, atom= 332\n",
      "Step=  256, Dmax= 4.6e-03 nm, Epot= -9.95119e+04 Fmax= 2.94018e+03, atom= 332\n",
      "Step=  257, Dmax= 5.5e-03 nm, Epot= -9.95313e+04 Fmax= 5.59342e+03, atom= 332\n",
      "Step=  258, Dmax= 6.6e-03 nm, Epot= -9.95556e+04 Fmax= 4.48029e+03, atom= 332\n",
      "Step=  259, Dmax= 7.9e-03 nm, Epot= -9.95644e+04 Fmax= 7.76114e+03, atom= 332\n",
      "Step=  260, Dmax= 9.5e-03 nm, Epot= -9.95907e+04 Fmax= 6.76362e+03, atom= 332\n",
      "Step=  262, Dmax= 5.7e-03 nm, Epot= -9.96251e+04 Fmax= 2.02857e+03, atom= 332\n",
      "Step=  263, Dmax= 6.8e-03 nm, Epot= -9.96459e+04 Fmax= 8.31222e+03, atom= 332\n",
      "Step=  264, Dmax= 8.2e-03 nm, Epot= -9.96867e+04 Fmax= 4.34134e+03, atom= 332\n",
      "Step=  266, Dmax= 4.9e-03 nm, Epot= -9.97087e+04 Fmax= 3.16605e+03, atom= 332\n",
      "Step=  267, Dmax= 5.9e-03 nm, Epot= -9.97251e+04 Fmax= 5.99834e+03, atom= 332\n",
      "Step=  268, Dmax= 7.1e-03 nm, Epot= -9.97494e+04 Fmax= 4.83422e+03, atom= 332\n",
      "Step=  269, Dmax= 8.5e-03 nm, Epot= -9.97542e+04 Fmax= 8.31564e+03, atom= 332\n",
      "Step=  270, Dmax= 1.0e-02 nm, Epot= -9.97805e+04 Fmax= 7.30046e+03, atom= 332\n",
      "Step=  272, Dmax= 6.1e-03 nm, Epot= -9.98179e+04 Fmax= 2.14582e+03, atom= 332\n",
      "Step=  273, Dmax= 7.3e-03 nm, Epot= -9.98318e+04 Fmax= 8.98080e+03, atom= 332\n",
      "Step=  274, Dmax= 8.8e-03 nm, Epot= -9.98766e+04 Fmax= 4.61590e+03, atom= 332\n",
      "Step=  276, Dmax= 5.3e-03 nm, Epot= -9.98982e+04 Fmax= 3.45767e+03, atom= 332\n",
      "Step=  277, Dmax= 6.3e-03 nm, Epot= -9.99118e+04 Fmax= 6.38336e+03, atom= 332\n",
      "Step=  278, Dmax= 7.6e-03 nm, Epot= -9.99358e+04 Fmax= 5.26418e+03, atom= 332\n",
      "Step=  279, Dmax= 9.1e-03 nm, Epot= -9.99367e+04 Fmax= 8.86086e+03, atom= 332\n",
      "Step=  280, Dmax= 1.1e-02 nm, Epot= -9.99623e+04 Fmax= 7.92723e+03, atom= 332\n",
      "Step=  282, Dmax= 6.6e-03 nm, Epot= -1.00004e+05 Fmax= 2.22196e+03, atom= 332\n",
      "Step=  283, Dmax= 7.9e-03 nm, Epot= -1.00011e+05 Fmax= 9.74596e+03, atom= 332\n",
      "Step=  284, Dmax= 9.5e-03 nm, Epot= -1.00061e+05 Fmax= 4.86445e+03, atom= 332\n",
      "Step=  286, Dmax= 5.7e-03 nm, Epot= -1.00082e+05 Fmax= 3.81685e+03, atom= 332\n",
      "Step=  287, Dmax= 6.8e-03 nm, Epot= -1.00092e+05 Fmax= 6.75119e+03, atom= 332\n",
      "Step=  288, Dmax= 8.2e-03 nm, Epot= -1.00116e+05 Fmax= 5.77147e+03, atom= 332\n",
      "Step=  290, Dmax= 4.9e-03 nm, Epot= -1.00143e+05 Fmax= 1.81743e+03, atom= 332\n",
      "Step=  291, Dmax= 5.9e-03 nm, Epot= -1.00166e+05 Fmax= 7.09062e+03, atom= 332\n",
      "Step=  292, Dmax= 7.1e-03 nm, Epot= -1.00198e+05 Fmax= 3.82926e+03, atom= 332\n",
      "Step=  294, Dmax= 4.2e-03 nm, Epot= -1.00217e+05 Fmax= 2.64194e+03, atom= 332\n",
      "Step=  295, Dmax= 5.1e-03 nm, Epot= -1.00234e+05 Fmax= 5.27552e+03, atom= 332\n",
      "Step=  296, Dmax= 6.1e-03 nm, Epot= -1.00256e+05 Fmax= 4.06351e+03, atom= 332\n",
      "Step=  297, Dmax= 7.3e-03 nm, Epot= -1.00263e+05 Fmax= 7.29080e+03, atom= 332\n",
      "Step=  298, Dmax= 8.8e-03 nm, Epot= -1.00287e+05 Fmax= 6.17535e+03, atom= 332\n",
      "Step=  300, Dmax= 5.3e-03 nm, Epot= -1.00316e+05 Fmax= 1.97863e+03, atom= 332\n",
      "Step=  301, Dmax= 6.3e-03 nm, Epot= -1.00333e+05 Fmax= 7.61178e+03, atom= 332\n",
      "Step=  302, Dmax= 7.6e-03 nm, Epot= -1.00367e+05 Fmax= 4.12209e+03, atom= 332\n",
      "Step=  304, Dmax= 4.6e-03 nm, Epot= -1.00386e+05 Fmax= 2.83817e+03, atom= 332\n",
      "Step=  305, Dmax= 5.5e-03 nm, Epot= -1.00401e+05 Fmax= 5.66440e+03, atom= 332\n",
      "Step=  306, Dmax= 6.6e-03 nm, Epot= -1.00422e+05 Fmax= 4.37844e+03, atom= 332\n",
      "Step=  307, Dmax= 7.9e-03 nm, Epot= -1.00426e+05 Fmax= 7.81850e+03, atom= 332\n",
      "Step=  308, Dmax= 9.4e-03 nm, Epot= -1.00450e+05 Fmax= 6.65990e+03, atom= 332\n",
      "Step=  310, Dmax= 5.7e-03 nm, Epot= -1.00482e+05 Fmax= 2.10094e+03, atom= 332\n",
      "Step=  311, Dmax= 6.8e-03 nm, Epot= -1.00493e+05 Fmax= 8.21846e+03, atom= 332\n",
      "Step=  312, Dmax= 8.2e-03 nm, Epot= -1.00531e+05 Fmax= 4.38967e+03, atom= 332\n",
      "Step=  314, Dmax= 4.9e-03 nm, Epot= -1.00550e+05 Fmax= 3.09537e+03, atom= 332\n",
      "Step=  315, Dmax= 5.9e-03 nm, Epot= -1.00562e+05 Fmax= 6.03482e+03, atom= 332\n",
      "Step=  316, Dmax= 7.0e-03 nm, Epot= -1.00584e+05 Fmax= 4.76369e+03, atom= 332\n",
      "Step=  317, Dmax= 8.5e-03 nm, Epot= -1.00584e+05 Fmax= 8.33776e+03, atom= 332\n",
      "Step=  318, Dmax= 1.0e-02 nm, Epot= -1.00608e+05 Fmax= 7.22775e+03, atom= 332\n",
      "Step=  320, Dmax= 6.1e-03 nm, Epot= -1.00643e+05 Fmax= 2.18457e+03, atom= 332\n",
      "Step=  321, Dmax= 7.3e-03 nm, Epot= -1.00648e+05 Fmax= 8.91535e+03, atom= 332\n",
      "Step=  322, Dmax= 8.8e-03 nm, Epot= -1.00690e+05 Fmax= 4.63269e+03, atom= 332\n",
      "Step=  324, Dmax= 5.3e-03 nm, Epot= -1.00709e+05 Fmax= 3.41574e+03, atom= 332\n",
      "Step=  325, Dmax= 6.3e-03 nm, Epot= -1.00718e+05 Fmax= 6.38820e+03, atom= 332\n",
      "Step=  326, Dmax= 7.6e-03 nm, Epot= -1.00740e+05 Fmax= 5.22199e+03, atom= 332\n",
      "Step=  328, Dmax= 4.5e-03 nm, Epot= -1.00763e+05 Fmax= 1.81645e+03, atom= 332\n",
      "Step=  329, Dmax= 5.5e-03 nm, Epot= -1.00782e+05 Fmax= 6.44833e+03, atom= 332\n",
      "Step=  330, Dmax= 6.5e-03 nm, Epot= -1.00808e+05 Fmax= 3.67832e+03, atom= 332\n",
      "Step=  332, Dmax= 3.9e-03 nm, Epot= -1.00826e+05 Fmax= 2.32143e+03, atom= 332\n",
      "Step=  333, Dmax= 4.7e-03 nm, Epot= -1.00841e+05 Fmax= 5.02686e+03, atom= 332\n",
      "Step=  334, Dmax= 5.7e-03 nm, Epot= -1.00861e+05 Fmax= 3.63162e+03, atom= 332\n",
      "Step=  335, Dmax= 6.8e-03 nm, Epot= -1.00867e+05 Fmax= 6.90131e+03, atom= 332\n",
      "Step=  336, Dmax= 8.1e-03 nm, Epot= -1.00889e+05 Fmax= 5.58364e+03, atom= 332\n",
      "Step=  338, Dmax= 4.9e-03 nm, Epot= -1.00914e+05 Fmax= 1.97893e+03, atom= 332\n",
      "Step=  339, Dmax= 5.9e-03 nm, Epot= -1.00928e+05 Fmax= 6.91842e+03, atom= 332\n",
      "Step=  340, Dmax= 7.0e-03 nm, Epot= -1.00957e+05 Fmax= 3.96265e+03, atom= 332\n",
      "Step=  342, Dmax= 4.2e-03 nm, Epot= -1.00974e+05 Fmax= 2.49071e+03, atom= 332\n",
      "Step=  343, Dmax= 5.1e-03 nm, Epot= -1.00987e+05 Fmax= 5.39997e+03, atom= 332\n",
      "Step=  344, Dmax= 6.1e-03 nm, Epot= -1.01008e+05 Fmax= 3.91101e+03, atom= 332\n",
      "Step=  345, Dmax= 7.3e-03 nm, Epot= -1.01011e+05 Fmax= 7.40323e+03, atom= 332\n",
      "Step=  346, Dmax= 8.8e-03 nm, Epot= -1.01034e+05 Fmax= 6.02036e+03, atom= 332\n",
      "Step=  348, Dmax= 5.3e-03 nm, Epot= -1.01060e+05 Fmax= 2.10464e+03, atom= 332\n",
      "Step=  349, Dmax= 6.3e-03 nm, Epot= -1.01070e+05 Fmax= 7.46906e+03, atom= 332\n",
      "Step=  350, Dmax= 7.6e-03 nm, Epot= -1.01101e+05 Fmax= 4.22266e+03, atom= 332\n",
      "Step=  352, Dmax= 4.5e-03 nm, Epot= -1.01118e+05 Fmax= 2.71714e+03, atom= 332\n",
      "Step=  353, Dmax= 5.4e-03 nm, Epot= -1.01129e+05 Fmax= 5.75510e+03, atom= 332\n",
      "Step=  354, Dmax= 6.5e-03 nm, Epot= -1.01150e+05 Fmax= 4.25671e+03, atom= 332\n"
     ]
    },
    {
     "name": "stdout",
     "output_type": "stream",
     "text": [
      "Step=  356, Dmax= 3.9e-03 nm, Epot= -1.01168e+05 Fmax= 1.82101e+03, atom= 332\n",
      "Step=  357, Dmax= 4.7e-03 nm, Epot= -1.01185e+05 Fmax= 5.31183e+03, atom= 332\n",
      "Step=  358, Dmax= 5.6e-03 nm, Epot= -1.01206e+05 Fmax= 3.42949e+03, atom= 332\n",
      "Step=  359, Dmax= 6.8e-03 nm, Epot= -1.01211e+05 Fmax= 6.91703e+03, atom= 332\n",
      "Step=  360, Dmax= 8.1e-03 nm, Epot= -1.01233e+05 Fmax= 5.65161e+03, atom= 332\n",
      "Step=  362, Dmax= 4.9e-03 nm, Epot= -1.01256e+05 Fmax= 1.82104e+03, atom= 332\n",
      "Step=  363, Dmax= 5.9e-03 nm, Epot= -1.01268e+05 Fmax= 7.32991e+03, atom= 332\n",
      "Step=  364, Dmax= 7.0e-03 nm, Epot= -1.01300e+05 Fmax= 3.44452e+03, atom= 332\n",
      "Step=  366, Dmax= 4.2e-03 nm, Epot= -1.01315e+05 Fmax= 3.09732e+03, atom= 332\n",
      "Step=  367, Dmax= 5.1e-03 nm, Epot= -1.01327e+05 Fmax= 4.62045e+03, atom= 332\n",
      "Step=  368, Dmax= 6.1e-03 nm, Epot= -1.01341e+05 Fmax= 4.78103e+03, atom= 332\n",
      "Step=  369, Dmax= 7.3e-03 nm, Epot= -1.01349e+05 Fmax= 6.36624e+03, atom= 332\n",
      "Step=  370, Dmax= 8.7e-03 nm, Epot= -1.01360e+05 Fmax= 7.14584e+03, atom= 332\n",
      "Step=  371, Dmax= 1.0e-02 nm, Epot= -1.01361e+05 Fmax= 8.93041e+03, atom= 332\n",
      "Step=  372, Dmax= 1.3e-02 nm, Epot= -1.01362e+05 Fmax= 1.04905e+04, atom= 332\n",
      "Step=  374, Dmax= 7.6e-03 nm, Epot= -1.01424e+05 Fmax= 1.09931e+03, atom= 332\n",
      "Step=  375, Dmax= 9.1e-03 nm, Epot= -1.01430e+05 Fmax= 1.31739e+04, atom= 332\n",
      "Step=  376, Dmax= 1.1e-02 nm, Epot= -1.01518e+05 Fmax= 3.54908e+03, atom= 332\n",
      "Step=  378, Dmax= 6.5e-03 nm, Epot= -1.01523e+05 Fmax= 6.57390e+03, atom= 332\n",
      "Step=  379, Dmax= 7.8e-03 nm, Epot= -1.01542e+05 Fmax= 5.43079e+03, atom= 332\n",
      "Step=  381, Dmax= 4.7e-03 nm, Epot= -1.01565e+05 Fmax= 1.83735e+03, atom= 332\n",
      "Step=  382, Dmax= 5.6e-03 nm, Epot= -1.01577e+05 Fmax= 6.71615e+03, atom= 332\n",
      "Step=  383, Dmax= 6.8e-03 nm, Epot= -1.01604e+05 Fmax= 3.74132e+03, atom= 332\n",
      "Step=  385, Dmax= 4.1e-03 nm, Epot= -1.01619e+05 Fmax= 2.46221e+03, atom= 332\n",
      "Step=  386, Dmax= 4.9e-03 nm, Epot= -1.01630e+05 Fmax= 5.11767e+03, atom= 332\n",
      "Step=  387, Dmax= 5.8e-03 nm, Epot= -1.01648e+05 Fmax= 3.83234e+03, atom= 332\n",
      "Step=  388, Dmax= 7.0e-03 nm, Epot= -1.01650e+05 Fmax= 7.03936e+03, atom= 332\n",
      "Step=  389, Dmax= 8.4e-03 nm, Epot= -1.01670e+05 Fmax= 5.86409e+03, atom= 332\n",
      "Step=  391, Dmax= 5.1e-03 nm, Epot= -1.01694e+05 Fmax= 1.94473e+03, atom= 332\n",
      "Step=  392, Dmax= 6.1e-03 nm, Epot= -1.01702e+05 Fmax= 7.25573e+03, atom= 332\n",
      "Step=  393, Dmax= 7.3e-03 nm, Epot= -1.01731e+05 Fmax= 3.98129e+03, atom= 332\n",
      "Step=  395, Dmax= 4.4e-03 nm, Epot= -1.01747e+05 Fmax= 2.68956e+03, atom= 332\n",
      "Step=  396, Dmax= 5.2e-03 nm, Epot= -1.01756e+05 Fmax= 5.44977e+03, atom= 332\n",
      "Step=  397, Dmax= 6.3e-03 nm, Epot= -1.01773e+05 Fmax= 4.17377e+03, atom= 332\n",
      "Step=  399, Dmax= 3.8e-03 nm, Epot= -1.01790e+05 Fmax= 1.66664e+03, atom= 332\n",
      "Step=  400, Dmax= 4.5e-03 nm, Epot= -1.01806e+05 Fmax= 5.18671e+03, atom= 332\n",
      "Step=  401, Dmax= 5.4e-03 nm, Epot= -1.01825e+05 Fmax= 3.21386e+03, atom= 332\n",
      "Step=  402, Dmax= 6.5e-03 nm, Epot= -1.01828e+05 Fmax= 6.73142e+03, atom= 332\n",
      "Step=  403, Dmax= 7.8e-03 nm, Epot= -1.01848e+05 Fmax= 5.34822e+03, atom= 332\n",
      "Step=  405, Dmax= 4.7e-03 nm, Epot= -1.01869e+05 Fmax= 1.83460e+03, atom= 332\n",
      "Step=  406, Dmax= 5.6e-03 nm, Epot= -1.01878e+05 Fmax= 6.95191e+03, atom= 332\n",
      "Step=  407, Dmax= 6.8e-03 nm, Epot= -1.01906e+05 Fmax= 3.40428e+03, atom= 332\n",
      "Step=  409, Dmax= 4.1e-03 nm, Epot= -1.01920e+05 Fmax= 2.88111e+03, atom= 332\n",
      "Step=  410, Dmax= 4.9e-03 nm, Epot= -1.01930e+05 Fmax= 4.53671e+03, atom= 332\n",
      "Step=  411, Dmax= 5.8e-03 nm, Epot= -1.01943e+05 Fmax= 4.49751e+03, atom= 332\n",
      "Step=  412, Dmax= 7.0e-03 nm, Epot= -1.01949e+05 Fmax= 6.21777e+03, atom= 332\n",
      "Step=  413, Dmax= 8.4e-03 nm, Epot= -1.01959e+05 Fmax= 6.76796e+03, atom= 332\n",
      "Step=  415, Dmax= 5.0e-03 nm, Epot= -1.01989e+05 Fmax= 9.61818e+02, atom= 332\n",
      "\n",
      "writing lowest energy coordinates.\n",
      "\n",
      "Steepest Descents converged to Fmax < 1000 in 416 steps\n",
      "Potential Energy  = -1.0198882e+05\n",
      "Maximum force     =  9.6181775e+02 on atom 332\n",
      "Norm of force     =  4.1377796e+01\n",
      "\n",
      "GROMACS reminds you: \"I think it's very important to get more women into computing. My slogan is: Computing is too important to be left to men.\" (Karen Jones)\n",
      "\n"
     ]
    }
   ],
   "source": [
    "# Energy minimization:\n",
    "!gmx grompp -f data/mdp/em.mdp -p 00-systemsetup/penetratin.top -c 00-systemsetup/box_ions.gro -o 01-minimization/em.tpr  > /dev/null 2>&1\n",
    "!gmx mdrun -s 01-minimization/em.tpr -deffnm 01-minimization/em -v"
   ]
  },
  {
   "cell_type": "markdown",
   "metadata": {
    "slideshow": {
     "slide_type": "slide"
    }
   },
   "source": [
    "### Position-restrained NVT equilibration"
   ]
  },
  {
   "cell_type": "code",
   "execution_count": 58,
   "metadata": {
    "slideshow": {
     "slide_type": "subslide"
    }
   },
   "outputs": [
    {
     "name": "stdout",
     "output_type": "stream",
     "text": [
      "                      :-) GROMACS - gmx mdrun, 2021.3 (-:\n",
      "\n",
      "                            GROMACS is written by:\n",
      "     Andrey Alekseenko              Emile Apol              Rossen Apostolov     \n",
      "         Paul Bauer           Herman J.C. Berendsen           Par Bjelkmar       \n",
      "       Christian Blau           Viacheslav Bolnykh             Kevin Boyd        \n",
      "     Aldert van Buuren           Rudi van Drunen             Anton Feenstra      \n",
      "    Gilles Gouaillardet             Alan Gray               Gerrit Groenhof      \n",
      "       Anca Hamuraru            Vincent Hindriksen          M. Eric Irrgang      \n",
      "      Aleksei Iupinov           Christoph Junghans             Joe Jordan        \n",
      "    Dimitrios Karkoulis            Peter Kasson                Jiri Kraus        \n",
      "      Carsten Kutzner              Per Larsson              Justin A. Lemkul     \n",
      "       Viveca Lindahl            Magnus Lundborg             Erik Marklund       \n",
      "        Pascal Merz             Pieter Meulenhoff            Teemu Murtola       \n",
      "        Szilard Pall               Sander Pronk              Roland Schulz       \n",
      "       Michael Shirts            Alexey Shvetsov             Alfons Sijbers      \n",
      "       Peter Tieleman              Jon Vincent              Teemu Virolainen     \n",
      "     Christian Wennberg            Maarten Wolf              Artem Zhmurov       \n",
      "                           and the project leaders:\n",
      "        Mark Abraham, Berk Hess, Erik Lindahl, and David van der Spoel\n",
      "\n",
      "Copyright (c) 1991-2000, University of Groningen, The Netherlands.\n",
      "Copyright (c) 2001-2019, The GROMACS development team at\n",
      "Uppsala University, Stockholm University and\n",
      "the Royal Institute of Technology, Sweden.\n",
      "check out http://www.gromacs.org for more information.\n",
      "\n",
      "GROMACS is free software; you can redistribute it and/or modify it\n",
      "under the terms of the GNU Lesser General Public License\n",
      "as published by the Free Software Foundation; either version 2.1\n",
      "of the License, or (at your option) any later version.\n",
      "\n",
      "GROMACS:      gmx mdrun, version 2021.3\n",
      "Executable:   /opt/gromacs/2021.3_intel_OpenMP_OCL4/bin/gmx\n",
      "Data prefix:  /opt/gromacs/2021.3_intel_OpenMP_OCL4\n",
      "Working dir:  /Users/eric/Documents/GitHub/BiomeccanicaMultiscala/LAB/07-SimulatedAnnealing\n",
      "Command line:\n",
      "  gmx mdrun -s 02-equilibration/posres.tpr -deffnm 02-equilibration/posres -v -nt 12\n",
      "\n",
      "Reading file 02-equilibration/posres.tpr, VERSION 2021.3 (single precision)\n",
      "Changing nstlist from 20 to 100, rlist from 1.01 to 1.141\n",
      "\n",
      "On host pcdimeaszizzi.polito.it 2 GPUs selected for this run.\n",
      "Mapping of GPU IDs to the 2 GPU tasks in the 2 ranks on this node:\n",
      "  PP:0,PP:1\n",
      "PP tasks will do (non-perturbed) short-ranged interactions on the GPU\n",
      "PP task will update and constrain coordinates on the CPU\n",
      "Using 2 MPI threads\n",
      "Using 6 OpenMP threads per tMPI thread\n",
      "\n",
      "\n",
      "NOTE: DLB will not turn on during the first phase of PME tuning\n",
      "starting mdrun 'Penetratin-Silica Umbrella simulation in water'\n",
      "20000 steps,     20.0 ps.\n",
      "step 2000: timed with pme grid 40 40 40, coulomb cutoff 1.000: 604.0 M-cycles F 15% imb F 14% imb F 15% imb F 15% imb F 12% imb F 16% imb F 14% imb F 15% imb F 15% imb F 13% imb F  6% imb F 10% imb F 14% imb F  5% imb F  7% \n",
      "step 2200: timed with pme grid 32 32 32, coulomb cutoff 1.192: 698.1 M-cycles\n",
      "step 2400: timed with pme grid 36 36 36, coulomb cutoff 1.059: 654.3 M-cycles\n",
      "step 2600: timed with pme grid 40 40 40, coulomb cutoff 1.000: 581.8 M-cycles\n",
      "step 2800: timed with pme grid 40 40 40, coulomb cutoff 1.000: 590.7 M-cycles\n",
      "              optimal pme grid 40 40 40, coulomb cutoff 1.000\n",
      "\n",
      "NOTE: DLB can now turn on, when beneficial\n",
      "step 19900, remaining wall clock time:     0 s          mb F  7% vol 0.95  imb F 15% vol 0.98  imb F 12% vol 0.92  imb F 10% vol 0.87  imb F 11% vol 0.81  imb F 12% vol 0.76  imb F  5% vol 0.73  imb F  1% vol 0.73  imb F  4% vol 0.71  imb F  5% vol 0.68  imb F  5% vol 0.66  imb F  6% vol 0.63  imb F  5% vol 0.61! imb F  3% vol 0.61! imb F  5% vol 0.61! imb F  5% vol 0.61! imb F  5% vol 0.61! imb F  3% vol 0.61! imb F  5% vol 0.61! imb F  4% vol 0.61! imb F  4% vol 0.61! imb F  4% vol 0.61! imb F  5% vol 0.61! imb F  3% vol 0.61! imb F  4% vol 0.61! imb F  4% vol 0.61! imb F  5% vol 0.61! imb F  4% vol 0.61! imb F  5% vol 0.61! imb F  4% vol 0.61! imb F  5% vol 0.61! imb F  4% vol 0.61! imb F  5% vol 0.61! imb F  5% vol 0.61! imb F  4% vol 0.61! imb F  4% vol 0.61! imb F  4% vol 0.61! imb F  3% vol 0.61! imb F  3% vol 0.61! imb F  6% vol 0.61! imb F  5% vol 0.61! imb F  4% vol 0.61! imb F  4% vol 0.61! imb F  1% vol 0.61! imb F  4% vol 0.61! imb F  3% vol 0.61! imb F  4% vol 0.61! imb F  3% vol 0.61! imb F  3% vol 0.61! imb F  1% vol 0.61! imb F  1% vol 0.61! imb F  1% vol 0.61! imb F  3% vol 0.61! imb F  4% vol 0.61! imb F  4% vol 0.61! imb F  5% vol 0.61! imb F  4% vol 0.61! imb F  4% vol 0.61! imb F  5% vol 0.61! imb F  3% vol 0.61! imb F  3% vol 0.61! imb F  2% vol 0.61! imb F  4% vol 0.61! imb F  2% vol 0.61! imb F  3% vol 0.61! imb F  1% vol 0.61! imb F  4% vol 0.61! imb F  3% vol 0.61! imb F  5% vol 0.61! imb F  3% vol 0.61! imb F  3% vol 0.61! imb F  5% vol 0.61! imb F  5% vol 0.61! imb F  5% vol 0.61! imb F  5% vol 0.61! imb F  4% vol 0.61! imb F  5% vol 0.61! imb F  5% vol 0.61! imb F  5% vol 0.61! imb F  5% vol 0.61! imb F  4% vol 0.61! imb F  5% vol 0.61! imb F  4% vol 0.61! imb F  5% vol 0.61! imb F  5% vol 0.61! imb F  4% vol 0.61! imb F  4% vol 0.61! imb F  5% vol 0.61! imb F  5% vol 0.61! imb F  5% vol 0.61! imb F  4% vol 0.61! imb F  5% vol 0.61! imb F  4% vol 0.61! imb F  5% vol 0.61! imb F  4% vol 0.61! imb F  5% vol 0.61! imb F  4% vol 0.61! imb F  5% vol 0.61! imb F  5% vol 0.61! imb F  5% vol 0.61! imb F  5% vol 0.61! imb F  4% vol 0.61! imb F  4% vol 0.61! imb F  4% vol 0.61! imb F  4% vol 0.61! imb F  4% vol 0.61! imb F  4% vol 0.61! imb F  4% vol 0.61! imb F  3% vol 0.61! imb F  5% vol 0.61! imb F  2% vol 0.61! imb F  3% vol 0.61! imb F  4% vol 0.61! imb F  3% vol 0.61! imb F  4% vol 0.61! imb F  4% vol 0.61! imb F  4% vol 0.61! imb F  5% vol 0.61! imb F  3% vol 0.61! imb F  3% vol 0.61! imb F  3% vol 0.61! imb F  3% vol 0.61! imb F  4% vol 0.61! imb F  5% vol 0.61! imb F  4% vol 0.61! imb F  4% vol 0.61! imb F  3% vol 0.61! imb F  5% vol 0.61! imb F  3% vol 0.61! imb F  3% vol 0.61! imb F  2% vol 0.61! imb F  3% vol 0.61! imb F  4% vol 0.61! imb F  3% vol 0.61! imb F  4% vol 0.61! imb F  4% vol 0.61! imb F  5% vol 0.61! imb F  5% vol 0.61! imb F  5% vol 0.61! imb F  4% vol 0.61! imb F  4% vol 0.61! imb F  5% vol 0.61! imb F  4% vol 0.61! imb F  4% vol 0.61! imb F  2% vol 0.61! imb F  4% vol 0.61! imb F  4% vol 0.61! imb F  4% vol 0.61! imb F  5% vol 0.61! imb F  6% vol 0.61! imb F  4% vol 0.61! imb F  4% vol 0.61! imb F  4% vol 0.61! imb F  5% vol 0.61! imb F  4% vol 0.61! imb F  4% vol 0.61! imb F  5% vol 0.61! imb F  5% vol 0.61! imb F  4% vol 0.61! imb F  4% vol 0.61! imb F  4% vol 0.61! imb F  4% vol 0.61! imb F  4% vol 0.61! imb F  4% vol 0.61! imb F  5% vol 0.61! imb F  3% vol 0.61! imb F  5% vol 0.61! imb F  5% vol 0.61! imb F  4% vol 0.61! imb F  5% vol 0.61! imb F  4% \n",
      "Writing final coordinates.\n",
      "step 20000, remaining wall clock time:     0 s          \n",
      "\n",
      "Dynamic load balancing report:\n",
      " DLB was turned on during the run due to measured imbalance.\n",
      " Average load imbalance: 6.4%.\n",
      " The balanceable part of the MD step is 59%, load imbalance is computed from this.\n",
      " Part of the total run time spent waiting due to load imbalance: 3.8%.\n",
      " Steps where the load balancing was limited by -rdd, -rcon and/or -dds: X 0 %\n",
      "\n",
      "\n",
      "NOTE: The CPU has >25% more load than the GPU. This imbalance wastes\n",
      "      GPU resources. Maybe the domain decomposition limits the PME tuning.\n",
      "      In that case, try setting the DD grid manually (-dd) or lowering -dds.\n",
      "\n",
      "               Core t (s)   Wall t (s)        (%)\n",
      "       Time:      580.563       48.381     1200.0\n",
      "                 (ns/day)    (hour/ns)\n",
      "Performance:       35.718        0.672\n",
      "\n",
      "GROMACS reminds you: \"Marie, you're looking more radiant every day!\" (Pierre Curie)\n",
      "\n"
     ]
    }
   ],
   "source": [
    "# Initial equilibration: (CAN BE SLOW ON COLB! SEE BELOW!)\n",
    "!gmx grompp -f data/mdp/posre.mdp -c 01-minimization/em.gro -r 01-minimization/em.gro -p 00-systemsetup/penetratin.top -o 02-equilibration/posres.tpr  -maxwarn 2 > 02-equilibration/grompp.log 2>&1\n",
    "!gmx mdrun -s 02-equilibration/posres.tpr -deffnm 02-equilibration/posres -v  > 02-equilibration/mdrun.log 2>&1"
   ]
  },
  {
   "cell_type": "code",
   "execution_count": 11,
   "metadata": {
    "slideshow": {
     "slide_type": "subslide"
    }
   },
   "outputs": [
    {
     "name": "stdout",
     "output_type": "stream",
     "text": [
      "zsh:1: no matches found: https://drive.google.com/drive/folders/1ymVZ2dV2-L3RPu9TNkAVKMVux0xByfip?usp=share_link\r\n"
     ]
    }
   ],
   "source": [
    "# NOTE: The cell above (equilibration) might take a substantial amount of time on COLAB. To speed things up for the lesson, you can instead retrieve the \n",
    "# pre-computed trajectory from the repository using the following command:\n",
    "!gdown --folder https://drive.google.com/drive/folders/1ymVZ2dV2-L3RPu9TNkAVKMVux0xByfip?usp=share_link > /dev/null 2&>1"
   ]
  },
  {
   "cell_type": "markdown",
   "metadata": {
    "slideshow": {
     "slide_type": "slide"
    }
   },
   "source": [
    "### Production plain MD simulation"
   ]
  },
  {
   "cell_type": "code",
   "execution_count": 61,
   "metadata": {
    "slideshow": {
     "slide_type": "subslide"
    }
   },
   "outputs": [],
   "source": [
    "# Quick production MD run (CAN BE SLOW ON COLB! SEE BELOW!):\n",
    "!gmx grompp -f data/mdp/md.mdp -c  02-equilibration/posres.gro -p 00-systemsetup/penetratin.top -o 03-production/md.tpr >03-production/grompp.log 2>&1 \n",
    "!gmx mdrun -deffnm 03-production/md -s 03-production/md.tpr -v > 03-production/mdrun.log 2>&1\n",
    "# Fix PBCs:\n",
    "! echo -e \"0 \\n\" | gmx trjconv -s 03-production/md.tpr -f 03-production/md.xtc -pbc mol -ur compact -o 03-production/noPBC.xtc  > /dev/null 2&>1"
   ]
  },
  {
   "cell_type": "code",
   "execution_count": 13,
   "metadata": {
    "slideshow": {
     "slide_type": "subslide"
    }
   },
   "outputs": [
    {
     "name": "stdout",
     "output_type": "stream",
     "text": [
      "zsh:1: no matches found: https://drive.google.com/drive/folders/1LCB9BbwfldN6JzzVKF7d6s_Ysr1BkvgH?usp=share_link\r\n"
     ]
    }
   ],
   "source": [
    "# NOTE: The cell above (md simulation) might take a substantial amount of time on COLAB. To speed things up for the lesson, you can instead retrieve the \n",
    "# pre-computed trajectory from the repository using the following command:\n",
    "!gdown --folder https://drive.google.com/drive/folders/1LCB9BbwfldN6JzzVKF7d6s_Ysr1BkvgH?usp=share_link &> /dev/null"
   ]
  },
  {
   "cell_type": "code",
   "execution_count": 14,
   "metadata": {
    "slideshow": {
     "slide_type": "subslide"
    }
   },
   "outputs": [
    {
     "data": {
      "application/vnd.jupyter.widget-view+json": {
       "model_id": "d827d4862cfe42fbacb716a483c92f8c",
       "version_major": 2,
       "version_minor": 0
      },
      "text/plain": [
       "NGLWidget(max_frame=1000)"
      ]
     },
     "metadata": {},
     "output_type": "display_data"
    }
   ],
   "source": [
    "# Let's have a final look:\n",
    "import nglview as nv\n",
    "traj_nopbc = nv.SimpletrajTrajectory(\"03-production/noPBC.xtc\", \"03-production/md.gro\")\n",
    "view_nopbc = nv.show_simpletraj(traj_nopbc)\n",
    "view_nopbc.add_representation(\"ball+stick\",selection=\"water\")\n",
    "view_nopbc.center(\"sytem\")\n",
    "view_nopbc.camera = 'orthographic'\n",
    "view_nopbc"
   ]
  },
  {
   "cell_type": "markdown",
   "metadata": {
    "slideshow": {
     "slide_type": "slide"
    }
   },
   "source": [
    "## Setup the Simulated Annealing\n",
    "\n",
    "Now, let's have a look at the parameters we need to set.<br>\n",
    "First, a small but crucial technical note: the annealing is implemented in GROMACS by changing the current reference temperature for each group in the temperature coupling. This means that **the actual relaxation and coupling properties depends on the type of thermostat** you use and how hard you are coupling it. Since we are changing the reference temperature it is important to remember that <u>the system will NOT instantaneously reach this value</u> - you need to allow for the inherent relaxation time in the coupling algorithm too!<br>\n",
    "**If you are changing the annealing reference temperature faster than the temperature relaxation you will probably end up with a crash when the difference becomes too large.**"
   ]
  },
  {
   "cell_type": "markdown",
   "metadata": {
    "slideshow": {
     "slide_type": "subslide"
    }
   },
   "source": [
    "Suppose we want to impose the following annealing protocol over 2 ns of simulation:\n",
    "\n",
    "| Time (ps) | Ref. T (K) |\n",
    "|-----------|------------|\n",
    "| 0         | 303        |\n",
    "| 500       | 303        |\n",
    "| 501       | 500        |\n",
    "| 1000      | 500        |\n",
    "| 1001      | 1100       |\n",
    "| 1500      | 1100       |\n",
    "| 1501      | 303        |\n",
    "| 2000      | 303        |"
   ]
  },
  {
   "cell_type": "markdown",
   "metadata": {
    "slideshow": {
     "slide_type": "subslide"
    }
   },
   "source": [
    "How do we implement this?<br>\n",
    "The annealing protocol is specified as a <u>series of corresponding times and reference temperatures <b>for each group</b></u>, and you can also choose whether you only want a single sequence (after which the temperature will be coupled to the last reference value), or if the annealing should be periodic and restart at the first reference point once the sequence is completed.\n",
    "<div class=\"alert alert-block alert-warning\"> NOTE: you can mix and match both types of annealing and non-annealed groups in your simulation! </div>\n"
   ]
  },
  {
   "cell_type": "markdown",
   "metadata": {},
   "source": [
    "Technically, the reference temperature is a **piecewise linear function**. The actual annealing is performed by dynamically changing the reference temperature used in the thermostat algorithm selected, so remember that the system will usually not instantaneously reach the reference temperature!"
   ]
  },
  {
   "cell_type": "markdown",
   "metadata": {
    "slideshow": {
     "slide_type": "subslide"
    }
   },
   "source": [
    "| MDP Option        | Setting Options | Function                                                                                                                                                                                                                                                                                                                                                             |\n",
    "|-------------------|-----------------|----------------------------------------------------------------------------------------------------------------------------------------------------------------------------------------------------------------------------------------------------------------------------------------------------------------------------------------------------------------------|\n",
    "| Annealing         | no              | No simulated annealing - just couple to reference temperature value.                                                                                                                                                                                                                                                                                                 |\n",
    "|                   | single          | A single sequence of annealing points. If your simulation is longer than the time of the last point, the temperature will be coupled to this constant value after the annealing sequence has reached the last time point.                                                                                                                                            |\n",
    "|                   | periodic        | The annealing will start over at the first reference point once the last reference time is reached. This is repeated until the simulation ends.                                                                                                                                                                                                                      |\n",
    "| annealing-npoints |                 | A list with the number of annealing reference/control points used for each temperature group. Use 0 for groups that are not annealed. The number of entries should equal the number of temperature groups.                                                                                                                                                           |\n",
    "| annealing-time    |                 | List of times at the annealing reference/control points for each group. If you are using periodic annealing, the times will be used modulo the last value,  i.e.  if the values are 0, 5, 10, and 15, the coupling will restart at the 0ps value after 15ps, 30ps, 45ps, etc. The number of entries should equal the sum of the numbers given in  annealing-npoints. |\n",
    "| annealing-temp    |                 | List of temperatures at the annealing reference/control points for each group. The number of entries should equal the sum of the numbers given in  annealing-npoints.                                                                                                                                                                                                |"
   ]
  },
  {
   "cell_type": "markdown",
   "metadata": {
    "slideshow": {
     "slide_type": "slide"
    }
   },
   "source": [
    "## Example\n",
    "Assume we have two temperature groups (water and non-water).\n",
    "Let's set:\n",
    "* the group selections to:                  annealing = single single\n",
    "* the number of points of each group to:    annealing-npoints = 3 3\n",
    "* the times to:                             annealing-time = 0 100 500 0 100 500\n",
    "* the temperatures to:                      annealing-temp = 303 500 303 303 500 303 \n",
    "\n",
    "The first group will be coupled to 303K at 0ps, and the reference temperature will increase linearly to reach 500K at 100ps, and then linearly between 500K and 303K again from 100ps to 500ps. **After this it stays constant**, at 303K. The second group is coupled in exactly the same way (notice that the values are repeated in the mdp sequences).<br>\n",
    "REMEMBER: Check the summary printed by gmx grompp if you are unsure!"
   ]
  },
  {
   "cell_type": "markdown",
   "metadata": {
    "slideshow": {
     "slide_type": "slide"
    }
   },
   "source": [
    "## Exercise:\n",
    "Using the example above and the table of reference temperature values to be reached, edit the mdp file \"data/mdp/md_annealing.mdp\" to setup such a simulation."
   ]
  },
  {
   "cell_type": "markdown",
   "metadata": {
    "slideshow": {
     "slide_type": "slide"
    }
   },
   "source": [
    "## Running the SA"
   ]
  },
  {
   "cell_type": "code",
   "execution_count": 1,
   "metadata": {
    "slideshow": {
     "slide_type": "subslide"
    }
   },
   "outputs": [],
   "source": [
    "# We will use the previous equilibrated MD structure as a starting point (we equilibrated it at 303K) (WARNING: SLOW ON COLAB!)!\n",
    "!gmx grompp -f data/mdp/md_annealing.mdp -c  03-production/md.gro -p 00-systemsetup/penetratin.top -o 04-annealing/annealing.tpr >04-annealing/grompp.log 2>&1 \n",
    "!gmx mdrun -deffnm 04-annealing/annealing -s 04-annealing/annealing.tpr -v -nt 12 > 04-annealing/mdrun.log 2>&1\n",
    "# Fix PBCs:\n",
    "! echo -e \"0 \\n\" | gmx trjconv -s 04-annealing/annealing.tpr -f 04-annealing/annealing.xtc -pbc mol -ur compact -o 04-annealing/noPBC.xtc  > /dev/null 2>&1\n",
    "# NOTICE HOW WE ARE USING STDOUT AND STDERR REDIRECTION TO WRITE SOME LOG FILES FOR INSPECTION!"
   ]
  },
  {
   "cell_type": "code",
   "execution_count": null,
   "metadata": {
    "slideshow": {
     "slide_type": "subslide"
    }
   },
   "outputs": [],
   "source": [
    "# NOTE: The cell above (SA simulation) might take a substantial amount of time on COLAB. To speed things up for the lesson, you can instead retrieve the \n",
    "# pre-computed trajectory from the repository using the following command:\n",
    "!gdown --folder https://drive.google.com/drive/folders/1x3dGPJKEnvktCk8GvzEHVnvUPI1Snubo?usp=share_link &> /dev/null"
   ]
  },
  {
   "cell_type": "markdown",
   "metadata": {
    "slideshow": {
     "slide_type": "slide"
    }
   },
   "source": [
    "# Data Analysis and Comments"
   ]
  },
  {
   "cell_type": "markdown",
   "metadata": {
    "slideshow": {
     "slide_type": "subslide"
    }
   },
   "source": [
    "We now have the output simulation files for our SA simulation.<br>\n",
    "As a first thing, let's fix the PBCs and have a look at the simulation (you can use VMD or the NGLView snippet below)"
   ]
  },
  {
   "cell_type": "code",
   "execution_count": 15,
   "metadata": {},
   "outputs": [
    {
     "data": {
      "application/vnd.jupyter.widget-view+json": {
       "model_id": "4d34aee148cd43b593a478f5c45985bf",
       "version_major": 2,
       "version_minor": 0
      },
      "text/plain": [
       "NGLWidget(max_frame=1000)"
      ]
     },
     "metadata": {},
     "output_type": "display_data"
    }
   ],
   "source": [
    "# Let's have a final look:\n",
    "import nglview as nv\n",
    "traj_nopbc = nv.SimpletrajTrajectory(\"04-annealing/noPBC.xtc\", \"04-annealing/annealing.gro\")\n",
    "view_nopbc = nv.show_simpletraj(traj_nopbc)\n",
    "view_nopbc.add_representation(\"none\",selection=\"water\")\n",
    "view_nopbc.center(\"sytem\")\n",
    "view_nopbc.camera = 'orthographic'\n",
    "view_nopbc"
   ]
  },
  {
   "cell_type": "markdown",
   "metadata": {
    "slideshow": {
     "slide_type": "subslide"
    }
   },
   "source": [
    "The trajectory looks ok, but it's a bit hard to get a grasp of what's going on by just looking at it.<br>\n",
    "So as a first thing, let's check that the time evolution of the system temperature actually follows what we wanted to impose:"
   ]
  },
  {
   "cell_type": "code",
   "execution_count": 16,
   "metadata": {},
   "outputs": [
    {
     "data": {
      "image/png": "[encoded data removed]",
      "text/plain": [
       "<Figure size 432x288 with 1 Axes>"
      ]
     },
     "metadata": {
      "needs_background": "light"
     },
     "output_type": "display_data"
    }
   ],
   "source": [
    "! echo -e \"Temperature \\n 0\\n\" | gmx energy -f 04-annealing/annealing.edr -o 04-annealing/temperatures.xvg > /dev/null 2>&1\n",
    "# Some python magic for plotting:\n",
    "import matplotlib.pyplot as plt\n",
    "import numpy as np\n",
    "data = np.loadtxt(\"04-annealing/temperatures.xvg\",skiprows=24)\n",
    "plt.plot(data[:,0],data[:,1])\n",
    "plt.xlabel(\"Time (ps)\",size=14)\n",
    "plt.ylabel(\"Temperature (K)\",size=14)\n",
    "plt.title(\"Temperature as a function of Time\",size=14)\n",
    "plt.show() "
   ]
  },
  {
   "cell_type": "markdown",
   "metadata": {
    "slideshow": {
     "slide_type": "subslide"
    }
   },
   "source": [
    "The temperatures look ok, but what about the reason we used SA to begin with? Remember, the goal was to somehow use thermal (i.e. kinetic) energy to get out of local energy minima.<br>\n",
    "In practice this might mean that we sampled a wider range of protein conformations during our simulation (if compared to plain MD).<br>\n",
    "One technique that might be useful to assess the conformational variability is **clustering**."
   ]
  },
  {
   "cell_type": "markdown",
   "metadata": {
    "slideshow": {
     "slide_type": "slide"
    }
   },
   "source": [
    "## Clustering"
   ]
  },
  {
   "cell_type": "markdown",
   "metadata": {
    "slideshow": {
     "slide_type": "subslide"
    }
   },
   "source": [
    "A very quick recap on clustering:<br>\n",
    "In very simple terms, think of clustering as a way to group similar elements into collections (named \"clusters\") which are assembled in such a way that elements within clusters (\"members\") are highly similar, and elements from two different clusters are increasingly dissimilar.<br>\n",
    "This means that to perform clustering you first of all need to define what is similar and what is not, and be able to quantify this. This is what's called a **similarity metric**.<br>\n",
    "You can think of many different ways to define similarity between two elements based on what you are trying to cluster:\n",
    "* the euclidean distance between a set of points\n",
    "* the plain difference between two numerical variables (perhaps it might be useful to take the abs. value or the root of the square...)\n",
    "* the tanimoto coefficient between sets of molecules\n",
    "* etc..."
   ]
  },
  {
   "cell_type": "markdown",
   "metadata": {
    "slideshow": {
     "slide_type": "subslide"
    }
   },
   "source": [
    "## Question\n",
    "In the molecular modelling world, can you think of a metric that defines the \"similarity\" between two molecular structues?"
   ]
  },
  {
   "cell_type": "markdown",
   "metadata": {
    "slideshow": {
     "slide_type": "subslide"
    }
   },
   "source": [
    "You guessed it, the **RMSD**<br>\n",
    "Let's take a look at our gif again:\n",
    "<img src=\"imgs/SupplementaryAnimationRMSD.gif\" width=\"1500\" align=\"center\">"
   ]
  },
  {
   "cell_type": "markdown",
   "metadata": {
    "slideshow": {
     "slide_type": "subslide"
    }
   },
   "source": [
    "As you can see, the RMSD can be very useful to define how \"similar\" two snapshots (e.g. two frames) of a given molecular structure are.<br>\n",
    "So if we want to cluster a bunch of snapshots, a naive but effective approach might be something like:\n",
    "* Take the first snapshot and make it the only member of the first cluster (initialization)\n",
    "* Take the second snapshot, overlap it with the first one (as in the gif above), calculate the RMSD between the two:\n",
    "  * if this value is below a given threshold (e.g., 1 Angstrom), then add the second snapshot to the cluster (which until now only contained the first snapshot)\n",
    "  * if this value is above the threshold, then this second snapshot becomes a new cluster (with just itself in it, for now)\n",
    "* Suppose we took the first option, now we have one single cluster with two snapshots in it\n",
    "* Now we look at the third snapshot, what RMSD do we calculate? There are different options:\n",
    "  * RMSD between this third snapshot and both members of the cluster (= the first two snapshots), then we average the two values\n",
    "  * We first calculate an \"average structure\" of the two members of the cluster, and then calculate the RMSD between the current (third) snapshot and this average structure\n",
    "  * ...any more ideas?\n",
    "* ...and then we keep going, iteratively, as above, until we processed all the snapshots"
   ]
  },
  {
   "cell_type": "markdown",
   "metadata": {
    "slideshow": {
     "slide_type": "subslide"
    }
   },
   "source": [
    "As you might guess, the more the snapshots remain similar throughout the simulation (=<u><b>conformational stability</u></b>), the less clusters we will end up with, because all the frames will end up in the same cluster(s)"
   ]
  },
  {
   "cell_type": "markdown",
   "metadata": {
    "slideshow": {
     "slide_type": "slide"
    }
   },
   "source": [
    "## Question\n",
    "Let's go back to our SA simulation. Remember, the goal was to play around with the thermal (kinetic) energy to be able to overcome energy barriers keeping our protein stuck in a local minimum and explore a wider portion of the phase space.<br>\n",
    "If you were to compare the outcomes of a clustering analysis of **the same system** in two cases:\n",
    "* Plain MD\n",
    "* Simulated Annealing \n",
    "\n",
    "what differences do you expect?"
   ]
  },
  {
   "cell_type": "markdown",
   "metadata": {
    "slideshow": {
     "slide_type": "subslide"
    }
   },
   "source": [
    "Let's do this analysis on our simulations and check out the results:"
   ]
  },
  {
   "cell_type": "code",
   "execution_count": null,
   "metadata": {},
   "outputs": [],
   "source": [
    "# IF YOU DOWNLOADED PRE-CALCULATED RESULTS, EXECUTE THIS CELL (FOR GROMACS VERSION COMPATIBILITY):\n",
    "!gmx grompp -f data/mdp/md.mdp -c  02-equilibration/posres.gro -p 00-systemsetup/penetratin.top -o 03-production/md.tpr >03-production/grompp18.log 2>&1 \n",
    "!gmx grompp -f data/mdp/md_annealing.mdp -c  03-production/md.gro -p 00-systemsetup/penetratin.top -o 04-annealing/annealing.tpr >04-annealing/grompp.log 2>&1 "
   ]
  },
  {
   "cell_type": "code",
   "execution_count": 17,
   "metadata": {
    "slideshow": {
     "slide_type": "subslide"
    }
   },
   "outputs": [
    {
     "name": "stdout",
     "output_type": "stream",
     "text": [
      "                     :-) GROMACS - gmx cluster, 2021.3 (-:\r\n",
      "\r\n",
      "                            GROMACS is written by:\r\n",
      "     Andrey Alekseenko              Emile Apol              Rossen Apostolov     \r\n",
      "         Paul Bauer           Herman J.C. Berendsen           Par Bjelkmar       \r\n",
      "       Christian Blau           Viacheslav Bolnykh             Kevin Boyd        \r\n",
      "     Aldert van Buuren           Rudi van Drunen             Anton Feenstra      \r\n",
      "    Gilles Gouaillardet             Alan Gray               Gerrit Groenhof      \r\n",
      "       Anca Hamuraru            Vincent Hindriksen          M. Eric Irrgang      \r\n",
      "      Aleksei Iupinov           Christoph Junghans             Joe Jordan        \r\n",
      "    Dimitrios Karkoulis            Peter Kasson                Jiri Kraus        \r\n",
      "      Carsten Kutzner              Per Larsson              Justin A. Lemkul     \r\n",
      "       Viveca Lindahl            Magnus Lundborg             Erik Marklund       \r\n",
      "        Pascal Merz             Pieter Meulenhoff            Teemu Murtola       \r\n",
      "        Szilard Pall               Sander Pronk              Roland Schulz       \r\n",
      "       Michael Shirts            Alexey Shvetsov             Alfons Sijbers      \r\n",
      "       Peter Tieleman              Jon Vincent              Teemu Virolainen     \r\n",
      "     Christian Wennberg            Maarten Wolf              Artem Zhmurov       \r\n",
      "                           and the project leaders:\r\n",
      "        Mark Abraham, Berk Hess, Erik Lindahl, and David van der Spoel\r\n",
      "\r\n",
      "Copyright (c) 1991-2000, University of Groningen, The Netherlands.\r\n",
      "Copyright (c) 2001-2019, The GROMACS development team at\r\n",
      "Uppsala University, Stockholm University and\r\n",
      "the Royal Institute of Technology, Sweden.\r\n",
      "check out http://www.gromacs.org for more information.\r\n",
      "\r\n",
      "GROMACS is free software; you can redistribute it and/or modify it\r\n",
      "under the terms of the GNU Lesser General Public License\r\n",
      "as published by the Free Software Foundation; either version 2.1\r\n",
      "of the License, or (at your option) any later version.\r\n",
      "\r\n",
      "GROMACS:      gmx cluster, version 2021.3\r\n",
      "Executable:   /opt/gromacs/2021.3_intel_OpenMP_OCL4/bin/gmx\r\n",
      "Data prefix:  /opt/gromacs/2021.3_intel_OpenMP_OCL4\r\n",
      "Working dir:  /Users/eric/Documents/GitHub/BiomeccanicaMultiscala/LAB/07-SimulatedAnnealing\r\n",
      "Command line:\r\n",
      "  gmx cluster -h\r\n",
      "\r\n",
      "SYNOPSIS\r\n",
      "\r\n",
      "gmx cluster [-f [<.xtc/.trr/...>]] [-s [<.tpr/.gro/...>]] [-n [<.ndx>]]\r\n",
      "            [-dm [<.xpm>]] [-om [<.xpm>]] [-o [<.xpm>]] [-g [<.log>]]\r\n",
      "            [-dist [<.xvg>]] [-ev [<.xvg>]] [-conv [<.xvg>]] [-sz [<.xvg>]]\r\n",
      "            [-tr [<.xpm>]] [-ntr [<.xvg>]] [-clid [<.xvg>]]\r\n",
      "            [-cl [<.xtc/.trr/...>]] [-clndx [<.ndx>]] [-b <time>] [-e <time>]\r\n",
      "            [-dt <time>] [-tu <enum>] [-[no]w] [-xvg <enum>] [-[no]dista]\r\n",
      "            [-nlevels <int>] [-cutoff <real>] [-[no]fit] [-max <real>]\r\n",
      "            [-skip <int>] [-[no]av] [-wcl <int>] [-nst <int>]\r\n",
      "            [-rmsmin <real>] [-method <enum>] [-minstruct <int>]\r\n",
      "            [-[no]binary] [-M <int>] [-P <int>] [-seed <int>] [-niter <int>]\r\n",
      "            [-nrandom <int>] [-kT <real>] [-[no]pbc]\r\n",
      "\r\n",
      "DESCRIPTION\r\n",
      "\r\n",
      "gmx cluster can cluster structures using several different methods. Distances\r\n",
      "between structures can be determined from a trajectory or read from an .xpm\r\n",
      "matrix file with the -dm option. RMS deviation after fitting or RMS deviation\r\n",
      "of atom-pair distances can be used to define the distance between structures.\r\n",
      "\r\n",
      "single linkage: add a structure to a cluster when its distance to any element\r\n",
      "of the cluster is less than cutoff.\r\n",
      "\r\n",
      "Jarvis Patrick: add a structure to a cluster when this structure and a\r\n",
      "structure in the cluster have each other as neighbors and they have a least P\r\n",
      "neighbors in common. The neighbors of a structure are the M closest structures\r\n",
      "or all structures within cutoff.\r\n",
      "\r\n",
      "Monte Carlo: reorder the RMSD matrix using Monte Carlo such that the order of\r\n",
      "the frames is using the smallest possible increments. With this it is possible\r\n",
      "to make a smooth animation going from one structure to another with the\r\n",
      "largest possible (e.g.) RMSD between them, however the intermediate steps\r\n",
      "should be as small as possible. Applications could be to visualize a potential\r\n",
      "of mean force ensemble of simulations or a pulling simulation. Obviously the\r\n",
      "user has to prepare the trajectory well (e.g. by not superimposing frames).\r\n",
      "The final result can be inspect visually by looking at the matrix .xpm file,\r\n",
      "which should vary smoothly from bottom to top.\r\n",
      "\r\n",
      "diagonalization: diagonalize the RMSD matrix.\r\n",
      "\r\n",
      "gromos: use algorithm as described in Daura et al. (Angew. Chem. Int. Ed.\r\n",
      "1999, 38, pp 236-240). Count number of neighbors using cut-off, take structure\r\n",
      "with largest number of neighbors with all its neighbors as cluster and\r\n",
      "eliminate it from the pool of clusters. Repeat for remaining structures in\r\n",
      "pool.\r\n",
      "\r\n",
      "When the clustering algorithm assigns each structure to exactly one cluster\r\n",
      "(single linkage, Jarvis Patrick and gromos) and a trajectory file is supplied,\r\n",
      "the structure with the smallest average distance to the others or the average\r\n",
      "structure or all structures for each cluster will be written to a trajectory\r\n",
      "file. When writing all structures, separate numbered files are made for each\r\n",
      "cluster.\r\n",
      "\r\n",
      "Two output files are always written:\r\n",
      "\r\n",
      " * -o writes the RMSD values in the upper left half of the matrix and a\r\n",
      "   graphical depiction of the clusters in the lower right half When -minstruct\r\n",
      "   = 1 the graphical depiction is black when two structures are in the same\r\n",
      "   cluster. When -minstruct > 1 different colors will be used for each\r\n",
      "   cluster.\r\n",
      " * -g writes information on the options used and a detailed list of all\r\n",
      "   clusters and their members.\r\n",
      "\r\n",
      "Additionally, a number of optional output files can be written:\r\n",
      "\r\n",
      " * -dist writes the RMSD distribution.\r\n",
      " * -ev writes the eigenvectors of the RMSD matrix diagonalization.\r\n",
      " * -sz writes the cluster sizes.\r\n",
      " * -tr writes a matrix of the number transitions between cluster pairs.\r\n",
      " * -ntr writes the total number of transitions to or from each cluster.\r\n",
      " * -clid writes the cluster number as a function of time.\r\n",
      " * -clndx writes the frame numbers corresponding to the clusters to the\r\n",
      "   specified index file to be read into trjconv.\r\n",
      " * -cl writes average (with option -av) or central structure of each cluster\r\n",
      "   or writes numbered files with cluster members for a selected set of\r\n",
      "   clusters (with option -wcl, depends on -nst and -rmsmin). The center of a\r\n",
      "   cluster is the structure with the smallest average RMSD from all other\r\n",
      "   structures of the cluster.\r\n",
      "\r\n",
      "OPTIONS\r\n",
      "\r\n",
      "Options to specify input files:\r\n",
      "\r\n",
      " -f      [<.xtc/.trr/...>]  (traj.xtc)       (Opt.)\r\n",
      "           Trajectory: xtc trr cpt gro g96 pdb tng\r\n",
      " -s      [<.tpr/.gro/...>]  (topol.tpr)\r\n",
      "           Structure+mass(db): tpr gro g96 pdb brk ent\r\n",
      " -n      [<.ndx>]           (index.ndx)      (Opt.)\r\n",
      "           Index file\r\n",
      " -dm     [<.xpm>]           (rmsd.xpm)       (Opt.)\r\n",
      "           X PixMap compatible matrix file\r\n",
      "\r\n",
      "Options to specify output files:\r\n",
      "\r\n",
      " -om     [<.xpm>]           (rmsd-raw.xpm)\r\n",
      "           X PixMap compatible matrix file\r\n",
      " -o      [<.xpm>]           (rmsd-clust.xpm)\r\n",
      "           X PixMap compatible matrix file\r\n",
      " -g      [<.log>]           (cluster.log)\r\n",
      "           Log file\r\n",
      " -dist   [<.xvg>]           (rmsd-dist.xvg)  (Opt.)\r\n",
      "           xvgr/xmgr file\r\n",
      " -ev     [<.xvg>]           (rmsd-eig.xvg)   (Opt.)\r\n",
      "           xvgr/xmgr file\r\n",
      " -conv   [<.xvg>]           (mc-conv.xvg)    (Opt.)\r\n",
      "           xvgr/xmgr file\r\n",
      " -sz     [<.xvg>]           (clust-size.xvg) (Opt.)\r\n",
      "           xvgr/xmgr file\r\n",
      " -tr     [<.xpm>]           (clust-trans.xpm) (Opt.)\r\n",
      "           X PixMap compatible matrix file\r\n",
      " -ntr    [<.xvg>]           (clust-trans.xvg) (Opt.)\r\n",
      "           xvgr/xmgr file\r\n",
      " -clid   [<.xvg>]           (clust-id.xvg)   (Opt.)\r\n",
      "           xvgr/xmgr file\r\n",
      " -cl     [<.xtc/.trr/...>]  (clusters.pdb)   (Opt.)\r\n",
      "           Trajectory: xtc trr cpt gro g96 pdb tng\r\n",
      " -clndx  [<.ndx>]           (clusters.ndx)   (Opt.)\r\n",
      "           Index file\r\n",
      "\r\n",
      "Other options:\r\n",
      "\r\n",
      " -b      <time>             (0)\r\n",
      "           Time of first frame to read from trajectory (default unit ps)\r\n",
      " -e      <time>             (0)\r\n",
      "           Time of last frame to read from trajectory (default unit ps)\r\n",
      " -dt     <time>             (0)\r\n",
      "           Only use frame when t MOD dt = first time (default unit ps)\r\n",
      " -tu     <enum>             (ps)\r\n",
      "           Unit for time values: fs, ps, ns, us, ms, s\r\n",
      " -[no]w                     (no)\r\n",
      "           View output .xvg, .xpm, .eps and .pdb files\r\n",
      " -xvg    <enum>             (xmgrace)\r\n",
      "           xvg plot formatting: xmgrace, xmgr, none\r\n",
      " -[no]dista                 (no)\r\n",
      "           Use RMSD of distances instead of RMS deviation\r\n",
      " -nlevels <int>             (40)\r\n",
      "           Discretize RMSD matrix in this number of levels\r\n",
      " -cutoff <real>             (0.1)\r\n",
      "           RMSD cut-off (nm) for two structures to be neighbor\r\n",
      " -[no]fit                   (yes)\r\n",
      "           Use least squares fitting before RMSD calculation\r\n",
      " -max    <real>             (-1)\r\n",
      "           Maximum level in RMSD matrix\r\n",
      " -skip   <int>              (1)\r\n",
      "           Only analyze every nr-th frame\r\n",
      " -[no]av                    (no)\r\n",
      "           Write average instead of middle structure for each cluster\r\n",
      " -wcl    <int>              (0)\r\n",
      "           Write the structures for this number of clusters to numbered files\r\n",
      " -nst    <int>              (1)\r\n",
      "           Only write all structures if more than this number of structures\r\n",
      "           per cluster\r\n",
      " -rmsmin <real>             (0)\r\n",
      "           minimum rms difference with rest of cluster for writing structures\r\n",
      " -method <enum>             (linkage)\r\n",
      "           Method for cluster determination: linkage, jarvis-patrick,\r\n",
      "           monte-carlo, diagonalization, gromos\r\n",
      " -minstruct <int>           (1)\r\n",
      "           Minimum number of structures in cluster for coloring in the .xpm\r\n",
      "           file\r\n",
      " -[no]binary                (no)\r\n",
      "           Treat the RMSD matrix as consisting of 0 and 1, where the cut-off\r\n",
      "           is given by -cutoff\r\n",
      " -M      <int>              (10)\r\n",
      "           Number of nearest neighbors considered for Jarvis-Patrick\r\n",
      "           algorithm, 0 is use cutoff\r\n",
      " -P      <int>              (3)\r\n",
      "           Number of identical nearest neighbors required to form a cluster\r\n",
      " -seed   <int>              (0)\r\n",
      "           Random number seed for Monte Carlo clustering algorithm (0 means\r\n",
      "           generate)\r\n",
      " -niter  <int>              (10000)\r\n",
      "           Number of iterations for MC\r\n",
      " -nrandom <int>             (0)\r\n",
      "           The first iterations for MC may be done complete random, to shuffle\r\n",
      "           the frames\r\n",
      " -kT     <real>             (0.001)\r\n",
      "           Boltzmann weighting factor for Monte Carlo optimization (zero turns\r\n",
      "           off uphill steps)\r\n",
      " -[no]pbc                   (yes)\r\n",
      "           PBC check\r\n",
      "\r\n",
      "GROMACS reminds you: \"Why add prime numbers? Prime numbers are made to be multiplied.\" (Lev Landau)\r\n",
      "\r\n"
     ]
    }
   ],
   "source": [
    "!mkdir -p 05-analysis\n",
    "# We will use the cluster analysis tool from GROMACS:\n",
    "!gmx cluster -h\n"
   ]
  },
  {
   "cell_type": "code",
   "execution_count": 18,
   "metadata": {
    "slideshow": {
     "slide_type": "subslide"
    }
   },
   "outputs": [],
   "source": [
    "# Do the clustering on both the plain MD and the SA simulations:\n",
    "!echo -e \"Protein\\nProtein\\n\" | gmx cluster -s 03-production/md.tpr -f 03-production/md.xtc -cl 05-analysis/clusterMD.pdb -cutoff 0.15 -o 05-analysis/clusterMD.xpm -g 05-analysis/clusterMD.log -dt 1 -dist 05-analysis/rmsd-distMD.xvg > /dev/null 2>&1\n",
    "!echo -e \"Protein\\nProtein\\n\" | gmx cluster -s 04-annealing/annealing.tpr -f 04-annealing/annealing.xtc -cl 05-analysis/clusterSA.pdb -cutoff 0.15 -o 05-analysis/clusterSA.xpm -g 05-analysis/clusterSA.log -dt 1 -dist  05-analysis/rmsd-distSA.xvg > /dev/null 2>&1"
   ]
  },
  {
   "cell_type": "markdown",
   "metadata": {},
   "source": [
    "Here, we clustered both the plain MD trajectory and the simulated annealing trajectory, using the same settings and the same cutoff. First of all, let's have a look at how many clusters were found. This information is written in the log files:"
   ]
  },
  {
   "cell_type": "code",
   "execution_count": 19,
   "metadata": {
    "slideshow": {
     "slide_type": "subslide"
    }
   },
   "outputs": [
    {
     "name": "stdout",
     "output_type": "stream",
     "text": [
      "*** Molecular Dynamics Clustering: ***\n",
      "Using linkage method for clustering\n",
      "Using RMSD cutoff 0.15 nm\n",
      "The RMSD ranges from 0.0608992 to 0.585154 nm\n",
      "Average RMSD is 0.27689\n",
      "Number of structures for matrix 1001\n",
      "Energy of the matrix is 7.26099.\n",
      "\n",
      "Found 1 clusters\n",
      "*** Simulated Annealing Clustering: ***\n",
      "Using linkage method for clustering\n",
      "Using RMSD cutoff 0.15 nm\n",
      "The RMSD ranges from 0.0621711 to 1.08528 nm\n",
      "Average RMSD is 0.648934\n",
      "Number of structures for matrix 1001\n",
      "Energy of the matrix is 25.5553.\n",
      "\n",
      "Found 337 clusters\n"
     ]
    }
   ],
   "source": [
    "!echo \"*** Molecular Dynamics Clustering: ***\"\n",
    "!head -n 8 05-analysis/clusterMD.log\n",
    "!echo \"*** Simulated Annealing Clustering: ***\"\n",
    "!head -n 8 05-analysis/clusterSA.log"
   ]
  },
  {
   "cell_type": "markdown",
   "metadata": {
    "slideshow": {
     "slide_type": "subslide"
    }
   },
   "source": [
    "We already see that plain MD yielded 1 cluster at 0.15 nm cutoff, whereas SA yielded a whopping 337 clusters! Indeed, the conformation of the peptide is much more variable (in terms of RMSD) in the SA, thanks to the added thermal driving force! \n",
    "Let's have a look at the two structures:"
   ]
  },
  {
   "cell_type": "code",
   "execution_count": 20,
   "metadata": {
    "slideshow": {
     "slide_type": "subslide"
    }
   },
   "outputs": [
    {
     "data": {
      "application/vnd.jupyter.widget-view+json": {
       "model_id": "013aabb4ce86474f939d701e35574e1b",
       "version_major": 2,
       "version_minor": 0
      },
      "text/plain": [
       "NGLWidget()"
      ]
     },
     "metadata": {},
     "output_type": "display_data"
    }
   ],
   "source": [
    "# Here we have a single cluster, and only the central structure of the cluster is saved, so we can have a look at it with nglview:\n",
    "import nglview as nv\n",
    "from IPython.display import IFrame\n",
    "\n",
    "with open(\"05-analysis/clusterMD.pdb\") as f:\n",
    "    view = nv.show_file(f, ext=\"pdb\")\n",
    "view"
   ]
  },
  {
   "cell_type": "code",
   "execution_count": 21,
   "metadata": {
    "slideshow": {
     "slide_type": "subslide"
    }
   },
   "outputs": [
    {
     "data": {
      "application/vnd.jupyter.widget-view+json": {
       "model_id": "de250e500f3c42eb80187fc9a1841729",
       "version_major": 2,
       "version_minor": 0
      },
      "text/plain": [
       "NGLWidget()"
      ]
     },
     "metadata": {},
     "output_type": "display_data"
    }
   ],
   "source": [
    "# In this case, the central structure of each of the 337 clusters is written to a single PDB file. By tweaking the NGLView settings we can see them all at once:\n",
    "import nglview as nv\n",
    "with open(\"05-analysis/clusterSA.pdb\") as f:\n",
    "    view = nv.show_file(f, ext=\"pdb\",default_representation=False)\n",
    "    view.add_representation(\"cartoon\",selection=\"protein\",color=\"modelindex\")\n",
    "view"
   ]
  },
  {
   "cell_type": "markdown",
   "metadata": {
    "slideshow": {
     "slide_type": "subslide"
    }
   },
   "source": [
    "As you can see we confirmed that performing simulated annealing allowed us to get an improved sampling of the different energy minima.<br>\n",
    "Of course, by increasing the simulation time and the temperatures you can aim for an even wider exploration of the different conformations of a given molecular system.<br>\n",
    "<div class=\"alert alert-block alert-warning\"> NOTE: be aware that even if the final temperature is the same as the starting one, it is very much likely that the final structure will be different from the starting one! Can you formulate a hypothesis as to why this occurs? </div>"
   ]
  },
  {
   "cell_type": "markdown",
   "metadata": {
    "slideshow": {
     "slide_type": "slide"
    }
   },
   "source": [
    "## Ramachandran Plots"
   ]
  },
  {
   "cell_type": "markdown",
   "metadata": {
    "slideshow": {
     "slide_type": "subslide"
    }
   },
   "source": [
    "Just as for plain MD simulations, we can analyse the Ramachandran plots for the different snapshots of an SA simulation to see what's going on with the peptide geometry:"
   ]
  },
  {
   "cell_type": "code",
   "execution_count": 22,
   "metadata": {
    "slideshow": {
     "slide_type": "subslide"
    }
   },
   "outputs": [
    {
     "data": {
      "image/png": "[encoded data removed]",
      "text/plain": [
       "<Figure size 360x360 with 1 Axes>"
      ]
     },
     "metadata": {
      "needs_background": "light"
     },
     "output_type": "display_data"
    }
   ],
   "source": [
    "import matplotlib\n",
    "# Perform the analysis:\n",
    "!gmx rama -f 05-analysis/clusterSA.pdb -s 04-annealing/annealing.tpr -o 05-analysis/ramaSA.xvg > /dev/null 2>&1\n",
    "# Load data\n",
    "# You have to load separately floating point numbers and string\n",
    "phi, psi = np.loadtxt('05-analysis/ramaSA.xvg',comments=['@','#'],usecols=(0,1),unpack=True)\n",
    "residues = np.loadtxt('05-analysis/ramaSA.xvg',comments=['@','#'],usecols=(2),dtype=str)\n",
    "\n",
    "# This line searches all the points in the array where the first residue of the protein is present\n",
    "# Therefore, it contains the information to separate information of different frames\n",
    "delimiters = np.squeeze(np.argwhere(residues == residues[0]))\n",
    "from matplotlib.lines import Line2D # For the legend\n",
    "from MDAnalysis.analysis.data.filenames import Rama_ref\n",
    "fig = plt.figure(figsize=(5,5))\n",
    "ax = fig.add_subplot(111,)\n",
    "# Generate points in the plane to plot the Ramachandran regions\n",
    "# THESE X,Y POINTS ARE CREATED IN ORDER TO BE COHERENT WITH DATA IN Rama_ref\n",
    "# DO NOT MODIFY\n",
    "X, Y = np.meshgrid(np.arange(-180, 180, 4), np.arange(-180, 180, 4))\n",
    "Z = np.load(Rama_ref)\n",
    "# THE NUMBERS ON LEVELS ARE DEFINED TO PLOT THE ALLOWED AND GENEROUSLY ALLOWED REGIONS\n",
    "# DO NOT MODIFY\n",
    "c = ax.contourf(X, Y, Z, levels=[1, 17, 15000],colors = ['#A1D4FF', '#35A1FF'])\n",
    "\n",
    "# CHANGE THIS VARIABLE TO REFLECT HOW MANY CLUSTERS YOU HAVE\n",
    "Nclust=100\n",
    "# ----------------------------------------------------------\n",
    "frames = range(0,Nclust+1)\n",
    "# Get Nclust colors:\n",
    "colors=list(matplotlib.colors.cnames.keys())[0:Nclust-1]\n",
    "for col,frame in zip(colors,frames):\n",
    "    ax.scatter(phi[delimiters[frame]:delimiters[frame+1]],psi[delimiters[frame]:delimiters[frame+1]],\n",
    "              marker='o',s=20,c=col)\n",
    "\n",
    "# Set the limits of torsional angles\n",
    "ax.set_xlim(-180,180)\n",
    "ax.set_ylim(-180,180)\n",
    "ax.set_xlabel(r\"$\\phi$ [°]\")\n",
    "ax.set_ylabel(r\"$\\psi$ [°]\")\n",
    "ax.set_title(\"Ramachadran plot of the 15 cluster centroids\")\n",
    "#Personalize it with a legend\n",
    "custom_lines = [Line2D([0], [0], color='#A1D4FF', lw=8),\n",
    "                Line2D([0], [0], color='#35A1FF', lw=8)]\n",
    "ax.legend(custom_lines, ['99%', '90%'],loc='lower center',frameon=False)\n",
    "fig.tight_layout()"
   ]
  },
  {
   "cell_type": "markdown",
   "metadata": {
    "slideshow": {
     "slide_type": "subslide"
    }
   },
   "source": [
    "Do you notice anything in this plot? What are your thoughts and comments?"
   ]
  },
  {
   "cell_type": "markdown",
   "metadata": {
    "slideshow": {
     "slide_type": "slide"
    }
   },
   "source": [
    "## DSSP / Secondary Structure"
   ]
  },
  {
   "cell_type": "markdown",
   "metadata": {
    "slideshow": {
     "slide_type": "subslide"
    }
   },
   "source": [
    "Again, we can also use DSSP secondary structure analysis to try and see if the secondary structure is altered, and how so, during the SA simulation. We will use exactly the same procedure we used before for the plain MD simulation."
   ]
  },
  {
   "cell_type": "code",
   "execution_count": 23,
   "metadata": {
    "slideshow": {
     "slide_type": "subslide"
    }
   },
   "outputs": [],
   "source": [
    "# Let's do the SS analysis:\n",
    "!echo -e \"Protein\\n\" | gmx do_dssp -s 04-annealing/annealing.tpr -f 05-analysis/clusterSA.pdb -o 05-analysis/ssSA.xpm -dt 50 > /dev/null 2>&1\n",
    "# Some XPM settings:\n",
    "!echo -e \"; Command line options of xpm2ps override the parameters in this file\\nxbox                     = 30.0          ; x-size of a matrix element\\nybox                     = 8.0          ; x-size of a matrix element\\ny-major                  = 5            ; y major ticks\\ny-minor                  = 0\\n\" > 05-analysis/options.m2p\n",
    "!gmx xpm2ps -f 05-analysis/ssSA.xpm -di 05-analysis/options.m2p -o 05-analysis/ssSA.eps > /dev/null 2>&1"
   ]
  },
  {
   "cell_type": "code",
   "execution_count": null,
   "metadata": {
    "slideshow": {
     "slide_type": "skip"
    }
   },
   "outputs": [],
   "source": [
    "# IF YOU ARE ON COLAB, USE THIS CELL TO VISUALIZE THE PLOT:\n",
    "def convert_image(f=\"plot.eps\",o=\"plot.png\"):\n",
    "    '''\n",
    "    Function that allows you to convert a file from esp format to png format\n",
    "    '''\n",
    "    from PIL import Image\n",
    "    eps_image = Image.open(f)\n",
    "    eps_image.load(scale=10)\n",
    "    eps_image.save(o)\n",
    "\n",
    "convert_image(f=\"05-analysis/ssSA.eps\",o=\"05-analysis/ssSA.png\")\n",
    "# Show png in notebook:\n",
    "from IPython.display import Image\n",
    "Image(filename='05-analysis/ssSA.png')"
   ]
  },
  {
   "cell_type": "code",
   "execution_count": 24,
   "metadata": {
    "slideshow": {
     "slide_type": "subslide"
    }
   },
   "outputs": [
    {
     "data": {
      "image/png": "[encoded data removed]",
      "text/plain": [
       "<IPython.core.display.Image object>"
      ]
     },
     "execution_count": 24,
     "metadata": {},
     "output_type": "execute_result"
    }
   ],
   "source": [
    "# IF YOU ARE ON YOUR OWN PC, USE THIS CELL TO VISUALIZE THE PLOT:\n",
    "!convert 05-analysis/ssSA.eps 05-analysis/ssSA.png\n",
    "from IPython.display import Image\n",
    "Image(filename='05-analysis/ssSA.png')"
   ]
  },
  {
   "cell_type": "markdown",
   "metadata": {},
   "source": [
    "What do you notice here? Any comments?"
   ]
  }
 ],
 "metadata": {
  "celltoolbar": "Slideshow",
  "kernelspec": {
   "display_name": "Python 3",
   "language": "python",
   "name": "python3"
  },
  "language_info": {
   "codemirror_mode": {
    "name": "ipython",
    "version": 3
   },
   "file_extension": ".py",
   "mimetype": "text/x-python",
   "name": "python",
   "nbconvert_exporter": "python",
   "pygments_lexer": "ipython3",
   "version": "3.8.5"
  },
  "toc": {
   "base_numbering": 1,
   "nav_menu": {},
   "number_sections": true,
   "sideBar": true,
   "skip_h1_title": false,
   "title_cell": "Table of Contents",
   "title_sidebar": "Contents",
   "toc_cell": false,
   "toc_position": {},
   "toc_section_display": true,
   "toc_window_display": false
  },
  "vscode": {
   "interpreter": {
    "hash": "5f8929016d30f12a89eab5b5e02a6c1410fc73da4b23b89b4eb7a3bc58137fe5"
   }
  }
 },
 "nbformat": 4,
 "nbformat_minor": 2
}
