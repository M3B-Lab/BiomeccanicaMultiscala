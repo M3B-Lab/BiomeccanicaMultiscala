{
 "cells": [
  {
   "cell_type": "markdown",
   "metadata": {},
   "source": [
    "# Laboratorio 4\n",
    "**Tutorial and best practices of bash scripting**\n",
    "\n",
    "\n",
    "Authors:\n",
    "    \n",
    "- Prof. Marco A. Deriu (marco.deriu@polito.it)\n",
    "- Lorenzo Pallante (lorenzo.pallante@polito.it)\n",
    "- Eric A. Zizzi (eric.zizzi@polito.it)\n",
    "- Marcello Miceli (marcello.miceli@polito.it)\n",
    "- Marco Cannariato (marco.cannariato@polito.it)"
   ]
  },
  {
   "cell_type": "markdown",
   "metadata": {},
   "source": [
    "# Table of Contents\n",
    "\n",
    "1. Bash recap\n",
    "2. Scripts = how to automate boring tasks\n",
    "3. Practical applications\n",
    "\n",
    "**Learning outcomes:** \n",
    "- understand the technical aspects of scripting\n",
    "- awareness of the dangers of offensive scripting\n",
    "- be able to use scripting to solve real-world problems"
   ]
  },
  {
   "cell_type": "markdown",
   "metadata": {},
   "source": [
    "# 1. Bash Scripting"
   ]
  },
  {
   "cell_type": "markdown",
   "metadata": {},
   "source": [
    "Just as in other laguages, such as Python or JavaScript, bash can be scripted and has many tools available, including conditionals and cycles."
   ]
  },
  {
   "cell_type": "markdown",
   "metadata": {},
   "source": [
    "## 1.1 The IF statement"
   ]
  },
  {
   "cell_type": "markdown",
   "metadata": {},
   "source": [
    "The general syntax is:\n",
    "<div class=\"alert alert-block alert-info\">\n",
    "<b>if</b> test <br>\n",
    "<b>then</b> <br>\n",
    " do stuff <br>\n",
    "<b>else</b> <br>\n",
    " do something else <br>\n",
    "<b>fi</b>\n",
    "</div>"
   ]
  },
  {
   "cell_type": "markdown",
   "metadata": {},
   "source": [
    "<b>EXAMPLE</b>"
   ]
  },
  {
   "cell_type": "markdown",
   "metadata": {},
   "source": [
    "```bash\n",
    "$ n=10\n",
    "$ if [$n –gt 5]\n",
    "$ then\n",
    "$ echo “ your number is greater than 5”\n",
    "$ else\n",
    "$ echo “your number is lower or equal to 5”\n",
    "$ fi\n",
    "```"
   ]
  },
  {
   "cell_type": "markdown",
   "metadata": {},
   "source": [
    "## 1.2 The FOR statement"
   ]
  },
  {
   "cell_type": "markdown",
   "metadata": {},
   "source": [
    "The general syntax is:\n",
    "<div class=\"alert alert-block alert-info\">\n",
    "<b>for</b> variable <b>in</b> list <br>\n",
    "<b>do</b> <br>\n",
    " do stuff <br>\n",
    "<b>done</b> <br>\n",
    "</div>"
   ]
  },
  {
   "cell_type": "markdown",
   "metadata": {},
   "source": [
    "<b>EXAMPLE</b>"
   ]
  },
  {
   "cell_type": "markdown",
   "metadata": {},
   "source": [
    "```bash\n",
    "$ for i in $(ls)\n",
    "$ do\n",
    "$ echo $i\n",
    "$ done\n",
    "```"
   ]
  },
  {
   "cell_type": "markdown",
   "metadata": {},
   "source": [
    "## 1.3 Test operators"
   ]
  },
  {
   "cell_type": "markdown",
   "metadata": {},
   "source": [
    "The test operator in bash can be in one of the following formats:\n",
    "```bash\n",
    "$ if <test>\n",
    "$ if [<test>]\n",
    "$ if [[<test>]]\n",
    "```"
   ]
  },
  {
   "cell_type": "markdown",
   "metadata": {},
   "source": [
    "Some possible test include the following:\n",
    "| Syntax | Description |\n",
    "| --- | --- |\n",
    "| -n VAR | True if the length of VAR is greater than zero. |\n",
    "| -z VAR | True if the VAR is empty. |\n",
    "| STRING1 = STRING2 | True if STRING1 and STRING2 are equal. |\n",
    "| STRING1 != STRING2 | True if STRING1 and STRING2 are not equal. |\n",
    "| INTEGER1 -eq INTEGER2 | True if INTEGER1 is equal to INTEGER2. |\n",
    "| INTEGER1 -lt INTEGER2 | True if INTEGER1 is less than INTEGER2. |\n",
    "| INTEGER1 -ge INTEGER2 | True is equal or greater than INTEGER2. |\n",
    "| INTEGER1 -le INTEGER2 | True is equal or less than INTEGER2. |\n",
    "| -h FILE | True if the FILE exists and is a symbolic link. |\n",
    "| -d FILE | True if the FILE exists and is a directory. |\n",
    "| -f FILE | True if the FILE exists and is a regular file (e.g. not a directory). |\n",
    "| -e FILE | True if the FILE exists and is a file, regardless of type (node, directory, socket, etc.).|\n"
   ]
  },
  {
   "cell_type": "markdown",
   "metadata": {},
   "source": [
    "# 2. Scripting"
   ]
  },
  {
   "cell_type": "markdown",
   "metadata": {},
   "source": [
    "Generally speaking, scripts are text files which contain a series of commands (e.g., in the bash language) that will be executed in sequence automatically.\n",
    "This is very useful in many scenarios, e.g. when a series of commands have to be executed many times in the same way, or when a data elaboration pipeline is particularly long and unpractical to execute one command at a time"
   ]
  },
  {
   "cell_type": "markdown",
   "metadata": {},
   "source": [
    "## 2.1 Syntax basics"
   ]
  },
  {
   "cell_type": "markdown",
   "metadata": {},
   "source": [
    "In order to be executed as a script, a text file has to contain a specific string in the first line of the file.\n",
    "In the case of bash, this is usually\n",
    "```bash\n",
    "#!/bin/bash\n",
    "```\n",
    "While in the case of python scripts, the line is usually\n",
    "```python\n",
    "#!/usr/bin/env python3\n",
    "```\n",
    "These one-liners are called <b>shebangs</b> and tell the computer that the text file should be executed as a script using a specific interpreter.<br>\n",
    "The extension of bash scripts is <b>.sh</b><br>\n",
    "Instead, the extension of python scripts is <b>.py</b><br>\n",
    "In principle, any text file can be executed as a script if you explicitly specify the interpreter to use before the name of the file:"
   ]
  },
  {
   "cell_type": "markdown",
   "metadata": {},
   "source": [
    "<b>EXAMPLE</b><br>\n",
    "```bash\n",
    "$ bash myscript.sh\n",
    "```\n",
    "or<br>\n",
    "```bash\n",
    "$ bash anotherscript.txt\n",
    "```"
   ]
  },
  {
   "cell_type": "markdown",
   "metadata": {},
   "source": [
    "However, specifying the <b>shebang</b> at the beginning of the file means that you don't need to specify the interpreter, and you can just launch the script using its filename:\n",
    "```bash\n",
    "$ myscript.sh\n",
    "```\n",
    "instead of:\n",
    "```bash\n",
    "$ bash myscript.sh\n",
    "```"
   ]
  },
  {
   "cell_type": "markdown",
   "metadata": {},
   "source": [
    "<div class=\"alert alert-block alert-warning\">\n",
    "<b>WARNING:</b> A file must be flagged as executable in Linux in order to be able to execute it without specifying the interpreter.<br>\n",
    "This might require to use the <b>chmod</b> command, for example:<br>\n",
    "$ chmod +x myscript.sh<br>\n",
    "The \"+x\" flag is telling Linux to add the \"eXecutable\" flag on the file, i.e. to treat it as something that can be executed directly\n",
    "\n",
    "</div>"
   ]
  },
  {
   "cell_type": "markdown",
   "metadata": {},
   "source": []
  }
 ],
 "metadata": {
  "kernelspec": {
   "display_name": "Python 3.8.8 ('MD')",
   "language": "python",
   "name": "python3"
  },
  "language_info": {
   "codemirror_mode": {
    "name": "ipython",
    "version": 3
   },
   "file_extension": ".py",
   "mimetype": "text/x-python",
   "name": "python",
   "nbconvert_exporter": "python",
   "pygments_lexer": "ipython3",
   "version": "3.8.8"
  },
  "orig_nbformat": 4,
  "vscode": {
   "interpreter": {
    "hash": "9d2bd68a915523ce9e58622534b3a76c58e4a7336a823b0a8d0a3a702133fc2d"
   }
  }
 },
 "nbformat": 4,
 "nbformat_minor": 2
}
