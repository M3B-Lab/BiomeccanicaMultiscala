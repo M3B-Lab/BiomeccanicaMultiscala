{
 "cells": [
  {
   "cell_type": "markdown",
   "metadata": {},
   "source": [
    "# Laboratorio 4\n",
    "**Tutorial and best practices of bash scripting**\n",
    "\n",
    "\n",
    "Authors:\n",
    "    \n",
    "- Prof. Marco A. Deriu (marco.deriu@polito.it)\n",
    "- Lorenzo Pallante (lorenzo.pallante@polito.it)\n",
    "- Eric A. Zizzi (eric.zizzi@polito.it)\n",
    "- Marcello Miceli (marcello.miceli@polito.it)\n",
    "- Marco Cannariato (marco.cannariato@polito.it)\n",
    "\n",
    "Other credits:\n",
    "\n",
    "- Some information is obtained from the excellent tutorials by Ryan Chadwick (https://ryanstutorials.net/), which you should definitely check out!"
   ]
  },
  {
   "cell_type": "markdown",
   "metadata": {},
   "source": [
    "# Table of Contents\n",
    "\n",
    "1. Bash recap\n",
    "2. Scripts = how to automate boring tasks\n",
    "3. Practical applications\n",
    "\n",
    "**Learning outcomes:** \n",
    "- understand the technical aspects of scripting\n",
    "- awareness of the dangers of offensive scripting\n",
    "- be able to use scripting to solve real-world problems"
   ]
  },
  {
   "cell_type": "markdown",
   "metadata": {},
   "source": [
    "# 1. Bash conditionals and cycles"
   ]
  },
  {
   "cell_type": "markdown",
   "metadata": {},
   "source": [
    "## 1.1 The IF statement\n",
    "Just as in other laguages, such as Python or JavaScript, bash has many tools available, including conditionals and cycles, which you should know before starting your scripting journey. Let's briefly review them"
   ]
  },
  {
   "cell_type": "markdown",
   "metadata": {},
   "source": [
    "The general syntax for an IF conditional is:\n",
    "<div class=\"alert alert-block alert-info\">\n",
    "<b>if</b> test <br>\n",
    "<b>then</b> <br>\n",
    " do stuff <br>\n",
    "<b>else</b> <br>\n",
    " do something else <br>\n",
    "<b>fi</b>\n",
    "</div>"
   ]
  },
  {
   "cell_type": "markdown",
   "metadata": {},
   "source": [
    "<b>EXAMPLE</b>"
   ]
  },
  {
   "cell_type": "markdown",
   "metadata": {},
   "source": [
    "```bash\n",
    "$ n=10\n",
    "$ if [$n –gt 5]\n",
    "$ then\n",
    "$ echo “your number is greater than 5”\n",
    "$ else\n",
    "$ echo “your number is lower or equal to 5”\n",
    "$ fi\n",
    "```"
   ]
  },
  {
   "cell_type": "markdown",
   "metadata": {},
   "source": [
    "## 1.2 Test operators"
   ]
  },
  {
   "cell_type": "markdown",
   "metadata": {},
   "source": [
    "The test operator in bash can be in one of the following formats:\n",
    "```bash\n",
    "$ if <test>\n",
    "$ if [<test>]\n",
    "$ if [[<test>]]\n",
    "```"
   ]
  },
  {
   "cell_type": "markdown",
   "metadata": {},
   "source": [
    "Some possible test include the following:\n",
    "| Syntax | Description |\n",
    "| --- | --- |\n",
    "| -n VAR | True if the length of VAR is greater than zero. |\n",
    "| -z VAR | True if the VAR is empty. |\n",
    "| STRING1 = STRING2 | True if STRING1 and STRING2 are equal. |\n",
    "| STRING1 != STRING2 | True if STRING1 and STRING2 are not equal. |\n",
    "| INTEGER1 -eq INTEGER2 | True if INTEGER1 is equal to INTEGER2. |\n",
    "| INTEGER1 -lt INTEGER2 | True if INTEGER1 is less than INTEGER2. |\n",
    "| INTEGER1 -ge INTEGER2 | True is equal or greater than INTEGER2. |\n",
    "| INTEGER1 -le INTEGER2 | True is equal or less than INTEGER2. |\n",
    "| -h FILE | True if the FILE exists and is a symbolic link. |\n",
    "| -d FILE | True if the FILE exists and is a directory. |\n",
    "| -f FILE | True if the FILE exists and is a regular file (e.g. not a directory). |\n",
    "| -e FILE | True if the FILE exists and is a file, regardless of type (node, directory, socket, etc.).|\n"
   ]
  },
  {
   "cell_type": "markdown",
   "metadata": {},
   "source": [
    "## 1.3 The FOR statement"
   ]
  },
  {
   "cell_type": "markdown",
   "metadata": {},
   "source": [
    "The general syntax for the for cycle is:\n",
    "<div class=\"alert alert-block alert-info\">\n",
    "<b>for</b> variable <b>in</b> list <br>\n",
    "<b>do</b> <br>\n",
    " do stuff <br>\n",
    "<b>done</b> <br>\n",
    "</div>"
   ]
  },
  {
   "cell_type": "markdown",
   "metadata": {},
   "source": [
    "<b>EXAMPLE</b>"
   ]
  },
  {
   "cell_type": "markdown",
   "metadata": {},
   "source": [
    "```bash\n",
    "$ for i in $(ls)\n",
    "$ do\n",
    "$ echo $i\n",
    "$ done\n",
    "```"
   ]
  },
  {
   "cell_type": "markdown",
   "metadata": {},
   "source": [
    "# 2. Scripting"
   ]
  },
  {
   "cell_type": "markdown",
   "metadata": {},
   "source": [
    "First, the basics. What the hell is a script anyway?<br>\n",
    "We learned that bash is an interface to your computer: it is a way to interact with the operating system, just as the graphical interface, meaning you can move files, create files and folders, launch applications, etc..<br>\n",
    "So, any command you enter in the Linux terminal (so, any bash command) is an instruction for your operating system. So what about scripts?<br>\n",
    "The word \"script\" reminds of the thing actors use in a theater play, telling them what to do/say and when. You can think of bash scripts in the same way: they are documents telling your bash shell what to do, and in what order.<br>\n",
    "Any command you execute by typing it into the shell can also be put in a script, without changing anything!"
   ]
  },
  {
   "cell_type": "markdown",
   "metadata": {},
   "source": [
    "**RECAP ON COMPUTER PROGRAMS AND PROCESSES**<br>\n",
    "There is one thing you should remember, which is essential especially if you start to write more and more complex scripts. Generally speaking a <b><u>computer program</b></u> is a set of instructions the CPU should execute, and is stored on the hard disk. When you launch a program, these instructions are copied into the memory (RAM), and the copied program is now called a <b><u>process</b></u>. The important point here is that you can have multiple processes of the same program (e.g. open two windows of the same program, or launch the same command in two terminal windows). When you open a terminal window, a bash **process** is started, giving you the interactive bash intepreter where you can type commands. If you then launch a script, a <u>different bash process will be started</u> just for the script, within the bash process that was started with your terminal. This is a detail, but has actual consequences on things such as sharing variables and so on."
   ]
  },
  {
   "cell_type": "markdown",
   "metadata": {},
   "source": [
    "\n",
    "**IN A NUTSHELL**<br>\n",
    "In summary, scripts are text files which contain a series of commands that will be executed in sequence automatically. This is very useful in many scenarios, e.g. when a series of commands have to be executed many times in the same way, or when a data elaboration pipeline is particularly long and unpractical to execute one command at a time"
   ]
  },
  {
   "cell_type": "markdown",
   "metadata": {},
   "source": [
    "## 2.1 Syntax basics"
   ]
  },
  {
   "cell_type": "markdown",
   "metadata": {},
   "source": [
    "In order to be executed as a script, a text file has to contain a specific string in the first line of the file.\n",
    "In the case of bash, this is usually\n",
    "```bash\n",
    "#!/bin/bash\n",
    "```\n",
    "While in the case of python scripts, the line is usually\n",
    "```python\n",
    "#!/usr/bin/env python3\n",
    "```\n",
    "These one-liners are called <b>shebangs</b> and tell the computer that the text file should be executed as a script using a specific interpreter.<br>\n",
    "The extension of bash scripts is <b>.sh</b><br>\n",
    "Instead, the extension of python scripts is <b>.py</b><br>\n",
    "In principle, any text file can be executed as a script if you explicitly specify the interpreter to use before the name of the file:"
   ]
  },
  {
   "cell_type": "markdown",
   "metadata": {},
   "source": [
    "<b>EXAMPLE</b><br>\n",
    "```bash\n",
    "$ bash myscript.sh\n",
    "```\n",
    "or<br>\n",
    "```bash\n",
    "$ bash anotherscript.txt\n",
    "```\n",
    "\n",
    "**REMINDER: Linux is an <u>extensionless system</u>, so the .sh extension is just a convention and Linux doesn't really care how the filename ends!**"
   ]
  },
  {
   "cell_type": "markdown",
   "metadata": {},
   "source": [
    "However, specifying the <b>shebang</b> at the beginning of the file means that you don't need to specify the interpreter, and you can just launch the script using its filename:\n",
    "```bash\n",
    "$ ./myscript.sh\n",
    "```\n",
    "instead of:\n",
    "```bash\n",
    "$ bash myscript.sh\n",
    "```"
   ]
  },
  {
   "cell_type": "markdown",
   "metadata": {},
   "source": [
    "<div class=\"alert alert-block alert-warning\">\n",
    "<b>WARNING:</b> A file must be flagged as executable in Linux in order to be able to execute it without specifying the interpreter.<br>\n",
    "This might require to use the <b>chmod</b> command, for example:<br>\n",
    "$ chmod +x myscript.sh<br>\n",
    "The \"+x\" flag is telling Linux to add the \"eXecutable\" flag on the file, i.e. to treat it as something that can be executed directly, which is disabled by default for security reasons.\n",
    "\n",
    "</div>"
   ]
  },
  {
   "cell_type": "markdown",
   "metadata": {},
   "source": [
    "### 2.1.1 Try to stay on the right $PATH\n",
    "Wait, why was the script executed as:\n",
    "```bash\n",
    "$ ./myscript.sh\n",
    "```\n",
    "instead of simply typing\n",
    "```bash\n",
    "$ myscript.sh\n",
    "```\n",
    "\n",
    "This is a small but important detail. The question is: when you enter any command into the command line, how does Bash know where the program you are trying to invoke actually is? Remember: any program is a bunch of instructions written somwhere on the hard disk. "
   ]
  },
  {
   "cell_type": "markdown",
   "metadata": {},
   "source": [
    "So if you enter:\n",
    "```bash\n",
    "$ pwd\n",
    "```\n",
    "how does the shell know where the program \"pwd\" is on the hard disk?<br>\n",
    "It knows thanks to an <b><u>environment variable called $PATH</b></u>, which is a list of directories where useful system programs are located. Since it is just a variable, you can look at the contents of the PATH variable by issuing the command:\n",
    "```bash\n",
    "echo $PATH\n",
    "```\n",
    "As you can see, PATH contains a list of folders. If you type a command without specifying its folder, Bash will look for that program in these directories. If the command you issued does not exist in any of these folders, you will get the famous\n",
    "```bash\n",
    "$ command not found\n",
    "```\n",
    "error.<br>"
   ]
  },
  {
   "cell_type": "markdown",
   "metadata": {},
   "source": [
    "Let's go back to our original question: why do I have to write\n",
    "```bash\n",
    "$ ./myscript.sh\n",
    "```\n",
    "instead of \n",
    "```bash\n",
    "$ myscript\n",
    "```\n",
    "The answer is that if you write \"./myscript.sh\", you are specifying the path of the executable (in this case, the current folder \"./\"). If you just type \"myscript\" or \"myscript.sh\", no path is specifyed and Bash will look for that executable in the $PATH, and likely fail to find it!"
   ]
  },
  {
   "cell_type": "markdown",
   "metadata": {},
   "source": [
    "## 2.2 Let's get started with scripts then"
   ]
  },
  {
   "cell_type": "markdown",
   "metadata": {},
   "source": [
    "<b>EXAMPLE</b>\n",
    "Let's see the overall structure of a script that prints the name of the current folder (working directory), named currentfolder.sh:\n",
    "```bash\n",
    "#!/bin/bash\n",
    "# This is a comment and will not be executed\n",
    "# same for this line\n",
    "echo \"the current folder is $(pwd)\" # this will be executed\n",
    "# Graceful exit:\n",
    "exit 0\n",
    "```\n",
    "\n",
    "A couple of things to notice here:\n",
    "* \\# is the comment symbol, except in the shebang (1st line)\n",
    "* To execute a command and use its results, e.g. within a string, it must be placed into $(...). This is called <b><u>COMMAND SUBSTITUTION</b></u> and an important thing to remember to store e.g. the results of a command in a variable and re-use it in your script!\n",
    "* Comments can be inline with commands\n",
    "* Exit codes are useful for debugging! 0 usually means execution ok"
   ]
  },
  {
   "cell_type": "markdown",
   "metadata": {},
   "source": [
    "### 2.2.1 Recap on variables:\n",
    "\n",
    "As you might remember, variables are a useful way to temporarily store information that you might need during the execution of the script (usually <u>strings</u>). Remember that when you need to access a variable (i.e. read its content), you must use the \"\\$\" sign before the name of the variable. On the other hand, when you set the value of a variable (i.e., you write to it), you shouldn't use the \"\\$\" sign."
   ]
  },
  {
   "cell_type": "markdown",
   "metadata": {},
   "source": [
    "In the context of scripting, there are a couple of <b>standard variables</b> that you should be aware of:\n",
    "* The variable <b>\\$0</b> is the name of the script being executed\n",
    "* The arguments you pass after the script name on the command line can be accessed from within the script as <b>\\$1, \\$2, \\$3, etc. </b>\n",
    "* The variable <b>\\$#</b> contains the number of arguments passed to the script\n",
    "* The variable <b>\\$@</b> is the actual list of those passed arguments\n",
    "* <b>\\$?</b> is a variable that stores the exit code of the last executed process. Remember: 0 means execution without errors, anything else is an error code.\n",
    "* <b>$!!</b> contains the last command that was issued on the command line"
   ]
  },
  {
   "cell_type": "markdown",
   "metadata": {},
   "source": [
    "**EXAMPLE**<br>\n",
    "Such variables can be very useful. For example, if you want to follow two different branches within a script based on the successful/unsuccessful execution of a given command, you can use something like:\n",
    "```bash \n",
    "$ ...\n",
    "$ command_which_might_fail <argument1> <argument2>\n",
    "$ if [ $? -eq 0 ]; then\n",
    "$   echo \"Last command was succesful! Grab a beer 🍺\"\n",
    "$ else\n",
    "$   echo \"The command above failed. You will never graduate 😈\"\n",
    "$ fi\n",
    "$ ...\n",
    "```"
   ]
  },
  {
   "cell_type": "markdown",
   "metadata": {},
   "source": [
    "**CAUTION**<br>\n",
    "Remember that while you can set a variable as:\n",
    "```bash\n",
    "$ var1=Ciao\n",
    "```\n",
    "this becomes problematic if you have e.g. spaces:\n",
    "```bash\n",
    "$ var1=Ciao Ciao\n",
    "```\n",
    "which will result in:\n",
    "```bash\n",
    "$ -bash: Ciao: command not found\n",
    "```\n",
    "You must use quotation marks to set variables containing spaces:\n",
    "```bash\n",
    "$ var1=\"Ciao Ciao\"\n",
    "```\n"
   ]
  },
  {
   "cell_type": "markdown",
   "metadata": {},
   "source": [
    "### 2.2.2 Exercise\n",
    "Use all your current and past knowledge to do the following exercise:<br>\n",
    "Create a script named \"proteinstats.sh\" which does the following:<br>\n",
    "* Reads all the files in a folder having a \".pdb\" extension\n",
    "* Creates a file named \"stat.csv\" containing a row for each read pdb file, formatted as: \"\\<filename\\>,\\<no. of residues\\>\"\n",
    "* Creates and updates a single file called \"maxres.stat\" which contains a single row formatted as: \"\\<filename> has the highest number of residues (\\<number\\>).\" with the name of the pdb file containing most residues and the corresponding number.\n",
    "\n",
    "<div class=\"alert alert-block alert-warning\">\n",
    "<b>HINTS</b><br>\n",
    "for, if, >, >>\n",
    "</div>\n"
   ]
  },
  {
   "cell_type": "markdown",
   "metadata": {},
   "source": [
    "**Example of expected result**<br>\n",
    "```bash\n",
    "$ bash proteinstast.sh\n",
    "$ cat stat.csv\n",
    "TAS1R1.pdb,305\n",
    "TAS1R2.pdb,398\n",
    "...\n",
    "TAS2R3.pdb,320\n",
    "$ cat maxrest.stat\n",
    "TAS1R2 has the highest number of residues equal to 398\n",
    "```"
   ]
  },
  {
   "cell_type": "markdown",
   "metadata": {},
   "source": []
  }
 ],
 "metadata": {
  "kernelspec": {
   "display_name": "Python 3.8.8 ('MD')",
   "language": "python",
   "name": "python3"
  },
  "language_info": {
   "codemirror_mode": {
    "name": "ipython",
    "version": 3
   },
   "file_extension": ".py",
   "mimetype": "text/x-python",
   "name": "python",
   "nbconvert_exporter": "python",
   "pygments_lexer": "ipython3",
   "version": "3.8.8"
  },
  "orig_nbformat": 4,
  "vscode": {
   "interpreter": {
    "hash": "9d2bd68a915523ce9e58622534b3a76c58e4a7336a823b0a8d0a3a702133fc2d"
   }
  }
 },
 "nbformat": 4,
 "nbformat_minor": 2
}
