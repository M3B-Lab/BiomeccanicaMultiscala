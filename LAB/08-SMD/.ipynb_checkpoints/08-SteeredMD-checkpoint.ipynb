{
 "cells": [
  {
   "cell_type": "markdown",
   "metadata": {
    "slideshow": {
     "slide_type": "slide"
    }
   },
   "source": [
    "<a href=\"https://colab.research.google.com/github/lorenzopallante/BiomeccanicaMultiscala/blob/main/LAB/08-SMD/08-SteeredMD.ipynb\" target=\"_parent\"><img src=\"https://colab.research.google.com/assets/colab-badge.svg\" alt=\"Open In Colab\"/></a>"
   ]
  },
  {
   "cell_type": "markdown",
   "metadata": {
    "slideshow": {
     "slide_type": "-"
    }
   },
   "source": [
    "# Laboratorio 8\n",
    "**Enhanced Sampling: Steered Molecular Dynamics (SMD)**\n",
    "\n",
    "\n",
    "Authors:\n",
    "    \n",
    "- Prof. Marco A. Deriu (marco.deriu@polito.it)\n",
    "- Lorenzo Pallante (lorenzo.pallante@polito.it)\n",
    "- Eric A. Zizzi (eric.zizzi@polito.it)\n",
    "- Marcello Miceli (marcello.miceli@polito.it)\n",
    "- Marco Cannariato (marco.cannariato@polito.it)"
   ]
  },
  {
   "cell_type": "markdown",
   "metadata": {
    "slideshow": {
     "slide_type": "slide"
    }
   },
   "source": [
    "# Table of Contents\n",
    "\n",
    "1. Gromacs Setup \n",
    "2. Steered Molecular Dynamics (SMD)\n",
    "\n",
    "    2.1 Theory recap <br>\n",
    "    2.2 Practical session\n",
    "    \n",
    "**Learning outcomes:** \n",
    "Understand the basics and the main GROMACS settings to perform a Steered Molecular Dynamics simulation and evaluate results"
   ]
  },
  {
   "cell_type": "markdown",
   "metadata": {
    "id": "owpIBUkna5Ow",
    "slideshow": {
     "slide_type": "slide"
    }
   },
   "source": [
    "# Setup"
   ]
  },
  {
   "cell_type": "markdown",
   "metadata": {},
   "source": [
    "To update the maximum characters limit of the jupyter cells use the following line"
   ]
  },
  {
   "cell_type": "code",
   "execution_count": null,
   "metadata": {},
   "outputs": [],
   "source": [
    "from notebook.services.config import ConfigManager\n",
    "cm = ConfigManager().update('notebook', {'limit_output': 100000000})"
   ]
  },
  {
   "cell_type": "markdown",
   "metadata": {},
   "source": [
    "Since simulations are quite computational demanding, you should consider to download pre-calculated files in order to be able to follow the tutorial"
   ]
  },
  {
   "cell_type": "code",
   "execution_count": null,
   "metadata": {},
   "outputs": [],
   "source": [
    "!gdown --fuzzy https://drive.google.com/file/d/1hMlX-AJRQhrI8sgOJ-LAm6IiCXTetzUR/view?usp=share_link\n",
    "!unzip SMD_solution.zip\n",
    "!mv SMD_solutions/* ."
   ]
  },
  {
   "cell_type": "markdown",
   "metadata": {
    "slideshow": {
     "slide_type": "subslide"
    }
   },
   "source": [
    "If you don't have GROMACS and NGLView installed on your machine or if you are using **Google COLAB**, run the following lines\n",
    "\n",
    "**This lines should be run at the beginning of each laboratory**"
   ]
  },
  {
   "cell_type": "code",
   "execution_count": null,
   "metadata": {
    "cellView": "form",
    "executionInfo": {
     "elapsed": 16217,
     "status": "ok",
     "timestamp": 1662116875669,
     "user": {
      "displayName": "Lorenzo Pallante",
      "userId": "15223561348967771574"
     },
     "user_tz": -120
    },
    "id": "B8_MjDYnhDwh",
    "slideshow": {
     "slide_type": "-"
    }
   },
   "outputs": [],
   "source": [
    "#@title Installing GROMACS\n",
    "!apt install gromacs &> /dev/null"
   ]
  },
  {
   "cell_type": "code",
   "execution_count": null,
   "metadata": {
    "cellView": "form",
    "executionInfo": {
     "elapsed": 16985,
     "status": "ok",
     "timestamp": 1662116892987,
     "user": {
      "displayName": "Lorenzo Pallante",
      "userId": "15223561348967771574"
     },
     "user_tz": -120
    },
    "id": "C2hA7f_MEF5K",
    "slideshow": {
     "slide_type": "-"
    }
   },
   "outputs": [],
   "source": [
    "#@title Installing NGLview\n",
    "!pip install nglview  &> /dev/null\n",
    "!pip install simpletraj  &> /dev/null\n",
    "from google.colab import output\n",
    "output.enable_custom_widget_manager()"
   ]
  },
  {
   "cell_type": "markdown",
   "metadata": {},
   "source": [
    "Clone files form GitHub if you are using COLAB"
   ]
  },
  {
   "cell_type": "code",
   "execution_count": null,
   "metadata": {},
   "outputs": [],
   "source": [
    "# IF YOU ARE USING COLAB EXECUTE THIS CELL (to copy over data repository)\n",
    "!git clone https://github.com/lorenzopallante/BiomeccanicaMultiscala.git\n",
    "!mv BiomeccanicaMultiscala/LAB/08-SMD/* ."
   ]
  },
  {
   "cell_type": "markdown",
   "metadata": {},
   "source": [
    "If you want to download also already calculated solutions, you should run the following cell:"
   ]
  },
  {
   "cell_type": "code",
   "execution_count": null,
   "metadata": {},
   "outputs": [],
   "source": [
    "#@title Installing gdown and downloading solutions\n",
    "!pip install gdown &> /dev/null\n",
    "!gdown --fuzzy https://drive.google.com/file/d/1hMlX-AJRQhrI8sgOJ-LAm6IiCXTetzUR/view?usp=share_link\n",
    "!unzip SMD_solution.zip\n",
    "!mv SMD_solutions/* ."
   ]
  },
  {
   "cell_type": "markdown",
   "metadata": {
    "id": "D6nSkKIS8r53",
    "slideshow": {
     "slide_type": "slide"
    }
   },
   "source": [
    "# Steered Molecular Dynamics (SMD)"
   ]
  },
  {
   "cell_type": "markdown",
   "metadata": {
    "slideshow": {
     "slide_type": "subslide"
    }
   },
   "source": [
    "## Theory Recap"
   ]
  },
  {
   "cell_type": "markdown",
   "metadata": {},
   "source": [
    "**Steered Molecular Dynamcis (SMD)** applies external steering forces, applying a **constraint** (e.g. a harmonic potential), that moves along a prescribed path in the configuration space in the right direction to accelerate processes that otherwise, due to energy barriers, are too slow, overtaking the limitation of the nanosecond time scale usual in classical molecular dynamics, which is seldom long enough to observe relevant processes.\n",
    "\n",
    "In order to guarantee that the reaction coordinate closely follows the **constraint positions**, the force constant F must be sufficiently large, which is called the **stiff-spring approximation theory**:\n",
    "\n",
    "\n",
    "$$\n",
    "\\begin{aligned}\n",
    "& F(t)=2 k(v t-s(t)) \\\\\n",
    "& W(x(t))=\\int_0^{x(t)} F(t) d x(t)\n",
    "\\end{aligned}\n",
    "$$"
   ]
  },
  {
   "cell_type": "markdown",
   "metadata": {},
   "source": [
    "<center><img src=\"imgs/SMD_scheme.png\" width=\"500\"></center>"
   ]
  },
  {
   "cell_type": "markdown",
   "metadata": {
    "slideshow": {
     "slide_type": "subslide"
    }
   },
   "source": [
    "In a typical investigation of a molecular process, the **reaction path**, along which the process proceeds in the configurational space, is identified (or hypothesized) and the process progress is described by the **reaction coordinate**.\n",
    "\n",
    "The **potential of mean force (PMF)** is basically the ***free energy profile along the reaction coordinate***. PMF is determined through the Boltzmann-weighted average over all degrees of freedom other than the reaction coordinate. ​\n",
    "\n",
    "<center><img src=\"imgs/PMF.png\" width=\"500\"></center>\n",
    "\n",
    "SMD simulations are non-equilibrium processes, but PMF is an equilibrium property. The **Jarzynski’s equality** ***connects equilibrium and non-equilibrium***\n",
    "\n",
    "$$\\left<e^{-\\beta {W}}\\right>=e^{-\\beta \\Delta G} \\Longleftrightarrow \\Delta G=-\\frac{1}{\\beta} \\ln \\left<e^{-\\beta {W}}\\right>$$\n"
   ]
  },
  {
   "cell_type": "markdown",
   "metadata": {
    "slideshow": {
     "slide_type": "subslide"
    }
   },
   "source": [
    "## Practical Session"
   ]
  },
  {
   "cell_type": "markdown",
   "metadata": {},
   "source": [
    "Basically, the steps to perform a SMD simulation are the same like in a standard MD simulation. We'll need only to add a bias potential during the production of the MD. "
   ]
  },
  {
   "cell_type": "markdown",
   "metadata": {},
   "source": [
    "<center><img src=\"imgs/MD_FlowChart.png\" width=\"500\"></center>"
   ]
  },
  {
   "cell_type": "markdown",
   "metadata": {},
   "source": [
    "A detailed tutorial on SMD is also available in the first part of the Umbrella Sampling tutorial by Justin A. Lemkul, Ph.D.(http://www.mdtutorials.com/gmx/umbrella/index.html)"
   ]
  },
  {
   "cell_type": "markdown",
   "metadata": {
    "slideshow": {
     "slide_type": "subslide"
    }
   },
   "source": [
    "### Step 1 - Get the PDB"
   ]
  },
  {
   "cell_type": "markdown",
   "metadata": {},
   "source": [
    "In this tutorial, we will use the PDB code [2BEG](https://www.rcsb.org/structure/2BEG) which is the 3D Structure of Alzheimer's Abeta(1-42) fibrils.  The structure file of the wild-type Aβ42 protofibril used in those simulations, acetylated at the N-terminus of each chain, can be found [here](http://www.mdtutorials.com/gmx/umbrella/Files/2BEG_model1_capped.pdb)\n",
    "\n",
    "Let's have a look to the system: "
   ]
  },
  {
   "cell_type": "code",
   "execution_count": null,
   "metadata": {},
   "outputs": [],
   "source": [
    "# download file from the RCSB database and store in the data/SMD folder\n",
    "!wget -P data/ http://www.mdtutorials.com/gmx/umbrella/Files/2BEG_model1_capped.pdb"
   ]
  },
  {
   "cell_type": "code",
   "execution_count": null,
   "metadata": {
    "slideshow": {
     "slide_type": "-"
    }
   },
   "outputs": [],
   "source": [
    "# display with nglview\n",
    "import nglview as nv\n",
    "from IPython.display import IFrame\n",
    "\n",
    "with open(\"data/2BEG_model1_capped.pdb\") as f:\n",
    "    view = nv.show_file(f, ext=\"pdb\")\n",
    "view"
   ]
  },
  {
   "cell_type": "markdown",
   "metadata": {},
   "source": [
    "The PDB contains 5 monomers (chains) arranged in a U-shaped way and interacting with non-bonded interactions. "
   ]
  },
  {
   "cell_type": "markdown",
   "metadata": {
    "slideshow": {
     "slide_type": "subslide"
    }
   },
   "source": [
    "If you are more curious about this type of aggregates have a look at some publications from our group:\n",
    "\n",
    "1. Grasso, Gianvito, Martina Rebella, Umberto Morbiducci, Jack A. Tuszynski, Andrea Danani, e Marco A. Deriu. «The Role of Structural Polymorphism in Driving the Mechanical Performance of the Alzheimer’s Beta Amyloid Fibrils». Frontiers in Bioengineering and Biotechnology 7 (24 aprile 2019): 83. https://doi.org/10.3389/fbioe.2019.00083.\n",
    "\n",
    "2. Grasso, Gianvito, Martina Rebella, Stefano Muscat, Umberto Morbiducci, Jack Tuszynski, Andrea Danani, e Marco Deriu. «Conformational Dynamics and Stability of U-Shaped and S-Shaped Amyloid β Assemblies». International Journal of Molecular Sciences 19, fasc. 2 (14 febbraio 2018): 571. https://doi.org/10.3390/ijms19020571.\n",
    "\n",
    "3. Miceli, Marcello, Stefano Muscat, Umberto Morbiducci, Marco Cavaglià, e Marco Agostino Deriu. «Ultrasonic Waves Effect on S-Shaped β-Amyloids Conformational Dynamics by Non-Equilibrium Molecular Dynamics». Journal of Molecular Graphics and Modelling 96 (maggio 2020): 107518. https://doi.org/10.1016/j.jmgm.2019.107518.\n",
    "\n",
    "4. Muscat, Stefano, Lorenzo Pallante, Filip Stojceski, Andrea Danani, Gianvito Grasso, e Marco Agostino Deriu. «The Impact of Natural Compounds on S-Shaped Aβ42 Fibril: From Molecular Docking to Biophysical Characterization». International Journal of Molecular Sciences 21, fasc. 6 (16 marzo 2020): 2017. https://doi.org/10.3390/ijms21062017.\n",
    "\n",
    "\n",
    "**The system we will consider for this tutorial is the dissociation of a single peptide from the growing end of an Aβ42 protofibril**"
   ]
  },
  {
   "cell_type": "markdown",
   "metadata": {
    "slideshow": {
     "slide_type": "subslide"
    }
   },
   "source": [
    "### Step 2 - Prepare GMX Topology"
   ]
  },
  {
   "cell_type": "markdown",
   "metadata": {
    "slideshow": {
     "slide_type": "-"
    }
   },
   "source": [
    "First, we need to create the protein topology.. \n",
    "\n",
    "**Which is the GROMACS command to create the protein topology?**"
   ]
  },
  {
   "cell_type": "code",
   "execution_count": null,
   "metadata": {
    "slideshow": {
     "slide_type": "fragment"
    }
   },
   "outputs": [],
   "source": [
    "!echo -e \"2 0 2 0 2 0 2 0 2 0\" | gmx pdb2gmx -f data/2BEG_model1_capped.pdb -ignh -ff gromos53a6 -water spc -o complex.gro -ter"
   ]
  },
  {
   "cell_type": "markdown",
   "metadata": {},
   "source": [
    "**Note**: we needed to specify the N- and C-terminus of each chain since they were missing in the original structure"
   ]
  },
  {
   "cell_type": "markdown",
   "metadata": {
    "slideshow": {
     "slide_type": "subslide"
    }
   },
   "source": [
    "Now we have to modify the chain B protein to add a particular set of **position restraints**. \n",
    "Add the following lines at the end of the file topol_Protein_chain_B.itp: \n",
    "\n",
    ">#ifdef POSRES_B <br>\n",
    ">#include \"posre_Protein_chain_B.itp\" <br>\n",
    ">#endif\n",
    "\n",
    "***We will be using chain B as an immobile reference later on in the pulling simulations, hence the need to specially position-restrain this chain only, and none of the others.***"
   ]
  },
  {
   "cell_type": "code",
   "execution_count": null,
   "metadata": {},
   "outputs": [],
   "source": [
    "%%bash\n",
    "echo '\n",
    "#ifdef POSRES_B\n",
    "#include \"posre_Protein_chain_B.itp\"\n",
    "#endif\n",
    "'>>topol_Protein_chain_B.itp"
   ]
  },
  {
   "cell_type": "markdown",
   "metadata": {
    "slideshow": {
     "slide_type": "subslide"
    }
   },
   "source": [
    "### Step 3 - Generate Box"
   ]
  },
  {
   "cell_type": "markdown",
   "metadata": {},
   "source": [
    "One must allow enough space in the pulling direction to allow for a continuous pull without interacting with the periodic images of the system. \n",
    "\n",
    "That is, the **minimum image convention** must be continually satisfied, and as well, the pull distance must always be less than one-half the length of the box vector along which the pulling is being conducted.\n",
    "\n",
    "This, if you have a 10-nm box, and you pull over a distance greater than 5.0 nm, the periodic distance becomes the reference distance for the pulling, and this distance is actually less than 5.0 nm!\n",
    "\n",
    "We will be pulling a total distance of 5.0 nm in a 12.0-nm box, to avoid the complications described above. The center of mass of the protofibril will be placed at (3.280, 2.181, 2.4775) in a box of dimensions 6.560 x 4.362 x 12. Use editconf to place the protofibril at this location:"
   ]
  },
  {
   "cell_type": "code",
   "execution_count": null,
   "metadata": {
    "scrolled": true
   },
   "outputs": [],
   "source": [
    "!gmx editconf -f complex.gro -o newbox.gro -center 3.280 2.181 2.4775 -box 6.560 4.362 12"
   ]
  },
  {
   "cell_type": "markdown",
   "metadata": {},
   "source": [
    "Check the **box** with **VMD** to check if it is set properly!"
   ]
  },
  {
   "cell_type": "markdown",
   "metadata": {
    "slideshow": {
     "slide_type": "subslide"
    }
   },
   "source": [
    "### Step 4 - Add Water"
   ]
  },
  {
   "cell_type": "code",
   "execution_count": null,
   "metadata": {
    "scrolled": true
   },
   "outputs": [],
   "source": [
    "!gmx solvate -cp newbox.gro -cs spc216.gro -o solv.gro -p topol.top"
   ]
  },
  {
   "cell_type": "markdown",
   "metadata": {
    "slideshow": {
     "slide_type": "subslide"
    }
   },
   "source": [
    "### Step 5 - Adding Ions"
   ]
  },
  {
   "cell_type": "code",
   "execution_count": null,
   "metadata": {},
   "outputs": [],
   "source": [
    "!touch ions.mdp #create fake mdp to only create the ions.tpr\n",
    "!gmx grompp -f ions.mdp -c solv.gro -p topol.top -o ions.tpr -maxwarn 10\n",
    "!echo \"SOL\" | gmx genion -s ions.tpr -o solv_ions.gro -p topol.top -pname NA -nname CL -neutral -conc 0.1"
   ]
  },
  {
   "cell_type": "markdown",
   "metadata": {
    "slideshow": {
     "slide_type": "subslide"
    }
   },
   "source": [
    "### Step 6 - Energy Minimization"
   ]
  },
  {
   "cell_type": "markdown",
   "metadata": {},
   "source": [
    "MDP file (em.mdp) for EM is available in the data folder"
   ]
  },
  {
   "cell_type": "code",
   "execution_count": null,
   "metadata": {},
   "outputs": [],
   "source": [
    "!cat data/em.mdp"
   ]
  },
  {
   "cell_type": "markdown",
   "metadata": {
    "slideshow": {
     "slide_type": "subslide"
    }
   },
   "source": [
    "Create the tpr and run the energy minimization:"
   ]
  },
  {
   "cell_type": "code",
   "execution_count": null,
   "metadata": {},
   "outputs": [],
   "source": [
    "!mkdir -p 00-em/\n",
    "!gmx grompp -f data/em.mdp -c solv_ions.gro -p topol.top -o 00-em/em.tpr -maxwarn 1\n",
    "!gmx mdrun -v -deffnm 00-em/em"
   ]
  },
  {
   "cell_type": "markdown",
   "metadata": {
    "slideshow": {
     "slide_type": "subslide"
    }
   },
   "source": [
    "What do we have to check if the minimization was correctly performed? "
   ]
  },
  {
   "cell_type": "markdown",
   "metadata": {
    "slideshow": {
     "slide_type": "fragment"
    }
   },
   "source": [
    "We need to check if the potential reached the convergence!"
   ]
  },
  {
   "cell_type": "code",
   "execution_count": null,
   "metadata": {
    "scrolled": true,
    "slideshow": {
     "slide_type": "fragment"
    }
   },
   "outputs": [],
   "source": [
    "!echo \"Potential\" | gmx energy -f 00-em/em.edr -o 00-em/potential.xvg >/dev/null 2>&1"
   ]
  },
  {
   "cell_type": "code",
   "execution_count": null,
   "metadata": {},
   "outputs": [],
   "source": [
    "import matplotlib.pyplot as plt # Import from the library matplotlib  the package pyplot and alias it as plt \n",
    "import numpy as np #import the library numpy and alias it as np\n",
    "'''load the data from the potential.xvg format into data, ...\n",
    "define the comments as raw starting with either # or @'''\n",
    "data = np.loadtxt(\"00-em/potential.xvg\",comments=[\"#\",\"@\"])\n",
    "step = data[:,0] #assign the first column of data to the variable step\n",
    "energy = data[:,1] #assign the second column of data to the variable potential\n",
    "plt.plot(step,energy) #plot the function potential(data)\n",
    "plt.xlabel(\"Step\",size=14) #assign the x label \n",
    "plt.ylabel(\"Energy [KJ/mol]\",size=14) #assign the y label\n",
    "plt.title(\"Potential energy as a function of step\"); #assign a title \n",
    "#save the figure in png format with a resolution of 300 dot per inch \"dpi\" \n",
    "plt.savefig(\"potential.png\",format=\"png\", dpi=300)"
   ]
  },
  {
   "cell_type": "markdown",
   "metadata": {
    "slideshow": {
     "slide_type": "subslide"
    }
   },
   "source": [
    "### Step 7 - NPT Equilibration with posre"
   ]
  },
  {
   "cell_type": "code",
   "execution_count": null,
   "metadata": {},
   "outputs": [],
   "source": [
    "!mkdir -p 01-npt/\n",
    "!gmx grompp -f data/npt.mdp -c 00-em/em.gro -p topol.top -r 00-em/em.gro -o 01-npt/npt.tpr -maxwarn 1\n",
    "!gmx mdrun -deffnm 01-npt/npt -v "
   ]
  },
  {
   "cell_type": "markdown",
   "metadata": {
    "slideshow": {
     "slide_type": "subslide"
    }
   },
   "source": [
    "Which quantities do we need to check to be sure that the equilibration was correctly performed? "
   ]
  },
  {
   "cell_type": "markdown",
   "metadata": {
    "slideshow": {
     "slide_type": "fragment"
    }
   },
   "source": [
    "Check if **temperature** and **density** reached the plateau!"
   ]
  },
  {
   "cell_type": "code",
   "execution_count": null,
   "metadata": {
    "scrolled": true,
    "slideshow": {
     "slide_type": "fragment"
    }
   },
   "outputs": [],
   "source": [
    "!echo -e \"Temperature \\n Density \\n\" | gmx energy -f 01-npt/npt.edr -o 01-npt/temp-dens.xvg"
   ]
  },
  {
   "cell_type": "code",
   "execution_count": null,
   "metadata": {},
   "outputs": [],
   "source": [
    "import matplotlib.pyplot as plt # Import from the library matplotlib  the package pyplot and alias it as plt \n",
    "import numpy as np #import the library numpy and alias it as np\n",
    "'''load the data from the potential.xvg format into data, ...\n",
    "define the comments as raw starting with either # or @'''\n",
    "data=np.loadtxt(\"01-npt/temp-dens.xvg\",comments=[\"#\",\"@\"])\n",
    "time=data[:,0] #assign the first column of data to the variable step\n",
    "temp=data[:,1] #assign the second column of data to the variable potential\n",
    "dens=data[:,2] #assign the second column of data to the variable potential\n",
    "\n",
    "plot,axes=plt.subplots(2,1) #plot the function potential(data)\n",
    "axes[0].plot(time,temp)\n",
    "axes[1].plot(time,dens)\n",
    "axes[1].set_xlabel(\"Time [ps]\",size=14) #assign the x label \n",
    "axes[0].set_ylabel(\"Temperature [K]\",size=14) #assign the y label\n",
    "axes[1].set_ylabel(\"Density [kg/m^3]\",size=14) #assign the y label\n",
    "axes[0].set_ylim(250,320)\n",
    "axes[1].set_ylim(960,1000)\n",
    "plt.tight_layout()\n",
    "# if you want to save the figure, uncomment the following line\n",
    "#plot.savefig(\"subplot_temp_dens.png\",format=\"png\", dpi=300)"
   ]
  },
  {
   "cell_type": "markdown",
   "metadata": {
    "slideshow": {
     "slide_type": "subslide"
    }
   },
   "source": [
    "### Step 8 - Steered Molecular Dynamics (SMD)"
   ]
  },
  {
   "cell_type": "markdown",
   "metadata": {},
   "source": [
    "The idea is to pull one chain of the fibril away applying an external force while keeping fixed the position of the adjacent chain using position restraints. "
   ]
  },
  {
   "cell_type": "markdown",
   "metadata": {},
   "source": [
    "<center><img src=\"imgs/SystemScheme.png\" width=\"1200\"></center>"
   ]
  },
  {
   "cell_type": "markdown",
   "metadata": {
    "slideshow": {
     "slide_type": "subslide"
    }
   },
   "source": [
    "We want to pull one of the chain of the amyloid fibril along a chosen **reaction coordinate**. \n",
    "\n",
    "This is equivalent to ideally attach a **spring** with a certain **elastic constant** at the end of the fibril and then apply a displacemnt with a specific **force** and **velocity**.\n",
    "\n",
    "For this example, the reaction coordinate is the **z-axis**. To generate these configurations, we must pull peptide A away from the protofibril. We will pull over the course of 500 ps of MD, saving snapshots every 1 ps. \n",
    "\n",
    "The pulling options for the SMD are listed below: \n",
    "\n",
    "<div class=\"alert alert-block alert-info\">\n",
    "; Pull code<br> \n",
    "pull                    = yes<br>\n",
    "pull_ncoords            = 1         ; only one reaction coordinate <br>\n",
    "pull_ngroups            = 2         ; two groups defining one reaction coordinate <br>\n",
    "pull_group1_name        = Chain_A<br>\n",
    "pull_group2_name        = Chain_B<br>\n",
    "pull_coord1_type        = umbrella  ; harmonic potential<br>\n",
    "pull_coord1_geometry    = distance  ; simple distance increase<br>\n",
    "pull_coord1_dim         = N N Y     ; pull along z<br>\n",
    "pull_coord1_groups      = 1 2       ; groups 1 (Chain A) and 2 (Chain B) define the reaction coordinate<br>\n",
    "pull_coord1_start       = yes       ; define initial COM distance > 0<br>\n",
    "pull_coord1_rate        = 0.01      ; 0.01 nm per ps = 10 nm per ns<br>\n",
    "pull_coord1_k           = 1000      ; kJ mol^-1 nm^-2<br>\n",
    "</b></center><div>"
   ]
  },
  {
   "cell_type": "markdown",
   "metadata": {
    "slideshow": {
     "slide_type": "subslide"
    }
   },
   "source": [
    "Remember that **#ifdef POSRES_B** statement we added to topol_B.itp a while ago? We're going to use it now. \n",
    "\n",
    "By **restraining peptide B** of the protofibril, we are able to more easily pull peptide A away. Due to the extensive non-covalent interactions between chains A and B, if we did not restrain chain B, we would end up simply towing the whole complex along the simulation box, which wouldn't accomplish much.\n",
    "\n",
    "We will need to define some custom index groups for this pulling simulation. Use make_ndx:"
   ]
  },
  {
   "cell_type": "code",
   "execution_count": null,
   "metadata": {
    "scrolled": true,
    "slideshow": {
     "slide_type": "fragment"
    }
   },
   "outputs": [],
   "source": [
    "!gmx editconf -f 00-em/em.tpr -o 00-em/em.pdb >/dev/null 2>&1\n",
    "!echo -e \"chain A \\n name 19 Chain_A \\n chain B \\n name 20 Chain_B \\n q \\n\" | gmx make_ndx -f 00-em/em.pdb >/dev/null 2>&1"
   ]
  },
  {
   "cell_type": "code",
   "execution_count": null,
   "metadata": {},
   "outputs": [],
   "source": [
    "!mkdir -p 02-pull\n",
    "!gmx grompp -f data/pull.mdp -c 01-npt/npt.gro -p topol.top -r 01-npt/npt.gro -n index.ndx -t 01-npt/npt.cpt -o 02-pull/pull.tpr -maxwarn 2 >/dev/null 2>&1"
   ]
  },
  {
   "cell_type": "code",
   "execution_count": null,
   "metadata": {
    "scrolled": true
   },
   "outputs": [],
   "source": [
    "!gmx mdrun -deffnm 02-pull/pull -v"
   ]
  },
  {
   "cell_type": "markdown",
   "metadata": {
    "slideshow": {
     "slide_type": "subslide"
    }
   },
   "source": [
    "Have a look at the trajectory using **VMD**!\n",
    "\n",
    "***Note that you must handle the periodic conditions to properly see the system's trajectory***"
   ]
  },
  {
   "cell_type": "code",
   "execution_count": null,
   "metadata": {
    "scrolled": true,
    "slideshow": {
     "slide_type": "fragment"
    }
   },
   "outputs": [],
   "source": [
    "!echo \"System System\" | gmx trjconv -f 02-pull/pull.xtc -s 02-pull/pull.tpr -o 02-pull/noPBC.xtc -pbc mol -ur compact >/dev/null 2>&1\n",
    "!gmx editconf -f 02-pull/pull.tpr -o 02-pull/noPBC.pdb >/dev/null 2>&1"
   ]
  },
  {
   "cell_type": "code",
   "execution_count": null,
   "metadata": {},
   "outputs": [],
   "source": [
    "import nglview as nv\n",
    "traj_nopbc = nv.SimpletrajTrajectory(\"02-pull/noPBC.xtc\", \"02-pull/pull.gro\")\n",
    "view_nopbc = nv.show_simpletraj(traj_nopbc)\n",
    "#view_nopbc.add_representation(\"ball+stick\",selection=\"water\")\n",
    "view_nopbc.center(\"sytem\")\n",
    "view_nopbc"
   ]
  },
  {
   "cell_type": "markdown",
   "metadata": {
    "slideshow": {
     "slide_type": "subslide"
    }
   },
   "source": [
    "There is no displacement for some time, as the force on the imaginary spring builds up until it is sufficient to overcome the restoring forces within the protofibril structure. \n",
    "\n",
    "Let's have a look at the force and displacement behaviour during the simulation:"
   ]
  },
  {
   "cell_type": "code",
   "execution_count": null,
   "metadata": {},
   "outputs": [],
   "source": [
    "import matplotlib.pyplot as plt \n",
    "import numpy as np\n",
    "\n",
    "#load data\n",
    "data_f=np.loadtxt(\"02-pull/pull_pullf.xvg\",comments=[\"#\",\"@\"])\n",
    "data_d=np.loadtxt(\"02-pull/pull_pullx.xvg\",comments=[\"#\",\"@\"])\n",
    "\n",
    "# set variables for plot\n",
    "time=data_f[:,0] \n",
    "force=data_f[:,1] \n",
    "displacement=data_d[:,1] \n",
    "\n",
    "# plot with matplotlib\n",
    "plot,axes=plt.subplots(2,1) \n",
    "axes[0].plot(time,force)\n",
    "axes[1].plot(time,displacement)\n",
    "axes[1].set_xlabel(\"Time (ps)\",size=14) #assign the x label \n",
    "axes[0].set_ylabel(\"Force ($kJmol^{-1}nm^{-1}$)\",size=14) #assign the y label\n",
    "axes[1].set_ylabel(\"Displacement (nm)\",size=14) #assign the y label\n",
    "axes[0].axvline(x = 200, color = 'r', label = 'detach')\n",
    "axes[1].axvline(x = 200, color = 'r', label = 'detach')\n",
    "plt.tight_layout()\n",
    "# if you want to save the figure, uncomment the following line\n",
    "#plot.savefig(\"subplot_force_disp.png\",format=\"png\", dpi=300)"
   ]
  },
  {
   "cell_type": "markdown",
   "metadata": {
    "slideshow": {
     "slide_type": "subslide"
    }
   },
   "source": [
    "Usually we are interested in the force-displacemnt graph, which allow you to estimate some mechanical properties of the system. \n",
    "\n",
    "**Plot the force-displacement graph using matplotlib.**"
   ]
  },
  {
   "cell_type": "code",
   "execution_count": null,
   "metadata": {},
   "outputs": [],
   "source": [
    "plt.plot(displacement,force)\n",
    "plt.xlabel(\"Displacement (nm)\",size=14) \n",
    "plt.ylabel(\"Force ($kJmol^{-1}nm^{-1}$)\",size=14) \n",
    "plt.title(\"Force-Displacement\")\n",
    "plt.tight_layout()\n",
    "# uncomment the following line to save the figure\n",
    "#plt.savefig(\"force-displacement.png\",format=\"png\", dpi=300)"
   ]
  },
  {
   "cell_type": "markdown",
   "metadata": {},
   "source": [
    "How can we compute the work done by the pulling force? "
   ]
  },
  {
   "cell_type": "markdown",
   "metadata": {
    "slideshow": {
     "slide_type": "subslide"
    }
   },
   "source": [
    "We are also interested in evaluating the energy difference $\\Delta G$ between state A (bound state) and state B (un-bound state). \n",
    "\n",
    "Remember the **Jarzinski equality**: \n",
    "\n",
    "$$\\left<e^{-\\beta {W}}\\right>=e^{-\\beta \\Delta G} \\Longleftrightarrow \\Delta G=-\\frac{1}{\\beta} \\ln \\left<e^{-\\beta {W}}\\right>$$\n",
    "\n",
    "\n",
    "We can extract **equilibrium information ΔG** from the ensemble of **non-equilibrium (finite-time) measurements**.\n",
    "\n",
    "**Note:** We should run multiple indipendent SMD simulation to properly evaluate the average of the WORK to go from A to B. For this exercise, we will only use a single SMD simulation for simplicity."
   ]
  },
  {
   "cell_type": "code",
   "execution_count": null,
   "metadata": {
    "slideshow": {
     "slide_type": "subslide"
    }
   },
   "outputs": [],
   "source": [
    "# evaluate work done by the force\n",
    "import numpy as np\n",
    "\n",
    "work =  []\n",
    "for i in displacement:      \n",
    "    # calculate work\n",
    "    work.append(np.trapz(force[displacement<=i],displacement[displacement<=i]))\n",
    "# convert to numpy array\n",
    "work = np.array(work)\n",
    "\n",
    "# calculate the free energy\n",
    "temperature = 300 # K\n",
    "boltzmann = 8.314 # J/mol/K\n",
    "beta = 1/(boltzmann*temperature)\n",
    "free_energy = -1/beta*np.log(np.exp(-beta*work))\n",
    "\n",
    "plt.plot(displacement,work)\n",
    "plt.xlabel(\"Displacement (nm)\",size=14)\n",
    "plt.ylabel(\"Work (kJ/mol)\",size=14)\n",
    "plt.title(\"Work-Displacement\")\n",
    "plt.tight_layout()\n",
    "# uncomment the following line to save the figure\n",
    "#plt.savefig(\"work-displacement.png\",format=\"png\", dpi=300)"
   ]
  },
  {
   "cell_type": "code",
   "execution_count": null,
   "metadata": {
    "slideshow": {
     "slide_type": "subslide"
    }
   },
   "outputs": [],
   "source": [
    "# print the results\n",
    "print(f\"Total work done by the force {work[-1]:.2f} kJ/mol\")\n",
    "print(f\"ΔG = {free_energy[-1]:.2f} kJ/mol\")"
   ]
  },
  {
   "cell_type": "markdown",
   "metadata": {},
   "source": [
    "Note that in this case the free energy is equal to the work done since we only perform a single simulation."
   ]
  },
  {
   "cell_type": "markdown",
   "metadata": {
    "slideshow": {
     "slide_type": "slide"
    }
   },
   "source": [
    "## Additional Materials"
   ]
  },
  {
   "cell_type": "markdown",
   "metadata": {},
   "source": [
    "***Note that the following steps are really computational demanding! You should consider to use the already calculated outputs from the google drive folder!***"
   ]
  },
  {
   "cell_type": "code",
   "execution_count": null,
   "metadata": {},
   "outputs": [],
   "source": [
    "%%bash \n",
    "mkdir -p 03-multiple_pull\n",
    "cd 03-multiple_pull\n",
    "gdown --folder https://drive.google.com/drive/folders/1i4KyCZB0a3Ln1SKuXcl2GXj4zceP_09U?usp=share_link\n",
    "gdown --folder https://drive.google.com/drive/folders/1_9jm4lhWop8Revp49FiIgVy3EfT0gSCX?usp=share_link\n",
    "gdown --folder https://drive.google.com/drive/folders/1zmtdbKhV4SHCTj6-AQcUc8PnArfs_rfT?usp=share_link\n",
    "gdown --folder https://drive.google.com/drive/folders/1GXMMNymYGyhGWMdQAmGS2DBn1_CpkP7J?usp=share_link\n",
    "gdown --folder https://drive.google.com/drive/folders/1_6M3w9sArjt5XlXUVmpNsNBMgRtPnn2p?usp=share_link\n",
    "gdown --folder https://drive.google.com/drive/folders/1CO6LLYJl40MRJXamJRAP5OOub-6aJCwo?usp=share_link\n",
    "gdown --folder https://drive.google.com/drive/folders/1zIatq9nV6AF6Pxvlv2n9MjXYqQRWrcQJ?usp=share_link\n",
    "gdown --folder https://drive.google.com/drive/folders/16z8IEFCSKDjkt8qXbtLL3I8g-Z1cgO_T?usp=share_link\n",
    "gdown --folder https://drive.google.com/drive/folders/1d6q8IqwDuBVmDKS2ku58NKSdukz_Xwk8?usp=share_link\n",
    "gdown --folder https://drive.google.com/drive/folders/1mceU53iFBvyMljxUVl-PTJBuwEr4wnvr?usp=share_link"
   ]
  },
  {
   "cell_type": "markdown",
   "metadata": {
    "slideshow": {
     "slide_type": "subslide"
    }
   },
   "source": [
    "If you want to properly perform a SMD simulation using multiple simulation replicas to properly evaluate the free energy difference with Jarzynski, you should do something like that: "
   ]
  },
  {
   "cell_type": "code",
   "execution_count": null,
   "metadata": {},
   "outputs": [],
   "source": [
    "# create a new directory for pulling multiple times\n",
    "!mkdir -p 03-multiple_pull"
   ]
  },
  {
   "cell_type": "code",
   "execution_count": null,
   "metadata": {},
   "outputs": [],
   "source": [
    "%%bash\n",
    "for i in {1..10}\n",
    "do\n",
    "    # create the directory for the i-esim SMD simulation\n",
    "    mkdir -p 03-multiple_pull/pull_$i\n",
    "\n",
    "    # create equilibration tpr and run equilibration\n",
    "    # each replica has a different velocity distribution (gen-vel=yes in the npt.mdp file)\n",
    "    gmx grompp -f data/npt.mdp -c 00-em/em.gro -p topol.top -r 00-em/em.gro -o 03-multiple_pull/pull_$i/npt.tpr -maxwarn 2 >/dev/null 2>&1\n",
    "    gmx mdrun -deffnm 03-multiple_pull/pull_$i/npt -v >03-multiple_pull/pull_$i/npt_run.out 2>&1 \n",
    "\n",
    "    # run the SMD simulation\n",
    "    gmx grompp -f data/pull.mdp -c 03-multiple_pull/pull_$i/npt.gro -p topol.top -r 03-multiple_pull/pull_$i/npt.gro -n index.ndx -t 03-multiple_pull/pull_$i/npt.cpt -o 03-multiple_pull/pull_$i/pull.tpr -maxwarn 2 >/dev/null 2>&1\n",
    "    gmx mdrun -deffnm 03-multiple_pull/pull_$i/pull -v >03-multiple_pull/pull_$i/pull_run.out 2>&1 \n",
    "\n",
    "done"
   ]
  },
  {
   "cell_type": "code",
   "execution_count": null,
   "metadata": {
    "slideshow": {
     "slide_type": "subslide"
    }
   },
   "outputs": [],
   "source": [
    "import matplotlib.pyplot as plt \n",
    "import numpy as np\n",
    "\n",
    "#load data\n",
    "data_f = []\n",
    "data_d = []\n",
    "forces = []\n",
    "displacements = []\n",
    "\n",
    "# create figure for plot\n",
    "fig,ax = plt.subplots(1,1)\n",
    "\n",
    "# load data for each simulation\n",
    "for i in range(1,11):\n",
    "\n",
    "    # load data\n",
    "    data_f = np.loadtxt(\"03-multiple_pull/pull_\" + str(i) + \"/pull_pullf.xvg\",comments=[\"#\",\"@\"])\n",
    "    data_d = np.loadtxt(\"03-multiple_pull/pull_\" + str(i) + \"/pull_pullx.xvg\",comments=[\"#\",\"@\"])\n",
    "\n",
    "    # retrieve data\n",
    "    time=data_f[:,0] \n",
    "    force = data_f[:,1]\n",
    "    displacement = data_d[:,1]\n",
    "\n",
    "    # append data to lists\n",
    "    forces.append(force)\n",
    "    displacements.append(displacement)\n",
    "\n",
    "    # plot with matplotlib\n",
    "    plt.plot(displacement,force)\n",
    "\n",
    "# convert to numpy arrays\n",
    "forces = np.array(forces)\n",
    "displacements = np.array(displacements)\n",
    "\n",
    "plt.xlabel(\"Displacement (nm)\",size=14) \n",
    "plt.ylabel(\"Force ($kJmol^{-1}nm^{-1}$)\",size=14) \n",
    "plt.title(\"Force-Displacement\")\n",
    "plt.tight_layout()"
   ]
  },
  {
   "cell_type": "code",
   "execution_count": null,
   "metadata": {
    "slideshow": {
     "slide_type": "subslide"
    }
   },
   "outputs": [],
   "source": [
    "temperature = 300 # K\n",
    "boltzmann = 8.314 # J/mol/K\n",
    "#boltzmann = 0.008314 # kJ/mol/K\n",
    "beta = 1/(boltzmann*temperature)\n",
    "\n",
    "works = []\n",
    "boltzmann_fac = []\n",
    "\n",
    "# cycle of simulations\n",
    "for sim in range(1,11):\n",
    "    \n",
    "    displacement = displacements[sim-1]\n",
    "    force = forces[sim-1]\n",
    "\n",
    "    xax = np.arange(0, np.max(displacements), np.max(displacements)/displacements.shape[1])\n",
    "    #xax = np.arange(0, 4, 4/displacements.shape[1])\n",
    "\n",
    "    work =  []\n",
    "    \n",
    "    for i in xax: \n",
    "        \n",
    "        # calculate work\n",
    "        work.append(np.trapz(force[displacement<=i],displacement[displacement<=i]))\n",
    "    \n",
    "    work = np.array(work)\n",
    "    \n",
    "    works.append(work)\n",
    "    boltzmann_fac.append(np.exp(-beta*work))\n",
    "\n",
    "    plt.plot(xax, work, color=\"gray\",ls='dotted') \n",
    "\n",
    "# calculate the free energy\n",
    "mean_boltz_fac = np.mean(np.array(boltzmann_fac), axis=0)\n",
    "\n",
    "# calculate the free energy\n",
    "delta_g = -1/beta*np.log(mean_boltz_fac)\n",
    "plt.plot(xax, delta_g, color=\"red\",ls='solid', label=\"PMF\")\n",
    "plt.xlabel(\"Displacment ($nm$)\")\n",
    "plt.ylabel(\"Energy $kJ*mol^{-1}$\")\n",
    "plt.legend()\n",
    "plt.tight_layout()"
   ]
  }
 ],
 "metadata": {
  "celltoolbar": "Slideshow",
  "colab": {
   "provenance": []
  },
  "kernelspec": {
   "display_name": "Python 3 (ipykernel)",
   "language": "python",
   "name": "python3"
  },
  "language_info": {
   "codemirror_mode": {
    "name": "ipython",
    "version": 3
   },
   "file_extension": ".py",
   "mimetype": "text/x-python",
   "name": "python",
   "nbconvert_exporter": "python",
   "pygments_lexer": "ipython3",
   "version": "3.10.6"
  },
  "rise": {
   "scroll": true
  },
  "toc": {
   "base_numbering": 1,
   "nav_menu": {
    "height": "446px",
    "width": "376px"
   },
   "number_sections": false,
   "sideBar": true,
   "skip_h1_title": false,
   "title_cell": "Table of Contents",
   "title_sidebar": "Contents",
   "toc_cell": false,
   "toc_position": {},
   "toc_section_display": true,
   "toc_window_display": false
  },
  "vscode": {
   "interpreter": {
    "hash": "bf90b27f9c6c09f085682840ae4a1960aaae1ae95af3b8fc1521325adcd821df"
   }
  }
 },
 "nbformat": 4,
 "nbformat_minor": 1
}
