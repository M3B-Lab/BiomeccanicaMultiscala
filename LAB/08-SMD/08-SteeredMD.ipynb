{
 "cells": [
  {
   "cell_type": "markdown",
   "metadata": {
    "slideshow": {
     "slide_type": "slide"
    }
   },
   "source": [
    "<a href=\"https://colab.research.google.com/github/lorenzopallante/BiomeccanicaMultiscala/blob/main/LAB/08-SMD/08-SteeredMD.ipynb\" target=\"_parent\"><img src=\"https://colab.research.google.com/assets/colab-badge.svg\" alt=\"Open In Colab\"/></a>"
   ]
  },
  {
   "cell_type": "markdown",
   "metadata": {
    "slideshow": {
     "slide_type": "-"
    }
   },
   "source": [
    "# Laboratorio 8\n",
    "**Enhanced Sampling: Steered Molecular Dynamics (SMD)**\n",
    "\n",
    "\n",
    "Authors:\n",
    "    \n",
    "- Prof. Marco A. Deriu (marco.deriu@polito.it)\n",
    "- Lorenzo Pallante (lorenzo.pallante@polito.it)\n",
    "- Eric A. Zizzi (eric.zizzi@polito.it)\n",
    "- Marcello Miceli (marcello.miceli@polito.it)\n",
    "- Marco Cannariato (marco.cannariato@polito.it)"
   ]
  },
  {
   "cell_type": "markdown",
   "metadata": {
    "slideshow": {
     "slide_type": "slide"
    }
   },
   "source": [
    "# Table of Contents\n",
    "\n",
    "1. Gromacs Setup \n",
    "2. Steered Molecular Dynamics (SMD)\n",
    "\n",
    "    2.1 Theory recap <br>\n",
    "    2.2 Practical session\n",
    "    \n",
    "**Learning outcomes:** \n",
    "Understand the basics and the main GROMACS settings to perform a Steered Molecular Dynamics simulation and evaluate results"
   ]
  },
  {
   "cell_type": "markdown",
   "metadata": {
    "id": "owpIBUkna5Ow",
    "slideshow": {
     "slide_type": "slide"
    }
   },
   "source": [
    "# Setup"
   ]
  },
  {
   "cell_type": "markdown",
   "metadata": {},
   "source": [
    "To update the maximum characters limit of the jupyter cells use the following line"
   ]
  },
  {
   "cell_type": "code",
   "execution_count": 1,
   "metadata": {},
   "outputs": [],
   "source": [
    "from notebook.services.config import ConfigManager\n",
    "cm = ConfigManager().update('notebook', {'limit_output': 100000000})"
   ]
  },
  {
   "attachments": {},
   "cell_type": "markdown",
   "metadata": {},
   "source": [
    "Since simulations are quite computational demanding, you should consider to download pre-calculated files in order to be able to follow the tutorial"
   ]
  },
  {
   "cell_type": "code",
   "execution_count": null,
   "metadata": {},
   "outputs": [],
   "source": [
    "!gdown --folder https://drive.google.com/drive/folders/1-bwDa_PLRSbaj6Lh2x9xy1vfjsE6jThU?usp=share_link &> /dev/null"
   ]
  },
  {
   "cell_type": "code",
   "execution_count": null,
   "metadata": {},
   "outputs": [],
   "source": [
    "# uncomment to copy the files to the current directory\n",
    "#!mv SMD_solutions/* ."
   ]
  },
  {
   "cell_type": "markdown",
   "metadata": {
    "slideshow": {
     "slide_type": "subslide"
    }
   },
   "source": [
    "If you don't have GROMACS and NGLView installed on your machine or if you are using **Google COLAB**, run the following lines\n",
    "\n",
    "**This lines should be run at the beginning of each laboratory**"
   ]
  },
  {
   "cell_type": "code",
   "execution_count": null,
   "metadata": {
    "cellView": "form",
    "executionInfo": {
     "elapsed": 16217,
     "status": "ok",
     "timestamp": 1662116875669,
     "user": {
      "displayName": "Lorenzo Pallante",
      "userId": "15223561348967771574"
     },
     "user_tz": -120
    },
    "id": "B8_MjDYnhDwh",
    "slideshow": {
     "slide_type": "-"
    }
   },
   "outputs": [],
   "source": [
    "#@title Installing GROMACS\n",
    "!apt install gromacs &> /dev/null"
   ]
  },
  {
   "cell_type": "code",
   "execution_count": null,
   "metadata": {
    "cellView": "form",
    "executionInfo": {
     "elapsed": 16985,
     "status": "ok",
     "timestamp": 1662116892987,
     "user": {
      "displayName": "Lorenzo Pallante",
      "userId": "15223561348967771574"
     },
     "user_tz": -120
    },
    "id": "C2hA7f_MEF5K",
    "slideshow": {
     "slide_type": "-"
    }
   },
   "outputs": [],
   "source": [
    "#@title Installing NGLview\n",
    "!pip install nglview  &> /dev/null\n",
    "!pip install simpletraj  &> /dev/null\n",
    "from google.colab import output\n",
    "output.enable_custom_widget_manager()"
   ]
  },
  {
   "cell_type": "markdown",
   "metadata": {},
   "source": [
    "Clone files form GitHub if you are using COLAB"
   ]
  },
  {
   "cell_type": "code",
   "execution_count": null,
   "metadata": {},
   "outputs": [],
   "source": [
    "# IF YOU ARE USING COLAB EXECUTE THIS CELL (to copy over data repository)\n",
    "!git clone https://github.com/lorenzopallante/BiomeccanicaMultiscala.git\n",
    "!mv BiomeccanicaMultiscala/LAB/08-SMD/* ."
   ]
  },
  {
   "attachments": {},
   "cell_type": "markdown",
   "metadata": {},
   "source": [
    "If you want to download also already calculated solutions, you should run the following cell:"
   ]
  },
  {
   "cell_type": "code",
   "execution_count": 1,
   "metadata": {},
   "outputs": [],
   "source": [
    "#@title Installing gdown and downloading solutions\n",
    "!pip install gdown &> /dev/null\n",
    "!gdown --folder https://drive.google.com/drive/folders/1-bwDa_PLRSbaj6Lh2x9xy1vfjsE6jThU?usp=share_link &> /dev/null"
   ]
  },
  {
   "cell_type": "markdown",
   "metadata": {
    "id": "D6nSkKIS8r53",
    "slideshow": {
     "slide_type": "slide"
    }
   },
   "source": [
    "# Steered Molecular Dynamics (SMD)"
   ]
  },
  {
   "cell_type": "markdown",
   "metadata": {
    "slideshow": {
     "slide_type": "subslide"
    }
   },
   "source": [
    "## Theory Recap"
   ]
  },
  {
   "cell_type": "markdown",
   "metadata": {},
   "source": [
    "**Steered Molecular Dynamcis (SMD)** applies external steering forces, applying a **constraint** (e.g. a harmonic potential), that moves along a prescribed path in the configuration space in the right direction to accelerate processes that otherwise, due to energy barriers, are too slow, overtaking the limitation of the nanosecond time scale usual in classical molecular dynamics, which is seldom long enough to observe relevant processes.\n",
    "\n",
    "In order to guarantee that the reaction coordinate closely follows the **constraint positions**, the force constant F must be sufficiently large, which is called the **stiff-spring approximation theory**:\n",
    "\n",
    "\n",
    "$$\n",
    "\\begin{aligned}\n",
    "& F(t)=2 k(v t-s(t)) \\\\\n",
    "& W(x(t))=\\int_0^{x(t)} F(t) d x(t)\n",
    "\\end{aligned}\n",
    "$$"
   ]
  },
  {
   "cell_type": "markdown",
   "metadata": {},
   "source": [
    "<center><img src=\"imgs/SMD_scheme.png\" width=\"500\"></center>"
   ]
  },
  {
   "cell_type": "markdown",
   "metadata": {
    "slideshow": {
     "slide_type": "subslide"
    }
   },
   "source": [
    "In a typical investigation of a molecular process, the **reaction path**, along which the process proceeds in the configurational space, is identified (or hypothesized) and the process progress is described by the **reaction coordinate**.\n",
    "\n",
    "The **potential of mean force (PMF)** is basically the ***free energy profile along the reaction coordinate***. PMF is determined through the Boltzmann-weighted average over all degrees of freedom other than the reaction coordinate. ​\n",
    "\n",
    "<center><img src=\"imgs/PMF.png\" width=\"500\"></center>\n",
    "\n",
    "SMD simulations are non-equilibrium processes, but PMF is an equilibrium property. The **Jarzynski’s equality** ***connects equilibrium and non-equilibrium***\n",
    "\n",
    "$$\\left<e^{-\\beta {W}}\\right>=e^{-\\beta \\Delta G} \\Longleftrightarrow \\Delta G=-\\frac{1}{\\beta} \\ln \\left<e^{-\\beta {W}}\\right>$$\n"
   ]
  },
  {
   "cell_type": "markdown",
   "metadata": {
    "slideshow": {
     "slide_type": "subslide"
    }
   },
   "source": [
    "## Practical Session"
   ]
  },
  {
   "cell_type": "markdown",
   "metadata": {},
   "source": [
    "Basically, the steps to perform a SMD simulation are the same like in a standard MD simulation. We'll need only to add a bias potential during the production of the MD. "
   ]
  },
  {
   "cell_type": "markdown",
   "metadata": {},
   "source": [
    "<center><img src=\"imgs/MD_FlowChart.png\" width=\"500\"></center>"
   ]
  },
  {
   "cell_type": "markdown",
   "metadata": {},
   "source": [
    "A detailed tutorial on SMD is also available in the first part of the Umbrella Sampling tutorial by Justin A. Lemkul, Ph.D.(http://www.mdtutorials.com/gmx/umbrella/index.html)"
   ]
  },
  {
   "cell_type": "markdown",
   "metadata": {
    "slideshow": {
     "slide_type": "subslide"
    }
   },
   "source": [
    "### Step 1 - Get the PDB"
   ]
  },
  {
   "cell_type": "markdown",
   "metadata": {},
   "source": [
    "In this tutorial, we will use the PDB code [2BEG](https://www.rcsb.org/structure/2BEG) which is the 3D Structure of Alzheimer's Abeta(1-42) fibrils.  The structure file of the wild-type Aβ42 protofibril used in those simulations, acetylated at the N-terminus of each chain, can be found [here](http://www.mdtutorials.com/gmx/umbrella/Files/2BEG_model1_capped.pdb)\n",
    "\n",
    "Let's have a look to the system: "
   ]
  },
  {
   "cell_type": "code",
   "execution_count": 7,
   "metadata": {},
   "outputs": [
    {
     "name": "stdout",
     "output_type": "stream",
     "text": [
      "--2022-12-20 15:45:29--  http://www.mdtutorials.com/gmx/umbrella/Files/2BEG_model1_capped.pdb\n",
      "Risoluzione di www.mdtutorials.com (www.mdtutorials.com)... 13.59.3.21\n",
      "Connessione a www.mdtutorials.com (www.mdtutorials.com)|13.59.3.21|:80... connesso.\n",
      "Richiesta HTTP inviata, in attesa di risposta... 200 OK\n",
      "Lunghezza: 75951 (74K) [chemical/x-pdb]\n",
      "Salvataggio in: \"data/2BEG_model1_capped.pdb.2\"\n",
      "\n",
      "2BEG_model1_capped. 100%[===================>]  74,17K   276KB/s    in 0,3s    \n",
      "\n",
      "2022-12-20 15:45:30 (276 KB/s) - \"data/2BEG_model1_capped.pdb.2\" salvato [75951/75951]\n",
      "\n"
     ]
    }
   ],
   "source": [
    "# download file from the RCSB database and store in the data/SMD folder\n",
    "!wget -P data/ http://www.mdtutorials.com/gmx/umbrella/Files/2BEG_model1_capped.pdb"
   ]
  },
  {
   "cell_type": "code",
   "execution_count": 8,
   "metadata": {
    "slideshow": {
     "slide_type": "-"
    }
   },
   "outputs": [
    {
     "data": {
      "application/vnd.jupyter.widget-view+json": {
       "model_id": "183e4a94a96843e6b6d46a46c2afabc9",
       "version_major": 2,
       "version_minor": 0
      },
      "text/plain": []
     },
     "metadata": {},
     "output_type": "display_data"
    },
    {
     "data": {
      "application/vnd.jupyter.widget-view+json": {
       "model_id": "c0ba7f4fc73d4ac98e33a1e9f4a79adc",
       "version_major": 2,
       "version_minor": 0
      },
      "text/plain": [
       "NGLWidget()"
      ]
     },
     "metadata": {},
     "output_type": "display_data"
    }
   ],
   "source": [
    "# display with nglview\n",
    "import nglview as nv\n",
    "from IPython.display import IFrame\n",
    "\n",
    "with open(\"data/2BEG_model1_capped.pdb\") as f:\n",
    "    view = nv.show_file(f, ext=\"pdb\")\n",
    "view"
   ]
  },
  {
   "cell_type": "markdown",
   "metadata": {},
   "source": [
    "The PDB contains 5 monomers (chains) arranged in a U-shaped way and interacting with non-bonded interactions. "
   ]
  },
  {
   "cell_type": "markdown",
   "metadata": {
    "slideshow": {
     "slide_type": "subslide"
    }
   },
   "source": [
    "If you are more curious about this type of aggregates have a look at some publications from our group:\n",
    "\n",
    "1. Grasso, Gianvito, Martina Rebella, Umberto Morbiducci, Jack A. Tuszynski, Andrea Danani, e Marco A. Deriu. «The Role of Structural Polymorphism in Driving the Mechanical Performance of the Alzheimer’s Beta Amyloid Fibrils». Frontiers in Bioengineering and Biotechnology 7 (24 aprile 2019): 83. https://doi.org/10.3389/fbioe.2019.00083.\n",
    "\n",
    "2. Grasso, Gianvito, Martina Rebella, Stefano Muscat, Umberto Morbiducci, Jack Tuszynski, Andrea Danani, e Marco Deriu. «Conformational Dynamics and Stability of U-Shaped and S-Shaped Amyloid β Assemblies». International Journal of Molecular Sciences 19, fasc. 2 (14 febbraio 2018): 571. https://doi.org/10.3390/ijms19020571.\n",
    "\n",
    "3. Miceli, Marcello, Stefano Muscat, Umberto Morbiducci, Marco Cavaglià, e Marco Agostino Deriu. «Ultrasonic Waves Effect on S-Shaped β-Amyloids Conformational Dynamics by Non-Equilibrium Molecular Dynamics». Journal of Molecular Graphics and Modelling 96 (maggio 2020): 107518. https://doi.org/10.1016/j.jmgm.2019.107518.\n",
    "\n",
    "4. Muscat, Stefano, Lorenzo Pallante, Filip Stojceski, Andrea Danani, Gianvito Grasso, e Marco Agostino Deriu. «The Impact of Natural Compounds on S-Shaped Aβ42 Fibril: From Molecular Docking to Biophysical Characterization». International Journal of Molecular Sciences 21, fasc. 6 (16 marzo 2020): 2017. https://doi.org/10.3390/ijms21062017.\n",
    "\n",
    "\n",
    "**The system we will consider for this tutorial is the dissociation of a single peptide from the growing end of an Aβ42 protofibril**"
   ]
  },
  {
   "cell_type": "markdown",
   "metadata": {
    "slideshow": {
     "slide_type": "subslide"
    }
   },
   "source": [
    "### Step 2 - Prepare GMX Topology"
   ]
  },
  {
   "cell_type": "markdown",
   "metadata": {
    "slideshow": {
     "slide_type": "-"
    }
   },
   "source": [
    "First, we need to create the protein topology.. \n",
    "\n",
    "**Which is the GROMACS command to create the protein topology?**"
   ]
  },
  {
   "cell_type": "code",
   "execution_count": 10,
   "metadata": {
    "slideshow": {
     "slide_type": "fragment"
    }
   },
   "outputs": [
    {
     "name": "stdout",
     "output_type": "stream",
     "text": [
      "                 :-) GROMACS - gmx pdb2gmx, 2020.6-MODIFIED (-:\n",
      "\n",
      "                            GROMACS is written by:\n",
      "     Emile Apol      Rossen Apostolov      Paul Bauer     Herman J.C. Berendsen\n",
      "    Par Bjelkmar      Christian Blau   Viacheslav Bolnykh     Kevin Boyd    \n",
      " Aldert van Buuren   Rudi van Drunen     Anton Feenstra       Alan Gray     \n",
      "  Gerrit Groenhof     Anca Hamuraru    Vincent Hindriksen  M. Eric Irrgang  \n",
      "  Aleksei Iupinov   Christoph Junghans     Joe Jordan     Dimitrios Karkoulis\n",
      "    Peter Kasson        Jiri Kraus      Carsten Kutzner      Per Larsson    \n",
      "  Justin A. Lemkul    Viveca Lindahl    Magnus Lundborg     Erik Marklund   \n",
      "    Pascal Merz     Pieter Meulenhoff    Teemu Murtola       Szilard Pall   \n",
      "    Sander Pronk      Roland Schulz      Michael Shirts    Alexey Shvetsov  \n",
      "   Alfons Sijbers     Peter Tieleman      Jon Vincent      Teemu Virolainen \n",
      " Christian Wennberg    Maarten Wolf      Artem Zhmurov   \n",
      "                           and the project leaders:\n",
      "        Mark Abraham, Berk Hess, Erik Lindahl, and David van der Spoel\n",
      "\n",
      "Copyright (c) 1991-2000, University of Groningen, The Netherlands.\n",
      "Copyright (c) 2001-2019, The GROMACS development team at\n",
      "Uppsala University, Stockholm University and\n",
      "the Royal Institute of Technology, Sweden.\n",
      "check out http://www.gromacs.org for more information.\n",
      "\n",
      "GROMACS is free software; you can redistribute it and/or modify it\n",
      "under the terms of the GNU Lesser General Public License\n",
      "as published by the Free Software Foundation; either version 2.1\n",
      "of the License, or (at your option) any later version.\n",
      "\n",
      "GROMACS:      gmx pdb2gmx, version 2020.6-MODIFIED\n",
      "Executable:   /opt/gromacs/2020.6/bin/gmx\n",
      "Data prefix:  /opt/gromacs/2020.6\n",
      "Working dir:  /home/lorenzo/Documenti/GitHub/BiomeccanicaMultiscala/LAB/08-SMD\n",
      "Command line:\n",
      "  gmx pdb2gmx -f data/2BEG_model1_capped.pdb -ignh -ff gromos53a6 -water spc -o complex.gro -ter\n",
      "\n",
      "\n",
      "Using the Gromos53a6 force field in directory gromos53a6.ff\n",
      "\n",
      "going to rename gromos53a6.ff/aminoacids.r2b\n",
      "Opening force field file /opt/gromacs/2020.6/share/gromacs/top/gromos53a6.ff/aminoacids.r2b\n",
      "Reading data/2BEG_model1_capped.pdb...\n",
      "Read 'Gallium Rubidium Oxygen Manganese Argon Carbon Silicon t=   0.00000', 920 atoms\n",
      "Analyzing pdb file\n",
      "Splitting chemical chains based on TER records or chain id changing.\n",
      "There are 5 chains and 0 blocks of water and 135 residues with 920 atoms\n",
      "\n",
      "  chain  #res #atoms\n",
      "  1 'A'    27    184  \n",
      "  2 'B'    27    184  \n",
      "  3 'C'    27    184  \n",
      "  4 'D'    27    184  \n",
      "  5 'E'    27    184  \n",
      "\n",
      "All occupancies are one\n",
      "Opening force field file /opt/gromacs/2020.6/share/gromacs/top/gromos53a6.ff/atomtypes.atp\n",
      "Reading residue database... (Gromos53a6)\n",
      "Opening force field file /opt/gromacs/2020.6/share/gromacs/top/gromos53a6.ff/aminoacids.rtp\n",
      "Using default: not generating all possible dihedrals\n",
      "Using default: excluding 3 bonded neighbors\n",
      "Using default: generating 1,4 H--H interactions\n",
      "Using default: removing proper dihedrals found on the same bond as a proper dihedral\n",
      "Opening force field file /opt/gromacs/2020.6/share/gromacs/top/gromos53a6.ff/aminoacids.hdb\n",
      "Opening force field file /opt/gromacs/2020.6/share/gromacs/top/gromos53a6.ff/aminoacids.n.tdb\n",
      "Opening force field file /opt/gromacs/2020.6/share/gromacs/top/gromos53a6.ff/aminoacids.c.tdb\n",
      "Processing chain 1 'A' (184 atoms, 27 residues)\n",
      "Identified residue ACE1 as a starting terminus.\n",
      "Identified residue ALA27 as a ending terminus.\n",
      "8 out of 8 lines of specbond.dat converted successfully\n",
      "Select start terminus type for ACE-1\n",
      " 0: NH3+\n",
      " 1: NH2\n",
      " 2: None\n",
      "Start terminus ACE-1: None\n",
      "Select end terminus type for ALA-27\n",
      " 0: COO-\n",
      " 1: COOH\n",
      " 2: None\n",
      "End terminus ALA-27: COO-\n",
      "Checking for duplicate atoms....\n",
      "Generating any missing hydrogen atoms and/or adding termini.\n",
      "Now there are 27 residues with 226 atoms\n",
      "Chain time...\n",
      "Making bonds...\n",
      "Number of bonds was 229, now 227\n",
      "Generating angles, dihedrals and pairs...\n",
      "\n",
      "WARNING: WARNING: Residue 27 named ALA of a molecule in the input file was mapped\n",
      "to an entry in the topology database, but the atom O used in\n",
      "an interaction of type angle in that entry is not found in the\n",
      "input file. Perhaps your atom and/or residue naming needs to be\n",
      "fixed.\n",
      "\n",
      "\n",
      "Before cleaning: 378 pairs\n",
      "Before cleaning: 426 dihedrals\n",
      "Making cmap torsions...\n",
      "There are  115 dihedrals,  112 impropers,  331 angles\n",
      "           378 pairs,      227 bonds and     0 virtual sites\n",
      "Total mass 2617.110 a.m.u.\n",
      "Total charge -2.000 e\n",
      "Writing topology\n",
      "Processing chain 2 'B' (184 atoms, 27 residues)\n",
      "Identified residue ACE28 as a starting terminus.\n",
      "Identified residue ALA54 as a ending terminus.\n",
      "8 out of 8 lines of specbond.dat converted successfully\n",
      "Select start terminus type for ACE-28\n",
      " 0: NH3+\n",
      " 1: NH2\n",
      " 2: None\n",
      "Start terminus ACE-28: None\n",
      "Select end terminus type for ALA-54\n",
      " 0: COO-\n",
      " 1: COOH\n",
      " 2: None\n",
      "End terminus ALA-54: COO-\n",
      "Checking for duplicate atoms....\n",
      "Generating any missing hydrogen atoms and/or adding termini.\n",
      "Now there are 27 residues with 226 atoms\n",
      "Chain time...\n",
      "Making bonds...\n",
      "Number of bonds was 229, now 227\n",
      "Generating angles, dihedrals and pairs...\n",
      "\n",
      "WARNING: WARNING: Residue 27 named ALA of a molecule in the input file was mapped\n",
      "to an entry in the topology database, but the atom O used in\n",
      "an interaction of type angle in that entry is not found in the\n",
      "input file. Perhaps your atom and/or residue naming needs to be\n",
      "fixed.\n",
      "\n",
      "\n",
      "Before cleaning: 378 pairs\n",
      "Before cleaning: 426 dihedrals\n",
      "Making cmap torsions...\n",
      "There are  115 dihedrals,  112 impropers,  331 angles\n",
      "           378 pairs,      227 bonds and     0 virtual sites\n",
      "Total mass 2617.110 a.m.u.\n",
      "Total charge -2.000 e\n",
      "Writing topology\n",
      "Processing chain 3 'C' (184 atoms, 27 residues)\n",
      "Identified residue ACE55 as a starting terminus.\n",
      "Identified residue ALA81 as a ending terminus.\n",
      "8 out of 8 lines of specbond.dat converted successfully\n",
      "Select start terminus type for ACE-55\n",
      " 0: NH3+\n",
      " 1: NH2\n",
      " 2: None\n",
      "Start terminus ACE-55: None\n",
      "Select end terminus type for ALA-81\n",
      " 0: COO-\n",
      " 1: COOH\n",
      " 2: None\n",
      "End terminus ALA-81: COO-\n",
      "Checking for duplicate atoms....\n",
      "Generating any missing hydrogen atoms and/or adding termini.\n",
      "Now there are 27 residues with 226 atoms\n",
      "Chain time...\n",
      "Making bonds...\n",
      "Number of bonds was 229, now 227\n",
      "Generating angles, dihedrals and pairs...\n",
      "\n",
      "WARNING: WARNING: Residue 27 named ALA of a molecule in the input file was mapped\n",
      "to an entry in the topology database, but the atom O used in\n",
      "an interaction of type angle in that entry is not found in the\n",
      "input file. Perhaps your atom and/or residue naming needs to be\n",
      "fixed.\n",
      "\n",
      "\n",
      "Before cleaning: 378 pairs\n",
      "Before cleaning: 426 dihedrals\n",
      "Making cmap torsions...\n",
      "There are  115 dihedrals,  112 impropers,  331 angles\n",
      "           378 pairs,      227 bonds and     0 virtual sites\n",
      "Total mass 2617.110 a.m.u.\n",
      "Total charge -2.000 e\n",
      "Writing topology\n",
      "Processing chain 4 'D' (184 atoms, 27 residues)\n",
      "Identified residue ACE82 as a starting terminus.\n",
      "Identified residue ALA108 as a ending terminus.\n",
      "8 out of 8 lines of specbond.dat converted successfully\n",
      "Select start terminus type for ACE-82\n",
      " 0: NH3+\n",
      " 1: NH2\n",
      " 2: None\n",
      "Start terminus ACE-82: None\n",
      "Select end terminus type for ALA-108\n",
      " 0: COO-\n",
      " 1: COOH\n",
      " 2: None\n",
      "End terminus ALA-108: COO-\n",
      "Checking for duplicate atoms....\n",
      "Generating any missing hydrogen atoms and/or adding termini.\n",
      "Now there are 27 residues with 226 atoms\n",
      "Chain time...\n",
      "Making bonds...\n",
      "Number of bonds was 229, now 227\n",
      "Generating angles, dihedrals and pairs...\n",
      "\n",
      "WARNING: WARNING: Residue 27 named ALA of a molecule in the input file was mapped\n",
      "to an entry in the topology database, but the atom O used in\n",
      "an interaction of type angle in that entry is not found in the\n",
      "input file. Perhaps your atom and/or residue naming needs to be\n",
      "fixed.\n",
      "\n",
      "\n",
      "Before cleaning: 378 pairs\n",
      "Before cleaning: 426 dihedrals\n",
      "Making cmap torsions...\n",
      "There are  115 dihedrals,  112 impropers,  331 angles\n",
      "           378 pairs,      227 bonds and     0 virtual sites\n",
      "Total mass 2617.110 a.m.u.\n",
      "Total charge -2.000 e\n",
      "Writing topology\n",
      "Processing chain 5 'E' (184 atoms, 27 residues)\n",
      "Identified residue ACE109 as a starting terminus.\n",
      "Identified residue ALA135 as a ending terminus.\n",
      "8 out of 8 lines of specbond.dat converted successfully\n",
      "Select start terminus type for ACE-109\n",
      " 0: NH3+\n",
      " 1: NH2\n",
      " 2: None\n",
      "Start terminus ACE-109: None\n",
      "Select end terminus type for ALA-135\n",
      " 0: COO-\n",
      " 1: COOH\n",
      " 2: None\n",
      "End terminus ALA-135: COO-\n",
      "Checking for duplicate atoms....\n",
      "Generating any missing hydrogen atoms and/or adding termini.\n",
      "Now there are 27 residues with 226 atoms\n",
      "Chain time...\n",
      "Making bonds...\n",
      "Number of bonds was 229, now 227\n",
      "Generating angles, dihedrals and pairs...\n",
      "\n",
      "WARNING: WARNING: Residue 27 named ALA of a molecule in the input file was mapped\n",
      "to an entry in the topology database, but the atom O used in\n",
      "an interaction of type angle in that entry is not found in the\n",
      "input file. Perhaps your atom and/or residue naming needs to be\n",
      "fixed.\n",
      "\n",
      "\n",
      "Before cleaning: 378 pairs\n",
      "Before cleaning: 426 dihedrals\n",
      "Making cmap torsions...\n",
      "There are  115 dihedrals,  112 impropers,  331 angles\n",
      "           378 pairs,      227 bonds and     0 virtual sites\n",
      "Total mass 2617.110 a.m.u.\n",
      "Total charge -2.000 e\n",
      "Writing topology\n",
      "Including chain 1 in system: 226 atoms 27 residues\n",
      "Including chain 2 in system: 226 atoms 27 residues\n",
      "Including chain 3 in system: 226 atoms 27 residues\n",
      "Including chain 4 in system: 226 atoms 27 residues\n",
      "Including chain 5 in system: 226 atoms 27 residues\n",
      "Now there are 1130 atoms and 135 residues\n",
      "Total mass in system 13085.551 a.m.u.\n",
      "Total charge in system -10.000 e\n",
      "\n",
      "Writing coordinate file...\n",
      "\t\t--------- PLEASE NOTE ------------\n",
      "You have successfully generated a topology from: data/2BEG_model1_capped.pdb.\n",
      "The Gromos53a6 force field and the spc water model are used.\n",
      "\t\t--------- ETON ESAELP ------------\n",
      "\n",
      "GROMACS reminds you: \"As Always Your Logic Is Impeccable\" (Tuvok)\n",
      "\n"
     ]
    }
   ],
   "source": [
    "!echo -e \"2 0 2 0 2 0 2 0 2 0\" | gmx pdb2gmx -f data/2BEG_model1_capped.pdb -ignh -ff gromos53a6 -water spc -o complex.gro -ter"
   ]
  },
  {
   "cell_type": "markdown",
   "metadata": {},
   "source": [
    "**Note**: we needed to specify the N- and C-terminus of each chain since they were missing in the original structure"
   ]
  },
  {
   "cell_type": "markdown",
   "metadata": {
    "slideshow": {
     "slide_type": "subslide"
    }
   },
   "source": [
    "Now we have to modify the chain B protein to add a particular set of **position restraints**. \n",
    "Add the following lines at the end of the file topol_Protein_chain_B.itp: \n",
    "\n",
    ">#ifdef POSRES_B <br>\n",
    ">#include \"posre_Protein_chain_B.itp\" <br>\n",
    ">#endif\n",
    "\n",
    "***We will be using chain B as an immobile reference later on in the pulling simulations, hence the need to specially position-restrain this chain only, and none of the others.***"
   ]
  },
  {
   "cell_type": "code",
   "execution_count": 11,
   "metadata": {},
   "outputs": [],
   "source": [
    "%%bash\n",
    "echo '\n",
    "#ifdef POSRES_B\n",
    "#include \"posre_Protein_chain_B.itp\"\n",
    "#endif\n",
    "'>>topol_Protein_chain_B.itp"
   ]
  },
  {
   "cell_type": "markdown",
   "metadata": {
    "slideshow": {
     "slide_type": "subslide"
    }
   },
   "source": [
    "### Step 3 - Generate Box"
   ]
  },
  {
   "cell_type": "markdown",
   "metadata": {},
   "source": [
    "One must allow enough space in the pulling direction to allow for a continuous pull without interacting with the periodic images of the system. \n",
    "\n",
    "That is, the **minimum image convention** must be continually satisfied, and as well, the pull distance must always be less than one-half the length of the box vector along which the pulling is being conducted.\n",
    "\n",
    "This, if you have a 10-nm box, and you pull over a distance greater than 5.0 nm, the periodic distance becomes the reference distance for the pulling, and this distance is actually less than 5.0 nm!\n",
    "\n",
    "We will be pulling a total distance of 5.0 nm in a 12.0-nm box, to avoid the complications described above. The center of mass of the protofibril will be placed at (3.280, 2.181, 2.4775) in a box of dimensions 6.560 x 4.362 x 12. Use editconf to place the protofibril at this location:"
   ]
  },
  {
   "cell_type": "code",
   "execution_count": 12,
   "metadata": {
    "scrolled": true
   },
   "outputs": [
    {
     "name": "stdout",
     "output_type": "stream",
     "text": [
      "                :-) GROMACS - gmx editconf, 2020.6-MODIFIED (-:\r\n",
      "\r\n",
      "                            GROMACS is written by:\r\n",
      "     Emile Apol      Rossen Apostolov      Paul Bauer     Herman J.C. Berendsen\r\n",
      "    Par Bjelkmar      Christian Blau   Viacheslav Bolnykh     Kevin Boyd    \r\n",
      " Aldert van Buuren   Rudi van Drunen     Anton Feenstra       Alan Gray     \r\n",
      "  Gerrit Groenhof     Anca Hamuraru    Vincent Hindriksen  M. Eric Irrgang  \r\n",
      "  Aleksei Iupinov   Christoph Junghans     Joe Jordan     Dimitrios Karkoulis\r\n",
      "    Peter Kasson        Jiri Kraus      Carsten Kutzner      Per Larsson    \r\n",
      "  Justin A. Lemkul    Viveca Lindahl    Magnus Lundborg     Erik Marklund   \r\n",
      "    Pascal Merz     Pieter Meulenhoff    Teemu Murtola       Szilard Pall   \r\n",
      "    Sander Pronk      Roland Schulz      Michael Shirts    Alexey Shvetsov  \r\n",
      "   Alfons Sijbers     Peter Tieleman      Jon Vincent      Teemu Virolainen \r\n",
      " Christian Wennberg    Maarten Wolf      Artem Zhmurov   \r\n",
      "                           and the project leaders:\r\n",
      "        Mark Abraham, Berk Hess, Erik Lindahl, and David van der Spoel\r\n",
      "\r\n",
      "Copyright (c) 1991-2000, University of Groningen, The Netherlands.\r\n",
      "Copyright (c) 2001-2019, The GROMACS development team at\r\n",
      "Uppsala University, Stockholm University and\r\n",
      "the Royal Institute of Technology, Sweden.\r\n",
      "check out http://www.gromacs.org for more information.\r\n",
      "\r\n",
      "GROMACS is free software; you can redistribute it and/or modify it\r\n",
      "under the terms of the GNU Lesser General Public License\r\n",
      "as published by the Free Software Foundation; either version 2.1\r\n",
      "of the License, or (at your option) any later version.\r\n",
      "\r\n",
      "GROMACS:      gmx editconf, version 2020.6-MODIFIED\r\n",
      "Executable:   /opt/gromacs/2020.6/bin/gmx\r\n",
      "Data prefix:  /opt/gromacs/2020.6\r\n",
      "Working dir:  /home/lorenzo/Documenti/GitHub/BiomeccanicaMultiscala/LAB/08-SMD\r\n",
      "Command line:\r\n",
      "  gmx editconf -f complex.gro -o newbox.gro -center 3.280 2.181 2.4775 -box 6.560 4.362 12\r\n",
      "\r\n",
      "Note that major changes are planned in future for editconf, to improve usability and utility.\r\n",
      "Read 1130 atoms\r\n",
      "Volume: 330.011 nm^3, corresponds to roughly 148500 electrons\r\n",
      "No velocities found\r\n",
      "    system size :  4.266  2.346  2.936 (nm)\r\n",
      "    center      :  3.449  3.460  3.457 (nm)\r\n",
      "    box vectors :  6.911  6.911  6.911 (nm)\r\n",
      "    box angles  :  90.00  90.00  90.00 (degrees)\r\n",
      "    box volume  : 330.01               (nm^3)\r\n",
      "    shift       : -0.169 -1.279 -0.980 (nm)\r\n",
      "new center      :  3.280  2.181  2.477 (nm)\r\n",
      "new box vectors :  6.560  4.362 12.000 (nm)\r\n",
      "new box angles  :  90.00  90.00  90.00 (degrees)\r\n",
      "new box volume  : 343.38               (nm^3)\r\n",
      "\r\n",
      "GROMACS reminds you: \"We haven't the money, so we've got to think.\" (Ernest Rutherford)\r\n",
      "\r\n"
     ]
    }
   ],
   "source": [
    "!gmx editconf -f complex.gro -o newbox.gro -center 3.280 2.181 2.4775 -box 6.560 4.362 12"
   ]
  },
  {
   "cell_type": "markdown",
   "metadata": {},
   "source": [
    "Check the **box** with **VMD** to check if it is set properly!"
   ]
  },
  {
   "cell_type": "markdown",
   "metadata": {
    "slideshow": {
     "slide_type": "subslide"
    }
   },
   "source": [
    "### Step 4 - Add Water"
   ]
  },
  {
   "cell_type": "code",
   "execution_count": 13,
   "metadata": {
    "scrolled": true
   },
   "outputs": [
    {
     "name": "stdout",
     "output_type": "stream",
     "text": [
      "                 :-) GROMACS - gmx solvate, 2020.6-MODIFIED (-:\n",
      "\n",
      "                            GROMACS is written by:\n",
      "     Emile Apol      Rossen Apostolov      Paul Bauer     Herman J.C. Berendsen\n",
      "    Par Bjelkmar      Christian Blau   Viacheslav Bolnykh     Kevin Boyd    \n",
      " Aldert van Buuren   Rudi van Drunen     Anton Feenstra       Alan Gray     \n",
      "  Gerrit Groenhof     Anca Hamuraru    Vincent Hindriksen  M. Eric Irrgang  \n",
      "  Aleksei Iupinov   Christoph Junghans     Joe Jordan     Dimitrios Karkoulis\n",
      "    Peter Kasson        Jiri Kraus      Carsten Kutzner      Per Larsson    \n",
      "  Justin A. Lemkul    Viveca Lindahl    Magnus Lundborg     Erik Marklund   \n",
      "    Pascal Merz     Pieter Meulenhoff    Teemu Murtola       Szilard Pall   \n",
      "    Sander Pronk      Roland Schulz      Michael Shirts    Alexey Shvetsov  \n",
      "   Alfons Sijbers     Peter Tieleman      Jon Vincent      Teemu Virolainen \n",
      " Christian Wennberg    Maarten Wolf      Artem Zhmurov   \n",
      "                           and the project leaders:\n",
      "        Mark Abraham, Berk Hess, Erik Lindahl, and David van der Spoel\n",
      "\n",
      "Copyright (c) 1991-2000, University of Groningen, The Netherlands.\n",
      "Copyright (c) 2001-2019, The GROMACS development team at\n",
      "Uppsala University, Stockholm University and\n",
      "the Royal Institute of Technology, Sweden.\n",
      "check out http://www.gromacs.org for more information.\n",
      "\n",
      "GROMACS is free software; you can redistribute it and/or modify it\n",
      "under the terms of the GNU Lesser General Public License\n",
      "as published by the Free Software Foundation; either version 2.1\n",
      "of the License, or (at your option) any later version.\n",
      "\n",
      "GROMACS:      gmx solvate, version 2020.6-MODIFIED\n",
      "Executable:   /opt/gromacs/2020.6/bin/gmx\n",
      "Data prefix:  /opt/gromacs/2020.6\n",
      "Working dir:  /home/lorenzo/Documenti/GitHub/BiomeccanicaMultiscala/LAB/08-SMD\n",
      "Command line:\n",
      "  gmx solvate -cp newbox.gro -cs spc216.gro -o solv.gro -p topol.top\n",
      "\n",
      "Reading solute configuration\n",
      "Reading solvent configuration\n",
      "\n",
      "Initialising inter-atomic distances...\n",
      "\n",
      "WARNING: Masses and atomic (Van der Waals) radii will be guessed\n",
      "         based on residue and atom names, since they could not be\n",
      "         definitively assigned from the information in your input\n",
      "         files. These guessed numbers might deviate from the mass\n",
      "         and radius of the atom type. Please check the output\n",
      "         files if necessary.\n",
      "\n",
      "NOTE: From version 5.0 gmx solvate uses the Van der Waals radii\n",
      "from the source below. This means the results may be different\n",
      "compared to previous GROMACS versions.\n",
      "\n",
      "++++ PLEASE READ AND CITE THE FOLLOWING REFERENCE ++++\n",
      "A. Bondi\n",
      "van der Waals Volumes and Radii\n",
      "J. Phys. Chem. 68 (1964) pp. 441-451\n",
      "-------- -------- --- Thank You --- -------- --------\n",
      "\n",
      "Generating solvent configuration\n",
      "Will generate new solvent configuration of 4x3x7 boxes\n",
      "Solvent box contains 39528 atoms in 13176 residues\n",
      "Removed 5775 solvent atoms due to solvent-solvent overlap\n",
      "Removed 1572 solvent atoms due to solute-solvent overlap\n",
      "Sorting configuration\n",
      "Found 1 molecule type:\n",
      "    SOL (   3 atoms): 10727 residues\n",
      "Generated solvent containing 32181 atoms in 10727 residues\n",
      "Writing generated configuration to solv.gro\n",
      "\n",
      "Output configuration contains 33311 atoms in 10862 residues\n",
      "Volume                 :     343.377 (nm^3)\n",
      "Density                :     998.655 (g/l)\n",
      "Number of solvent molecules:  10727   \n",
      "\n",
      "Processing topology\n",
      "Adding line for 10727 solvent molecules with resname (SOL) to topology file (topol.top)\n",
      "\n",
      "Back Off! I just backed up topol.top to ./#topol.top.1#\n",
      "\n",
      "GROMACS reminds you: \"... yet the [economic] profession continued to churn out purely theoretical results without even knowing what facts needed to be explained.\" (Thomas Piketty)\n",
      "\n"
     ]
    }
   ],
   "source": [
    "!gmx solvate -cp newbox.gro -cs spc216.gro -o solv.gro -p topol.top"
   ]
  },
  {
   "cell_type": "markdown",
   "metadata": {
    "slideshow": {
     "slide_type": "subslide"
    }
   },
   "source": [
    "### Step 5 - Adding Ions"
   ]
  },
  {
   "cell_type": "code",
   "execution_count": 14,
   "metadata": {},
   "outputs": [
    {
     "name": "stdout",
     "output_type": "stream",
     "text": [
      "                 :-) GROMACS - gmx grompp, 2020.6-MODIFIED (-:\n",
      "\n",
      "                            GROMACS is written by:\n",
      "     Emile Apol      Rossen Apostolov      Paul Bauer     Herman J.C. Berendsen\n",
      "    Par Bjelkmar      Christian Blau   Viacheslav Bolnykh     Kevin Boyd    \n",
      " Aldert van Buuren   Rudi van Drunen     Anton Feenstra       Alan Gray     \n",
      "  Gerrit Groenhof     Anca Hamuraru    Vincent Hindriksen  M. Eric Irrgang  \n",
      "  Aleksei Iupinov   Christoph Junghans     Joe Jordan     Dimitrios Karkoulis\n",
      "    Peter Kasson        Jiri Kraus      Carsten Kutzner      Per Larsson    \n",
      "  Justin A. Lemkul    Viveca Lindahl    Magnus Lundborg     Erik Marklund   \n",
      "    Pascal Merz     Pieter Meulenhoff    Teemu Murtola       Szilard Pall   \n",
      "    Sander Pronk      Roland Schulz      Michael Shirts    Alexey Shvetsov  \n",
      "   Alfons Sijbers     Peter Tieleman      Jon Vincent      Teemu Virolainen \n",
      " Christian Wennberg    Maarten Wolf      Artem Zhmurov   \n",
      "                           and the project leaders:\n",
      "        Mark Abraham, Berk Hess, Erik Lindahl, and David van der Spoel\n",
      "\n",
      "Copyright (c) 1991-2000, University of Groningen, The Netherlands.\n",
      "Copyright (c) 2001-2019, The GROMACS development team at\n",
      "Uppsala University, Stockholm University and\n",
      "the Royal Institute of Technology, Sweden.\n",
      "check out http://www.gromacs.org for more information.\n",
      "\n",
      "GROMACS is free software; you can redistribute it and/or modify it\n",
      "under the terms of the GNU Lesser General Public License\n",
      "as published by the Free Software Foundation; either version 2.1\n",
      "of the License, or (at your option) any later version.\n",
      "\n",
      "GROMACS:      gmx grompp, version 2020.6-MODIFIED\n",
      "Executable:   /opt/gromacs/2020.6/bin/gmx\n",
      "Data prefix:  /opt/gromacs/2020.6\n",
      "Working dir:  /home/lorenzo/Documenti/GitHub/BiomeccanicaMultiscala/LAB/08-SMD\n",
      "Command line:\n",
      "  gmx grompp -f ions.mdp -c solv.gro -p topol.top -o ions.tpr -maxwarn 10\n",
      "\n",
      "\n",
      "NOTE 1 [file ions.mdp]:\n",
      "  For a correct single-point energy evaluation with nsteps = 0, use\n",
      "  continuation = yes to avoid constraining the input coordinates.\n",
      "\n",
      "Setting the LD random seed to 1992277487\n",
      "Generated 165 of the 1596 non-bonded parameter combinations\n",
      "Excluding 3 bonded neighbours molecule type 'Protein_chain_A'\n",
      "Excluding 3 bonded neighbours molecule type 'Protein_chain_B'\n",
      "Excluding 3 bonded neighbours molecule type 'Protein_chain_C'\n",
      "Excluding 3 bonded neighbours molecule type 'Protein_chain_D'\n",
      "Excluding 3 bonded neighbours molecule type 'Protein_chain_E'\n",
      "Excluding 2 bonded neighbours molecule type 'SOL'\n",
      "\n",
      "WARNING 1 [file topol.top, line 54]:\n",
      "  The GROMOS force fields have been parametrized with a physically\n",
      "  incorrect multiple-time-stepping scheme for a twin-range cut-off. When\n",
      "  used with a single-range cut-off (or a correct Trotter\n",
      "  multiple-time-stepping scheme), physical properties, such as the density,\n",
      "  might differ from the intended values. Since there are researchers\n",
      "  actively working on validating GROMOS with modern integrators we have not\n",
      "  yet removed the GROMOS force fields, but you should be aware of these\n",
      "  issues and check if molecules in your system are affected before\n",
      "  proceeding. Further information is available at\n",
      "  https://redmine.gromacs.org/issues/2884 , and a longer explanation of our\n",
      "  decision to remove physically incorrect algorithms can be found at\n",
      "  https://doi.org/10.26434/chemrxiv.11474583.v1 .\n",
      "\n",
      "\n",
      "NOTE 2 [file topol.top, line 54]:\n",
      "  System has non-zero total charge: -10.000000\n",
      "  Total charge should normally be an integer. See\n",
      "  http://www.gromacs.org/Documentation/Floating_Point_Arithmetic\n",
      "  for discussion on how close it should be to an integer.\n",
      "  \n",
      "\n",
      "\n",
      "\n",
      "NOTE 3 [file topol.top, line 54]:\n",
      "  The bond in molecule-type Protein_chain_A between atoms 4 N and 5 H has\n",
      "  an estimated oscillational period of 1.0e-02 ps, which is less than 10\n",
      "  times the time step of 1.0e-03 ps.\n",
      "  Maybe you forgot to change the constraints mdp option.\n",
      "\n",
      "Analysing residue names:\n",
      "There are:   135    Protein residues\n",
      "There are: 10727      Water residues\n",
      "Analysing Protein...\n",
      "Number of degrees of freedom in T-Coupling group rest is 67749.00\n",
      "\n",
      "NOTE 4 [file ions.mdp]:\n",
      "  NVE simulation with an initial temperature of zero: will use a Verlet\n",
      "  buffer of 10%. Check your energy drift!\n",
      "\n",
      "\n",
      "NOTE 5 [file ions.mdp]:\n",
      "  You are using a plain Coulomb cut-off, which might produce artifacts.\n",
      "  You might want to consider using PME electrostatics.\n",
      "\n",
      "\n",
      "This run will generate roughly 3 Mb of data\n",
      "\n",
      "There were 5 notes\n",
      "\n",
      "There was 1 warning\n",
      "\n",
      "GROMACS reminds you: \"Shake Yourself\" (YES)\n",
      "\n",
      "                 :-) GROMACS - gmx genion, 2020.6-MODIFIED (-:\n",
      "\n",
      "                            GROMACS is written by:\n",
      "     Emile Apol      Rossen Apostolov      Paul Bauer     Herman J.C. Berendsen\n",
      "    Par Bjelkmar      Christian Blau   Viacheslav Bolnykh     Kevin Boyd    \n",
      " Aldert van Buuren   Rudi van Drunen     Anton Feenstra       Alan Gray     \n",
      "  Gerrit Groenhof     Anca Hamuraru    Vincent Hindriksen  M. Eric Irrgang  \n",
      "  Aleksei Iupinov   Christoph Junghans     Joe Jordan     Dimitrios Karkoulis\n",
      "    Peter Kasson        Jiri Kraus      Carsten Kutzner      Per Larsson    \n",
      "  Justin A. Lemkul    Viveca Lindahl    Magnus Lundborg     Erik Marklund   \n",
      "    Pascal Merz     Pieter Meulenhoff    Teemu Murtola       Szilard Pall   \n",
      "    Sander Pronk      Roland Schulz      Michael Shirts    Alexey Shvetsov  \n",
      "   Alfons Sijbers     Peter Tieleman      Jon Vincent      Teemu Virolainen \n",
      " Christian Wennberg    Maarten Wolf      Artem Zhmurov   \n",
      "                           and the project leaders:\n",
      "        Mark Abraham, Berk Hess, Erik Lindahl, and David van der Spoel\n",
      "\n",
      "Copyright (c) 1991-2000, University of Groningen, The Netherlands.\n",
      "Copyright (c) 2001-2019, The GROMACS development team at\n",
      "Uppsala University, Stockholm University and\n",
      "the Royal Institute of Technology, Sweden.\n",
      "check out http://www.gromacs.org for more information.\n",
      "\n",
      "GROMACS is free software; you can redistribute it and/or modify it\n",
      "under the terms of the GNU Lesser General Public License\n",
      "as published by the Free Software Foundation; either version 2.1\n",
      "of the License, or (at your option) any later version.\n",
      "\n",
      "GROMACS:      gmx genion, version 2020.6-MODIFIED\n",
      "Executable:   /opt/gromacs/2020.6/bin/gmx\n",
      "Data prefix:  /opt/gromacs/2020.6\n",
      "Working dir:  /home/lorenzo/Documenti/GitHub/BiomeccanicaMultiscala/LAB/08-SMD\n",
      "Command line:\n",
      "  gmx genion -s ions.tpr -o solv_ions.gro -p topol.top -pname NA -nname CL -neutral -conc 0.1\n",
      "\n",
      "Reading file ions.tpr, VERSION 2020.6-MODIFIED (single precision)\n",
      "Reading file ions.tpr, VERSION 2020.6-MODIFIED (single precision)\n",
      "Will try to add 31 NA ions and 21 CL ions.\n",
      "Select a continuous group of solvent molecules\n",
      "Group     0 (         System) has 33311 elements\n",
      "Group     1 (        Protein) has  1130 elements\n",
      "Group     2 (      Protein-H) has   920 elements\n",
      "Group     3 (        C-alpha) has   135 elements\n",
      "Group     4 (       Backbone) has   400 elements\n",
      "Group     5 (      MainChain) has   540 elements\n",
      "Group     6 (   MainChain+Cb) has   645 elements\n",
      "Group     7 (    MainChain+H) has   670 elements\n",
      "Group     8 (      SideChain) has   460 elements\n",
      "Group     9 (    SideChain-H) has   380 elements\n",
      "Group    10 (    Prot-Masses) has  1130 elements\n",
      "Group    11 (    non-Protein) has 32181 elements\n",
      "Group    12 (          Water) has 32181 elements\n",
      "Group    13 (            SOL) has 32181 elements\n",
      "Group    14 (      non-Water) has  1130 elements\n",
      "Select a group: Selected 13: 'SOL'\n",
      "Number of (3-atomic) solvent molecules: 10727\n",
      "\n",
      "Processing topology\n",
      "Replacing 52 solute molecules in topology file (topol.top)  by 31 NA and 21 CL ions.\n",
      "\n",
      "Back Off! I just backed up topol.top to ./#topol.top.2#\n",
      "Using random seed -173089793.\n",
      "Replacing solvent molecule 3056 (atom 10298) with NA\n",
      "Replacing solvent molecule 2379 (atom 8267) with NA\n",
      "Replacing solvent molecule 7292 (atom 23006) with NA\n",
      "Replacing solvent molecule 9290 (atom 29000) with NA\n",
      "Replacing solvent molecule 4934 (atom 15932) with NA\n",
      "Replacing solvent molecule 493 (atom 2609) with NA\n",
      "Replacing solvent molecule 356 (atom 2198) with NA\n",
      "Replacing solvent molecule 2789 (atom 9497) with NA\n",
      "Replacing solvent molecule 8765 (atom 27425) with NA\n",
      "Replacing solvent molecule 4985 (atom 16085) with NA\n",
      "Replacing solvent molecule 10496 (atom 32618) with NA\n",
      "Replacing solvent molecule 6118 (atom 19484) with NA\n",
      "Replacing solvent molecule 4876 (atom 15758) with NA\n",
      "Replacing solvent molecule 6711 (atom 21263) with NA\n",
      "Replacing solvent molecule 7465 (atom 23525) with NA\n",
      "Replacing solvent molecule 4501 (atom 14633) with NA\n",
      "Replacing solvent molecule 5976 (atom 19058) with NA\n",
      "Replacing solvent molecule 6677 (atom 21161) with NA\n",
      "Replacing solvent molecule 5741 (atom 18353) with NA\n",
      "Replacing solvent molecule 10174 (atom 31652) with NA\n",
      "Replacing solvent molecule 1648 (atom 6074) with NA\n",
      "Replacing solvent molecule 4082 (atom 13376) with NA\n",
      "Replacing solvent molecule 2482 (atom 8576) with NA\n",
      "Replacing solvent molecule 9728 (atom 30314) with NA\n",
      "Replacing solvent molecule 6707 (atom 21251) with NA\n",
      "Replacing solvent molecule 2180 (atom 7670) with NA\n",
      "Replacing solvent molecule 135 (atom 1535) with NA\n",
      "Replacing solvent molecule 6767 (atom 21431) with NA\n",
      "Replacing solvent molecule 2234 (atom 7832) with NA\n",
      "Replacing solvent molecule 7037 (atom 22241) with NA\n",
      "Replacing solvent molecule 8924 (atom 27902) with NA\n",
      "Replacing solvent molecule 1738 (atom 6344) with CL\n",
      "Replacing solvent molecule 8656 (atom 27098) with CL\n",
      "Replacing solvent molecule 1044 (atom 4262) with CL\n",
      "Replacing solvent molecule 5697 (atom 18221) with CL\n",
      "Replacing solvent molecule 6582 (atom 20876) with CL\n",
      "Replacing solvent molecule 2628 (atom 9014) with CL\n",
      "Replacing solvent molecule 8917 (atom 27881) with CL\n",
      "Replacing solvent molecule 5866 (atom 18728) with CL\n",
      "Replacing solvent molecule 10350 (atom 32180) with CL\n",
      "Replacing solvent molecule 1140 (atom 4550) with CL\n",
      "Replacing solvent molecule 653 (atom 3089) with CL\n",
      "Replacing solvent molecule 8437 (atom 26441) with CL\n",
      "Replacing solvent molecule 7917 (atom 24881) with CL\n",
      "Replacing solvent molecule 8185 (atom 25685) with CL\n",
      "Replacing solvent molecule 8706 (atom 27248) with CL\n",
      "Replacing solvent molecule 8223 (atom 25799) with CL\n",
      "Replacing solvent molecule 576 (atom 2858) with CL\n",
      "Replacing solvent molecule 10525 (atom 32705) with CL\n",
      "Replacing solvent molecule 2108 (atom 7454) with CL\n",
      "Replacing solvent molecule 5416 (atom 17378) with CL\n",
      "Replacing solvent molecule 518 (atom 2684) with CL\n",
      "\n"
     ]
    },
    {
     "name": "stdout",
     "output_type": "stream",
     "text": [
      "\r\n",
      "GROMACS reminds you: \"Proceed, With Fingers Crossed\" (TeX)\r\n",
      "\r\n"
     ]
    }
   ],
   "source": [
    "!touch ions.mdp #create fake mdp to only create the ions.tpr\n",
    "!gmx grompp -f ions.mdp -c solv.gro -p topol.top -o ions.tpr -maxwarn 10\n",
    "!echo \"SOL\" | gmx genion -s ions.tpr -o solv_ions.gro -p topol.top -pname NA -nname CL -neutral -conc 0.1"
   ]
  },
  {
   "cell_type": "markdown",
   "metadata": {
    "slideshow": {
     "slide_type": "subslide"
    }
   },
   "source": [
    "### Step 6 - Energy Minimization"
   ]
  },
  {
   "cell_type": "markdown",
   "metadata": {},
   "source": [
    "MDP file (em.mdp) for EM is available in the data folder"
   ]
  },
  {
   "cell_type": "code",
   "execution_count": 15,
   "metadata": {},
   "outputs": [
    {
     "name": "stdout",
     "output_type": "stream",
     "text": [
      "; ions.mdp - used as input into grompp to generate ions.tpr\r\n",
      "; Parameters describing what to do, when to stop and what to save\r\n",
      "integrator  = steep     ; Algorithm (steep = steepest descent minimization)\r\n",
      "emtol       = 1000.0    ; Stop minimization when the maximum force < 1000.0 kJ/mol/nm\r\n",
      "emstep      = 0.01      ; Energy step size\r\n",
      "nsteps      = 50000     ; Maximum number of (minimization) steps to perform\r\n",
      "\r\n",
      "; Parameters describing how to find the neighbors of each atom and how to calculate the interactions\r\n",
      "nstlist         = 1         ; Frequency to update the neighbor list and long range forces\r\n",
      "cutoff-scheme   = Verlet    ; Buffered neighbor searching\r\n",
      "ns_type         = grid      ; Method to determine neighbor list (simple, grid)\r\n",
      "rlist           = 1.4       ; Cut-off for making neighbor list (short range forces)\r\n",
      "coulombtype     = PME       ; Treatment of long range electrostatic interactions\r\n",
      "rcoulomb        = 1.4       ; Short-range electrostatic cut-off\r\n",
      "rvdw            = 1.4       ; Short-range Van der Waals cut-off\r\n",
      "pbc             = xyz       ; Periodic Boundary Conditions\r\n"
     ]
    }
   ],
   "source": [
    "!cat data/em.mdp"
   ]
  },
  {
   "cell_type": "markdown",
   "metadata": {
    "slideshow": {
     "slide_type": "subslide"
    }
   },
   "source": [
    "Create the tpr and run the energy minimization:"
   ]
  },
  {
   "cell_type": "code",
   "execution_count": 16,
   "metadata": {},
   "outputs": [
    {
     "name": "stdout",
     "output_type": "stream",
     "text": [
      "                 :-) GROMACS - gmx grompp, 2020.6-MODIFIED (-:\n",
      "\n",
      "                            GROMACS is written by:\n",
      "     Emile Apol      Rossen Apostolov      Paul Bauer     Herman J.C. Berendsen\n",
      "    Par Bjelkmar      Christian Blau   Viacheslav Bolnykh     Kevin Boyd    \n",
      " Aldert van Buuren   Rudi van Drunen     Anton Feenstra       Alan Gray     \n",
      "  Gerrit Groenhof     Anca Hamuraru    Vincent Hindriksen  M. Eric Irrgang  \n",
      "  Aleksei Iupinov   Christoph Junghans     Joe Jordan     Dimitrios Karkoulis\n",
      "    Peter Kasson        Jiri Kraus      Carsten Kutzner      Per Larsson    \n",
      "  Justin A. Lemkul    Viveca Lindahl    Magnus Lundborg     Erik Marklund   \n",
      "    Pascal Merz     Pieter Meulenhoff    Teemu Murtola       Szilard Pall   \n",
      "    Sander Pronk      Roland Schulz      Michael Shirts    Alexey Shvetsov  \n",
      "   Alfons Sijbers     Peter Tieleman      Jon Vincent      Teemu Virolainen \n",
      " Christian Wennberg    Maarten Wolf      Artem Zhmurov   \n",
      "                           and the project leaders:\n",
      "        Mark Abraham, Berk Hess, Erik Lindahl, and David van der Spoel\n",
      "\n",
      "Copyright (c) 1991-2000, University of Groningen, The Netherlands.\n",
      "Copyright (c) 2001-2019, The GROMACS development team at\n",
      "Uppsala University, Stockholm University and\n",
      "the Royal Institute of Technology, Sweden.\n",
      "check out http://www.gromacs.org for more information.\n",
      "\n",
      "GROMACS is free software; you can redistribute it and/or modify it\n",
      "under the terms of the GNU Lesser General Public License\n",
      "as published by the Free Software Foundation; either version 2.1\n",
      "of the License, or (at your option) any later version.\n",
      "\n",
      "GROMACS:      gmx grompp, version 2020.6-MODIFIED\n",
      "Executable:   /opt/gromacs/2020.6/bin/gmx\n",
      "Data prefix:  /opt/gromacs/2020.6\n",
      "Working dir:  /home/lorenzo/Documenti/GitHub/BiomeccanicaMultiscala/LAB/08-SMD\n",
      "Command line:\n",
      "  gmx grompp -f data/em.mdp -c solv_ions.gro -p topol.top -o 00-em/em.tpr -maxwarn 1\n",
      "\n",
      "Ignoring obsolete mdp entry 'ns_type'\n",
      "\n",
      "NOTE 1 [file data/em.mdp]:\n",
      "  With Verlet lists the optimal nstlist is >= 10, with GPUs >= 20. Note\n",
      "  that with the Verlet scheme, nstlist has no effect on the accuracy of\n",
      "  your simulation.\n",
      "\n",
      "Setting the LD random seed to -69861417\n",
      "Generated 165 of the 1596 non-bonded parameter combinations\n",
      "Excluding 3 bonded neighbours molecule type 'Protein_chain_A'\n",
      "Excluding 3 bonded neighbours molecule type 'Protein_chain_B'\n",
      "Excluding 3 bonded neighbours molecule type 'Protein_chain_C'\n",
      "Excluding 3 bonded neighbours molecule type 'Protein_chain_D'\n",
      "Excluding 3 bonded neighbours molecule type 'Protein_chain_E'\n",
      "Excluding 2 bonded neighbours molecule type 'SOL'\n",
      "Excluding 1 bonded neighbours molecule type 'NA'\n",
      "Excluding 1 bonded neighbours molecule type 'CL'\n",
      "\n",
      "WARNING 1 [file topol.top, line 56]:\n",
      "  The GROMOS force fields have been parametrized with a physically\n",
      "  incorrect multiple-time-stepping scheme for a twin-range cut-off. When\n",
      "  used with a single-range cut-off (or a correct Trotter\n",
      "  multiple-time-stepping scheme), physical properties, such as the density,\n",
      "  might differ from the intended values. Since there are researchers\n",
      "  actively working on validating GROMOS with modern integrators we have not\n",
      "  yet removed the GROMOS force fields, but you should be aware of these\n",
      "  issues and check if molecules in your system are affected before\n",
      "  proceeding. Further information is available at\n",
      "  https://redmine.gromacs.org/issues/2884 , and a longer explanation of our\n",
      "  decision to remove physically incorrect algorithms can be found at\n",
      "  https://doi.org/10.26434/chemrxiv.11474583.v1 .\n",
      "\n",
      "Analysing residue names:\n",
      "There are:   135    Protein residues\n",
      "There are: 10675      Water residues\n",
      "There are:    52        Ion residues\n",
      "Analysing Protein...\n",
      "Analysing residues not classified as Protein/DNA/RNA/Water and splitting into groups...\n",
      "Number of degrees of freedom in T-Coupling group rest is 67593.00\n",
      "Calculating fourier grid dimensions for X Y Z\n",
      "Using a fourier grid of 56x40x100, spacing 0.117 0.109 0.120\n",
      "Estimate for the relative computational load of the PME mesh part: 0.14\n",
      "This run will generate roughly 3 Mb of data\n",
      "\n",
      "There was 1 note\n",
      "\n",
      "There was 1 warning\n",
      "\n",
      "GROMACS reminds you: \"Isn't this enough? Just this world? Just this beautiful, complex wonderfully unfathomable world? How does it so fail to hold our attention that we have to diminish it with the invention of cheap, man-made myths and monsters?\" (Tim Minchin)\n",
      "\n",
      "                  :-) GROMACS - gmx mdrun, 2020.6-MODIFIED (-:\n",
      "\n",
      "                            GROMACS is written by:\n",
      "     Emile Apol      Rossen Apostolov      Paul Bauer     Herman J.C. Berendsen\n",
      "    Par Bjelkmar      Christian Blau   Viacheslav Bolnykh     Kevin Boyd    \n",
      " Aldert van Buuren   Rudi van Drunen     Anton Feenstra       Alan Gray     \n",
      "  Gerrit Groenhof     Anca Hamuraru    Vincent Hindriksen  M. Eric Irrgang  \n",
      "  Aleksei Iupinov   Christoph Junghans     Joe Jordan     Dimitrios Karkoulis\n",
      "    Peter Kasson        Jiri Kraus      Carsten Kutzner      Per Larsson    \n",
      "  Justin A. Lemkul    Viveca Lindahl    Magnus Lundborg     Erik Marklund   \n",
      "    Pascal Merz     Pieter Meulenhoff    Teemu Murtola       Szilard Pall   \n",
      "    Sander Pronk      Roland Schulz      Michael Shirts    Alexey Shvetsov  \n",
      "   Alfons Sijbers     Peter Tieleman      Jon Vincent      Teemu Virolainen \n",
      " Christian Wennberg    Maarten Wolf      Artem Zhmurov   \n",
      "                           and the project leaders:\n",
      "        Mark Abraham, Berk Hess, Erik Lindahl, and David van der Spoel\n",
      "\n",
      "Copyright (c) 1991-2000, University of Groningen, The Netherlands.\n",
      "Copyright (c) 2001-2019, The GROMACS development team at\n",
      "Uppsala University, Stockholm University and\n",
      "the Royal Institute of Technology, Sweden.\n",
      "check out http://www.gromacs.org for more information.\n",
      "\n",
      "GROMACS is free software; you can redistribute it and/or modify it\n",
      "under the terms of the GNU Lesser General Public License\n",
      "as published by the Free Software Foundation; either version 2.1\n",
      "of the License, or (at your option) any later version.\n",
      "\n",
      "GROMACS:      gmx mdrun, version 2020.6-MODIFIED\n",
      "Executable:   /opt/gromacs/2020.6/bin/gmx\n",
      "Data prefix:  /opt/gromacs/2020.6\n",
      "Working dir:  /home/lorenzo/Documenti/GitHub/BiomeccanicaMultiscala/LAB/08-SMD\n",
      "Command line:\n",
      "  gmx mdrun -v -deffnm 00-em/em\n",
      "\n",
      "Reading file 00-em/em.tpr, VERSION 2020.6-MODIFIED (single precision)\n",
      "This run will default to '-update gpu' as requested by the GMX_FORCE_UPDATE_DEFAULT_GPU environment variable. GPU update with domain decomposition lacks substantial testing and should be used with caution.\n",
      "\n",
      "Enabling GPU buffer operations required by GMX_GPU_DD_COMMS (equivalent with GMX_USE_GPU_BUFFER_OPS=1).\n",
      "\n",
      "This run uses the 'GPU halo exchange' feature, enabled by the GMX_GPU_DD_COMMS environment variable.\n",
      "\n",
      "Update task on the GPU was required, by the GMX_FORCE_UPDATE_DEFAULT_GPU environment variable, but the following condition(s) were not satisfied:\n",
      "\n",
      "Only the md integrator is supported.\n",
      "\n",
      "Will use CPU version of update.\n",
      "\n",
      "1 GPU selected for this run.\n",
      "Mapping of GPU IDs to the 1 GPU task in the 1 rank on this node:\n",
      "  PP:0\n",
      "PP tasks will do (non-perturbed) short-ranged interactions on the GPU\n",
      "PP task will update and constrain coordinates on the CPU\n",
      "Using 1 MPI thread\n",
      "\n",
      "Non-default thread affinity set, disabling internal thread affinity\n",
      "\n",
      "Using 16 OpenMP threads \n",
      "\n",
      "\n",
      "Steepest Descents:\n",
      "   Tolerance (Fmax)   =  1.00000e+03\n",
      "   Number of steps    =        50000\n",
      "Step=    0, Dmax= 1.0e-02 nm, Epot=  3.47285e+04 Fmax= 4.15178e+05, atom= 644\n",
      "Step=    1, Dmax= 1.0e-02 nm, Epot= -5.83656e+04 Fmax= 1.53155e+05, atom= 762\n",
      "Step=    2, Dmax= 1.2e-02 nm, Epot= -1.79951e+05 Fmax= 5.45474e+04, atom= 20115\n",
      "Step=    3, Dmax= 1.4e-02 nm, Epot= -2.83695e+05 Fmax= 2.24231e+04, atom= 516\n",
      "Step=    4, Dmax= 1.7e-02 nm, Epot= -3.39652e+05 Fmax= 1.84029e+04, atom= 198\n",
      "Step=    5, Dmax= 2.1e-02 nm, Epot= -3.61883e+05 Fmax= 2.04011e+04, atom= 14967\n",
      "Step=    6, Dmax= 2.5e-02 nm, Epot= -3.74860e+05 Fmax= 1.09670e+04, atom= 14967\n",
      "Step=    7, Dmax= 3.0e-02 nm, Epot= -3.92669e+05 Fmax= 3.73244e+04, atom= 14967\n",
      "Step=    8, Dmax= 3.6e-02 nm, Epot= -3.97418e+05 Fmax= 5.15203e+03, atom= 423\n",
      "Step=    9, Dmax= 4.3e-02 nm, Epot= -4.21466e+05 Fmax= 7.67351e+04, atom= 423\n",
      "Step=   10, Dmax= 5.2e-02 nm, Epot= -4.25127e+05 Fmax= 7.25970e+03, atom= 423\n",
      "Step=   11, Dmax= 6.2e-02 nm, Epot= -4.34597e+05 Fmax= 1.00966e+05, atom= 423\n",
      "Step=   12, Dmax= 7.4e-02 nm, Epot= -4.39779e+05 Fmax= 1.45077e+04, atom= 423\n",
      "Step=   13, Dmax= 8.9e-02 nm, Epot= -4.41268e+05 Fmax= 8.62703e+04, atom= 427\n",
      "Step=   14, Dmax= 1.1e-01 nm, Epot= -4.45487e+05 Fmax= 8.00364e+04, atom= 427\n",
      "Step=   16, Dmax= 6.4e-02 nm, Epot= -4.48815e+05 Fmax= 1.68945e+04, atom= 427\n",
      "Step=   17, Dmax= 7.7e-02 nm, Epot= -4.48894e+05 Fmax= 1.23295e+05, atom= 427\n"
     ]
    },
    {
     "name": "stdout",
     "output_type": "stream",
     "text": [
      "Step=   18, Dmax= 9.2e-02 nm, Epot= -4.52645e+05 Fmax= 3.97601e+04, atom= 427\n",
      "Step=   20, Dmax= 5.5e-02 nm, Epot= -4.54892e+05 Fmax= 1.98391e+04, atom= 429\n",
      "Step=   21, Dmax= 6.7e-02 nm, Epot= -4.56413e+05 Fmax= 4.02756e+04, atom= 429\n",
      "Step=   23, Dmax= 4.0e-02 nm, Epot= -4.58334e+05 Fmax= 2.08810e+04, atom= 427\n",
      "Step=   24, Dmax= 4.8e-02 nm, Epot= -4.59611e+05 Fmax= 2.46153e+04, atom= 427\n",
      "Step=   25, Dmax= 5.8e-02 nm, Epot= -4.60369e+05 Fmax= 3.49817e+04, atom= 427\n",
      "Step=   27, Dmax= 3.5e-02 nm, Epot= -4.62357e+05 Fmax= 9.36181e+03, atom= 428\n",
      "Step=   28, Dmax= 4.1e-02 nm, Epot= -4.62474e+05 Fmax= 5.25401e+04, atom= 427\n",
      "Step=   29, Dmax= 5.0e-02 nm, Epot= -4.65201e+05 Fmax= 1.95399e+04, atom= 427\n",
      "Step=   31, Dmax= 3.0e-02 nm, Epot= -4.66433e+05 Fmax= 1.26194e+04, atom= 427\n",
      "Step=   33, Dmax= 1.8e-02 nm, Epot= -4.67327e+05 Fmax= 1.07443e+04, atom= 435\n",
      "Step=   34, Dmax= 2.1e-02 nm, Epot= -4.68020e+05 Fmax= 1.92790e+04, atom= 435\n",
      "Step=   35, Dmax= 2.6e-02 nm, Epot= -4.68898e+05 Fmax= 1.59808e+04, atom= 435\n",
      "Step=   36, Dmax= 3.1e-02 nm, Epot= -4.69320e+05 Fmax= 2.58694e+04, atom= 435\n",
      "Step=   37, Dmax= 3.7e-02 nm, Epot= -4.70051e+05 Fmax= 2.32018e+04, atom= 435\n",
      "Step=   38, Dmax= 4.5e-02 nm, Epot= -4.70059e+05 Fmax= 3.32843e+04, atom= 435\n",
      "Step=   39, Dmax= 5.3e-02 nm, Epot= -4.70169e+05 Fmax= 3.31910e+04, atom= 435\n",
      "Step=   41, Dmax= 3.2e-02 nm, Epot= -4.72943e+05 Fmax= 7.99727e+03, atom= 421\n",
      "Step=   43, Dmax= 1.9e-02 nm, Epot= -4.73889e+05 Fmax= 1.19422e+04, atom= 653\n",
      "Step=   44, Dmax= 2.3e-02 nm, Epot= -4.74277e+05 Fmax= 1.88335e+04, atom= 653\n",
      "Step=   45, Dmax= 2.8e-02 nm, Epot= -4.75086e+05 Fmax= 1.68886e+04, atom= 653\n",
      "Step=   47, Dmax= 1.7e-02 nm, Epot= -4.76084e+05 Fmax= 5.93820e+03, atom= 653\n",
      "Step=   48, Dmax= 2.0e-02 nm, Epot= -4.76590e+05 Fmax= 2.40705e+04, atom= 653\n",
      "Step=   49, Dmax= 2.4e-02 nm, Epot= -4.77737e+05 Fmax= 1.04868e+04, atom= 653\n",
      "Step=   51, Dmax= 1.4e-02 nm, Epot= -4.78325e+05 Fmax= 8.10583e+03, atom= 653\n",
      "Step=   52, Dmax= 1.7e-02 nm, Epot= -4.78817e+05 Fmax= 1.47676e+04, atom= 653\n",
      "Step=   53, Dmax= 2.1e-02 nm, Epot= -4.79412e+05 Fmax= 1.28461e+04, atom= 653\n",
      "Step=   54, Dmax= 2.5e-02 nm, Epot= -4.79513e+05 Fmax= 2.05733e+04, atom= 653\n",
      "Step=   55, Dmax= 3.0e-02 nm, Epot= -4.80096e+05 Fmax= 1.81845e+04, atom= 653\n",
      "Step=   57, Dmax= 1.8e-02 nm, Epot= -4.81175e+05 Fmax= 5.88460e+03, atom= 653\n",
      "Step=   59, Dmax= 1.1e-02 nm, Epot= -4.81689e+05 Fmax= 9.02797e+03, atom= 653\n",
      "Step=   60, Dmax= 1.3e-02 nm, Epot= -4.82172e+05 Fmax= 8.05367e+03, atom= 653\n",
      "Step=   61, Dmax= 1.5e-02 nm, Epot= -4.82470e+05 Fmax= 1.34773e+04, atom= 653\n",
      "Step=   62, Dmax= 1.9e-02 nm, Epot= -4.82984e+05 Fmax= 1.18387e+04, atom= 653\n",
      "Step=   64, Dmax= 1.1e-02 nm, Epot= -4.83696e+05 Fmax= 2.76416e+03, atom= 655\n",
      "Step=   65, Dmax= 1.3e-02 nm, Epot= -4.84163e+05 Fmax= 1.59425e+04, atom= 653\n",
      "Step=   66, Dmax= 1.6e-02 nm, Epot= -4.85321e+05 Fmax= 6.91296e+03, atom= 653\n",
      "Step=   68, Dmax= 9.6e-03 nm, Epot= -4.85757e+05 Fmax= 6.19380e+03, atom= 653\n",
      "Step=   69, Dmax= 1.2e-02 nm, Epot= -4.86062e+05 Fmax= 9.90669e+03, atom= 653\n",
      "Step=   70, Dmax= 1.4e-02 nm, Epot= -4.86501e+05 Fmax= 9.28011e+03, atom= 653\n",
      "Step=   71, Dmax= 1.7e-02 nm, Epot= -4.86615e+05 Fmax= 1.36668e+04, atom= 653\n",
      "Step=   72, Dmax= 2.0e-02 nm, Epot= -4.86981e+05 Fmax= 1.37860e+04, atom= 653\n",
      "Step=   74, Dmax= 1.2e-02 nm, Epot= -4.87915e+05 Fmax= 2.71781e+03, atom= 435\n",
      "Step=   75, Dmax= 1.4e-02 nm, Epot= -4.88249e+05 Fmax= 1.91946e+04, atom= 435\n",
      "Step=   76, Dmax= 1.7e-02 nm, Epot= -4.89448e+05 Fmax= 6.42444e+03, atom= 435\n",
      "Step=   78, Dmax= 1.0e-02 nm, Epot= -4.89804e+05 Fmax= 7.61806e+03, atom= 435\n",
      "Step=   79, Dmax= 1.2e-02 nm, Epot= -4.90113e+05 Fmax= 9.42298e+03, atom= 435\n",
      "Step=   80, Dmax= 1.5e-02 nm, Epot= -4.90409e+05 Fmax= 1.09877e+04, atom= 435\n",
      "Step=   81, Dmax= 1.8e-02 nm, Epot= -4.90606e+05 Fmax= 1.35476e+04, atom= 435\n",
      "Step=   82, Dmax= 2.1e-02 nm, Epot= -4.90796e+05 Fmax= 1.54981e+04, atom= 435\n",
      "Step=   84, Dmax= 1.3e-02 nm, Epot= -4.91641e+05 Fmax= 2.86885e+03, atom= 435\n",
      "Step=   85, Dmax= 1.5e-02 nm, Epot= -4.92125e+05 Fmax= 2.13201e+04, atom= 435\n",
      "Step=   86, Dmax= 1.8e-02 nm, Epot= -4.93000e+05 Fmax= 6.65714e+03, atom= 435\n",
      "Step=   88, Dmax= 1.1e-02 nm, Epot= -4.93320e+05 Fmax= 8.46347e+03, atom= 435\n",
      "Step=   89, Dmax= 1.3e-02 nm, Epot= -4.93609e+05 Fmax= 9.81067e+03, atom= 435\n",
      "Step=   90, Dmax= 1.6e-02 nm, Epot= -4.93877e+05 Fmax= 1.20887e+04, atom= 435\n",
      "Step=   91, Dmax= 1.9e-02 nm, Epot= -4.94095e+05 Fmax= 1.41666e+04, atom= 435\n",
      "Step=   92, Dmax= 2.3e-02 nm, Epot= -4.94279e+05 Fmax= 1.69305e+04, atom= 435\n",
      "Step=   93, Dmax= 2.8e-02 nm, Epot= -4.94314e+05 Fmax= 2.03022e+04, atom= 435\n",
      "Step=   94, Dmax= 3.3e-02 nm, Epot= -4.94319e+05 Fmax= 2.29489e+04, atom= 435\n",
      "Step=   96, Dmax= 2.0e-02 nm, Epot= -4.95499e+05 Fmax= 4.90854e+03, atom= 435\n",
      "Step=   98, Dmax= 1.2e-02 nm, Epot= -4.95778e+05 Fmax= 1.20252e+04, atom= 435\n",
      "Step=   99, Dmax= 1.4e-02 nm, Epot= -4.96137e+05 Fmax= 7.46279e+03, atom= 435\n",
      "Step=  100, Dmax= 1.7e-02 nm, Epot= -4.96156e+05 Fmax= 1.69995e+04, atom= 435\n",
      "Step=  101, Dmax= 2.1e-02 nm, Epot= -4.96630e+05 Fmax= 1.16117e+04, atom= 435\n",
      "Step=  103, Dmax= 1.2e-02 nm, Epot= -4.97050e+05 Fmax= 4.36267e+03, atom= 435\n",
      "Step=  105, Dmax= 7.4e-03 nm, Epot= -4.97317e+05 Fmax= 5.63604e+03, atom= 435\n",
      "Step=  106, Dmax= 8.9e-03 nm, Epot= -4.97564e+05 Fmax= 6.97588e+03, atom= 435\n",
      "Step=  107, Dmax= 1.1e-02 nm, Epot= -4.97796e+05 Fmax= 7.70423e+03, atom= 435\n",
      "Step=  108, Dmax= 1.3e-02 nm, Epot= -4.97972e+05 Fmax= 1.01674e+04, atom= 435\n",
      "Step=  109, Dmax= 1.5e-02 nm, Epot= -4.98166e+05 Fmax= 1.10661e+04, atom= 435\n",
      "Step=  110, Dmax= 1.8e-02 nm, Epot= -4.98220e+05 Fmax= 1.43533e+04, atom= 435\n",
      "Step=  111, Dmax= 2.2e-02 nm, Epot= -4.98289e+05 Fmax= 1.59797e+04, atom= 435\n",
      "Step=  113, Dmax= 1.3e-02 nm, Epot= -4.99170e+05 Fmax= 2.21267e+03, atom= 437\n",
      "Step=  115, Dmax= 8.0e-03 nm, Epot= -4.99556e+05 Fmax= 8.49675e+03, atom= 653\n",
      "Step=  116, Dmax= 9.6e-03 nm, Epot= -4.99888e+05 Fmax= 4.95951e+03, atom= 653\n",
      "Step=  117, Dmax= 1.1e-02 nm, Epot= -4.99971e+05 Fmax= 1.12594e+04, atom= 653\n",
      "Step=  118, Dmax= 1.4e-02 nm, Epot= -5.00336e+05 Fmax= 8.09276e+03, atom= 653\n",
      "Step=  120, Dmax= 8.3e-03 nm, Epot= -5.00650e+05 Fmax= 3.02276e+03, atom= 653\n",
      "Step=  121, Dmax= 9.9e-03 nm, Epot= -5.00796e+05 Fmax= 1.06895e+04, atom= 653\n",
      "Step=  122, Dmax= 1.2e-02 nm, Epot= -5.01234e+05 Fmax= 5.83331e+03, atom= 653\n",
      "Step=  124, Dmax= 7.1e-03 nm, Epot= -5.01478e+05 Fmax= 4.10105e+03, atom= 653\n",
      "Step=  125, Dmax= 8.6e-03 nm, Epot= -5.01632e+05 Fmax= 8.03942e+03, atom= 653\n",
      "Step=  126, Dmax= 1.0e-02 nm, Epot= -5.01901e+05 Fmax= 6.35799e+03, atom= 653\n",
      "Step=  127, Dmax= 1.2e-02 nm, Epot= -5.01932e+05 Fmax= 1.09496e+04, atom= 653\n",
      "Step=  128, Dmax= 1.5e-02 nm, Epot= -5.02205e+05 Fmax= 9.71829e+03, atom= 653\n",
      "Step=  130, Dmax= 8.9e-03 nm, Epot= -5.02618e+05 Fmax= 2.24041e+03, atom= 653\n",
      "Step=  131, Dmax= 1.1e-02 nm, Epot= -5.02624e+05 Fmax= 1.30606e+04, atom= 435\n",
      "Step=  132, Dmax= 1.3e-02 nm, Epot= -5.03340e+05 Fmax= 5.43574e+03, atom= 435\n",
      "Step=  134, Dmax= 7.7e-03 nm, Epot= -5.03542e+05 Fmax= 5.08094e+03, atom= 435\n",
      "Step=  135, Dmax= 9.2e-03 nm, Epot= -5.03660e+05 Fmax= 7.64105e+03, atom= 435\n",
      "Step=  136, Dmax= 1.1e-02 nm, Epot= -5.03848e+05 Fmax= 7.64425e+03, atom= 435\n",
      "Step=  138, Dmax= 6.6e-03 nm, Epot= -5.04179e+05 Fmax= 1.77193e+03, atom= 435\n",
      "Step=  139, Dmax= 8.0e-03 nm, Epot= -5.04493e+05 Fmax= 9.83932e+03, atom= 435\n",
      "Step=  140, Dmax= 9.6e-03 nm, Epot= -5.04861e+05 Fmax= 3.86089e+03, atom= 435\n",
      "Step=  141, Dmax= 1.1e-02 nm, Epot= -5.04883e+05 Fmax= 1.25357e+04, atom= 435\n",
      "Step=  142, Dmax= 1.4e-02 nm, Epot= -5.05295e+05 Fmax= 7.03710e+03, atom= 435\n",
      "Step=  144, Dmax= 8.3e-03 nm, Epot= -5.05517e+05 Fmax= 4.10853e+03, atom= 435\n",
      "Step=  145, Dmax= 9.9e-03 nm, Epot= -5.05605e+05 Fmax= 9.47038e+03, atom= 435\n",
      "Step=  146, Dmax= 1.2e-02 nm, Epot= -5.05874e+05 Fmax= 6.87917e+03, atom= 435\n",
      "Step=  148, Dmax= 7.1e-03 nm, Epot= -5.06111e+05 Fmax= 3.12772e+03, atom= 435\n",
      "Step=  149, Dmax= 8.6e-03 nm, Epot= -5.06244e+05 Fmax= 9.13215e+03, atom= 435\n",
      "Step=  150, Dmax= 1.0e-02 nm, Epot= -5.06526e+05 Fmax= 5.37176e+03, atom= 435\n",
      "Step=  152, Dmax= 6.2e-03 nm, Epot= -5.06711e+05 Fmax= 3.07331e+03, atom= 435\n",
      "Step=  153, Dmax= 7.4e-03 nm, Epot= -5.06873e+05 Fmax= 7.08815e+03, atom= 435\n",
      "Step=  154, Dmax= 8.9e-03 nm, Epot= -5.07082e+05 Fmax= 5.20031e+03, atom= 435\n",
      "Step=  155, Dmax= 1.1e-02 nm, Epot= -5.07118e+05 Fmax= 9.54050e+03, atom= 435\n"
     ]
    },
    {
     "name": "stdout",
     "output_type": "stream",
     "text": [
      "Step=  156, Dmax= 1.3e-02 nm, Epot= -5.07342e+05 Fmax= 8.05912e+03, atom= 435\n",
      "Step=  158, Dmax= 7.7e-03 nm, Epot= -5.07635e+05 Fmax= 2.73759e+03, atom= 435\n",
      "Step=  159, Dmax= 9.2e-03 nm, Epot= -5.07729e+05 Fmax= 1.05983e+04, atom= 435\n",
      "Step=  160, Dmax= 1.1e-02 nm, Epot= -5.08082e+05 Fmax= 5.12410e+03, atom= 435\n",
      "Step=  162, Dmax= 6.6e-03 nm, Epot= -5.08249e+05 Fmax= 3.96494e+03, atom= 435\n",
      "Step=  163, Dmax= 7.9e-03 nm, Epot= -5.08371e+05 Fmax= 6.97047e+03, atom= 435\n",
      "Step=  164, Dmax= 9.5e-03 nm, Epot= -5.08545e+05 Fmax= 6.23097e+03, atom= 435\n",
      "Step=  165, Dmax= 1.1e-02 nm, Epot= -5.08579e+05 Fmax= 9.60713e+03, atom= 435\n",
      "Step=  166, Dmax= 1.4e-02 nm, Epot= -5.08737e+05 Fmax= 9.30527e+03, atom= 435\n",
      "Step=  168, Dmax= 8.2e-03 nm, Epot= -5.09084e+05 Fmax= 2.35794e+03, atom= 435\n",
      "Step=  169, Dmax= 9.9e-03 nm, Epot= -5.09173e+05 Fmax= 1.22215e+04, atom= 435\n",
      "Step=  170, Dmax= 1.2e-02 nm, Epot= -5.09584e+05 Fmax= 4.86999e+03, atom= 435\n",
      "Step=  172, Dmax= 7.1e-03 nm, Epot= -5.09732e+05 Fmax= 4.91695e+03, atom= 435\n",
      "Step=  173, Dmax= 8.5e-03 nm, Epot= -5.09849e+05 Fmax= 6.85504e+03, atom= 435\n",
      "Step=  174, Dmax= 1.0e-02 nm, Epot= -5.09982e+05 Fmax= 7.33861e+03, atom= 435\n",
      "Step=  175, Dmax= 1.2e-02 nm, Epot= -5.10040e+05 Fmax= 9.68091e+03, atom= 435\n",
      "Step=  176, Dmax= 1.5e-02 nm, Epot= -5.10134e+05 Fmax= 1.06472e+04, atom= 435\n",
      "Step=  178, Dmax= 8.9e-03 nm, Epot= -5.10507e+05 Fmax= 1.96837e+03, atom= 435\n",
      "Step=  179, Dmax= 1.1e-02 nm, Epot= -5.10667e+05 Fmax= 1.40692e+04, atom= 435\n",
      "Step=  180, Dmax= 1.3e-02 nm, Epot= -5.11097e+05 Fmax= 4.60181e+03, atom= 435\n",
      "Step=  182, Dmax= 7.7e-03 nm, Epot= -5.11230e+05 Fmax= 5.95138e+03, atom= 435\n",
      "Step=  183, Dmax= 9.2e-03 nm, Epot= -5.11354e+05 Fmax= 6.74494e+03, atom= 435\n",
      "Step=  184, Dmax= 1.1e-02 nm, Epot= -5.11459e+05 Fmax= 8.52881e+03, atom= 435\n",
      "Step=  185, Dmax= 1.3e-02 nm, Epot= -5.11552e+05 Fmax= 9.77271e+03, atom= 435\n",
      "Step=  186, Dmax= 1.6e-02 nm, Epot= -5.11602e+05 Fmax= 1.20852e+04, atom= 435\n",
      "Step=  187, Dmax= 1.9e-02 nm, Epot= -5.11615e+05 Fmax= 1.40852e+04, atom= 435\n",
      "Step=  189, Dmax= 1.1e-02 nm, Epot= -5.12097e+05 Fmax= 1.61433e+03, atom= 437\n",
      "Step=  190, Dmax= 1.4e-02 nm, Epot= -5.12201e+05 Fmax= 1.49001e+04, atom= 437\n",
      "Step=  191, Dmax= 1.6e-02 nm, Epot= -5.12753e+05 Fmax= 7.69515e+03, atom= 653\n",
      "Step=  193, Dmax= 9.9e-03 nm, Epot= -5.12954e+05 Fmax= 5.91335e+03, atom= 435\n",
      "Step=  195, Dmax= 5.9e-03 nm, Epot= -5.13148e+05 Fmax= 2.32859e+03, atom= 435\n",
      "Step=  196, Dmax= 7.1e-03 nm, Epot= -5.13215e+05 Fmax= 7.83089e+03, atom= 653\n",
      "Step=  197, Dmax= 8.5e-03 nm, Epot= -5.13466e+05 Fmax= 4.22814e+03, atom= 653\n",
      "Step=  199, Dmax= 5.1e-03 nm, Epot= -5.13601e+05 Fmax= 2.85386e+03, atom= 653\n",
      "Step=  200, Dmax= 6.1e-03 nm, Epot= -5.13697e+05 Fmax= 5.63105e+03, atom= 653\n",
      "Step=  201, Dmax= 7.4e-03 nm, Epot= -5.13842e+05 Fmax= 4.62786e+03, atom= 653\n",
      "Step=  202, Dmax= 8.8e-03 nm, Epot= -5.13860e+05 Fmax= 7.75237e+03, atom= 435\n",
      "Step=  203, Dmax= 1.1e-02 nm, Epot= -5.14009e+05 Fmax= 7.10877e+03, atom= 435\n",
      "Step=  205, Dmax= 6.4e-03 nm, Epot= -5.14257e+05 Fmax= 1.81081e+03, atom= 653\n",
      "Step=  206, Dmax= 7.6e-03 nm, Epot= -5.14344e+05 Fmax= 9.34656e+03, atom= 653\n",
      "Step=  207, Dmax= 9.2e-03 nm, Epot= -5.14655e+05 Fmax= 3.74595e+03, atom= 653\n",
      "Step=  209, Dmax= 5.5e-03 nm, Epot= -5.14769e+05 Fmax= 3.88707e+03, atom= 653\n",
      "Step=  210, Dmax= 6.6e-03 nm, Epot= -5.14865e+05 Fmax= 5.25823e+03, atom= 653\n",
      "Step=  211, Dmax= 7.9e-03 nm, Epot= -5.14968e+05 Fmax= 5.77718e+03, atom= 653\n",
      "Step=  212, Dmax= 9.5e-03 nm, Epot= -5.15028e+05 Fmax= 7.45462e+03, atom= 653\n",
      "Step=  213, Dmax= 1.1e-02 nm, Epot= -5.15099e+05 Fmax= 8.37212e+03, atom= 653\n",
      "Step=  215, Dmax= 6.8e-03 nm, Epot= -5.15376e+05 Fmax= 1.33954e+03, atom= 653\n",
      "Step=  216, Dmax= 8.2e-03 nm, Epot= -5.15595e+05 Fmax= 1.09722e+04, atom= 653\n",
      "Step=  217, Dmax= 9.9e-03 nm, Epot= -5.15903e+05 Fmax= 3.30802e+03, atom= 653\n",
      "Step=  219, Dmax= 5.9e-03 nm, Epot= -5.16013e+05 Fmax= 4.91259e+03, atom= 653\n",
      "Step=  220, Dmax= 7.1e-03 nm, Epot= -5.16119e+05 Fmax= 4.96069e+03, atom= 653\n",
      "Step=  221, Dmax= 8.5e-03 nm, Epot= -5.16202e+05 Fmax= 6.91399e+03, atom= 653\n",
      "Step=  222, Dmax= 1.0e-02 nm, Epot= -5.16297e+05 Fmax= 7.32572e+03, atom= 653\n",
      "Step=  223, Dmax= 1.2e-02 nm, Epot= -5.16338e+05 Fmax= 9.70075e+03, atom= 653\n",
      "Step=  224, Dmax= 1.5e-02 nm, Epot= -5.16397e+05 Fmax= 1.07273e+04, atom= 653\n",
      "Step=  226, Dmax= 8.8e-03 nm, Epot= -5.16696e+05 Fmax= 1.38555e+03, atom= 655\n",
      "Step=  227, Dmax= 1.1e-02 nm, Epot= -5.16786e+05 Fmax= 1.20910e+04, atom= 655\n",
      "Step=  228, Dmax= 1.3e-02 nm, Epot= -5.17214e+05 Fmax= 6.24917e+03, atom= 653\n",
      "Step=  230, Dmax= 7.6e-03 nm, Epot= -5.17360e+05 Fmax= 4.36978e+03, atom= 653\n",
      "Step=  232, Dmax= 4.6e-03 nm, Epot= -5.17478e+05 Fmax= 2.01627e+03, atom= 653\n",
      "Step=  233, Dmax= 5.5e-03 nm, Epot= -5.17584e+05 Fmax= 5.60336e+03, atom= 653\n",
      "Step=  234, Dmax= 6.6e-03 nm, Epot= -5.17721e+05 Fmax= 3.58966e+03, atom= 653\n",
      "Step=  235, Dmax= 7.9e-03 nm, Epot= -5.17738e+05 Fmax= 7.43906e+03, atom= 653\n",
      "Step=  236, Dmax= 9.5e-03 nm, Epot= -5.17891e+05 Fmax= 5.73904e+03, atom= 653\n",
      "Step=  238, Dmax= 5.7e-03 nm, Epot= -5.18054e+05 Fmax= 2.25203e+03, atom= 653\n",
      "Step=  239, Dmax= 6.8e-03 nm, Epot= -5.18106e+05 Fmax= 7.53971e+03, atom= 653\n",
      "Step=  240, Dmax= 8.2e-03 nm, Epot= -5.18303e+05 Fmax= 4.04779e+03, atom= 653\n",
      "Step=  242, Dmax= 4.9e-03 nm, Epot= -5.18408e+05 Fmax= 2.76988e+03, atom= 653\n",
      "Step=  243, Dmax= 5.9e-03 nm, Epot= -5.18485e+05 Fmax= 5.39606e+03, atom= 653\n",
      "Step=  244, Dmax= 7.1e-03 nm, Epot= -5.18598e+05 Fmax= 4.47043e+03, atom= 653\n",
      "Step=  245, Dmax= 8.5e-03 nm, Epot= -5.18613e+05 Fmax= 7.36399e+03, atom= 653\n",
      "Step=  246, Dmax= 1.0e-02 nm, Epot= -5.18724e+05 Fmax= 6.78902e+03, atom= 653\n",
      "Step=  248, Dmax= 6.1e-03 nm, Epot= -5.18927e+05 Fmax= 1.84382e+03, atom= 653\n",
      "Step=  249, Dmax= 7.3e-03 nm, Epot= -5.18982e+05 Fmax= 8.82609e+03, atom= 653\n",
      "Step=  250, Dmax= 8.8e-03 nm, Epot= -5.19225e+05 Fmax= 3.72814e+03, atom= 653\n",
      "Step=  252, Dmax= 5.3e-03 nm, Epot= -5.19316e+05 Fmax= 3.60634e+03, atom= 653\n",
      "Step=  253, Dmax= 6.3e-03 nm, Epot= -5.19390e+05 Fmax= 5.18566e+03, atom= 653\n",
      "Step=  254, Dmax= 7.6e-03 nm, Epot= -5.19476e+05 Fmax= 5.42005e+03, atom= 653\n",
      "Step=  255, Dmax= 9.1e-03 nm, Epot= -5.19512e+05 Fmax= 7.30215e+03, atom= 653\n",
      "Step=  256, Dmax= 1.1e-02 nm, Epot= -5.19575e+05 Fmax= 7.91368e+03, atom= 653\n",
      "Step=  258, Dmax= 6.6e-03 nm, Epot= -5.19802e+05 Fmax= 1.41313e+03, atom= 653\n",
      "Step=  259, Dmax= 7.9e-03 nm, Epot= -5.19925e+05 Fmax= 1.02999e+04, atom= 653\n",
      "Step=  260, Dmax= 9.5e-03 nm, Epot= -5.20190e+05 Fmax= 3.35812e+03, atom= 653\n",
      "Step=  262, Dmax= 5.7e-03 nm, Epot= -5.20275e+05 Fmax= 4.53873e+03, atom= 653\n",
      "Step=  263, Dmax= 6.8e-03 nm, Epot= -5.20356e+05 Fmax= 4.94506e+03, atom= 653\n",
      "Step=  264, Dmax= 8.2e-03 nm, Epot= -5.20421e+05 Fmax= 6.46436e+03, atom= 653\n",
      "Step=  265, Dmax= 9.8e-03 nm, Epot= -5.20488e+05 Fmax= 7.22393e+03, atom= 653\n",
      "Step=  266, Dmax= 1.2e-02 nm, Epot= -5.20517e+05 Fmax= 9.14199e+03, atom= 653\n",
      "Step=  267, Dmax= 1.4e-02 nm, Epot= -5.20544e+05 Fmax= 1.05071e+04, atom= 653\n",
      "Step=  269, Dmax= 8.5e-03 nm, Epot= -5.20833e+05 Fmax= 1.20273e+03, atom= 655\n",
      "Step=  270, Dmax= 1.0e-02 nm, Epot= -5.20889e+05 Fmax= 1.15665e+04, atom= 655\n",
      "Step=  271, Dmax= 1.2e-02 nm, Epot= -5.21282e+05 Fmax= 5.92678e+03, atom= 653\n",
      "Step=  273, Dmax= 7.3e-03 nm, Epot= -5.21408e+05 Fmax= 4.30923e+03, atom= 653\n",
      "Step=  275, Dmax= 4.4e-03 nm, Epot= -5.21516e+05 Fmax= 1.82865e+03, atom= 653\n",
      "Step=  276, Dmax= 5.3e-03 nm, Epot= -5.21589e+05 Fmax= 5.67096e+03, atom= 788\n",
      "Step=  277, Dmax= 6.3e-03 nm, Epot= -5.21722e+05 Fmax= 3.30535e+03, atom= 788\n",
      "Step=  279, Dmax= 3.8e-03 nm, Epot= -5.21807e+05 Fmax= 1.98153e+03, atom= 788\n",
      "Step=  280, Dmax= 4.6e-03 nm, Epot= -5.21888e+05 Fmax= 4.36468e+03, atom= 788\n",
      "Step=  281, Dmax= 5.5e-03 nm, Epot= -5.21985e+05 Fmax= 3.28245e+03, atom= 788\n",
      "Step=  282, Dmax= 6.6e-03 nm, Epot= -5.22018e+05 Fmax= 5.91240e+03, atom= 653\n",
      "Step=  283, Dmax= 7.9e-03 nm, Epot= -5.22121e+05 Fmax= 5.15851e+03, atom= 653\n",
      "Step=  285, Dmax= 4.7e-03 nm, Epot= -5.22249e+05 Fmax= 1.52738e+03, atom= 788\n",
      "Step=  286, Dmax= 5.7e-03 nm, Epot= -5.22338e+05 Fmax= 6.64018e+03, atom= 788\n",
      "Step=  287, Dmax= 6.8e-03 nm, Epot= -5.22491e+05 Fmax= 3.06090e+03, atom= 788\n",
      "Step=  289, Dmax= 4.1e-03 nm, Epot= -5.22570e+05 Fmax= 2.63516e+03, atom= 788\n",
      "Step=  290, Dmax= 4.9e-03 nm, Epot= -5.22642e+05 Fmax= 4.20096e+03, atom= 788\n",
      "Step=  291, Dmax= 5.9e-03 nm, Epot= -5.22721e+05 Fmax= 4.02942e+03, atom= 788\n",
      "Step=  292, Dmax= 7.1e-03 nm, Epot= -5.22767e+05 Fmax= 5.84463e+03, atom= 788\n",
      "Step=  293, Dmax= 8.5e-03 nm, Epot= -5.22837e+05 Fmax= 5.98547e+03, atom= 788\n",
      "Step=  294, Dmax= 1.0e-02 nm, Epot= -5.22841e+05 Fmax= 8.21431e+03, atom= 788\n",
      "Step=  295, Dmax= 1.2e-02 nm, Epot= -5.22892e+05 Fmax= 8.74388e+03, atom= 788\n"
     ]
    },
    {
     "name": "stdout",
     "output_type": "stream",
     "text": [
      "Step=  297, Dmax= 7.3e-03 nm, Epot= -5.23144e+05 Fmax= 1.72718e+03, atom= 788\n",
      "Step=  298, Dmax= 8.8e-03 nm, Epot= -5.23167e+05 Fmax= 1.13444e+04, atom= 788\n",
      "Step=  299, Dmax= 1.1e-02 nm, Epot= -5.23436e+05 Fmax= 3.96922e+03, atom= 788\n",
      "Step=  301, Dmax= 6.3e-03 nm, Epot= -5.23507e+05 Fmax= 4.83153e+03, atom= 788\n",
      "Step=  302, Dmax= 7.6e-03 nm, Epot= -5.23569e+05 Fmax= 5.73221e+03, atom= 788\n",
      "Step=  303, Dmax= 9.1e-03 nm, Epot= -5.23623e+05 Fmax= 6.99159e+03, atom= 788\n",
      "Step=  304, Dmax= 1.1e-02 nm, Epot= -5.23666e+05 Fmax= 8.25125e+03, atom= 788\n",
      "Step=  305, Dmax= 1.3e-02 nm, Epot= -5.23690e+05 Fmax= 9.99561e+03, atom= 788\n",
      "Step=  307, Dmax= 7.9e-03 nm, Epot= -5.23910e+05 Fmax= 1.33083e+03, atom= 788\n",
      "Step=  308, Dmax= 9.4e-03 nm, Epot= -5.24069e+05 Fmax= 1.31476e+04, atom= 788\n",
      "Step=  309, Dmax= 1.1e-02 nm, Epot= -5.24299e+05 Fmax= 3.62309e+03, atom= 788\n",
      "Step=  311, Dmax= 6.8e-03 nm, Epot= -5.24372e+05 Fmax= 5.88593e+03, atom= 788\n",
      "Step=  312, Dmax= 8.2e-03 nm, Epot= -5.24442e+05 Fmax= 5.54647e+03, atom= 788\n",
      "Step=  313, Dmax= 9.8e-03 nm, Epot= -5.24495e+05 Fmax= 8.17322e+03, atom= 788\n",
      "Step=  314, Dmax= 1.2e-02 nm, Epot= -5.24560e+05 Fmax= 8.26209e+03, atom= 788\n",
      "Step=  315, Dmax= 1.4e-02 nm, Epot= -5.24581e+05 Fmax= 1.13990e+04, atom= 788\n",
      "Step=  316, Dmax= 1.7e-02 nm, Epot= -5.24623e+05 Fmax= 1.21052e+04, atom= 788\n",
      "Step=  318, Dmax= 1.0e-02 nm, Epot= -5.24825e+05 Fmax= 1.55499e+03, atom= 790\n",
      "Step=  319, Dmax= 1.2e-02 nm, Epot= -5.24862e+05 Fmax= 1.41835e+04, atom= 788\n",
      "Step=  320, Dmax= 1.5e-02 nm, Epot= -5.25182e+05 Fmax= 7.37632e+03, atom= 788\n",
      "Step=  322, Dmax= 8.8e-03 nm, Epot= -5.25279e+05 Fmax= 4.89280e+03, atom= 788\n",
      "Step=  323, Dmax= 1.1e-02 nm, Epot= -5.25283e+05 Fmax= 1.00200e+04, atom= 788\n",
      "Step=  324, Dmax= 1.3e-02 nm, Epot= -5.25393e+05 Fmax= 7.76964e+03, atom= 788\n",
      "Step=  326, Dmax= 7.6e-03 nm, Epot= -5.25510e+05 Fmax= 2.54935e+03, atom= 788\n",
      "Step=  327, Dmax= 9.1e-03 nm, Epot= -5.25531e+05 Fmax= 1.00142e+04, atom= 788\n",
      "Step=  328, Dmax= 1.1e-02 nm, Epot= -5.25694e+05 Fmax= 5.18209e+03, atom= 788\n",
      "Step=  330, Dmax= 6.5e-03 nm, Epot= -5.25769e+05 Fmax= 3.97618e+03, atom= 788\n",
      "Step=  331, Dmax= 7.9e-03 nm, Epot= -5.25808e+05 Fmax= 7.17942e+03, atom= 788\n",
      "Step=  332, Dmax= 9.4e-03 nm, Epot= -5.25889e+05 Fmax= 6.06141e+03, atom= 788\n",
      "Step=  334, Dmax= 5.7e-03 nm, Epot= -5.25983e+05 Fmax= 1.71987e+03, atom= 788\n",
      "Step=  335, Dmax= 6.8e-03 nm, Epot= -5.26068e+05 Fmax= 7.62695e+03, atom= 788\n",
      "Step=  336, Dmax= 8.1e-03 nm, Epot= -5.26192e+05 Fmax= 3.75082e+03, atom= 788\n",
      "Step=  338, Dmax= 4.9e-03 nm, Epot= -5.26257e+05 Fmax= 3.10852e+03, atom= 788\n",
      "Step=  339, Dmax= 5.9e-03 nm, Epot= -5.26312e+05 Fmax= 5.20075e+03, atom= 788\n",
      "Step=  340, Dmax= 7.0e-03 nm, Epot= -5.26383e+05 Fmax= 4.69286e+03, atom= 788\n",
      "Step=  341, Dmax= 8.4e-03 nm, Epot= -5.26415e+05 Fmax= 7.20699e+03, atom= 788\n",
      "Step=  342, Dmax= 1.0e-02 nm, Epot= -5.26479e+05 Fmax= 7.01901e+03, atom= 788\n",
      "Step=  344, Dmax= 6.1e-03 nm, Epot= -5.26594e+05 Fmax= 1.29327e+03, atom= 788\n",
      "Step=  345, Dmax= 7.3e-03 nm, Epot= -5.26687e+05 Fmax= 8.86131e+03, atom= 788\n",
      "Step=  346, Dmax= 8.8e-03 nm, Epot= -5.26865e+05 Fmax= 3.46510e+03, atom= 788\n",
      "Step=  348, Dmax= 5.3e-03 nm, Epot= -5.26924e+05 Fmax= 3.89575e+03, atom= 788\n",
      "Step=  349, Dmax= 6.3e-03 nm, Epot= -5.26976e+05 Fmax= 4.98408e+03, atom= 788\n",
      "Step=  350, Dmax= 7.6e-03 nm, Epot= -5.27029e+05 Fmax= 5.63061e+03, atom= 788\n",
      "Step=  351, Dmax= 9.1e-03 nm, Epot= -5.27060e+05 Fmax= 7.10187e+03, atom= 788\n",
      "Step=  352, Dmax= 1.1e-02 nm, Epot= -5.27094e+05 Fmax= 8.14437e+03, atom= 788\n",
      "Step=  353, Dmax= 1.3e-02 nm, Epot= -5.27095e+05 Fmax= 1.00809e+04, atom= 788\n",
      "Step=  355, Dmax= 7.8e-03 nm, Epot= -5.27324e+05 Fmax= 1.21237e+03, atom= 788\n",
      "Step=  356, Dmax= 9.4e-03 nm, Epot= -5.27455e+05 Fmax= 1.33007e+04, atom= 788\n",
      "Step=  357, Dmax= 1.1e-02 nm, Epot= -5.27677e+05 Fmax= 3.47904e+03, atom= 788\n",
      "Step=  359, Dmax= 6.8e-03 nm, Epot= -5.27737e+05 Fmax= 6.00855e+03, atom= 788\n",
      "Step=  360, Dmax= 8.1e-03 nm, Epot= -5.27798e+05 Fmax= 5.41170e+03, atom= 788\n",
      "Step=  361, Dmax= 9.8e-03 nm, Epot= -5.27834e+05 Fmax= 8.27746e+03, atom= 788\n",
      "Step=  362, Dmax= 1.2e-02 nm, Epot= -5.27891e+05 Fmax= 8.11975e+03, atom= 788\n",
      "Step=  363, Dmax= 1.4e-02 nm, Epot= -5.27899e+05 Fmax= 1.14977e+04, atom= 788\n",
      "Step=  364, Dmax= 1.7e-02 nm, Epot= -5.27938e+05 Fmax= 1.19436e+04, atom= 788\n",
      "Step=  366, Dmax= 1.0e-02 nm, Epot= -5.28119e+05 Fmax= 1.59891e+03, atom= 790\n",
      "Step=  368, Dmax= 6.1e-03 nm, Epot= -5.28212e+05 Fmax= 6.22885e+03, atom= 788\n",
      "Step=  369, Dmax= 7.3e-03 nm, Epot= -5.28297e+05 Fmax= 4.29702e+03, atom= 788\n",
      "Step=  370, Dmax= 8.7e-03 nm, Epot= -5.28314e+05 Fmax= 7.84728e+03, atom= 788\n",
      "Step=  371, Dmax= 1.0e-02 nm, Epot= -5.28392e+05 Fmax= 6.74649e+03, atom= 788\n",
      "Step=  373, Dmax= 6.3e-03 nm, Epot= -5.28489e+05 Fmax= 2.14388e+03, atom= 788\n",
      "Step=  374, Dmax= 7.6e-03 nm, Epot= -5.28534e+05 Fmax= 8.85207e+03, atom= 788\n",
      "Step=  375, Dmax= 9.1e-03 nm, Epot= -5.28654e+05 Fmax= 4.08805e+03, atom= 788\n",
      "Step=  377, Dmax= 5.4e-03 nm, Epot= -5.28713e+05 Fmax= 3.46684e+03, atom= 788\n",
      "Step=  378, Dmax= 6.5e-03 nm, Epot= -5.28761e+05 Fmax= 5.56906e+03, atom= 788\n",
      "Step=  379, Dmax= 7.8e-03 nm, Epot= -5.28819e+05 Fmax= 5.36149e+03, atom= 788\n",
      "Step=  380, Dmax= 9.4e-03 nm, Epot= -5.28843e+05 Fmax= 7.71526e+03, atom= 788\n",
      "Step=  381, Dmax= 1.1e-02 nm, Epot= -5.28895e+05 Fmax= 7.96809e+03, atom= 788\n",
      "Step=  383, Dmax= 6.8e-03 nm, Epot= -5.29011e+05 Fmax= 1.68419e+03, atom= 788\n",
      "Step=  384, Dmax= 8.1e-03 nm, Epot= -5.29084e+05 Fmax= 1.03354e+04, atom= 788\n",
      "Step=  385, Dmax= 9.7e-03 nm, Epot= -5.29223e+05 Fmax= 3.74312e+03, atom= 788\n",
      "Step=  387, Dmax= 5.8e-03 nm, Epot= -5.29276e+05 Fmax= 4.39864e+03, atom= 788\n",
      "Step=  388, Dmax= 7.0e-03 nm, Epot= -5.29325e+05 Fmax= 5.35611e+03, atom= 788\n",
      "Step=  389, Dmax= 8.4e-03 nm, Epot= -5.29371e+05 Fmax= 6.41158e+03, atom= 788\n",
      "Step=  390, Dmax= 1.0e-02 nm, Epot= -5.29409e+05 Fmax= 7.67317e+03, atom= 788\n",
      "Step=  391, Dmax= 1.2e-02 nm, Epot= -5.29440e+05 Fmax= 9.21196e+03, atom= 788\n",
      "Step=  392, Dmax= 1.5e-02 nm, Epot= -5.29453e+05 Fmax= 1.09948e+04, atom= 788\n",
      "Step=  393, Dmax= 1.7e-02 nm, Epot= -5.29456e+05 Fmax= 1.30966e+04, atom= 788\n",
      "Step=  395, Dmax= 1.0e-02 nm, Epot= -5.29678e+05 Fmax= 1.99804e+03, atom= 788\n",
      "Step=  397, Dmax= 6.3e-03 nm, Epot= -5.29756e+05 Fmax= 7.17409e+03, atom= 788\n",
      "Step=  398, Dmax= 7.5e-03 nm, Epot= -5.29826e+05 Fmax= 3.41006e+03, atom= 788\n",
      "Step=  399, Dmax= 9.0e-03 nm, Epot= -5.29856e+05 Fmax= 9.57887e+03, atom= 788\n",
      "Step=  400, Dmax= 1.1e-02 nm, Epot= -5.29946e+05 Fmax= 5.79892e+03, atom= 788\n",
      "Step=  402, Dmax= 6.5e-03 nm, Epot= -5.30009e+05 Fmax= 3.11196e+03, atom= 788\n",
      "Step=  403, Dmax= 7.8e-03 nm, Epot= -5.30051e+05 Fmax= 7.60587e+03, atom= 788\n",
      "Step=  404, Dmax= 9.4e-03 nm, Epot= -5.30125e+05 Fmax= 5.40132e+03, atom= 788\n",
      "Step=  406, Dmax= 5.6e-03 nm, Epot= -5.30185e+05 Fmax= 2.53009e+03, atom= 788\n",
      "Step=  407, Dmax= 6.8e-03 nm, Epot= -5.30241e+05 Fmax= 7.17362e+03, atom= 788\n",
      "Step=  408, Dmax= 8.1e-03 nm, Epot= -5.30310e+05 Fmax= 4.29496e+03, atom= 788\n",
      "Step=  409, Dmax= 9.7e-03 nm, Epot= -5.30327e+05 Fmax= 9.54328e+03, atom= 788\n",
      "Step=  410, Dmax= 1.2e-02 nm, Epot= -5.30407e+05 Fmax= 6.93856e+03, atom= 788\n",
      "Step=  412, Dmax= 7.0e-03 nm, Epot= -5.30481e+05 Fmax= 2.59104e+03, atom= 788\n",
      "Step=  413, Dmax= 8.4e-03 nm, Epot= -5.30520e+05 Fmax= 8.96677e+03, atom= 788\n",
      "Step=  414, Dmax= 1.0e-02 nm, Epot= -5.30617e+05 Fmax= 5.03192e+03, atom= 788\n",
      "Step=  416, Dmax= 6.1e-03 nm, Epot= -5.30673e+05 Fmax= 3.45728e+03, atom= 788\n",
      "Step=  417, Dmax= 7.3e-03 nm, Epot= -5.30711e+05 Fmax= 6.88018e+03, atom= 788\n",
      "Step=  418, Dmax= 8.7e-03 nm, Epot= -5.30773e+05 Fmax= 5.37867e+03, atom= 788\n",
      "Step=  419, Dmax= 1.0e-02 nm, Epot= -5.30785e+05 Fmax= 9.39357e+03, atom= 788\n",
      "Step=  420, Dmax= 1.3e-02 nm, Epot= -5.30847e+05 Fmax= 8.21628e+03, atom= 788\n",
      "Step=  422, Dmax= 7.5e-03 nm, Epot= -5.30944e+05 Fmax= 1.97262e+03, atom= 788\n",
      "Step=  423, Dmax= 9.0e-03 nm, Epot= -5.30971e+05 Fmax= 1.05358e+04, atom= 788\n",
      "Step=  424, Dmax= 1.1e-02 nm, Epot= -5.31116e+05 Fmax= 4.64468e+03, atom= 788\n",
      "Step=  426, Dmax= 6.5e-03 nm, Epot= -5.31167e+05 Fmax= 4.43954e+03, atom= 788\n",
      "Step=  427, Dmax= 7.8e-03 nm, Epot= -5.31198e+05 Fmax= 6.58954e+03, atom= 788\n",
      "Step=  428, Dmax= 9.4e-03 nm, Epot= -5.31246e+05 Fmax= 6.52980e+03, atom= 788\n",
      "Step=  429, Dmax= 1.1e-02 nm, Epot= -5.31255e+05 Fmax= 9.24519e+03, atom= 788\n",
      "Step=  430, Dmax= 1.3e-02 nm, Epot= -5.31293e+05 Fmax= 9.58623e+03, atom= 788\n",
      "Step=  432, Dmax= 8.1e-03 nm, Epot= -5.31430e+05 Fmax= 1.33341e+03, atom= 788\n",
      "Step=  434, Dmax= 4.9e-03 nm, Epot= -5.31505e+05 Fmax= 5.36353e+03, atom= 788\n",
      "Step=  435, Dmax= 5.8e-03 nm, Epot= -5.31577e+05 Fmax= 2.96904e+03, atom= 788\n",
      "Step=  436, Dmax= 7.0e-03 nm, Epot= -5.31598e+05 Fmax= 6.71673e+03, atom= 788\n",
      "Step=  437, Dmax= 8.4e-03 nm, Epot= -5.31672e+05 Fmax= 4.96485e+03, atom= 788\n"
     ]
    },
    {
     "name": "stdout",
     "output_type": "stream",
     "text": [
      "Step=  439, Dmax= 5.0e-03 nm, Epot= -5.31738e+05 Fmax= 2.13403e+03, atom= 788\n",
      "Step=  440, Dmax= 6.0e-03 nm, Epot= -5.31775e+05 Fmax= 6.53809e+03, atom= 788\n",
      "Step=  441, Dmax= 7.2e-03 nm, Epot= -5.31853e+05 Fmax= 3.73027e+03, atom= 788\n",
      "Step=  443, Dmax= 4.3e-03 nm, Epot= -5.31904e+05 Fmax= 2.32118e+03, atom= 788\n",
      "Step=  444, Dmax= 5.2e-03 nm, Epot= -5.31950e+05 Fmax= 4.90762e+03, atom= 788\n",
      "Step=  445, Dmax= 6.3e-03 nm, Epot= -5.32004e+05 Fmax= 3.84382e+03, atom= 788\n",
      "Step=  446, Dmax= 7.5e-03 nm, Epot= -5.32021e+05 Fmax= 6.62407e+03, atom= 788\n",
      "Step=  447, Dmax= 9.0e-03 nm, Epot= -5.32078e+05 Fmax= 5.94087e+03, atom= 788\n",
      "Step=  449, Dmax= 5.4e-03 nm, Epot= -5.32159e+05 Fmax= 1.74081e+03, atom= 788\n",
      "Step=  450, Dmax= 6.5e-03 nm, Epot= -5.32202e+05 Fmax= 7.67000e+03, atom= 788\n",
      "Step=  451, Dmax= 7.8e-03 nm, Epot= -5.32298e+05 Fmax= 3.44739e+03, atom= 788\n",
      "Step=  453, Dmax= 4.7e-03 nm, Epot= -5.32345e+05 Fmax= 3.06367e+03, atom= 788\n",
      "Step=  454, Dmax= 5.6e-03 nm, Epot= -5.32386e+05 Fmax= 4.72930e+03, atom= 788\n",
      "Step=  455, Dmax= 6.7e-03 nm, Epot= -5.32431e+05 Fmax= 4.68240e+03, atom= 788\n",
      "Step=  456, Dmax= 8.1e-03 nm, Epot= -5.32456e+05 Fmax= 6.58316e+03, atom= 788\n",
      "Step=  457, Dmax= 9.7e-03 nm, Epot= -5.32496e+05 Fmax= 6.93592e+03, atom= 788\n",
      "Step=  459, Dmax= 5.8e-03 nm, Epot= -5.32587e+05 Fmax= 1.36376e+03, atom= 788\n",
      "Step=  460, Dmax= 7.0e-03 nm, Epot= -5.32658e+05 Fmax= 8.90188e+03, atom= 788\n",
      "Step=  461, Dmax= 8.4e-03 nm, Epot= -5.32768e+05 Fmax= 3.15744e+03, atom= 788\n",
      "Step=  463, Dmax= 5.0e-03 nm, Epot= -5.32811e+05 Fmax= 3.85841e+03, atom= 788\n",
      "Step=  464, Dmax= 6.0e-03 nm, Epot= -5.32851e+05 Fmax= 4.54965e+03, atom= 788\n",
      "Step=  465, Dmax= 7.2e-03 nm, Epot= -5.32891e+05 Fmax= 5.58374e+03, atom= 788\n",
      "Step=  466, Dmax= 8.7e-03 nm, Epot= -5.32923e+05 Fmax= 6.54948e+03, atom= 788\n",
      "Step=  467, Dmax= 1.0e-02 nm, Epot= -5.32949e+05 Fmax= 8.00568e+03, atom= 788\n",
      "Step=  468, Dmax= 1.3e-02 nm, Epot= -5.32965e+05 Fmax= 9.41858e+03, atom= 788\n",
      "Step=  469, Dmax= 1.5e-02 nm, Epot= -5.32966e+05 Fmax= 1.14006e+04, atom= 788\n",
      "Step=  471, Dmax= 9.0e-03 nm, Epot= -5.33139e+05 Fmax= 1.58057e+03, atom= 788\n",
      "Step=  472, Dmax= 1.1e-02 nm, Epot= -5.33167e+05 Fmax= 1.52066e+04, atom= 788\n",
      "Step=  473, Dmax= 1.3e-02 nm, Epot= -5.33360e+05 Fmax= 4.17026e+03, atom= 788\n",
      "Step=  475, Dmax= 7.8e-03 nm, Epot= -5.33396e+05 Fmax= 6.69931e+03, atom= 788\n",
      "Step=  476, Dmax= 9.3e-03 nm, Epot= -5.33438e+05 Fmax= 6.34744e+03, atom= 788\n",
      "Step=  477, Dmax= 1.1e-02 nm, Epot= -5.33457e+05 Fmax= 9.32930e+03, atom= 788\n",
      "Step=  478, Dmax= 1.3e-02 nm, Epot= -5.33492e+05 Fmax= 9.41578e+03, atom= 788\n",
      "Step=  480, Dmax= 8.1e-03 nm, Epot= -5.33588e+05 Fmax= 1.38978e+03, atom= 788\n",
      "Step=  481, Dmax= 9.7e-03 nm, Epot= -5.33643e+05 Fmax= 1.22950e+04, atom= 788\n",
      "Step=  482, Dmax= 1.2e-02 nm, Epot= -5.33806e+05 Fmax= 4.32244e+03, atom= 788\n",
      "Step=  484, Dmax= 7.0e-03 nm, Epot= -5.33845e+05 Fmax= 5.34469e+03, atom= 788\n",
      "Step=  485, Dmax= 8.4e-03 nm, Epot= -5.33879e+05 Fmax= 6.36314e+03, atom= 788\n",
      "Step=  486, Dmax= 1.0e-02 nm, Epot= -5.33906e+05 Fmax= 7.65306e+03, atom= 788\n",
      "Step=  487, Dmax= 1.2e-02 nm, Epot= -5.33931e+05 Fmax= 9.13765e+03, atom= 788\n",
      "Step=  488, Dmax= 1.4e-02 nm, Epot= -5.33937e+05 Fmax= 1.09520e+04, atom= 788\n",
      "Step=  489, Dmax= 1.7e-02 nm, Epot= -5.33938e+05 Fmax= 1.29892e+04, atom= 788\n",
      "Step=  491, Dmax= 1.0e-02 nm, Epot= -5.34116e+05 Fmax= 1.97013e+03, atom= 788\n",
      "Step=  493, Dmax= 6.2e-03 nm, Epot= -5.34175e+05 Fmax= 7.13728e+03, atom= 788\n",
      "Step=  494, Dmax= 7.5e-03 nm, Epot= -5.34232e+05 Fmax= 3.36750e+03, atom= 788\n",
      "Step=  495, Dmax= 9.0e-03 nm, Epot= -5.34247e+05 Fmax= 9.53510e+03, atom= 788\n",
      "Step=  496, Dmax= 1.1e-02 nm, Epot= -5.34321e+05 Fmax= 5.73749e+03, atom= 788\n",
      "Step=  498, Dmax= 6.5e-03 nm, Epot= -5.34372e+05 Fmax= 3.11348e+03, atom= 788\n",
      "Step=  499, Dmax= 7.8e-03 nm, Epot= -5.34402e+05 Fmax= 7.52438e+03, atom= 788\n",
      "Step=  500, Dmax= 9.3e-03 nm, Epot= -5.34461e+05 Fmax= 5.39260e+03, atom= 788\n",
      "Step=  502, Dmax= 5.6e-03 nm, Epot= -5.34509e+05 Fmax= 2.48568e+03, atom= 788\n",
      "Step=  503, Dmax= 6.7e-03 nm, Epot= -5.34548e+05 Fmax= 7.15842e+03, atom= 788\n",
      "Step=  504, Dmax= 8.1e-03 nm, Epot= -5.34606e+05 Fmax= 4.23429e+03, atom= 788\n",
      "Step=  505, Dmax= 9.7e-03 nm, Epot= -5.34612e+05 Fmax= 9.51670e+03, atom= 788\n",
      "Step=  506, Dmax= 1.2e-02 nm, Epot= -5.34678e+05 Fmax= 6.85649e+03, atom= 788\n",
      "Step=  508, Dmax= 7.0e-03 nm, Epot= -5.34739e+05 Fmax= 2.61006e+03, atom= 788\n",
      "Step=  509, Dmax= 8.3e-03 nm, Epot= -5.34762e+05 Fmax= 8.85776e+03, atom= 788\n",
      "Step=  510, Dmax= 1.0e-02 nm, Epot= -5.34841e+05 Fmax= 5.03997e+03, atom= 788\n",
      "Step=  512, Dmax= 6.0e-03 nm, Epot= -5.34886e+05 Fmax= 3.39226e+03, atom= 788\n",
      "Step=  513, Dmax= 7.2e-03 nm, Epot= -5.34913e+05 Fmax= 6.88240e+03, atom= 788\n",
      "Step=  514, Dmax= 8.7e-03 nm, Epot= -5.34963e+05 Fmax= 5.29528e+03, atom= 788\n",
      "Step=  515, Dmax= 1.0e-02 nm, Epot= -5.34965e+05 Fmax= 9.38563e+03, atom= 788\n",
      "Step=  516, Dmax= 1.2e-02 nm, Epot= -5.35017e+05 Fmax= 8.10870e+03, atom= 788\n",
      "Step=  518, Dmax= 7.5e-03 nm, Epot= -5.35098e+05 Fmax= 2.01171e+03, atom= 788\n",
      "Step=  519, Dmax= 9.0e-03 nm, Epot= -5.35109e+05 Fmax= 1.03842e+04, atom= 788\n",
      "Step=  520, Dmax= 1.1e-02 nm, Epot= -5.35227e+05 Fmax= 4.67218e+03, atom= 788\n",
      "Step=  522, Dmax= 6.5e-03 nm, Epot= -5.35265e+05 Fmax= 4.35095e+03, atom= 788\n",
      "Step=  523, Dmax= 7.8e-03 nm, Epot= -5.35290e+05 Fmax= 6.61296e+03, atom= 788\n",
      "Step=  524, Dmax= 9.3e-03 nm, Epot= -5.35329e+05 Fmax= 6.41801e+03, atom= 788\n",
      "Step=  525, Dmax= 1.1e-02 nm, Epot= -5.35332e+05 Fmax= 9.26170e+03, atom= 788\n",
      "Step=  526, Dmax= 1.3e-02 nm, Epot= -5.35362e+05 Fmax= 9.44531e+03, atom= 788\n",
      "Step=  528, Dmax= 8.0e-03 nm, Epot= -5.35473e+05 Fmax= 1.39668e+03, atom= 788\n",
      "Step=  530, Dmax= 4.8e-03 nm, Epot= -5.35527e+05 Fmax= 5.24159e+03, atom= 788\n",
      "Step=  531, Dmax= 5.8e-03 nm, Epot= -5.35584e+05 Fmax= 3.02186e+03, atom= 788\n",
      "Step=  532, Dmax= 6.9e-03 nm, Epot= -5.35598e+05 Fmax= 6.59425e+03, atom= 788\n",
      "Step=  533, Dmax= 8.3e-03 nm, Epot= -5.35654e+05 Fmax= 5.01681e+03, atom= 788\n",
      "Step=  535, Dmax= 5.0e-03 nm, Epot= -5.35709e+05 Fmax= 2.03620e+03, atom= 788\n",
      "Step=  536, Dmax= 6.0e-03 nm, Epot= -5.35736e+05 Fmax= 6.59495e+03, atom= 788\n",
      "Step=  537, Dmax= 7.2e-03 nm, Epot= -5.35802e+05 Fmax= 3.61060e+03, atom= 788\n",
      "Step=  539, Dmax= 4.3e-03 nm, Epot= -5.35841e+05 Fmax= 2.40387e+03, atom= 788\n",
      "Step=  540, Dmax= 5.2e-03 nm, Epot= -5.35874e+05 Fmax= 4.77498e+03, atom= 788\n",
      "Step=  541, Dmax= 6.2e-03 nm, Epot= -5.35916e+05 Fmax= 3.91994e+03, atom= 788\n",
      "Step=  542, Dmax= 7.5e-03 nm, Epot= -5.35931e+05 Fmax= 6.47469e+03, atom= 788\n",
      "Step=  543, Dmax= 9.0e-03 nm, Epot= -5.35973e+05 Fmax= 6.01130e+03, atom= 788\n",
      "Step=  545, Dmax= 5.4e-03 nm, Epot= -5.36039e+05 Fmax= 1.62437e+03, atom= 788\n",
      "Step=  546, Dmax= 6.5e-03 nm, Epot= -5.36077e+05 Fmax= 7.74691e+03, atom= 788\n",
      "Step=  547, Dmax= 7.7e-03 nm, Epot= -5.36156e+05 Fmax= 3.30843e+03, atom= 788\n",
      "Step=  549, Dmax= 4.6e-03 nm, Epot= -5.36193e+05 Fmax= 3.16462e+03, atom= 788\n",
      "Step=  550, Dmax= 5.6e-03 nm, Epot= -5.36223e+05 Fmax= 4.57907e+03, atom= 788\n",
      "Step=  551, Dmax= 6.7e-03 nm, Epot= -5.36257e+05 Fmax= 4.77467e+03, atom= 788\n",
      "Step=  552, Dmax= 8.0e-03 nm, Epot= -5.36278e+05 Fmax= 6.41668e+03, atom= 788\n",
      "Step=  553, Dmax= 9.6e-03 nm, Epot= -5.36305e+05 Fmax= 7.02056e+03, atom= 788\n",
      "Step=  555, Dmax= 5.8e-03 nm, Epot= -5.36380e+05 Fmax= 1.23231e+03, atom= 788\n",
      "Step=  556, Dmax= 6.9e-03 nm, Epot= -5.36443e+05 Fmax= 9.00663e+03, atom= 788\n",
      "Step=  557, Dmax= 8.3e-03 nm, Epot= -5.36534e+05 Fmax= 2.99623e+03, atom= 788\n",
      "Step=  559, Dmax= 5.0e-03 nm, Epot= -5.36568e+05 Fmax= 3.98042e+03, atom= 788\n",
      "Step=  560, Dmax= 6.0e-03 nm, Epot= -5.36602e+05 Fmax= 4.38091e+03, atom= 788\n",
      "Step=  561, Dmax= 7.2e-03 nm, Epot= -5.36629e+05 Fmax= 5.69270e+03, atom= 788\n",
      "Step=  562, Dmax= 8.6e-03 nm, Epot= -5.36658e+05 Fmax= 6.36564e+03, atom= 788\n",
      "Step=  563, Dmax= 1.0e-02 nm, Epot= -5.36673e+05 Fmax= 8.10492e+03, atom= 788\n",
      "Step=  564, Dmax= 1.2e-02 nm, Epot= -5.36689e+05 Fmax= 9.20929e+03, atom= 788\n",
      "Step=  566, Dmax= 7.5e-03 nm, Epot= -5.36789e+05 Fmax= 8.97853e+02, atom= 790\n",
      "\n",
      "writing lowest energy coordinates.\n",
      "\n",
      "Steepest Descents converged to Fmax < 1000 in 567 steps\n",
      "Potential Energy  = -5.3678931e+05\n",
      "Maximum force     =  8.9785321e+02 on atom 790\n",
      "Norm of force     =  2.8603877e+01\n",
      "\n",
      "GROMACS reminds you: \"He's using code that only you and I know\" (Kate Bush)\n",
      "\n"
     ]
    }
   ],
   "source": [
    "!mkdir -p 00-em/\n",
    "!gmx grompp -f data/em.mdp -c solv_ions.gro -p topol.top -o 00-em/em.tpr -maxwarn 1\n",
    "!gmx mdrun -v -deffnm 00-em/em"
   ]
  },
  {
   "cell_type": "markdown",
   "metadata": {
    "slideshow": {
     "slide_type": "subslide"
    }
   },
   "source": [
    "What do we have to check if the minimization was correctly performed? "
   ]
  },
  {
   "cell_type": "markdown",
   "metadata": {
    "slideshow": {
     "slide_type": "fragment"
    }
   },
   "source": [
    "We need to check if the potential reached the convergence!"
   ]
  },
  {
   "cell_type": "code",
   "execution_count": 17,
   "metadata": {
    "scrolled": true,
    "slideshow": {
     "slide_type": "fragment"
    }
   },
   "outputs": [
    {
     "name": "stdout",
     "output_type": "stream",
     "text": [
      "                 :-) GROMACS - gmx energy, 2020.6-MODIFIED (-:\r\n",
      "\r\n",
      "                            GROMACS is written by:\r\n",
      "     Emile Apol      Rossen Apostolov      Paul Bauer     Herman J.C. Berendsen\r\n",
      "    Par Bjelkmar      Christian Blau   Viacheslav Bolnykh     Kevin Boyd    \r\n",
      " Aldert van Buuren   Rudi van Drunen     Anton Feenstra       Alan Gray     \r\n",
      "  Gerrit Groenhof     Anca Hamuraru    Vincent Hindriksen  M. Eric Irrgang  \r\n",
      "  Aleksei Iupinov   Christoph Junghans     Joe Jordan     Dimitrios Karkoulis\r\n",
      "    Peter Kasson        Jiri Kraus      Carsten Kutzner      Per Larsson    \r\n",
      "  Justin A. Lemkul    Viveca Lindahl    Magnus Lundborg     Erik Marklund   \r\n",
      "    Pascal Merz     Pieter Meulenhoff    Teemu Murtola       Szilard Pall   \r\n",
      "    Sander Pronk      Roland Schulz      Michael Shirts    Alexey Shvetsov  \r\n",
      "   Alfons Sijbers     Peter Tieleman      Jon Vincent      Teemu Virolainen \r\n",
      " Christian Wennberg    Maarten Wolf      Artem Zhmurov   \r\n",
      "                           and the project leaders:\r\n",
      "        Mark Abraham, Berk Hess, Erik Lindahl, and David van der Spoel\r\n",
      "\r\n",
      "Copyright (c) 1991-2000, University of Groningen, The Netherlands.\r\n",
      "Copyright (c) 2001-2019, The GROMACS development team at\r\n",
      "Uppsala University, Stockholm University and\r\n",
      "the Royal Institute of Technology, Sweden.\r\n",
      "check out http://www.gromacs.org for more information.\r\n",
      "\r\n",
      "GROMACS is free software; you can redistribute it and/or modify it\r\n",
      "under the terms of the GNU Lesser General Public License\r\n",
      "as published by the Free Software Foundation; either version 2.1\r\n",
      "of the License, or (at your option) any later version.\r\n",
      "\r\n",
      "GROMACS:      gmx energy, version 2020.6-MODIFIED\r\n",
      "Executable:   /opt/gromacs/2020.6/bin/gmx\r\n",
      "Data prefix:  /opt/gromacs/2020.6\r\n",
      "Working dir:  /home/lorenzo/Documenti/GitHub/BiomeccanicaMultiscala/LAB/08-SMD\r\n",
      "Command line:\r\n",
      "  gmx energy -f 00-em/em.edr -o 00-em/potential.xvg\r\n",
      "\r\n",
      "Opened 00-em/em.edr as single precision energy file\r\n",
      "\r\n",
      "Select the terms you want from the following list by\r\n",
      "selecting either (part of) the name or the number or a combination.\r\n",
      "End your selection with an empty line or a zero.\r\n",
      "-------------------------------------------------------------------\r\n",
      "  1  G96Bond          2  G96Angle         3  Proper-Dih.      4  Improper-Dih. \r\n",
      "  5  LJ-14            6  Coulomb-14       7  LJ-(SR)          8  Coulomb-(SR)  \r\n",
      "  9  Coul.-recip.    10  Potential       11  Pressure        12  Vir-XX        \r\n",
      " 13  Vir-XY          14  Vir-XZ          15  Vir-YX          16  Vir-YY        \r\n",
      " 17  Vir-YZ          18  Vir-ZX          19  Vir-ZY          20  Vir-ZZ        \r\n",
      " 21  Pres-XX         22  Pres-XY         23  Pres-XZ         24  Pres-YX       \r\n",
      " 25  Pres-YY         26  Pres-YZ         27  Pres-ZX         28  Pres-ZY       \r\n",
      " 29  Pres-ZZ         30  #Surf*SurfTen   31  T-rest        \r\n",
      "\r\n",
      "\r\n",
      "Reading energy frame      0 time    0.000         \r\n",
      "Reading energy frame      1 time    1.000         \r\n",
      "Reading energy frame      2 time    2.000         \r\n",
      "Reading energy frame      3 time    3.000         \r\n",
      "Reading energy frame      4 time    4.000         \r\n",
      "Reading energy frame      5 time    5.000         \r\n",
      "Reading energy frame      6 time    6.000         \r\n",
      "Reading energy frame      7 time    7.000         \r\n",
      "Reading energy frame      8 time    8.000         \r\n",
      "Reading energy frame      9 time    9.000         \r\n",
      "Reading energy frame     10 time   10.000         \r\n",
      "Reading energy frame     11 time   11.000         \r\n",
      "Reading energy frame     12 time   12.000         \r\n",
      "Reading energy frame     13 time   13.000         \r\n",
      "Reading energy frame     14 time   14.000         \r\n",
      "Reading energy frame     15 time   16.000         \r\n",
      "Reading energy frame     16 time   17.000         \r\n",
      "Reading energy frame     17 time   18.000         \r\n",
      "Reading energy frame     18 time   20.000         \r\n",
      "Reading energy frame     19 time   21.000         \r\n",
      "Reading energy frame     20 time   23.000         \r\n",
      "Reading energy frame     30 time   36.000         \r\n",
      "Reading energy frame     40 time   49.000         \r\n",
      "Reading energy frame     50 time   62.000         \r\n",
      "Reading energy frame     60 time   75.000         \r\n",
      "Reading energy frame     70 time   88.000         \r\n",
      "Reading energy frame     80 time  100.000         \r\n",
      "Reading energy frame     90 time  113.000         \r\n",
      "Reading energy frame    100 time  126.000         \r\n",
      "Reading energy frame    110 time  139.000         \r\n",
      "Reading energy frame    120 time  152.000         \r\n",
      "Reading energy frame    130 time  164.000         \r\n",
      "Reading energy frame    140 time  176.000         \r\n",
      "Reading energy frame    150 time  189.000         \r\n",
      "Reading energy frame    160 time  202.000         \r\n",
      "Reading energy frame    170 time  215.000         \r\n",
      "Reading energy frame    180 time  227.000         \r\n",
      "Reading energy frame    190 time  240.000         \r\n",
      "Reading energy frame    200 time  253.000         \r\n",
      "Reading energy frame    300 time  379.000         \r\n",
      "Reading energy frame    400 time  505.000         \r\n",
      "Last energy frame read 448 time  566.000         \r\n",
      "\r\n",
      "Statistics over 567 steps [ 0.0000 through 566.0000 ps ], 1 data sets\r\n",
      "All statistics are over 449 points (frames)\r\n",
      "\r\n",
      "Energy                      Average   Err.Est.       RMSD  Tot-Drift\r\n",
      "-------------------------------------------------------------------------------\r\n",
      "Potential                   -510293      14000    46509.4   -93089.2  (kJ/mol)\r\n",
      "\r\n",
      "GROMACS reminds you: \"Working in the Burger Kings, Spitting on your Onion Rings\" (Slim Shady)\r\n",
      "\r\n"
     ]
    }
   ],
   "source": [
    "!echo \"Potential\" | gmx energy -f 00-em/em.edr -o 00-em/potential.xvg"
   ]
  },
  {
   "cell_type": "code",
   "execution_count": 18,
   "metadata": {},
   "outputs": [
    {
     "data": {
      "image/png": "[encoded data removed]",
      "text/plain": [
       "<Figure size 640x480 with 1 Axes>"
      ]
     },
     "metadata": {},
     "output_type": "display_data"
    }
   ],
   "source": [
    "import matplotlib.pyplot as plt # Import from the library matplotlib  the package pyplot and alias it as plt \n",
    "import numpy as np #import the library numpy and alias it as np\n",
    "'''load the data from the potential.xvg format into data, ...\n",
    "define the comments as raw starting with either # or @'''\n",
    "data = np.loadtxt(\"00-em/potential.xvg\",comments=[\"#\",\"@\"])\n",
    "step = data[:,0] #assign the first column of data to the variable step\n",
    "energy = data[:,1] #assign the second column of data to the variable potential\n",
    "plt.plot(step,energy) #plot the function potential(data)\n",
    "plt.xlabel(\"Step\",size=14) #assign the x label \n",
    "plt.ylabel(\"Energy [KJ/mol]\",size=14) #assign the y label\n",
    "plt.title(\"Potential energy as a function of step\"); #assign a title \n",
    "#save the figure in png format with a resolution of 300 dot per inch \"dpi\" \n",
    "plt.savefig(\"potential.png\",format=\"png\", dpi=300)"
   ]
  },
  {
   "cell_type": "markdown",
   "metadata": {
    "slideshow": {
     "slide_type": "subslide"
    }
   },
   "source": [
    "### Step 7 - NPT Equilibration with posre"
   ]
  },
  {
   "cell_type": "code",
   "execution_count": 19,
   "metadata": {},
   "outputs": [
    {
     "name": "stdout",
     "output_type": "stream",
     "text": [
      "                 :-) GROMACS - gmx grompp, 2020.6-MODIFIED (-:\n",
      "\n",
      "                            GROMACS is written by:\n",
      "     Emile Apol      Rossen Apostolov      Paul Bauer     Herman J.C. Berendsen\n",
      "    Par Bjelkmar      Christian Blau   Viacheslav Bolnykh     Kevin Boyd    \n",
      " Aldert van Buuren   Rudi van Drunen     Anton Feenstra       Alan Gray     \n",
      "  Gerrit Groenhof     Anca Hamuraru    Vincent Hindriksen  M. Eric Irrgang  \n",
      "  Aleksei Iupinov   Christoph Junghans     Joe Jordan     Dimitrios Karkoulis\n",
      "    Peter Kasson        Jiri Kraus      Carsten Kutzner      Per Larsson    \n",
      "  Justin A. Lemkul    Viveca Lindahl    Magnus Lundborg     Erik Marklund   \n",
      "    Pascal Merz     Pieter Meulenhoff    Teemu Murtola       Szilard Pall   \n",
      "    Sander Pronk      Roland Schulz      Michael Shirts    Alexey Shvetsov  \n",
      "   Alfons Sijbers     Peter Tieleman      Jon Vincent      Teemu Virolainen \n",
      " Christian Wennberg    Maarten Wolf      Artem Zhmurov   \n",
      "                           and the project leaders:\n",
      "        Mark Abraham, Berk Hess, Erik Lindahl, and David van der Spoel\n",
      "\n",
      "Copyright (c) 1991-2000, University of Groningen, The Netherlands.\n",
      "Copyright (c) 2001-2019, The GROMACS development team at\n",
      "Uppsala University, Stockholm University and\n",
      "the Royal Institute of Technology, Sweden.\n",
      "check out http://www.gromacs.org for more information.\n",
      "\n",
      "GROMACS is free software; you can redistribute it and/or modify it\n",
      "under the terms of the GNU Lesser General Public License\n",
      "as published by the Free Software Foundation; either version 2.1\n",
      "of the License, or (at your option) any later version.\n",
      "\n",
      "GROMACS:      gmx grompp, version 2020.6-MODIFIED\n",
      "Executable:   /opt/gromacs/2020.6/bin/gmx\n",
      "Data prefix:  /opt/gromacs/2020.6\n",
      "Working dir:  /home/lorenzo/Documenti/GitHub/BiomeccanicaMultiscala/LAB/08-SMD\n",
      "Command line:\n",
      "  gmx grompp -f data/npt.mdp -c 00-em/em.gro -p topol.top -r 00-em/em.gro -o 01-npt/npt.tpr -maxwarn 1\n",
      "\n",
      "Ignoring obsolete mdp entry 'title'\n",
      "Ignoring obsolete mdp entry 'ns_type'\n",
      "\n",
      "NOTE 1 [file data/npt.mdp]:\n",
      "  With Verlet lists the optimal nstlist is >= 10, with GPUs >= 20. Note\n",
      "  that with the Verlet scheme, nstlist has no effect on the accuracy of\n",
      "  your simulation.\n",
      "\n",
      "\n",
      "NOTE 2 [file data/npt.mdp]:\n",
      "  nstcomm < nstcalcenergy defeats the purpose of nstcalcenergy, setting\n",
      "  nstcomm to nstcalcenergy\n",
      "\n",
      "\n",
      "NOTE 3 [file data/npt.mdp]:\n",
      "  The Berendsen thermostat does not generate the correct kinetic energy\n",
      "  distribution. You might want to consider using the V-rescale thermostat.\n",
      "\n",
      "Setting the LD random seed to -7425\n",
      "Generated 165 of the 1596 non-bonded parameter combinations\n",
      "Excluding 3 bonded neighbours molecule type 'Protein_chain_A'\n",
      "turning all bonds into constraints...\n",
      "Excluding 3 bonded neighbours molecule type 'Protein_chain_B'\n",
      "turning all bonds into constraints...\n",
      "Excluding 3 bonded neighbours molecule type 'Protein_chain_C'\n",
      "turning all bonds into constraints...\n",
      "Excluding 3 bonded neighbours molecule type 'Protein_chain_D'\n",
      "turning all bonds into constraints...\n",
      "Excluding 3 bonded neighbours molecule type 'Protein_chain_E'\n",
      "turning all bonds into constraints...\n",
      "Excluding 2 bonded neighbours molecule type 'SOL'\n",
      "turning all bonds into constraints...\n",
      "Excluding 1 bonded neighbours molecule type 'NA'\n",
      "turning all bonds into constraints...\n",
      "Excluding 1 bonded neighbours molecule type 'CL'\n",
      "turning all bonds into constraints...\n",
      "\n",
      "WARNING 1 [file topol.top, line 56]:\n",
      "  The GROMOS force fields have been parametrized with a physically\n",
      "  incorrect multiple-time-stepping scheme for a twin-range cut-off. When\n",
      "  used with a single-range cut-off (or a correct Trotter\n",
      "  multiple-time-stepping scheme), physical properties, such as the density,\n",
      "  might differ from the intended values. Since there are researchers\n",
      "  actively working on validating GROMOS with modern integrators we have not\n",
      "  yet removed the GROMOS force fields, but you should be aware of these\n",
      "  issues and check if molecules in your system are affected before\n",
      "  proceeding. Further information is available at\n",
      "  https://redmine.gromacs.org/issues/2884 , and a longer explanation of our\n",
      "  decision to remove physically incorrect algorithms can be found at\n",
      "  https://doi.org/10.26434/chemrxiv.11474583.v1 .\n",
      "\n",
      "Setting gen_seed to 2130672893\n",
      "Velocities were taken from a Maxwell distribution at 310 K\n",
      "The center of mass of the position restraint coord's is  3.265  2.217  2.487\n",
      "The center of mass of the position restraint coord's is  3.265  2.217  2.487\n",
      "Analysing residue names:\n",
      "There are:   135    Protein residues\n",
      "There are: 10675      Water residues\n",
      "There are:    52        Ion residues\n",
      "Analysing Protein...\n",
      "Analysing residues not classified as Protein/DNA/RNA/Water and splitting into groups...\n",
      "Number of degrees of freedom in T-Coupling group Protein is 2254.90\n",
      "Number of degrees of freedom in T-Coupling group non-Protein is 64203.10\n",
      "Determining Verlet buffer for a tolerance of 0.005 kJ/mol/ps at 310 K\n",
      "Calculated rlist for 1x1 atom pair-list as 1.408 nm, buffer size 0.008 nm\n",
      "Set rlist, assuming 4x4 atom pair-list, to 1.400 nm, buffer size 0.000 nm\n",
      "Note that mdrun will redetermine rlist based on the actual pair-list setup\n",
      "\n",
      "NOTE 4 [file data/npt.mdp]:\n",
      "  Removing center of mass motion in the presence of position restraints\n",
      "  might cause artifacts. When you are using position restraints to\n",
      "  equilibrate a macro-molecule, the artifacts are usually negligible.\n",
      "\n",
      "Calculating fourier grid dimensions for X Y Z\n",
      "Using a fourier grid of 42x28x80, spacing 0.156 0.156 0.150\n",
      "Estimate for the relative computational load of the PME mesh part: 0.11\n",
      "This run will generate roughly 41 Mb of data\n",
      "\n",
      "There were 4 notes\n",
      "\n",
      "There was 1 warning\n",
      "\n",
      "GROMACS reminds you: \"Science may never come up with a better office communication system than the coffee break.\" (Earl Wilson)\n",
      "\n",
      "                  :-) GROMACS - gmx mdrun, 2020.6-MODIFIED (-:\n",
      "\n",
      "                            GROMACS is written by:\n",
      "     Emile Apol      Rossen Apostolov      Paul Bauer     Herman J.C. Berendsen\n",
      "    Par Bjelkmar      Christian Blau   Viacheslav Bolnykh     Kevin Boyd    \n",
      " Aldert van Buuren   Rudi van Drunen     Anton Feenstra       Alan Gray     \n",
      "  Gerrit Groenhof     Anca Hamuraru    Vincent Hindriksen  M. Eric Irrgang  \n",
      "  Aleksei Iupinov   Christoph Junghans     Joe Jordan     Dimitrios Karkoulis\n",
      "    Peter Kasson        Jiri Kraus      Carsten Kutzner      Per Larsson    \n",
      "  Justin A. Lemkul    Viveca Lindahl    Magnus Lundborg     Erik Marklund   \n",
      "    Pascal Merz     Pieter Meulenhoff    Teemu Murtola       Szilard Pall   \n",
      "    Sander Pronk      Roland Schulz      Michael Shirts    Alexey Shvetsov  \n",
      "   Alfons Sijbers     Peter Tieleman      Jon Vincent      Teemu Virolainen \n",
      " Christian Wennberg    Maarten Wolf      Artem Zhmurov   \n",
      "                           and the project leaders:\n",
      "        Mark Abraham, Berk Hess, Erik Lindahl, and David van der Spoel\n",
      "\n",
      "Copyright (c) 1991-2000, University of Groningen, The Netherlands.\n",
      "Copyright (c) 2001-2019, The GROMACS development team at\n",
      "Uppsala University, Stockholm University and\n",
      "the Royal Institute of Technology, Sweden.\n",
      "check out http://www.gromacs.org for more information.\n",
      "\n",
      "GROMACS is free software; you can redistribute it and/or modify it\n",
      "under the terms of the GNU Lesser General Public License\n",
      "as published by the Free Software Foundation; either version 2.1\n",
      "of the License, or (at your option) any later version.\n",
      "\n",
      "GROMACS:      gmx mdrun, version 2020.6-MODIFIED\n",
      "Executable:   /opt/gromacs/2020.6/bin/gmx\n",
      "Data prefix:  /opt/gromacs/2020.6\n",
      "Working dir:  /home/lorenzo/Documenti/GitHub/BiomeccanicaMultiscala/LAB/08-SMD\n",
      "Command line:\n",
      "  gmx mdrun -deffnm 01-npt/npt -v\n",
      "\n",
      "Reading file 01-npt/npt.tpr, VERSION 2020.6-MODIFIED (single precision)\n",
      "This run will default to '-update gpu' as requested by the GMX_FORCE_UPDATE_DEFAULT_GPU environment variable. GPU update with domain decomposition lacks substantial testing and should be used with caution.\n",
      "\n",
      "Enabling GPU buffer operations required by GMX_GPU_DD_COMMS (equivalent with GMX_USE_GPU_BUFFER_OPS=1).\n",
      "\n",
      "This run uses the 'GPU halo exchange' feature, enabled by the GMX_GPU_DD_COMMS environment variable.\n",
      "Changing nstlist from 5 to 100, rlist from 1.4 to 1.537\n",
      "\n",
      "\n",
      "1 GPU selected for this run.\n",
      "Mapping of GPU IDs to the 2 GPU tasks in the 1 rank on this node:\n",
      "  PP:0,PME:0\n",
      "PP tasks will do (non-perturbed) short-ranged interactions on the GPU\n",
      "PP task will update and constrain coordinates on the GPU\n",
      "PME tasks will do all aspects on the GPU\n",
      "Using 1 MPI thread\n",
      "\n",
      "Non-default thread affinity set, disabling internal thread affinity\n",
      "\n",
      "Using 8 OpenMP threads \n",
      "\n"
     ]
    },
    {
     "name": "stdout",
     "output_type": "stream",
     "text": [
      "starting mdrun 'Gallium Rubidium Oxygen Manganese Argon Carbon Silicon t=   0.00000 in water'\n",
      "50000 steps,    100.0 ps.\n",
      "step 5500: timed with pme grid 42 28 80, coulomb cutoff 1.400: 313.9 M-cycles\n",
      "step 5700: timed with pme grid 40 25 72, coulomb cutoff 1.527: 377.6 M-cycles\n",
      "step 5900: timed with pme grid 40 28 72, coulomb cutoff 1.458: 347.7 M-cycles\n",
      "step 6100: timed with pme grid 40 28 80, coulomb cutoff 1.435: 351.8 M-cycles\n",
      "step 6300: timed with pme grid 42 28 80, coulomb cutoff 1.400: 314.6 M-cycles\n",
      "              optimal pme grid 42 28 80, coulomb cutoff 1.400\n",
      "step 49900, remaining wall clock time:     0 s          \n",
      "Writing final coordinates.\n",
      "step 50000, remaining wall clock time:     0 s          \n",
      "               Core t (s)   Wall t (s)        (%)\n",
      "       Time:      382.889       47.861      800.0\n",
      "                 (ns/day)    (hour/ns)\n",
      "Performance:      180.525        0.133\n",
      "\n",
      "GROMACS reminds you: \"The public have an insatiable curiosity to know everything, except what is worth knowing.\" (Oscar Wilde)\n",
      "\n"
     ]
    }
   ],
   "source": [
    "!mkdir -p 01-npt/\n",
    "!gmx grompp -f data/npt.mdp -c 00-em/em.gro -p topol.top -r 00-em/em.gro -o 01-npt/npt.tpr -maxwarn 1\n",
    "!gmx mdrun -deffnm 01-npt/npt -v "
   ]
  },
  {
   "cell_type": "markdown",
   "metadata": {
    "slideshow": {
     "slide_type": "subslide"
    }
   },
   "source": [
    "Which quantities do we need to check to be sure that the equilibration was correctly performed? "
   ]
  },
  {
   "cell_type": "markdown",
   "metadata": {
    "slideshow": {
     "slide_type": "fragment"
    }
   },
   "source": [
    "Check if **temperature** and **density** reached the plateau!"
   ]
  },
  {
   "cell_type": "code",
   "execution_count": 20,
   "metadata": {
    "scrolled": true,
    "slideshow": {
     "slide_type": "fragment"
    }
   },
   "outputs": [
    {
     "name": "stdout",
     "output_type": "stream",
     "text": [
      "                 :-) GROMACS - gmx energy, 2020.6-MODIFIED (-:\r\n",
      "\r\n",
      "                            GROMACS is written by:\r\n",
      "     Emile Apol      Rossen Apostolov      Paul Bauer     Herman J.C. Berendsen\r\n",
      "    Par Bjelkmar      Christian Blau   Viacheslav Bolnykh     Kevin Boyd    \r\n",
      " Aldert van Buuren   Rudi van Drunen     Anton Feenstra       Alan Gray     \r\n",
      "  Gerrit Groenhof     Anca Hamuraru    Vincent Hindriksen  M. Eric Irrgang  \r\n",
      "  Aleksei Iupinov   Christoph Junghans     Joe Jordan     Dimitrios Karkoulis\r\n",
      "    Peter Kasson        Jiri Kraus      Carsten Kutzner      Per Larsson    \r\n",
      "  Justin A. Lemkul    Viveca Lindahl    Magnus Lundborg     Erik Marklund   \r\n",
      "    Pascal Merz     Pieter Meulenhoff    Teemu Murtola       Szilard Pall   \r\n",
      "    Sander Pronk      Roland Schulz      Michael Shirts    Alexey Shvetsov  \r\n",
      "   Alfons Sijbers     Peter Tieleman      Jon Vincent      Teemu Virolainen \r\n",
      " Christian Wennberg    Maarten Wolf      Artem Zhmurov   \r\n",
      "                           and the project leaders:\r\n",
      "        Mark Abraham, Berk Hess, Erik Lindahl, and David van der Spoel\r\n",
      "\r\n",
      "Copyright (c) 1991-2000, University of Groningen, The Netherlands.\r\n",
      "Copyright (c) 2001-2019, The GROMACS development team at\r\n",
      "Uppsala University, Stockholm University and\r\n",
      "the Royal Institute of Technology, Sweden.\r\n",
      "check out http://www.gromacs.org for more information.\r\n",
      "\r\n",
      "GROMACS is free software; you can redistribute it and/or modify it\r\n",
      "under the terms of the GNU Lesser General Public License\r\n",
      "as published by the Free Software Foundation; either version 2.1\r\n",
      "of the License, or (at your option) any later version.\r\n",
      "\r\n",
      "GROMACS:      gmx energy, version 2020.6-MODIFIED\r\n",
      "Executable:   /opt/gromacs/2020.6/bin/gmx\r\n",
      "Data prefix:  /opt/gromacs/2020.6\r\n",
      "Working dir:  /home/lorenzo/Documenti/GitHub/BiomeccanicaMultiscala/LAB/08-SMD\r\n",
      "Command line:\r\n",
      "  gmx energy -f 01-npt/npt.edr -o 01-npt/temp-dens.xvg\r\n",
      "\r\n",
      "Opened 01-npt/npt.edr as single precision energy file\r\n",
      "\r\n",
      "Select the terms you want from the following list by\r\n",
      "selecting either (part of) the name or the number or a combination.\r\n",
      "End your selection with an empty line or a zero.\r\n",
      "-------------------------------------------------------------------\r\n",
      "  1  G96Angle         2  Proper-Dih.      3  Improper-Dih.    4  LJ-14         \r\n",
      "  5  Coulomb-14       6  LJ-(SR)          7  Disper.-corr.    8  Coulomb-(SR)  \r\n",
      "  9  Coul.-recip.    10  Position-Rest.  11  Potential       12  Kinetic-En.   \r\n",
      " 13  Total-Energy    14  Conserved-En.   15  Temperature     16  Pres.-DC      \r\n",
      " 17  Pressure        18  Constr.-rmsd    19  Box-X           20  Box-Y         \r\n",
      " 21  Box-Z           22  Volume          23  Density         24  pV            \r\n",
      " 25  Enthalpy        26  Vir-XX          27  Vir-XY          28  Vir-XZ        \r\n",
      " 29  Vir-YX          30  Vir-YY          31  Vir-YZ          32  Vir-ZX        \r\n",
      " 33  Vir-ZY          34  Vir-ZZ          35  Pres-XX         36  Pres-XY       \r\n",
      " 37  Pres-XZ         38  Pres-YX         39  Pres-YY         40  Pres-YZ       \r\n",
      " 41  Pres-ZX         42  Pres-ZY         43  Pres-ZZ         44  #Surf*SurfTen \r\n",
      " 45  T-Protein                           46  T-non-Protein                     \r\n",
      " 47  Lamb-Protein                        48  Lamb-non-Protein                  \r\n",
      "\r\n",
      "\r\n",
      "Reading energy frame      0 time    0.000         \r\n",
      "Reading energy frame      1 time    2.000         \r\n",
      "Reading energy frame      2 time    4.000         \r\n",
      "Reading energy frame      3 time    6.000         \r\n",
      "Reading energy frame      4 time    8.000         \r\n",
      "Reading energy frame      5 time   10.000         \r\n",
      "Reading energy frame      6 time   12.000         \r\n",
      "Reading energy frame      7 time   14.000         \r\n",
      "Reading energy frame      8 time   16.000         \r\n",
      "Reading energy frame      9 time   18.000         \r\n",
      "Reading energy frame     10 time   20.000         \r\n",
      "Reading energy frame     11 time   22.000         \r\n",
      "Reading energy frame     12 time   24.000         \r\n",
      "Reading energy frame     13 time   26.000         \r\n",
      "Reading energy frame     14 time   28.000         \r\n",
      "Reading energy frame     15 time   30.000         \r\n",
      "Reading energy frame     16 time   32.000         \r\n",
      "Reading energy frame     17 time   34.000         \r\n",
      "Reading energy frame     18 time   36.000         \r\n",
      "Reading energy frame     19 time   38.000         \r\n",
      "Reading energy frame     20 time   40.000         \r\n",
      "Reading energy frame     30 time   60.000         \r\n",
      "Reading energy frame     40 time   80.000         \r\n",
      "Reading energy frame     50 time  100.000         \r\n",
      "Last energy frame read 50 time  100.000         \r\n",
      "\r\n",
      "Statistics over 50001 steps [ 0.0000 through 100.0000 ps ], 2 data sets\r\n",
      "All statistics are over 501 points\r\n",
      "\r\n",
      "Energy                      Average   Err.Est.       RMSD  Tot-Drift\r\n",
      "-------------------------------------------------------------------------------\r\n",
      "Temperature                  309.83       0.15    2.26487   0.803673  (K)\r\n",
      "Density                     990.038       0.16    1.37789   -1.15016  (kg/m^3)\r\n",
      "\r\n",
      "GROMACS reminds you: \"Take what you want, but just what you need for survival\" (Joe Jackson)\r\n",
      "\r\n"
     ]
    }
   ],
   "source": [
    "!echo -e \"Temperature \\n Density \\n\" | gmx energy -f 01-npt/npt.edr -o 01-npt/temp-dens.xvg"
   ]
  },
  {
   "cell_type": "code",
   "execution_count": 29,
   "metadata": {},
   "outputs": [
    {
     "data": {
      "image/png": "[encoded data removed]",
      "text/plain": [
       "<Figure size 640x480 with 2 Axes>"
      ]
     },
     "metadata": {},
     "output_type": "display_data"
    }
   ],
   "source": [
    "import matplotlib.pyplot as plt # Import from the library matplotlib  the package pyplot and alias it as plt \n",
    "import numpy as np #import the library numpy and alias it as np\n",
    "'''load the data from the potential.xvg format into data, ...\n",
    "define the comments as raw starting with either # or @'''\n",
    "data=np.loadtxt(\"01-npt/temp-dens.xvg\",comments=[\"#\",\"@\"])\n",
    "time=data[:,0] #assign the first column of data to the variable step\n",
    "temp=data[:,1] #assign the second column of data to the variable potential\n",
    "dens=data[:,2] #assign the second column of data to the variable potential\n",
    "\n",
    "plot,axes=plt.subplots(2,1) #plot the function potential(data)\n",
    "axes[0].plot(time,temp)\n",
    "axes[1].plot(time,dens)\n",
    "axes[1].set_xlabel(\"Time [ps]\",size=14) #assign the x label \n",
    "axes[0].set_ylabel(\"Temperature [K]\",size=14) #assign the y label\n",
    "axes[1].set_ylabel(\"Density [kg/m^3]\",size=14) #assign the y label\n",
    "axes[0].set_ylim(250,320)\n",
    "axes[1].set_ylim(960,1000)\n",
    "plt.tight_layout()\n",
    "# if you want to save the figure, uncomment the following line\n",
    "#plot.savefig(\"subplot_temp_dens.png\",format=\"png\", dpi=300)"
   ]
  },
  {
   "cell_type": "markdown",
   "metadata": {
    "slideshow": {
     "slide_type": "subslide"
    }
   },
   "source": [
    "### Step 8 - Steered Molecular Dynamics (SMD)"
   ]
  },
  {
   "cell_type": "markdown",
   "metadata": {},
   "source": [
    "The idea is to pull one chain of the fibril away applying an external force while keeping fixed the position of the adjacent chain using position restraints. "
   ]
  },
  {
   "cell_type": "markdown",
   "metadata": {},
   "source": [
    "<center><img src=\"imgs/SystemScheme.png\" width=\"1200\"></center>"
   ]
  },
  {
   "cell_type": "markdown",
   "metadata": {
    "slideshow": {
     "slide_type": "subslide"
    }
   },
   "source": [
    "We want to pull one of the chain of the amyloid fibril along a chosen **reaction coordinate**. \n",
    "\n",
    "This is equivalent to ideally attach a **spring** with a certain **elastic constant** at the end of the fibril and then apply a displacemnt with a specific **force** and **velocity**.\n",
    "\n",
    "For this example, the reaction coordinate is the **z-axis**. To generate these configurations, we must pull peptide A away from the protofibril. We will pull over the course of 500 ps of MD, saving snapshots every 1 ps. \n",
    "\n",
    "The pulling options for the SMD are listed below: \n",
    "\n",
    "<div class=\"alert alert-block alert-info\">\n",
    "; Pull code<br> \n",
    "pull                    = yes<br>\n",
    "pull_ncoords            = 1         ; only one reaction coordinate <br>\n",
    "pull_ngroups            = 2         ; two groups defining one reaction coordinate <br>\n",
    "pull_group1_name        = Chain_A<br>\n",
    "pull_group2_name        = Chain_B<br>\n",
    "pull_coord1_type        = umbrella  ; harmonic potential<br>\n",
    "pull_coord1_geometry    = distance  ; simple distance increase<br>\n",
    "pull_coord1_dim         = N N Y     ; pull along z<br>\n",
    "pull_coord1_groups      = 1 2       ; groups 1 (Chain A) and 2 (Chain B) define the reaction coordinate<br>\n",
    "pull_coord1_start       = yes       ; define initial COM distance > 0<br>\n",
    "pull_coord1_rate        = 0.01      ; 0.01 nm per ps = 10 nm per ns<br>\n",
    "pull_coord1_k           = 1000      ; kJ mol^-1 nm^-2<br>\n",
    "</b></center><div>"
   ]
  },
  {
   "cell_type": "markdown",
   "metadata": {
    "slideshow": {
     "slide_type": "subslide"
    }
   },
   "source": [
    "Remember that **#ifdef POSRES_B** statement we added to topol_B.itp a while ago? We're going to use it now. \n",
    "\n",
    "By **restraining peptide B** of the protofibril, we are able to more easily pull peptide A away. Due to the extensive non-covalent interactions between chains A and B, if we did not restrain chain B, we would end up simply towing the whole complex along the simulation box, which wouldn't accomplish much.\n",
    "\n",
    "We will need to define some custom index groups for this pulling simulation. Use make_ndx:"
   ]
  },
  {
   "cell_type": "code",
   "execution_count": 24,
   "metadata": {
    "scrolled": true,
    "slideshow": {
     "slide_type": "fragment"
    }
   },
   "outputs": [
    {
     "name": "stdout",
     "output_type": "stream",
     "text": [
      "                :-) GROMACS - gmx editconf, 2020.6-MODIFIED (-:\n",
      "\n",
      "                            GROMACS is written by:\n",
      "     Emile Apol      Rossen Apostolov      Paul Bauer     Herman J.C. Berendsen\n",
      "    Par Bjelkmar      Christian Blau   Viacheslav Bolnykh     Kevin Boyd    \n",
      " Aldert van Buuren   Rudi van Drunen     Anton Feenstra       Alan Gray     \n",
      "  Gerrit Groenhof     Anca Hamuraru    Vincent Hindriksen  M. Eric Irrgang  \n",
      "  Aleksei Iupinov   Christoph Junghans     Joe Jordan     Dimitrios Karkoulis\n",
      "    Peter Kasson        Jiri Kraus      Carsten Kutzner      Per Larsson    \n",
      "  Justin A. Lemkul    Viveca Lindahl    Magnus Lundborg     Erik Marklund   \n",
      "    Pascal Merz     Pieter Meulenhoff    Teemu Murtola       Szilard Pall   \n",
      "    Sander Pronk      Roland Schulz      Michael Shirts    Alexey Shvetsov  \n",
      "   Alfons Sijbers     Peter Tieleman      Jon Vincent      Teemu Virolainen \n",
      " Christian Wennberg    Maarten Wolf      Artem Zhmurov   \n",
      "                           and the project leaders:\n",
      "        Mark Abraham, Berk Hess, Erik Lindahl, and David van der Spoel\n",
      "\n",
      "Copyright (c) 1991-2000, University of Groningen, The Netherlands.\n",
      "Copyright (c) 2001-2019, The GROMACS development team at\n",
      "Uppsala University, Stockholm University and\n",
      "the Royal Institute of Technology, Sweden.\n",
      "check out http://www.gromacs.org for more information.\n",
      "\n",
      "GROMACS is free software; you can redistribute it and/or modify it\n",
      "under the terms of the GNU Lesser General Public License\n",
      "as published by the Free Software Foundation; either version 2.1\n",
      "of the License, or (at your option) any later version.\n",
      "\n",
      "GROMACS:      gmx editconf, version 2020.6-MODIFIED\n",
      "Executable:   /opt/gromacs/2020.6/bin/gmx\n",
      "Data prefix:  /opt/gromacs/2020.6\n",
      "Working dir:  /home/lorenzo/Documenti/GitHub/BiomeccanicaMultiscala/LAB/08-SMD\n",
      "Command line:\n",
      "  gmx editconf -f 00-em/em.tpr -o 00-em/em.pdb\n",
      "\n",
      "Note that major changes are planned in future for editconf, to improve usability and utility.\n",
      "Reading file 00-em/em.tpr, VERSION 2020.6-MODIFIED (single precision)\n",
      "Reading file 00-em/em.tpr, VERSION 2020.6-MODIFIED (single precision)\n",
      "Read 33207 atoms\n",
      "Volume: 343.377 nm^3, corresponds to roughly 154500 electrons\n",
      "No velocities found\n",
      "\n",
      "GROMACS reminds you: \"Load Up Your Rubber Bullets\" (10 CC)\n",
      "\n",
      "                :-) GROMACS - gmx make_ndx, 2020.6-MODIFIED (-:\n",
      "\n",
      "                            GROMACS is written by:\n",
      "     Emile Apol      Rossen Apostolov      Paul Bauer     Herman J.C. Berendsen\n",
      "    Par Bjelkmar      Christian Blau   Viacheslav Bolnykh     Kevin Boyd    \n",
      " Aldert van Buuren   Rudi van Drunen     Anton Feenstra       Alan Gray     \n",
      "  Gerrit Groenhof     Anca Hamuraru    Vincent Hindriksen  M. Eric Irrgang  \n",
      "  Aleksei Iupinov   Christoph Junghans     Joe Jordan     Dimitrios Karkoulis\n",
      "    Peter Kasson        Jiri Kraus      Carsten Kutzner      Per Larsson    \n",
      "  Justin A. Lemkul    Viveca Lindahl    Magnus Lundborg     Erik Marklund   \n",
      "    Pascal Merz     Pieter Meulenhoff    Teemu Murtola       Szilard Pall   \n",
      "    Sander Pronk      Roland Schulz      Michael Shirts    Alexey Shvetsov  \n",
      "   Alfons Sijbers     Peter Tieleman      Jon Vincent      Teemu Virolainen \n",
      " Christian Wennberg    Maarten Wolf      Artem Zhmurov   \n",
      "                           and the project leaders:\n",
      "        Mark Abraham, Berk Hess, Erik Lindahl, and David van der Spoel\n",
      "\n",
      "Copyright (c) 1991-2000, University of Groningen, The Netherlands.\n",
      "Copyright (c) 2001-2019, The GROMACS development team at\n",
      "Uppsala University, Stockholm University and\n",
      "the Royal Institute of Technology, Sweden.\n",
      "check out http://www.gromacs.org for more information.\n",
      "\n",
      "GROMACS is free software; you can redistribute it and/or modify it\n",
      "under the terms of the GNU Lesser General Public License\n",
      "as published by the Free Software Foundation; either version 2.1\n",
      "of the License, or (at your option) any later version.\n",
      "\n",
      "GROMACS:      gmx make_ndx, version 2020.6-MODIFIED\n",
      "Executable:   /opt/gromacs/2020.6/bin/gmx\n",
      "Data prefix:  /opt/gromacs/2020.6\n",
      "Working dir:  /home/lorenzo/Documenti/GitHub/BiomeccanicaMultiscala/LAB/08-SMD\n",
      "Command line:\n",
      "  gmx make_ndx -f 00-em/em.pdb\n",
      "\n",
      "\n",
      "Reading structure file\n",
      "Going to read 0 old index file(s)\n",
      "Analysing residue names:\n",
      "There are:   135    Protein residues\n",
      "There are: 10675      Water residues\n",
      "There are:    52        Ion residues\n",
      "Analysing Protein...\n",
      "Analysing residues not classified as Protein/DNA/RNA/Water and splitting into groups...\n",
      "\n",
      "  0 System              : 33207 atoms\n",
      "  1 Protein             :  1130 atoms\n",
      "  2 Protein-H           :   920 atoms\n",
      "  3 C-alpha             :   135 atoms\n",
      "  4 Backbone            :   400 atoms\n",
      "  5 MainChain           :   540 atoms\n",
      "  6 MainChain+Cb        :   645 atoms\n",
      "  7 MainChain+H         :   670 atoms\n",
      "  8 SideChain           :   460 atoms\n",
      "  9 SideChain-H         :   380 atoms\n",
      " 10 Prot-Masses         :  1130 atoms\n",
      " 11 non-Protein         : 32077 atoms\n",
      " 12 Water               : 32025 atoms\n",
      " 13 SOL                 : 32025 atoms\n",
      " 14 non-Water           :  1182 atoms\n",
      " 15 Ion                 :    52 atoms\n",
      " 16 NA                  :    31 atoms\n",
      " 17 CL                  :    21 atoms\n",
      " 18 Water_and_ions      : 32077 atoms\n",
      "\n",
      " nr : group      '!': not  'name' nr name   'splitch' nr    Enter: list groups\n",
      " 'a': atom       '&': and  'del' nr         'splitres' nr   'l': list residues\n",
      " 't': atom type  '|': or   'keep' nr        'splitat' nr    'h': help\n",
      " 'r': residue              'res' nr         'chain' char\n",
      " \"name\": group             'case': case sensitive           'q': save and quit\n",
      " 'ri': residue index\n",
      "\n",
      "> \n",
      "Found 226 atoms with chain identifier A\n",
      "\n",
      " 19 chA                 :   226 atoms\n",
      "\n",
      "> \n",
      "\n",
      "> \n",
      "Found 226 atoms with chain identifier B\n",
      "\n",
      " 20 chB                 :   226 atoms\n",
      "\n",
      "> \n",
      "\n",
      "> \n",
      "\n",
      "GROMACS reminds you: \"For those who want some proof that physicists are human, the proof is in the idiocy of all the different units which they use for measuring energy.\" (Richard Feynman)\n",
      "\n"
     ]
    }
   ],
   "source": [
    "!gmx editconf -f 00-em/em.tpr -o 00-em/em.pdb\n",
    "!echo -e \"chain A \\n name 19 Chain_A \\n chain B \\n name 20 Chain_B \\n q \\n\" | gmx make_ndx -f 00-em/em.pdb"
   ]
  },
  {
   "cell_type": "code",
   "execution_count": 25,
   "metadata": {},
   "outputs": [
    {
     "name": "stdout",
     "output_type": "stream",
     "text": [
      "                 :-) GROMACS - gmx grompp, 2020.6-MODIFIED (-:\n",
      "\n",
      "                            GROMACS is written by:\n",
      "     Emile Apol      Rossen Apostolov      Paul Bauer     Herman J.C. Berendsen\n",
      "    Par Bjelkmar      Christian Blau   Viacheslav Bolnykh     Kevin Boyd    \n",
      " Aldert van Buuren   Rudi van Drunen     Anton Feenstra       Alan Gray     \n",
      "  Gerrit Groenhof     Anca Hamuraru    Vincent Hindriksen  M. Eric Irrgang  \n",
      "  Aleksei Iupinov   Christoph Junghans     Joe Jordan     Dimitrios Karkoulis\n",
      "    Peter Kasson        Jiri Kraus      Carsten Kutzner      Per Larsson    \n",
      "  Justin A. Lemkul    Viveca Lindahl    Magnus Lundborg     Erik Marklund   \n",
      "    Pascal Merz     Pieter Meulenhoff    Teemu Murtola       Szilard Pall   \n",
      "    Sander Pronk      Roland Schulz      Michael Shirts    Alexey Shvetsov  \n",
      "   Alfons Sijbers     Peter Tieleman      Jon Vincent      Teemu Virolainen \n",
      " Christian Wennberg    Maarten Wolf      Artem Zhmurov   \n",
      "                           and the project leaders:\n",
      "        Mark Abraham, Berk Hess, Erik Lindahl, and David van der Spoel\n",
      "\n",
      "Copyright (c) 1991-2000, University of Groningen, The Netherlands.\n",
      "Copyright (c) 2001-2019, The GROMACS development team at\n",
      "Uppsala University, Stockholm University and\n",
      "the Royal Institute of Technology, Sweden.\n",
      "check out http://www.gromacs.org for more information.\n",
      "\n",
      "GROMACS is free software; you can redistribute it and/or modify it\n",
      "under the terms of the GNU Lesser General Public License\n",
      "as published by the Free Software Foundation; either version 2.1\n",
      "of the License, or (at your option) any later version.\n",
      "\n",
      "GROMACS:      gmx grompp, version 2020.6-MODIFIED\n",
      "Executable:   /opt/gromacs/2020.6/bin/gmx\n",
      "Data prefix:  /opt/gromacs/2020.6\n",
      "Working dir:  /home/lorenzo/Documenti/GitHub/BiomeccanicaMultiscala/LAB/08-SMD\n",
      "Command line:\n",
      "  gmx grompp -f data/pull.mdp -c 01-npt/npt.gro -p topol.top -r 01-npt/npt.gro -n index.ndx -t 01-npt/npt.cpt -o 02-pull/pull.tpr -maxwarn 2\n",
      "\n",
      "Ignoring obsolete mdp entry 'title'\n",
      "Ignoring obsolete mdp entry 'optimize_fft'\n",
      "Ignoring obsolete mdp entry 'ns_type'\n",
      "Replacing old mdp entry 'nstxtcout' by 'nstxout-compressed'\n",
      "\n",
      "NOTE 1 [file data/pull.mdp]:\n",
      "  nstcomm < nstcalcenergy defeats the purpose of nstcalcenergy, setting\n",
      "  nstcomm to nstcalcenergy\n",
      "\n",
      "\n",
      "NOTE 2 [file data/pull.mdp]:\n",
      "  leapfrog does not yet support Nose-Hoover chains, nhchainlength reset to 1\n",
      "\n",
      "Setting the LD random seed to 1832811507\n",
      "Generated 165 of the 1596 non-bonded parameter combinations\n",
      "Excluding 3 bonded neighbours molecule type 'Protein_chain_A'\n",
      "turning all bonds into constraints...\n",
      "Excluding 3 bonded neighbours molecule type 'Protein_chain_B'\n",
      "turning all bonds into constraints...\n",
      "Excluding 3 bonded neighbours molecule type 'Protein_chain_C'\n",
      "turning all bonds into constraints...\n",
      "Excluding 3 bonded neighbours molecule type 'Protein_chain_D'\n",
      "turning all bonds into constraints...\n",
      "Excluding 3 bonded neighbours molecule type 'Protein_chain_E'\n",
      "turning all bonds into constraints...\n",
      "Excluding 2 bonded neighbours molecule type 'SOL'\n",
      "turning all bonds into constraints...\n",
      "Excluding 1 bonded neighbours molecule type 'NA'\n",
      "turning all bonds into constraints...\n",
      "Excluding 1 bonded neighbours molecule type 'CL'\n",
      "turning all bonds into constraints...\n",
      "\n",
      "WARNING 1 [file topol.top, line 56]:\n",
      "  The GROMOS force fields have been parametrized with a physically\n",
      "  incorrect multiple-time-stepping scheme for a twin-range cut-off. When\n",
      "  used with a single-range cut-off (or a correct Trotter\n",
      "  multiple-time-stepping scheme), physical properties, such as the density,\n",
      "  might differ from the intended values. Since there are researchers\n",
      "  actively working on validating GROMOS with modern integrators we have not\n",
      "  yet removed the GROMOS force fields, but you should be aware of these\n",
      "  issues and check if molecules in your system are affected before\n",
      "  proceeding. Further information is available at\n",
      "  https://redmine.gromacs.org/issues/2884 , and a longer explanation of our\n",
      "  decision to remove physically incorrect algorithms can be found at\n",
      "  https://doi.org/10.26434/chemrxiv.11474583.v1 .\n",
      "\n",
      "\n",
      "NOTE 3 [file topol.top, line 56]:\n",
      "  You are combining position restraints with Parrinello-Rahman pressure\n",
      "  coupling, which can lead to instabilities. If you really want to combine\n",
      "  position restraints with pressure coupling, we suggest to use Berendsen\n",
      "  pressure coupling instead.\n",
      "\n",
      "The center of mass of the position restraint coord's is  3.289  2.184  2.994\n",
      "The center of mass of the position restraint coord's is  3.289  2.184  2.994\n",
      "Pull group 1 'Chain_A' has 226 atoms\n",
      "Pull group 2 'Chain_B' has 226 atoms\n",
      "Number of degrees of freedom in T-Coupling group Protein is 2254.90\n",
      "Number of degrees of freedom in T-Coupling group non-Protein is 64203.10\n",
      "Determining Verlet buffer for a tolerance of 0.005 kJ/mol/ps at 310 K\n",
      "Calculated rlist for 1x1 atom pair-list as 1.494 nm, buffer size 0.094 nm\n",
      "Set rlist, assuming 4x4 atom pair-list, to 1.419 nm, buffer size 0.019 nm\n",
      "Note that mdrun will redetermine rlist based on the actual pair-list setup\n",
      "\n",
      "NOTE 4 [file data/pull.mdp]:\n",
      "  Removing center of mass motion in the presence of position restraints\n",
      "  might cause artifacts. When you are using position restraints to\n",
      "  equilibrate a macro-molecule, the artifacts are usually negligible.\n",
      "\n",
      "\n",
      "WARNING 2 [file data/pull.mdp]:\n",
      "  With Nose-Hoover T-coupling and Parrinello-Rahman p-coupling, tau-p (1)\n",
      "  should be at least twice as large as tau-t (1) to avoid resonances\n",
      "\n",
      "Reading Coordinates, Velocities and Box size from old trajectory\n",
      "Will read whole trajectory\n",
      "Last frame         -1 time  100.000   \n",
      "Using frame at t = 100 ps\n",
      "Starting time for run is 0 ps\n",
      "Calculating fourier grid dimensions for X Y Z\n",
      "Using a fourier grid of 56x40x104, spacing 0.118 0.109 0.116\n",
      "Pull group  natoms  pbc atom  distance at start  reference at t=0\n",
      "       1       226       113\n",
      "       2       226       339       0.512 nm          0.512 nm\n",
      "Estimate for the relative computational load of the PME mesh part: 0.14\n",
      "This run will generate roughly 312 Mb of data\n",
      "\n",
      "There were 4 notes\n",
      "\n",
      "There were 2 warnings\n",
      "\n",
      "GROMACS reminds you: \"A programmer's spouse says 'While you're at the grocery store, buy some eggs.' The programmer never comes back.\" (Anonymous)\n",
      "\n"
     ]
    }
   ],
   "source": [
    "!mkdir -p 02-pull\n",
    "!gmx grompp -f data/pull.mdp -c 01-npt/npt.gro -p topol.top -r 01-npt/npt.gro -n index.ndx -t 01-npt/npt.cpt -o 02-pull/pull.tpr -maxwarn 2"
   ]
  },
  {
   "cell_type": "code",
   "execution_count": 26,
   "metadata": {
    "scrolled": true
   },
   "outputs": [
    {
     "name": "stdout",
     "output_type": "stream",
     "text": [
      "                  :-) GROMACS - gmx mdrun, 2020.6-MODIFIED (-:\n",
      "\n",
      "                            GROMACS is written by:\n",
      "     Emile Apol      Rossen Apostolov      Paul Bauer     Herman J.C. Berendsen\n",
      "    Par Bjelkmar      Christian Blau   Viacheslav Bolnykh     Kevin Boyd    \n",
      " Aldert van Buuren   Rudi van Drunen     Anton Feenstra       Alan Gray     \n",
      "  Gerrit Groenhof     Anca Hamuraru    Vincent Hindriksen  M. Eric Irrgang  \n",
      "  Aleksei Iupinov   Christoph Junghans     Joe Jordan     Dimitrios Karkoulis\n",
      "    Peter Kasson        Jiri Kraus      Carsten Kutzner      Per Larsson    \n",
      "  Justin A. Lemkul    Viveca Lindahl    Magnus Lundborg     Erik Marklund   \n",
      "    Pascal Merz     Pieter Meulenhoff    Teemu Murtola       Szilard Pall   \n",
      "    Sander Pronk      Roland Schulz      Michael Shirts    Alexey Shvetsov  \n",
      "   Alfons Sijbers     Peter Tieleman      Jon Vincent      Teemu Virolainen \n",
      " Christian Wennberg    Maarten Wolf      Artem Zhmurov   \n",
      "                           and the project leaders:\n",
      "        Mark Abraham, Berk Hess, Erik Lindahl, and David van der Spoel\n",
      "\n",
      "Copyright (c) 1991-2000, University of Groningen, The Netherlands.\n",
      "Copyright (c) 2001-2019, The GROMACS development team at\n",
      "Uppsala University, Stockholm University and\n",
      "the Royal Institute of Technology, Sweden.\n",
      "check out http://www.gromacs.org for more information.\n",
      "\n",
      "GROMACS is free software; you can redistribute it and/or modify it\n",
      "under the terms of the GNU Lesser General Public License\n",
      "as published by the Free Software Foundation; either version 2.1\n",
      "of the License, or (at your option) any later version.\n",
      "\n",
      "GROMACS:      gmx mdrun, version 2020.6-MODIFIED\n",
      "Executable:   /opt/gromacs/2020.6/bin/gmx\n",
      "Data prefix:  /opt/gromacs/2020.6\n",
      "Working dir:  /home/lorenzo/Documenti/GitHub/BiomeccanicaMultiscala/LAB/08-SMD\n",
      "Command line:\n",
      "  gmx mdrun -deffnm 02-pull/pull -v\n",
      "\n",
      "Reading file 02-pull/pull.tpr, VERSION 2020.6-MODIFIED (single precision)\n",
      "This run will default to '-update gpu' as requested by the GMX_FORCE_UPDATE_DEFAULT_GPU environment variable. GPU update with domain decomposition lacks substantial testing and should be used with caution.\n",
      "\n",
      "Enabling GPU buffer operations required by GMX_GPU_DD_COMMS (equivalent with GMX_USE_GPU_BUFFER_OPS=1).\n",
      "\n",
      "This run uses the 'GPU halo exchange' feature, enabled by the GMX_GPU_DD_COMMS environment variable.\n",
      "Changing nstlist from 20 to 100, rlist from 1.419 to 1.536\n",
      "\n",
      "\n",
      "Update task on the GPU was required, by the GMX_FORCE_UPDATE_DEFAULT_GPU environment variable, but the following condition(s) were not satisfied:\n",
      "\n",
      "Nose-Hoover temperature coupling is not supported.\n",
      "\n",
      "Will use CPU version of update.\n",
      "\n",
      "1 GPU selected for this run.\n",
      "Mapping of GPU IDs to the 2 GPU tasks in the 1 rank on this node:\n",
      "  PP:0,PME:0\n",
      "PP tasks will do (non-perturbed) short-ranged interactions on the GPU\n",
      "PP task will update and constrain coordinates on the CPU\n",
      "PME tasks will do all aspects on the GPU\n",
      "Using 1 MPI thread\n",
      "\n",
      "Non-default thread affinity set, disabling internal thread affinity\n",
      "\n",
      "Using 8 OpenMP threads \n",
      "\n",
      "starting mdrun 'Gallium Rubidium Oxygen Manganese Argon Carbon Silicon t=   0.00000 in water'\n",
      "250000 steps,    500.0 ps.\n",
      "step 4700: timed with pme grid 56 40 104, coulomb cutoff 1.400: 377.4 M-cycles\n",
      "step 4900: timed with pme grid 52 36 96, coulomb cutoff 1.477: 396.0 M-cycles\n",
      "step 5100: timed with pme grid 48 32 84, coulomb cutoff 1.673: 505.0 M-cycles\n",
      "step 5300: timed with pme grid 48 32 96, coulomb cutoff 1.600: 437.5 M-cycles\n",
      "step 5500: timed with pme grid 52 32 96, coulomb cutoff 1.596: 445.2 M-cycles\n",
      "step 5700: timed with pme grid 52 36 96, coulomb cutoff 1.477: 401.1 M-cycles\n",
      "step 5900: timed with pme grid 56 36 96, coulomb cutoff 1.464: 384.2 M-cycles\n",
      "step 6100: timed with pme grid 56 36 100, coulomb cutoff 1.419: 374.7 M-cycles\n",
      "step 6300: timed with pme grid 56 40 100, coulomb cutoff 1.405: 361.0 M-cycles\n",
      "step 6500: timed with pme grid 56 40 104, coulomb cutoff 1.400: 377.8 M-cycles\n",
      "              optimal pme grid 56 40 100, coulomb cutoff 1.405\n",
      "step 249900, remaining wall clock time:     0 s          \n",
      "Writing final coordinates.\n",
      "step 250000, remaining wall clock time:     0 s          \n",
      "               Core t (s)   Wall t (s)        (%)\n",
      "       Time:     2141.828      267.729      800.0\n",
      "                 (ns/day)    (hour/ns)\n",
      "Performance:      161.358        0.149\n",
      "\n",
      "GROMACS reminds you: \"Predictions can be very difficult - especially about the future.\" (Niels Bohr)\n",
      "\n"
     ]
    }
   ],
   "source": [
    "!gmx mdrun -deffnm 02-pull/pull -v"
   ]
  },
  {
   "cell_type": "markdown",
   "metadata": {
    "slideshow": {
     "slide_type": "subslide"
    }
   },
   "source": [
    "Have a look at the trajectory using **VMD**!\n",
    "\n",
    "***Note that you must handle the periodic conditions to properly see the system's trajectory***"
   ]
  },
  {
   "cell_type": "code",
   "execution_count": 27,
   "metadata": {
    "scrolled": true,
    "slideshow": {
     "slide_type": "fragment"
    }
   },
   "outputs": [
    {
     "name": "stdout",
     "output_type": "stream",
     "text": [
      "                 :-) GROMACS - gmx trjconv, 2020.6-MODIFIED (-:\n",
      "\n",
      "                            GROMACS is written by:\n",
      "     Emile Apol      Rossen Apostolov      Paul Bauer     Herman J.C. Berendsen\n",
      "    Par Bjelkmar      Christian Blau   Viacheslav Bolnykh     Kevin Boyd    \n",
      " Aldert van Buuren   Rudi van Drunen     Anton Feenstra       Alan Gray     \n",
      "  Gerrit Groenhof     Anca Hamuraru    Vincent Hindriksen  M. Eric Irrgang  \n",
      "  Aleksei Iupinov   Christoph Junghans     Joe Jordan     Dimitrios Karkoulis\n",
      "    Peter Kasson        Jiri Kraus      Carsten Kutzner      Per Larsson    \n",
      "  Justin A. Lemkul    Viveca Lindahl    Magnus Lundborg     Erik Marklund   \n",
      "    Pascal Merz     Pieter Meulenhoff    Teemu Murtola       Szilard Pall   \n",
      "    Sander Pronk      Roland Schulz      Michael Shirts    Alexey Shvetsov  \n",
      "   Alfons Sijbers     Peter Tieleman      Jon Vincent      Teemu Virolainen \n",
      " Christian Wennberg    Maarten Wolf      Artem Zhmurov   \n",
      "                           and the project leaders:\n",
      "        Mark Abraham, Berk Hess, Erik Lindahl, and David van der Spoel\n",
      "\n",
      "Copyright (c) 1991-2000, University of Groningen, The Netherlands.\n",
      "Copyright (c) 2001-2019, The GROMACS development team at\n",
      "Uppsala University, Stockholm University and\n",
      "the Royal Institute of Technology, Sweden.\n",
      "check out http://www.gromacs.org for more information.\n",
      "\n",
      "GROMACS is free software; you can redistribute it and/or modify it\n",
      "under the terms of the GNU Lesser General Public License\n",
      "as published by the Free Software Foundation; either version 2.1\n",
      "of the License, or (at your option) any later version.\n",
      "\n",
      "GROMACS:      gmx trjconv, version 2020.6-MODIFIED\n",
      "Executable:   /opt/gromacs/2020.6/bin/gmx\n",
      "Data prefix:  /opt/gromacs/2020.6\n",
      "Working dir:  /home/lorenzo/Documenti/GitHub/BiomeccanicaMultiscala/LAB/08-SMD\n",
      "Command line:\n",
      "  gmx trjconv -f 02-pull/pull.xtc -s 02-pull/pull.tpr -o 02-pull/noPBC.xtc -pbc mol -ur compact\n",
      "\n",
      "Note that major changes are planned in future for trjconv, to improve usability and utility.\n",
      "Will write xtc: Compressed trajectory (portable xdr format): xtc\n",
      "Reading file 02-pull/pull.tpr, VERSION 2020.6-MODIFIED (single precision)\n",
      "Reading file 02-pull/pull.tpr, VERSION 2020.6-MODIFIED (single precision)\n",
      "Select group for output\n",
      "Group     0 (         System) has 33207 elements\n",
      "Group     1 (        Protein) has  1130 elements\n",
      "Group     2 (      Protein-H) has   920 elements\n",
      "Group     3 (        C-alpha) has   135 elements\n",
      "Group     4 (       Backbone) has   400 elements\n",
      "Group     5 (      MainChain) has   540 elements\n",
      "Group     6 (   MainChain+Cb) has   645 elements\n",
      "Group     7 (    MainChain+H) has   670 elements\n",
      "Group     8 (      SideChain) has   460 elements\n",
      "Group     9 (    SideChain-H) has   380 elements\n",
      "Group    10 (    Prot-Masses) has  1130 elements\n",
      "Group    11 (    non-Protein) has 32077 elements\n",
      "Group    12 (          Water) has 32025 elements\n",
      "Group    13 (            SOL) has 32025 elements\n",
      "Group    14 (      non-Water) has  1182 elements\n",
      "Group    15 (            Ion) has    52 elements\n",
      "Group    16 (             NA) has    31 elements\n",
      "Group    17 (             CL) has    21 elements\n",
      "Group    18 ( Water_and_ions) has 32077 elements\n",
      "Select a group: Selected 0: 'System'\n",
      "Reading frame       0 time    0.000   \n",
      "Precision of 02-pull/pull.xtc is 0.001 (nm)\n",
      "Using output precision of 0.001 (nm)\n",
      "Last frame        500 time  500.000    ->  frame    500 time  500.000      \n",
      "\n",
      "\n",
      "GROMACS reminds you: \"Well, I am a dilettante. It's only in England that dilettantism is considered a bad thing. In other countries it's called interdisciplinary research.\" (Brian Eno)\n",
      "\n",
      "                :-) GROMACS - gmx editconf, 2020.6-MODIFIED (-:\n",
      "\n",
      "                            GROMACS is written by:\n",
      "     Emile Apol      Rossen Apostolov      Paul Bauer     Herman J.C. Berendsen\n",
      "    Par Bjelkmar      Christian Blau   Viacheslav Bolnykh     Kevin Boyd    \n",
      " Aldert van Buuren   Rudi van Drunen     Anton Feenstra       Alan Gray     \n",
      "  Gerrit Groenhof     Anca Hamuraru    Vincent Hindriksen  M. Eric Irrgang  \n",
      "  Aleksei Iupinov   Christoph Junghans     Joe Jordan     Dimitrios Karkoulis\n",
      "    Peter Kasson        Jiri Kraus      Carsten Kutzner      Per Larsson    \n",
      "  Justin A. Lemkul    Viveca Lindahl    Magnus Lundborg     Erik Marklund   \n",
      "    Pascal Merz     Pieter Meulenhoff    Teemu Murtola       Szilard Pall   \n",
      "    Sander Pronk      Roland Schulz      Michael Shirts    Alexey Shvetsov  \n",
      "   Alfons Sijbers     Peter Tieleman      Jon Vincent      Teemu Virolainen \n",
      " Christian Wennberg    Maarten Wolf      Artem Zhmurov   \n",
      "                           and the project leaders:\n",
      "        Mark Abraham, Berk Hess, Erik Lindahl, and David van der Spoel\n",
      "\n",
      "Copyright (c) 1991-2000, University of Groningen, The Netherlands.\n",
      "Copyright (c) 2001-2019, The GROMACS development team at\n",
      "Uppsala University, Stockholm University and\n",
      "the Royal Institute of Technology, Sweden.\n",
      "check out http://www.gromacs.org for more information.\n",
      "\n",
      "GROMACS is free software; you can redistribute it and/or modify it\n",
      "under the terms of the GNU Lesser General Public License\n",
      "as published by the Free Software Foundation; either version 2.1\n",
      "of the License, or (at your option) any later version.\n",
      "\n",
      "GROMACS:      gmx editconf, version 2020.6-MODIFIED\n",
      "Executable:   /opt/gromacs/2020.6/bin/gmx\n",
      "Data prefix:  /opt/gromacs/2020.6\n",
      "Working dir:  /home/lorenzo/Documenti/GitHub/BiomeccanicaMultiscala/LAB/08-SMD\n",
      "Command line:\n",
      "  gmx editconf -f 02-pull/pull.tpr -o 02-pull/noPBC.pdb\n",
      "\n",
      "Note that major changes are planned in future for editconf, to improve usability and utility.\n",
      "Reading file 02-pull/pull.tpr, VERSION 2020.6-MODIFIED (single precision)\n",
      "Reading file 02-pull/pull.tpr, VERSION 2020.6-MODIFIED (single precision)\n",
      "Read 33207 atoms\n",
      "Volume: 347.293 nm^3, corresponds to roughly 156200 electrons\n",
      "Velocities found\n",
      "\n",
      "GROMACS reminds you: \"No matter how important you are, you are not as important as lunch.\" (Randy Pausch)\n",
      "\n"
     ]
    }
   ],
   "source": [
    "!echo \"System System\" | gmx trjconv -f 02-pull/pull.xtc -s 02-pull/pull.tpr -o 02-pull/noPBC.xtc -pbc mol -ur compact\n",
    "!gmx editconf -f 02-pull/pull.tpr -o 02-pull/noPBC.pdb"
   ]
  },
  {
   "cell_type": "markdown",
   "metadata": {
    "slideshow": {
     "slide_type": "subslide"
    }
   },
   "source": [
    "There is no displacement for some time, as the force on the imaginary spring builds up until it is sufficient to overcome the restoring forces within the protofibril structure. \n",
    "\n",
    "Let's have a look at the force and displacement behaviour during the simulation:"
   ]
  },
  {
   "cell_type": "code",
   "execution_count": 28,
   "metadata": {},
   "outputs": [
    {
     "data": {
      "image/png": "[encoded data removed]",
      "text/plain": [
       "<Figure size 640x480 with 2 Axes>"
      ]
     },
     "metadata": {},
     "output_type": "display_data"
    }
   ],
   "source": [
    "import matplotlib.pyplot as plt \n",
    "import numpy as np\n",
    "\n",
    "#load data\n",
    "data_f=np.loadtxt(\"02-pull/pull_pullf.xvg\",comments=[\"#\",\"@\"])\n",
    "data_d=np.loadtxt(\"02-pull/pull_pullx.xvg\",comments=[\"#\",\"@\"])\n",
    "\n",
    "# set variables for plot\n",
    "time=data_f[:,0] \n",
    "force=data_f[:,1] \n",
    "displacement=data_d[:,1] \n",
    "\n",
    "# plot with matplotlib\n",
    "plot,axes=plt.subplots(2,1) \n",
    "axes[0].plot(time,force)\n",
    "axes[1].plot(time,displacement)\n",
    "axes[1].set_xlabel(\"Time (ps)\",size=14) #assign the x label \n",
    "axes[0].set_ylabel(\"Force ($kJmol^{-1}nm^{-1}$)\",size=14) #assign the y label\n",
    "axes[1].set_ylabel(\"Displacement (nm)\",size=14) #assign the y label\n",
    "axes[0].axvline(x = 170, color = 'r', label = 'detach')\n",
    "axes[1].axvline(x = 170, color = 'r', label = 'detach')\n",
    "plt.tight_layout()\n",
    "# if you want to save the figure, uncomment the following line\n",
    "#plot.savefig(\"subplot_force_disp.png\",format=\"png\", dpi=300)"
   ]
  },
  {
   "cell_type": "markdown",
   "metadata": {
    "slideshow": {
     "slide_type": "subslide"
    }
   },
   "source": [
    "Usually we are interested in the force-displacemnt graph, which allow you to estimate some mechanical properties of the system. \n",
    "\n",
    "**Plot the force-displacement graph using matplotlib.**"
   ]
  },
  {
   "cell_type": "code",
   "execution_count": 30,
   "metadata": {},
   "outputs": [
    {
     "data": {
      "image/png": "[encoded data removed]",
      "text/plain": [
       "<Figure size 640x480 with 1 Axes>"
      ]
     },
     "metadata": {},
     "output_type": "display_data"
    }
   ],
   "source": [
    "plt.plot(displacement,force)\n",
    "plt.xlabel(\"Displacement (nm)\",size=14) \n",
    "plt.ylabel(\"Force ($kJmol^{-1}nm^{-1}$)\",size=14) \n",
    "plt.title(\"Force-Displacement\")\n",
    "plt.tight_layout()\n",
    "# uncomment the following line to save the figure\n",
    "#plt.savefig(\"force-displacement.png\",format=\"png\", dpi=300)"
   ]
  },
  {
   "cell_type": "markdown",
   "metadata": {},
   "source": [
    "How can we compute the work done by the pulling force? "
   ]
  },
  {
   "cell_type": "markdown",
   "metadata": {
    "slideshow": {
     "slide_type": "subslide"
    }
   },
   "source": [
    "We are also interested in evaluating the energy difference $\\Delta G$ between state A (bound state) and state B (un-bound state). \n",
    "\n",
    "Remember the **Jarzinski equality**: \n",
    "\n",
    "$$\\left<e^{-\\beta {W}}\\right>=e^{-\\beta \\Delta G} \\Longleftrightarrow \\Delta G=-\\frac{1}{\\beta} \\ln \\left<e^{-\\beta {W}}\\right>$$\n",
    "\n",
    "\n",
    "We can extract **equilibrium information ΔG** from the ensemble of **non-equilibrium (finite-time) measurements**.\n",
    "\n",
    "**Note:** We should run multiple indipendent SMD simulation to properly evaluate the average of the WORK to go from A to B. For this exercise, we will only use a single SMD simulation for simplicity."
   ]
  },
  {
   "cell_type": "code",
   "execution_count": 31,
   "metadata": {},
   "outputs": [],
   "source": [
    "# evaluate work done by the force\n",
    "import numpy as np\n",
    "work = np.trapz(force,displacement)\n",
    "\n",
    "# calculate the free energy\n",
    "temperature = 300 # K\n",
    "boltzmann = 8.314 # J/mol/K\n",
    "beta = 1/(boltzmann*temperature)\n",
    "free_energy = -1/beta*np.log(np.exp(-beta*work))"
   ]
  },
  {
   "cell_type": "code",
   "execution_count": 32,
   "metadata": {},
   "outputs": [
    {
     "name": "stdout",
     "output_type": "stream",
     "text": [
      "Work done by the force 3314.17 kJ/mol\n",
      "ΔG = 3314.17 kJ/mol\n"
     ]
    }
   ],
   "source": [
    "# print the results\n",
    "print(f\"Work done by the force {work:.2f} kJ/mol\")\n",
    "print(f\"ΔG = {free_energy:.2f} kJ/mol\")"
   ]
  },
  {
   "cell_type": "markdown",
   "metadata": {},
   "source": [
    "Note that in this case the free energy is equal to the work done since we only perform a single simulation."
   ]
  },
  {
   "attachments": {},
   "cell_type": "markdown",
   "metadata": {},
   "source": [
    "## Additional Materials"
   ]
  },
  {
   "attachments": {},
   "cell_type": "markdown",
   "metadata": {},
   "source": [
    "If you want to properly perform a SMD simulation using multiple simulation replicas to properly evaluate the free energy difference with Jarzynski, you should do something like that: "
   ]
  },
  {
   "cell_type": "code",
   "execution_count": 2,
   "metadata": {},
   "outputs": [],
   "source": [
    "# create a new directory for pulling multiple times\n",
    "!mkdir -p 03-multiple_pull"
   ]
  },
  {
   "cell_type": "code",
   "execution_count": 4,
   "metadata": {},
   "outputs": [
    {
     "name": "stdout",
     "output_type": "stream",
     "text": [
      "Error while terminating subprocess (pid=362): \n"
     ]
    },
    {
     "name": "stderr",
     "output_type": "stream",
     "text": [
      "bash: riga 1:  4050 Terminato               gmx mdrun -deffnm 03-multiple_pull/pull_$i/npt -v > 03-multiple_pull/pull_$i/npt_run.out 2>&1\n",
      "bash: riga 1:  4141 Terminato               gmx mdrun -deffnm 03-multiple_pull/pull_$i/npt -v > 03-multiple_pull/pull_$i/npt_run.out 2>&1\n",
      "bash: riga 1:  4222 Terminato               gmx mdrun -deffnm 03-multiple_pull/pull_$i/npt -v > 03-multiple_pull/pull_$i/npt_run.out 2>&1\n",
      "bash: riga 1:  4287 Terminato               gmx grompp -f data/npt.mdp -c 00-em/em.gro -p topol.top -r 00-em/em.gro -o 03-multiple_pull/pull_$i/npt.tpr -maxwarn 2 > /dev/null 2>&1\n",
      "bash: riga 1:  4358 Terminato               gmx grompp -f data/npt.mdp -c 00-em/em.gro -p topol.top -r 00-em/em.gro -o 03-multiple_pull/pull_$i/npt.tpr -maxwarn 2 > /dev/null 2>&1\n",
      "bash: riga 1:  4507 Terminato               gmx mdrun -deffnm 03-multiple_pull/pull_$i/npt -v > 03-multiple_pull/pull_$i/npt_run.out 2>&1\n",
      "bash: riga 1:  4692 Terminato               gmx mdrun -deffnm 03-multiple_pull/pull_$i/npt -v > 03-multiple_pull/pull_$i/npt_run.out 2>&1\n"
     ]
    }
   ],
   "source": [
    "%%bash\n",
    "for i in {1..10}\n",
    "do\n",
    "    # create the directory for the i-esim SMD simulation\n",
    "    mkdir -p 03-multiple_pull/pull_$i\n",
    "\n",
    "    # create equilibration tpr and run equilibration\n",
    "    # each replica has a different velocity distribution (gen-vel=yes in the npt.mdp file)\n",
    "    gmx grompp -f data/npt.mdp -c 00-em/em.gro -p topol.top -r 00-em/em.gro -o 03-multiple_pull/pull_$i/npt.tpr -maxwarn 2 >/dev/null 2>&1\n",
    "    gmx mdrun -deffnm 03-multiple_pull/pull_$i/npt -v >03-multiple_pull/pull_$i/npt_run.out 2>&1 \n",
    "\n",
    "    # run the SMD simulation\n",
    "    gmx grompp -f data/pull.mdp -c 03-multiple_pull/pull_$i/npt.gro -p topol.top -r 03-multiple_pull/pull_$i/npt.gro -n index.ndx -t 03-multiple_pull/pull_$i/npt.cpt -o 03-multiple_pull/pull_$i/pull.tpr -maxwarn 2 >/dev/null 2>&1\n",
    "    gmx mdrun -deffnm 03-multiple_pull/pull_$i/pull -v >03-multiple_pull/pull_$i/pull_run.out 2>&1 \n",
    "\n",
    "done"
   ]
  },
  {
   "cell_type": "code",
   "execution_count": 49,
   "metadata": {},
   "outputs": [
    {
     "data": {
      "image/png": "[encoded data removed]",
      "text/plain": [
       "<Figure size 640x480 with 1 Axes>"
      ]
     },
     "metadata": {},
     "output_type": "display_data"
    }
   ],
   "source": [
    "import matplotlib.pyplot as plt \n",
    "import numpy as np\n",
    "\n",
    "#load data\n",
    "data_f = []\n",
    "data_d = []\n",
    "forces = []\n",
    "displacements = []\n",
    "\n",
    "# create figure for plot\n",
    "fig,ax = plt.subplots(1,1)\n",
    "\n",
    "# load data for each simulation\n",
    "for i in range(1,9):\n",
    "\n",
    "    # load data\n",
    "    data_f = np.loadtxt(\"03-multiple_pull/pull_\" + str(i) + \"/pull_pullf.xvg\",comments=[\"#\",\"@\"])\n",
    "    data_d = np.loadtxt(\"03-multiple_pull/pull_\" + str(i) + \"/pull_pullx.xvg\",comments=[\"#\",\"@\"])\n",
    "\n",
    "    # retrieve data\n",
    "    time=data_f[:,0] \n",
    "    force = data_f[:,1]\n",
    "    displacement = data_d[:,1]\n",
    "\n",
    "    # append data to lists\n",
    "    forces.append(force)\n",
    "    displacements.append(displacement)\n",
    "\n",
    "    # plot with matplotlib\n",
    "    plt.plot(displacement,force)\n",
    "\n",
    "plt.xlabel(\"Displacement (nm)\",size=14) \n",
    "plt.ylabel(\"Force ($kJmol^{-1}nm^{-1}$)\",size=14) \n",
    "plt.title(\"Force-Displacement\")\n",
    "plt.tight_layout()"
   ]
  },
  {
   "cell_type": "code",
   "execution_count": null,
   "metadata": {},
   "outputs": [],
   "source": []
  },
  {
   "cell_type": "code",
   "execution_count": null,
   "metadata": {},
   "outputs": [],
   "source": []
  },
  {
   "cell_type": "code",
   "execution_count": 79,
   "metadata": {},
   "outputs": [
    {
     "data": {
      "image/png": "[encoded data removed]",
      "text/plain": [
       "<Figure size 640x480 with 1 Axes>"
      ]
     },
     "metadata": {},
     "output_type": "display_data"
    }
   ],
   "source": [
    "temperature = 300 # K\n",
    "boltzmann = 8.314 # J/mol/K\n",
    "beta = 1/(boltzmann*temperature)\n",
    "\n",
    "works = []\n",
    "boltzmann_fac = []\n",
    "\n",
    "# cycle of simulations\n",
    "for i in range(1,9):\n",
    "    \n",
    "    displacement = displacements[i-1]\n",
    "    force = forces[i-1]\n",
    "\n",
    "    for i in range(0, len(displacement)-1): \n",
    "        \n",
    "        dx = displacement[i+1] - displacement[i]\n",
    "        work = force * dx\n",
    "        \n",
    "        works.append(work)\n",
    "        boltzmann_fac.append(np.exp(-beta*work))\n",
    "\n",
    "    plt.plot(displacement, work, c='r')\n",
    "\n",
    "\n",
    "# calculate the free energy\n",
    "mean_boltz_fac = np.mean([boltzmann_fac], axis=0)\n",
    "\n",
    "# calculate the free energy\n",
    "delta_g = -1/beta*np.log(mean_boltz_fac)\n",
    "#plt.plot(displacement, delta_g)"
   ]
  },
  {
   "cell_type": "code",
   "execution_count": 74,
   "metadata": {},
   "outputs": [
    {
     "data": {
      "text/plain": [
       "[<matplotlib.lines.Line2D at 0x7fd87c23ff70>]"
      ]
     },
     "execution_count": 74,
     "metadata": {},
     "output_type": "execute_result"
    },
    {
     "data": {
      "image/png": "[encoded data removed]",
      "text/plain": [
       "<Figure size 640x480 with 1 Axes>"
      ]
     },
     "metadata": {},
     "output_type": "display_data"
    }
   ],
   "source": [
    "plt.plot(displacement, work, c='r')\n",
    "plt.plot(displacement, work2, c='orange')\n",
    "\n",
    "plt.plot(displacement, delta_g)\n"
   ]
  },
  {
   "cell_type": "code",
   "execution_count": null,
   "metadata": {},
   "outputs": [],
   "source": []
  }
 ],
 "metadata": {
  "celltoolbar": "Slideshow",
  "colab": {
   "provenance": []
  },
  "kernelspec": {
   "display_name": "Python 3 (ipykernel)",
   "language": "python",
   "name": "python3"
  },
  "language_info": {
   "codemirror_mode": {
    "name": "ipython",
    "version": 3
   },
   "file_extension": ".py",
   "mimetype": "text/x-python",
   "name": "python",
   "nbconvert_exporter": "python",
   "pygments_lexer": "ipython3",
   "version": "3.10.6"
  },
  "rise": {
   "scroll": true
  },
  "toc": {
   "base_numbering": 1,
   "nav_menu": {
    "height": "446px",
    "width": "376px"
   },
   "number_sections": false,
   "sideBar": true,
   "skip_h1_title": false,
   "title_cell": "Table of Contents",
   "title_sidebar": "Contents",
   "toc_cell": false,
   "toc_position": {},
   "toc_section_display": true,
   "toc_window_display": true
  },
  "vscode": {
   "interpreter": {
    "hash": "bf90b27f9c6c09f085682840ae4a1960aaae1ae95af3b8fc1521325adcd821df"
   }
  }
 },
 "nbformat": 4,
 "nbformat_minor": 1
}
