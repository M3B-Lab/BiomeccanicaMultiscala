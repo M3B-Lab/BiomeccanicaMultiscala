{
 "cells": [
  {
   "cell_type": "markdown",
   "metadata": {
    "id": "Sh_I62oX7uuw"
   },
   "source": [
    "#**2.1 INTRODUCTION TO LINUX**\n",
    "****\n",
    "In this part of the project, we start talking about the basis of the language you have to know and use while operating on a Linux shell.\n",
    "We created a tutorial meant for students that are starting to have a first approach with a Linux-powered system, basing our choices in the making on the difficulties and the needs we had ourselves when trying to learn how to use it.\n",
    "\n",
    "\n"
   ]
  },
  {
   "cell_type": "markdown",
   "metadata": {
    "id": "KhyKW9_f8-Kz"
   },
   "source": [
    "Our tutorial starts with an overview of the most important and commonly utilized commands, in particular the ones that are specific for starting to learn how to move between directories and basic file or directory manipulation, with a special focus on .pdb files manipulation. In fact, the aim of this tutorial is to be used in a teaching that sets the basis for utilizing Linux systems in 3D molecular modelling, in particular for studying proteins and their behavior in complex systems."
   ]
  },
  {
   "cell_type": "markdown",
   "metadata": {
    "id": "60JCBM7E9Dqy"
   },
   "source": [
    "For each command we showed, we explained the most common uses and made examples about the most common applications, such as specific integrated functions that allow the user to utilize them with a large variety of possible declinations. Of course we could not have been able to explain all of the possible functions that can be used for every command, because they are a large number and the examples would have been endless, but we chose the ones that we tought could have been the most useful for a beginner, and other ones that appeared the most useful for making the students understands how the command works and how it can be utilized in different kind of applications."
   ]
  },
  {
   "cell_type": "markdown",
   "metadata": {
    "id": "OxsJ0gAn9Kjk"
   },
   "source": [
    "To make it easier for the students to get familiar with the language, we provided some exercises in the end of the tutorial, that are structured to force them to use every command we talk about and to really question their functioning, which is a necessary passage to really understand the power and the features of any of them."
   ]
  },
  {
   "cell_type": "markdown",
   "metadata": {
    "id": "MzSOtUL69UP3"
   },
   "source": [
    "For each exercise, we also provided its commented solution using a code block that simulates a Linux shell and can be executed directly in the Colab environment, allowing the students to clearly see which results those codes actually give in a real Linux environment.  The students can also use the simulated shell they find in the end of the notebook to personally try to elaborate the solutions of the exercises, or also to practice individually to get to know the environment and the language better. We think this could be particularly useful for those students who have difficulties in having a linux envirnoment available on their computers, or who simply haven’t installed the VirtualMachine or the Linux Subsistem yet."
   ]
  },
  {
   "cell_type": "markdown",
   "metadata": {
    "id": "iZV73BzFD5eC"
   },
   "source": [
    "Here is a list of the most basic Bash language commands that allow you to begin interfacing with a Linux shell, particularly to start moving through folders and manipulating files."
   ]
  },
  {
   "cell_type": "markdown",
   "metadata": {
    "id": "lVxWMY4qWrJN"
   },
   "source": [
    "#**2.2 LINUX COMMANDS**\n",
    "****\n",
    "\n",
    "\n",
    "### 2.2.1 COMMANDS TO NAVIGATE THROUGH FOLDERS AND FILES\n",
    "* **cd** \n",
    ">Command used to move to another folder.\n",
    ">\n",
    ">example: `cd /home/user/name_directory` \n",
    "\n",
    "* **cd ..** \n",
    ">Command used to return to the top folder.\n",
    ">\n",
    ">Using `cd ../..` for example, goes up two folders, and so on.\n",
    "\n",
    "* **ls**\n",
    ">Lists all items (files and folders) in the folder you are in.\n",
    ">\n",
    ">`ls [options] [target]`\n",
    ">\n",
    ">**SPECIAL CASES**\n",
    ">>\n",
    ">>**ls /folder** \n",
    ">>\n",
    ">>List items in the specified folder\n",
    ">> \n",
    ">> **ls -l** \n",
    ">>\n",
    ">>Show more information about the files and folders listed\n",
    ">>\n",
    ">> **ls -a** \n",
    ">>\n",
    ">>It also shows the hidden files present in the folder\n",
    "\n",
    "* **pwd**\n",
    ">Print the file or directory path on the screen.\n",
    "\n",
    "* **mv**\n",
    ">Rename the folder or file\n",
    ">\n",
    "> example: `mv filenamenew`\n",
    "\n",
    "* **cp**\n",
    ">Copy files or folders from one directory to another.\n",
    ">\n",
    ">example: `cp filename destination` (if you are in the directory where the file is).\n",
    "\n",
    "* **mkdir**\n",
    ">Creates a new folder in the current directory\n",
    ">\n",
    ">example: `mkdir foldername`\n",
    ">\n",
    "> example: `mkdir /home/newfolder` (creates the folder with the given path even if you are not in the directory where you want to create it)\n",
    "\n",
    "* **touch**\n",
    ">Creates new file whose name and extension are given.\n",
    ">\n",
    ">example: `touch file.txt`\n",
    "\n",
    "### 2.2.2 COMMANDS FOR PRINTING TO SCREEN OR FILE.\n",
    "\n",
    "* **echo**\n",
    ">Print the given text to the terminal or to a file.\n",
    ">\n",
    ">example: `echo \"TEXT\"` (Print to screen)\n",
    ">\n",
    ">example: `echo \"TEXT\">file.txt` (creates new file)\n",
    ">\n",
    "> example: `echo \"TEXT\">>file.txt` (adds into existing file)\n",
    ">\n",
    ">It is also possible to print the contents of a variable or the outcome of a command in a file or variable.\n",
    ">\n",
    "> example: `echo $variable>>file.txt` (prints the contents of the variable in the file)\n",
    ">\n",
    ">example: `echo $(pdw)>variable` (prints the file path in the variable)\n",
    "\n",
    "* **cat**\n",
    ">Prints the contents of a file on the screen.\n",
    ">\n",
    ">example: `cat file.txt` \n",
    "\n",
    "* **head / tail**\n",
    ">Prints the first (head) or last (tail) 10 lines of the file.\n",
    ">\n",
    ">example: `head file.txt`\n",
    ">>\n",
    ">**SPECIAL CASES**\n",
    ">>\n",
    ">>**head -n 50 filename** \n",
    ">>\n",
    ">>Print the first 50 lines of the file\n",
    ">>\n",
    ">>**tail -n 20 filename** \n",
    ">>\n",
    ">>Print the last 20 lines of the file\n",
    ">>\n",
    ">>**tail -n +20 filename | head -n 11** \n",
    ">>\n",
    ">>Print the lines between 20 and 30 (11 elements)\n",
    "\n",
    "### 2.2.3 COMMANDS TO OPERATE ON FILE\n",
    "\n",
    "* **grep**\n",
    ">Isolates rows in a file containing a word, number, pattern.\n",
    ">\n",
    ">example: `grep \"WORD\" file.txt`.\n",
    ">\n",
    ">example: `grep \"WORD\" file.txt> file2.txt` (prints lines containing WORD from file.txt into file2.txt).\n",
    "\n",
    "* **uniq**\n",
    ">Finds repeated lines and keeps only one copy\n",
    ">\n",
    ">example: `uniq file.txt> file2.txt` (prints the file with the non-repeated lines in file2.txt).\n",
    "\n",
    "* **sort**\n",
    ">Sorts the rows of a file in numerical and then alphabetical order. Numeric has priority over alphabetical\n",
    ">\n",
    ">example: `sort input.txt>order.txt` (sorts the input file into the destination file).\n",
    "\n",
    "* **cut**\n",
    ">Print specific parts of each line of a file (columns or characters).\n",
    ">\n",
    ">>\n",
    ">**SPECIAL CASES**\n",
    ">>\n",
    ">>**cut -c1-5 filename** \n",
    ">>\n",
    ">> the `-c` command allows you to print precise characters from each line, in this case characters 1 through 5.\n",
    ">>\n",
    ">>**cut -d: -f3 filename**\n",
    ">>\n",
    ">> The `-d` command allows you to tell the system which, within the file, is the character separating the columns, so that it can treat it as divided into such and not by single character (in this example, the columns are separated by the character \":\"). The `-f` command allows you to indicate which column to select (in this example the third).\n",
    ">>\n",
    ">>**cut -d: -f3 --complement filename**\n",
    ">>\n",
    ">> The `--complement` command allows you to \"reverse\" the action of the previous command: column 3 will be the only one not selected.\n",
    "\n",
    "* **wc**\n",
    ">Count the words, rows, or elements indicated by the options.\n",
    ">\n",
    ">>\n",
    ">**SPECIAL CASES**\n",
    ">>\n",
    ">>**wc -l filename** \n",
    ">>\n",
    ">>Count the lines in the file.\n",
    ">>\n",
    ">>**wc -w filename** \n",
    ">>\n",
    ">>Count the words.\n",
    ">>\n",
    ">>**wc -m filename**\n",
    ">>\n",
    ">>Count the characters.\n",
    ">>\n",
    ">>**wc -c filename**\n",
    ">>\n",
    ">>Count bytes.\n",
    ">\n",
    ">**ALTERNATIVE SYNTAX**\n",
    ">>\n",
    ">>`cat file.txt | wc -option`\n",
    "\n",
    "* **awk**\n",
    ">It is a very versatile command used in file scripting. An example of its use is as follows, but being a true scripting language its uses are many.\n",
    ">\n",
    ">The structure of an awk script will be of the type:\n",
    ">\n",
    ">`pattern {action}`\n",
    ">\n",
    ">`pattern {action}`\n",
    ">\n",
    ">A more detailed discussion of the command is explained later in the dedicated section.\n",
    "\n",
    "### 2.2.4 OTHER USEFUL COMMANDS.\n",
    "\n",
    "* **--help**\n",
    ">Allows you to have the terminal provide an explanation of how a command works. \n",
    ">\n",
    ">example: `echo --help` or `echo -h` (print explanation of echo command).\n",
    "\n",
    "* **clear** \n",
    ">Clears the screen while staying in the folder you are in.\n",
    "\n",
    "* **sudo**\n",
    ">Allows you to run a command as an administrator, so with higher level permissions. Prompts the user for a password.\n",
    ">\n",
    ">example: `sudo nomecommand`\n",
    "\n",
    "\n",
    "\n",
    "\n",
    "\n",
    "\n",
    "\n",
    "\n"
   ]
  },
  {
   "cell_type": "markdown",
   "metadata": {
    "id": "zkXk7qvABb_s"
   },
   "source": [
    "#**2.3** THE **AWK** COMMAND.\n",
    "\n",
    "AWK can be defined as a generic filter for text files.\n",
    "It processes one line at a time of the text file, performing different actions depending on whether the line meets certain conditions or contains certain patterns. It then reads line by line and applies the rules defined by the programmer to each.\n",
    "\n",
    "SUMMARY:\n",
    "\n",
    "\n",
    "\n",
    "* Everything that is to be read in the specific language of AWK must be inserted between ' '\n",
    "\n",
    "* Actions in awk are enclosed in curly brackets { }\n",
    "* Multiple instructions are executed in the order they appear and must be separated by ;\n",
    "\n",
    "* The pattern consists of the expression enclosed between / /\n",
    "\n",
    "\n",
    "\n"
   ]
  },
  {
   "cell_type": "markdown",
   "metadata": {
    "id": "EOhJ6yoXCez8"
   },
   "source": [
    "Below we provide some examples of possible uses of the AWK command to perform various operations"
   ]
  },
  {
   "cell_type": "code",
   "execution_count": 20,
   "metadata": {
    "cellView": "form",
    "executionInfo": {
     "elapsed": 297,
     "status": "ok",
     "timestamp": 1654606152878,
     "user": {
      "displayName": "Elisa Bruatto",
      "userId": "01387496138314736340"
     },
     "user_tz": -120
    },
    "id": "-UKRNquLNBit"
   },
   "outputs": [],
   "source": [
    "#@title Run the cell to upload the file\n",
    "%%bash\n",
    "echo Mario guarda il mare >>elenco.txt\n",
    "echo Ho preso un gelato con Mario >>elenco.txt\n",
    "echo Non litagare con Mario >>elenco.txt\n",
    "echo ciao >>elenco.text "
   ]
  },
  {
   "cell_type": "markdown",
   "metadata": {
    "id": "9gTtWh_qCueo"
   },
   "source": [
    "**EXAMPLE 1**: Extract from a file only the rows that contain a certain word"
   ]
  },
  {
   "cell_type": "code",
   "execution_count": 22,
   "metadata": {
    "executionInfo": {
     "elapsed": 308,
     "status": "ok",
     "timestamp": 1654606181639,
     "user": {
      "displayName": "Elisa Bruatto",
      "userId": "01387496138314736340"
     },
     "user_tz": -120
    },
    "id": "vs4rG6LxC3Qo"
   },
   "outputs": [],
   "source": [
    "%%bash\n",
    "cat elenco.txt | awk '/MARIO/ { print }'   #print on the screen only the lines \n",
    "                                            #that contain the word 'MARIO'\n",
    "\n",
    "# Alternatively, you can also use \n",
    "# awk '/MARIO/ { print }' file1 file2 file3   #Receives the files to be parsed are\n",
    "                                            #passed in standard input\n",
    "# or\n",
    "cat elenco.txt | awk '/MARIO/'"
   ]
  },
  {
   "cell_type": "markdown",
   "metadata": {
    "id": "ZKncbMuNE3Y0"
   },
   "source": [
    "In case you want to make longer programs that cannot be executed directly from the command line, you can save the program to a file and specify to AWK the name of the file to be executed."
   ]
  },
  {
   "cell_type": "code",
   "execution_count": 23,
   "metadata": {
    "executionInfo": {
     "elapsed": 302,
     "status": "ok",
     "timestamp": 1654606190501,
     "user": {
      "displayName": "Elisa Bruatto",
      "userId": "01387496138314736340"
     },
     "user_tz": -120
    },
    "id": "qtGsyZlgFQen"
   },
   "outputs": [],
   "source": [
    "%%bash\n",
    "echo '/MARIO/ { print $0 }' > cerca-mario.awk    # variable $0 contains \n",
    "                                                  # the entire line\n",
    "cat elenco.txt | awk -f cerca-mario.awk          # the '-f' option allows you to\n",
    "                                                  # work on the files"
   ]
  },
  {
   "cell_type": "markdown",
   "metadata": {
    "id": "9pcLZzguR6aP"
   },
   "source": [
    "Also widely used with AWK are the BEGIN and END commands, which allow an instruction to be executed at the beginning or end of the program, respectively."
   ]
  },
  {
   "cell_type": "code",
   "execution_count": null,
   "metadata": {
    "id": "WcGbZcRkRMXy"
   },
   "outputs": [],
   "source": [
    "%%bash\n",
    "awk 'BEGIN { print \"Start Processing.\" }; {print $1 }; END { print \"End Processing.\" }' "
   ]
  },
  {
   "cell_type": "markdown",
   "metadata": {
    "id": "MadsPnlJMGYm"
   },
   "source": [
    "**EXAMPLE 2**: Count the number of rows in a file (such as wc -l)"
   ]
  },
  {
   "cell_type": "code",
   "execution_count": null,
   "metadata": {
    "id": "txF_DYzpMFoI"
   },
   "outputs": [],
   "source": [
    "%%bash\n",
    "awk 'END  { print NR }'  # counts the number of rows entered as input \n",
    "# or\n",
    "awk 'END  { print NR }' elenco.txt     # count the rows of the inserted file \n",
    "                                        #from command line"
   ]
  },
  {
   "cell_type": "markdown",
   "metadata": {
    "id": "dH2DxdpHObWZ"
   },
   "source": [
    "**EXAMPLE 3**: extract an input column (like the cut, but in some cases the cut may not work)."
   ]
  },
  {
   "cell_type": "code",
   "execution_count": null,
   "metadata": {
    "id": "d5nGbtbjPbLT"
   },
   "outputs": [],
   "source": [
    "%%bash\n",
    "df -k | awk '{ print $4 }' elenco.txt #print column 4 of the supplied file \n",
    "                                        #in input"
   ]
  },
  {
   "cell_type": "markdown",
   "metadata": {
    "id": "iI2rGcNEQk9g"
   },
   "source": [
    "**EXAMPLE 4**: Totalizing a column in input. "
   ]
  },
  {
   "cell_type": "code",
   "execution_count": null,
   "metadata": {
    "id": "g0O_y_mJQvUR"
   },
   "outputs": [],
   "source": [
    "%%bash\n",
    "awk -v ncol=3 '{ sum += $ncol } END { print sum }'    # sum all the values \n",
    "                                                      #of column 3 and at the \n",
    "                                                      #end prints the sum \n",
    "                                                      #total"
   ]
  },
  {
   "cell_type": "markdown",
   "metadata": {
    "id": "o5LhsN9PF9Ul"
   },
   "source": [
    "**EXAMPLE 5**: Looking for the maximum value of a column."
   ]
  },
  {
   "cell_type": "code",
   "execution_count": null,
   "metadata": {
    "id": "DLLAwHT8GFHf"
   },
   "outputs": [],
   "source": [
    "%%bash\n",
    "\n",
    "awk '{ if ($1 > max) { max = $1} } END { print max }' #if the value acquired \n",
    "                                                      #in input is greater than \n",
    "                                                      #the maximum one until \n",
    "                                                      #then met saves it \n",
    "                                                      #in the variable max\n",
    "                                                      #it eventually prints to \n",
    "                                                      #video the maximum value\n"
   ]
  },
  {
   "cell_type": "markdown",
   "metadata": {
    "id": "u1iJIoAQP7pC"
   },
   "source": [
    "**EXAMPLE 6**: Print all rows whose x field ranges from m to n (generic values). For example, print the rows whose fourth field ranges from 31 to 33."
   ]
  },
  {
   "cell_type": "code",
   "execution_count": 29,
   "metadata": {
    "executionInfo": {
     "elapsed": 316,
     "status": "ok",
     "timestamp": 1654606222699,
     "user": {
      "displayName": "Elisa Bruatto",
      "userId": "01387496138314736340"
     },
     "user_tz": -120
    },
    "id": "w68nxYCvQgHA"
   },
   "outputs": [],
   "source": [
    "%%bash\n",
    "\n",
    "awk '$4 == 31, $4 == 33 { print $0 }'   #imposes the values of m=31 and n=33 of\n",
    "                                        #the rows to be printed and then prints \n",
    "                                        #all of the line ($0)"
   ]
  },
  {
   "cell_type": "markdown",
   "metadata": {
    "id": "vSbj5oleSYIL"
   },
   "source": [
    "AWK allows two or more patterns to be combined using the logical AND operator (&&) and the OR operator (||)\n",
    "\n",
    "**EXAMPLE 7**: Print rows whose third field is greater than 50 and fourth field less than 30"
   ]
  },
  {
   "cell_type": "code",
   "execution_count": null,
   "metadata": {
    "id": "MFi6UeJAS2zK"
   },
   "outputs": [],
   "source": [
    "%%bash\n",
    "\n",
    "awk '$3 > 50 && $4 < 30 { print $1 }'    # imposes the two conditions. \n",
    "                                          #( $3>50 e $4<30 )\n",
    "                                         # if both are verified it prints \n",
    "                                         # on the screen the first field\n"
   ]
  },
  {
   "cell_type": "markdown",
   "metadata": {
    "id": "FgeGrI3hBJe2"
   },
   "source": [
    "**EXAMPLE 8**: Print the file name and number of rows. "
   ]
  },
  {
   "cell_type": "code",
   "execution_count": null,
   "metadata": {
    "id": "6Dcn1p0qBe-q"
   },
   "outputs": [],
   "source": [
    "%%bash                                                \n",
    "   # FILENAME and NR extract the filename and number of rows.\n",
    "\n",
    "awk 'END { print \"File\", FILENAME, \"contains\", NR, \"lines\" }' elenco.txt  \n",
    " # the strings to be printed should be inserted between \"\"\n",
    " # while the variables FILENAME and NR, which contain respectively.\n",
    " # the filename and the number of lines no."
   ]
  },
  {
   "cell_type": "markdown",
   "metadata": {
    "id": "KVgbY1AsEVuZ"
   },
   "source": [
    "Mathematical operations can also be performed more easily with AWK.\n",
    "\n",
    "**EXAMPLE 9**: Calculate the sum of the values stored in the first field of each row."
   ]
  },
  {
   "cell_type": "code",
   "execution_count": null,
   "metadata": {
    "id": "UQtFVLyaEtt-"
   },
   "outputs": [],
   "source": [
    "%%bash\n",
    "\n",
    "awk '{ sum += $3 } END { printf \"%d\\n\", sum}'  # printf allows you to have \n",
    "                                               #more control over the format \n",
    "                                               #of the output than print.\n",
    "                                               # instruction in the first \n",
    "                                               #parenthesis performs the sum\n",
    "                                               # upon completion prints out on\n",
    "                                               #the screen the result"
   ]
  },
  {
   "cell_type": "markdown",
   "metadata": {
    "id": "3ggK_PvK0oqd"
   },
   "source": [
    "#**2.4 PROPOSED EXERCISES**\n",
    "****\n",
    "\n",
    "\n",
    ">\n",
    "To upload the file to be used for the exercises use the following procedure:\n",
    "On Colab, on the left bar select the folder icon. You will be faced with the following menu\n",
    ">\n",
    "![Immagine1.png](data:image/png;base64,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)\n",
    ">\n",
    "Select the icon circled in red and choose the file to upload from your pc. Keep in mind that when the notebook is closed, the uploaded temporary files are deleted and must be uploaded again the next time you open it.\n",
    ">\n",
    "**WARNING**: To run the following cells, you must upload the 1yzb.pdb file to colab, as shown above.\n",
    "\n",
    "You can download the .pdb file directly to your pc by clicking on this link https://files.rcsb.org/download/1YZB.pdb\n",
    "\n",
    "Alternatively, simply run the cell below to temporarily upload the file to colab"
   ]
  },
  {
   "cell_type": "code",
   "execution_count": null,
   "metadata": {
    "cellView": "form",
    "id": "ZMSB8IuZGRn3"
   },
   "outputs": [],
   "source": [
    "#@title Run the cell to upload the file\n",
    "!wget  https://files.rcsb.org/download/1YZB.pdb"
   ]
  },
  {
   "cell_type": "markdown",
   "metadata": {
    "id": "jzUHioaHuGbF"
   },
   "source": [
    "# 2.4.1 EASY EXERCISES"
   ]
  },
  {
   "cell_type": "markdown",
   "metadata": {
    "id": "6cocccrH9LVa"
   },
   "source": [
    "**EXERCISE 1**\n",
    "\n",
    "Create the folder \"ese01,\" and create the file \"example.txt\" inside the folder. Write in the file a text of your choice, then add in the same file the path to the file itself (without deleting what the file already contains). Finally, print the contents of the file on the screen.\n",
    "\n",
    "**HINTS**: mkdir, touch, echo, cat, pwd, >, >>"
   ]
  },
  {
   "cell_type": "code",
   "execution_count": null,
   "metadata": {
    "id": "6uoZA7BL-aha"
   },
   "outputs": [],
   "source": [
    "#@title Exercise 1\n",
    "%%bash\n",
    "\n",
    "mkdir ese01  #create folder ese01 in the directory I am in.\n",
    "touch exemple.txt    #create new file \"esempio.txt\"\n",
    "echo Hello Pippo >>esempio.txt    #print the text in the existing file \n",
    "echo $(pwd) >>esempio.txt    #print the file path in the file, without \n",
    "                             #overwriting. \n",
    "                             #The $ symbol is used to extract the contents of the\n",
    "                             # pwd command.\n",
    "cat exemple.txt   #print on screen the file"
   ]
  },
  {
   "cell_type": "markdown",
   "metadata": {
    "id": "5JFNg1l__FxG"
   },
   "source": [
    "**EXERCISE 2**\n",
    "\n",
    "Create the folder \"ese02\" and copy the file 1yzb.pdb into it. Print the first and last lines of the file on the screen, then print them in the file \"firstlast.pdb\". Count the lines in both files.\n",
    "\n",
    "**HINTS**:\n",
    "mkdir, head, tail, cat, wc, cp"
   ]
  },
  {
   "cell_type": "code",
   "execution_count": null,
   "metadata": {
    "id": "S19-ROY0_nHn"
   },
   "outputs": [],
   "source": [
    "#@title Exercise 2\n",
    "%%bash\n",
    "\n",
    "mkdir /content/ese02\n",
    "cd /content       # I move to the folder containing the file because \n",
    "                    # in my case this is where the file I need is located.\n",
    "cp 1YZB.pdb /content/ese02  #copy the file to the destination directory.\n",
    "                            # ~/content/ese02\n",
    "head -n 1 1YZB.pdb                      \n",
    "head -n 1 1YZB.pdb >firstlast.pdb  # I extract the first line of the file \n",
    "                                  #and print it into the newly created file \n",
    "                                  #firstlast.pdb\n",
    "tail -n 1 1YZB.pdb                   # I extract the last line\n",
    "tail -n 1 1YZB.pdb >>firstlast.pdb   # print it in the same file\n",
    "cat firstlast.pdb | wc -l  # count the lines in the file \n",
    "                            # (with this command line, only the number of \n",
    "                            #lines of the file is printed to the \n",
    "                            #screen only the number of lines in the file, \n",
    "                            #without repeating its name)\n",
    "cat 1YZB.pdb | wc -l "
   ]
  },
  {
   "cell_type": "markdown",
   "metadata": {
    "id": "KLWEJiJySw3v"
   },
   "source": [
    "**EXERCISE 3**\n",
    "\n",
    "Create the directory /content/ese03 and move inside it. print the directory path to a folder called pathx. print the variable on the screen.\n",
    "\n",
    "**HINTS**: mkdir, pwd, echo, cd"
   ]
  },
  {
   "cell_type": "code",
   "execution_count": null,
   "metadata": {
    "id": "Bh8dxdF4TO0d"
   },
   "outputs": [],
   "source": [
    "#@title Exercise 3\n",
    "%%bash\n",
    "\n",
    "mkdir ese03\n",
    "cd ese03\n",
    "pathx=$(pwd)\n",
    "echo $pathx\n"
   ]
  },
  {
   "cell_type": "markdown",
   "metadata": {
    "id": "gf34-TxZTeda"
   },
   "source": [
    "**EXERCISE 4**\n",
    "\n",
    "Create the file file04.txt and print the variable pathx inside it. Finally, print on the screen the file\n",
    "\n",
    "**HINTS**: cat, echo, pwd, touch"
   ]
  },
  {
   "cell_type": "code",
   "execution_count": null,
   "metadata": {
    "id": "dGUte0x4Tvzf"
   },
   "outputs": [],
   "source": [
    "#@title Exercise 4\n",
    "%%bash\n",
    "\n",
    "touch file04.txt\n",
    "pathx=$(pwd)\n",
    "echo $pathx >>file04.txt\n",
    "cat file04.txt\n"
   ]
  },
  {
   "cell_type": "markdown",
   "metadata": {
    "id": "hpe_7l1fsuQE"
   },
   "source": [
    "**EXERCISE 5**\n",
    "\n",
    "Create the directory /content/ese05 and copy the downloaded .pdb file to it. Extract the first 20 rows from the file, save them in the file first20.pdb. Finally save only the columns corresponding to \"atom number\" and \"atom name\" in the file simple.pdb.\n",
    "\n",
    "**HINTS**: mkdir, cp, grep , head, awk, cat"
   ]
  },
  {
   "cell_type": "code",
   "execution_count": null,
   "metadata": {
    "id": "653ffP2ho1gV"
   },
   "outputs": [],
   "source": [
    "#@title Exercise 5\n",
    "%%bash\n",
    "mkdir /content/ese05\n",
    "cd /content\n",
    "cp 1YZB.pdb /content/ese05\n",
    "\n",
    "grep \"^ATOM\" 1YZB.pdb | head -n 20 >first20.pdb  #extract only the lines that \n",
    "                                                #contain the word ATOM in the \n",
    "                                                #first column\n",
    "                                               #(The symbol ^ indicates \n",
    "                                               #precisely that \n",
    "                                               #ATOM must be in the first \n",
    "                                               #position to be \n",
    "                                               #extracted\n",
    "                                               #with head I extract the first \n",
    "                                               #20 lines and I \n",
    "                                               #print them into the new file\n",
    "awk '{print $2 , $3}' first20.pdb > simple.pdb   #print columns 2 and 3 \n",
    "                                                 #from the file first20.pdb\n",
    "                                                 # into the \n",
    "                                                 #new file simple.pdb\n",
    "cat simple.pdb\n",
    "\n"
   ]
  },
  {
   "cell_type": "markdown",
   "metadata": {
    "id": "4fBC28xkULdP"
   },
   "source": [
    "**EXERCISE 6**\n",
    "\n",
    "Working on the .pdb file previously copied into the ese05 folder, print its contents to the screen. After cleaning up the window, print its first 50 lines on the screen, then print them in the file first50.pdb. When finished, verify that you have performed the step correctly by counting the lines in the new file and verifying that there are 50 of them.\n",
    "\n",
    "**HINTS**: cat, clear, wc, head"
   ]
  },
  {
   "cell_type": "code",
   "execution_count": null,
   "metadata": {
    "id": "Uv-boZZMUw1V"
   },
   "outputs": [],
   "source": [
    "#@title Exercise 6\n",
    "%%bash\n",
    "\n",
    "cat 1YZB.pdb\n",
    "#cd ~/ese05\n",
    "clear\n",
    "head -n 50 1YZB.pdb\n",
    "head -n 50 1YZB.pdb >first50.pdb\n",
    "cat first50.pdb | wc -l \n"
   ]
  },
  {
   "cell_type": "markdown",
   "metadata": {
    "id": "fi_ckky-ArUY"
   },
   "source": [
    "## 2.4.2 DIFFICULT EXERCISES"
   ]
  },
  {
   "cell_type": "markdown",
   "metadata": {
    "id": "DLxEOxYJVLB9"
   },
   "source": [
    "**EXERCISE 7**\n",
    "\n",
    "Extract only the lines beginning with ATOM from the file 1yzb.pdb, and save them to the fail atoms.pdb. Extract the first 10 lines of atoms.pdb and save them to the firts10.pdb file. Do the same with the last 10, saving them in last10.pdb.\n",
    "Print lines from 10 to 20 of the atoms.pdb file on the screen.\n",
    "\n",
    "**HINTS**: grep, head, tail"
   ]
  },
  {
   "cell_type": "code",
   "execution_count": null,
   "metadata": {
    "id": "iiYXe1aWVq9N"
   },
   "outputs": [],
   "source": [
    "#@title Exercise 7\n",
    "%%bash\n",
    "\n",
    "cat 1YZB.pdb | grep ATOM >atoms.pdb\n",
    "head -n 10 atoms.pdb >first10.pdb\n",
    "tail -n 10 atoms.pdb >last10.pdb\n",
    "tail -n +10 atoms.pdb | head -n 11 \n"
   ]
  },
  {
   "cell_type": "markdown",
   "metadata": {
    "id": "KH6UxR00uYVH"
   },
   "source": [
    "**EXERCISE 8**\n",
    "\n",
    "From the file 1yzb.pdb extract only the carbon atoms and save them in a new file called atoms_c.pdb. Then count the number of carbon atoms. Create the file number_atoms.txt and write inside \"There are \"N\" carbon atoms in the file 1yzb.pdb.\" Try other elements of your choice (e.g., oxygen, nitrogen, hydrogen) and add their data to the file number_atoms.txt, being careful not to delete what you wrote previously.\n",
    "\n",
    "\n",
    "**HINTS:** awk, wc, touch, >, >>"
   ]
  },
  {
   "cell_type": "code",
   "execution_count": null,
   "metadata": {
    "id": "NBWps0BozZN6"
   },
   "outputs": [],
   "source": [
    "#@title Exercise 8\n",
    "%%bash \n",
    "\n",
    "awk '$12 ~ /C/ {print $0}' 1YZB.pdb >atomi_c.pdb     # As an alternative to\n",
    "                                                     # the command \n",
    "                                                    #grep, seen in the other \n",
    "                                                    #exercises one can use\n",
    "                                                    # an awk action\n",
    "n_atomi=$(cat atomi_c.pdb | wc -l)   #save in the variable the number of rows \n",
    "                                     #of the atoms_c file\n",
    "\n",
    "echo In file 1YZB.pdb are present $n_atomi atoms of carbon >number_atoms.txt\n",
    "\n",
    "# print in the file number_atoms.txt the given line of text, where I wrote \n",
    "# $n_atoms will be printed the contents of the variable n_atoms.\n",
    "\n",
    "awk '$12 ~ /H/ {print $0}' 1YZB.pdb >atomi_h.pdb\n",
    "n_atomi=$(cat atomi_h.pdb | wc -l)   #print in the variable the number of\n",
    "                                     #lines of the file atoms_h.pdb.\n",
    "                                    \n",
    "echo In file 1YZB.pdb are present $n_atomi atomi of hydrogen >>number_atoms.txt   \n",
    "# pay attention to >> which (unlike >) is used to add text \n",
    "# to the file without deleting what is already there\n",
    "\n",
    "cat number_atoms.txt"
   ]
  },
  {
   "cell_type": "markdown",
   "metadata": {
    "id": "670YPmc0Auyz"
   },
   "source": [
    "**EXERCISE 9**\n",
    "\n",
    "Extract the ATOM lines from the file 1yzb.pdb and save them in the file \"atoms.pdb\". Then extract from that file the Serine residues (marked SER in column 4) and transcribe them into the file \"residuiser.pdb.\" Print the coordinates of all the atoms belonging to those residues in the file \"xyzser.pdb,\" and finally count the SER residues and print their numbers on the screen.\n",
    "\n",
    "**HINTS**: grep, wc, awk, uniq, cat, >"
   ]
  },
  {
   "cell_type": "code",
   "execution_count": null,
   "metadata": {
    "id": "g7YHrJ-0WsGJ"
   },
   "outputs": [],
   "source": [
    "#@title Exercise 9 extended version\n",
    "%%bash\n",
    "\n",
    "\n",
    "grep \"^ATOM\" 1YZB.pdb>atoms.pdb\n",
    "awk '{print $3, $4, $7, $8, $9}' atoms.pdb>residui.pdb  #print columns 3,\n",
    "                                                         #4, 7, 8, 9 of the file \n",
    "                                                         #atoms.pdb in the file \n",
    "                                                         #residui.pdb\n",
    "grep \"SER\" residui.pdb>residuiser.pdb\n",
    "awk '{print $3, $4, $5}' residuiser.pdb>xyzser.pdb   #print columns 3,\n",
    "                                                     #4, 5 of the file \n",
    "                                                     #residuiser.pdb in\n",
    "                                                     # the xyzser.pdb.pdb file.\n",
    "grep \"CA\" residuiser.pdb>residuiser1.pdb  #extract only the lines with carbon\n",
    "                                            #alpha, this ensures that I \n",
    "                                            #extract only one for each residue.\n",
    "cat residuiser1.pdb | wc -l "
   ]
  },
  {
   "cell_type": "code",
   "execution_count": null,
   "metadata": {
    "id": "dhsEEEvCBkOk"
   },
   "outputs": [],
   "source": [
    "#@title Exercise 9 contracted version\n",
    "%%bash\n",
    "\n",
    "grep \"^ATOM\" 1YZB.pdb | grep SER | grep CA >residuiser.pdb  #extract only the \n",
    "                                                            #strings with carbon\n",
    "                                                            #alpha, this \n",
    "                                                            #guarantee to \n",
    "                                                            #extract only one\n",
    "                                                            #for each residue\n",
    "awk '{ print $7, $8, $9 }' residuiser.pdb > xyzser.pdb      # I use awk to save \n",
    "                                                            #the columns \n",
    "                                                            #containing the \n",
    "                                                     #coordinates in the file\n",
    "cat residuiser.pdb | wc -l                  # use wc to count rows"
   ]
  },
  {
   "cell_type": "markdown",
   "metadata": {
    "id": "ehx10eaMChly"
   },
   "source": [
    "**EXERCISE 10**\n",
    "\n",
    "Extract the REMARK columns of the 1yzb.pdb file into a \"remark.pdb\" file. Print on screen the rows from 20 to 40, then print on screen the rows with 500 in the second column.\n",
    "\n",
    "**HINTS**: grep, head, tail, cat"
   ]
  },
  {
   "cell_type": "code",
   "execution_count": null,
   "metadata": {
    "id": "UbLtsG_yDUbQ"
   },
   "outputs": [],
   "source": [
    "#@title Exercise 10\n",
    "%%bash\n",
    "\n",
    "grep \"^REMARK\" 1YZB.pdb >remark.pdb\n",
    "tail -n +20 remark.pdb | head -n 21   #print lines 20 through 40.\n",
    "                                      #(21 rows in total)\n",
    "grep \"500\" remark.pdb >remark1.pdb\n",
    "cat remark1.pdb"
   ]
  },
  {
   "cell_type": "markdown",
   "metadata": {
    "id": "mcaLIIdMR6GE"
   },
   "source": [
    "**EXERCISE 11**\n",
    "\n",
    "Create a new file called new.pdb containing the first 100 atoms of the file 1yzb.pdb . Extract and print on the screen all the x-coordinates of the atoms belonging to the new file.\n",
    "\n",
    "**HINTS**: cat, grep, head, awk"
   ]
  },
  {
   "cell_type": "code",
   "execution_count": null,
   "metadata": {
    "id": "RC4_5WDBTS0-"
   },
   "outputs": [],
   "source": [
    "#@title Exercise 11\n",
    "%%bash\n",
    "\n",
    "cat 1YZB.pdb | grep ^ATOM >atoms.pdb \n",
    "head -n 100 atoms.pdb >new.pdb \n",
    "awk '{ print \"The coordinate x is : \", $7}' new.pdb "
   ]
  },
  {
   "cell_type": "markdown",
   "metadata": {
    "id": "V478LpcJXiyB"
   },
   "source": [
    "**EXERCISE 12**\n",
    "\n",
    "Create a new file called extracts.pdb consisting of the first 10 lines, lines 100 to 110 and the last 10 lines of atoms.pdb.\n",
    "Extract only the lines of atoms.pdb with the x-coordinate less than 1.5 and save them in the file x_below.pdb.\n",
    "Finally extract from atoms.pdb only the columns containing the x, y and z coordinates and the atom number, and save them in simple.pdb.\n",
    "\n",
    "**HINTS**: cat, grep, head, tail, cut, awk"
   ]
  },
  {
   "cell_type": "code",
   "execution_count": null,
   "metadata": {
    "id": "KgvUfDAnYO1_"
   },
   "outputs": [],
   "source": [
    "#@title Exercise 12\n",
    "%%bash\n",
    "\n",
    "cat 1YZB.pdb | grep ATOM >atoms.pdb\n",
    "head -n 10 atoms.pdb >extracted.pdb\n",
    "tail -n +100 atoms.pdb | head -n 11 >>extracted.pdb\n",
    "tail -n 10 atoms.pdb >>extracted.pdb\n",
    "\n",
    "awk '$7 < 1.5 { print $0 }' atoms.pdb >x_below.pdb\n",
    "\n",
    "awk '{ print $2, $7, $8, $9 }' atoms.pdb >simple.pdb\n",
    "cat x_below.pdb\n",
    "cat simple.pdb"
   ]
  },
  {
   "cell_type": "markdown",
   "metadata": {
    "id": "aueQS0OQTm-t"
   },
   "source": [
    "**EXERCISE 13**\n",
    "\n",
    "Create a file called file1.pdb containing only atoms having the x coordinate between 10.3 and 10.9 and two others called file2.pdb and file3.pdb containing only atoms having the y and z coordinates between the same values, respectively. At this point merge the three files into one called filefinale.pdb ."
   ]
  },
  {
   "cell_type": "code",
   "execution_count": null,
   "metadata": {
    "id": "p_akDrDLUGFw"
   },
   "outputs": [],
   "source": [
    "#@title Exercise 13\n",
    "%%bash\n",
    "cat 1YZB.pdb | grep ^ATOM >atoms.pdb \n",
    "awk '$7 >= 10.3 && $7 <= 10.9 { print $0 }' atoms.pdb >file1.pdb\n",
    "awk '$8 >= 10.3 && $8 <= 10.9 { print $0 }' atoms.pdb >file2.pdb \n",
    "awk '$9 >= 10.3 && $9 <= 10.9 { print $0 }' atoms.pdb >file3.pdb \n",
    "echo \"Atoms with x between 10.3 and 10.9 inclusive are.\"\n",
    "cat file1.pdb "
   ]
  },
  {
   "cell_type": "markdown",
   "metadata": {
    "id": "P8LUyiFsZEit"
   },
   "source": [
    "**EXERCISE 14**\n",
    "\n",
    "Count the number of alanine residues contained in the file atoms.pdb (labeled ALA).\n",
    "Count how many trajectories are contained in 1yzb.pdb (marked by the word MODEL).\n",
    "Create a sequence.txt file containing all the numbers from 1 to 1000.\n",
    "\n",
    "**HINTS**: cat, grep, wc, uniq, sort, seq"
   ]
  },
  {
   "cell_type": "code",
   "execution_count": null,
   "metadata": {
    "id": "-W1LlyudZj1V"
   },
   "outputs": [],
   "source": [
    "#@title Exercise 14 contracted form\n",
    "%%bash\n",
    "\n",
    "grep ALA atomi.pdb | grep CA | sort | uniq -w 20 | wc -l\n",
    "grep -v REMARK 1YZB.pdb | grep MODEL | wc -l\n",
    "seq 1 1000 >sequence.txt\n"
   ]
  },
  {
   "cell_type": "code",
   "execution_count": null,
   "metadata": {
    "id": "gCullje8Zs41"
   },
   "outputs": [],
   "source": [
    "#@title Exercise 14 extended form\n",
    "%%bash\n",
    "grep \"ATOM\" 1YZB.pdb>atoms.pdb\n",
    "grep \"ALA\" atoms.pdb>residuiala.pdb\n",
    "\n",
    "grep \"CA\" residuiala.pdb>residuiala1.pdb  #extract only the lines with carbon\n",
    "                                          #alpha, this ensures that I \n",
    "                                          #extract only one for each residue.\n",
    "cat residuiala1.pdb | wc -l \n",
    "\n",
    "grep -v \"REMARK\" 1yzb.pdb>noremark.pdb\n",
    "grep \"MODEL\" noremark.pdb>model.pdb\n",
    "cat model.pdb | wc –l \n",
    "seq 1 1000 >sequence.txt\n",
    "cat sequence.txt\n"
   ]
  },
  {
   "cell_type": "markdown",
   "metadata": {
    "id": "DVeC-0JhbnvA"
   },
   "source": [
    "## **2.5 USEFUL COLAB CELLS**\n",
    "****"
   ]
  },
  {
   "cell_type": "markdown",
   "metadata": {
    "id": "aDC9YhtWxJyZ"
   },
   "source": [
    "Here is a useful cell for temporarily loading any callable files in the code "
   ]
  },
  {
   "cell_type": "code",
   "execution_count": null,
   "metadata": {
    "id": "Pgb8wMGhEVpR"
   },
   "outputs": [],
   "source": [
    "from google.colab import files\n",
    "files.upload()\n"
   ]
  },
  {
   "cell_type": "markdown",
   "metadata": {
    "id": "kVIV2fVzwpdl"
   },
   "source": [
    "Here at hand is a cell that simulates a full-fledged linux terminal"
   ]
  },
  {
   "cell_type": "code",
   "execution_count": null,
   "metadata": {
    "id": "wCVhqmWeFGNO"
   },
   "outputs": [],
   "source": [
    "!pip install google-colab-shell\n",
    "from google_colab_shell import getshell\n",
    "getshell()"
   ]
  }
 ],
 "metadata": {
  "colab": {
   "collapsed_sections": [],
   "name": "Section_2.ipynb",
   "provenance": []
  },
  "kernelspec": {
   "display_name": "Python 3 (ipykernel)",
   "language": "python",
   "name": "python3"
  },
  "language_info": {
   "codemirror_mode": {
    "name": "ipython",
    "version": 3
   },
   "file_extension": ".py",
   "mimetype": "text/x-python",
   "name": "python",
   "nbconvert_exporter": "python",
   "pygments_lexer": "ipython3",
   "version": "3.9.13"
  },
  "toc": {
   "base_numbering": 1,
   "nav_menu": {},
   "number_sections": true,
   "sideBar": true,
   "skip_h1_title": false,
   "title_cell": "Table of Contents",
   "title_sidebar": "Contents",
   "toc_cell": false,
   "toc_position": {},
   "toc_section_display": true,
   "toc_window_display": false
  }
 },
 "nbformat": 4,
 "nbformat_minor": 1
}
