{
 "cells": [
  {
   "cell_type": "markdown",
   "metadata": {},
   "source": [
    "<a href=\"https://colab.research.google.com/github/lorenzopallante/BiomeccanicaMultiscala/blob/main/LAB/03-Intro_BashLinux/03-Intro_LinuxBash.ipynb\" target=\"_parent\"><img src=\"https://colab.research.google.com/assets/colab-badge.svg\" alt=\"Open In Colab\"/></a>"
   ]
  },
  {
   "cell_type": "markdown",
   "metadata": {
    "id": "xQO8E95hdgT8",
    "slideshow": {
     "slide_type": "slide"
    }
   },
   "source": [
    "# Laboratorio 3\n",
    "**Introduction to Linux and Bash language**\n",
    "\n",
    "\n",
    "Authors:\n",
    "    \n",
    "- Prof. Marco A. Deriu (marco.deriu@polito.it)\n",
    "- Lorenzo Pallante (lorenzo.pallante@polito.it)\n",
    "- Eric A. Zizzi (eric.zizzi@polito.it)\n",
    "- Marcello Miceli (marcello.miceli@polito.it)\n",
    "- Marco Cannariato (marco.cannariato@polito.it)"
   ]
  },
  {
   "cell_type": "markdown",
   "metadata": {
    "id": "qy1kcGb4fuyY",
    "slideshow": {
     "slide_type": "slide"
    }
   },
   "source": [
    "# Table of Contents\n",
    "\n",
    "3. What is Linux? \n",
    "4. The PDB files\n",
    "5. Exercises\n",
    "\n",
    "**Learning outcomes:** \n",
    "- understand what is Linux and its basic commands and scripting codes\n",
    "- know PDB files and their structure\n",
    "- Try yourselves with exercises"
   ]
  },
  {
   "cell_type": "markdown",
   "metadata": {
    "slideshow": {
     "slide_type": "subslide"
    }
   },
   "source": [
    "**Remember to copy all the necessary files if you're using COLAB**"
   ]
  },
  {
   "cell_type": "code",
   "execution_count": null,
   "metadata": {},
   "outputs": [],
   "source": [
    "# copy over data repository\n",
    "!if [ -n \"$COLAB_GPU\" ]; then git clone https://github.com/lorenzopallante/BiomeccanicaMultiscala.git; fi\n",
    "!if [ -n \"$COLAB_GPU\" ]; then mv BiomeccanicaMultiscala/LAB/03-Intro_BashLinux/* .; fi"
   ]
  },
  {
   "cell_type": "markdown",
   "metadata": {
    "id": "56fkK_FCRVOK",
    "slideshow": {
     "slide_type": "slide"
    }
   },
   "source": [
    "# What is Linux? \n",
    "- An operating system\n",
    "- Unix was the predecessor of Linux\n",
    "- One of the most popular platforms on the planet, Android, is powered by the Linux operating system\n",
    "- An operating system is software that manages all of the hardware resources associated with your desktop or laptop\n",
    "![Linux Image](https://www.redhat.com/cms/managed-files/tux-327x360.png)\n",
    "\n",
    "***Why using Linux?***\n",
    "1. Linux is **free**\n",
    "2. It’s **fully customizable**\n",
    "3. It’s **stable** (i.e. it almost never crashes)\n",
    "\n",
    "*These characteristics make it an ideal OS for programmers and scientists*"
   ]
  },
  {
   "cell_type": "markdown",
   "metadata": {
    "slideshow": {
     "slide_type": "subslide"
    }
   },
   "source": [
    "The Linux operating system comprises several different pieces:\n",
    "\n",
    "* **Bootloader** –  The software that manages the boot process of your computer. For most users, this will simply be a splash screen that pops up and eventually goes away to boot into the operating system.\n",
    "* **Kernel** – This is the one piece of the whole that is actually called ‘Linux’. The kernel is the core of the system and manages the CPU, memory, and peripheral devices. The kernel is the lowest level of the OS.\n",
    "* **Init system** – This is a sub-system that bootstraps the user space and is charged with controlling daemons. One of the most widely used init systems is systemd, which also happens to be one of the most controversial. It is the init system that manages the boot process, once the initial booting is handed over from the bootloader (i.e., GRUB or GRand Unified Bootloader).\n",
    "* **Daemons** – These are background services (printing, sound, scheduling, etc.) that either start up during boot or after you log into the desktop.\n",
    "* **Graphical server** – This is the sub-system that displays the graphics on your monitor. It is commonly referred to as the X server or just X.\n",
    "* **Desktop environment** – This is the piece that the users actually interact with. There are many desktop environments to choose from (GNOME, Cinnamon, Mate, Pantheon, Enlightenment, KDE, Xfce, etc.). Each desktop environment includes built-in applications (such as file managers, configuration tools, web browsers, and games).\n",
    "* **Applications** – Desktop environments do not offer the full array of apps. Just like Windows and macOS, Linux offers thousands upon thousands of high-quality software titles that can be easily found and installed. Most modern Linux distributions (more on this below) include App Store-like tools that centralize and simplify application installation. For example, Ubuntu Linux has the Ubuntu Software Center (a rebrand of GNOME Software) which allows you to quickly search among the thousands of apps and install them from one centralized location."
   ]
  },
  {
   "cell_type": "markdown",
   "metadata": {
    "id": "gA-E6RfDRVOL",
    "slideshow": {
     "slide_type": "subslide"
    }
   },
   "source": [
    "## Basic Command Structure\n",
    "\n",
    "`$ command –x <args> -y <args> …<target>`\n",
    "\n",
    "- `command`: Binary/script. Must be in current folder or in $PATH!\n",
    "- `args`: Specific option, with its argument (e.g. –verbose False)\n",
    "- `target`: Positional argument, e.g. a target file (if applicable)\n",
    "\n",
    "<div class=\"alert alert-block alert-success\"> \n",
    "    \n",
    "    \n",
    "In general, you can use `command –-help>` or `command –h>` to have an help message for the command used\n",
    "\n",
    "</div>"
   ]
  },
  {
   "cell_type": "markdown",
   "metadata": {},
   "source": [
    "<div class=\"alert alert-block alert-warning\"> \n",
    "    \n",
    "**REMEMBER** \n",
    "\n",
    "If you want to write code in bash you must start your code cell with  `%%bash`  or use  `!`  before your bash line\n",
    "</div>"
   ]
  },
  {
   "cell_type": "markdown",
   "metadata": {
    "slideshow": {
     "slide_type": "subslide"
    }
   },
   "source": [
    "When you use a **native Linux environment** you will be able to run all your command inside a **terminal** using the bash syntax."
   ]
  },
  {
   "cell_type": "markdown",
   "metadata": {},
   "source": [
    "![bash2](imgs/bash.png)"
   ]
  },
  {
   "cell_type": "markdown",
   "metadata": {},
   "source": [
    "In this tutorial, we will execute all cells in the notebook simulating the shell environment!"
   ]
  },
  {
   "cell_type": "markdown",
   "metadata": {
    "id": "iYaEdM7sRVOM",
    "slideshow": {
     "slide_type": "subslide"
    }
   },
   "source": [
    "## The Directory Tree\n",
    "The **Directory Tree** is the organitazion of folders and files in your computer.\n",
    "\n",
    "***Note***: Unless explicitly specified, command will look for files (and create them) in the current directory. Different locations must be specified!"
   ]
  },
  {
   "cell_type": "markdown",
   "metadata": {
    "id": "paZKvSjaRVOM"
   },
   "source": [
    "![title](imgs/01-Picture1.png)"
   ]
  },
  {
   "cell_type": "markdown",
   "metadata": {
    "id": "abf-0IcNRVON"
   },
   "source": [
    "To know your current location, you can type the following command: "
   ]
  },
  {
   "cell_type": "code",
   "execution_count": null,
   "metadata": {
    "colab": {
     "base_uri": "https://localhost:8080/"
    },
    "executionInfo": {
     "elapsed": 236,
     "status": "ok",
     "timestamp": 1662626707364,
     "user": {
      "displayName": "Lorenzo Pallante",
      "userId": "15223561348967771574"
     },
     "user_tz": -120
    },
    "id": "ATOfs5B6RVON",
    "outputId": "b3686436-aeac-4eb2-e495-0daf2da545ca"
   },
   "outputs": [],
   "source": [
    "!pwd"
   ]
  },
  {
   "cell_type": "markdown",
   "metadata": {
    "id": "rj481Y-pRVOO",
    "slideshow": {
     "slide_type": "subslide"
    }
   },
   "source": [
    "## Basic Linux Commands\n",
    "\n",
    "### pwd (Print Working Directory)\n",
    "Command to get the current location inside the directory tree"
   ]
  },
  {
   "cell_type": "code",
   "execution_count": null,
   "metadata": {
    "id": "dxsnGL5oRVOO",
    "outputId": "0136baf7-e1e5-42f3-afa2-91446a364752"
   },
   "outputs": [],
   "source": [
    "!pwd"
   ]
  },
  {
   "cell_type": "markdown",
   "metadata": {
    "id": "BIGysMqtRVOP",
    "slideshow": {
     "slide_type": "subslide"
    }
   },
   "source": [
    "### echo \n",
    "Command to print text\n",
    "\n",
    "> `echo [message]`\n",
    "\n",
    "***Hint***: If you want to print more than a word you must use \" at the beginning and at the end of your message!\n",
    "\n",
    "*Examples:*\n",
    "- `echo \"ciao\"` print ciao\n",
    "- `echo \"a\"` print a\n",
    "- `echo \"$a\" ` print the content of the variable a\n",
    "- `echo \"$(command)\"` print the output of the command in the parentheses\n",
    "- `echo \"ciao\">file.txt` create a file named file.txt writing ciao in it\n",
    "- `echo \"ciao\">>file.txt` append ciao to the file named file.txt"
   ]
  },
  {
   "cell_type": "code",
   "execution_count": null,
   "metadata": {
    "id": "V3ItAo44RVOP",
    "outputId": "14f5f450-06f7-4f16-b734-9129695c6268"
   },
   "outputs": [],
   "source": [
    "%%bash\n",
    "a=10\n",
    "echo $a"
   ]
  },
  {
   "cell_type": "markdown",
   "metadata": {
    "id": "g1l7YAYDRVOQ",
    "slideshow": {
     "slide_type": "subslide"
    }
   },
   "source": [
    "### cd (Change Directory)\n",
    "\n",
    "- `cd ..`: return to the previous level\n",
    "- `cd ../../`: return back of 2 levels\n",
    "- `cd foldername`: go the the folder named \"foldername\" (***Note: the folder must exist!!***)\n",
    "- `cd absolute_path_folder`\n",
    "\n",
    "<div class=\"alert alert-block alert-warning\"> \n",
    "\n",
    "**WARNING**\n",
    "    \n",
    "Inside *notebooks*, the `cd` command affects only the present cell. This means that in a new cell your location will be again the notebook location.\n",
    "    \n",
    "</div>"
   ]
  },
  {
   "cell_type": "code",
   "execution_count": 2,
   "metadata": {
    "colab": {
     "base_uri": "https://localhost:8080/"
    },
    "executionInfo": {
     "elapsed": 221,
     "status": "ok",
     "timestamp": 1662626735293,
     "user": {
      "displayName": "Lorenzo Pallante",
      "userId": "15223561348967771574"
     },
     "user_tz": -120
    },
    "id": "PrZCnP58RVOQ",
    "outputId": "e24f41f3-01b6-4f56-fa7c-1641737689ab",
    "slideshow": {
     "slide_type": "-"
    }
   },
   "outputs": [
    {
     "name": "stdout",
     "output_type": "stream",
     "text": [
      "/home/lorenzo/Documenti/GitHub/BiomeccanicaMultiscala/LAB/03-Intro_BashLinux\n",
      "/home/lorenzo/Documenti/GitHub/BiomeccanicaMultiscala/LAB/03-Intro_BashLinux/data\n",
      "/home/lorenzo/Documenti/GitHub/BiomeccanicaMultiscala/LAB/03-Intro_BashLinux\n",
      "/usr/local/bin\n"
     ]
    }
   ],
   "source": [
    "%%bash\n",
    "pwd\n",
    "cd data/ #enter in the data folder\n",
    "pwd\n",
    "cd .. # return to the previous level\n",
    "pwd\n",
    "cd /usr/local/bin #go to the absolute location of the \"bin\" folder\n",
    "pwd"
   ]
  },
  {
   "cell_type": "markdown",
   "metadata": {
    "id": "2NlcjHVVRVOR",
    "slideshow": {
     "slide_type": "subslide"
    }
   },
   "source": [
    "### ls (list)\n",
    "Lists all items (files and folders) in the folder you are in.\n",
    "> `ls [options] [target]`\n",
    "\n",
    "- `ls folder`: List items in the specified folder\n",
    "- `ls -l`: Show more information about the files and folders listed\n",
    "- `ls -a`: It also shows the hidden files in the folder\n",
    "\n",
    "See the example below:"
   ]
  },
  {
   "cell_type": "code",
   "execution_count": null,
   "metadata": {
    "id": "9gTDG95qfuyf",
    "outputId": "89698c09-42f6-411d-8e57-f41bde093896"
   },
   "outputs": [],
   "source": [
    "%%bash \n",
    "ls"
   ]
  },
  {
   "cell_type": "markdown",
   "metadata": {
    "id": "QSXWF3paRVOR",
    "slideshow": {
     "slide_type": "subslide"
    }
   },
   "source": [
    "### mkdir (make directory)\n",
    "Command to create directories\n",
    "\n",
    "> `mkdir [target]`\n",
    "\n",
    "- `mkdir pippo`: Create a folder named \"pippo\"\n",
    "- `mkdir -p pippo/pluto`: Recursively create folder tree \"pippo/pluto\"\n"
   ]
  },
  {
   "cell_type": "code",
   "execution_count": null,
   "metadata": {
    "cell_style": "split",
    "colab": {
     "base_uri": "https://localhost:8080/"
    },
    "executionInfo": {
     "elapsed": 246,
     "status": "ok",
     "timestamp": 1662626762265,
     "user": {
      "displayName": "Lorenzo Pallante",
      "userId": "15223561348967771574"
     },
     "user_tz": -120
    },
    "id": "qd7adXHIRVOR",
    "outputId": "ffaf6282-f075-4bd9-b21f-5543783956e8"
   },
   "outputs": [],
   "source": [
    "%%bash\n",
    "ls"
   ]
  },
  {
   "cell_type": "code",
   "execution_count": null,
   "metadata": {
    "cell_style": "split",
    "colab": {
     "base_uri": "https://localhost:8080/"
    },
    "executionInfo": {
     "elapsed": 214,
     "status": "ok",
     "timestamp": 1662626765905,
     "user": {
      "displayName": "Lorenzo Pallante",
      "userId": "15223561348967771574"
     },
     "user_tz": -120
    },
    "id": "y35hqVSRRVOS",
    "outputId": "d8cb5633-e434-4920-ad61-8f0ab21e6d27",
    "scrolled": true
   },
   "outputs": [],
   "source": [
    "%%bash\n",
    "mkdir -p pippo\n",
    "ls"
   ]
  },
  {
   "cell_type": "markdown",
   "metadata": {
    "id": "8IKcMvWrRVOS",
    "slideshow": {
     "slide_type": "subslide"
    }
   },
   "source": [
    "### Exercise 1\n",
    "\n",
    "- Print the current working directory in the directory tree\n",
    "- Create a new directory called \"exe-0\" and enter in it\n",
    "- Check if you made the correct stuff print the new working directory path. "
   ]
  },
  {
   "cell_type": "code",
   "execution_count": null,
   "metadata": {
    "id": "rzQMLsJgRVOS",
    "scrolled": true
   },
   "outputs": [],
   "source": [
    "# try yourself"
   ]
  },
  {
   "cell_type": "markdown",
   "metadata": {
    "heading_collapsed": true,
    "slideshow": {
     "slide_type": "subslide"
    }
   },
   "source": [
    "### Solution 1"
   ]
  },
  {
   "cell_type": "code",
   "execution_count": null,
   "metadata": {
    "hidden": true,
    "id": "h1jO9vd7RVOS"
   },
   "outputs": [],
   "source": [
    "%%bash\n",
    "echo $(pwd)\n",
    "mkdir -p exe-0\n",
    "cd exe-0\n",
    "echo $(pwd)"
   ]
  },
  {
   "cell_type": "markdown",
   "metadata": {
    "id": "5nBjBEZqRVOT",
    "slideshow": {
     "slide_type": "subslide"
    }
   },
   "source": [
    "### touch\n",
    "Command to create files\n",
    "\n",
    "> `touch [target]`\n",
    "\n",
    "- `touch file.txt`: create an empty file named file.txt\n",
    "- `touch exe-0/file.txt`: create an empty file named file.txt in the ese-0 folder"
   ]
  },
  {
   "cell_type": "code",
   "execution_count": null,
   "metadata": {
    "cell_style": "split",
    "id": "ix4KF1m-RVOU"
   },
   "outputs": [],
   "source": [
    "%%bash\n",
    "ls\n",
    "touch file.txt"
   ]
  },
  {
   "cell_type": "code",
   "execution_count": null,
   "metadata": {
    "cell_style": "split",
    "id": "GqlzjH7cRVOU"
   },
   "outputs": [],
   "source": [
    "%%bash \n",
    "ls"
   ]
  },
  {
   "cell_type": "markdown",
   "metadata": {
    "id": "HPn6P-ylRVOU",
    "slideshow": {
     "slide_type": "subslide"
    }
   },
   "source": [
    "### mv (move)\n",
    "Command to rename or move files and folders\n",
    "\n",
    "> `mv [source][destination]`\n",
    "\n",
    "- `mv file.txt file1.txt `: rename file.txt to file1.txt\n",
    "- `mv exe-0 exe-00 `: rename folder exe-0 in exe-00\n",
    "- `mv file1.txt exe-00 `: move file1.txt into folder exe-00\n",
    "\n",
    "<div class=\"alert alert-block alert-warning\"> \n",
    "\n",
    "**WARNING**\n",
    "    \n",
    "If **[destination]** already extist in the target path the command `mv` will **overwrite** the file without asking.\n",
    "\n",
    "</div>"
   ]
  },
  {
   "cell_type": "code",
   "execution_count": null,
   "metadata": {
    "id": "6E8KPP-sRVOU"
   },
   "outputs": [],
   "source": [
    "%%bash \n",
    "mv file.txt file1.txt\n",
    "ls"
   ]
  },
  {
   "cell_type": "markdown",
   "metadata": {
    "id": "_LIads2pRVOV",
    "slideshow": {
     "slide_type": "subslide"
    }
   },
   "source": [
    "### cp (copy)\n",
    "Command to copy files and folders\n",
    "\n",
    "> `cp [source][destination]`\n",
    "\n",
    "- `cp file.txt file1.txt `: copy file.txt to file1.txt\n",
    "- `cp -r exe-0 exe-00 `: copy folder exe-0 in exe-00\n",
    "- `cp file.txt exe-00/ `: copy file file.txt into folder exe-00"
   ]
  },
  {
   "cell_type": "code",
   "execution_count": null,
   "metadata": {
    "id": "ePc2Fy5zRVOV"
   },
   "outputs": [],
   "source": [
    "%%bash\n",
    "cp file1.txt exe-0/\n",
    "ls exe-0/"
   ]
  },
  {
   "cell_type": "markdown",
   "metadata": {
    "id": "2NX_q5HvRVOV",
    "slideshow": {
     "slide_type": "subslide"
    }
   },
   "source": [
    "### rm (remove)\n",
    "Command to remove files and folders\n",
    "\n",
    "> `rm [target]`\n",
    "\n",
    "- `rm file.txt`: remove file named file.txt\n",
    "- `rm -r foldername`: remove folder named foldername"
   ]
  },
  {
   "cell_type": "code",
   "execution_count": null,
   "metadata": {
    "id": "kuOvD8Z0RVOV"
   },
   "outputs": [],
   "source": [
    "%%bash\n",
    "rm -r pippo\n",
    "rm file1.txt\n",
    "ls"
   ]
  },
  {
   "cell_type": "markdown",
   "metadata": {
    "id": "b5rIhIcyRVOW",
    "slideshow": {
     "slide_type": "subslide"
    }
   },
   "source": [
    "### cat \n",
    "Print the content of a file\n",
    "\n",
    "> `cat [target]`\n",
    "\n",
    "- `cat file.txt`: print the content of file.txt"
   ]
  },
  {
   "cell_type": "code",
   "execution_count": null,
   "metadata": {
    "id": "9v3JbK_oRVOW"
   },
   "outputs": [],
   "source": [
    "%%bash\n",
    "echo -e \"1\\n2\\n3\\n4\" >file.txt # create a file with a number in each row\n",
    "cat file.txt # print the content of the file"
   ]
  },
  {
   "cell_type": "markdown",
   "metadata": {
    "cell_style": "split",
    "id": "KZks3UTkRVOW",
    "slideshow": {
     "slide_type": "subslide"
    }
   },
   "source": [
    "### head \n",
    "Print the beginning of a file\n",
    "\n",
    "> `head [target]`\n",
    "\n",
    "- `head file.txt`: print the beginning of file.txt\n",
    "- `head -n 20 file.txt`: print the first 20 lines of file.txt"
   ]
  },
  {
   "cell_type": "markdown",
   "metadata": {
    "cell_style": "split",
    "id": "OvlqBTgoRVOW"
   },
   "source": [
    "### tail\n",
    "Print the end of a file\n",
    "\n",
    "> `tail [target]`\n",
    "\n",
    "- `tail file.txt`: print the end of file.txt\n",
    "- `tail -n 20 file.txt`: print the last 20 lines of file.txt"
   ]
  },
  {
   "cell_type": "code",
   "execution_count": null,
   "metadata": {
    "cell_style": "split",
    "id": "HS9qcscCRVOW"
   },
   "outputs": [],
   "source": [
    "%%bash\n",
    "head -n 3 file.txt # print first 3 lines of file temp"
   ]
  },
  {
   "cell_type": "code",
   "execution_count": null,
   "metadata": {
    "cell_style": "split",
    "id": "KagkJuHURVOX"
   },
   "outputs": [],
   "source": [
    "%%bash\n",
    "tail -n 2 file.txt # print last 2 lines of file temp\n"
   ]
  },
  {
   "cell_type": "markdown",
   "metadata": {
    "cell_style": "center",
    "id": "DUgUVhmMRVOX",
    "slideshow": {
     "slide_type": "subslide"
    }
   },
   "source": [
    "### grep\n",
    "Command to isolate rows containing a specific pattern (word, number, character, etc...)\n",
    "\n",
    "> `grep \"PATTERN\" [target]`\n",
    "\n",
    "- `grep 3 file.txt`: isolate lines of file.txt with the number 3 \n",
    "- `grep \"ciao mondo\" file.txt`: isolate lines of file.txt with the number pattern \"ciao mondo\""
   ]
  },
  {
   "cell_type": "code",
   "execution_count": null,
   "metadata": {
    "id": "HsRh0vIhRVOX"
   },
   "outputs": [],
   "source": [
    "%%bash\n",
    "grep 3 file.txt # print first row(s) with 3  "
   ]
  },
  {
   "cell_type": "markdown",
   "metadata": {
    "id": "3C4RshgvRVOX",
    "slideshow": {
     "slide_type": "subslide"
    }
   },
   "source": [
    "### uniq\n",
    "Finds repeated lines and keeps only one copy\n",
    "\n",
    "> `uniq [target]`\n",
    "\n",
    "- `uniq file.txt` keeps only uniq rows in file.txt"
   ]
  },
  {
   "cell_type": "code",
   "execution_count": null,
   "metadata": {
    "id": "5k9XxImvRVOX"
   },
   "outputs": [],
   "source": [
    "%%bash\n",
    "echo -e \"1\\n2\\n2\\n2\\n2\\n2\" >temp.txt # create file with duplicated rowsù\n",
    "cat temp.txt\n",
    "echo -e \"\\nUnique rows:\\n\"\n",
    "uniq temp.txt "
   ]
  },
  {
   "cell_type": "markdown",
   "metadata": {
    "id": "8GieVeCwRVOY",
    "slideshow": {
     "slide_type": "subslide"
    }
   },
   "source": [
    "### sort\n",
    "Sorts the rows of a file in numerical and then alphabetical order. Numeric has priority over alphabetical\n",
    "\n",
    "> `sort [target]`\n",
    "\n",
    "- `sort file.txt` sort rows in file.txt"
   ]
  },
  {
   "cell_type": "code",
   "execution_count": null,
   "metadata": {
    "id": "Rk1gwWjuRVOY"
   },
   "outputs": [],
   "source": [
    "%%bash\n",
    "echo -e \"4\\n3\\n2\\n1\" >temp.txt # create file with descending order in line number\n",
    "cat temp.txt\n",
    "echo -e \"\\nSorted rows:\\n\"\n",
    "sort temp.txt"
   ]
  },
  {
   "cell_type": "markdown",
   "metadata": {
    "id": "0xmjUomKRVOY",
    "slideshow": {
     "slide_type": "subslide"
    }
   },
   "source": [
    "### cut\n",
    "Print specific parts of each line of a file (columns or characters).\n",
    "\n",
    "> `cut [OPTIONS] [target]`\n",
    "\n",
    "- `cut -c 1-5 file.txt` print characters in positions 1 to 5"
   ]
  },
  {
   "cell_type": "code",
   "execution_count": null,
   "metadata": {
    "id": "IKw_4wbQRVOY"
   },
   "outputs": [],
   "source": [
    "%%bash\n",
    "echo -e \"ciao mondo\\ncome va?\\n123456789\" >temp.txt # create file with descending order in line number\n",
    "cat temp.txt \n",
    "echo -e \"\\nCutted rows:\\n\"\n",
    "cut -c 1-6 temp.txt"
   ]
  },
  {
   "cell_type": "markdown",
   "metadata": {
    "id": "WHvur6ZYRVOY",
    "slideshow": {
     "slide_type": "subslide"
    }
   },
   "source": [
    "### wc\n",
    "Count the words, rows, or elements indicated by the options.\n",
    "\n",
    "> `wc [OPTIONS] [target]`\n",
    "\n",
    "- `wc -l file.txt` count number of lines in the file file.txt\n",
    "- `wc -w file.txt` count number of words in the file file.txt\n",
    "- `wc -m file.txt` count number of characters in the file file.txt\n",
    "- `wc -c file.txt` count number of bytes in the file file.txt"
   ]
  },
  {
   "cell_type": "code",
   "execution_count": null,
   "metadata": {
    "id": "W4gHeZ8fRVOZ"
   },
   "outputs": [],
   "source": [
    "%%bash\n",
    "echo -e \"ciao mondo\\ncome va?\\n123456789\" >temp.txt # create file with descending order in line number\n",
    "wc -l temp.txt #lines\n",
    "wc -w temp.txt #words\n",
    "wc -m temp.txt #characters\n",
    "wc -c temp.txt #bytes"
   ]
  },
  {
   "cell_type": "markdown",
   "metadata": {
    "id": "yij2hlZARVOZ",
    "slideshow": {
     "slide_type": "subslide"
    }
   },
   "source": [
    "### Exercise 2\n",
    "\n",
    "Create a folder called “exe-01” and move into it. Print the folder path and save it in a variable called pathx. Print the variable on your screen.\n",
    "\n",
    "**Hints**: mkdir, cd, pwd, echo"
   ]
  },
  {
   "cell_type": "code",
   "execution_count": null,
   "metadata": {
    "id": "roO5iul1RVOZ",
    "scrolled": true
   },
   "outputs": [],
   "source": [
    "# try yourself\n"
   ]
  },
  {
   "cell_type": "markdown",
   "metadata": {
    "heading_collapsed": true,
    "slideshow": {
     "slide_type": "subslide"
    }
   },
   "source": [
    "### Solution 2"
   ]
  },
  {
   "cell_type": "code",
   "execution_count": null,
   "metadata": {
    "code_folding": [],
    "hidden": true,
    "id": "ud4WAGJTRVOZ",
    "outputId": "f0da06fc-02c0-48a0-fa62-c63dc7dd9889"
   },
   "outputs": [],
   "source": [
    "%%bash\n",
    "mkdir exe-01\n",
    "cd exe-01\n",
    "pathx=$(pwd)\n",
    "echo $pathx"
   ]
  },
  {
   "cell_type": "markdown",
   "metadata": {
    "id": "VOhRcJFMRVOZ",
    "slideshow": {
     "slide_type": "subslide"
    }
   },
   "source": [
    "### Exercise 3\n",
    "\n",
    "Create a file called file01.txt inside the exe-01 folder previously created; write the pathx variable containing th current path into it; finally, print the file to the terminal\n",
    "\n",
    "**Hints**: touch, pwd, cat"
   ]
  },
  {
   "cell_type": "code",
   "execution_count": null,
   "metadata": {
    "id": "lhUZyYNDRVOa",
    "scrolled": true
   },
   "outputs": [],
   "source": [
    "# try yourself\n"
   ]
  },
  {
   "cell_type": "markdown",
   "metadata": {
    "heading_collapsed": true,
    "slideshow": {
     "slide_type": "subslide"
    }
   },
   "source": [
    "### Solution 3"
   ]
  },
  {
   "cell_type": "code",
   "execution_count": null,
   "metadata": {
    "code_folding": [],
    "hidden": true,
    "id": "VWxbZn4XRVOa",
    "outputId": "d2c38c86-80cd-45b9-87e6-103d2b003918"
   },
   "outputs": [],
   "source": [
    "%%bash\n",
    "cd  exe-01/\n",
    "touch file01.txt\n",
    "pathx=$(pwd)\n",
    "echo $pathx >file01.txt\n",
    "cat file01.txt"
   ]
  },
  {
   "cell_type": "markdown",
   "metadata": {
    "id": "NQJpYzvmRVOa",
    "slideshow": {
     "slide_type": "subslide"
    }
   },
   "source": [
    "### awk\n",
    "awk is a command that integrates a complex and complete programming language.. we will see just a few functionalities\n",
    "\n",
    "AWK can be defined as a generic filter for text files.\n",
    "It processes one line at a time of the text file, performing different actions depending on whether the line meets certain conditions or contains certain patterns. It then reads line by line and applies the rules defined by the programmer to each.\n",
    "* Everything that is to be read in the specific language of AWK must be inserted between ' '\n",
    "\n",
    "* Actions in awk are enclosed in curly brackets { }\n",
    "* Multiple instructions are executed in the order they appear and must be separated by ;\n",
    "\n",
    "* The pattern consists of the expression enclosed between / /\n",
    "\n",
    "\n",
    "> `awk '{awk code}' [target]`"
   ]
  },
  {
   "cell_type": "markdown",
   "metadata": {
    "id": "uqH5cXOJRVOa",
    "slideshow": {
     "slide_type": "subslide"
    }
   },
   "source": [
    "**Examples using awk:** "
   ]
  },
  {
   "cell_type": "code",
   "execution_count": null,
   "metadata": {
    "id": "Mn4YswDpRVOb"
   },
   "outputs": [],
   "source": [
    "# loading example file text\n",
    "!cp data/elenco.txt .\n",
    "!cp data/numbers.txt . \n",
    "\n",
    "# have a look to the files\n",
    "!cat elenco.txt\n",
    "!echo -e \"\\n\"\n",
    "!cat numbers.txt"
   ]
  },
  {
   "cell_type": "markdown",
   "metadata": {
    "slideshow": {
     "slide_type": "subslide"
    }
   },
   "source": [
    "Print only a specific column.."
   ]
  },
  {
   "cell_type": "code",
   "execution_count": null,
   "metadata": {
    "cell_style": "split",
    "id": "rfrooeCrRVOb",
    "outputId": "25ff22a3-e4bc-4cb3-ecaf-6af3d7552c05",
    "scrolled": false,
    "slideshow": {
     "slide_type": "-"
    }
   },
   "outputs": [],
   "source": [
    "!cat elenco.txt"
   ]
  },
  {
   "cell_type": "code",
   "execution_count": null,
   "metadata": {
    "cell_style": "split",
    "id": "IyoCBiHURVOb",
    "outputId": "d9a86d7b-2d4d-40e7-ecbb-2a4445f8821a"
   },
   "outputs": [],
   "source": [
    "%%bash\n",
    "echo -e \"\\nSecond Column:\\n\"\n",
    "cat elenco.txt | awk '{print $2}' #print the 2nd column"
   ]
  },
  {
   "cell_type": "markdown",
   "metadata": {
    "slideshow": {
     "slide_type": "subslide"
    }
   },
   "source": [
    "Print number of fields per row.."
   ]
  },
  {
   "cell_type": "code",
   "execution_count": null,
   "metadata": {
    "cell_style": "split",
    "id": "u0Imf_EWRVOb",
    "outputId": "969a5da4-bc09-4146-a6a3-d518a0af40ce",
    "slideshow": {
     "slide_type": "-"
    }
   },
   "outputs": [],
   "source": [
    "!cat elenco.txt"
   ]
  },
  {
   "cell_type": "code",
   "execution_count": null,
   "metadata": {
    "cell_style": "split",
    "id": "ksQ-tbJ6RVOb",
    "outputId": "c7a3d13b-ef3c-4f1a-ba84-8c4412f3fce1"
   },
   "outputs": [],
   "source": [
    "%%bash\n",
    "echo -e \"\\nNumber of fields per row:\"\n",
    "cat elenco.txt | awk '{print NF}' #print the number of  filed"
   ]
  },
  {
   "cell_type": "markdown",
   "metadata": {
    "slideshow": {
     "slide_type": "subslide"
    }
   },
   "source": [
    "Print number of rows.."
   ]
  },
  {
   "cell_type": "code",
   "execution_count": null,
   "metadata": {
    "cell_style": "split",
    "id": "7GWsNmUmRVOc",
    "outputId": "c02aeb7d-fbc0-40c2-d6ad-b66b14f6c018",
    "slideshow": {
     "slide_type": "-"
    }
   },
   "outputs": [],
   "source": [
    "!cat elenco.txt"
   ]
  },
  {
   "cell_type": "code",
   "execution_count": null,
   "metadata": {
    "cell_style": "split",
    "id": "7AcyX6hrRVOc",
    "outputId": "c7465ad2-5115-4d58-985d-6d8120847bac"
   },
   "outputs": [],
   "source": [
    "%%bash\n",
    "echo -e \"\\nNumber of rows\"\n",
    "cat elenco.txt | awk '{print NR}' #print the number of  processed row"
   ]
  },
  {
   "cell_type": "markdown",
   "metadata": {
    "slideshow": {
     "slide_type": "subslide"
    }
   },
   "source": [
    "Change columns..."
   ]
  },
  {
   "cell_type": "code",
   "execution_count": null,
   "metadata": {
    "cell_style": "split",
    "id": "1tRryNLvRVOc",
    "outputId": "6c85ae3f-cd77-499c-8b6d-11dbb7fb58eb",
    "slideshow": {
     "slide_type": "-"
    }
   },
   "outputs": [],
   "source": [
    "!cat elenco.txt"
   ]
  },
  {
   "cell_type": "code",
   "execution_count": null,
   "metadata": {
    "cell_style": "split",
    "id": "z2jeIqrpRVOc",
    "outputId": "d8b4b785-a3c5-42ae-b524-9e28184d8a14"
   },
   "outputs": [],
   "source": [
    "%%bash\n",
    "echo -e \"\\nThird column = 2: \"\n",
    "awk '{$3=2}{print}' elenco.txt"
   ]
  },
  {
   "cell_type": "markdown",
   "metadata": {
    "slideshow": {
     "slide_type": "subslide"
    }
   },
   "source": [
    "Do some math..."
   ]
  },
  {
   "cell_type": "code",
   "execution_count": null,
   "metadata": {
    "cell_style": "split",
    "id": "eiFVSdfbRVOc",
    "outputId": "7031ce5a-9b86-4058-d92d-44e969694b43",
    "slideshow": {
     "slide_type": "-"
    }
   },
   "outputs": [],
   "source": [
    "!cat numbers.txt"
   ]
  },
  {
   "cell_type": "code",
   "execution_count": null,
   "metadata": {
    "cell_style": "split",
    "code_folding": [],
    "id": "6YTA9KbTRVOd",
    "outputId": "09b4f585-59dd-4591-b3b4-a51dd93fbe81"
   },
   "outputs": [],
   "source": [
    "%%bash\n",
    "echo -e \"\\nFind maximum of 4th column:\"\n",
    "awk -v max=0 '{ if ($4>max) {max=$4} } END { print max }' numbers.txt"
   ]
  },
  {
   "cell_type": "markdown",
   "metadata": {
    "slideshow": {
     "slide_type": "subslide"
    }
   },
   "source": [
    "Do some math..."
   ]
  },
  {
   "cell_type": "code",
   "execution_count": null,
   "metadata": {
    "cell_style": "split",
    "id": "pRbx2rKyRVOd",
    "outputId": "b6cbb04e-4fd2-4031-c96d-88262857ba67",
    "slideshow": {
     "slide_type": "-"
    }
   },
   "outputs": [],
   "source": [
    "!cat numbers.txt"
   ]
  },
  {
   "cell_type": "code",
   "execution_count": null,
   "metadata": {
    "cell_style": "split",
    "id": "11h0_uuTRVOd",
    "outputId": "bc1ca973-7da2-4f27-cdeb-aa0502858eb6"
   },
   "outputs": [],
   "source": [
    "%%bash\n",
    "echo -e \"\\nsum values of the third column:\"\n",
    "awk '{ sum += $3 } END { printf \"%d\\n\", sum}' numbers.txt"
   ]
  },
  {
   "cell_type": "markdown",
   "metadata": {
    "id": "kyY7Ai8dRVOd",
    "slideshow": {
     "slide_type": "slide"
    }
   },
   "source": [
    "# The PDB files"
   ]
  },
  {
   "cell_type": "markdown",
   "metadata": {
    "id": "bR9_4KhcRVOd",
    "slideshow": {
     "slide_type": "subslide"
    }
   },
   "source": [
    "## What is a pdb file\n",
    "\n",
    "The **Protein Data Bank (pdb)** file format is a textual file format describing the *three-dimensional structures* of molecules held in the [Protein Data Bank](https://www.rcsb.org/)"
   ]
  },
  {
   "cell_type": "markdown",
   "metadata": {
    "id": "NH4sZCVpRVOd"
   },
   "source": [
    "![title](imgs/pdb.png)"
   ]
  },
  {
   "cell_type": "markdown",
   "metadata": {
    "id": "H_fSOd6ORVOd"
   },
   "source": [
    "<div class=\"alert alert-block alert-success\"> \n",
    "    \n",
    "To have further information please visit: https://cupnet.net/pdb-format/\n",
    "\n",
    "</div>\n",
    "\n"
   ]
  },
  {
   "cell_type": "markdown",
   "metadata": {
    "id": "sWpD2S9eRVOe",
    "slideshow": {
     "slide_type": "subslide"
    }
   },
   "source": [
    "![pdb2vmd](imgs/pdb2vmd.png)"
   ]
  },
  {
   "cell_type": "markdown",
   "metadata": {
    "id": "zQE0BZVXRVOe",
    "slideshow": {
     "slide_type": "slide"
    }
   },
   "source": [
    "# Exercises"
   ]
  },
  {
   "cell_type": "markdown",
   "metadata": {
    "id": "ea_zJS97RVOe",
    "slideshow": {
     "slide_type": "subslide"
    }
   },
   "source": [
    "## Exercise 4\n",
    "\n",
    "Copy the 1yzb.pdb file from the \"data/\" folder into a new folder named exe-03. Print the first 50 lines into a file named first50.pdb. Check that this succeeded by counting the lines of first50.pdb.\n",
    "\n",
    "**Hints**: cp, cat, head, wc!"
   ]
  },
  {
   "cell_type": "code",
   "execution_count": null,
   "metadata": {
    "id": "mX58w_PFRVOe"
   },
   "outputs": [],
   "source": [
    "# try yourself"
   ]
  },
  {
   "cell_type": "markdown",
   "metadata": {
    "heading_collapsed": true,
    "slideshow": {
     "slide_type": "subslide"
    }
   },
   "source": [
    "## Solution 4"
   ]
  },
  {
   "cell_type": "code",
   "execution_count": null,
   "metadata": {
    "hidden": true,
    "id": "0I0P0felRVOe",
    "outputId": "08947539-04b8-44fb-be77-370514a66868",
    "scrolled": true
   },
   "outputs": [],
   "source": [
    "%%bash\n",
    "# solution\n",
    "mkdir -p exe-03\n",
    "cd exe-03\n",
    "cp ../data/1yzb.pdb .\n",
    "head -n 50 1yzb.pdb >first50.pdb\n",
    "cat first50.pdb | wc -l"
   ]
  },
  {
   "cell_type": "markdown",
   "metadata": {
    "id": "sY2AmADJRVOe",
    "slideshow": {
     "slide_type": "subslide"
    }
   },
   "source": [
    "## Exercise 5 (intermediate) \n",
    "\n",
    "- Enter in the exe-03 folder you previously created\n",
    "- Extract only the ATOM lines from 1yzb.pdb and save them to a file named atoms.pdb;\n",
    "- Extract only the first 10 ATOM lines of 1yzb.pdb, and only the last 10 ATOMS of 1yzb.pdb: save these into first10.pdb and last10.pdb files respectively;\n",
    "- Extract only ATOM lines from 10 to 20 from 1yzb.pdb file and put into a file named 10_20.pdb\n",
    "\n",
    "**Hints**: grep, head, tail!"
   ]
  },
  {
   "cell_type": "code",
   "execution_count": null,
   "metadata": {
    "id": "RRhUcFfvRVOf",
    "scrolled": true
   },
   "outputs": [],
   "source": [
    "# try yourself\n"
   ]
  },
  {
   "cell_type": "markdown",
   "metadata": {
    "heading_collapsed": true,
    "slideshow": {
     "slide_type": "subslide"
    }
   },
   "source": [
    "## Solution 5"
   ]
  },
  {
   "cell_type": "code",
   "execution_count": null,
   "metadata": {
    "code_folding": [],
    "hidden": true,
    "id": "iM8C_rJWRVOf"
   },
   "outputs": [],
   "source": [
    "%%bash\n",
    "#solution\n",
    "cd exe-03/\n",
    "cat 1yzb.pdb | grep ATOM >atoms.pdb\n",
    "head -n 10 atoms.pdb >first10.pdb\n",
    "tail -n 10 atoms.pdb >last10.pdb\n",
    "head -n 20 atoms.pdb | tail -n 10 >10_20.pdb"
   ]
  },
  {
   "cell_type": "markdown",
   "metadata": {
    "id": "wWz_dSZsRVOf",
    "slideshow": {
     "slide_type": "subslide"
    }
   },
   "source": [
    "## Exercise 6 (intermediate)\n",
    "\n",
    "- Enter in the exe-03 folder you previously created\n",
    "- Create a new file named extracted.pdb consisting of ATOMs 1-10, 100-110 and the last 10 ATOMS from 1yzb.pdb \n",
    "- Extract only ATOMS with x lower than 1.5, and save them into x_below.pdb\n",
    "- Extract only x y z coordinates and atom numbers from ATOMS in the 1yzb.pdb file; save this data to simple.pdb\n",
    "\n",
    "**Hints**: cat, grep, head, tail, cut, awk!"
   ]
  },
  {
   "cell_type": "code",
   "execution_count": null,
   "metadata": {
    "id": "UEXRsD04RVOf",
    "scrolled": true
   },
   "outputs": [],
   "source": [
    "# try yourself\n"
   ]
  },
  {
   "cell_type": "markdown",
   "metadata": {
    "heading_collapsed": true,
    "slideshow": {
     "slide_type": "subslide"
    }
   },
   "source": [
    "## Solution 6"
   ]
  },
  {
   "cell_type": "code",
   "execution_count": null,
   "metadata": {
    "code_folding": [],
    "hidden": true,
    "id": "t3tf2RE6RVOf"
   },
   "outputs": [],
   "source": [
    "%%bash\n",
    "#solution\n",
    "cd exe-03/\n",
    "cat 1yzb.pdb | grep ATOM >atoms.pdb\n",
    "head -n 10 atoms.pdb >extracted.pdb\n",
    "tail -n +100 atoms.pdb | head -n 11 >>extracted.pdb\n",
    "tail -n 10 atoms.pdb >>extracted.pdb\n",
    "# column 7 contains the x coordinates of the molecular structure\n",
    "awk '$7<1.5 {print $0}' atoms.pdb >x_below.pdb\n",
    "# column 2 contains the atom number\n",
    "# column 7,8,9 contains the x,y,z coordinates respectively\n",
    "awk '{print $2, $7, $8, $9}' atoms.pdb >simple.pdb"
   ]
  },
  {
   "cell_type": "markdown",
   "metadata": {
    "id": "w8_iysU1RVOf",
    "slideshow": {
     "slide_type": "subslide"
    }
   },
   "source": [
    "## Exercise 7 (advanced)\n",
    "\n",
    "- Enter in the exe-03 folder you previously created\n",
    "- Count how many ALA residues are contained in 1yzb.pdb. Save into a variable and print the variable\n",
    "- Count how many trajectory steps are in 1yzb file (every step is separated by the word MODEL). Save it into a variable and print the variable\n",
    "- Write a file sequence.txt with a number sequence from 1 to 1000\n",
    "\n",
    "**Hints**: cat, grep, wc, uniq, sort, seq"
   ]
  },
  {
   "cell_type": "code",
   "execution_count": null,
   "metadata": {
    "id": "UwBEadoIRVOf",
    "scrolled": true
   },
   "outputs": [],
   "source": [
    "# try yourself\n"
   ]
  },
  {
   "cell_type": "markdown",
   "metadata": {
    "heading_collapsed": true,
    "slideshow": {
     "slide_type": "subslide"
    }
   },
   "source": [
    "## Solution 7"
   ]
  },
  {
   "cell_type": "code",
   "execution_count": null,
   "metadata": {
    "code_folding": [],
    "hidden": true,
    "id": "7lFMhJe-RVOg",
    "outputId": "b628b131-e0b5-46d5-a8c1-4fd632b55571"
   },
   "outputs": [],
   "source": [
    "%%bash\n",
    "#solution\n",
    "cd exe-03/\n",
    "num_ala=$(grep ALA atoms.pdb | grep CA | wc -l)\n",
    "echo \"The pdb collects $num_ala ALA residues\"\n",
    "nframes=$(grep -v REMARK 1yzb.pdb | grep MODEL | wc -l)\n",
    "echo \"The pdb has $nframes frames\"\n",
    "seq 1 1000 >sequence.txt"
   ]
  }
 ],
 "metadata": {
  "celltoolbar": "Slideshow",
  "colab": {
   "provenance": []
  },
  "kernelspec": {
   "display_name": "Python 3 (ipykernel)",
   "language": "python",
   "name": "python3"
  },
  "language_info": {
   "codemirror_mode": {
    "name": "ipython",
    "version": 3
   },
   "file_extension": ".py",
   "mimetype": "text/x-python",
   "name": "python",
   "nbconvert_exporter": "python",
   "pygments_lexer": "ipython3",
   "version": "3.9.13"
  },
  "toc": {
   "base_numbering": 1,
   "nav_menu": {},
   "number_sections": true,
   "sideBar": true,
   "skip_h1_title": false,
   "title_cell": "Table of Contents",
   "title_sidebar": "Contents",
   "toc_cell": false,
   "toc_position": {
    "height": "calc(100% - 180px)",
    "left": "10px",
    "top": "150px",
    "width": "384px"
   },
   "toc_section_display": true,
   "toc_window_display": false
  }
 },
 "nbformat": 4,
 "nbformat_minor": 1
}
