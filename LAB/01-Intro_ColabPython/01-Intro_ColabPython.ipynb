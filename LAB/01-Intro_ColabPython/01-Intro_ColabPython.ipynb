{
 "cells": [
  {
   "cell_type": "markdown",
   "metadata": {
    "slideshow": {
     "slide_type": "slide"
    }
   },
   "source": [
    "<a href=\"https://colab.research.google.com/github/lorenzopallante/BiomeccanicaMultiscala/blob/main/LAB/01-Intro_PythonColab/01-Intro_ColabPython.ipynb\" target=\"_parent\"><img src=\"https://colab.research.google.com/assets/colab-badge.svg\" alt=\"Open In Colab\"/></a>"
   ]
  },
  {
   "cell_type": "markdown",
   "metadata": {
    "id": "xQO8E95hdgT8",
    "slideshow": {
     "slide_type": "-"
    }
   },
   "source": [
    "# Laboratorio 1\n",
    "**Introduction to Notebook (Jupyter or Conda) and Python**\n",
    "\n",
    "\n",
    "Authors:\n",
    "    \n",
    "- Prof. Marco A. Deriu (marco.deriu@polito.it)\n",
    "- Lorenzo Pallante (lorenzo.pallante@polito.it)\n",
    "- Eric A. Zizzi (eric.zizzi@polito.it)\n",
    "- Marcello Miceli (marcello.miceli@polito.it)\n",
    "- Marco Cannariato (marco.cannariato@polito.it)"
   ]
  },
  {
   "cell_type": "markdown",
   "metadata": {
    "id": "qy1kcGb4fuyY",
    "slideshow": {
     "slide_type": "slide"
    }
   },
   "source": [
    "# Table of Contents\n",
    "\n",
    "3. Notebook cells \n",
    "4. Introduction to Python \n",
    "5. Scripting in Python\n",
    "6. Python modules\n",
    "\n",
    "**Learning outcomes:** \n",
    "- learn the basics of colab and jupyter notebooks\n",
    "- understand the python syntax and some basic commands\n",
    "- learn how to import python basic modules (numpy and matplotlib)"
   ]
  },
  {
   "cell_type": "markdown",
   "metadata": {
    "id": "xrj78inLRVNz",
    "slideshow": {
     "slide_type": "slide"
    }
   },
   "source": [
    "# Cells\n",
    "A notebook is a list of cells. \n",
    "Cells contain either explanatory text or executable code and its output. \n",
    "Click a cell to select it."
   ]
  },
  {
   "cell_type": "markdown",
   "metadata": {
    "id": "HK2VlBuiRVN1",
    "slideshow": {
     "slide_type": "subslide"
    }
   },
   "source": [
    "## Code cells\n",
    "Below is a **code cell**. Click in the cell to select it and execute the contents in the following ways:\n",
    "\n",
    "* Click the **Play icon** in the left gutter of the cell;\n",
    "* Type **Cmd/Ctrl+Enter** to run the cell in place;\n",
    "* Type **Shift+Enter** to run the cell and move focus to the next cell(adding one if none exists); or\n",
    "* Type **Alt+Enter** to run the cell and insert a new code cell immediately below it.\n",
    "\n",
    "There are additional options for running some or all cells in the **Runtime** menu."
   ]
  },
  {
   "cell_type": "code",
   "execution_count": null,
   "metadata": {
    "cell_style": "center",
    "id": "jJmS-BrKRVN4",
    "outputId": "7ebd3f23-8b5f-447c-cf14-3c334a419f70",
    "scrolled": true,
    "slideshow": {
     "slide_type": "-"
    }
   },
   "outputs": [],
   "source": [
    "a = 10 # defining variable a\n",
    "a"
   ]
  },
  {
   "cell_type": "markdown",
   "metadata": {
    "cell_style": "split",
    "id": "Oq7RhG6qRVN-",
    "slideshow": {
     "slide_type": "subslide"
    }
   },
   "source": [
    "By default, code cells are written in **python**, but you can change the interpreter of the cell. \n",
    "\n",
    "For example, if you want to write a cell in **bash** language, you can:\n",
    "- `%%bash`at the beginning of your cell \n",
    "- write each command preceded by `!`"
   ]
  },
  {
   "cell_type": "code",
   "execution_count": null,
   "metadata": {
    "cell_style": "split",
    "id": "zSL2JfdfRVOA",
    "outputId": "5aff6c51-35f8-4fef-c321-9f7b204ee936",
    "scrolled": true
   },
   "outputs": [],
   "source": [
    "%%bash\n",
    "echo \"Ciao Mondo!\""
   ]
  },
  {
   "cell_type": "code",
   "execution_count": null,
   "metadata": {
    "cell_style": "split",
    "id": "_5zQOjKYRVOC",
    "outputId": "3c891666-78e9-4bfc-d2b8-980666bb853a"
   },
   "outputs": [],
   "source": [
    "!echo \"Ciao Mondo!\""
   ]
  },
  {
   "cell_type": "markdown",
   "metadata": {
    "id": "Vjc0bdikRVOE",
    "slideshow": {
     "slide_type": "subslide"
    }
   },
   "source": [
    "## Text cells\n",
    "This is a **text cell**. You can **double-click** to edit this cell. Text cells\n",
    "use markdown syntax. To learn more: https://www.markdownguide.org/basic-syntax/.\n",
    "\n",
    "You can also add math to text cells using [LaTeX](http://www.latex-project.org/)\n",
    "to be rendered by [MathJax](https://www.mathjax.org). Just place the statement\n",
    "within a pair of **\\$** signs. \n",
    "\n",
    "For example `$\\sqrt{3x-1}+(1+x)^2$` becomes\n",
    "$\\sqrt{3x-1}+(1+x)^2.$\n",
    "\n"
   ]
  },
  {
   "cell_type": "markdown",
   "metadata": {
    "id": "NxItBGpNRVOG",
    "slideshow": {
     "slide_type": "subslide"
    }
   },
   "source": [
    "## Adding and moving cells\n",
    "You can add new cells by using the **+ CODE** and **+ TEXT** buttons that show when you hover between cells. These buttons are also in the toolbar above the notebook where they can be used to add a cell below the currently selected cell.\n",
    "\n",
    "You can also create a new cell using the shortcuts **\"A\"** or **\"B\"** to create it above and under the current cell, respectively.\n",
    "\n",
    "You can move a cell by selecting it and clicking **Cell Up** or **Cell Down** in the top toolbar. \n",
    "\n",
    "Consecutive cells can be selected by \"lasso selection\" by dragging from outside one cell and through the group.  Non-adjacent cells can be selected concurrently by clicking one and then holding down Ctrl while clicking another.  Similarly, using Shift instead of Ctrl will select all intermediate cells."
   ]
  },
  {
   "cell_type": "markdown",
   "metadata": {
    "id": "kiN3h96FRVOI",
    "slideshow": {
     "slide_type": "subslide"
    }
   },
   "source": [
    "## Using Notebook to plot data\n",
    "\n",
    "Notebooks are powerful tools to rapidly visualise and process data."
   ]
  },
  {
   "cell_type": "code",
   "execution_count": null,
   "metadata": {
    "cell_style": "center",
    "colab": {
     "base_uri": "https://localhost:8080/",
     "height": 281
    },
    "executionInfo": {
     "elapsed": 7,
     "status": "ok",
     "timestamp": 1662626674896,
     "user": {
      "displayName": "Lorenzo Pallante",
      "userId": "15223561348967771574"
     },
     "user_tz": -120
    },
    "id": "5DFh6-TPRVOJ",
    "outputId": "9884ecf8-af4c-425b-fb78-81c699b4aa98"
   },
   "outputs": [],
   "source": [
    "import numpy as np\n",
    "from matplotlib import pyplot as plt\n",
    "\n",
    "ys = 200 + np.random.randn(100) \n",
    "x = [x for x in range(len(ys))]\n",
    "\n",
    "plt.plot(x, ys, '-')\n",
    "plt.fill_between(x, ys, 195, where=(ys > 195), facecolor='g', alpha=0.6)\n",
    "plt.title(\"Fills and Alpha Example\")\n",
    "plt.show()"
   ]
  },
  {
   "cell_type": "markdown",
   "metadata": {
    "slideshow": {
     "slide_type": "subslide"
    }
   },
   "source": [
    "## Google Colab installs\n",
    "If you are running this notebook on Google Colab, you first need to copy the needed files and folder in the Colab environment."
   ]
  },
  {
   "cell_type": "code",
   "execution_count": null,
   "metadata": {},
   "outputs": [],
   "source": [
    "# copy over data repository\n",
    "!if [ -n \"$COLAB_GPU\" ]; then git clone https://github.com/lorenzopallante/BiomeccanicaMultiscala.git; fi"
   ]
  },
  {
   "cell_type": "markdown",
   "metadata": {
    "slideshow": {
     "slide_type": "slide"
    }
   },
   "source": [
    "# Introduction to Python \n",
    "\n",
    "**Python** is a \"high-level,\" object-oriented programming language suitable for, among other uses, developing distributed applications, scripting, numerical computation, and system testing.\n",
    "\n",
    "[Python YouTube Tutorial (ITA)](https://www.youtube.com/playlist?list=PLHUQL6-_n9Zes1VLMgJbLa8IIOHT9x4Nu)"
   ]
  },
  {
   "cell_type": "markdown",
   "metadata": {
    "slideshow": {
     "slide_type": "subslide"
    }
   },
   "source": [
    "## Basic Algebra\n",
    "\n",
    "To perform basic mathematical calculations in python, classical operators are used.\n",
    "\n",
    "Below you can run some extremely basic code boxes to test different operations."
   ]
  },
  {
   "cell_type": "code",
   "execution_count": null,
   "metadata": {},
   "outputs": [],
   "source": [
    "a = 10 # Variable assign\n",
    "print (a) # print the value of variable \"a\""
   ]
  },
  {
   "cell_type": "code",
   "execution_count": null,
   "metadata": {
    "slideshow": {
     "slide_type": "subslide"
    }
   },
   "outputs": [],
   "source": [
    "#SUM\n",
    "a = 7\n",
    "b = 5\n",
    "c = a + b\n",
    "print (c)"
   ]
  },
  {
   "cell_type": "code",
   "execution_count": null,
   "metadata": {},
   "outputs": [],
   "source": [
    "#SUBTRACTION\n",
    "a - b"
   ]
  },
  {
   "cell_type": "code",
   "execution_count": null,
   "metadata": {},
   "outputs": [],
   "source": [
    "#MULTIPLICATION\n",
    "a * b"
   ]
  },
  {
   "cell_type": "code",
   "execution_count": null,
   "metadata": {},
   "outputs": [],
   "source": [
    "#DIVISION\n",
    "a / b"
   ]
  },
  {
   "cell_type": "code",
   "execution_count": null,
   "metadata": {
    "slideshow": {
     "slide_type": "subslide"
    }
   },
   "outputs": [],
   "source": [
    "#QUOTIENT\n",
    "a // b"
   ]
  },
  {
   "cell_type": "code",
   "execution_count": null,
   "metadata": {},
   "outputs": [],
   "source": [
    "#REST\n",
    "a % b"
   ]
  },
  {
   "cell_type": "code",
   "execution_count": null,
   "metadata": {},
   "outputs": [],
   "source": [
    "#EXPONENTIAL \n",
    "a ** b  #a^b"
   ]
  },
  {
   "cell_type": "markdown",
   "metadata": {
    "slideshow": {
     "slide_type": "subslide"
    }
   },
   "source": [
    "### Exercise 1 \n",
    "\n",
    "- define a variable called \"pippo\" and assign it the value of 10\n",
    "- define a variable called \"pluto\" and assign it the value of 7\n",
    "- print the result of the sum, the subtraction, the multiplication and the division\n"
   ]
  },
  {
   "cell_type": "code",
   "execution_count": null,
   "metadata": {
    "cell_style": "center"
   },
   "outputs": [],
   "source": [
    "# Try yourself"
   ]
  },
  {
   "cell_type": "markdown",
   "metadata": {
    "slideshow": {
     "slide_type": "subslide"
    }
   },
   "source": [
    "### Solution 1"
   ]
  },
  {
   "cell_type": "code",
   "execution_count": null,
   "metadata": {},
   "outputs": [],
   "source": [
    "pippo = 10\n",
    "pluto = 7\n",
    "print(pippo+pluto)\n",
    "print(pippo-pluto)\n",
    "print(pippo*pluto)\n",
    "print(pippo/pluto)"
   ]
  },
  {
   "cell_type": "markdown",
   "metadata": {
    "slideshow": {
     "slide_type": "slide"
    }
   },
   "source": [
    "## Types of Data\n",
    "\n",
    "Variables used in python can be of various types. The most common types are:\n",
    "* **int** : Variable that contains an integer\n",
    "* **float** : Variable that contains a floating point number.\n",
    "* **str** : Variable of type string, which can contain letters and numbers\n",
    "* **bool** : Variable that can take two values, namely \"true,\" \"false,\" or \"none\"\n",
    "\n",
    "To assign a variable a value, the following syntax is used:"
   ]
  },
  {
   "cell_type": "code",
   "execution_count": null,
   "metadata": {},
   "outputs": [],
   "source": [
    "var = 10\n",
    "stringa = \"ciao\""
   ]
  },
  {
   "cell_type": "markdown",
   "metadata": {},
   "source": [
    "<div class=\"alert alert-block alert-warning\"> \n",
    "\n",
    "When naming variables, there are some simple rules: only letters, numbers and underscores can be used, but a variable cannot be given a name that begins with a number.\n",
    "    \n",
    "</div>"
   ]
  },
  {
   "cell_type": "markdown",
   "metadata": {
    "slideshow": {
     "slide_type": "subslide"
    }
   },
   "source": [
    "It is possible to vary the type of a variable simply by assigning it a new value."
   ]
  },
  {
   "cell_type": "code",
   "execution_count": null,
   "metadata": {},
   "outputs": [],
   "source": [
    "c = 4\n",
    "d = type(c) \n",
    "print (d)\n",
    "\n",
    "c = 4.5\n",
    "d = type(c)\n",
    "print (d)"
   ]
  },
  {
   "cell_type": "markdown",
   "metadata": {
    "slideshow": {
     "slide_type": "subslide"
    }
   },
   "source": [
    "It is also possible to explicitly cast variables by converting them from one type to another, using the commands displayed in the box below."
   ]
  },
  {
   "cell_type": "code",
   "execution_count": null,
   "metadata": {},
   "outputs": [],
   "source": [
    "stringa = \"34\"\n",
    "s = int(stringa)\n",
    "type(s)"
   ]
  },
  {
   "cell_type": "code",
   "execution_count": null,
   "metadata": {},
   "outputs": [],
   "source": [
    "e = 24\n",
    "e1 = str(24)\n",
    "type(e1)"
   ]
  },
  {
   "cell_type": "markdown",
   "metadata": {
    "slideshow": {
     "slide_type": "subslide"
    }
   },
   "source": [
    "## Operations with strings"
   ]
  },
  {
   "cell_type": "markdown",
   "metadata": {},
   "source": [
    "### Sum between strings\n",
    "If you use the + operator between two strings, they will be concatenated, as visible in the following code.\n"
   ]
  },
  {
   "cell_type": "code",
   "execution_count": null,
   "metadata": {},
   "outputs": [],
   "source": [
    "s1 = \"what should I eat\"\n",
    "s2 = \" for breakfast?\"\n",
    "print (s1 + s2)"
   ]
  },
  {
   "cell_type": "markdown",
   "metadata": {
    "slideshow": {
     "slide_type": "subslide"
    }
   },
   "source": [
    "### String Formatting\n",
    "\n",
    "The % operator is also known as string formatter or string interpolation operator. This is used in the following way."
   ]
  },
  {
   "cell_type": "code",
   "execution_count": null,
   "metadata": {},
   "outputs": [],
   "source": [
    "name = \"Marco Deriu\"\n",
    "age = 56 \n",
    "print (\"%s is %d years old.\" %(name, age))"
   ]
  },
  {
   "cell_type": "markdown",
   "metadata": {
    "slideshow": {
     "slide_type": "subslide"
    }
   },
   "source": [
    "Formatting in the string must include, in parentheses, a dictionary key, inserted immediately after the \"%\" character. \n",
    "\n",
    "The main types of conversion are:\n",
    "\n",
    "- **%d** signed decimal integer \n",
    "- **%f** decimal in floating point \n",
    "- **%s** string\n",
    "\n",
    "If a period \".\" followed by a number is inserted, this indicates precision."
   ]
  },
  {
   "cell_type": "code",
   "execution_count": null,
   "metadata": {},
   "outputs": [],
   "source": [
    "a = 4\n",
    "b = 68\n",
    "print(\"The ratio between a and b is: %.2f \" %(a/b))"
   ]
  },
  {
   "cell_type": "markdown",
   "metadata": {
    "slideshow": {
     "slide_type": "subslide"
    }
   },
   "source": [
    "One can proceed equally with *f-strings*, as follows.."
   ]
  },
  {
   "cell_type": "code",
   "execution_count": null,
   "metadata": {},
   "outputs": [],
   "source": [
    "nome = \"Marco Deriu\"\n",
    "anni = 56\n",
    "altezza = 1.72\n",
    "print(f\"My name is {nome}\") \n",
    "print(f\"I'm  {anni} years old and i'm tall {altezza} cm\")\n",
    "print(f\"In 30 years I will be {anni+30} years old\")"
   ]
  },
  {
   "cell_type": "markdown",
   "metadata": {
    "slideshow": {
     "slide_type": "subslide"
    }
   },
   "source": [
    "### Exercise 2  \n",
    "\n",
    "- create 3 variables containing your name, height and weight\n",
    "- calculate your BMI and print using a maximum of 2 decimals \n",
    "\n",
    "<div class=\"alert alert-info\"> \n",
    "    \n",
    "**REMEMBER the BMI formula:**\n",
    "\n",
    "$$ BMI = \\frac{weight}{height^2} $$      \n",
    "    \n",
    "</div>"
   ]
  },
  {
   "cell_type": "code",
   "execution_count": null,
   "metadata": {
    "slideshow": {
     "slide_type": "-"
    }
   },
   "outputs": [],
   "source": [
    "# Try yourself"
   ]
  },
  {
   "cell_type": "markdown",
   "metadata": {
    "heading_collapsed": true,
    "slideshow": {
     "slide_type": "subslide"
    }
   },
   "source": [
    "### Solution 2"
   ]
  },
  {
   "cell_type": "code",
   "execution_count": null,
   "metadata": {
    "hidden": true
   },
   "outputs": [],
   "source": [
    "name = \"Marco Deriu\"\n",
    "height = 1.72\n",
    "weight = 87\n",
    "\n",
    "BMI = weight/(height**2)\n",
    "\n",
    "print(\"%s has a BMI of %.2f\" %(name, BMI))"
   ]
  },
  {
   "cell_type": "markdown",
   "metadata": {
    "hidden": true
   },
   "source": [
    "<div class=\"alert alert-block alert-warning\"> Note that below 16.5 you are under the normal weight, whereas over 25 your are over-weighted   </div>"
   ]
  },
  {
   "cell_type": "markdown",
   "metadata": {
    "slideshow": {
     "slide_type": "subslide"
    }
   },
   "source": [
    "## Lists\n",
    "\n",
    "Lists are a data type that contains within it a set of data items that are the same or different in nature, sorted according to the list's own index. This is essential for retrieving a specific element of the list itself. Index numbering starts from 0 and it is also possible to number starting from the last element, which will have index -1 in that case."
   ]
  },
  {
   "cell_type": "code",
   "execution_count": null,
   "metadata": {},
   "outputs": [],
   "source": [
    "mylist = [2, 5, \"ciao\", 37] # create list with 4 elements\n",
    "print (f\"First element is: {mylist[0]}\") #recall the first element (position 0)\n",
    "print (f\"Second element is: {mylist[1]}\") #recall the element in position 1 starting from the left\n",
    "print (f\"Last element is: {mylist[-1]}\") #recall the last element using inverted numbering."
   ]
  },
  {
   "cell_type": "markdown",
   "metadata": {
    "slideshow": {
     "slide_type": "subslide"
    }
   },
   "source": [
    "It is also possible to retrieve a portion of the list by entering index ends separated by colons.\n"
   ]
  },
  {
   "cell_type": "code",
   "execution_count": null,
   "metadata": {},
   "outputs": [],
   "source": [
    "primi = [2, 3, 5, 7, 11, 13, 17]\n",
    "primi"
   ]
  },
  {
   "cell_type": "code",
   "execution_count": null,
   "metadata": {},
   "outputs": [],
   "source": [
    "primi[2:4] #print elements in position 3 and 4"
   ]
  },
  {
   "cell_type": "code",
   "execution_count": null,
   "metadata": {},
   "outputs": [],
   "source": [
    "primi[:3] #if you want to start from the first item in the list. "
   ]
  },
  {
   "cell_type": "code",
   "execution_count": null,
   "metadata": {},
   "outputs": [],
   "source": [
    "primi[2:] #recall from element with index 2 to the end"
   ]
  },
  {
   "cell_type": "markdown",
   "metadata": {
    "slideshow": {
     "slide_type": "subslide"
    }
   },
   "source": [
    "Lists can be created from the range function using the support of list function, which allows elements to be converted to lists."
   ]
  },
  {
   "cell_type": "code",
   "execution_count": null,
   "metadata": {},
   "outputs": [],
   "source": [
    "#inserts into the list all the numbers from 99 to 120\n",
    "lista_numerica = list(range(99, 120))\n",
    "lista_numerica"
   ]
  },
  {
   "cell_type": "markdown",
   "metadata": {
    "slideshow": {
     "slide_type": "subslide"
    }
   },
   "source": [
    "It is possible to create sublists within the list itself and retrieve them when needed for the entire list or even a single sublist item."
   ]
  },
  {
   "cell_type": "code",
   "execution_count": null,
   "metadata": {},
   "outputs": [],
   "source": [
    "elenco=[\"ciao\", 24, [1, 2, 3, 5], 5]\n",
    "print(elenco[2])\n",
    "print(elenco[2][0]) #I am calling up the first element of the sublist"
   ]
  },
  {
   "cell_type": "markdown",
   "metadata": {
    "slideshow": {
     "slide_type": "subslide"
    }
   },
   "source": [
    "You can edit a list item or delete it by the command."
   ]
  },
  {
   "cell_type": "code",
   "execution_count": null,
   "metadata": {},
   "outputs": [],
   "source": [
    "elenco=[\"ciao\", 24, [1, 2, 3, 5], 5]\n",
    "elenco[1] = \"buongiorno\"\n",
    "print (elenco)"
   ]
  },
  {
   "cell_type": "code",
   "execution_count": null,
   "metadata": {},
   "outputs": [],
   "source": [
    "del elenco[3]\n",
    "elenco"
   ]
  },
  {
   "cell_type": "markdown",
   "metadata": {
    "slideshow": {
     "slide_type": "subslide"
    }
   },
   "source": [
    "You can do several types of operations with lists very similar to what you can do with strings."
   ]
  },
  {
   "cell_type": "code",
   "execution_count": null,
   "metadata": {},
   "outputs": [],
   "source": [
    "#sum of 2 lists\n",
    "a = [1, 2, 3]\n",
    "b = [4, 5, 6]\n",
    "a+b"
   ]
  },
  {
   "cell_type": "code",
   "execution_count": null,
   "metadata": {},
   "outputs": [],
   "source": [
    "#multiplication of lists\n",
    "a*3"
   ]
  },
  {
   "cell_type": "code",
   "execution_count": null,
   "metadata": {},
   "outputs": [],
   "source": [
    "#length of a list\n",
    "len(a)"
   ]
  },
  {
   "cell_type": "markdown",
   "metadata": {
    "slideshow": {
     "slide_type": "subslide"
    }
   },
   "source": [
    "I can check whether an item is present in a list by means of the in and not in commands that return true or false"
   ]
  },
  {
   "cell_type": "code",
   "execution_count": null,
   "metadata": {},
   "outputs": [],
   "source": [
    "6 in a"
   ]
  },
  {
   "cell_type": "markdown",
   "metadata": {
    "slideshow": {
     "slide_type": "subslide"
    }
   },
   "source": [
    "### Lists built-in methods"
   ]
  },
  {
   "cell_type": "code",
   "execution_count": null,
   "metadata": {},
   "outputs": [],
   "source": [
    "spesa=[\"uova\", \"latte\", \"pasta\", \"cereali\"]\n",
    "spesa.append(\"carne\") #add an element to the list\n",
    "spesa"
   ]
  },
  {
   "cell_type": "code",
   "execution_count": null,
   "metadata": {},
   "outputs": [],
   "source": [
    "spesa.remove(\"pasta\") #removes an element\n",
    "spesa"
   ]
  },
  {
   "cell_type": "code",
   "execution_count": null,
   "metadata": {
    "slideshow": {
     "slide_type": "subslide"
    }
   },
   "outputs": [],
   "source": [
    "spesa.sort() #sort alphabetically or numerically\n",
    "spesa"
   ]
  },
  {
   "cell_type": "code",
   "execution_count": null,
   "metadata": {},
   "outputs": [],
   "source": [
    "spesa.sort(reverse=True) #inverse order\n",
    "spesa"
   ]
  },
  {
   "cell_type": "code",
   "execution_count": null,
   "metadata": {},
   "outputs": [],
   "source": [
    "numeri = [23, 45, 45, 90, 32]\n",
    "numeri.index(45) #returns me the index of the element"
   ]
  },
  {
   "cell_type": "code",
   "execution_count": null,
   "metadata": {},
   "outputs": [],
   "source": [
    "spesa.insert(1, \"yogurt\") #I insert at position 1 another item to the list\n",
    "spesa"
   ]
  },
  {
   "cell_type": "markdown",
   "metadata": {
    "slideshow": {
     "slide_type": "subslide"
    }
   },
   "source": [
    "### Exercise 3\n",
    "\n",
    "- Create a list of 5 movies you liked and print it\n",
    "- remove the third one from the list and print it\n",
    "- add \"Interstellar\" ('cause, c'mon, it's the best movie ever) to the list and print the last element\n",
    "- sort the list alphabetically"
   ]
  },
  {
   "cell_type": "code",
   "execution_count": null,
   "metadata": {
    "slideshow": {
     "slide_type": "-"
    }
   },
   "outputs": [],
   "source": [
    "# Try yourself"
   ]
  },
  {
   "cell_type": "markdown",
   "metadata": {
    "heading_collapsed": true,
    "slideshow": {
     "slide_type": "subslide"
    }
   },
   "source": [
    "### Solution 3"
   ]
  },
  {
   "cell_type": "code",
   "execution_count": null,
   "metadata": {
    "hidden": true
   },
   "outputs": [],
   "source": [
    "movies = [\"Memento\", \"Inception\", \"The Prestige\", \"The Dark knight\", \"Tenet\"]\n",
    "print (movies)\n",
    "del movies[2]\n",
    "print (movies)\n",
    "movies.append(\"Interstellar\")\n",
    "print (movies[-1])\n",
    "movies.sort()\n",
    "print (movies)"
   ]
  },
  {
   "cell_type": "markdown",
   "metadata": {
    "slideshow": {
     "slide_type": "subslide"
    }
   },
   "source": [
    "## Dictionaries\n",
    "\n",
    "In Phyton, dictionaries are groups of data pairs, each of which consists of a **\"key\"** and a **\"value\"**. To make an analogy with lists, the keys represent the indexes, while the values correspond to the contents of the variable placed at the position marked by the index. An important difference, however, lies in the fact that keys can consist of any type of data, except for lists or other dictionaries, while values have no limitations on the type of data from which they can consist."
   ]
  },
  {
   "cell_type": "code",
   "execution_count": 2,
   "metadata": {},
   "outputs": [],
   "source": [
    "dizionario = {\"chiave1\":12, \"chiave2\":\"ciao\", 2 :\"numero intero\", \"lista\":[1,3,2,4,5]}"
   ]
  },
  {
   "cell_type": "markdown",
   "metadata": {
    "slideshow": {
     "slide_type": "subslide"
    }
   },
   "source": [
    "To retrieve a dictionary item, it is necessary to look it up using the content of the key, unlike lists, which required that the position (index) be used."
   ]
  },
  {
   "cell_type": "code",
   "execution_count": 3,
   "metadata": {},
   "outputs": [
    {
     "data": {
      "text/plain": [
       "12"
      ]
     },
     "execution_count": 3,
     "metadata": {},
     "output_type": "execute_result"
    }
   ],
   "source": [
    "dizionario[\"chiave1\"]"
   ]
  },
  {
   "cell_type": "code",
   "execution_count": 4,
   "metadata": {},
   "outputs": [
    {
     "data": {
      "text/plain": [
       "'numero intero'"
      ]
     },
     "execution_count": 4,
     "metadata": {},
     "output_type": "execute_result"
    }
   ],
   "source": [
    "dizionario[2]"
   ]
  },
  {
   "cell_type": "code",
   "execution_count": 5,
   "metadata": {},
   "outputs": [
    {
     "data": {
      "text/plain": [
       "True"
      ]
     },
     "execution_count": 5,
     "metadata": {},
     "output_type": "execute_result"
    }
   ],
   "source": [
    "\"chiave2\" in dizionario  #you can see how you can search in this way for keys, not values"
   ]
  },
  {
   "cell_type": "markdown",
   "metadata": {
    "slideshow": {
     "slide_type": "subslide"
    }
   },
   "source": [
    "It is also possible to insert or delete items from the dictionary with very simple commands."
   ]
  },
  {
   "cell_type": "code",
   "execution_count": 6,
   "metadata": {},
   "outputs": [
    {
     "data": {
      "text/plain": [
       "dict_items([('ciao', 'hello'), ('cane', 'dog'), ('gatto', 'cat'), ('bello', 'beautiful'), ('cibo', 'food')])"
      ]
     },
     "execution_count": 6,
     "metadata": {},
     "output_type": "execute_result"
    }
   ],
   "source": [
    "dizionario={\"ciao\":\"hello\",\"cane\":\"dog\",\"gatto\":\"cat\",\"bello\":\"beautiful\"}\n",
    "dizionario[\"cibo\"] = \"food\"\n",
    "dizionario.items()"
   ]
  },
  {
   "cell_type": "code",
   "execution_count": 7,
   "metadata": {},
   "outputs": [
    {
     "data": {
      "text/plain": [
       "dict_items([('ciao', 'hello'), ('cane', 'dog'), ('gatto', 'cat'), ('cibo', 'food')])"
      ]
     },
     "execution_count": 7,
     "metadata": {},
     "output_type": "execute_result"
    }
   ],
   "source": [
    "del dizionario[\"bello\"]\n",
    "dizionario.items()"
   ]
  },
  {
   "cell_type": "markdown",
   "metadata": {
    "slideshow": {
     "slide_type": "subslide"
    }
   },
   "source": [
    "### Methods for dictionaries"
   ]
  },
  {
   "cell_type": "code",
   "execution_count": 8,
   "metadata": {},
   "outputs": [
    {
     "data": {
      "text/plain": [
       "dict_keys(['ciao', 'cane', 'gatto', 'cibo'])"
      ]
     },
     "execution_count": 8,
     "metadata": {},
     "output_type": "execute_result"
    }
   ],
   "source": [
    "dizionario.keys() #print the list of keys"
   ]
  },
  {
   "cell_type": "code",
   "execution_count": 9,
   "metadata": {},
   "outputs": [
    {
     "data": {
      "text/plain": [
       "dict_values(['hello', 'dog', 'cat', 'food'])"
      ]
     },
     "execution_count": 9,
     "metadata": {},
     "output_type": "execute_result"
    }
   ],
   "source": [
    "dizionario.values()  #prints the list of values"
   ]
  },
  {
   "cell_type": "code",
   "execution_count": 10,
   "metadata": {},
   "outputs": [
    {
     "data": {
      "text/plain": [
       "dict_items([('ciao', 'hello'), ('cane', 'dog'), ('gatto', 'cat'), ('cibo', 'food')])"
      ]
     },
     "execution_count": 10,
     "metadata": {},
     "output_type": "execute_result"
    }
   ],
   "source": [
    "dizionario.items()  #print key-value pairs, grouped in brackets and separated by commas."
   ]
  },
  {
   "cell_type": "markdown",
   "metadata": {
    "slideshow": {
     "slide_type": "slide"
    }
   },
   "source": [
    "# Scripting in Python"
   ]
  },
  {
   "cell_type": "markdown",
   "metadata": {
    "slideshow": {
     "slide_type": "subslide"
    }
   },
   "source": [
    "## If - Elif - Else "
   ]
  },
  {
   "cell_type": "code",
   "execution_count": 13,
   "metadata": {},
   "outputs": [
    {
     "ename": "IndentationError",
     "evalue": "expected an indented block (848181676.py, line 10)",
     "output_type": "error",
     "traceback": [
      "\u001b[1;36m  Cell \u001b[1;32mIn [13], line 10\u001b[1;36m\u001b[0m\n\u001b[1;33m    print (\"less\")\u001b[0m\n\u001b[1;37m    ^\u001b[0m\n\u001b[1;31mIndentationError\u001b[0m\u001b[1;31m:\u001b[0m expected an indented block\n"
     ]
    }
   ],
   "source": [
    "a = 2\n",
    "\n",
    "if a > 4:\n",
    "  print (\"greater\")\n",
    "\n",
    "elif a == 4:\n",
    "  print (\"equal\")\n",
    "\n",
    "else: \n",
    "print (\"less\")"
   ]
  },
  {
   "cell_type": "markdown",
   "metadata": {
    "slideshow": {
     "slide_type": "subslide"
    }
   },
   "source": [
    "## While"
   ]
  },
  {
   "cell_type": "code",
   "execution_count": 14,
   "metadata": {},
   "outputs": [
    {
     "name": "stdout",
     "output_type": "stream",
     "text": [
      "0\n",
      "1\n",
      "2\n",
      "3\n",
      "4\n",
      "5\n",
      "6\n",
      "7\n",
      "8\n",
      "9\n"
     ]
    }
   ],
   "source": [
    "i = 0\n",
    "while i < 10:\n",
    "  print (i)\n",
    "  i += 1  #increment of counter i by 1"
   ]
  },
  {
   "cell_type": "markdown",
   "metadata": {
    "slideshow": {
     "slide_type": "subslide"
    }
   },
   "source": [
    "## For "
   ]
  },
  {
   "cell_type": "code",
   "execution_count": 16,
   "metadata": {},
   "outputs": [
    {
     "name": "stdout",
     "output_type": "stream",
     "text": [
      "5\n",
      "6\n",
      "7\n",
      "8\n",
      "9\n"
     ]
    }
   ],
   "source": [
    "for n in range(10):\n",
    "  print (n)"
   ]
  },
  {
   "cell_type": "code",
   "execution_count": 17,
   "metadata": {},
   "outputs": [
    {
     "name": "stdout",
     "output_type": "stream",
     "text": [
      "What\n",
      "is\n",
      "love\n",
      "?\n"
     ]
    }
   ],
   "source": [
    "mylist = [\"What\", \"is\", \"love\", \"?\"]\n",
    "\n",
    "for n in mylist:\n",
    "  print (n) "
   ]
  },
  {
   "cell_type": "markdown",
   "metadata": {
    "slideshow": {
     "slide_type": "subslide"
    }
   },
   "source": [
    "## Functions definition\n",
    "\n",
    "Functions are a tool that allows us to group a set of instructions that perform a specific task. Functions accept arguments (or parameters) as input, process them, and output a result.\n",
    "After defining a function, it is possible to execute it by simply calling it and providing it with the necessary parameters as input, specific to different situations.\n",
    "\n",
    "**Function syntax**:                                                                    \n",
    "> def function_name (var1,var2,var3....):                                                                                \n",
    "\n",
    "* function is introduced by the def keyword;\n",
    "\n",
    "* after def the function name is defined;\n",
    "\n",
    "* after the function name the list of parameters passed to the function is specified in round brackets;\n",
    "\n",
    "* after the list of parameters there are the colon (:) which introduces an indented block of code (everything that is indented belongs to the function to exit the function it is necessary to remove the indentation);\n",
    "\n",
    "To call a function you must write the name of the function (function_name in this case) and put in parentheses the global variables to be passed to the function "
   ]
  },
  {
   "cell_type": "code",
   "execution_count": 18,
   "metadata": {
    "slideshow": {
     "slide_type": "subslide"
    }
   },
   "outputs": [],
   "source": [
    "def somma (a,b):\n",
    "    result = a + b\n",
    "    return result"
   ]
  },
  {
   "cell_type": "code",
   "execution_count": 19,
   "metadata": {},
   "outputs": [
    {
     "name": "stdout",
     "output_type": "stream",
     "text": [
      "50\n"
     ]
    }
   ],
   "source": [
    "pippo = somma (20,30)\n",
    "print (pippo)"
   ]
  },
  {
   "cell_type": "code",
   "execution_count": 20,
   "metadata": {
    "slideshow": {
     "slide_type": "subslide"
    }
   },
   "outputs": [],
   "source": [
    "def termometro(T):\n",
    "  if T >= 30:\n",
    "    print('too hot !!!')\n",
    "  elif T<30 and T>15:\n",
    "    print('there is a good temperature')\n",
    "  else:\n",
    "    print('too cold, my friend!')"
   ]
  },
  {
   "cell_type": "code",
   "execution_count": 21,
   "metadata": {},
   "outputs": [
    {
     "name": "stdout",
     "output_type": "stream",
     "text": [
      "too hot !!!\n"
     ]
    }
   ],
   "source": [
    "termometro(300)"
   ]
  },
  {
   "cell_type": "code",
   "execution_count": 22,
   "metadata": {
    "slideshow": {
     "slide_type": "subslide"
    }
   },
   "outputs": [
    {
     "name": "stdout",
     "output_type": "stream",
     "text": [
      "insert temperature in Celsius degrees: 27\n",
      "there is a good temperature\n"
     ]
    }
   ],
   "source": [
    "t=int(input('insert temperature in Celsius degrees: '))\n",
    "termometro(t)"
   ]
  },
  {
   "cell_type": "markdown",
   "metadata": {
    "slideshow": {
     "slide_type": "subslide"
    }
   },
   "source": [
    "### Exercise 4\n",
    "- create a function that takes two variables and multiplies their values; if the value is greater than a certain threshold, gives \"error\" as output message, otherwise prints the result\n",
    "- invoke the function using values 10, 4 first with a threshold egual to 38 and then egual to 42"
   ]
  },
  {
   "cell_type": "code",
   "execution_count": null,
   "metadata": {
    "slideshow": {
     "slide_type": "-"
    }
   },
   "outputs": [],
   "source": [
    "# Try yourself"
   ]
  },
  {
   "cell_type": "markdown",
   "metadata": {
    "slideshow": {
     "slide_type": "subslide"
    }
   },
   "source": [
    "### Solution 4"
   ]
  },
  {
   "cell_type": "code",
   "execution_count": null,
   "metadata": {},
   "outputs": [],
   "source": [
    "def control_product (a,b,t):\n",
    "    result = a*b\n",
    "    if result > t:\n",
    "        message = \"error\"\n",
    "    else: \n",
    "        message = result\n",
    "    return message\n",
    "\n",
    "print (control_product(10, 4, 38))\n",
    "print (control_product(10, 4, 42))"
   ]
  },
  {
   "cell_type": "markdown",
   "metadata": {
    "slideshow": {
     "slide_type": "subslide"
    }
   },
   "source": [
    "# Python Modules\n",
    "\n",
    "Consider a module to be the same as a code library.\n",
    "\n",
    "A file containing a set of functions you want to include in your application."
   ]
  },
  {
   "cell_type": "code",
   "execution_count": 23,
   "metadata": {},
   "outputs": [],
   "source": [
    "#import the module named \"numpy\" calling it \"np\"\n",
    "import numpy as np "
   ]
  },
  {
   "cell_type": "markdown",
   "metadata": {},
   "source": [
    "<div class=\"alert alert-block alert-warning\"> \n",
    "\n",
    "**The requested module has to be installed in your machine!**\n",
    "    \n",
    "If you are using Colab, some basic packages, such as numpy, are already installed by default!\n",
    "\n",
    "</div>"
   ]
  },
  {
   "cell_type": "markdown",
   "metadata": {
    "slideshow": {
     "slide_type": "subslide"
    }
   },
   "source": [
    "## Numpy\n",
    "\n",
    "NumPy is a Python library used for working with arrays.\n",
    "\n",
    "It also has functions for working in domain of linear algebra, fourier transform, and matrices.\n",
    "\n",
    "It is an open source project and you can use it freely.\n",
    "\n",
    "NumPy stands for Numerical Python.\n",
    "\n",
    "In Python we have lists that serve the purpose of arrays, but they are slow to process.\n",
    "\n",
    "NumPy aims to provide an array object that is up to 50x faster than traditional Python lists.\n",
    "\n",
    "[Numpy Tutorial](https://www.w3schools.com/python/numpy/default.asp)"
   ]
  },
  {
   "cell_type": "code",
   "execution_count": 24,
   "metadata": {},
   "outputs": [
    {
     "name": "stdout",
     "output_type": "stream",
     "text": [
      "[1 2 3 4 5]\n"
     ]
    }
   ],
   "source": [
    "# 1D array\n",
    "arr = np.array([1, 2, 3, 4, 5])\n",
    "print(arr)"
   ]
  },
  {
   "cell_type": "code",
   "execution_count": 25,
   "metadata": {},
   "outputs": [
    {
     "name": "stdout",
     "output_type": "stream",
     "text": [
      "[[1 2 3]\n",
      " [4 5 6]]\n"
     ]
    }
   ],
   "source": [
    "# 2D array\n",
    "arr = np.array([[1, 2, 3], [4, 5, 6]])\n",
    "print(arr)"
   ]
  },
  {
   "cell_type": "code",
   "execution_count": 42,
   "metadata": {
    "slideshow": {
     "slide_type": "subslide"
    }
   },
   "outputs": [
    {
     "name": "stdout",
     "output_type": "stream",
     "text": [
      "0\n",
      "1\n",
      "2\n",
      "3\n",
      "\n",
      "()\n",
      "(5,)\n",
      "(2, 3)\n",
      "(2, 2, 3)\n",
      "[[[1 2 3]\n",
      "  [4 5 6]]\n",
      "\n",
      " [[1 2 3]\n",
      "  [4 5 6]]]\n"
     ]
    }
   ],
   "source": [
    "a = np.array(42)\n",
    "b = np.array([1, 2, 3, 4, 5])\n",
    "c = np.array([[1, 2, 3], [4, 5, 6]])\n",
    "d = np.array([[[1, 2, 3], [4, 5, 6]], [[1, 2, 3], [4, 5, 6]]])\n",
    "\n",
    "# check dimensions\n",
    "print(a.ndim)\n",
    "print(b.ndim)\n",
    "print(c.ndim)\n",
    "print(d.ndim)\n",
    "# check shapes\n",
    "print(\"\")\n",
    "print(a.shape)\n",
    "print(b.shape)\n",
    "print(c.shape)\n",
    "print(d.shape)\n",
    "print(d)"
   ]
  },
  {
   "cell_type": "markdown",
   "metadata": {
    "slideshow": {
     "slide_type": "subslide"
    }
   },
   "source": [
    "<div class=\"alert alert-block alert-success\"> \n",
    "\n",
    "**Numpy arrays work similarly to the standard python lists!**\n",
    "\n",
    "</div>"
   ]
  },
  {
   "cell_type": "code",
   "execution_count": 32,
   "metadata": {},
   "outputs": [
    {
     "name": "stdout",
     "output_type": "stream",
     "text": [
      "2nd element on 1st row:  [ 5 10]\n"
     ]
    },
    {
     "data": {
      "text/plain": [
       "array([[ 1,  2,  3,  4,  5],\n",
       "       [ 6,  7,  8,  9, 10]])"
      ]
     },
     "execution_count": 32,
     "metadata": {},
     "output_type": "execute_result"
    }
   ],
   "source": [
    "# access 2D arrays\n",
    "arr = np.array([[1,2,3,4,5], [6,7,8,9,10]])\n",
    "print('2nd element on 1st row: ', arr[:, -1])\n",
    "arr"
   ]
  },
  {
   "cell_type": "markdown",
   "metadata": {
    "slideshow": {
     "slide_type": "subslide"
    }
   },
   "source": [
    "### Joining np arrays"
   ]
  },
  {
   "cell_type": "code",
   "execution_count": 35,
   "metadata": {},
   "outputs": [
    {
     "name": "stdout",
     "output_type": "stream",
     "text": [
      "[1 2 3 4 5 6]\n"
     ]
    }
   ],
   "source": [
    "arr1 = np.array([1, 2, 3])\n",
    "arr2 = np.array([4, 5, 6])\n",
    "arr = np.concatenate((arr1, arr2))\n",
    "print(arr)"
   ]
  },
  {
   "cell_type": "code",
   "execution_count": 37,
   "metadata": {},
   "outputs": [
    {
     "name": "stdout",
     "output_type": "stream",
     "text": [
      "[[1 2 3]\n",
      " [4 5 6]]\n"
     ]
    }
   ],
   "source": [
    "arr = np.stack((arr1, arr2), axis=0)\n",
    "print(arr)"
   ]
  },
  {
   "cell_type": "code",
   "execution_count": 38,
   "metadata": {},
   "outputs": [
    {
     "name": "stdout",
     "output_type": "stream",
     "text": [
      "[1 2 3 4 5 6]\n"
     ]
    }
   ],
   "source": [
    "arr = np.hstack((arr1, arr2))\n",
    "print(arr)"
   ]
  },
  {
   "cell_type": "markdown",
   "metadata": {
    "slideshow": {
     "slide_type": "subslide"
    }
   },
   "source": [
    "### Doing math"
   ]
  },
  {
   "cell_type": "code",
   "execution_count": 39,
   "metadata": {},
   "outputs": [
    {
     "name": "stdout",
     "output_type": "stream",
     "text": [
      "Mean: 33.333333333333336\n",
      "Standard deviation: 19.652537297311564\n",
      "Exponential: [2.20264658e+04 4.42413392e+05 5.32048241e+11 7.89629602e+13\n",
      " 4.20121040e+25 4.20121040e+25]\n",
      "Root Square: [3.16227766 3.60555128 5.19615242 5.65685425 7.68114575 7.68114575]\n",
      "Sum of the elements: 200\n",
      "Unique elements: [10 13 27 32 59]\n"
     ]
    }
   ],
   "source": [
    "arr = np.array([10, 13, 27, 32, 59, 59])\n",
    "print (f\"Mean: {np.mean (arr)}\")\n",
    "print (f\"Standard deviation: {np.std (arr)}\")\n",
    "print (f\"Exponential: {np.exp (arr)}\")\n",
    "print (f\"Root Square: {np.sqrt (arr)}\")\n",
    "print (f\"Sum of the elements: {np.sum(arr)}\")\n",
    "print (f\"Unique elements: {np.unique(arr)}\")"
   ]
  },
  {
   "cell_type": "markdown",
   "metadata": {
    "slideshow": {
     "slide_type": "subslide"
    }
   },
   "source": [
    "## Matplotlib\n",
    "\n",
    "- Matplotlib is an open-source drawing library that supports various drawing types\n",
    "- You can generate plots, histograms, bar charts, and other types of charts with just a few lines of code\n",
    "- It’s often used in web application servers, shells, and Python scripts\n",
    "\n",
    "[Matplotlib Tutorial](https://www.w3schools.com/python/matplotlib_intro.asp)"
   ]
  },
  {
   "cell_type": "markdown",
   "metadata": {
    "slideshow": {
     "slide_type": "-"
    }
   },
   "source": [
    "**BASIC COMMANDS**\n",
    "\n",
    "* **`plt.plot()`**\n",
    ">the plot function expects in imput at least one list of numeric values which it will read as ordinates of points (and as abscissae it will automatically take numbers from zero to N-1). \n",
    "* **`plt.show()`**\n",
    "> Should be given after a plot to actually show the graph\n",
    "* **`plt.xlabel()` / `plt.ylable()`**\n",
    ">Receives in imput a text that will be the names of the abscissae / ordinates respectively\n",
    "* **`plt.title()`**\n",
    ">Gets in imput a text that will be the title of the graph\n",
    "* **`plt.axis([x_min,x_max,y_min,y_max])`**\n",
    ">allows the extremes of the axis of the graph to be changed.\n",
    "* **`plt.xticks` / `plt.yticks`**\n",
    ">allows you to change the values given in the graphs\n",
    "* **`plt.legend()`**\n",
    ">insert a legend into the graph\n",
    "* **`plt.subplot(rows, columns, position in grid)`**\n",
    ">Divides the image into multiple plots that will go to define a grid"
   ]
  },
  {
   "cell_type": "code",
   "execution_count": 40,
   "metadata": {
    "slideshow": {
     "slide_type": "-"
    }
   },
   "outputs": [
    {
     "data": {
      "image/png": "[encoded data removed]",
      "text/plain": [
       "<Figure size 640x480 with 1 Axes>"
      ]
     },
     "metadata": {},
     "output_type": "display_data"
    }
   ],
   "source": [
    "import matplotlib.pyplot as plt\n",
    "x = np.arange(-2*np.pi,2*np.pi,np.pi/20)\n",
    "y1 = np.sin(x)\n",
    "y2 = np.cos(x)\n",
    "\n",
    "plt.plot(x,y1,'b',lw=2,label='Sin')\n",
    "plt.plot(x,y2,'r',lw=2,label='Cos')\n",
    "\n",
    "plt.legend(loc='lower left')\n",
    "plt.ylabel(\"Value\")\n",
    "plt.xlabel('x')\n",
    "plt.show()"
   ]
  },
  {
   "cell_type": "code",
   "execution_count": 41,
   "metadata": {
    "scrolled": true,
    "slideshow": {
     "slide_type": "subslide"
    }
   },
   "outputs": [
    {
     "data": {
      "image/png": "[encoded data removed]",
      "text/plain": [
       "<Figure size 1000x600 with 8 Axes>"
      ]
     },
     "metadata": {},
     "output_type": "display_data"
    }
   ],
   "source": [
    "import matplotlib as mpl\n",
    "X, Y = np.meshgrid(np.linspace(-3, 3, 128), np.linspace(-3, 3, 128))\n",
    "Z = (1 - X/2 + X**5 + Y**3) * np.exp(-X**2 - Y**2)\n",
    "\n",
    "fig, axs = plt.subplots(2, 2, figsize=(10,6))\n",
    "pc = axs[0, 0].pcolormesh(X, Y, Z, vmin=-1, vmax=1, cmap='RdBu_r')\n",
    "fig.colorbar(pc, ax=axs[0, 0])\n",
    "axs[0, 0].set_title('pcolormesh()')\n",
    "\n",
    "co = axs[0, 1].contourf(X, Y, Z, levels=np.linspace(-1.25, 1.25, 11))\n",
    "fig.colorbar(co, ax=axs[0, 1])\n",
    "axs[0, 1].set_title('contourf()')\n",
    "\n",
    "pc = axs[1, 0].imshow(Z**2 * 100, cmap='plasma',\n",
    "                      norm=mpl.colors.LogNorm(vmin=0.01, vmax=100))\n",
    "fig.colorbar(pc, ax=axs[1, 0], extend='both')\n",
    "axs[1, 0].set_title('imshow() with LogNorm()')\n",
    "\n",
    "data1, data2, data3, data4 = np.random.randn(4, 100)\n",
    "pc = axs[1, 1].scatter(data1, data2, c=data3, cmap='RdBu_r')\n",
    "fig.colorbar(pc, ax=axs[1, 1], extend='both')\n",
    "axs[1, 1].set_title('scatter()');\n",
    "fig.tight_layout()"
   ]
  },
  {
   "cell_type": "markdown",
   "metadata": {
    "slideshow": {
     "slide_type": "subslide"
    }
   },
   "source": [
    "### Exercise 5 \n",
    "\n",
    "The short range interactions between two charged particles can be described using the Lennard-Jones potential (we will see the details during the course) which is reported in the following formula: \n",
    "\n",
    "$$ V(r)=4 \\varepsilon \\cdot\\left[\\left(\\frac{\\sigma}{r}\\right)^{12}-\\left(\\frac{\\sigma}{r}\\right)^6\\right]$$\n",
    "\n",
    "Set parameters for carbon-carbon short range interaction: \n",
    "\n",
    "- $ sigma = 0.34 $ nm\n",
    "- $ epsilon = 0.36 $ kJ\\mol\n",
    "\n",
    "Represent the Lenneard Jones function as a function of the interatom distance (r). Set the minimum distance to 0.0001 nm and the maximum to 2 nm\n",
    "\n",
    "Hint: use numpy.arange to define a vector of values for the interatimic distance r"
   ]
  },
  {
   "cell_type": "code",
   "execution_count": null,
   "metadata": {
    "slideshow": {
     "slide_type": "-"
    }
   },
   "outputs": [],
   "source": [
    "# Try yourself"
   ]
  },
  {
   "cell_type": "markdown",
   "metadata": {
    "heading_collapsed": true,
    "slideshow": {
     "slide_type": "subslide"
    }
   },
   "source": [
    "### Solution 5"
   ]
  },
  {
   "cell_type": "code",
   "execution_count": null,
   "metadata": {
    "hidden": true
   },
   "outputs": [],
   "source": [
    "import numpy as np\n",
    "import matplotlib.pyplot as plt\n",
    "\n",
    "sigma = 0.34 #nm\n",
    "epsilon = 0.36 #kJ/mol\n",
    "r = np.arange(0.0001,2, 0.001)\n",
    "V = 4*epsilon*((sigma/r)**12-(sigma/r)**6)\n",
    "\n",
    "plt.plot(r,V)\n",
    "plt.ylim(-1,1)\n",
    "plt.xlabel(\"Interatomic distance (nm)\")\n",
    "plt.ylabel(\"Energy (kJ/mol)\")\n",
    "plt.title(\"Carbon-Carbon LJ Potential\")\n",
    "plt.show()"
   ]
  }
 ],
 "metadata": {
  "celltoolbar": "Slideshow",
  "colab": {
   "provenance": []
  },
  "kernelspec": {
   "display_name": "Python 3 (ipykernel)",
   "language": "python",
   "name": "python3"
  },
  "language_info": {
   "codemirror_mode": {
    "name": "ipython",
    "version": 3
   },
   "file_extension": ".py",
   "mimetype": "text/x-python",
   "name": "python",
   "nbconvert_exporter": "python",
   "pygments_lexer": "ipython3",
   "version": "3.9.13"
  },
  "toc": {
   "base_numbering": 1,
   "nav_menu": {},
   "number_sections": true,
   "sideBar": true,
   "skip_h1_title": false,
   "title_cell": "Table of Contents",
   "title_sidebar": "Contents",
   "toc_cell": false,
   "toc_position": {
    "height": "calc(100% - 180px)",
    "left": "10px",
    "top": "150px",
    "width": "384px"
   },
   "toc_section_display": true,
   "toc_window_display": false
  }
 },
 "nbformat": 4,
 "nbformat_minor": 1
}
