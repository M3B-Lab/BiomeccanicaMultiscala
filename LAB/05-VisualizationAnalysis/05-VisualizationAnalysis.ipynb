{
 "cells": [
  {
   "cell_type": "markdown",
   "metadata": {
    "slideshow": {
     "slide_type": "slide"
    }
   },
   "source": [
    "# Laboratorio 5\n",
    "**Tutorial on data analysis and visualization**\n",
    "\n",
    "\n",
    "Authors:\n",
    "    \n",
    "- Prof. Marco A. Deriu (marco.deriu@polito.it)\n",
    "- Lorenzo Pallante (lorenzo.pallante@polito.it)\n",
    "- Eric A. Zizzi (eric.zizzi@polito.it)\n",
    "- Marcello Miceli (marcello.miceli@polito.it)\n",
    "- Marco Cannariato (marco.cannariato@polito.it)"
   ]
  },
  {
   "cell_type": "markdown",
   "metadata": {},
   "source": [
    "<div class=\"alert alert-block alert-warning\">\n",
    "<b>WARNING:</b> You will need a working instance of VMD (Visual Molecular Dynamics) v. 1.9.3 or higher on your machine!<br>\n",
    "Please make sure to download (registration required) and install the software <b>before</b> attending the lab!<br>\n",
    "More information and download:<br> https://www.ks.uiuc.edu/Development/Download/download.cgi?PackageName=VMD\n",
    "</div>"
   ]
  },
  {
   "cell_type": "markdown",
   "metadata": {
    "slideshow": {
     "slide_type": "slide"
    }
   },
   "source": [
    "# Table of Contents\n",
    "\n",
    "1. Basic data formats and plotting\n",
    "2. Performing data analysis in Python\n",
    "3. Visualizing PDB files in Nglview\n",
    "4. Visualizing PDB files in VMD (local)\n",
    "\n",
    "**Learning outcomes:** \n",
    "- loading data from text files\n",
    "- being able to create meaningful plots for easy data visualization\n",
    "- being able to load, visualize and render 3D representations of molecular systems"
   ]
  },
  {
   "cell_type": "markdown",
   "metadata": {
    "slideshow": {
     "slide_type": "slide"
    }
   },
   "source": [
    "# 1. Basic data formats and plotting"
   ]
  },
  {
   "cell_type": "markdown",
   "metadata": {
    "slideshow": {
     "slide_type": "subslide"
    }
   },
   "source": [
    "## 1.1 Loading data from text files\n",
    "Other than in very specific applications, scientific data is often generated and shared in some form of ASCII text file. This means that such data files can be parsed (=read) and analyzed by virtually anyone, provided the data format is known.\n",
    "As you might remember, reading a text file and saving its content into appropriate arrays is a relatively easy task in most programming languages, Python included. We will see a few examples now.\n",
    "\n",
    "**REMINDER: Linux is an <u>extensionless system</u>, and generally speaking you should not be afraid of strange file extensions. If you know that a given file is an ASCII text file, then you can open it in the usual ways discussed in the following, whatever the extension (.txt, .dat, .in, .xvg, .out, ...)**"
   ]
  },
  {
   "cell_type": "markdown",
   "metadata": {},
   "source": [
    "** Insert COLAB copy command **"
   ]
  },
  {
   "cell_type": "markdown",
   "metadata": {
    "slideshow": {
     "slide_type": "subslide"
    }
   },
   "source": [
    "Let's have a look at a basic, two-column text file containing time-series data:"
   ]
  },
  {
   "cell_type": "code",
   "execution_count": 1,
   "metadata": {},
   "outputs": [],
   "source": [
    "import numpy as np\n",
    "import seaborn as sns"
   ]
  },
  {
   "cell_type": "markdown",
   "metadata": {},
   "source": [
    "### 1.1.1 Loading an ASCII file in python"
   ]
  },
  {
   "cell_type": "code",
   "execution_count": 5,
   "metadata": {},
   "outputs": [],
   "source": [
    "lines=[]\n",
    "f = open(\"data/apl.txt\",\"r\")\n",
    "for line in f:\n",
    "    lines.append(line)\n",
    "f.close()"
   ]
  },
  {
   "cell_type": "markdown",
   "metadata": {},
   "source": [
    "More compact and efficient way:"
   ]
  },
  {
   "cell_type": "code",
   "execution_count": 4,
   "metadata": {
    "slideshow": {
     "slide_type": "subslide"
    }
   },
   "outputs": [],
   "source": [
    "lines=[]\n",
    "with open(\"data/apl.txt\",'r') as f:\n",
    "    for line in f:\n",
    "        lines.append(line)"
   ]
  },
  {
   "cell_type": "markdown",
   "metadata": {
    "slideshow": {
     "slide_type": "subslide"
    }
   },
   "source": [
    "Now let's have a look at the content:"
   ]
  },
  {
   "cell_type": "code",
   "execution_count": 6,
   "metadata": {
    "slideshow": {
     "slide_type": "subslide"
    }
   },
   "outputs": [
    {
     "name": "stdout",
     "output_type": "stream",
     "text": [
      "Fist line of the loaded file:\n",
      "250200.00 42.47\n",
      "\n"
     ]
    }
   ],
   "source": [
    "print(\"Fist line of the loaded file:\")\n",
    "print(lines[0])"
   ]
  },
  {
   "cell_type": "markdown",
   "metadata": {},
   "source": [
    "This file contains two columns, separated by a whitespace. The first column is the time (expressed in picoseconds in float), the second column is a quantity called \"Area per Lipid\", corrensponding by the average surface (in Angstrom^2) occupied by one phospholipid in a membrane simulation.\n",
    "\n",
    "\n",
    "As we can see, we managed to separate individual lines into entries of a list, but we need to further separate the time (which could by our x value) and the APL (our y value to be analyzed). A pure python way to do this would be e.g. with the split method:"
   ]
  },
  {
   "cell_type": "code",
   "execution_count": 9,
   "metadata": {},
   "outputs": [
    {
     "name": "stdout",
     "output_type": "stream",
     "text": [
      "The time is 250200.00 ps\n",
      "The APL value is 42.47 Å^2\n"
     ]
    }
   ],
   "source": [
    "row1 = lines[0].split()\n",
    "print(f\"The time is {row1[0]} ps\")\n",
    "print(f\"The APL value is {row1[1]} Å^2\")"
   ]
  },
  {
   "cell_type": "markdown",
   "metadata": {},
   "source": [
    "We would need to do this operation for each line of the file, presumably in a loop:"
   ]
  },
  {
   "cell_type": "code",
   "execution_count": 11,
   "metadata": {},
   "outputs": [],
   "source": [
    "vtimes = []\n",
    "vapl = []\n",
    "for el in lines:\n",
    "    time = el.split()[0]\n",
    "    apl = el.split()[1]\n",
    "    vtimes.append(time)\n",
    "    vapl.append(apl)\n"
   ]
  },
  {
   "cell_type": "markdown",
   "metadata": {},
   "source": [
    "And now we have the individual columns as two different lists:"
   ]
  },
  {
   "cell_type": "code",
   "execution_count": 12,
   "metadata": {},
   "outputs": [
    {
     "name": "stdout",
     "output_type": "stream",
     "text": [
      "['250200.00', '250400.00', '250600.00', '250800.00', '251000.00', '251200.00', '251400.00', '251600.00', '251800.00', '252000.00', '252200.00']\n",
      "['42.47', '42.73', '42.44', '42.37', '42.36', '42.43', '42.55', '42.46', '42.33', '42.45', '42.71']\n"
     ]
    }
   ],
   "source": [
    "print(vtimes[0:11])\n",
    "print(vapl[0:11])"
   ]
  },
  {
   "cell_type": "markdown",
   "metadata": {},
   "source": [
    "This method works, but has a few shortcomings:\n",
    "* works for this specific file type (i.e, two columns separated by whitespace and no header, comments, metadata)\n",
    "* it requires for loops (= inefficient)\n",
    "* must be written from scratch each time (= time consuming)"
   ]
  },
  {
   "cell_type": "markdown",
   "metadata": {},
   "source": [
    "Fortunately, most data processing libraries (numpy, pandas, ...) also usually have a builtin method/function to parse text files.<br>\n",
    "The function bundled with numpy is<br>\n",
    "```python\n",
    "import numpy as np\n",
    "arr = np.loadtxt(filename,usecols=...,max_rows=...,comments=...)\n",
    "```\n",
    "\n",
    "Let's see it in action on our text file:"
   ]
  },
  {
   "cell_type": "code",
   "execution_count": 16,
   "metadata": {},
   "outputs": [
    {
     "name": "stdout",
     "output_type": "stream",
     "text": [
      "[250200. 250400. 250600. 250800. 251000. 251200. 251400. 251600. 251800.\n",
      " 252000. 252200.]\n",
      "[42.47 42.73 42.44 42.37 42.36 42.43 42.55 42.46 42.33 42.45 42.71]\n"
     ]
    },
    {
     "data": {
      "text/plain": [
       "dtype('float64')"
      ]
     },
     "execution_count": 16,
     "metadata": {},
     "output_type": "execute_result"
    }
   ],
   "source": [
    "import numpy as np\n",
    "vtimes = np.loadtxt(\"data/apl.txt\",usecols=(0),max_rows=1250)\n",
    "vapl = np.loadtxt(\"data/apl.txt\",usecols=(1),max_rows=1250)\n",
    "print(vtimes[0:11])\n",
    "print(vapl[0:11])\n",
    "vtimes.dtype"
   ]
  },
  {
   "cell_type": "markdown",
   "metadata": {},
   "source": [
    "You can use the usual python magic inside the function (string substitutions, etc):\n",
    "```python\n",
    "root_folder = \"data\"\n",
    "filename = \"apl.txt\"\n",
    "vtimes = np.loadtxt(f\"{root_folder}/{filename}\",usecols=(0),max_rows=1250)\n",
    "# Alternative:\n",
    "vtimes = np.loadtxt(\"%s/%s\" % (root_folder,filename),usecols=(0),max_rows=1250)\n",
    "# ...\n",
    "```"
   ]
  },
  {
   "cell_type": "markdown",
   "metadata": {},
   "source": [
    "### 1.1.2 Loading and plotting XVG files"
   ]
  },
  {
   "cell_type": "markdown",
   "metadata": {},
   "source": [
    "As you can see, this is much quicker to write. It is also way more flexible in dealing with filetypes with different separators, headers, comments, etc.\n",
    "Let's open for example an <b>xvg</b> file, which is the file GROMACS writes when performing (most of the) analyses, containing the RMSD as a function of time."
   ]
  },
  {
   "cell_type": "markdown",
   "metadata": {},
   "source": [
    "Wait...what the hell is RMSD?<br>\n",
    "You will see the details, but in a nutshell it is a metric that tells you \"how different\" two molecular structures are. Often, it is used to quantify the change of a given (macro)molecule in time as the atoms move, bonds and angles wiggle, and so on...<br>"
   ]
  },
  {
   "cell_type": "markdown",
   "metadata": {},
   "source": [
    "Example: one water molecule evolving in time:<br>\n",
    "<img src=\"data/SupplementaryAnimationRMSD.gif\" width=\"750\" align=\"center\">"
   ]
  },
  {
   "cell_type": "markdown",
   "metadata": {},
   "source": [
    "GROMACS calculates this quantity automatically for us, given a trajectory of a molecule in time. It saves the results into an xvg file. Let's have a look:"
   ]
  },
  {
   "cell_type": "code",
   "execution_count": 19,
   "metadata": {},
   "outputs": [
    {
     "name": "stdout",
     "output_type": "stream",
     "text": [
      "# This file was created Thu Dec 31 12:18:19 2020\n",
      "# Created by:\n",
      "#                   :-) GROMACS - gmx rms, 2020.4-MODIFIED (-:\n",
      "# \n",
      "# Executable:   /opt/gromacs/2020.4/bin/gmx\n",
      "# Data prefix:  /opt/gromacs/2020.4\n",
      "# Working dir:  /home/studente/Multiscala/Input/models/00cady/punto4/md\n",
      "# Command line:\n",
      "#   gmx rms -s md.tpr -f md.trr -o rmsd.xvg\n",
      "# gmx rms is part of G R O M A C S:\n",
      "#\n",
      "# Gyas ROwers Mature At Cryogenic Speed\n",
      "#\n",
      "@    title \"RMSD\"\n",
      "@    xaxis  label \"Time (ps)\"\n",
      "@    yaxis  label \"RMSD (nm)\"\n",
      "@TYPE xy\n",
      "@ subtitle \"Protein after lsq fit to Backbone\"\n",
      "   0.0000000    0.0003260\n",
      "   0.2000000    0.0817766\n"
     ]
    }
   ],
   "source": [
    "%%bash\n",
    "head -n 20 data/rmsd.xvg"
   ]
  },
  {
   "cell_type": "markdown",
   "metadata": {},
   "source": [
    "A couple of things to notice:\n",
    "* The file has a header of 18 lines\n",
    "* Lines starting with # are comments\n",
    "* Lines starting with @ contain plotting instructions (e.g. for grace)\n",
    "* Actual data starts at line 19, and the two columns are separated by 4 whitespaces"
   ]
  },
  {
   "cell_type": "markdown",
   "metadata": {},
   "source": [
    "While we could read this file in pure python (skipping the first 18 lines, etc.), numpy makes it really easy:"
   ]
  },
  {
   "cell_type": "code",
   "execution_count": 25,
   "metadata": {},
   "outputs": [
    {
     "name": "stdout",
     "output_type": "stream",
     "text": [
      "[0.  0.2 0.4 0.6 0.8 1.  1.2 1.4 1.6 1.8 2. ]\n",
      "[3.260000e-04 8.177660e-02 1.676585e-01 2.471416e-01 2.944810e-01\n",
      " 3.439816e-01 3.726170e-01 4.035859e-01 4.134620e-01 4.193570e-01\n",
      " 4.291862e-01]\n"
     ]
    }
   ],
   "source": [
    "comm = [\"#\",\"@\"]\n",
    "vtimes = np.loadtxt(\"data/rmsd.xvg\",usecols=(0),comments=comm)\n",
    "vrmsd = np.loadtxt(\"data/rmsd.xvg\",usecols=(1),comments=comm)\n",
    "# Or, even more compact:\n",
    "vtimes, vrmsd =  np.loadtxt(\"data/rmsd.xvg\",usecols=(0,1),comments=comm, unpack=True)\n",
    "# Let's see the data:\n",
    "print(vtimes[0:11])\n",
    "print(vrmsd[0:11])\n"
   ]
  },
  {
   "cell_type": "markdown",
   "metadata": {},
   "source": [
    "<div class=\"alert alert-block alert-info\"><b>Nice little detail:</b><br> numpy already converted small numbers into scientific notation!</div>"
   ]
  },
  {
   "cell_type": "markdown",
   "metadata": {},
   "source": [
    "Now that we have the data, we can first of all plot it, using matplotlib and/or seaborn. Seaborn is a matplotlib wrapper, which makes plotting a little bit easier thanks to its preset plotting functions which allow you to make nice plots with little adjustments.<br>\n",
    "<div class=\"alert alert-block alert-warning\"> Keep in mind that everything you do in seaborn can also be achieved using pure matplotlib. Also, a plot generated using seaborn is in fact a matplotlib plot, so all its attributes (title, axes, legends, etc.) are accessible using the matplotlib syntax! </div>"
   ]
  },
  {
   "cell_type": "code",
   "execution_count": 26,
   "metadata": {},
   "outputs": [
    {
     "data": {
      "text/plain": [
       "[<matplotlib.lines.Line2D at 0x7fa05f6bf0a0>]"
      ]
     },
     "execution_count": 26,
     "metadata": {},
     "output_type": "execute_result"
    },
    {
     "data": {
      "image/png": "[encoded data removed]",
      "text/plain": [
       "<Figure size 432x288 with 1 Axes>"
      ]
     },
     "metadata": {
      "needs_background": "light"
     },
     "output_type": "display_data"
    }
   ],
   "source": [
    "import matplotlib.pyplot as plt\n",
    "# Example 1: using just matplotlib\n",
    "plt.plot(vtimes,vrmsd)"
   ]
  },
  {
   "cell_type": "markdown",
   "metadata": {},
   "source": [
    "This is a very basic plot. It can be further personalized though. Let's add a title, axis labels and maybe change the colors a bit:"
   ]
  },
  {
   "cell_type": "code",
   "execution_count": 30,
   "metadata": {},
   "outputs": [
    {
     "data": {
      "text/plain": [
       "Text(0, 0.5, 'RMSD (nm)')"
      ]
     },
     "execution_count": 30,
     "metadata": {},
     "output_type": "execute_result"
    },
    {
     "data": {
      "image/png": "[encoded data removed]",
      "text/plain": [
       "<Figure size 432x288 with 1 Axes>"
      ]
     },
     "metadata": {
      "needs_background": "light"
     },
     "output_type": "display_data"
    }
   ],
   "source": [
    "plt.plot(vtimes,vrmsd,'k')\n",
    "plt.title(\"RMSD after lsq to Backbone\")\n",
    "plt.xlabel(\"Time (ps)\")\n",
    "plt.ylabel(\"RMSD (nm)\")"
   ]
  },
  {
   "cell_type": "markdown",
   "metadata": {},
   "source": [
    "Now let's try with Seaborn:"
   ]
  },
  {
   "cell_type": "code",
   "execution_count": 32,
   "metadata": {},
   "outputs": [
    {
     "data": {
      "text/plain": [
       "<matplotlib.axes._subplots.AxesSubplot at 0x7fa05fb34be0>"
      ]
     },
     "execution_count": 32,
     "metadata": {},
     "output_type": "execute_result"
    },
    {
     "data": {
      "image/png": "[encoded data removed]",
      "text/plain": [
       "<Figure size 432x288 with 1 Axes>"
      ]
     },
     "metadata": {
      "needs_background": "light"
     },
     "output_type": "display_data"
    }
   ],
   "source": [
    "import seaborn as sns\n",
    "sns.lineplot(x=vtimes,y=vrmsd)"
   ]
  },
  {
   "cell_type": "markdown",
   "metadata": {},
   "source": [
    "As you can see, the plot is exaclty the same as the one generated using pure matplotlib. For these simple plots, matplotlib is sufficiently easy to create meaningful plots, so we'll stick to that.<br>\n",
    "Let's adjust the plot a bit to explore some further possibilities. For example, let's plot just one every 100 datapoints to simplify the plot:"
   ]
  },
  {
   "cell_type": "code",
   "execution_count": 38,
   "metadata": {},
   "outputs": [
    {
     "data": {
      "text/plain": [
       "Text(0, 0.5, 'RMSD (nm)')"
      ]
     },
     "execution_count": 38,
     "metadata": {},
     "output_type": "execute_result"
    },
    {
     "data": {
      "image/png": "[encoded data removed]",
      "text/plain": [
       "<Figure size 432x288 with 1 Axes>"
      ]
     },
     "metadata": {
      "needs_background": "light"
     },
     "output_type": "display_data"
    }
   ],
   "source": [
    "plt.plot(vtimes[::100],vrmsd[::100],'k')\n",
    "plt.title(\"RMSD after lsq to Backbone\")\n",
    "plt.xlabel(\"Time (ps)\")\n",
    "plt.ylabel(\"RMSD (nm)\")"
   ]
  },
  {
   "cell_type": "markdown",
   "metadata": {},
   "source": [
    "We used pure python syntax (a thing called \"slicing\") to skip through a certain number of elements in the list.<br>\n",
    "<div class=\"alert alert-block alert-warning\"> <b>CAUTION:</b> the lists provided for x and y values must have the same length (just as in e.g. Matlab). Also, be careful that by skipping a certain number of elements, depending on the sampling frequency, you might miss some important parts of the dynamics of the system! </div>\n"
   ]
  },
  {
   "cell_type": "markdown",
   "metadata": {},
   "source": [
    "## 1.2 Analyzing data"
   ]
  },
  {
   "cell_type": "markdown",
   "metadata": {},
   "source": [
    "We now know how to import data from text files (including xvg files) and how to store them in python lists and numpy arrays.<br>\n",
    "Now let's perform some analyses on the data.<br>\n",
    "First let's look at the plot again:"
   ]
  },
  {
   "cell_type": "code",
   "execution_count": 42,
   "metadata": {},
   "outputs": [
    {
     "data": {
      "text/plain": [
       "Text(0, 0.5, 'RMSD (nm)')"
      ]
     },
     "execution_count": 42,
     "metadata": {},
     "output_type": "execute_result"
    },
    {
     "data": {
      "image/png": "[encoded data removed]",
      "text/plain": [
       "<Figure size 432x288 with 1 Axes>"
      ]
     },
     "metadata": {
      "needs_background": "light"
     },
     "output_type": "display_data"
    }
   ],
   "source": [
    "plt.plot(vtimes,vrmsd,'k')\n",
    "plt.title(\"RMSD after lsq to Backbone\")\n",
    "plt.xlabel(\"Time (ps)\")\n",
    "plt.ylabel(\"RMSD (nm)\")"
   ]
  },
  {
   "cell_type": "markdown",
   "metadata": {},
   "source": [
    "It seems that some sort of equilibrium is reached after roughly 200 ps. So I might be interested in regarding the first 200 ps as a transient, and just keep and analyze the second part.<br>\n",
    "I might be tempted do to something like:"
   ]
  },
  {
   "cell_type": "code",
   "execution_count": 44,
   "metadata": {},
   "outputs": [
    {
     "data": {
      "text/plain": [
       "40.0"
      ]
     },
     "execution_count": 44,
     "metadata": {},
     "output_type": "execute_result"
    }
   ],
   "source": [
    "newtimes = vtimes[0:201]\n",
    "newrmsd = vrmsd[0:201]\n",
    "newtimes[-1]"
   ]
  },
  {
   "cell_type": "markdown",
   "metadata": {},
   "source": [
    "What? Why is the last time 40 ps? Shouldn't it be 200 ps?"
   ]
  },
  {
   "cell_type": "markdown",
   "metadata": {},
   "source": [
    "Of course, the answer is that this particular property was not sampled every picosecond. Indeed, if we look at the first few elements of the time vector:"
   ]
  },
  {
   "cell_type": "code",
   "execution_count": 45,
   "metadata": {},
   "outputs": [
    {
     "name": "stdout",
     "output_type": "stream",
     "text": [
      "[0.  0.2 0.4 0.6 0.8 1.  1.2 1.4 1.6 1.8 2. ]\n"
     ]
    }
   ],
   "source": [
    "print(vtimes[0:11])"
   ]
  },
  {
   "cell_type": "markdown",
   "metadata": {},
   "source": [
    "Since these values are expressed in picoseconds, it appears that this property was sampled (=measured) every 0.2 ps (200 fs). So first it might be convenient to find out how many steps i should consider. Usually, the reasoning is in time (ps) and not in number of datapoints, so let's define these things in our code so that life will be easier for us:"
   ]
  },
  {
   "cell_type": "code",
   "execution_count": 46,
   "metadata": {},
   "outputs": [],
   "source": [
    "dt=1 # This delta time, in picoseconds, is the sampling that I want\n",
    "tstart=200 # This value, in picoseconds, is my desiderd starting point:\n",
    "tend=1000 # Same as above, my desired last timepoint"
   ]
  },
  {
   "cell_type": "markdown",
   "metadata": {},
   "source": [
    "Now we write the rest of our code so that it uses the values above and does the conversions automatically:"
   ]
  },
  {
   "cell_type": "code",
   "execution_count": 62,
   "metadata": {},
   "outputs": [
    {
     "data": {
      "text/plain": [
       "Text(0, 0.5, 'RMSD (nm)')"
      ]
     },
     "execution_count": 62,
     "metadata": {},
     "output_type": "execute_result"
    },
    {
     "data": {
      "image/png": "[encoded data removed]",
      "text/plain": [
       "<Figure size 432x288 with 1 Axes>"
      ]
     },
     "metadata": {
      "needs_background": "light"
     },
     "output_type": "display_data"
    }
   ],
   "source": [
    "original_dt = vtimes[1]-vtimes[0] # This is the sampling period of the original data, in picoseconds\n",
    "start_index = int(tstart/original_dt) # This is the index of the first datapoint that i should use\n",
    "skip_index = int(dt/original_dt)\n",
    "newtime = vtimes[start_index::skip_index]\n",
    "newrmsd = vrmsd[start_index::skip_index]\n",
    "# Now plot:\n",
    "plt.plot(newtime,newrmsd,'k')\n",
    "plt.title(\"RMSD after lsq to Backbone\")\n",
    "plt.xlabel(\"Time (ps)\")\n",
    "plt.ylabel(\"RMSD (nm)\")"
   ]
  },
  {
   "cell_type": "markdown",
   "metadata": {},
   "source": [
    "Notice the x axis, which now goes from 200 to 1000. Also notice the range of the y axis: it was from 0 to 0.85 nm before, while it is 0.72 to 0.83 now, and this makes the data look very different!<br>\n",
    "We can manually use the old range:"
   ]
  },
  {
   "cell_type": "code",
   "execution_count": 63,
   "metadata": {},
   "outputs": [
    {
     "data": {
      "text/plain": [
       "(0, 0.85)"
      ]
     },
     "execution_count": 63,
     "metadata": {},
     "output_type": "execute_result"
    },
    {
     "data": {
      "image/png": "[encoded data removed]",
      "text/plain": [
       "<Figure size 432x288 with 1 Axes>"
      ]
     },
     "metadata": {
      "needs_background": "light"
     },
     "output_type": "display_data"
    }
   ],
   "source": [
    "plt.plot(newtime,newrmsd,'k')\n",
    "plt.title(\"RMSD after lsq to Backbone\")\n",
    "plt.xlabel(\"Time (ps)\")\n",
    "plt.ylabel(\"RMSD (nm)\")\n",
    "plt.ylim([0,0.85])"
   ]
  },
  {
   "cell_type": "markdown",
   "metadata": {},
   "source": [
    "Ok, now we have only the last 800 ps of data, sampled with a frequency of 1 ps^(-1). We can now use the power of numpy to calculate some statistics on it:"
   ]
  },
  {
   "cell_type": "code",
   "execution_count": 69,
   "metadata": {},
   "outputs": [
    {
     "name": "stdout",
     "output_type": "stream",
     "text": [
      "The average RMSD value is: 0.78 +/- 0.02 nm\n"
     ]
    }
   ],
   "source": [
    "import numpy as np\n",
    "mean_rmsd = np.mean(newrmsd)\n",
    "dev_rmsd = np.std(newrmsd)\n",
    "print(f\"The average RMSD value is: {mean_rmsd:.2f} +/- {dev_rmsd:.2f} nm\")"
   ]
  },
  {
   "cell_type": "markdown",
   "metadata": {},
   "source": [
    "Let's compare these quantities with the same calculated from t=0:"
   ]
  },
  {
   "cell_type": "code",
   "execution_count": 81,
   "metadata": {},
   "outputs": [
    {
     "name": "stdout",
     "output_type": "stream",
     "text": [
      "The average RMSD value is: 0.76 +/- 0.05 nm\n"
     ]
    }
   ],
   "source": [
    "import numpy as np\n",
    "mean_rmsd2 = np.mean(vrmsd)\n",
    "dev_rmsd2 = np.std(vrmsd)\n",
    "print(f\"The average RMSD value is: {mean_rmsd2:.2f} +/- {dev_rmsd2:.2f} nm\")"
   ]
  },
  {
   "cell_type": "markdown",
   "metadata": {},
   "source": [
    "As you can see values are slightly shifted due to the initial transient. Let's compare the two using a bar plot:"
   ]
  },
  {
   "cell_type": "code",
   "execution_count": 91,
   "metadata": {},
   "outputs": [
    {
     "data": {
      "image/png": "[encoded data removed]",
      "text/plain": [
       "<Figure size 432x288 with 1 Axes>"
      ]
     },
     "metadata": {
      "needs_background": "light"
     },
     "output_type": "display_data"
    }
   ],
   "source": [
    "# Create lists for the plot\n",
    "dataseries = ['Equilibrium', 'Full Trajectory']\n",
    "x_pos = np.arange(len(dataseries))\n",
    "means = [mean_rmsd,mean_rmsd2]\n",
    "devs = [dev_rmsd, dev_rmsd2]\n",
    "# Now we build the plot a set a couple of options to make it look nice:\n",
    "fig, ax = plt.subplots()\n",
    "ax.bar(x_pos, means, yerr=devs, align='center', alpha=0.5, ecolor='black', capsize=10)\n",
    "ax.set_ylabel('RMSD (nm)')\n",
    "ax.set_xticks(x_pos)\n",
    "ax.set_xticklabels(dataseries)\n",
    "ax.set_title('RMSD of full trajectory vs. equilibrium')\n",
    "ax.yaxis.grid(True)\n",
    "ax.set_ylim((0.6,0.9))\n",
    "# Save the figure and show\n",
    "plt.tight_layout()\n",
    "plt.savefig('rmsd_comparison.png')\n",
    "plt.show()"
   ]
  },
  {
   "cell_type": "markdown",
   "metadata": {},
   "source": [
    "### 1.2.1 EXERCISE\n",
    "Using the same procedure, load the data contained in the file \"apl.txt\" into numpy arrays. Create and save two simple line plots containing the time evolution of the APL starting from t=250200 ps (series 1) and t=300000 ps (series 2). Use a sampling of 1000 ps (= 1ns). \n",
    "Then, compare the mean and standard deviation of the two time series 1 and 2 and plot them with error bars using a bar plot. Save this bar plot as \"apl_comparison.png\" in the \"data\" directory."
   ]
  },
  {
   "cell_type": "markdown",
   "metadata": {},
   "source": [
    "To have a smoother visualization of the data, e.g. to remove unrelevant noise from rapid fluctuations, we have one more option aside from skipping every N datapoints: the moving average.<br>\n",
    "It is quite easy to calculate and plot a moving average from time series data in python, so let's do it!\n",
    "\n",
    "<div class=\"alert alert-block alert-warning\"> <b>CAREFUL:</b> Caculating moving averages is a neat way to clean up the data, but it is by all means a data manipulation! This means that it is not a good idea to use aggressive filtering (e.g. a moving average) to hide artifacts or weird behaviours! This is considered by all means data fabrication and constitues a form of scientific misconduct!<br>\n",
    "So, it is a good idea to plot moving averages <b><u>above</b></u> the original timeseries, just for transparency.</div>"
   ]
  },
  {
   "cell_type": "markdown",
   "metadata": {},
   "source": [
    "To exploit the speed and efficiency of the numpy libraries, we will not write a function to calculate a moving average from scratch.\n",
    "However, numpy does not come with a \"moving average\" function. It does however have a function to calculate the (discrete) convolution between two arrays, so we can exploit the fact that convolving an array with a window of ones of a given width w is the same as calculating the moving average of the same width:"
   ]
  },
  {
   "cell_type": "code",
   "execution_count": 121,
   "metadata": {},
   "outputs": [
    {
     "data": {
      "image/png": "[encoded data removed]",
      "text/plain": [
       "<Figure size 432x288 with 1 Axes>"
      ]
     },
     "metadata": {
      "needs_background": "light"
     },
     "output_type": "display_data"
    }
   ],
   "source": [
    "def moving_average(x, w):\n",
    "    return np.convolve(x, np.ones(w), 'same') / w\n",
    "\n",
    "import seaborn as sns\n",
    "target_roll = 10 # in picoseconds\n",
    "rollwidth=round(target_roll/original_dt) # The width of the rolling window, in number of steps\n",
    "rollingavg=moving_average(vrmsd,rollwidth)\n",
    "# Plot the raw data:\n",
    "sns.lineplot(x=vtimes/1000,y=vrmsd,color='black')\n",
    "# Plot the moving average\n",
    "roll_label=\"Running average (%d ps)\" % target_roll\n",
    "sns.lineplot(x=vtimes[:-rollwidth]/1000,y=rollingavg[:-rollwidth],label=roll_label,color=\"orange\")\n",
    "plt.title(\"RMSD time series with moving average\")\n",
    "plt.savefig(\"data/rmsd_rollingavg.png\",dpi=300)"
   ]
  },
  {
   "cell_type": "code",
   "execution_count": null,
   "metadata": {},
   "outputs": [],
   "source": []
  }
 ],
 "metadata": {
  "celltoolbar": "Slideshow",
  "kernelspec": {
   "display_name": "Python 3 (ipykernel)",
   "language": "python",
   "name": "python3"
  },
  "language_info": {
   "codemirror_mode": {
    "name": "ipython",
    "version": 3
   },
   "file_extension": ".py",
   "mimetype": "text/x-python",
   "name": "python",
   "nbconvert_exporter": "python",
   "pygments_lexer": "ipython3",
   "version": "3.8.8"
  },
  "toc": {
   "base_numbering": 1,
   "nav_menu": {},
   "number_sections": false,
   "sideBar": true,
   "skip_h1_title": false,
   "title_cell": "Table of Contents",
   "title_sidebar": "Contents",
   "toc_cell": false,
   "toc_position": {
    "height": "calc(100% - 180px)",
    "left": "10px",
    "top": "150px",
    "width": "384px"
   },
   "toc_section_display": true,
   "toc_window_display": false
  },
  "vscode": {
   "interpreter": {
    "hash": "9d2bd68a915523ce9e58622534b3a76c58e4a7336a823b0a8d0a3a702133fc2d"
   }
  }
 },
 "nbformat": 4,
 "nbformat_minor": 2
}
