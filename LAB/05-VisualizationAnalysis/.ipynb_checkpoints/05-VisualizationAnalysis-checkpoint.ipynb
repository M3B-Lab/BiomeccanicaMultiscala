{
 "cells": [
  {
   "cell_type": "markdown",
   "metadata": {
    "slideshow": {
     "slide_type": "slide"
    }
   },
   "source": [
    "# Laboratorio 5\n",
    "**Tutorial on data analysis and visualization**\n",
    "\n",
    "\n",
    "Authors:\n",
    "    \n",
    "- Prof. Marco A. Deriu (marco.deriu@polito.it)\n",
    "- Lorenzo Pallante (lorenzo.pallante@polito.it)\n",
    "- Eric A. Zizzi (eric.zizzi@polito.it)\n",
    "- Marcello Miceli (marcello.miceli@polito.it)\n",
    "- Marco Cannariato (marco.cannariato@polito.it)"
   ]
  },
  {
   "cell_type": "markdown",
   "metadata": {},
   "source": [
    "<div class=\"alert alert-block alert-warning\">\n",
    "<b>WARNING:</b> You will need a working instance of VMD (Visual Molecular Dynamics) v. 1.9.3 or higher on your machine!<br>\n",
    "Please make sure to download (registration required) and install the software <b>before</b> attending the lab!<br>\n",
    "More information and download:<br> https://www.ks.uiuc.edu/Development/Download/download.cgi?PackageName=VMD\n",
    "</div>"
   ]
  },
  {
   "cell_type": "markdown",
   "metadata": {
    "slideshow": {
     "slide_type": "slide"
    }
   },
   "source": [
    "# Table of Contents\n",
    "\n",
    "1. Basic data formats and plotting\n",
    "3. Visualizing PDB files in Nglview\n",
    "4. Visualizing PDB files in VMD (local)\n",
    "\n",
    "**Learning outcomes:** \n",
    "- loading data from text files\n",
    "- being able to create meaningful plots for easy data visualization\n",
    "- being able to load, visualize and render 3D representations of molecular systems"
   ]
  },
  {
   "cell_type": "markdown",
   "metadata": {
    "slideshow": {
     "slide_type": "slide"
    }
   },
   "source": [
    "# 1. Basic data formats and plotting"
   ]
  },
  {
   "cell_type": "markdown",
   "metadata": {
    "slideshow": {
     "slide_type": "subslide"
    }
   },
   "source": [
    "## 1.1 Loading data from text files\n",
    "Other than in very specific applications, scientific data is often generated and shared in some form of ASCII text file. This means that such data files can be parsed (=read) and analyzed by virtually anyone, provided the data format is known.\n",
    "As you might remember, reading a text file and saving its content into appropriate arrays is a relatively easy task in most programming languages, Python included. We will see a few examples now.\n",
    "\n",
    "**REMINDER: Linux is an <u>extensionless system</u>, and generally speaking you should not be afraid of strange file extensions. If you know that a given file is an ASCII text file, then you can open it in the usual ways discussed in the following, whatever the extension (.txt, .dat, .in, .xvg, .out, ...)**"
   ]
  },
  {
   "cell_type": "code",
   "execution_count": null,
   "metadata": {},
   "outputs": [],
   "source": [
    "# IF YOU ARE USING COLAB EXECUTE THIS CELL (to copy over data repository)\n",
    "!git clone https://github.com/lorenzopallante/BiomeccanicaMultiscala.git\n",
    "!mv BiomeccanicaMultiscala/LAB/05-VisualizationAnalysis/* ."
   ]
  },
  {
   "cell_type": "markdown",
   "metadata": {
    "slideshow": {
     "slide_type": "subslide"
    }
   },
   "source": [
    "Let's have a look at a basic, two-column text file containing time-series data:"
   ]
  },
  {
   "cell_type": "code",
   "execution_count": null,
   "metadata": {},
   "outputs": [],
   "source": [
    "import numpy as np\n",
    "import seaborn as sns\n",
    "import matplotlib.pyplot as plt"
   ]
  },
  {
   "cell_type": "markdown",
   "metadata": {},
   "source": [
    "### 1.1.1 Loading an ASCII file in python"
   ]
  },
  {
   "cell_type": "code",
   "execution_count": null,
   "metadata": {},
   "outputs": [],
   "source": [
    "lines=[]\n",
    "f = open(\"data/apl.txt\",\"r\")\n",
    "for line in f:\n",
    "    lines.append(line)\n",
    "f.close()"
   ]
  },
  {
   "cell_type": "markdown",
   "metadata": {
    "slideshow": {
     "slide_type": "fragment"
    }
   },
   "source": [
    "Notice that you had to manually close the file at the end using the .close() method! This is rather cumbersome, so there is a more compact and efficient way:"
   ]
  },
  {
   "cell_type": "code",
   "execution_count": null,
   "metadata": {
    "slideshow": {
     "slide_type": "-"
    }
   },
   "outputs": [],
   "source": [
    "lines=[]\n",
    "with open(\"data/apl.txt\",'r') as f:\n",
    "    for line in f:\n",
    "        lines.append(line)"
   ]
  },
  {
   "cell_type": "markdown",
   "metadata": {
    "slideshow": {
     "slide_type": "subslide"
    }
   },
   "source": [
    "Now let's have a look at the content:"
   ]
  },
  {
   "cell_type": "code",
   "execution_count": null,
   "metadata": {
    "scrolled": true,
    "slideshow": {
     "slide_type": "fragment"
    }
   },
   "outputs": [],
   "source": [
    "print(\"Fist line of the loaded file:\")\n",
    "print(lines[0])"
   ]
  },
  {
   "cell_type": "markdown",
   "metadata": {},
   "source": [
    "This file contains two columns, separated by a whitespace. The first column is the time (expressed in picoseconds in floating-point), the second column is a quantity called \"Area per Lipid\", corrensponding by the average surface (in Angstrom^2) occupied by one phospholipid in a membrane simulation.\n",
    "\n",
    "\n",
    "As we can see, we managed to separate individual lines into entries of a list, but we need to further separate the time (which could be our x value) and the APL (our y value to be analyzed). A pure python way to do this would be e.g. with the split method:"
   ]
  },
  {
   "cell_type": "code",
   "execution_count": null,
   "metadata": {},
   "outputs": [],
   "source": [
    "row1 = lines[0].split()\n",
    "print(f\"The time is {row1[0]} ps\")\n",
    "print(f\"The APL value is {row1[1]} Å^2\")"
   ]
  },
  {
   "cell_type": "markdown",
   "metadata": {
    "slideshow": {
     "slide_type": "subslide"
    }
   },
   "source": [
    "We would need to do this operation for each line of the file, presumably in a loop:"
   ]
  },
  {
   "cell_type": "code",
   "execution_count": null,
   "metadata": {},
   "outputs": [],
   "source": [
    "vtimes = [] # Array of times\n",
    "vapl = [] # Array of data points, in this case the APL value\n",
    "for el in lines:\n",
    "    time = el.split()[0]\n",
    "    apl = el.split()[1]\n",
    "    vtimes.append(time)\n",
    "    vapl.append(apl)\n"
   ]
  },
  {
   "cell_type": "markdown",
   "metadata": {},
   "source": [
    "And now we have the individual columns as two different lists:"
   ]
  },
  {
   "cell_type": "code",
   "execution_count": null,
   "metadata": {},
   "outputs": [],
   "source": [
    "print(vtimes[0:11])\n",
    "print(vapl[0:11])"
   ]
  },
  {
   "cell_type": "markdown",
   "metadata": {
    "slideshow": {
     "slide_type": "subslide"
    }
   },
   "source": [
    "This method works, but has a few shortcomings:\n",
    "* it works for this specific file type (i.e, two columns separated by whitespace and no header, comments, metadata)\n",
    "* it requires \"for\" loops (= inefficient)\n",
    "* it must be written from scratch each time (= time consuming)"
   ]
  },
  {
   "cell_type": "markdown",
   "metadata": {},
   "source": [
    "Fortunately, most data processing libraries (numpy, pandas, ...) also usually have a builtin method/function to parse text files.<br>\n",
    "The function bundled with numpy is<br>\n",
    "```python\n",
    "import numpy as np\n",
    "arr = np.loadtxt(filename,usecols=...,max_rows=...,comments=...)\n",
    "```\n",
    "\n",
    "Let's see it in action on our text file:"
   ]
  },
  {
   "cell_type": "code",
   "execution_count": null,
   "metadata": {
    "slideshow": {
     "slide_type": "subslide"
    }
   },
   "outputs": [],
   "source": [
    "vtimes = np.loadtxt(\"data/apl.txt\",usecols=(0),max_rows=1250)\n",
    "vapl = np.loadtxt(\"data/apl.txt\",usecols=(1),max_rows=1250)\n",
    "print(vtimes[0:11])\n",
    "print(vapl[0:11])\n",
    "vtimes.dtype"
   ]
  },
  {
   "cell_type": "markdown",
   "metadata": {},
   "source": [
    "You can use the usual python magic inside the function (string substitutions, etc):\n",
    "```python\n",
    "root_folder = \"data\"\n",
    "filename = \"apl.txt\"\n",
    "vtimes = np.loadtxt(f\"{root_folder}/{filename}\",usecols=(0),max_rows=1250)\n",
    "# Alternative:\n",
    "vtimes = np.loadtxt(\"%s/%s\" % (root_folder,filename),usecols=(0),max_rows=1250)\n",
    "# ...\n",
    "```"
   ]
  },
  {
   "cell_type": "markdown",
   "metadata": {
    "slideshow": {
     "slide_type": "slide"
    }
   },
   "source": [
    "### 1.1.2 Loading and plotting XVG files"
   ]
  },
  {
   "cell_type": "markdown",
   "metadata": {},
   "source": [
    "As you can see, this is much quicker to write. It is also way more flexible in dealing with filetypes with different separators, headers, comments, etc.\n",
    "Let's open for example an <b>xvg</b> file, which is the file GROMACS writes when performing (most of the) analyses, containing the RMSD as a function of time."
   ]
  },
  {
   "cell_type": "markdown",
   "metadata": {
    "slideshow": {
     "slide_type": "subslide"
    }
   },
   "source": [
    "Wait...what the hell is RMSD?<br>\n",
    "You will see the details, but in a nutshell it is a metric that tells you \"how different\" two molecular structures are. Often, it is used to quantify the change of a given (macro)molecule in time as the atoms move, bonds and angles wiggle, and so on...<br>"
   ]
  },
  {
   "cell_type": "markdown",
   "metadata": {
    "slideshow": {
     "slide_type": "subslide"
    }
   },
   "source": [
    "Example: one water molecule evolving in time:<br>\n",
    "<img src=\"data/SupplementaryAnimationRMSD.gif\" width=\"1500\" align=\"center\">"
   ]
  },
  {
   "cell_type": "markdown",
   "metadata": {
    "slideshow": {
     "slide_type": "subslide"
    }
   },
   "source": [
    "GROMACS calculates this quantity automatically for us, given a trajectory of a molecule in time. It saves the results into an xvg file. Let's have a look:"
   ]
  },
  {
   "cell_type": "code",
   "execution_count": null,
   "metadata": {},
   "outputs": [],
   "source": [
    "%%bash\n",
    "head -n 20 data/rmsd.xvg"
   ]
  },
  {
   "cell_type": "markdown",
   "metadata": {
    "slideshow": {
     "slide_type": "subslide"
    }
   },
   "source": [
    "A couple of things to notice:\n",
    "* The file has a header of 18 lines\n",
    "* Lines starting with # are comments\n",
    "* Lines starting with @ contain plotting instructions (e.g. for grace), and can also be regarded as comments here\n",
    "* Actual data starts at line 19, and the two columns are separated by 4 whitespaces"
   ]
  },
  {
   "cell_type": "markdown",
   "metadata": {
    "slideshow": {
     "slide_type": "subslide"
    }
   },
   "source": [
    "While we could read this file in pure python (skipping the first 18 lines, etc.), but numpy makes it really easy:"
   ]
  },
  {
   "cell_type": "code",
   "execution_count": null,
   "metadata": {},
   "outputs": [],
   "source": [
    "comm = [\"#\",\"@\"] # A list containing the starting characters of comment lines\n",
    "vtimes = np.loadtxt(\"data/rmsd.xvg\",usecols=(0),comments=comm)\n",
    "vrmsd = np.loadtxt(\"data/rmsd.xvg\",usecols=(1),comments=comm)\n",
    "# Or, even more compact:\n",
    "vtimes, vrmsd =  np.loadtxt(\"data/rmsd.xvg\",usecols=(0,1),comments=comm, unpack=True)\n",
    "# Let's see the data:\n",
    "print(vtimes[0:11])\n",
    "print(vrmsd[0:11])\n"
   ]
  },
  {
   "cell_type": "markdown",
   "metadata": {},
   "source": [
    "<div class=\"alert alert-block alert-info\"><b>Nice little detail:</b><br> numpy already converted small numbers into scientific notation!</div>"
   ]
  },
  {
   "cell_type": "markdown",
   "metadata": {
    "slideshow": {
     "slide_type": "subslide"
    }
   },
   "source": [
    "Now that we have the data, we can first of all plot it, using matplotlib and/or seaborn. Seaborn is a matplotlib wrapper, which makes plotting a little bit easier thanks to its preset plotting functions which allow you to make nice plots with little adjustments.<br>\n",
    "<div class=\"alert alert-block alert-warning\"> Keep in mind that everything you do in seaborn can also be achieved using pure matplotlib. Also, a plot generated using seaborn is in fact a matplotlib plot, so all its attributes (title, axes, legends, etc.) are accessible using the matplotlib syntax! </div>"
   ]
  },
  {
   "cell_type": "code",
   "execution_count": null,
   "metadata": {},
   "outputs": [],
   "source": [
    "# Example 1: using just matplotlib\n",
    "plt.plot(vtimes,vrmsd);"
   ]
  },
  {
   "cell_type": "markdown",
   "metadata": {
    "slideshow": {
     "slide_type": "subslide"
    }
   },
   "source": [
    "This is a very basic plot. It can be further personalized though. Let's add a title, axis labels and maybe change the colors a bit:"
   ]
  },
  {
   "cell_type": "code",
   "execution_count": null,
   "metadata": {},
   "outputs": [],
   "source": [
    "plt.plot(vtimes,vrmsd,'k')\n",
    "plt.title(\"RMSD after lsq to Backbone\")\n",
    "plt.xlabel(\"Time (ps)\")\n",
    "plt.ylabel(\"RMSD (nm)\")\n",
    "plt.ylim(0,1);"
   ]
  },
  {
   "cell_type": "markdown",
   "metadata": {
    "slideshow": {
     "slide_type": "subslide"
    }
   },
   "source": [
    "Now let's try with Seaborn:"
   ]
  },
  {
   "cell_type": "code",
   "execution_count": null,
   "metadata": {},
   "outputs": [],
   "source": [
    "sns.lineplot(x=vtimes,y=vrmsd);"
   ]
  },
  {
   "cell_type": "markdown",
   "metadata": {
    "slideshow": {
     "slide_type": "subslide"
    }
   },
   "source": [
    "As you can see, the plot is exaclty the same as the one generated using pure matplotlib. For these simple plots, matplotlib is sufficiently easy to create meaningful plots, so we'll stick to that.<br>\n",
    "Let's adjust the plot a bit to explore some further possibilities. For example, let's plot just one every 100 datapoints to simplify the plot:"
   ]
  },
  {
   "cell_type": "code",
   "execution_count": null,
   "metadata": {
    "scrolled": true
   },
   "outputs": [],
   "source": [
    "plt.plot(vtimes[::100],vrmsd[::100],'k')\n",
    "plt.title(\"RMSD after lsq to Backbone\")\n",
    "plt.xlabel(\"Time (ps)\")\n",
    "plt.ylabel(\"RMSD (nm)\");"
   ]
  },
  {
   "cell_type": "markdown",
   "metadata": {},
   "source": [
    "We used pure python syntax (a thing called \"slicing\") to skip through a certain number of elements in the list.<br>\n"
   ]
  },
  {
   "cell_type": "markdown",
   "metadata": {
    "slideshow": {
     "slide_type": "subslide"
    }
   },
   "source": [
    "<div class=\"alert alert-block alert-warning\"> <b>CAUTION:</b> the lists provided for x and y values must have the same length (just as in e.g. Matlab). Also, be careful that by skipping a certain number of elements, depending on the sampling frequency, you might miss some important parts of the dynamics of the system! </div>\n"
   ]
  },
  {
   "cell_type": "markdown",
   "metadata": {
    "slideshow": {
     "slide_type": "slide"
    }
   },
   "source": [
    "## 1.1.3 Bash + Python Excercise"
   ]
  },
  {
   "cell_type": "markdown",
   "metadata": {},
   "source": [
    "Let's merge what we have learned!\n",
    "\n",
    "In lab 04-BashScripting you have realized a script that, for each pdb file in a folder, counts the number of amminoacids.\n",
    "\n",
    "Now:\n",
    "- Modify the script  by adding a third column that contains the number of Alanins (resname ALA) in the pdb.\n",
    "- Launch the script in order to create the file stats.csv.\n",
    "- Write a python code that reads stats.csv and creates a scatterplot showing on the x-axis the number of residues and on the y-axis the number of alanins. Add the appropriate labels to the figure.\n",
    "\n",
    "Do you see any relationship between the two variables?"
   ]
  },
  {
   "cell_type": "markdown",
   "metadata": {},
   "source": [
    "<div class=\"alert alert-block alert-info\"> <b>HINT:</b> plt.scatter can be used to create a scatterplot. Look at the online documentation of matplotlib!</div>\n"
   ]
  },
  {
   "cell_type": "code",
   "execution_count": null,
   "metadata": {},
   "outputs": [],
   "source": [
    "# Write your code here"
   ]
  },
  {
   "cell_type": "markdown",
   "metadata": {
    "slideshow": {
     "slide_type": "slide"
    }
   },
   "source": [
    "# 2. Visualisation of molecular systems"
   ]
  },
  {
   "cell_type": "markdown",
   "metadata": {
    "slideshow": {
     "slide_type": "subslide"
    }
   },
   "source": [
    "Humans are visual learners: it turns out that, along with our other senses, our brain is highly specialized in interpreting visual cues and analysing visual patterns in an almost automatic way.<br>\n",
    "This is one of the reasons why we appreaciate data plots so much (and sunsets, and landscapes, and flowers, ...).<br>\n",
    "The same reasoning can be also applied to molecular systems: visualising a 3D model of a protein can give us a great deal of information regarding the system, even prior to analysing it numerically."
   ]
  },
  {
   "cell_type": "markdown",
   "metadata": {
    "slideshow": {
     "slide_type": "subslide"
    }
   },
   "source": [
    "Example: is there something wrong with this system?<br>\n",
    "<img src=\"glitch.png\" width=\"1500\" align=\"left\">"
   ]
  },
  {
   "cell_type": "markdown",
   "metadata": {
    "slideshow": {
     "slide_type": "subslide"
    }
   },
   "source": [
    "Something obviously went wrong, and we can catch this (and many other similar glitches) by just looking at our systems!"
   ]
  },
  {
   "cell_type": "markdown",
   "metadata": {},
   "source": [
    "There are a bunch of different options available to view pdb files and molecular trajectories, from stand-alone software (VMD, PyMol, MOE, Avodagro, Chimera, ...) to code plugins (for Python, Java, ...).\n",
    "We will see two of them:\n",
    "* VMD (standalone, interactive)\n",
    "* NGLView (in a jupyter notebook, interactive)"
   ]
  },
  {
   "cell_type": "markdown",
   "metadata": {
    "slideshow": {
     "slide_type": "slide"
    }
   },
   "source": [
    "# 2.1 NGLView"
   ]
  },
  {
   "cell_type": "markdown",
   "metadata": {
    "slideshow": {
     "slide_type": "subslide"
    }
   },
   "source": [
    "NGLView is a library to view molecular structures and trajectories in a python code (specifically, in an interactive python session).\n",
    "Let's see it in action:"
   ]
  },
  {
   "cell_type": "code",
   "execution_count": null,
   "metadata": {
    "scrolled": true
   },
   "outputs": [],
   "source": [
    "# IF YOU ARE USING COLAB EXECUTE THIS CELL (to install nglview)\n",
    "!pip install nglview\n",
    "from google.colab import output\n",
    "output.enable_custom_widget_manager()"
   ]
  },
  {
   "cell_type": "code",
   "execution_count": null,
   "metadata": {},
   "outputs": [],
   "source": [
    "import nglview as nv\n",
    "from IPython.display import IFrame\n",
    "\n",
    "with open(\"data/peptide.pdb\") as f:\n",
    "    view = nv.show_file(f, ext=\"pdb\")\n",
    "view"
   ]
  },
  {
   "cell_type": "markdown",
   "metadata": {
    "slideshow": {
     "slide_type": "subslide"
    }
   },
   "source": [
    "Note the use of the classic python syntax to open a file, pass the handle to another function (in this case nglview) and then close the file. As you can see, this creates an interactive widget that you can interact with using your mouse to rotate, zoom, highlight atoms, etc...<br>.\n",
    "The main controls are the following:\n",
    "\n",
    "* Translation: right click + drag\n",
    "* Rotation: left click + drag\n",
    "* Z-axis rotation: Ctrl + right click + drag\n",
    "* Zoom: scroll wheel\n",
    "* Center view: left click on the desired atom (or its representation)\n"
   ]
  },
  {
   "cell_type": "markdown",
   "metadata": {
    "slideshow": {
     "slide_type": "subslide"
    }
   },
   "source": [
    "Sometimes you might be interested in saving a particular visualization (e.g. to create a figure). You can do this using the same **view** class:"
   ]
  },
  {
   "cell_type": "code",
   "execution_count": null,
   "metadata": {},
   "outputs": [],
   "source": [
    "view.render_image(trim=True, factor=4)"
   ]
  },
  {
   "cell_type": "markdown",
   "metadata": {
    "slideshow": {
     "slide_type": "subslide"
    }
   },
   "source": [
    "In this case we used the \"Trim\" keyword to crop the image precisely around the peptide, and the \"factor\" keyword to control the quality of the image. Note that if you change the visualization in the interactive widget (e.g. by rotating the peptide above) and then run the render_image method again, a new updated image is generated! This is very handy for a quick rendering of pdb files."
   ]
  },
  {
   "cell_type": "markdown",
   "metadata": {
    "slideshow": {
     "slide_type": "subslide"
    }
   },
   "source": [
    "NGLView can also be very handy to quickly view distances, angles and dihedrals.<br>\n",
    "1. Right-click on a single atom and a green sphere will appear on the atom.\n",
    "2. Right-click on a second atom, so that a second sphere appears. You can repeat this procedure for up to four atoms.\n",
    "3. Right-click one more time on the last selected atom to terminate the selection.\n",
    "4. If you chose two atoms the distance in Å between the two will appear with a dashed connecting line.\n",
    "5. If you chose three atoms, the angle in degrees (°) between the three will appear.\n",
    "6. If you chose four atoms, the dihedral angle in degrees (°) will appear.\n",
    "7. To remove a distance/angle/dihedral representation, repeat the steps above on the selected atoms.\n",
    "\n",
    "**TRY YOURSELF!**"
   ]
  },
  {
   "cell_type": "markdown",
   "metadata": {
    "slideshow": {
     "slide_type": "subslide"
    }
   },
   "source": [
    "Note that NGLView works both on local files and on PDB indentifiers: it can fetch and visualize a given PDB file for you, so that you don't need to download it beforehand. Just enter the PDB ID for the entry as in the example below:"
   ]
  },
  {
   "cell_type": "code",
   "execution_count": null,
   "metadata": {
    "slideshow": {
     "slide_type": "-"
    }
   },
   "outputs": [],
   "source": [
    "view2 = nv.show_pdbid(\"1jff\")\n",
    "view2"
   ]
  },
  {
   "cell_type": "markdown",
   "metadata": {
    "slideshow": {
     "slide_type": "subslide"
    }
   },
   "source": [
    "NGLView also allows you to customize the visualization (representations of atoms, colors, etc.) in many ways. Let's see a few examples (see the NGLView documentation for an exhaustive list)"
   ]
  },
  {
   "cell_type": "code",
   "execution_count": null,
   "metadata": {},
   "outputs": [],
   "source": [
    "view2.add_surface()"
   ]
  },
  {
   "cell_type": "markdown",
   "metadata": {},
   "source": [
    "<div class=\"alert alert-block alert-warning\"> <b>CAREFUL:</b> Notice how running the above command without calling again \"view2\" at the end actually changed the visualzation in the widget above! There is no need to create a new NGLView widget every time you change the representation!<br>\n",
    "We can just keep working on the same widget. </div><br>\n",
    "Let's see a couple more examples:"
   ]
  },
  {
   "cell_type": "code",
   "execution_count": null,
   "metadata": {
    "slideshow": {
     "slide_type": "subslide"
    }
   },
   "outputs": [],
   "source": [
    "# Let's make some changes:\n",
    "# Quick reset:\n",
    "view2.clear_representations()\n",
    "# New surface, with a wireframe:\n",
    "view2.add_surface(color='blue', wireframe=True, opacity=0.2, isolevel=3.)\n",
    "# Some sweet licorice:\n",
    "view2.add_representation('licorice', selection='not hydrogen and not protein') # Only ligands will be licorice!\n",
    "# Add some cartoon back:\n",
    "view2.add_representation('cartoon', selection='protein', color='green')"
   ]
  },
  {
   "cell_type": "markdown",
   "metadata": {},
   "source": [
    "Pretty cool stuff huh?<br>\n",
    "Actually, there are many more things you can do with NGLView, especially if you pair it to other tools that deal with molecular dynamics trajectories in Python (e.g. Pytraj, MDAnalysis,...). We will not discuss these tools here, since these are a bit more advanced topics.<br>\n"
   ]
  },
  {
   "cell_type": "markdown",
   "metadata": {
    "slideshow": {
     "slide_type": "subslide"
    }
   },
   "source": [
    "The <b><u>take-home message</b></u> here is that NGLView is a really handy tool to have a quick look at molecular systems within interactive python sessions. As you have seen, it can be really useful to have a python/Colab notebook where you perform data analysis, create the plots, and also view the molecular systems, all in the same workspace.<br>"
   ]
  },
  {
   "cell_type": "markdown",
   "metadata": {
    "slideshow": {
     "slide_type": "subslide"
    }
   },
   "source": [
    "**However...**"
   ]
  },
  {
   "cell_type": "markdown",
   "metadata": {
    "slideshow": {
     "slide_type": "fragment"
    }
   },
   "source": [
    "Many times it is much quicker to use **Visual Molecular Dynamics (VMD)** to look at pdb files and trajectories. Don't be fooled by its rather \"vintage\"-looking user interface! This piece of software is remarkably powerful to view MD data and to create high-quality renderings!<br>"
   ]
  },
  {
   "cell_type": "markdown",
   "metadata": {},
   "source": [
    "Let's see it in action with a quick demo"
   ]
  }
 ],
 "metadata": {
  "celltoolbar": "Slideshow",
  "kernelspec": {
   "display_name": "Python 3 (ipykernel)",
   "language": "python",
   "name": "python3"
  },
  "language_info": {
   "codemirror_mode": {
    "name": "ipython",
    "version": 3
   },
   "file_extension": ".py",
   "mimetype": "text/x-python",
   "name": "python",
   "nbconvert_exporter": "python",
   "pygments_lexer": "ipython3",
   "version": "3.8.13"
  },
  "toc": {
   "base_numbering": 1,
   "nav_menu": {},
   "number_sections": false,
   "sideBar": true,
   "skip_h1_title": false,
   "title_cell": "Table of Contents",
   "title_sidebar": "Contents",
   "toc_cell": false,
   "toc_position": {
    "height": "calc(100% - 180px)",
    "left": "10px",
    "top": "150px",
    "width": "384px"
   },
   "toc_section_display": true,
   "toc_window_display": false
  },
  "vscode": {
   "interpreter": {
    "hash": "9d2bd68a915523ce9e58622534b3a76c58e4a7336a823b0a8d0a3a702133fc2d"
   }
  }
 },
 "nbformat": 4,
 "nbformat_minor": 2
}
