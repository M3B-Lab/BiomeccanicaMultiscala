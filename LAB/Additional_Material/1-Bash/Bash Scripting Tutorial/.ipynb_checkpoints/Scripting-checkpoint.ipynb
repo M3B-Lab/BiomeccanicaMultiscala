{
 "cells": [
  {
   "cell_type": "markdown",
   "metadata": {
    "id": "H9zhZGBy_WPW"
   },
   "source": [
    "Sulla base di quanto visto nella precedente sezione del tutorial, affronteremo adesso un nuovo argometo: la realizzazione di uno **script** in bash."
   ]
  },
  {
   "cell_type": "markdown",
   "metadata": {
    "id": "-08uzWpMpKlW"
   },
   "source": [
    "#**SCRIPTING IN BASH**\n",
    "****\n",
    "Un **BASH SCRIPT** non è altro che un file contenente una serie di istruzioni che vengono eseguite in ordine dalla prima all'ultima. Una volta realizzzato lo script è quindi sufficiente lanciarlo da linea di comando per eseguire tutte le istruzioni contenute al suo interno. \n",
    "\n",
    "E' particolarmente utile quando si devono svolgere operazioni molto ripetitive. Risulta più veloce che eseguire uno per uno tutti i singoli comandi e, in più, riduce il rischio di commettere errori. \n",
    "\n",
    "Esistono diversi modi per realizzare un bash script."
   ]
  },
  {
   "cell_type": "markdown",
   "metadata": {
    "id": "968x-VpYzgCw"
   },
   "source": [
    "**Esempio 1**:"
   ]
  },
  {
   "cell_type": "code",
   "execution_count": null,
   "metadata": {
    "id": "qRK7L47vzkjf"
   },
   "outputs": [],
   "source": [
    "%%bash\n",
    "vi filename.sh   # il comando vi permette di creare uno script all'interno del \n",
    "                 # quale è possibile inserire tutte le istruzioni che si \n",
    "                 # vogliono eseguire\n",
    "\n",
    "chmod +x filename.sh    # è il comando necessario ad attivare lo script. Se non\n",
    "                        # si esegue, al momento di richiamare lo script da linea\n",
    "                        # di comando comparirà l'errore \n",
    "                        # \"-bash: ./filename:Permission denied\"\n",
    "\n",
    "./filename.sh       # ./ è il comando che permette di eseguire lo script\n",
    "\n"
   ]
  },
  {
   "cell_type": "markdown",
   "metadata": {
    "id": "Jsh143aI1UaI"
   },
   "source": [
    "**Esempio 2**:"
   ]
  },
  {
   "cell_type": "code",
   "execution_count": null,
   "metadata": {
    "id": "fL64_YjF1ThX"
   },
   "outputs": [],
   "source": [
    "%%bash\n",
    "cat > filename.sh    # il comando 'cat >' seguito dal nome del file, permette di\n",
    "                     # creare uno script, cioè di scrivere una serie di\n",
    "                     # comandi che non vengono però eseguiti subito ma salvati \n",
    "                     # nel file filename.sh\n",
    "                     # Per poter uscire dalla modalità di scrittura è necessario\n",
    "                     # premere Ctrl+D\n",
    "\n",
    "chmod u+x filename.sh   # serve a rendere lo script eseguibile\n",
    "sudo chmod 777 filename.sh  # anche questo comando permette di rendere \n",
    "                            # eseguibile lo script, ma per utilizzarlo è \n",
    "                            # necessario che nella prima riga dello script \n",
    "                            # compaia ' #!/bin/bash ', in più, essendo un \n",
    "                            # comando sudo vi richiederà\n",
    "                            # la password per poterlo eseguire\n",
    "\n",
    "bash filename.sh    # 'bash' è il comando per esguire lo script\n",
    "                    # E' possibile utilizzare in alternativa anche il comando \n",
    "                    # ' ./ ' per lanciare lo script"
   ]
  },
  {
   "cell_type": "markdown",
   "metadata": {
    "id": "OQPX49M1931T"
   },
   "source": [
    "Un altro comando molto utile nell'ambito dello scripting é **nano**.\n",
    "Permette di accedere al file script e modificarlo, potendosi muovere liberamete avanti e indietro tra le righe e i vari comandi. "
   ]
  },
  {
   "cell_type": "code",
   "execution_count": null,
   "metadata": {
    "id": "vEQtDvx849Lk"
   },
   "outputs": [],
   "source": [
    "%%bash\n",
    "nano filename.sh   # per poter uscire dallo script una volta termite le \n",
    "                   # modifiche premere Ctrl+X poi premere Y per salvare le \n",
    "               # modifiche o N in caso contrario infine premere il tasto \n",
    "               # Enter una volta usciti lo script risulta nuovamente eseguibile"
   ]
  },
  {
   "cell_type": "markdown",
   "metadata": {
    "id": "Z6dpL2ZyPOm_"
   },
   "source": [
    "Sul terminale si aprirà quindi l'editor testuale con il contenuto del file, la prima riga di uno script è dedicata all'interprete da utilizzare (L'interprete è il programma del sistema operativo che legge, interpreta i comandi dello script e li esegue), in questo caso andrà quindi scritto ` #!/bin/sh `. Posso quindi inserire i comandi che saranno poi eseguiti. Una volta terminato di scrivere, salvo le modifiche al file con CTRL+O ed esco dall'editor con CTRL+X. \n",
    "Adesso quindi, come nei casi precedenti, devo rendere lo script eseguibile (` chmod +x filename.sh  `), ed eseguirlo (` ./filename.sh `)"
   ]
  },
  {
   "cell_type": "markdown",
   "metadata": {
    "id": "TNyVJVUYBRQF"
   },
   "source": [
    "Seguono alcune strutture molto utili per la realizzazione di scripts: **IF STATEMENTS** e **LOOPS**."
   ]
  },
  {
   "cell_type": "markdown",
   "metadata": {
    "id": "MdhY9Pbyhm_g"
   },
   "source": [
    "**IF STATEMENTS**\n",
    "****\n",
    "Il comando **if** può essere molto utile all'interno di uno script perchè permette di realizzare una serie di istruzioni solo se è verificata una certa condizione. "
   ]
  },
  {
   "cell_type": "code",
   "execution_count": null,
   "metadata": {
    "id": "qYKrihmoibAI"
   },
   "outputs": [],
   "source": [
    "# esempio di sintassi di un if statements\n",
    "%%bash \n",
    "\n",
    "n=12\n",
    "if [ n -gt 10 ]                    # la condizione da verificare deve essere \n",
    "                                   # posta tra parentesi [] facendo attenzione a \n",
    "                                   # rispettare gli spazi\n",
    "do\n",
    "echo n è maggiore di 10            # istruzione da eseguire se la condizione è \n",
    "                                   # verificata\n",
    "\n",
    "else echo n è minore di 10         # istruzione da eseguire se la condizione \n",
    "                                   # non è verificata\n",
    "\n",
    "fi                                 # è necessario ricordarsi di chiudere l'if \n",
    "                                   # con il comando 'fi'"
   ]
  },
  {
   "cell_type": "markdown",
   "metadata": {
    "id": "RhKa3TwotTjg"
   },
   "source": [
    "Di seguito alcuni operatori di confronto che vengono utilizzati per imporre le condizioni degli if statement, ma anche di cicli while e until"
   ]
  },
  {
   "cell_type": "markdown",
   "metadata": {
    "id": "mwwzH_UItdtq"
   },
   "source": [
    "Confronto di interi"
   ]
  },
  {
   "cell_type": "code",
   "execution_count": null,
   "metadata": {
    "id": "_P7WJMOyti4_"
   },
   "outputs": [],
   "source": [
    "if [ \"$a\" -eq \"$b\" ]                                   # -eq --> è uguale a\n",
    "if [ \"$a\" -ne \"$b\" ]                                   # -ne --> è diverso da\n",
    "if [ \"$a\" -gt \"$b\" ] oppure if (( \"$a\" > \"$b\" ))  # -gt --> è maggiore di\n",
    "if [ \"$a\" -ge \"$b\" ] oppure if (( \"$a\" >= \"$b\" )) # -ge --> è maggiore o uguale a\n",
    "if [ \"$a\" -lt \"$b\" ] oppure if (( \"$a\" < \"$b\" ))  # -lt --> è minore di \n",
    "if [ \"$a\" -le \"$b\" ] oppure if (( \"$a\" <= \"$b\" )) # -le --> è minore o uguale a"
   ]
  },
  {
   "cell_type": "markdown",
   "metadata": {
    "id": "YjvxPcQlvnOw"
   },
   "source": [
    "Confronto di stringhe"
   ]
  },
  {
   "cell_type": "code",
   "execution_count": null,
   "metadata": {
    "id": "ZHw-ZatstYth"
   },
   "outputs": [],
   "source": [
    "if [ \"$a\" = \"$b\"]  oppure   if [ \"$a\" == \"$b\"]         # uguale a\n",
    "if [ \"$a\" != \"$b\"]                                     # diverso da"
   ]
  },
  {
   "cell_type": "markdown",
   "metadata": {
    "id": "LacsH9VVw-9M"
   },
   "source": [
    "**LOOPS**\n",
    "****"
   ]
  },
  {
   "cell_type": "markdown",
   "metadata": {
    "id": "JUFZlfuBLRjj"
   },
   "source": [
    "Il ciclo **FOR** può essere utilizzato per realizzare operazioni ripetitive, come ad esempio l'analisi di tutti i file presenti all'interno di una cartella. "
   ]
  },
  {
   "cell_type": "code",
   "execution_count": null,
   "metadata": {
    "id": "f27zAEJiMRFw"
   },
   "outputs": [],
   "source": [
    "# esempio di sintassi ciclo for\n",
    "%%bash\n",
    "\n",
    "for file in $(ls)         # ciò che segue il 'for' indica per quali elementi \n",
    "                          # eseguire le istruzioni contenute \n",
    "                          # all'interno del ciclo\n",
    "do\n",
    "....                      # dopo il 'do' vanno inseriti i comandi da eseguire \n",
    "                          # sulle variabili nella lista\n",
    "\n",
    "done                      # indica il termine del ciclo "
   ]
  },
  {
   "cell_type": "markdown",
   "metadata": {
    "id": "WkqK1gHxNgzQ"
   },
   "source": [
    "Il ciclo **WHILE** può essere usato per realizzare una serie di istruzioni fino a quando risulti vericata una certa condizione. Nel momento in cui la condizione definita dal 'while' non risulta più vera, esce direttamente dal ciclo e procede con i comandi successivi"
   ]
  },
  {
   "cell_type": "code",
   "execution_count": null,
   "metadata": {
    "id": "Y5YTsiU0OAe1"
   },
   "outputs": [],
   "source": [
    "# esempio di sintassi ciclo while\n",
    "%%bash\n",
    "\n",
    "a=0\n",
    "while [ \"$a\" -lt 5 ]           # il 'while' è seguito dalla condizione tra [] \n",
    "do\n",
    "((a++))                        # dopo 'do' vengono inserite le istruzioni da eseguire all'interno el ciclo\n",
    "done                           # termina il ciclo\n",
    "echo $a"
   ]
  },
  {
   "cell_type": "markdown",
   "metadata": {
    "id": "sD9St4UFINoc"
   },
   "source": [
    "**COMANDO *READ* IN BASH SU COLAB**\n",
    "****\n",
    "Il comando **read**, come abbiamo visto, può essere utilizzato per acquisire dati in input forniti direttamente dall'utente e salvarli in una specifica variabile. \n",
    "Esempio:"
   ]
  },
  {
   "cell_type": "code",
   "execution_count": null,
   "metadata": {
    "id": "gfI8l3TzIu9q"
   },
   "outputs": [],
   "source": [
    "%%bash\n",
    "echo Inserire due numeri: \n",
    "read -r a b\n"
   ]
  },
  {
   "cell_type": "markdown",
   "metadata": {
    "id": "-cr_h_DkKiAb"
   },
   "source": [
    "Se provaste ad eseguire questo codice sul vostro terminale linux, vedreste che funziona correttamente e salva i due numeri da voi inseriti nelle variabili a e b.\n",
    "\n",
    "Eseguendo, invece, la cella su colab, le cose non vanno altrettamento bene.\n",
    "Questo avviene perchè i comandi bash vengono eseguiti in una subshell su colab, perciò questa modalità interattiva non funziona.\n",
    "\n",
    "Per poter sfruttare comunque il comando read, è necessario creare prima uno script all'interno di una cella e poi eseguirlo in una cella separata. \n",
    "\n",
    "Lo stesso vale nel caso in cui si vogliano passare i parametri direttamenti da linea di comando, su Colab è necessario scrivere uno script e poi eseguirlo in una cella separata (**!bash nomefile.sh parametro_1 parametro_2**) (Vedi esercizio 1)\n",
    "\n",
    "\n",
    "\n",
    "**ATTENZIONE**: la sintassi del comando read è leggermente diversa in questa modalità\n",
    "\n",
    "Ecco come fare:"
   ]
  },
  {
   "cell_type": "code",
   "execution_count": null,
   "metadata": {
    "id": "tboVEV51MEKw"
   },
   "outputs": [],
   "source": [
    "%%bash                                         \n",
    "echo \"#!/bin/bash                           \n",
    "read -p 'insert a number ' var\n",
    "echo You have inserted \\$var \" > file.sh\n",
    "\n",
    "# Con il comando #!/bin/bash si crea lo scritp\n",
    "# Tutti i comandi contenuti nello script devono essere messi tra \"\"\n",
    "# Al termine dello script si usa > filename.sh per salvarlo all'interno si un file script\n",
    "# che potrà essere richiamato in qualsiasi momento da un'altra cella"
   ]
  },
  {
   "cell_type": "code",
   "execution_count": null,
   "metadata": {
    "id": "wXsvl5_UNn3V"
   },
   "outputs": [],
   "source": [
    "!bash file.sh"
   ]
  },
  {
   "cell_type": "markdown",
   "metadata": {
    "id": "l1BxegZvUZVz"
   },
   "source": [
    "Il comando **!bash filename.sh** permette di lanciare lo script precedentemetne definito ed eseguito."
   ]
  },
  {
   "cell_type": "markdown",
   "metadata": {
    "id": "7Y0RS4Ne7pJr"
   },
   "source": [
    "**FILE .PDB**\n",
    "***\n",
    "Un file PDB descrive la struttura tridimensionale di una proteina contenuta nel Protein Data Bank. Inoltre contiene tutta una serie di informazioni secondarie inserite all'inizio come intestazione (\"HEADER\"). Questa parte include delle informazioni sugli autori della ricerca che hanno determinato la struttura della proteina, alcune osservazioni sperimentali o anche l'elenco degli amminoacidi di cui è composta.\n",
    "\n",
    "La parte principale, nonché la più estesa, resta comunque l'elenco degli atomi di cui la proteina è composta. Per ogni atomi sono indicate tutta una serie di informazioni tra cui:\n",
    "\n",
    "* le coordinate spaziali (x, y, z)\n",
    "* il nome e il numero del residuo a cui appartengono\n",
    "* la rispettiva catena (utile nel caso di proteina con struttura quaternaria)\n",
    "* un fattore di temperatura (che che descrive la loro vibrazioni)\n",
    "* il nome dell'atomo, molto utile per studiare atomi specifici come il carbonio α (indicato con CA)\n"
   ]
  },
  {
   "cell_type": "markdown",
   "metadata": {
    "id": "sv939m5_aik0"
   },
   "source": [
    "##ESERCIZI SCRIPT"
   ]
  },
  {
   "cell_type": "markdown",
   "metadata": {
    "id": "nWGEuJ8Qc5fa"
   },
   "source": [
    "Di seguito sono stati inseriti alcuni esercizi che è possibile svolgere per applicare quanto spiegato nella prima parte del tutorial.\n",
    "\n",
    "**ATTENZIONE**: Per poter eseguire le celle è sufficiente eseguire la cella sottostante per caricare temporaneamente i file e le cartelle necessarie su colab"
   ]
  },
  {
   "cell_type": "code",
   "execution_count": 1,
   "metadata": {
    "colab": {
     "base_uri": "https://localhost:8080/"
    },
    "executionInfo": {
     "elapsed": 1095,
     "status": "ok",
     "timestamp": 1654605481723,
     "user": {
      "displayName": "Elisa Bruatto",
      "userId": "01387496138314736340"
     },
     "user_tz": -120
    },
    "id": "5zG2u7RDPQlV",
    "outputId": "836c763b-e7ba-4c2d-f51b-44658cd5f435"
   },
   "outputs": [
    {
     "name": "stderr",
     "output_type": "stream",
     "text": [
      "--2022-06-07 12:37:59--  https://files.rcsb.org/download/1YZB.pdb\n",
      "Resolving files.rcsb.org (files.rcsb.org)... 128.6.158.70\n",
      "Connecting to files.rcsb.org (files.rcsb.org)|128.6.158.70|:443... connected.\n",
      "HTTP request sent, awaiting response... 200 OK\n",
      "Length: unspecified [application/octet-stream]\n",
      "Saving to: ‘1YZB.pdb’\n",
      "\n",
      "     0K .......... .......... .......... .......... .......... 1.30M\n",
      "    50K .......... .......... .......... .......... .......... 2.63M\n",
      "   100K .......... .......... .......... .......... .......... 30.3M\n",
      "   150K .......... .......... .......... .......... .......... 36.8M\n",
      "   200K .......... .......... .......... .......... .......... 2.65M\n",
      "   250K .......... .......... .......... .......... .......... 56.8M\n",
      "   300K .......... .......... .......... .......... .......... 47.1M\n",
      "   350K .......... .......... .......... .......... .......... 38.1M\n",
      "   400K .......... .......... .......... .......... .......... 3.17M\n",
      "   450K .......... .......... .......... .......... .......... 36.6M\n",
      "   500K .......... .......... .......... .......... .......... 43.7M\n",
      "   550K .......... .......... .......... .......... .......... 43.1M\n",
      "   600K .......... .......... .......... .......... .......... 37.2M\n",
      "   650K .......... .......... .......... .......... .......... 42.7M\n",
      "   700K .......... .......... .......... .......... .......... 19.9M\n",
      "   750K .......... .......... .......... .......... .......... 46.4M\n",
      "   800K .......... .......... .......... .......... .......... 6.95M\n",
      "   850K .......... .......... .......... .......... .......... 17.7M\n",
      "   900K .......... .......... .......... .......... .......... 35.9M\n",
      "   950K .......... .......... .......... .......... .......... 39.1M\n",
      "  1000K .......... .......... .......... .......... .......... 39.4M\n",
      "  1050K .......... .......... .......... .......... .......... 47.1M\n",
      "  1100K .......... .......... .......... .......... ..........  117M\n",
      "  1150K .......... .......... .......... .......... .......... 60.5M\n",
      "  1200K .......... .......... .......... .......... .......... 92.3M\n",
      "  1250K .......... .......... .......... .......... ..........  125M\n",
      "  1300K .......... .......... .......... .......... .......... 61.9M\n",
      "  1350K .......... .......... .......... .......... ..........  100M\n",
      "  1400K .......... .......... .......... .......... .......... 93.0M\n",
      "  1450K .......... .......... .......... .......... ..........  108M\n",
      "  1500K .......... .......... .......... .......... ..........  193M\n",
      "  1550K .......... .......... .......... .......... ..........  140M\n",
      "  1600K .......... .......... .......... .......... ..........  143M\n",
      "  1650K .......... .......... .......... .......... ..........  206M\n",
      "  1700K .......... .......... .......... .......... .......... 6.80M\n",
      "  1750K .......... .......... .......... .......... .......... 38.0M\n",
      "  1800K .......... .......... .......... .......... .......... 44.1M\n",
      "  1850K .......... .......... .......... .......... .......... 83.1M\n",
      "  1900K .......... .......... .......... .......... .......... 88.3M\n",
      "  1950K .......... .......... .......... .......... .......... 67.1M\n",
      "  2000K .......... .......... .......... .......... .......... 98.3M\n",
      "  2050K .......... .......... .......... .......... .......... 90.9M\n",
      "  2100K .......... .......... .......... .......... ..........  147M\n",
      "  2150K .......... .......... .......... .......... ..........  137M\n",
      "  2200K .......... .......... .......... .......... ..........  120M\n",
      "  2250K .......... .......... .......... .......... ..........  156M\n",
      "  2300K .......... .......... ........                          118M=0.1s\n",
      "\n",
      "2022-06-07 12:37:59 (16.2 MB/s) - ‘1YZB.pdb’ saved [2384478]\n",
      "\n",
      "--2022-06-07 12:37:59--  https://files.rcsb.org/download/7MCI.pdb\n",
      "Resolving files.rcsb.org (files.rcsb.org)... 128.6.158.70\n",
      "Connecting to files.rcsb.org (files.rcsb.org)|128.6.158.70|:443... connected.\n",
      "HTTP request sent, awaiting response... 200 OK\n",
      "Length: unspecified [application/octet-stream]\n",
      "Saving to: ‘7MCI.pdb’\n",
      "\n",
      "     0K .......... .......... .......... .......... .......... 1.25M\n",
      "    50K .......... .......... .......... .......... .......... 2.60M\n",
      "   100K .......... .......... .......... .......... .......... 69.2M\n",
      "   150K .......... .......... .......... .......... ..........  101M\n",
      "   200K .......... .......... .......... .......... .......... 2.63M\n",
      "   250K .......... .......... .......... .......... .......... 99.5M\n",
      "   300K .......... .......... .......... .......... .......... 2.60M\n",
      "   350K .......... .......... .......... .......... .......... 48.0M\n",
      "   400K .......... .......... .......... .......... .......... 93.5M\n",
      "   450K .......... .......... .......... .......... .......... 41.3M\n",
      "   500K .......... .......... .......... .......... .......... 36.3M\n",
      "   550K .......... .......... .......... .......... .......... 57.3M\n",
      "   600K .......... .......... .......... .......... .......... 48.4M\n",
      "   650K .......... .......... .......... .......... .......... 3.40M\n",
      "   700K .......... .......... .......... .......... .......... 44.9M\n",
      "   750K .......... .......... .......... .......... .......... 47.4M\n",
      "   800K .......... .......... .......... .......... .......... 47.7M\n",
      "   850K .......... .......... .......... .......... ..........  109M\n",
      "   900K .......... .......... .......... .......... .......... 73.0M\n",
      "   950K .......... .......... .......... .......... ..........  114M\n",
      "  1000K .......... .......... .......... .......... ..........  112M\n",
      "  1050K .......... .......... .......... .......... ..........  236M\n",
      "  1100K .......... .......... .......... .......... ..........  194M\n",
      "  1150K .......... .......... .......... .......... ..........  161M\n",
      "  1200K .......... .......... .......... .......... ..........  199M\n",
      "  1250K .......... .......... .......... .......... ..........  204M\n",
      "  1300K .......... .......... .......... .......... .......... 4.25M\n",
      "  1350K .......... .......... .......... .......... .......... 29.4M\n",
      "  1400K .......... .......... .......... .......... .......... 56.9M\n",
      "  1450K .......... .......... .......... .......... .......... 17.2M\n",
      "  1500K .......... .......... .......... .......... .......... 92.8M\n",
      "  1550K .......... .......... .......... .......... .......... 39.0M\n",
      "  1600K .......... .......... .......... .......... .......... 97.5M\n",
      "  1650K .......... .......... .......... .......... .......... 74.1M\n",
      "  1700K .......... .......... .......... .......... ..........  125M\n",
      "  1750K .......... .......... .......... .......... .......... 20.2M\n",
      "  1800K .......... .......... .......... .......... ..........  108M\n",
      "  1850K .......... .......... .......... .......... ..........  105M\n",
      "  1900K .......... .......... .......... .......... ..........  116M\n",
      "  1950K .......... .......... .......... .......... ..........  117M\n",
      "  2000K .......... .......... .......... .......... ..........  112M\n",
      "  2050K .......... .......... .......... .......... .......... 6.96M\n",
      "  2100K .......... .......... .......... .......... .......... 98.8M\n",
      "  2150K .......... .......... .......... .......... ..........  109M\n",
      "  2200K .......... .......... .......... .......... .......... 97.6M\n",
      "  2250K .......... .......... .......... .......... ..........  108M\n",
      "  2300K .......... .......... .......... .......... ..........  134M\n",
      "  2350K .......... .......... .......... .......... ..........  115M\n",
      "  2400K .......... .......... .......... .......... ..........  114M\n",
      "  2450K .......... .......... .......... .......... ..........  117M\n",
      "  2500K .......... .......... .......... .......... ..........  111M\n",
      "  2550K .......... .......... .......... .......... ..........  115M\n",
      "  2600K .......... .......... .......... .......... ..........  110M\n",
      "  2650K .......... .......... .......... .......... ..........  140M\n",
      "  2700K .......... .......... .......... .......... ..........  117M\n",
      "  2750K ......                                                 94.9M=0.2s\n",
      "\n",
      "2022-06-07 12:37:59 (16.7 MB/s) - ‘7MCI.pdb’ saved [2822688]\n",
      "\n",
      "--2022-06-07 12:37:59--  https://files.rcsb.org/download/7WN4.pdb\n",
      "Resolving files.rcsb.org (files.rcsb.org)... 128.6.158.70\n",
      "Connecting to files.rcsb.org (files.rcsb.org)|128.6.158.70|:443... connected.\n",
      "HTTP request sent, awaiting response... 200 OK\n",
      "Length: unspecified [application/octet-stream]\n",
      "Saving to: ‘7WN4.pdb’\n",
      "\n",
      "     0K .......... .......... .......... .......... .......... 1.36M\n",
      "    50K .......... .......... .......... .......... .......... 2.74M\n",
      "   100K .......... .......... .......... .......... .......... 44.1M\n",
      "   150K .......... .......... .......... .......... ..........  106M\n",
      "   200K .......... .......... .......... .......... .......... 2.76M\n",
      "   250K .......... .......... .......... .......... .......... 58.2M\n",
      "   300K .......... .......... .......... .......... .......... 39.9M\n",
      "   350K .......... .......... .......... .......... .......... 41.8M\n",
      "   400K .......... .......... .......... .......... .......... 3.30M\n",
      "   450K .......... .......... .......... .......... .......... 43.2M\n",
      "   500K .......... .......... .......... .......... .......... 40.4M\n",
      "   550K .......... .......... .......... .......... .......... 42.8M\n",
      "   600K .......... .......... .......... .......... .......... 36.8M\n",
      "   650K .......... .......... .......... .......... .......... 34.2M\n",
      "   700K .......... .......... .......... .......... .......... 16.1M\n",
      "   750K .......... .......... .......... .......... .......... 18.1M\n",
      "   800K .......... .......... .......... .......... .......... 7.42M\n",
      "   850K .......... .......... .......... .......... ..........  108M\n",
      "   900K .......... .......... .......... .......... ..........  104M\n",
      "   950K .......... .......... .......... .......... ..........  142M\n",
      "  1000K .......... .......... .......... .......... ..........  141M\n",
      "  1050K .......... .......... .......... .......... ..........  155M\n",
      "  1100K .......... .......... .......... .......... ..........  148M\n",
      "  1150K .......... .......... .......... .......... ..........  138M\n",
      "  1200K .......... .......... .......... .......... ..........  115M\n",
      "  1250K .......... .......... .......... .......... ..........  139M\n",
      "  1300K .......... .......... .......... .......... ..........  156M\n",
      "  1350K .......... .......... .......... .......... ..........  142M\n",
      "  1400K .......... .......... .......... .......... ..........  124M\n",
      "  1450K .......... .......... .......... .......... ..........  123M\n",
      "  1500K .......... .......... .......... .......... ..........  109M\n",
      "  1550K .....                                                   138M=0.1s\n",
      "\n",
      "2022-06-07 12:38:00 (13.2 MB/s) - ‘7WN4.pdb’ saved [1592865]\n",
      "\n",
      "--2022-06-07 12:38:00--  https://files.rcsb.org/download/7TZ4.pdb\n",
      "Resolving files.rcsb.org (files.rcsb.org)... 128.6.158.70\n",
      "Connecting to files.rcsb.org (files.rcsb.org)|128.6.158.70|:443... connected.\n",
      "HTTP request sent, awaiting response... 200 OK\n",
      "Length: unspecified [application/octet-stream]\n",
      "Saving to: ‘7TZ4.pdb’\n",
      "\n",
      "     0K .......... .......... .......... .......... .......... 1.29M\n",
      "    50K .......... .......... .......... .......... .......... 2.65M\n",
      "   100K .......... .......... .......... .......... .......... 35.7M\n",
      "   150K .......... .......... .......... .......... .......... 37.0M\n",
      "   200K .......... .......... .......... .......... .......... 2.89M\n",
      "   250K .......... .......... .......... .......... .......... 87.0M\n",
      "   300K .......... .......... .......... .......... .......... 56.2M\n",
      "   350K .......... .......... .......... .......... .......... 81.7M\n",
      "   400K .......... .......... .......... .......... .......... 2.93M\n",
      "   450K .......... .......... .......... .......... .......... 33.5M\n",
      "   500K .......... .......... .......... .......... .......... 36.8M\n",
      "   550K .......... .......... .......... .......... .......... 42.4M\n",
      "   600K .......... .......... .......... .......... .......... 38.2M\n",
      "   650K .......... .......... .......... .......... .......... 41.4M\n",
      "   700K .......... ..                                          34.6M=0.1s\n",
      "\n",
      "2022-06-07 12:38:00 (6.87 MB/s) - ‘7TZ4.pdb’ saved [729648]\n",
      "\n"
     ]
    }
   ],
   "source": [
    "#@title Cella da eseguire per caricare i file \n",
    "# Cella da eseguire per caricare i file \n",
    "# necessari per svolgere gli esercizi successivi\n",
    "%%bash\n",
    "! wget https://files.rcsb.org/download/1YZB.pdb\n",
    "! wget https://files.rcsb.org/download/7MCI.pdb\n",
    "! wget https://files.rcsb.org/download/7WN4.pdb\n",
    "! wget https://files.rcsb.org/download/7TZ4.pdb\n",
    "mkdir /content/studente\n"
   ]
  },
  {
   "cell_type": "markdown",
   "metadata": {
    "id": "JiLWwMSxYdBa"
   },
   "source": [
    "**ESERCIZIO 1**\n",
    "\n",
    "creare uno script che che \n",
    "quando avviato riceva da linea di comando il nome di un file da cui prendere gli atomi, il nome di un altro file su cui salvarli il nome di una coordinata e riordini gli atomi del file scelto secondo l'ordine decrescente della coordinata scelta, stampandoli sul file scelto\n",
    "\n",
    "**HINTS:** sort (-k, -nr), $N (per i corrispondeti dati inseriti all'esecuzione del programma)"
   ]
  },
  {
   "cell_type": "code",
   "execution_count": null,
   "metadata": {
    "cellView": "form",
    "id": "EKgjhZ_I1YEK"
   },
   "outputs": [],
   "source": [
    "#ESERCIZIO 1\n",
    "#@title soluzione es1\n",
    "%%bash\n",
    "echo \"#!/bin/bash\n",
    "case \\$3 in         # uso uno switch case (invece di if annidati ) per gestire  \n",
    "                   # meglio nel caso di più scelte possibili\n",
    "x)                    \n",
    "coordinata=7;;        #in base alla coordinata scelta prendo il numero della\n",
    "y)                    #colonna corrispondente \n",
    "coordinata=8;;            \n",
    "z)\n",
    "coordinata=9;;\n",
    "esac\n",
    "\n",
    "sort -k\\$coordinata -nr \\$1 > \\$2 \" > es_1.sh \n",
    "                                  #ordino il file scelto ($1) \n",
    "                                #e lo salvo nel secondo file scelto ($2)\n"
   ]
  },
  {
   "cell_type": "code",
   "execution_count": null,
   "metadata": {
    "id": "eu7GlHb813aM"
   },
   "outputs": [],
   "source": [
    "!bash es_1.sh 1YZB.pdb prova.pdb x"
   ]
  },
  {
   "cell_type": "code",
   "execution_count": null,
   "metadata": {
    "id": "0vXIbPtF-dz5"
   },
   "outputs": [],
   "source": [
    "! cat prova.pdb    # stampa il file prova.pdb per verificare che effettivamente gli atomi siano stati riordinati"
   ]
  },
  {
   "cell_type": "markdown",
   "metadata": {
    "id": "Nb7D82wY_OfN"
   },
   "source": [
    "**ESERCIZIO 2** (script)\n",
    "\n",
    "Realizzare uno script che\n",
    "\n",
    "* legga tutti i file .pdb in una cartella e stampi a video tutti i loro nomi\n",
    "*riceva in input il nome di uno di essi e il nome di un residuo\n",
    "*stampi il numero di residui totale presenti nel file e il numero del residuo scelto\n",
    "\n",
    "**HINTS**: for, ls, read, if\n"
   ]
  },
  {
   "cell_type": "code",
   "execution_count": null,
   "metadata": {
    "cellView": "form",
    "id": "tBLKo4vW_ro9"
   },
   "outputs": [],
   "source": [
    "#ESERCIZIO 2\n",
    "#@title soluzione script es2\n",
    "%%bash\n",
    "echo \"#!/bin/bash\n",
    "echo I file presenti nella cartella sono:\n",
    "for file in \\$(ls *.pdb)\n",
    "do\n",
    "    echo \\$file\n",
    "done\n",
    "read -p 'Scegliere uno dei file e digitare il nome: ' filename           #read -r filename\n",
    "read -p 'Scegliere un residuo di cui si vuole sapere quanti ne sono presenti e digitarne la sigla (tutto in maiuscolo): ' nomeresiduo #read -r nomeresiduo\n",
    "for file in \\$(ls)\n",
    "do\n",
    "  if [ \\$file = \\$filename ]\n",
    "  then \n",
    "    residui_tot=\\$(grep ^ATOM \\$filename | grep CA | sort | uniq -w 20 | wc -l )\n",
    "    residuo_scelto=\\$(cat \\$file | grep \\$nomeresiduo | grep CA | sort | uniq -w 20 | wc -l)\n",
    "  fi\n",
    "done\n",
    "echo In totale nel file \\$filename ci sono \\$residui_tot residui, di cui \\$residuo_scelto di \\$nomeresiduo \" > es_2.sh\n",
    "\n",
    "\n",
    "\n",
    "\n",
    "\n",
    "#NOTA: codice alternativo per verificare se un file è .pdb\n",
    "#tipofile=$(file -b $i)                (N.B. in $i sono contenuti i nomi dei file di una directory)\n",
    "#echo $tipofile | cut -b 1-17 >tipofile.txt\n",
    "#tipofilefinale=$(head -n 1 tipofile.txt)\n",
    "#if [ \"$tipofilefinale\" = \"Protein Data Bank\" ]"
   ]
  },
  {
   "cell_type": "code",
   "execution_count": null,
   "metadata": {
    "id": "wMqt63wFPnKy"
   },
   "outputs": [],
   "source": [
    "!bash es_2.sh"
   ]
  },
  {
   "cell_type": "markdown",
   "metadata": {
    "id": "CAkGD7JFNas6"
   },
   "source": [
    "**ESERCIZIO 3** (script)\n",
    "\n",
    "Realizzare uno script che\n",
    "\n",
    "* riceva in imput il nome di una cartella\n",
    "* legga tutti i file .pdb in una cartella\n",
    "* copi in un file chiamato \"elenco_proteine.txt\" il nome del file e il titolo della proteina contenuta al suo interno (Il titolo dalla proteina è contenuto all'interno del file)\n",
    "* conti quante proteine sono state scritte nel file e stampi a video la scritta \"Nella cartella scelta sono presenti N proteine e sono: \" con a seguito l'elenco dei file con i rispettivi titoli\n",
    "\n",
    "**HINTS**: for, ls, if, cat, echo\n"
   ]
  },
  {
   "cell_type": "code",
   "execution_count": null,
   "metadata": {
    "id": "6oDeyX6CPn8s"
   },
   "outputs": [],
   "source": [
    "#ESERCIZIO 3\n",
    "#@title soluzione es3\n",
    "%%bash \n",
    ">elenco_proteine.txt\n",
    "for file in $(ls)\n",
    "do filename=${file##*/}\n",
    "  extention=${filename##*.}\n",
    "  if [ $extention = pdb ]\n",
    "  then \n",
    "    titolo=$( cat $file | grep TITLE)\n",
    "    echo $file: $titolo >>elenco_proteine.txt \n",
    "  fi  \n",
    "done \n",
    "numeroproteine=$(cat elenco_proteine.txt | wc -l)\n",
    "echo Nella cartella ci sono $numeroproteine proteine e sono: \n",
    "cat elenco_proteine.txt"
   ]
  },
  {
   "cell_type": "markdown",
   "metadata": {
    "id": "US6YbryNSB_I"
   },
   "source": [
    "**ESERCIZIO 4** (script)\n",
    "\n",
    "Realizzare uno script che permetta di: \n",
    "\n",
    "*   leggere tutti i file presenti in una cartella.\n",
    "*   copiare tutti  i file .pdb nella directory /content/studente.\n",
    "\n",
    "*   contare il numero di residui HIS in ogni file .pdb e creare un file reshis.csv in cui deve comparire per ogni riga il nome del file ( < filename >) e il numero (< n_residues >) di residui di HIS contati.\n",
    "*   aggiornare il file minres.stat con la frase: \"< filename > has the lowest number of histidine residues equal to < rmin >\n",
    "\n",
    "**HINTS**: for, ls, if, grep, echo, cd, cat, sort, uniq\n",
    "\n",
    "E' possibile evitare di leggere tutti i file della cartella dato che  poi si selezionano solo i .pdb? Magari leggendo direttamente solo i file con l'estensione d'interesse (opzioni **ls**)\n",
    "\n",
    "\n",
    " "
   ]
  },
  {
   "cell_type": "code",
   "execution_count": null,
   "metadata": {
    "id": "6xkj2OTmqZ_U"
   },
   "outputs": [],
   "source": [
    "#ESERCIZIO 4\n",
    "#@title soluzione es4\n",
    "%%bash\n",
    "rmin=10000         #inizializzo la variabile\n",
    "> hisres.csv\n",
    "\n",
    "# mi sposto nella cartella di cui voglio leggere i file\n",
    "dir_source=/content\n",
    "dir_destination=/content/studente\n",
    "cd $dir_destination                           # mi sposto nella directory in cui poi andrò a lavorare sui file\n",
    "\n",
    "# realizzo un ciclo for per svolgere le stesse operazioni su tutti i file della cartella\n",
    "for file in $(ls $dir_source/*.pdb)        # usando ls *.pdb è possibile evitare di leggere tutti i file, \n",
    "                                                            # ma selezionare già nel for solo i file pdb\n",
    "do\n",
    "  filename=${file##*/}\n",
    "  cp $dir_source/$filename $dir_destination        #copio il file nella nuova directory\n",
    "  n_residues=$(grep ^ATOM $filename | grep HIS | grep CA | sort | uniq -w 20 | wc -l)     #seleziono solo le righe HIS poi quelle con CA, riordino e elimino le righe uguali, conto i residui\n",
    "  echo $filename , $n_residues >>hisres.csv\n",
    "      if [ $n_residues -le $rmin ]               #verifico se il numero di residui è minore di quelle del file precedente\n",
    "      then \n",
    "         rmin=$n_residues\n",
    "         echo $filename has the lowest number of histidine residues equal to $rmin > minres.csv\n",
    "      fi\n",
    " done\n",
    "\n",
    "    cat hisres.csv                   #stampo a video il contenuto dei due file generati\n",
    "    echo\n",
    "    cat minres.csv\n",
    "\n",
    "  "
   ]
  },
  {
   "cell_type": "markdown",
   "metadata": {
    "id": "VVDlMaZucrK9"
   },
   "source": [
    "**ESERCIZIO 5** (script)\n",
    "\n",
    "Realizzare uno script che\n",
    "\n",
    "*   permetta di leggere i file di una cartella la cui directory viene fornita come input dall'utente\n",
    "*   conti il numero di residui ARG e salvi nel file argres.csv il nome di ogni file con il corrispondente numero di residui mettendoli in ordine, dal file che contiene meno residui a quello che ne contiene di più.\n",
    "\n",
    "*   salvi in un secondo file xyz.pdb le coordinate degli atomi che presentano un valore di z>100. (Nel file deve comparire, per ogni riga, il numero dell'atomo, il suo nome, il residuo e le sue coordinate) \n",
    "\n",
    "es. 18 CA ARG -43.986 -34.605 1.456\n",
    "\n",
    "**HINTS**: read, echo, for, if grep, awk, sort, cat\n",
    "\n"
   ]
  },
  {
   "cell_type": "markdown",
   "metadata": {
    "id": "pY8uJb02Q_w1"
   },
   "source": [
    "*Eseguendo questa cella vi verrà chiesto di inserire il percorso della cartella di cui volete analizzare i file. Per poter procedere con l'esecuzione del programma su colab è necessario digitare **/content**. Se eseguite invece il codice sul vostro terminale linux dovrete inserire il percorso completo della cartella presente sul vistro computer.*"
   ]
  },
  {
   "cell_type": "code",
   "execution_count": null,
   "metadata": {
    "cellView": "form",
    "id": "YLKXFdfgTBjy"
   },
   "outputs": [],
   "source": [
    "#ESERCIZIO 5\n",
    "#@title soluzione script es5\n",
    "%%bash\n",
    "echo \"#!/bin/bash\n",
    "read -p 'Inserire il percorso della directory della cartella a cui si vuole accedere: ' dir_source                   # questo comando permette di acquisire come variabile un input inserito dall'utente\n",
    "cd \\$dir_source\n",
    "\n",
    ">argres.csv                         # questi comandi servono esclusivamente a svuotare i file nel caso fosse già stato eseguito lo scripts \n",
    "                                    # per evitare di mescolare i dati \n",
    ">argres.pdb\n",
    ">xyz.pdb\n",
    "\n",
    "for file in \\$(ls \\$dir_source/*.pdb)                     # ciclo for per leggere solo i file .pdb della cartella\n",
    "do\n",
    "     filename=\\${file##*/}\n",
    "     n_residues=\\$(grep ^ATOM \\$filename | grep ARG | grep CA | sort | uniq -w 20 | wc -l)\n",
    "     echo \\$filename , \\$n_residues >>argres.pdb\n",
    "     grep ^ATOM \\$filename | grep ARG | grep CA | sort | uniq -w 20 >arg.pdb\n",
    "     awk ' \\$9>100 {print \\$2 , \\$3 , \\$4 , \\$7 , \\$8 , \\$9} ' arg.pdb >>xyz.pdb    # permette di selezionare solo gli atomi legati ad un residuo di ARG che si\n",
    "                                                                   # trovano in una posizione con z>100\n",
    "sort -g argres.pdb > argres.csv                    # permette di ordinare i file \n",
    "done\n",
    "\n",
    "cat argres.csv\n",
    "echo\n",
    "cat xyz.pdb \" > es_5.sh\n",
    "\n",
    "     \n"
   ]
  },
  {
   "cell_type": "code",
   "execution_count": null,
   "metadata": {
    "id": "ENLZ0fMwWSMg"
   },
   "outputs": [],
   "source": [
    "!bash es_5.sh"
   ]
  },
  {
   "cell_type": "markdown",
   "metadata": {
    "id": "2ToBXMPhH0l_"
   },
   "source": [
    "**ESERCIZIO 6** (script)\n",
    "\n",
    "Realizzare uno script che permetta di:\n",
    "\n",
    "\n",
    "*   Chiedere all'utente quale cartella aprire e stampare a video tutti i file presenti nella cartella\n",
    "*   Chieda all'utente di inserire il nome del file da analizzare e il residuo da contare\n",
    "\n",
    "*   Verifichi che il nome del file sia stato inserito nel formato corretto e conti il numero di residui del tipo scelto\n",
    "*   Stampi a video \" Il < filename > contiene < n_residui > di < res_name> \"\n",
    "\n",
    "**HINTS**: echo, read, cd, while, grep\n",
    "\n",
    "\n"
   ]
  },
  {
   "cell_type": "markdown",
   "metadata": {
    "id": "bKW4Vm13cYyw"
   },
   "source": [
    "*Eseguendo questa cella vi verrà chiesto di inserire il percorso della cartella di cui volete analizzare i file. Per poter procedere con l'esecuzione del programma su colab è necessario digitare **/content**. Se eseguite invece il codice sul vostro terminale linux dovrete inserire il percorso completo della cartella presente sul vistro computer.*"
   ]
  },
  {
   "cell_type": "code",
   "execution_count": null,
   "metadata": {
    "id": "G6yg1icvXYD5"
   },
   "outputs": [],
   "source": [
    "#@title soluzione script es6\n",
    "%%bash\n",
    "echo \"#!/bin/bash\n",
    "read -p 'Inserire la directory della cartella a cui si vuole accedere: ' directory         # permette di acquisire una varialbile inserita in input dall'utente\n",
    "cd \\$directory\n",
    "#ls                   # stampa a video tutti i file presenti nella cartella\n",
    "read -p 'Inserire il nome del file da analizzare: ' filename\n",
    "read -p 'Inserire il nome del residuo da contare, utilizzando la sigla di tre cifre identificativa: ' res_name\n",
    "\n",
    "# ciclo while/do --> esegue il contenuto del do fino a quando non è verificata la condizione []\n",
    "while [ \\$(expr length \"\\$res_name\") -ne 3 ]       # il comando 'expr length' permette di leggere il numero di caratteri di una stringa\n",
    "                                                 # E' differente dal comando 'wc' che legge solo file come input\n",
    "do\n",
    "echo Non è stato inserito correttamente il nome del residuo\n",
    "read -p ' !!!Inserire il nome del residuo da contare, utilizzando la sigla di tre cifre identificativa: ' res_name\n",
    "done\n",
    "\n",
    "\n",
    "n_residues=\\$(grep ATOM \\$filename | grep \\$res_name | sort | uniq -w 20 | wc -l)\n",
    "echo In \\$filename there are \\$n_residues residues of \\$res_name \" > es_6.sh\n"
   ]
  },
  {
   "cell_type": "code",
   "execution_count": null,
   "metadata": {
    "id": "-4Z37XvaXoY5"
   },
   "outputs": [],
   "source": [
    "!bash es_6.sh"
   ]
  },
  {
   "cell_type": "markdown",
   "metadata": {
    "id": "4CDzDICCPjsh"
   },
   "source": [
    "Alcune celle utili:"
   ]
  },
  {
   "cell_type": "code",
   "execution_count": null,
   "metadata": {
    "id": "rrRmJ-dUgGzO"
   },
   "outputs": [],
   "source": [
    "from google.colab import files\n",
    "files.upload()"
   ]
  },
  {
   "cell_type": "code",
   "execution_count": null,
   "metadata": {
    "id": "7GiUwQDufzcK"
   },
   "outputs": [],
   "source": [
    "!pip install google-colab-shell\n",
    "from google_colab_shell import getshell\n",
    "getshell()"
   ]
  }
 ],
 "metadata": {
  "colab": {
   "collapsed_sections": [],
   "name": "Scripting",
   "provenance": []
  },
  "kernelspec": {
   "display_name": "Python 3 (ipykernel)",
   "language": "python",
   "name": "python3"
  },
  "language_info": {
   "codemirror_mode": {
    "name": "ipython",
    "version": 3
   },
   "file_extension": ".py",
   "mimetype": "text/x-python",
   "name": "python",
   "nbconvert_exporter": "python",
   "pygments_lexer": "ipython3",
   "version": "3.9.13"
  },
  "toc": {
   "base_numbering": 1,
   "nav_menu": {},
   "number_sections": true,
   "sideBar": true,
   "skip_h1_title": false,
   "title_cell": "Table of Contents",
   "title_sidebar": "Contents",
   "toc_cell": false,
   "toc_position": {},
   "toc_section_display": true,
   "toc_window_display": false
  }
 },
 "nbformat": 4,
 "nbformat_minor": 1
}
