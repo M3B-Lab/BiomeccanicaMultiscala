{
 "cells": [
  {
   "cell_type": "code",
   "execution_count": null,
   "id": "bad4c301",
   "metadata": {},
   "outputs": [],
   "source": [
    "<span style='color:#222D5A; font-size:4em;font-style: bold'> Exercise 0.2  </span>\n",
    "\n",
    "Create a folder called “ese01” and move into it. Print the folder path and save it in a variable called pathx. Print the variable on your screen.\n",
    "\n",
    "**Hints**: mkdir, cd, echo"
   ]
  }
 ],
 "metadata": {
  "kernelspec": {
   "display_name": "Python 3 (ipykernel)",
   "language": "python",
   "name": "python3"
  },
  "language_info": {
   "codemirror_mode": {
    "name": "ipython",
    "version": 3
   },
   "file_extension": ".py",
   "mimetype": "text/x-python",
   "name": "python",
   "nbconvert_exporter": "python",
   "pygments_lexer": "ipython3",
   "version": "3.9.13"
  },
  "toc": {
   "base_numbering": 1,
   "nav_menu": {},
   "number_sections": true,
   "sideBar": true,
   "skip_h1_title": false,
   "title_cell": "Table of Contents",
   "title_sidebar": "Contents",
   "toc_cell": false,
   "toc_position": {},
   "toc_section_display": true,
   "toc_window_display": false
  }
 },
 "nbformat": 4,
 "nbformat_minor": 5
}
