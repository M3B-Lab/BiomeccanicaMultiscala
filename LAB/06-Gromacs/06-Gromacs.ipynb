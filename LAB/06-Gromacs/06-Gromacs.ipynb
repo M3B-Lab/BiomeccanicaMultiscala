{
 "cells": [
  {
   "cell_type": "markdown",
   "metadata": {
    "slideshow": {
     "slide_type": "slide"
    }
   },
   "source": [
    "<a href=\"https://colab.research.google.com/github/lorenzopallante/BiomeccanicaMultiscala/blob/main/LAB/06-Gromacs/06-Gromacs.ipynb\" target=\"_parent\"><img src=\"https://colab.research.google.com/assets/colab-badge.svg\" alt=\"Open In Colab\"/></a>"
   ]
  },
  {
   "cell_type": "markdown",
   "metadata": {
    "slideshow": {
     "slide_type": "-"
    }
   },
   "source": [
    "# Laboratorio 6\n",
    "**Introduction to GROMACS**\n",
    "\n",
    "\n",
    "Authors:\n",
    "    \n",
    "- Prof. Marco A. Deriu (marco.deriu@polito.it)\n",
    "- Lorenzo Pallante (lorenzo.pallante@polito.it)\n",
    "- Eric A. Zizzi (eric.zizzi@polito.it)\n",
    "- Marcello Miceli (marcello.miceli@polito.it)\n",
    "- Marco Cannariato (marco.cannariato@polito.it)"
   ]
  },
  {
   "cell_type": "markdown",
   "metadata": {
    "slideshow": {
     "slide_type": "slide"
    }
   },
   "source": [
    "# Table of Contents\n",
    "\n",
    "1. Gromacs Setup \n",
    "2. Molecular Dynamics (MD) Flow chart\n",
    "3. GROMACS 1 (make_ndx, editconf, pdb2gmx)\n",
    "4. GROMACS 2 (editconf, solvate, grompp, genion)\n",
    "5. GROMACS 3 (grompp, mdrun, energy)\n",
    "\n",
    "**Learning outcomes:** \n",
    "- how to install gromacs and lauch it\n",
    "- General flow chart of a MD simulation\n",
    "- GROMACS:\n",
    "    - create an index file\n",
    "    - generate a simulation box\n",
    "    - create gmx starting files\n",
    "    - prepare the simulation box\n",
    "    - generate the environment: solvent and ions"
   ]
  },
  {
   "cell_type": "markdown",
   "metadata": {
    "id": "owpIBUkna5Ow",
    "slideshow": {
     "slide_type": "slide"
    }
   },
   "source": [
    "# Setup"
   ]
  },
  {
   "cell_type": "markdown",
   "metadata": {
    "slideshow": {
     "slide_type": "-"
    }
   },
   "source": [
    "If you don't have GROMACS and NGLView installed on your machine or if you are using Google COLAB, run the following lines\n",
    "\n",
    "**This lines should be run at the beginning of each laboratory**"
   ]
  },
  {
   "cell_type": "code",
   "execution_count": null,
   "metadata": {
    "cellView": "form",
    "executionInfo": {
     "elapsed": 16217,
     "status": "ok",
     "timestamp": 1662116875669,
     "user": {
      "displayName": "Lorenzo Pallante",
      "userId": "15223561348967771574"
     },
     "user_tz": -120
    },
    "id": "B8_MjDYnhDwh",
    "slideshow": {
     "slide_type": "-"
    }
   },
   "outputs": [],
   "source": [
    "#@title Installing GROMACS\n",
    "!apt install gromacs &> /dev/null"
   ]
  },
  {
   "cell_type": "code",
   "execution_count": null,
   "metadata": {
    "cellView": "form",
    "executionInfo": {
     "elapsed": 16985,
     "status": "ok",
     "timestamp": 1662116892987,
     "user": {
      "displayName": "Lorenzo Pallante",
      "userId": "15223561348967771574"
     },
     "user_tz": -120
    },
    "id": "C2hA7f_MEF5K",
    "slideshow": {
     "slide_type": "-"
    }
   },
   "outputs": [],
   "source": [
    "#@title Installing NGLview\n",
    "!pip install nglview  &> /dev/null\n",
    "!pip install simpletraj  &> /dev/null\n",
    "from google.colab import output\n",
    "output.enable_custom_widget_manager()\n",
    "from notebook.services.config import ConfigManager\n",
    "cm = ConfigManager().update('notebook', {'limit_output': 100000000})"
   ]
  },
  {
   "cell_type": "markdown",
   "metadata": {},
   "source": [
    "Clone files form GitHub if you are using COLAB"
   ]
  },
  {
   "cell_type": "code",
   "execution_count": null,
   "metadata": {},
   "outputs": [],
   "source": [
    "# IF YOU ARE USING COLAB EXECUTE THIS CELL (to copy over data repository)\n",
    "!git clone https://github.com/lorenzopallante/BiomeccanicaMultiscala.git\n",
    "!mv BiomeccanicaMultiscala/LAB/06-Gromacs/* ."
   ]
  },
  {
   "cell_type": "markdown",
   "metadata": {
    "id": "D6nSkKIS8r53",
    "slideshow": {
     "slide_type": "slide"
    }
   },
   "source": [
    "# Introduction"
   ]
  },
  {
   "cell_type": "markdown",
   "metadata": {
    "id": "ssFzV4Bb85v5"
   },
   "source": [
    "**GROMACS is a major free, open-source, and fast code developed for Molecular Dynamics (MD) simulations**. Its continuous updates (1 major release/year), speed, efficiency and flexibility, along with the inbuilt availability of force fields specific for proteins, make it one of the most popular choices for biomolecular simulations.\n",
    "(http://www.gromacs.org/).\n",
    "\n",
    "Complete **GROMACS tutorial** available at: http://www.mdtutorials.com/gmx/\n",
    "\n",
    "To see what gromacs version is installed on your PC:"
   ]
  },
  {
   "cell_type": "code",
   "execution_count": null,
   "metadata": {
    "colab": {
     "base_uri": "https://localhost:8080/"
    },
    "id": "QiftsBpN7raV",
    "outputId": "fb7e2b89-2cfa-43bb-8613-cb93316db266",
    "scrolled": true
   },
   "outputs": [],
   "source": [
    "!gmx -version"
   ]
  },
  {
   "cell_type": "markdown",
   "metadata": {
    "id": "cbSAT3zW9gLE",
    "slideshow": {
     "slide_type": "subslide"
    }
   },
   "source": [
    "All gromacs commands can be used with the syntax:\n",
    "\n",
    "`\n",
    "    gmx <command>\n",
    "`\n",
    "\n",
    "And all the commands have a help message that can be displayed using the option “-h”, e.g.:\n",
    "\n",
    "`\n",
    "    gmx pdb2gmx -h    \n",
    "`\n",
    "\n",
    "For basic and advanced GROMACS tutorial, please visit: http://www.mdtutorials.com/gmx/\n"
   ]
  },
  {
   "cell_type": "markdown",
   "metadata": {
    "id": "dCVxuTS29o5b",
    "slideshow": {
     "slide_type": "subslide"
    }
   },
   "source": [
    "## Files and suggested directory tree\n",
    "You will need the following files to run a simulation:\n",
    ">1. Atom coordinates: *.pdb (or *.gro)\n",
    ">2. Topology file: *.top\n",
    ">3. MD parameters: *.mdp"
   ]
  },
  {
   "cell_type": "markdown",
   "metadata": {
    "slideshow": {
     "slide_type": "subslide"
    }
   },
   "source": [
    "**1. PDB**\n",
    "- coordinates of atoms in the x,y,z space\n",
    "- see also the lesson *03-Intro_LinuxBash* for further info"
   ]
  },
  {
   "cell_type": "markdown",
   "metadata": {},
   "source": [
    "![title](imgs/pdb.png)"
   ]
  },
  {
   "cell_type": "markdown",
   "metadata": {
    "slideshow": {
     "slide_type": "subslide"
    }
   },
   "source": [
    "**2. TOP**\n",
    "- topology of the systems, i.e. bonds, angles, diehedrals, non-bonded interactios and relative parameters \n",
    "- generated by GROMACS once you select the forcefield (or made by yourself when you're a pro!)\n"
   ]
  },
  {
   "cell_type": "markdown",
   "metadata": {},
   "source": [
    "<img src=\"imgs/top2.png\" width=\"1200\" align=\"center\">"
   ]
  },
  {
   "cell_type": "markdown",
   "metadata": {
    "slideshow": {
     "slide_type": "subslide"
    }
   },
   "source": [
    "**3. MDP**\n",
    "- simulation parameters, such as integration time step, simulation duration, cut-off, temperature and pressure couplings, etc.."
   ]
  },
  {
   "cell_type": "markdown",
   "metadata": {},
   "source": [
    "![mdp](imgs/mdp.png)"
   ]
  },
  {
   "cell_type": "markdown",
   "metadata": {
    "slideshow": {
     "slide_type": "subslide"
    }
   },
   "source": [
    "*We suggest you create a new folder for each simulation you run, put all the necessary files into the simulation folder itself, and let GROMACS write into that same folder.* \n",
    "\n",
    "<div class=\"alert alert-block alert-warning\"> \n",
    "\n",
    "Keep in mind that GROMACS is a **command-line program**: \n",
    "    \n",
    "if you don’t specify the full paths to the required input files, but only the file name (example call: $ gmx make_ndx -s struct.tpr -o index.ndx ), GROMACS will expect the input file (struct.tpr) to be in the folder you’re calling it from, and will write the output file (index.ndx) into the same current folder. If struct.tpr is not in the current folder, GROMACS will throw an error and fail! GROMACS error messages are pretty explicit, so chances are READING THE ERROR is enough to troubleshoot most issues (e.g. if a required file is missing).\n",
    "\n",
    "<div/>"
   ]
  },
  {
   "cell_type": "markdown",
   "metadata": {
    "id": "2zYZ3tLK-VuI",
    "slideshow": {
     "slide_type": "subslide"
    }
   },
   "source": [
    "## Molecule: Cell-Penetrating Peptide\n",
    "\n",
    "The discovery of Cell-Penetrating Peptides (CPPs) represents an important breakthrough for the delivery of large cargo molecules or nanoparticles for several clinical applications. A main feature of CPPs is the ability to\n",
    "penetrate the cell membrane at low micromolar concentrations in vivo and in vitro, without binding any chiralreceptors and without causing significant membrane damage. This ability offers significant therapeutic potential,\n",
    "as targeting areas normally difficult to access for drugs.\n",
    "TAT peptide and Drosophila Antennapedia homeodomain-derived penetratin peptide (pAntp) are the most\n",
    "extensively studied CPPs. In particular, the pAntp is a 16-residues long cationic peptide derived from the third\n",
    "helix of the homeodomain of the Drosohila transcription factor Antennapedia. This amphipatic CPP, largely\n",
    "unstructured in solution, is positively charged at neutral pH (since it contains four lysine and three arginine\n",
    "residues). Interestingly, the pAntp is able to cross biological membranes and enter a hydrophobic environment\n",
    "upon interaction with negatively-charged molecules, like phosphatic acid (PA) or phosphatidylserine (PS).\n",
    "However, mechanisms by which pAntp comes into the cells have not been completely understood. Proposed\n",
    "mechanisms of pAntp cellular uptake hypothesize direct crossing of the peptide through the membrane at low\n",
    "peptide concentrations (1μM) and an endocytotic pathway at high concentrations (10μM). Several studies have\n",
    "suggested that pAntp amphiphilicity may not be enough to drive the membrane penetration, indicating instead\n",
    "tryptophan as key player. Replacement of thryptophan by phenylanine resulted in a loss of penetration activity\n",
    "when interacting with membranes and bicelles. Moreover, a recent computational work has characterized the\n",
    "binding mode of pAntp-DPPC bilayers, proposing arginine, lysine and tryptophan as driving the penetration\n",
    "mechanism.\n",
    "This extraordinary ability of CPPs to penetrate cell membranes has brought to designate them as perfect\n",
    "functionalization molecules for drug delivery systems.\n",
    "For example, pAntp might be employed to decorate Magnetic Nanoparticles (MNPs), thus combining their\n",
    "fascinating physico-chemical properties with a cell-penetrating ability to design novel effective therapeutic\n",
    "strategies as well as innovative biotechnology methodologies. Size, biocompatibility and excellent magnetic\n",
    "properties, have made MAG and Silica-coated MAG the object of a remarkable amount of research in the last\n",
    "decade and numerous biomedical applications have been reported. Recently, MNPs combined with magnetic\n",
    "fields were used to enable cell positioning under non-permissive conditions, local gene therapy and/or\n",
    "optimization of MNP- assisted lentiviral gene transfer.\n",
    "Functionalization strategies comprise grafting with organic molecules, including small organic biomolecules such\n",
    "as CPPs, and/or coating with an inorganic layer (e.g., silica).\n",
    "Design and properties prediction of functionalization strategies may be addressed by computational molecular\n",
    "modelling. In this context, Kubiak-Ossowska and coworkers have recently employed computational modelling\n",
    "to investigate the adsorption of TAT peptides onto three silica surface models. This work has suggested that TAT-\n",
    "Silica adsorption mechanism is driven by electrostatic and hydrophobic interactions mainly involving arginine\n",
    "residues and the nanoparticle surface."
   ]
  },
  {
   "cell_type": "markdown",
   "metadata": {
    "id": "-i1ArCAA-vL9",
    "slideshow": {
     "slide_type": "subslide"
    }
   },
   "source": [
    "## Molecular Dynamics (MD) Simulations\n",
    "\n",
    "Briefly, the general workflow of an MD simulation with GROMACS is\n",
    "divided in the following steps (see also “MD_FlowChart.pdf”):\n",
    "\n",
    "1. System Preparation\n",
    "> - Retrieve starting structure (e.g. RCSB)\n",
    "> - GROMACS structure conversion (from pdb to gro*)\n",
    ">- Topology (and position restraints) generation\n",
    ">- System box generation and addition of water and ions\n",
    "\n",
    "2. Energy Minimization\n",
    "3. Simulation\n",
    "> - (Equilibration: Molecular Dynamics Simulation normally with position restraints)\n",
    "> - Production: Molecular Dynamics Simulation\n",
    "\n",
    "4. Analysis of the Simulation"
   ]
  },
  {
   "cell_type": "markdown",
   "metadata": {
    "slideshow": {
     "slide_type": "subslide"
    }
   },
   "source": [
    "*note that both .gro and .pdb files both contain atomic coordinates and\n",
    "only differ for minor aspects:\n",
    "> - .gro coordinates are in nm, whereas *.pdb coordinates in Å\n",
    "> - .gro file can contain also atoms’ velocities\n",
    "\n",
    "GROMACS can work with both types of files and does not strictly need the .gro file format for most operations.\n",
    "It can be however handy to have a .gro file, for example, to quickly extract the box vector."
   ]
  },
  {
   "cell_type": "markdown",
   "metadata": {
    "id": "ly7hqZlqAcQi",
    "slideshow": {
     "slide_type": "subslide"
    }
   },
   "source": [
    "<img src=\"imgs/MD_FlowChart.png\" width=\"500\" align=\"center\">"
   ]
  },
  {
   "cell_type": "markdown",
   "metadata": {
    "id": "xxhGnfymAMa2",
    "slideshow": {
     "slide_type": "slide"
    }
   },
   "source": [
    "# STEP 1 – PDB conversion"
   ]
  },
  {
   "cell_type": "markdown",
   "metadata": {
    "id": "wNxaUtHnBkoH"
   },
   "source": [
    "The protein of interest for the present tutorial is called penetratin.pdb (already present in the data/ folder)"
   ]
  },
  {
   "cell_type": "markdown",
   "metadata": {
    "id": "-yw0NAyKC5PA",
    "slideshow": {
     "slide_type": "-"
    }
   },
   "source": [
    "Using a visualization software (for example VMD, PyMol, UCSF Chimera, Schrödinger Maestro, MOE, ...) you can view and rotate the structure. Here we will use **NGL View** for semplicity."
   ]
  },
  {
   "cell_type": "code",
   "execution_count": null,
   "metadata": {
    "slideshow": {
     "slide_type": "-"
    }
   },
   "outputs": [],
   "source": [
    "import nglview as nv\n",
    "from IPython.display import IFrame\n",
    "\n",
    "with open(\"data/penetratin.pdb\") as f:\n",
    "    view = nv.show_file(f, ext=\"pdb\")\n",
    "view"
   ]
  },
  {
   "cell_type": "markdown",
   "metadata": {
    "id": "ZzVSrYfUe7jp",
    "slideshow": {
     "slide_type": "subslide"
    }
   },
   "source": [
    "Let’s now have a look at the actual pdb file, which is nothing more than a text file!"
   ]
  },
  {
   "cell_type": "code",
   "execution_count": null,
   "metadata": {
    "colab": {
     "base_uri": "https://localhost:8080/",
     "height": 400
    },
    "id": "wmlEVUByfLPs",
    "outputId": "a1683f01-e4c4-4c01-b0f4-daf8a1e3e8dd"
   },
   "outputs": [],
   "source": [
    "!cat data/penetratin.pdb"
   ]
  },
  {
   "cell_type": "markdown",
   "metadata": {
    "id": "D_UjJbcKf4YI"
   },
   "source": [
    "You will see that the pdb is essentially a space-separated text file organized into columns. \n",
    "Briefly:\n",
    "- The first column defines the row type (e.g. REMARK tells you that this row is a comment, ATOM tells you that this row contains actual atomic coordinates, etc.).\n",
    "- Columns 7, 8 and 9 contain the x,y,z coordinates of the atoms of the system.\n",
    "\n",
    "For more information: https://www.cgl.ucsf.edu/chimera/docs/UsersGuide/tutorials/pdbintro.html."
   ]
  },
  {
   "cell_type": "markdown",
   "metadata": {
    "id": "9__i_ebQgGvK",
    "slideshow": {
     "slide_type": "subslide"
    }
   },
   "source": [
    "## Make Index File (gmx make_ndx)\n"
   ]
  },
  {
   "cell_type": "markdown",
   "metadata": {
    "id": "kH6kRGS2gihh"
   },
   "source": [
    "We now introduce a very powerful tool in GROMACS: index files. Index files are created starting from an atomic system (e.g. a pdb file), and split atoms into specific groups. These can be useful to restrict operations and analyses only to specific parts of the system, for example, if you want to see fluctuations of the alpha-Carbons only, you can select that specific group in the analysis tool.\n",
    "\n",
    "To have detailed information about the command to make index files, just type:"
   ]
  },
  {
   "cell_type": "code",
   "execution_count": null,
   "metadata": {
    "colab": {
     "base_uri": "https://localhost:8080/",
     "height": 400
    },
    "id": "7IUc41ZlgoDS",
    "outputId": "11b0f4d0-87fc-400d-b745-37a70fd679a7",
    "scrolled": true
   },
   "outputs": [],
   "source": [
    "!gmx make_ndx -h"
   ]
  },
  {
   "cell_type": "markdown",
   "metadata": {
    "id": "W39IMDUni4Vm",
    "slideshow": {
     "slide_type": "subslide"
    }
   },
   "source": [
    "Let’s first create an index file (it will not be created by default when you launch the simulation!):"
   ]
  },
  {
   "cell_type": "code",
   "execution_count": null,
   "metadata": {
    "scrolled": true
   },
   "outputs": [],
   "source": [
    "!echo -e \"q \\n\" | gmx make_ndx -f data/penetratin.pdb -o index.ndx"
   ]
  },
  {
   "cell_type": "markdown",
   "metadata": {
    "id": "XbfulkTJjRYE"
   },
   "source": [
    "You will see that make_ndx will read the pdb file (option “-f”), create some default groups and then wait for your input. \n",
    "\n",
    "You can manually add groups by typing the atoms manually (we will see the selection syntax later on...), or simply accept the default groups and save them by typing q and hitting Enter. The final index file (index.ndx) will be saved with the name chosen in the option “-o”."
   ]
  },
  {
   "cell_type": "markdown",
   "metadata": {
    "id": "Vz_K0e34CAs_",
    "slideshow": {
     "slide_type": "subslide"
    }
   },
   "source": [
    "## Edit molecular configuration (gmx editconf)"
   ]
  },
  {
   "cell_type": "markdown",
   "metadata": {},
   "source": [
    "As mentioned, the previous groups obtained with gmx make_ndx can be used to tell GROMACS to do operations on a specific subset of atoms only. Let’s say for example I want a pdb file containing only the alpha Carbons of my starting penetratin.pdb structure. I can achieve this by calling editconf (which, as the name suggests, is an editor for molecular configurations) and also including the index.ndx file as input:"
   ]
  },
  {
   "cell_type": "code",
   "execution_count": null,
   "metadata": {
    "scrolled": true
   },
   "outputs": [],
   "source": [
    "!echo \"C-alpha\" | gmx editconf -f data/penetratin.pdb -o calpha.pdb -n index.ndx"
   ]
  },
  {
   "cell_type": "markdown",
   "metadata": {},
   "source": [
    "In simpler words, this command is saying:\n",
    "\n",
    "***“Call the editconf utility, read the penetratin.pdb and the index.ndx files, and write the result to calpha.pdb”***"
   ]
  },
  {
   "cell_type": "markdown",
   "metadata": {
    "slideshow": {
     "slide_type": "subslide"
    }
   },
   "source": [
    "Have a look to the only c-alpha structure: "
   ]
  },
  {
   "cell_type": "code",
   "execution_count": null,
   "metadata": {},
   "outputs": [],
   "source": [
    "with open(\"calpha.pdb\") as f:\n",
    "    view = nv.show_file(f, ext=\"pdb\")\n",
    "\n",
    "view.add_representation(\"hyperball\")    \n",
    "view"
   ]
  },
  {
   "cell_type": "markdown",
   "metadata": {},
   "source": [
    "Indeed, editconf will prompt for a group. Choose C-alpha by typing 3 and hitting Enter. Editconf will confirm the selection and write atoms belonging to the C-alpha group to the file calpha.pdb (check it by opening the file with a text editor!). Easy, right?"
   ]
  },
  {
   "cell_type": "markdown",
   "metadata": {
    "slideshow": {
     "slide_type": "subslide"
    }
   },
   "source": [
    "## Prepare file for Gromacs (gmx pdb2gmx)"
   ]
  },
  {
   "cell_type": "markdown",
   "metadata": {},
   "source": [
    "We have to generate a **topology** for the system and convert it to the **.gro file format**. \n",
    "\n",
    "The tool for conversion is **pdb2gmx**. As always, you can use the -h flag to print some help:"
   ]
  },
  {
   "cell_type": "code",
   "execution_count": null,
   "metadata": {},
   "outputs": [],
   "source": [
    "!gmx pdb2gmx -h"
   ]
  },
  {
   "cell_type": "markdown",
   "metadata": {
    "slideshow": {
     "slide_type": "-"
    }
   },
   "source": [
    "The main options of the **pdb2gmx** tool are:\n",
    "> - f: input file (coordinates, so .pdb or .gro)\n",
    "> - p: topology output file (a text file, ending in .top)\n",
    "> - o: structure output file (coordinates after processing, again .pdb or .gro)\n",
    "> - i: position restraints output file (.itp)"
   ]
  },
  {
   "cell_type": "code",
   "execution_count": null,
   "metadata": {
    "scrolled": true,
    "slideshow": {
     "slide_type": "subslide"
    }
   },
   "outputs": [],
   "source": [
    "!gmx pdb2gmx -f data/penetratin.pdb -i penetratin_posre.itp -p penetratin.top -o penetratin.gro -ff amber99sb-ildn  -ignh -heavyh -water tip3p"
   ]
  },
  {
   "cell_type": "markdown",
   "metadata": {},
   "source": [
    "Let's have a look at all the options of the program: \n",
    "\n",
    "- **ff** : forcefield -> The force field will contain the information that will be written to the topology. This is a very important choice! You should always read thoroughly about each force field and decide which is most applicable to your situation.\n",
    "\n",
    "- **water**: water model chosen among TIP3P, TIP4P, TIP4P-Ew, TIP5P, SPC, SPC/E\n",
    "\n",
    "- **ignh**: it stands for “ignore hydrogens”, so it will ignore all the hydrogens in the input coordinate file\n",
    "\n",
    "- **heavyh**: makes hydrogen atoms heavy to reduce oscillation frequency"
   ]
  },
  {
   "cell_type": "markdown",
   "metadata": {
    "slideshow": {
     "slide_type": "subslide"
    }
   },
   "source": [
    "Have a look at the generated files:"
   ]
  },
  {
   "cell_type": "code",
   "execution_count": null,
   "metadata": {
    "slideshow": {
     "slide_type": "-"
    }
   },
   "outputs": [],
   "source": [
    "!ls -l"
   ]
  },
  {
   "cell_type": "markdown",
   "metadata": {},
   "source": [
    "Have a look at the *.gro file with a text editor to see the differences with the pdb file!"
   ]
  },
  {
   "cell_type": "markdown",
   "metadata": {
    "slideshow": {
     "slide_type": "slide"
    }
   },
   "source": [
    "# PART 2 - Preparation of the simulation box and environment"
   ]
  },
  {
   "cell_type": "markdown",
   "metadata": {
    "slideshow": {
     "slide_type": "fragment"
    }
   },
   "source": [
    "The files obtained at the end of the last laboratory are contained in the folder `data/part_1`. If you have not run the previous part of the notebook, copy those data in the current folder with the following cell:"
   ]
  },
  {
   "cell_type": "code",
   "execution_count": null,
   "metadata": {
    "slideshow": {
     "slide_type": "-"
    }
   },
   "outputs": [],
   "source": [
    "!cp data/part_1/* ."
   ]
  },
  {
   "cell_type": "markdown",
   "metadata": {
    "slideshow": {
     "slide_type": "slide"
    }
   },
   "source": [
    "## Define the simulation box"
   ]
  },
  {
   "cell_type": "markdown",
   "metadata": {
    "slideshow": {
     "slide_type": "-"
    }
   },
   "source": [
    "Now, we defined the parameters and water model to be used in the simulation. The next step in the preparation of the system is to actually put the system in a simulation box with the appropriate shape and dimension.\n",
    "\n",
    "There are several possible shapes of the unit cell, such as the cubic or the dodecahedron. The dodecahedron is sometimes chosen to simulate globular systems, since its volume is ~71% of the cubic box with the same distance between periodic distance.\n",
    "\n",
    "The volume of the box must be optimized in real-life problems because it allows to lower the computational cost of the simulation. Indeed, as we will see in the following steps, the box will be filled with water molecules and ions, thus increasing exponentially the number of atoms in the system.\n",
    "\n",
    "<div class=\"alert alert-block alert-info\"><b>Which terms of the potential energy definition are linked to the exponential growth of the computational cost with the number of atoms in the system?</b></div>"
   ]
  },
  {
   "cell_type": "markdown",
   "metadata": {
    "slideshow": {
     "slide_type": "fragment"
    }
   },
   "source": [
    "In this tutorial, we will put our protein in the center of a cubic box big enough to have a minimum distance between the protein and the box wall of 0.8 nm.\n",
    "\n",
    "<center> <div class=\"alert alert-block alert-info\"><b>Is this distance enough to respect the minimum image convention?</b></div>"
   ]
  },
  {
   "cell_type": "markdown",
   "metadata": {
    "slideshow": {
     "slide_type": "subslide"
    }
   },
   "source": [
    "The GROMACS command that allows us to do this operation is:\n",
    "```bash\n",
    "$ gmx editconf -f penetratin.gro -o box.gro -c -d 0.8 -bt cubic \n",
    "```\n",
    "the above command take the atoms in the file `penetratin.gro`, places the origin of the reference system at their center (`-c`), then builds around them a cubic box (`-bt cubic`) with the constraint that the minimum distance between the atoms of the system and the box wall is 0.8 nm (`-d 0.8`).\n",
    "\n",
    "The `editconf` command allows to manipulate the molecular systems is several different ways and it has a lot of different options, some of them are:\n",
    "\n",
    "|Field|Type|Description|\n",
    "|-----|---------|-----------|\n",
    "|-f|.gro, .pdb| Input structure file |\n",
    "|-n|.ndx| Input index file when you want to consider only a subset of the atoms |\n",
    "|-o|.gro, .pdb| Output structure file |\n",
    "|-bt| \\<enum\\> | Box type for -box and -d: triclinic, cubic, dodecahedron, octahedron |\n",
    "|-box| \\<vector\\> | Box vector lengths. E.g. -box 10 5 20 |\n",
    "|-angles| \\<vector\\> | Angles between box vectors. E.g. -angles 90 30 60 |\n",
    "|-d| \\<real\\> | Distance between the solute and the box |\n",
    "|-c| None | Center molecule in box (implied by -box and -d)|\n",
    "|-align|\\<vector\\>| Align to target vector. E.g. -align 1 0 0. NB: you have to tell GROMACS what to align! |\n",
    "|-translate|\\<vector\\>| Translation of the provided vector |\n",
    "|-rotate|\\<vector\\>| Rotation around the X, Y and Z axes in degrees |\n",
    "|-princ| None |  Orient molecule(s) along their principal axes. NB: you have to tell GROMACS what to orient and use to define the principal axis! |"
   ]
  },
  {
   "cell_type": "code",
   "execution_count": null,
   "metadata": {
    "scrolled": true,
    "slideshow": {
     "slide_type": "fragment"
    }
   },
   "outputs": [],
   "source": [
    "!gmx editconf -f penetratin.gro -o box.gro -c -d 0.8 -bt cubic"
   ]
  },
  {
   "cell_type": "markdown",
   "metadata": {
    "slideshow": {
     "slide_type": "subslide"
    }
   },
   "source": [
    "If we now check the last line of the new file we can find the box dimensions:"
   ]
  },
  {
   "cell_type": "code",
   "execution_count": null,
   "metadata": {
    "slideshow": {
     "slide_type": "-"
    }
   },
   "outputs": [],
   "source": [
    "!tail -n 1 box.gro"
   ]
  },
  {
   "cell_type": "markdown",
   "metadata": {
    "slideshow": {
     "slide_type": "fragment"
    }
   },
   "source": [
    "We can also check our new system using VMD. Onces you have opened `box.gro` in VMD show the box using the terminal or the Tk console\n",
    "\n",
    "```bash\n",
    "vmd > pbc box\n",
    "```"
   ]
  },
  {
   "cell_type": "markdown",
   "metadata": {
    "slideshow": {
     "slide_type": "slide"
    }
   },
   "source": [
    "## Solvation of the system"
   ]
  },
  {
   "cell_type": "markdown",
   "metadata": {
    "slideshow": {
     "slide_type": "fragment"
    }
   },
   "source": [
    "Now that the box has been set, we have to introduce the **environment**. We will model the environment as a simple **aqueous system**, but it is possible to use also **different solvents**, provided that good parameters are provided for the species involved. Here, we use an explicit model of water.\n",
    "\n",
    "In the previous laboratory, we have decided to use the TIP3P water model to define the topology of the water molecule. Let's look for a moment at how such water model is defined in the built-in gromacs topologies:"
   ]
  },
  {
   "cell_type": "code",
   "execution_count": null,
   "metadata": {
    "slideshow": {
     "slide_type": "subslide"
    }
   },
   "outputs": [],
   "source": [
    "%%bash\n",
    "dd=$(gmx --version | grep \"Data prefix:\" | cut -d \":\" -f 2)\n",
    "cat $dd/share/gromacs/top/amber99sb-ildn.ff/tip3p.itp | head -n 10"
   ]
  },
  {
   "cell_type": "markdown",
   "metadata": {
    "slideshow": {
     "slide_type": "fragment"
    }
   },
   "source": [
    "- the default name, under the **[ moleculetype ]** section is **SOL**. Keep that in mind for a moment;\n",
    "- the water molecule is made of three atoms, one oxygen and two hydrogens. You can observe that the definition of such atoms under the panel **[ atoms ]**. Notice that the two hydrogen are of the same _atom type_, which means that they are modelled with the same parameters. However, two different _atom names_ are present since they represent two atoms of the same \"residue\";\n",
    "- the water \"residue\" is named **SOL**"
   ]
  },
  {
   "cell_type": "markdown",
   "metadata": {
    "slideshow": {
     "slide_type": "subslide"
    }
   },
   "source": [
    "In this topology you can also find the _bond_ and _angle_ paramters:"
   ]
  },
  {
   "cell_type": "code",
   "execution_count": null,
   "metadata": {
    "slideshow": {
     "slide_type": "fragment"
    }
   },
   "outputs": [],
   "source": [
    "%%bash\n",
    "dd=$(gmx --version | grep \"Data prefix:\" | cut -d \":\" -f 2)\n",
    "cat $dd/share/gromacs/top/amber99sb-ildn.ff/tip3p.itp | tail -n 12 | head -n -1"
   ]
  },
  {
   "cell_type": "markdown",
   "metadata": {
    "slideshow": {
     "slide_type": "fragment"
    }
   },
   "source": [
    "Here we can read the parameters to model the bonded interaction between the atoms of the **TIP3P water molecule**.\n",
    "Notice that the two _bond_ parameters are identical since they represent the same bond between hydrogen and oxygen.\n",
    "Finally, in a topology you could also find the `[ pairs ]` field, which indicates the pairs of atoms among which a non-bonded short-range interaction should be modelled. An example is:\n",
    "```bash\n",
    "[ pairs ]\n",
    ";   ai     aj    funct\n",
    "     1      9      1 ;      C - P     \n",
    "     2      6      1 ;     H1 - H4    \n",
    "     2      7      1 ;     H1 - H5    \n",
    "     2      8      1 ;     H1 - O\n",
    "```\n",
    "In this example, you can see that the filed `funct` is set to 1 for each interaction. This is the way in which gromacs stores in the topology to model the interaction with the Lennard-Jones potential. The parameters are taken from the atomtypes definition."
   ]
  },
  {
   "cell_type": "markdown",
   "metadata": {
    "slideshow": {
     "slide_type": "subslide"
    }
   },
   "source": [
    "\n",
    "After this initial consideration, we can solvate the system, i.e. fill the box with water. The GROMACS command that allows us to do this operation is:\n",
    "```bash\n",
    "$ gmx solvate -cp box.gro -o solvated.gro -p topol.top [-cs spc216.gro] \n",
    "```\n",
    "The above command take the system contained in the file `box.gro`, fills the unit cell with water molecules avoiding clasches between the inserted molecules and the atoms already present in the system, writes the output file in `solvated.gro`, then counts how many water molecules have been placed and updates the provided topology file (`-p topol.top`). The argument `-cs spc216.gro` in between brackets since it is optional: if nothing is told to GROMACS, it will use this simple equilibrated 3-point solvent model which can be used fro SPC and TIP3P water models. The file `spc216.gro` is present in the built-in gromacs libraries.\n",
    "\n",
    "With the `solvate` command, you can also insert only a shell of water molecules around the protein specifying `-shell <radius>`."
   ]
  },
  {
   "cell_type": "code",
   "execution_count": null,
   "metadata": {
    "scrolled": true,
    "slideshow": {
     "slide_type": "fragment"
    }
   },
   "outputs": [],
   "source": [
    "!gmx solvate -cp box.gro -o solvated.gro -p penetratin.top"
   ]
  },
  {
   "cell_type": "markdown",
   "metadata": {
    "slideshow": {
     "slide_type": "subslide"
    }
   },
   "source": [
    "Let's look at the output file and the updated topology:"
   ]
  },
  {
   "cell_type": "code",
   "execution_count": null,
   "metadata": {
    "slideshow": {
     "slide_type": "fragment"
    }
   },
   "outputs": [],
   "source": [
    "!tail -n 20 solvated.gro"
   ]
  },
  {
   "cell_type": "code",
   "execution_count": null,
   "metadata": {
    "slideshow": {
     "slide_type": "subslide"
    }
   },
   "outputs": [],
   "source": [
    "import nglview as nv\n",
    "with open(\"solvated.gro\") as f:\n",
    "    view = nv.show_file(f, ext=\"gro\")\n",
    "view.add_ball_and_stick(selection=\"water\")\n",
    "view.camera = 'orthographic'\n",
    "view"
   ]
  },
  {
   "cell_type": "code",
   "execution_count": null,
   "metadata": {
    "slideshow": {
     "slide_type": "subslide"
    }
   },
   "outputs": [],
   "source": [
    "!tail penetratin.top -n 5"
   ]
  },
  {
   "cell_type": "markdown",
   "metadata": {
    "slideshow": {
     "slide_type": "subslide"
    }
   },
   "source": [
    "<div class=\"alert alert-block alert-warning\"><b>Important observation</b><br>As you have seen, GROMACS have updated the topology file to take count of the modification that we have done on the system. The old topology file is not lost, it is saved as #topol.top.1#.</div>\n",
    "<br>\n",
    "<div class=\"alert alert-block alert-danger\"><b>Important observation</b><br> GROMACS is a fantastic computer program, but still a computer program. This means that it does what you tell him. If you repeat the command above two times, GROMACS will take the empty box, fill it and update the topol.top file two times. This will result in a topology file containing double the water that is actually present in the solvated.gro file. This will generate a <b>Fatal Error</b> in the following steps.</div>"
   ]
  },
  {
   "cell_type": "markdown",
   "metadata": {
    "slideshow": {
     "slide_type": "slide"
    }
   },
   "source": [
    "### Influence of the box shape and dimension on system size"
   ]
  },
  {
   "cell_type": "markdown",
   "metadata": {
    "slideshow": {
     "slide_type": "fragment"
    }
   },
   "source": [
    "We have told you before that the dodecahedric box allows to reduce the volume of the system and reduce the computational cost of the simulation. Let's now look in practice at the amount of water molecules that would have been added using a dodecahedric box.\n",
    "\n",
    "Since we do not wat to mess with the filed produced until now, let's move everything in a folder."
   ]
  },
  {
   "cell_type": "code",
   "execution_count": null,
   "metadata": {
    "slideshow": {
     "slide_type": "fragment"
    }
   },
   "outputs": [],
   "source": [
    "%%bash\n",
    "ls"
   ]
  },
  {
   "cell_type": "code",
   "execution_count": null,
   "metadata": {
    "slideshow": {
     "slide_type": "subslide"
    }
   },
   "outputs": [],
   "source": [
    "%%bash\n",
    "# backup everything in a folder \n",
    "mkdir -p cubic_box\n",
    "mv box.gro solvated.gro penetratin.top \\#penetratin.top.1# cubic_box/\n",
    "\n",
    "# restore the original topology (only protein and not water inside) -> remove last line of the topology (SOL)\n",
    "cat cubic_box/penetratin.top | head -n -1 >penetratin.top\n",
    "\n",
    "# now, repeat everything with different box\n",
    "gmx editconf -f penetratin.gro -o dodecahedron.gro -c -d 0.8 -bt dodecahedron > /dev/null 2>&1\n",
    "gmx solvate -cp dodecahedron.gro -o dodecahedron_solvated.gro -p penetratin.top > /dev/null 2>&1\n",
    "\n",
    "# Let's look at the new topology\n",
    "tail penetratin.top -n 5"
   ]
  },
  {
   "cell_type": "markdown",
   "metadata": {
    "slideshow": {
     "slide_type": "fragment"
    }
   },
   "source": [
    "From now on, we will use the system solvated in the dodecahedric box."
   ]
  },
  {
   "cell_type": "markdown",
   "metadata": {
    "slideshow": {
     "slide_type": "slide"
    }
   },
   "source": [
    "## Adding ions to the system"
   ]
  },
  {
   "cell_type": "markdown",
   "metadata": {
    "slideshow": {
     "slide_type": "fragment"
    }
   },
   "source": [
    "As a last step, it makes sense to add a proper amount of $Na^+$ and $Cl^-$ ions in the system. There are two main reasons:\n",
    "1. Make the system neutral should it be charged (by adding the proper amount of counterions);\n",
    "2. Simulating physiological salt concentrations (around 0.15M).\n",
    "\n",
    "GROMACS has a specific tool to do that, which is called `genion`. The only caveat is that `genion` needs a **.tpr** input file to work.\n",
    "\n",
    "You can think of the .tpr file as the union of a .gro file (containing coordinates), a .top file (containing topology), and an .mdp file (containing simulation parameters). "
   ]
  },
  {
   "cell_type": "markdown",
   "metadata": {
    "slideshow": {
     "slide_type": "subslide"
    }
   },
   "source": [
    "<br>\n",
    "<font size=\"12\"> <center><b>IMPORTANT</b></center></font> \n",
    "\n",
    "To run any sort of simulation, you need:\n",
    "1. A coordinate file, like a .gro, which contains the system to be simulated (**WHAT SYSTEM**)\n",
    "2. A topology, like a .top, which contains the parameters to model such a system (**WHAT MODEL**)\n",
    "3. A run parameter file, like an .mdp, which contains instructions for the simulation, like the timestep to use, the cutoffs, the total simulation time, etc. (**HOW TO SIMULATE**)\n",
    "\n",
    "These three basic ingredients of any simulation (.gro, .top, .mdp) can then be combined into a single file (the .tpr file), so that the engine carrying out the simulations (which is `gmx mdrun`) has all the necessary information in one single file."
   ]
  },
  {
   "cell_type": "markdown",
   "metadata": {
    "slideshow": {
     "slide_type": "subslide"
    }
   },
   "source": [
    "To see how this works, let’s create a dummy .mdp file, and leave it empty for now:\n",
    "```bash\n",
    "$ touch dummy.mdp\n",
    "```\n",
    "Note that we need the tpr file to add ions to the system, not to run a simulation. This is the reason why we use a dummy .mdp file. Then, we can try to create our .tpr file, since we have all the necessary ingredients (the .gro, .top and .mdp files). `gmx grompp` (which stands for gromacs pre-processor) does that:\n",
    "\n",
    "```bash\n",
    "$ gmx grompp -f dummy.mdp -c dodecahedron_solvated.gro -p penetratin.top -o ions.tpr\n",
    "```"
   ]
  },
  {
   "cell_type": "code",
   "execution_count": null,
   "metadata": {
    "slideshow": {
     "slide_type": "fragment"
    }
   },
   "outputs": [],
   "source": [
    "%%bash\n",
    "touch dummy.mdp\n",
    "gmx grompp -f dummy.mdp -c dodecahedron_solvated.gro -p penetratin.top -o ions.tpr"
   ]
  },
  {
   "cell_type": "markdown",
   "metadata": {
    "slideshow": {
     "slide_type": "subslide"
    }
   },
   "source": [
    "In this  case, the tpr file will contain default simulation parameters since our dummy.mdp file was empty.\n",
    "\n",
    "**NOTE**:  grompp  will  check  that  the  topology  .top  and  coordinates  .gro  indeed  contain  the  same  number  of atoms (i.e. the topology represents the system in the coordinate file). If this is not the case, it will throw an error saying that the number of atoms doesn’t match, and it won’t generate the .tpr. If this happens to you, you likely messed something up during solvation and the number of water molecules in the topology don’t correspond to the ones in the coordinate file. It’s best, in this case,to delete the SOL line in the topology, and start over with the solvation."
   ]
  },
  {
   "cell_type": "markdown",
   "metadata": {
    "slideshow": {
     "slide_type": "subslide"
    }
   },
   "source": [
    "Now, we can fill the solvated dodecahedron with ions at the proper concentration:\n",
    "```\n",
    "$ gmx genion -s ions.tpr -p penetratin.top -o box_ions.gro -conc 0.15 -neutral [-pname NA -nname CL]\n",
    "```\n",
    "\n",
    "The above command takes the input `ions.tpr` that contains the solvated box, then tries to fill it with ions so that the system is electrostatically neutral (`-neutral`) and the total salt concentration in 0.15 mol/L (`-conc 0.15`). While doing so, it also update the topology (`-p penetratin.top`), and save the new system with water and ions into `box_ions.gro`.\n",
    "\n",
    "Genion will ask you for the group of solvent molecules to insert the ions into, so we select group 13 (SOL). Since here in Colab there is not interactive shell, we have agains to exploit the pipe to provide such input."
   ]
  },
  {
   "cell_type": "code",
   "execution_count": null,
   "metadata": {
    "slideshow": {
     "slide_type": "fragment"
    }
   },
   "outputs": [],
   "source": [
    "%%bash\n",
    "echo \"SOL\" | gmx genion -s ions.tpr -p penetratin.top -o box_ions.gro -conc 0.15 -neutral"
   ]
  },
  {
   "cell_type": "markdown",
   "metadata": {
    "slideshow": {
     "slide_type": "subslide"
    }
   },
   "source": [
    "Note that genion also takes the topology file as input, and updates it with the added amount of NA and CL molecules (open the topology and check!). Be careful to **run only one time** the command, since gromacs does not know if the atoms are already present in the system; otherwise:\n",
    "1. the `penetratin.top` file will be updated more than one time by gromacs, which will each time remove water and add ions;\n",
    "2. the `ions.tpr` file remains always the same, therefore each time a new `box_ions.gro` file will be written where ions have been added one time.\n",
    "\n",
    "In the end, you will find a mismatch between coordinates and topology $\\rightarrow$ **Fatal Error!**"
   ]
  },
  {
   "cell_type": "markdown",
   "metadata": {
    "slideshow": {
     "slide_type": "subslide"
    }
   },
   "source": [
    "Now, let's have a look at the final system!"
   ]
  },
  {
   "cell_type": "code",
   "execution_count": null,
   "metadata": {
    "slideshow": {
     "slide_type": "fragment"
    }
   },
   "outputs": [],
   "source": [
    "with open(\"box_ions.gro\") as f:\n",
    "    view = nv.show_file(f, ext=\"gro\")\n",
    "view.add_licorice(selection=\"water\")\n",
    "view.add_ball_and_stick(selection=\"NA\",color='blue',aspectRatio='5') \n",
    "view.add_ball_and_stick(selection=\"CL\",color='green',aspectRatio='5')\n",
    "view.camera = 'orthographic'\n",
    "view"
   ]
  },
  {
   "cell_type": "markdown",
   "metadata": {
    "slideshow": {
     "slide_type": "slide"
    }
   },
   "source": [
    "<font size=\"5\"> <center><b>Exercise for you</b></center></font>\n",
    "Let's put in practise what you have learned until now with an hands-on."
   ]
  },
  {
   "cell_type": "markdown",
   "metadata": {},
   "source": [
    "Lysozyme is an antimicrobial enzyme produced by animals that forms part of the innate immune system, by catalyzing the hydrolysis of peptidoglycan of bacterial cell wall. Lysozyme is abundant in secretions including tears, saliva, and human milk and is very used as a system where to test new methodologies due to the large availability of experimental data.\n",
    "Do the following steps:\n",
    "1. Download the Lysozyme structure from the Protein Data Bank, code 5LSH\n",
    "2. Observe the structure that you have downloaded. Is there only the protein or also other molecules?\n",
    "3. If there is something else other than the protein, create a new pdb file containing only lysozyme structure.\n",
    "4. Import the pdb file in gromacs and generate its topology\n",
    "5. Generate a simulation box with the appropriate dimension and fill it with a physiological environment\n",
    "\n",
    "It is recommended to create a new folder for the exercise"
   ]
  },
  {
   "cell_type": "markdown",
   "metadata": {
    "slideshow": {
     "slide_type": "subslide"
    }
   },
   "source": [
    "**Solution**\n",
    "\n",
    "First, we have to go to the Protein Data Bank and download our file in the pdb format. There are two possibilities:\n",
    "1. Download from the PDB and then upload the file into Colab\n",
    "2. Use the wget command to directly download it into Colab\n",
    "\n",
    "We will use the second option here"
   ]
  },
  {
   "cell_type": "code",
   "execution_count": null,
   "metadata": {},
   "outputs": [],
   "source": [
    "!wget https://files.rcsb.org/download/5LSH.pdb &> /dev/null"
   ]
  },
  {
   "cell_type": "code",
   "execution_count": null,
   "metadata": {
    "slideshow": {
     "slide_type": "subslide"
    }
   },
   "outputs": [],
   "source": [
    "# Let's look at the file\n",
    "with open(\"5LSH.pdb\") as f:\n",
    "    view = nv.show_file(f, ext=\"pdb\")\n",
    "view.add_licorice(selection=\"not protein\")\n",
    "view.camera = 'orthographic'\n",
    "view"
   ]
  },
  {
   "cell_type": "markdown",
   "metadata": {
    "slideshow": {
     "slide_type": "subslide"
    }
   },
   "source": [
    "Since there is not only a protein but also a ligand and water into the pdb file, let's first extract the protein. To do so, we create and index and use it to create a file containing ongly the lysozyme."
   ]
  },
  {
   "cell_type": "code",
   "execution_count": null,
   "metadata": {
    "slideshow": {
     "slide_type": "fragment"
    }
   },
   "outputs": [],
   "source": [
    "%%bash\n",
    "mkdir exercise\n",
    "mv 5LSH.pdb exercise/\n",
    "cd exercise/\n",
    "echo \"q\" | gmx make_ndx -f 5LSH.pdb -o index.ndx > /dev/null 2>&1\n",
    "echo \"Protein\" | gmx editconf -f 5LSH.pdb -o protein.pdb -n index.ndx > /dev/null 2>&1"
   ]
  },
  {
   "cell_type": "markdown",
   "metadata": {
    "slideshow": {
     "slide_type": "subslide"
    }
   },
   "source": [
    "Now we can convert the pdb file into the GROMACS format and generate the topology.\n",
    "\n",
    "**Note**: The PDB file that we are considering contains, for some protein residues, two possible positions (i.e., alternate locations). This is due to the fact that for some atoms, the crystallographic experiment gave information about two possible positions. GROMACS automatically keeps the first position in the pdb file and ignores all the others for the same atom. Sometimes it is worth looking at the alternated locations and select which one to consider, e.g., when these residues are in/near the binding site of interest."
   ]
  },
  {
   "cell_type": "code",
   "execution_count": null,
   "metadata": {
    "slideshow": {
     "slide_type": "fragment"
    }
   },
   "outputs": [],
   "source": [
    "%%bash\n",
    "cd exercise/\n",
    "gmx pdb2gmx -f protein.pdb -o protein.gro -p topol.top -i posre.itp -ignh -heavyh -ff amber99sb-ildn -water tip3p > /dev/null 2>&1"
   ]
  },
  {
   "cell_type": "markdown",
   "metadata": {
    "slideshow": {
     "slide_type": "subslide"
    }
   },
   "source": [
    "Finally, create the box, solvate, and add ions."
   ]
  },
  {
   "cell_type": "code",
   "execution_count": null,
   "metadata": {
    "slideshow": {
     "slide_type": "fragment"
    }
   },
   "outputs": [],
   "source": [
    "%%bash\n",
    "cd exercise/\n",
    "gmx editconf -f protein.gro -o box.gro -bt cubic -d 0.8\n",
    "gmx solvate -cp box.gro -p topol.top -o solvated.gro\n",
    "touch dummy.mdp\n",
    "gmx grompp -f dummy.mdp -c solvated.gro -p topol.top -o ions.tpr\n",
    "echo \"SOL\" | gmx genion -s ions.tpr -o system.gro -p topol.top -pname NA -nname CL -conc 0.15 -neutral"
   ]
  },
  {
   "cell_type": "code",
   "execution_count": null,
   "metadata": {
    "scrolled": true,
    "slideshow": {
     "slide_type": "fragment"
    }
   },
   "outputs": [],
   "source": [
    "with open(\"exercise/system.gro\") as f:\n",
    "    view = nv.show_file(f, ext=\"gro\")\n",
    "view.add_licorice(selection=\"water\")\n",
    "view.add_ball_and_stick(selection=\"NA\",color='blue',aspectRatio='5') \n",
    "view.add_ball_and_stick(selection=\"CL\",color='green',aspectRatio='5')\n",
    "view.camera = 'orthographic'\n",
    "view"
   ]
  },
  {
   "cell_type": "markdown",
   "metadata": {
    "slideshow": {
     "slide_type": "slide"
    }
   },
   "source": [
    "# PART 3 - Energy minimization, Position Restraint, Production"
   ]
  },
  {
   "cell_type": "code",
   "execution_count": 1,
   "metadata": {
    "code_folding": [
     0
    ]
   },
   "outputs": [
    {
     "data": {
      "application/vnd.jupyter.widget-view+json": {
       "model_id": "3f6592db921f4d14ae961e3f15cfd668",
       "version_major": 2,
       "version_minor": 0
      },
      "text/plain": []
     },
     "metadata": {},
     "output_type": "display_data"
    },
    {
     "data": {
      "application/vnd.jupyter.widget-view+json": {
       "model_id": "98e9d362b2904fd785bbc9c92170a83d",
       "version_major": 2,
       "version_minor": 0
      },
      "text/plain": [
       "NGLWidget()"
      ]
     },
     "metadata": {},
     "output_type": "display_data"
    }
   ],
   "source": [
    "#@title Visualize the system\n",
    "import nglview as nv\n",
    "with open(\"data/system.pdb\") as f:\n",
    "    view = nv.show_file(f, ext=\"pdb\")\n",
    "view.add_representation(\"ball+stick\",selection=\"water\")\n",
    "view.add_representation(\"ball+stick\",selection=\"ion\",aspectRatio='10')\n",
    "view.center(\"system\")\n",
    "view"
   ]
  },
  {
   "cell_type": "markdown",
   "metadata": {
    "slideshow": {
     "slide_type": "fragment"
    }
   },
   "source": [
    "The files obtained at the end of the last laboratory are contained in the folder `data/part_2`. If you have not run the previous part of the notebook, copy those data in the current folder with the following cell:"
   ]
  },
  {
   "cell_type": "code",
   "execution_count": null,
   "metadata": {},
   "outputs": [],
   "source": [
    "%%bash \n",
    "mkdir -p system\n",
    "cp -r data/part_2/* system/"
   ]
  },
  {
   "cell_type": "markdown",
   "metadata": {
    "slideshow": {
     "slide_type": "slide"
    }
   },
   "source": [
    "The solvated, electroneutral system is now assembled. \n",
    "\n",
    "Before we can begin dynamics, we must ensure that the system has no steric clashes or inappropriate geometry. The structure is relaxed through a process called **energy minimization** (EM). \n",
    "\n",
    "To perform energy minimization, we are once again going to use grompp to assemble the structure, topology, and simulation parameters into a binary input file (`.tpr`), then we will use GROMACS MD engine, mdrun, to run the energy minimization."
   ]
  },
  {
   "cell_type": "markdown",
   "metadata": {
    "slideshow": {
     "slide_type": "subslide"
    }
   },
   "source": [
    "We will use the steepest descent algorithm to perform the energy minimization.\n",
    "To keep things organized, we will do the EM in its own subfolder, so let’s\n",
    "create it:\n"
   ]
  },
  {
   "cell_type": "code",
   "execution_count": null,
   "metadata": {},
   "outputs": [],
   "source": [
    "%%bash\n",
    "mkdir -p 00-em"
   ]
  },
  {
   "cell_type": "markdown",
   "metadata": {
    "slideshow": {
     "slide_type": "subslide"
    }
   },
   "source": [
    "## Exploring the mdp file"
   ]
  },
  {
   "cell_type": "markdown",
   "metadata": {
    "slideshow": {
     "slide_type": "fragment"
    }
   },
   "source": [
    "Assemble the binary input using grompp using the .mdp parameter file, as input. The simulation parameter file (.mdp) determines how the simulation shall be run. Find more information on all the options in the [manual](http://manual.gromacs.org/documentation/current/user-guide/mdp-options.html). \n",
    "\n",
    "There are a lot of parameters that can be set, here we ony set the elemental parametes and leave everything else as default. Let's have a look at the input file:"
   ]
  },
  {
   "cell_type": "code",
   "execution_count": null,
   "metadata": {
    "slideshow": {
     "slide_type": "fragment"
    }
   },
   "outputs": [],
   "source": [
    "! cat data/mdp/em.mdp"
   ]
  },
  {
   "cell_type": "markdown",
   "metadata": {
    "slideshow": {
     "slide_type": "subslide"
    }
   },
   "source": [
    "This file contains the instructions to perform energy minimization. In particular, the most relevant lines are:\n",
    "\n",
    "\n",
    "* `integrator` = `steep`\n",
    "\n",
    "\n",
    "...\n",
    "\n",
    "\n",
    "* `nsteps` = `1000`\n",
    "\n",
    "...\n",
    "\n",
    "\n",
    "* `emtol` =  `1000`\n",
    "\n",
    "\n",
    "Which mean respectively:\n",
    "* **steep**: use the steepest descent algorithm <span style=\"color:red\">**(actually, it isn’t strictly an integrator as for the md code)**</span>\n",
    "\n",
    "<center> <b>STOP CONDITION</b> </center>\n",
    "\n",
    "\n",
    "* do the energy minimization for a maximum of 1000 steps (**nsteps**) \n",
    "\n",
    "<center> <b>OR</b> </center>\n",
    "\n",
    "* until the maximum force drops below 1000 $ \\frac{kJ}{mol*nm}\n",
    "$ (**emtol**).\n"
   ]
  },
  {
   "cell_type": "markdown",
   "metadata": {
    "slideshow": {
     "slide_type": "subslide"
    }
   },
   "source": [
    "## Energy minimization procedure "
   ]
  },
  {
   "cell_type": "markdown",
   "metadata": {
    "slideshow": {
     "slide_type": "fragment"
    }
   },
   "source": [
    "Again, we are in a situation where we have everything we need for a simulation (coordinates, topology and\n",
    "parameters) and we need to merge them into a single file. What do we do? You guessed it, we generate a `*.tpr`\n",
    "with grompp:\n"
   ]
  },
  {
   "cell_type": "code",
   "execution_count": null,
   "metadata": {
    "slideshow": {
     "slide_type": "fragment"
    }
   },
   "outputs": [],
   "source": [
    "%%bash\n",
    "gmx grompp -f data/mdp/em.mdp -p system/penetratin.top -c system/box_ions.gro -o 00-em/em.tpr "
   ]
  },
  {
   "cell_type": "markdown",
   "metadata": {
    "slideshow": {
     "slide_type": "subslide"
    }
   },
   "source": [
    "Know we can feed the unified input file (`em.tpr`) into the engine doing the actual calculations, which is `gmx mdrun`. In genral, mdrun takes many parameters, such as:\n",
    "* s input file (.tpr).\n",
    "* o output file (trajectory, not important in minimization)\n",
    "* e output file (energy)\n"
   ]
  },
  {
   "cell_type": "code",
   "execution_count": null,
   "metadata": {
    "slideshow": {
     "slide_type": "fragment"
    }
   },
   "outputs": [],
   "source": [
    "! gmx mdrun -h"
   ]
  },
  {
   "cell_type": "markdown",
   "metadata": {
    "slideshow": {
     "slide_type": "subslide"
    }
   },
   "source": [
    "If you noticed though, we called the tpr file with the name em.tpr. The mdrun tool has a very useful option called\n",
    "`-deffnm`, which stands for “define file names”: with this option, you can tell mdrun that all the required input files\n",
    "(e.g. the *.tpr) and all the produced output files (e.g. *.xtc, *.edr, *.gro, ...) will all have the same name (with\n",
    "the proper extension). This means that you don’t have to tell mdrun explicitly all the input and output file names.\n",
    "For example, if you set:\n",
    "... -deffnm em ...\n",
    "mdrun will:\n",
    "\n",
    "\n",
    "1. Look for em.tpr as the input file\n",
    "\n",
    "1. Name the output files em.xtc, em.trr, em.gro, em.edr, etc..."
   ]
  },
  {
   "cell_type": "markdown",
   "metadata": {
    "slideshow": {
     "slide_type": "subslide"
    }
   },
   "source": [
    "This is way quicker than specifying all the file names explicitly, and this is what we will do. Run the minimization:\n",
    "\n",
    "**`$ gmx mdrun -deffnm 00-em/em -v`**\n",
    "\n",
    "Which means: “run the calculations on the em.tpr input file and save all the outputs with the root name em (-\n",
    "deffnm em). Also, tell me what you’re doing while you’re running (verbose mode, -v)”.\n",
    "GROMACS will start the energy minimization calculation and will stop once the force drops below the emtol\n",
    "setting or once the maximum number of steps is reached (whatever happens first!)."
   ]
  },
  {
   "cell_type": "code",
   "execution_count": null,
   "metadata": {
    "slideshow": {
     "slide_type": "fragment"
    }
   },
   "outputs": [],
   "source": [
    "! gmx mdrun -s 00-em/em.tpr -deffnm 00-em/em -v "
   ]
  },
  {
   "cell_type": "code",
   "execution_count": null,
   "metadata": {
    "slideshow": {
     "slide_type": "subslide"
    }
   },
   "outputs": [],
   "source": [
    "! ls 00-em/"
   ]
  },
  {
   "cell_type": "markdown",
   "metadata": {
    "slideshow": {
     "slide_type": "subslide"
    }
   },
   "source": [
    "## Analysing Energy Minimization Data "
   ]
  },
  {
   "cell_type": "markdown",
   "metadata": {},
   "source": [
    "Once the energy minimization has finished, we have to check that our system actually reached a low potential\n",
    "energy and plateaued at that level, i.e. that nothing went wrong during the minimization, that the number of steps\n",
    "was sufficient to reach a minimized potential energy, and that we can proceed further. \n",
    "\n",
    "To view the potential energy as a function of the number of minimization steps, we need to use gmx energy, which is a tool that extracts energy data from the `.edr` file and prints it in ASCII format (for example as a tab-separated xy data file) which can then be plotted. \n",
    "\n",
    "Let’s extract the energies:"
   ]
  },
  {
   "cell_type": "code",
   "execution_count": null,
   "metadata": {
    "scrolled": false,
    "slideshow": {
     "slide_type": "fragment"
    }
   },
   "outputs": [],
   "source": [
    "!gmx energy -h"
   ]
  },
  {
   "cell_type": "code",
   "execution_count": null,
   "metadata": {
    "slideshow": {
     "slide_type": "subslide"
    }
   },
   "outputs": [],
   "source": [
    "! echo -e \"Potential \\n 0\" | gmx energy -f 00-em/em.edr -o 00-em/potential.xvg"
   ]
  },
  {
   "cell_type": "code",
   "execution_count": null,
   "metadata": {
    "slideshow": {
     "slide_type": "subslide"
    }
   },
   "outputs": [],
   "source": [
    "! cat 00-em/potential.xvg"
   ]
  },
  {
   "cell_type": "code",
   "execution_count": null,
   "metadata": {
    "slideshow": {
     "slide_type": "subslide"
    }
   },
   "outputs": [],
   "source": [
    "import matplotlib.pyplot as plt # Import from the library matplotlib  the package pyplot and alias it as plt \n",
    "import numpy as np #import the library numpy and alias it as np\n",
    "'''load the data from the potential.xvg format into data, ...\n",
    "define the comments as raw starting with either # or @'''\n",
    "data=np.loadtxt(\"00-em/potential.xvg\",comments=[\"#\",\"@\"])\n",
    "step=data[:,0] #assign the first column of data to the variable step\n",
    "energy=data[:,1] #assign the second column of data to the variable potential\n",
    "plt.plot(step,energy) #plot the function potential(data)\n",
    "plt.xlabel(\"Step\",size=14) #assign the x label \n",
    "plt.ylabel(\"Energy [KJ/mol]\",size=14) #assign the y label\n",
    "plt.title(\"Potential energy as a function of step\"); #assign a title \n",
    "#save the figure in png format with a resolution of 300 dot per inch \"dpi\" \n",
    "plt.savefig(\"potential.png\",format=\"png\", dpi=300)"
   ]
  },
  {
   "cell_type": "markdown",
   "metadata": {
    "slideshow": {
     "slide_type": "subslide"
    }
   },
   "source": [
    "## Position Restraint"
   ]
  },
  {
   "cell_type": "markdown",
   "metadata": {},
   "source": [
    "EM ensured that we have a reasonable starting structure, in terms of geometry and solvent orientation. \n",
    "\n",
    "To begin real dynamics, we must equilibrate the solvent and ions around the protein. \n",
    "\n",
    "If we were to attempt unrestrained dynamics at this point, the system may collapse. The reason is that the solvent is mostly optimized within itself, and not necessarily with the solute. \n",
    "\n",
    "It needs to be brought to the temperature we wish to simulate.\n",
    "\n"
   ]
  },
  {
   "cell_type": "code",
   "execution_count": null,
   "metadata": {},
   "outputs": [],
   "source": [
    "%%bash  \n",
    "mkdir 01-posres"
   ]
  },
  {
   "cell_type": "markdown",
   "metadata": {},
   "source": [
    "Input files required to run a Molecular Dynamics (MD) simulation are again\n",
    "a molecular structure, a topology and a files with simulation settings:\n",
    "1. (minimized) structure file (`minimized.gro`)\n",
    "1. topology file (`penetratin.top`)\n",
    "1. molecular dynamics parameters file (`posre.mdp/md.mdp`)"
   ]
  },
  {
   "cell_type": "markdown",
   "metadata": {
    "slideshow": {
     "slide_type": "subslide"
    }
   },
   "source": [
    "Remember that `posre.itp` file that `pdb2gmx` generated a long time ago? We're going to use it now. The purpose of posre.itp is to apply a position restraining force on the heavy atoms of the protein (anything that is not hydrogen). Movement is permitted, but the particle will feel a harmonic potential that will tend to keep it around the initial position. \n",
    "\n",
    "$V_{pr}(r_i)=\\frac{1}{2}k_{pr}|r_i-R_i|^2$\n",
    "\n",
    "Where $R_i$ is the reference position and the $k_{pr}$ is the Force constant proportional to the strenght of the potential applied.\n",
    "\n",
    "<img src=\"https://manual.gromacs.org/current/_images/f-pr.png\" width=\"500\" align=\"center\">\n",
    "\n"
   ]
  },
  {
   "cell_type": "code",
   "execution_count": null,
   "metadata": {
    "slideshow": {
     "slide_type": "subslide"
    }
   },
   "outputs": [],
   "source": [
    "!cat system/penetratin_posre.itp"
   ]
  },
  {
   "cell_type": "markdown",
   "metadata": {
    "slideshow": {
     "slide_type": "subslide"
    }
   },
   "source": [
    "The utility of position restraints is that they allow us to equilibrate our solvent around our protein, without the added variable of structural changes in the protein. \n",
    "\n",
    "The origin of the position restraints (the coordinates at which the restraint potential is zero) is provided via a coordinate file passed to the -r option of `grompp`.\n",
    "\n",
    "We’ll use the file `posre.mdp` which contains the parameters for a molecular dynamics simulation with position\n",
    "restraints. \n",
    "\n",
    "Have a look to posre.mdp:"
   ]
  },
  {
   "cell_type": "code",
   "execution_count": null,
   "metadata": {
    "scrolled": true,
    "slideshow": {
     "slide_type": "subslide"
    }
   },
   "outputs": [],
   "source": [
    "!cat data/mdp/posre.mdp"
   ]
  },
  {
   "cell_type": "code",
   "execution_count": null,
   "metadata": {
    "slideshow": {
     "slide_type": "subslide"
    }
   },
   "outputs": [],
   "source": [
    "!tail -n 29 system/penetratin.top"
   ]
  },
  {
   "cell_type": "markdown",
   "metadata": {
    "slideshow": {
     "slide_type": "subslide"
    }
   },
   "source": [
    "We will perform a Molecular dynamic simulation integrating the equaion of motion with the leap frog algorithm `integrator=md`. We have to chose the step of integration for the equation of motion `dt=` and define the total numbers of step of simulation `nsteps`.\n",
    "\n",
    "How do I calculate the time for which I am simulating?\n",
    "\n",
    "$t_{tot}=dt*nsteps$\n",
    "\n",
    "where $t_{tot}$ is the total simulation time, dt is the integration step and nsteps is the total number of steps"
   ]
  },
  {
   "cell_type": "code",
   "execution_count": null,
   "metadata": {},
   "outputs": [],
   "source": [
    "dt=0.01 #step of integration\n",
    "nsteps=50000 #total number of steps\n",
    "tot=dt*nsteps #total simulation time\n",
    "print(f\"The total simulation time will be {tot}, which is the unit of measure?\")"
   ]
  },
  {
   "cell_type": "markdown",
   "metadata": {},
   "source": [
    "<div class=\"alert alert-block alert-info\"><center><b> What about the initial velocities?</b></center><div>"
   ]
  },
  {
   "cell_type": "markdown",
   "metadata": {},
   "source": [
    "There are two possible strategies\n",
    "1. Start with initial velocity equal to zero for all the atoms in the simulation environment and coupling with a thermostat \n",
    "1. Assign to the atoms initial velocity so that the distribution of the velocity is equal to a Maxwell-Boltzmann distribution at a given temperature $p(\\it{v}_i)$\n",
    "\n",
    "\n",
    "<div><center>$p(\\it{v}_i)=\\sqrt{\\frac{m_i}{2\\pi kT}}\\exp{\\left(- \\frac{m_i\\it{v}_{i}^2}{2kT}\\right)}$</center> </div>\n",
    "<br>\n",
    "\n",
    "\n",
    "<div class=\"alert alert-block alert-danger\"><center><b>ATTENTION! NERD TIME</b></center>\n",
    "    \n",
    "To accomplish this second possibility, normally distributed random numbers are generated by adding twelve random numbers $R_K$ in the range 0 ≤$R_K$< 1 and subtracting 6.0 from their sum. The result is then multiplied by the standard deviation of the velocity distribution $\\sqrt{\\frac{𝑘𝑇}{𝑚_𝑖}}$. Since the resulting total energy will not correspond exactly to the required temperature $T$, a correction is made: first the center-of-mass motion is removed and then all velocities are scaled so that the total energy corresponds exactly to $T$. \n",
    "\n",
    " </div>\n",
    "\n"
   ]
  },
  {
   "cell_type": "code",
   "execution_count": null,
   "metadata": {
    "slideshow": {
     "slide_type": "subslide"
    }
   },
   "outputs": [],
   "source": [
    "%%bash\n",
    "gmx grompp -f data/mdp/posre.mdp -c 00-em/em.gro -r 00-em/em.gro -p system/penetratin.top -o 01-posres/posres.tpr"
   ]
  },
  {
   "cell_type": "markdown",
   "metadata": {},
   "source": [
    "<div class=\"alert alert-block alert-warning\"><b>Important observation</b><br> In this case Gromacs failed, what we can do? <br>Rise the hand and ask to the professor/assistant for help? <br> Or read the output, solve the problem and enter in the engineer's adulthood?<br>So read the output and try to undersand the problem</div>\n",
    "<br>\n",
    "\n",
    "**NB** Some GROMACS version cannot experience this warning, however this hint is also valid\n",
    "\n",
    "**P.S.** Seeking advice from classroom teachers is essential and strongly recommended and encouraged. Paradoxically, however, asking for advice after trying to solve the problem and reading the terminal is even better!"
   ]
  },
  {
   "cell_type": "code",
   "execution_count": null,
   "metadata": {
    "slideshow": {
     "slide_type": "subslide"
    }
   },
   "outputs": [],
   "source": [
    "%%bash\n",
    "gmx grompp -f data/mdp/posre.mdp -c 00-em/em.gro -r 00-em/em.gro -p system/penetratin.top -o 01-posres/posres.tpr -maxwarn 2"
   ]
  },
  {
   "cell_type": "code",
   "execution_count": null,
   "metadata": {
    "slideshow": {
     "slide_type": "subslide"
    }
   },
   "outputs": [],
   "source": [
    "!gmx mdrun -s 01-posres/posres.tpr -deffnm 01-posres/posres -v -nsteps 100000"
   ]
  },
  {
   "cell_type": "markdown",
   "metadata": {
    "slideshow": {
     "slide_type": "subslide"
    }
   },
   "source": [
    "<div class=\"alert alert-block alert-info\"><center><b> Is the system well equilibrated in terms of temperature? And in terms of pressure?</b></center><div>"
   ]
  },
  {
   "cell_type": "code",
   "execution_count": null,
   "metadata": {},
   "outputs": [],
   "source": [
    "! echo -e \"Temperature \\n Pressure \\n 0\" | gmx energy -f 01-posres/posres.edr -o 01-posres/Temp_Press.xvg "
   ]
  },
  {
   "cell_type": "code",
   "execution_count": null,
   "metadata": {
    "slideshow": {
     "slide_type": "subslide"
    }
   },
   "outputs": [],
   "source": [
    "data=np.loadtxt(\"01-posres/Temp_Press.xvg\",comments=[\"#\",\"@\"])\n",
    "time=data[:,0] #assign the first column of data to the variable step\n",
    "temp=data[:,1] #assign the second column of data to the variable potential\n",
    "plt.plot(time,temp)\n",
    "plt.xlabel(\"Time [ps]\",size=14)\n",
    "plt.ylabel(\"Temperature [K]\",size=14)\n",
    "plt.title(\"Temperature as a function of Time\")"
   ]
  },
  {
   "cell_type": "code",
   "execution_count": null,
   "metadata": {
    "slideshow": {
     "slide_type": "subslide"
    }
   },
   "outputs": [],
   "source": [
    "data=np.loadtxt(\"01-posres/Temp_Press.xvg\",comments=[\"#\",\"@\"])\n",
    "time=data[:,0] #assign the first column of data to the variable time\n",
    "pressure=data[:,2] #assign the second column of data to the variable pressure\n",
    "plt.plot(time,pressure)\n",
    "plt.xlabel(\"Time [ps]\",size=14)\n",
    "plt.ylabel(\"Pressure [bar]\",size=14)\n",
    "plt.title(\"Pressure as a function of Time\")"
   ]
  },
  {
   "cell_type": "code",
   "execution_count": null,
   "metadata": {
    "slideshow": {
     "slide_type": "subslide"
    }
   },
   "outputs": [],
   "source": [
    "! echo -e \"Density \\n 0\" | gmx energy -f 01-posres/posres.edr -o 01-posres/density.xvg"
   ]
  },
  {
   "cell_type": "code",
   "execution_count": null,
   "metadata": {},
   "outputs": [],
   "source": [
    "data=np.loadtxt(\"01-posres/density.xvg\",comments=[\"#\",\"@\"])\n",
    "time=data[:,0] #assign the first column of data to the variable time\n",
    "pressure=data[:,1] #assign the second column of data to the variable Density\n",
    "plt.plot(time,pressure)\n",
    "plt.xlabel(\"Time [ps]\",size=14)\n",
    "plt.ylabel(\"Density [$kg/m^3$]\",size=14)\n",
    "plt.axhline(1000,time[0],time[-1],ls=\"--\")\n",
    "plt.title(\"Density as a function of Time\")"
   ]
  },
  {
   "cell_type": "markdown",
   "metadata": {
    "slideshow": {
     "slide_type": "subslide"
    }
   },
   "source": [
    "<div class=\"alert alert-block alert-info\"><center><b> How to plot two diagrams in a single subplot? </b></center><div>"
   ]
  },
  {
   "cell_type": "code",
   "execution_count": null,
   "metadata": {},
   "outputs": [],
   "source": [
    "import matplotlib.pyplot as plt # Import from the library matplotlib  the package pyplot and alias it as plt \n",
    "import numpy as np #import the library numpy and alias it as np\n",
    "'''load the data from the potential.xvg format into data, ...\n",
    "define the comments as raw starting with either # or @'''\n",
    "data=np.loadtxt(\"01-posres/Temp_Press.xvg\",comments=[\"#\",\"@\"])\n",
    "time=data[:,0] #assign the first column of data to the variable step\n",
    "temp=data[:,1] #assign the second column of data to the variable potential\n",
    "press=data[:,2] #assign the second column of data to the variable potential\n",
    "\n",
    "plot,axes=plt.subplots(2,1) #plot the function potential(data)\n",
    "axes[0].plot(time,temp)\n",
    "axes[1].plot(time,press)\n",
    "axes[1].set_xlabel(\"Time [ps]\",size=14) #assign the x label \n",
    "axes[0].set_ylabel(\"Temperature [K]\",size=14) #assign the y label\n",
    "axes[1].set_ylabel(\"Pressure [bar]\",size=14) #assign the y label\n",
    "#save the figure in png format with a resolution of 300 dot per inch \"dpi\" \n",
    "plt.tight_layout()\n",
    "plot.savefig(\"subplot_temp_press.png\",format=\"png\", dpi=300)"
   ]
  },
  {
   "cell_type": "markdown",
   "metadata": {
    "slideshow": {
     "slide_type": "subslide"
    }
   },
   "source": [
    "## Production without position restraints"
   ]
  },
  {
   "cell_type": "markdown",
   "metadata": {},
   "source": [
    "Upon completion of the equilibration phase, the system is now well-equilibrated at the desired temperature and pressure. We are now ready to release the position restraints and run production MD for data collection.\n",
    "\n",
    "\n",
    "Return at the root of your working directory, create a folder for the molecular dynamics production:"
   ]
  },
  {
   "cell_type": "code",
   "execution_count": null,
   "metadata": {},
   "outputs": [],
   "source": [
    "!mkdir 02-production"
   ]
  },
  {
   "cell_type": "code",
   "execution_count": null,
   "metadata": {
    "slideshow": {
     "slide_type": "subslide"
    }
   },
   "outputs": [],
   "source": [
    "!cat data/mdp/md.mdp"
   ]
  },
  {
   "cell_type": "markdown",
   "metadata": {
    "slideshow": {
     "slide_type": "subslide"
    }
   },
   "source": [
    "Create the tpr and run the simulation: we will use the file “md.mdp” for molecular dynamics parameters which\n",
    "do not include the position restraints of the previous step. Note that we will use the structure file coming from\n",
    "the previous equilibration with position restraints, i.e. posre.gro"
   ]
  },
  {
   "cell_type": "code",
   "execution_count": null,
   "metadata": {
    "slideshow": {
     "slide_type": "subslide"
    }
   },
   "outputs": [],
   "source": [
    "!gmx grompp -f data/mdp/md.mdp -c  01-posres/posres.gro -p system/penetratin.top -o 02-production/prod.tpr"
   ]
  },
  {
   "cell_type": "code",
   "execution_count": null,
   "metadata": {
    "slideshow": {
     "slide_type": "subslide"
    }
   },
   "outputs": [],
   "source": [
    "!gmx mdrun -deffnm 02-production/prod -s 02-production/prod.tpr -v "
   ]
  },
  {
   "cell_type": "markdown",
   "metadata": {
    "slideshow": {
     "slide_type": "subslide"
    }
   },
   "source": [
    "## Visualize the trajectory"
   ]
  },
  {
   "cell_type": "code",
   "execution_count": null,
   "metadata": {},
   "outputs": [],
   "source": [
    "import nglview as nv\n",
    "traj = nv.SimpletrajTrajectory(\"01-posres/posres.xtc\", \"01-posres/posres.gro\")\n",
    "view_pbc = nv.show_simpletraj(traj)\n",
    "view_pbc.add_representation(\"ball+stick\",selection=\"water\")\n",
    "view_pbc.center(\"System\")\n",
    "view_pbc "
   ]
  },
  {
   "cell_type": "markdown",
   "metadata": {
    "slideshow": {
     "slide_type": "subslide"
    }
   },
   "source": [
    "The trajectory file that is obtained as a result of the simulation, if directly loaded onto a visualization program has artifacts due to the presence of the periodic conditions. \n",
    "\n",
    "In fact since the bonds are created heuristically at the beginning by the program, if some atoms of the molecule exit from one side and re-enter from the opposite side the visualization program always considers them joined. \n",
    "\n",
    "Mind you, this is not an error in the trajectory, it is due to the presence of the periodic conditions. To \"reconstruct\" molecules \"broken\" due to the periodic conditions one uses the gromacs program `gmx trjconv`, which is generally used to manipulate trajectory files in the various gromacs formats (`.trr`, `.xtc`, `.pdb`).\n"
   ]
  },
  {
   "cell_type": "code",
   "execution_count": null,
   "metadata": {},
   "outputs": [],
   "source": [
    "!gmx trjconv -h"
   ]
  },
  {
   "cell_type": "code",
   "execution_count": null,
   "metadata": {
    "slideshow": {
     "slide_type": "subslide"
    }
   },
   "outputs": [],
   "source": [
    "! echo -e \"0 \\n\" | gmx trjconv -s 01-posres/posres.tpr -f 01-posres/posres.xtc -pbc mol -o 01-posres/noPBC.xtc -ur compact"
   ]
  },
  {
   "cell_type": "code",
   "execution_count": null,
   "metadata": {
    "slideshow": {
     "slide_type": "subslide"
    }
   },
   "outputs": [],
   "source": [
    "import nglview as nv\n",
    "traj_nopbc = nv.SimpletrajTrajectory(\"01-posres/noPBC.xtc\", \"01-posres/posres.gro\")\n",
    "view_nopbc = nv.show_simpletraj(traj_nopbc)\n",
    "view_nopbc.add_representation(\"ball+stick\",selection=\"water\")\n",
    "view_nopbc.center(\"sytem\")\n",
    "view_nopbc"
   ]
  }
 ],
 "metadata": {
  "celltoolbar": "Slideshow",
  "colab": {
   "provenance": []
  },
  "kernelspec": {
   "display_name": "Python 3 (ipykernel)",
   "language": "python",
   "name": "python3"
  },
  "language_info": {
   "codemirror_mode": {
    "name": "ipython",
    "version": 3
   },
   "file_extension": ".py",
   "mimetype": "text/x-python",
   "name": "python",
   "nbconvert_exporter": "python",
   "pygments_lexer": "ipython3",
   "version": "3.9.15"
  },
  "rise": {
   "scroll": true
  },
  "toc": {
   "base_numbering": 1,
   "nav_menu": {
    "height": "446px",
    "width": "376px"
   },
   "number_sections": true,
   "sideBar": true,
   "skip_h1_title": false,
   "title_cell": "Table of Contents",
   "title_sidebar": "Contents",
   "toc_cell": false,
   "toc_position": {},
   "toc_section_display": true,
   "toc_window_display": false
  },
  "vscode": {
   "interpreter": {
    "hash": "a04d7f76d528f9c131396aa3849d34d95981463625d620e907bc7853b8ff2908"
   }
  }
 },
 "nbformat": 4,
 "nbformat_minor": 1
}
