{
 "cells": [
  {
   "cell_type": "markdown",
   "metadata": {
    "slideshow": {
     "slide_type": "slide"
    }
   },
   "source": [
    "<a href=\"https://colab.research.google.com/github/lorenzopallante/BiomeccanicaMultiscala/blob/main/LAB/06-Gromacs/06-Gromacs.ipynb\" target=\"_parent\"><img src=\"https://colab.research.google.com/assets/colab-badge.svg\" alt=\"Open In Colab\"/></a>"
   ]
  },
  {
   "cell_type": "markdown",
   "metadata": {
    "slideshow": {
     "slide_type": "-"
    }
   },
   "source": [
    "# Laboratorio 6\n",
    "**Introduction to GROMACS**\n",
    "\n",
    "\n",
    "Authors:\n",
    "    \n",
    "- Prof. Marco A. Deriu (marco.deriu@polito.it)\n",
    "- Lorenzo Pallante (lorenzo.pallante@polito.it)\n",
    "- Eric A. Zizzi (eric.zizzi@polito.it)\n",
    "- Marcello Miceli (marcello.miceli@polito.it)\n",
    "- Marco Cannariato (marco.cannariato@polito.it)"
   ]
  },
  {
   "cell_type": "markdown",
   "metadata": {
    "slideshow": {
     "slide_type": "slide"
    }
   },
   "source": [
    "# Table of Contents\n",
    "\n",
    "3. Gromacs Setup \n",
    "4. Molecular Dynamics (MD) Flow chart\n",
    "5. GROMACS 1 (make_ndx, editconf, pdb2gmx)\n",
    "\n",
    "**Learning outcomes:** \n",
    "- how to install gromacs and lauch it\n",
    "- General flow chart of a MD simulation\n",
    "- GROMACS: create an index file, generate a simulation box, create gmx starting files"
   ]
  },
  {
   "cell_type": "markdown",
   "metadata": {
    "id": "owpIBUkna5Ow",
    "slideshow": {
     "slide_type": "slide"
    }
   },
   "source": [
    "# Setup"
   ]
  },
  {
   "cell_type": "markdown",
   "metadata": {
    "slideshow": {
     "slide_type": "-"
    }
   },
   "source": [
    "If you don't have GROMACS and NGLView installed on your machine or if you are using Google COLAB, run the following line"
   ]
  },
  {
   "cell_type": "code",
   "execution_count": null,
   "metadata": {
    "cellView": "form",
    "executionInfo": {
     "elapsed": 16217,
     "status": "ok",
     "timestamp": 1662116875669,
     "user": {
      "displayName": "Lorenzo Pallante",
      "userId": "15223561348967771574"
     },
     "user_tz": -120
    },
    "id": "B8_MjDYnhDwh",
    "slideshow": {
     "slide_type": "-"
    }
   },
   "outputs": [],
   "source": [
    "#@title Installing GROMACS\n",
    "!apt install gromacs &> /dev/null"
   ]
  },
  {
   "cell_type": "code",
   "execution_count": null,
   "metadata": {
    "cellView": "form",
    "executionInfo": {
     "elapsed": 16985,
     "status": "ok",
     "timestamp": 1662116892987,
     "user": {
      "displayName": "Lorenzo Pallante",
      "userId": "15223561348967771574"
     },
     "user_tz": -120
    },
    "id": "C2hA7f_MEF5K",
    "slideshow": {
     "slide_type": "-"
    }
   },
   "outputs": [],
   "source": [
    "#@title Installing NGLview\n",
    "!pip install nglview  &> /dev/null\n",
    "from google.colab import output\n",
    "output.enable_custom_widget_manager()"
   ]
  },
  {
   "cell_type": "markdown",
   "metadata": {},
   "source": [
    "Clone files form GitHub if you are using COLAB"
   ]
  },
  {
   "cell_type": "code",
   "execution_count": null,
   "metadata": {},
   "outputs": [],
   "source": [
    "# IF YOU ARE USING COLAB EXECUTE THIS CELL (to copy over data repository)\n",
    "!git clone https://github.com/lorenzopallante/BiomeccanicaMultiscala.git\n",
    "!mv BiomeccanicaMultiscala/LAB/06-Gromacs/* ."
   ]
  },
  {
   "cell_type": "markdown",
   "metadata": {
    "id": "D6nSkKIS8r53",
    "slideshow": {
     "slide_type": "slide"
    }
   },
   "source": [
    "# Introduction"
   ]
  },
  {
   "cell_type": "markdown",
   "metadata": {
    "id": "ssFzV4Bb85v5"
   },
   "source": [
    "**GROMACS is a major free, open-source, and fast code developed for Molecular Dynamics (MD) simulations**. Its continuous updates (1 major release/year), speed, efficiency and flexibility, along with the inbuilt availability of force fields specific for proteins, make it one of the most popular choices for biomolecular simulations.\n",
    "(http://www.gromacs.org/).\n",
    "\n",
    "Complete **GROMACS tutorial** available at: http://www.mdtutorials.com/gmx/\n",
    "\n",
    "To see what gromacs version is installed on your PC:"
   ]
  },
  {
   "cell_type": "code",
   "execution_count": null,
   "metadata": {
    "colab": {
     "base_uri": "https://localhost:8080/"
    },
    "id": "QiftsBpN7raV",
    "outputId": "fb7e2b89-2cfa-43bb-8613-cb93316db266",
    "scrolled": true
   },
   "outputs": [],
   "source": [
    "!gmx -version"
   ]
  },
  {
   "cell_type": "markdown",
   "metadata": {
    "id": "cbSAT3zW9gLE",
    "slideshow": {
     "slide_type": "subslide"
    }
   },
   "source": [
    "All gromacs commands can be used with the syntax:\n",
    "\n",
    "`\n",
    "    gmx <command>\n",
    "`\n",
    "\n",
    "And all the commands have a help message that can be displayed using the option “-h”, e.g.:\n",
    "\n",
    "`\n",
    "    gmx pdb2gmx -h    \n",
    "`\n",
    "\n",
    "For basic and advanced GROMACS tutorial, please visit: http://www.mdtutorials.com/gmx/\n"
   ]
  },
  {
   "cell_type": "markdown",
   "metadata": {
    "id": "dCVxuTS29o5b",
    "slideshow": {
     "slide_type": "subslide"
    }
   },
   "source": [
    "## Files and suggested directory tree\n",
    "You will need the following files to run a simulation:\n",
    ">1. Atom coordinates: *.pdb (or *.gro)\n",
    ">2. Topology file: *.top\n",
    ">3. MD parameters: *.mdp"
   ]
  },
  {
   "cell_type": "markdown",
   "metadata": {
    "slideshow": {
     "slide_type": "subslide"
    }
   },
   "source": [
    "**1. PDB**\n",
    "- coordinates of atoms in the x,y,z space\n",
    "- see also the lesson *03-Intro_LinuxBash* for further info"
   ]
  },
  {
   "cell_type": "markdown",
   "metadata": {},
   "source": [
    "![title](imgs/pdb.png)"
   ]
  },
  {
   "cell_type": "markdown",
   "metadata": {
    "slideshow": {
     "slide_type": "subslide"
    }
   },
   "source": [
    "**2. TOP**\n",
    "- topology of the systems, i.e. bonds, angles, diehedrals, non-bonded interactios and relative parameters \n",
    "- generated by GROMACS once you select the forcefield (or made by yourself when you're a pro!)\n"
   ]
  },
  {
   "cell_type": "markdown",
   "metadata": {},
   "source": [
    "<img src=\"imgs/top2.png\" width=\"1200\" align=\"center\">"
   ]
  },
  {
   "cell_type": "markdown",
   "metadata": {
    "slideshow": {
     "slide_type": "subslide"
    }
   },
   "source": [
    "**3. MDP**\n",
    "- simulation parameters, such as integration time step, simulation duration, cut-off, temperature and pressure couplings, etc.."
   ]
  },
  {
   "cell_type": "markdown",
   "metadata": {},
   "source": [
    "![mdp](imgs/mdp.png)"
   ]
  },
  {
   "cell_type": "markdown",
   "metadata": {
    "slideshow": {
     "slide_type": "subslide"
    }
   },
   "source": [
    "*We suggest you create a new folder for each simulation you run, put all the necessary files into the simulation folder itself, and let GROMACS write into that same folder.* \n",
    "\n",
    "<div class=\"alert alert-block alert-warning\"> \n",
    "\n",
    "Keep in mind that GROMACS is a **command-line program**: \n",
    "    \n",
    "if you don’t specify the full paths to the required input files, but only the file name (example call: $ gmx make_ndx -s struct.tpr -o index.ndx ), GROMACS will expect the input file (struct.tpr) to be in the folder you’re calling it from, and will write the output file (index.ndx) into the same current folder. If struct.tpr is not in the current folder, GROMACS will throw an error and fail! GROMACS error messages are pretty explicit, so chances are READING THE ERROR is enough to troubleshoot most issues (e.g. if a required file is missing).\n",
    "\n",
    "<div/>"
   ]
  },
  {
   "cell_type": "markdown",
   "metadata": {
    "id": "2zYZ3tLK-VuI",
    "slideshow": {
     "slide_type": "subslide"
    }
   },
   "source": [
    "## Molecule: Cell-Penetrating Peptide\n",
    "\n",
    "The discovery of Cell-Penetrating Peptides (CPPs) represents an important breakthrough for the delivery of large cargo molecules or nanoparticles for several clinical applications. A main feature of CPPs is the ability to\n",
    "penetrate the cell membrane at low micromolar concentrations in vivo and in vitro, without binding any chiralreceptors and without causing significant membrane damage. This ability offers significant therapeutic potential,\n",
    "as targeting areas normally difficult to access for drugs.\n",
    "TAT peptide and Drosophila Antennapedia homeodomain-derived penetratin peptide (pAntp) are the most\n",
    "extensively studied CPPs. In particular, the pAntp is a 16-residues long cationic peptide derived from the third\n",
    "helix of the homeodomain of the Drosohila transcription factor Antennapedia. This amphipatic CPP, largely\n",
    "unstructured in solution, is positively charged at neutral pH (since it contains four lysine and three arginine\n",
    "residues). Interestingly, the pAntp is able to cross biological membranes and enter a hydrophobic environment\n",
    "upon interaction with negatively-charged molecules, like phosphatic acid (PA) or phosphatidylserine (PS).\n",
    "However, mechanisms by which pAntp comes into the cells have not been completely understood. Proposed\n",
    "mechanisms of pAntp cellular uptake hypothesize direct crossing of the peptide through the membrane at low\n",
    "peptide concentrations (1μM) and an endocytotic pathway at high concentrations (10μM). Several studies have\n",
    "suggested that pAntp amphiphilicity may not be enough to drive the membrane penetration, indicating instead\n",
    "tryptophan as key player. Replacement of thryptophan by phenylanine resulted in a loss of penetration activity\n",
    "when interacting with membranes and bicelles. Moreover, a recent computational work has characterized the\n",
    "binding mode of pAntp-DPPC bilayers, proposing arginine, lysine and tryptophan as driving the penetration\n",
    "mechanism.\n",
    "This extraordinary ability of CPPs to penetrate cell membranes has brought to designate them as perfect\n",
    "functionalization molecules for drug delivery systems.\n",
    "For example, pAntp might be employed to decorate Magnetic Nanoparticles (MNPs), thus combining their\n",
    "fascinating physico-chemical properties with a cell-penetrating ability to design novel effective therapeutic\n",
    "strategies as well as innovative biotechnology methodologies. Size, biocompatibility and excellent magnetic\n",
    "properties, have made MAG and Silica-coated MAG the object of a remarkable amount of research in the last\n",
    "decade and numerous biomedical applications have been reported. Recently, MNPs combined with magnetic\n",
    "fields were used to enable cell positioning under non-permissive conditions, local gene therapy and/or\n",
    "optimization of MNP- assisted lentiviral gene transfer.\n",
    "Functionalization strategies comprise grafting with organic molecules, including small organic biomolecules such\n",
    "as CPPs, and/or coating with an inorganic layer (e.g., silica).\n",
    "Design and properties prediction of functionalization strategies may be addressed by computational molecular\n",
    "modelling. In this context, Kubiak-Ossowska and coworkers have recently employed computational modelling\n",
    "to investigate the adsorption of TAT peptides onto three silica surface models. This work has suggested that TAT-\n",
    "Silica adsorption mechanism is driven by electrostatic and hydrophobic interactions mainly involving arginine\n",
    "residues and the nanoparticle surface."
   ]
  },
  {
   "cell_type": "markdown",
   "metadata": {
    "id": "-i1ArCAA-vL9",
    "slideshow": {
     "slide_type": "subslide"
    }
   },
   "source": [
    "## Molecular Dynamics (MD) Simulations\n",
    "\n",
    "Briefly, the general workflow of an MD simulation with GROMACS is\n",
    "divided in the following steps (see also “MD_FlowChart.pdf”):\n",
    "\n",
    "1. System Preparation\n",
    "> - Retrieve starting structure (e.g. RCSB)\n",
    "> - GROMACS structure conversion (from pdb to gro*)\n",
    ">- Topology (and position restraints) generation\n",
    ">- System box generation and addition of water and ions\n",
    "\n",
    "2. Energy Minimization\n",
    "3. Simulation\n",
    "> - (Equilibration: Molecular Dynamics Simulation normally with position restraints)\n",
    "> - Production: Molecular Dynamics Simulation\n",
    "\n",
    "4. Analysis of the Simulation"
   ]
  },
  {
   "cell_type": "markdown",
   "metadata": {
    "slideshow": {
     "slide_type": "subslide"
    }
   },
   "source": [
    "*note that both .gro and .pdb files both contain atomic coordinates and\n",
    "only differ for minor aspects:\n",
    "> - .gro coordinates are in nm, whereas *.pdb coordinates in Å\n",
    "> - .gro file can contain also atoms’ velocities\n",
    "\n",
    "GROMACS can work with both types of files and does not strictly need the .gro file format for most operations.\n",
    "It can be however handy to have a .gro file, for example, to quickly extract the box vector."
   ]
  },
  {
   "cell_type": "markdown",
   "metadata": {
    "id": "ly7hqZlqAcQi",
    "slideshow": {
     "slide_type": "subslide"
    }
   },
   "source": [
    "<img src=\"imgs/MD_FlowChart.png\" width=\"500\" align=\"center\">"
   ]
  },
  {
   "cell_type": "markdown",
   "metadata": {
    "id": "xxhGnfymAMa2",
    "slideshow": {
     "slide_type": "slide"
    }
   },
   "source": [
    "# STEP 1 – PDB conversion and system preparation"
   ]
  },
  {
   "cell_type": "markdown",
   "metadata": {
    "id": "wNxaUtHnBkoH"
   },
   "source": [
    "The protein of interest for the present tutorial is called penetratin.pdb (already present in the data/ folder)"
   ]
  },
  {
   "cell_type": "markdown",
   "metadata": {
    "id": "-yw0NAyKC5PA",
    "slideshow": {
     "slide_type": "-"
    }
   },
   "source": [
    "Using a visualization software (for example VMD, PyMol, UCSF Chimera, Schrödinger Maestro, MOE, ...) you can view and rotate the structure. Here we will use **NGL View** for semplicity."
   ]
  },
  {
   "cell_type": "code",
   "execution_count": null,
   "metadata": {
    "slideshow": {
     "slide_type": "-"
    }
   },
   "outputs": [],
   "source": [
    "import nglview as nv\n",
    "from IPython.display import IFrame\n",
    "\n",
    "with open(\"data/penetratin.pdb\") as f:\n",
    "    view = nv.show_file(f, ext=\"pdb\")\n",
    "view"
   ]
  },
  {
   "cell_type": "markdown",
   "metadata": {
    "id": "ZzVSrYfUe7jp",
    "slideshow": {
     "slide_type": "subslide"
    }
   },
   "source": [
    "Let’s now have a look at the actual pdb file, which is nothing more than a text file!"
   ]
  },
  {
   "cell_type": "code",
   "execution_count": null,
   "metadata": {
    "colab": {
     "base_uri": "https://localhost:8080/",
     "height": 400
    },
    "id": "wmlEVUByfLPs",
    "outputId": "a1683f01-e4c4-4c01-b0f4-daf8a1e3e8dd"
   },
   "outputs": [],
   "source": [
    "!cat data/penetratin.pdb"
   ]
  },
  {
   "cell_type": "markdown",
   "metadata": {
    "id": "D_UjJbcKf4YI"
   },
   "source": [
    "You will see that the pdb is essentially a space-separated text file organized into columns. \n",
    "Briefly:\n",
    "- The first column defines the row type (e.g. REMARK tells you that this row is a comment, ATOM tells you that this row contains actual atomic coordinates, etc.).\n",
    "- Columns 7, 8 and 9 contain the x,y,z coordinates of the atoms of the system.\n",
    "\n",
    "For more information: https://www.cgl.ucsf.edu/chimera/docs/UsersGuide/tutorials/pdbintro.html."
   ]
  },
  {
   "cell_type": "markdown",
   "metadata": {
    "id": "9__i_ebQgGvK",
    "slideshow": {
     "slide_type": "subslide"
    }
   },
   "source": [
    "## Make Index File (gmx make_ndx)\n"
   ]
  },
  {
   "cell_type": "markdown",
   "metadata": {
    "id": "kH6kRGS2gihh"
   },
   "source": [
    "We now introduce a very powerful tool in GROMACS: index files. Index files are created starting from an atomic system (e.g. a pdb file), and split atoms into specific groups. These can be useful to restrict operations and analyses only to specific parts of the system, for example, if you want to see fluctuations of the alpha-Carbons only, you can select that specific group in the analysis tool.\n",
    "\n",
    "To have detailed information about the command to make index files, just type:"
   ]
  },
  {
   "cell_type": "code",
   "execution_count": null,
   "metadata": {
    "colab": {
     "base_uri": "https://localhost:8080/",
     "height": 400
    },
    "id": "7IUc41ZlgoDS",
    "outputId": "11b0f4d0-87fc-400d-b745-37a70fd679a7",
    "scrolled": true
   },
   "outputs": [],
   "source": [
    "!gmx make_ndx -h"
   ]
  },
  {
   "cell_type": "markdown",
   "metadata": {
    "id": "W39IMDUni4Vm",
    "slideshow": {
     "slide_type": "subslide"
    }
   },
   "source": [
    "Let’s first create an index file (it will not be created by default when you launch the simulation!):"
   ]
  },
  {
   "cell_type": "code",
   "execution_count": null,
   "metadata": {
    "scrolled": true
   },
   "outputs": [],
   "source": [
    "!echo -e \"q \\n\" | gmx make_ndx -f data/penetratin.pdb -o index.ndx"
   ]
  },
  {
   "cell_type": "markdown",
   "metadata": {
    "id": "XbfulkTJjRYE"
   },
   "source": [
    "You will see that make_ndx will read the pdb file (option “-f”), create some default groups and then wait for your input. \n",
    "\n",
    "You can manually add groups by typing the atoms manually (we will see the selection syntax later on...), or simply accept the default groups and save them by typing q and hitting Enter. The final index file (index.ndx) will be saved with the name chosen in the option “-o”."
   ]
  },
  {
   "cell_type": "markdown",
   "metadata": {
    "id": "Vz_K0e34CAs_",
    "slideshow": {
     "slide_type": "subslide"
    }
   },
   "source": [
    "## Edit molecular configuration (gmx editconf)"
   ]
  },
  {
   "cell_type": "markdown",
   "metadata": {},
   "source": [
    "As mentioned, the previous groups obtained with gmx make_ndx can be used to tell GROMACS to do operations on a specific subset of atoms only. Let’s say for example I want a pdb file containing only the alpha Carbons of my starting penetratin.pdb structure. I can achieve this by calling editconf (which, as the name suggests, is an editor for molecular configurations) and also including the index.ndx file as input:"
   ]
  },
  {
   "cell_type": "code",
   "execution_count": null,
   "metadata": {
    "scrolled": true
   },
   "outputs": [],
   "source": [
    "!echo \"C-alpha\" | gmx editconf -f data/penetratin.pdb -o calpha.pdb -n index.ndx"
   ]
  },
  {
   "cell_type": "markdown",
   "metadata": {},
   "source": [
    "In simpler words, this command is saying:\n",
    "\n",
    "***“Call the editconf utility, read the penetratin.pdb and the index.ndx files, and write the result to calpha.pdb”***"
   ]
  },
  {
   "cell_type": "markdown",
   "metadata": {
    "slideshow": {
     "slide_type": "subslide"
    }
   },
   "source": [
    "Have a look to the only c-alpha structure: "
   ]
  },
  {
   "cell_type": "code",
   "execution_count": null,
   "metadata": {},
   "outputs": [],
   "source": [
    "with open(\"calpha.pdb\") as f:\n",
    "    view = nv.show_file(f, ext=\"pdb\")\n",
    "\n",
    "view.add_representation(\"hyperball\")    \n",
    "view"
   ]
  },
  {
   "cell_type": "markdown",
   "metadata": {},
   "source": [
    "Indeed, editconf will prompt for a group. Choose C-alpha by typing 3 and hitting Enter. Editconf will confirm the selection and write atoms belonging to the C-alpha group to the file calpha.pdb (check it by opening the file with a text editor!). Easy, right?"
   ]
  },
  {
   "cell_type": "markdown",
   "metadata": {
    "slideshow": {
     "slide_type": "subslide"
    }
   },
   "source": [
    "## Prepare file for Gromacs (gmx pdb2gmx)"
   ]
  },
  {
   "cell_type": "markdown",
   "metadata": {},
   "source": [
    "We have to generate a **topology** for the system and convert it to the **.gro file format**. \n",
    "\n",
    "The tool for conversion is **pdb2gmx**. As always, you can use the -h flag to print some help:"
   ]
  },
  {
   "cell_type": "code",
   "execution_count": null,
   "metadata": {},
   "outputs": [],
   "source": [
    "!gmx pdb2gmx -h"
   ]
  },
  {
   "cell_type": "markdown",
   "metadata": {
    "slideshow": {
     "slide_type": "-"
    }
   },
   "source": [
    "The main options of the **pdb2gmx** tool are:\n",
    "> - f: input file (coordinates, so .pdb or .gro)\n",
    "> - p: topology output file (a text file, ending in .top)\n",
    "> - o: structure output file (coordinates after processing, again .pdb or .gro)\n",
    "> - i: position restraints output file (.itp)"
   ]
  },
  {
   "cell_type": "code",
   "execution_count": null,
   "metadata": {
    "scrolled": true,
    "slideshow": {
     "slide_type": "subslide"
    }
   },
   "outputs": [],
   "source": [
    "!gmx pdb2gmx -f data/penetratin.pdb -i penetratin_posre.itp -p penetratin.top -o penetratin.gro -ff amber99sb-ildn  -ignh -heavyh -water tip3p"
   ]
  },
  {
   "cell_type": "markdown",
   "metadata": {},
   "source": [
    "Let's have a look at all the options of the program: \n",
    "\n",
    "- **ff** : forcefield -> The force field will contain the information that will be written to the topology. This is a very important choice! You should always read thoroughly about each force field and decide which is most applicable to your situation.\n",
    "\n",
    "- **water**: water model chosen among TIP3P, TIP4P, TIP4P-Ew, TIP5P, SPC, SPC/E\n",
    "\n",
    "- **ignh**: it stands for “ignore hydrogens”, so it will ignore all the hydrogens in the input coordinate file\n",
    "\n",
    "- **heavyh**: makes hydrogen atoms heavy to reduce oscillation frequency"
   ]
  },
  {
   "cell_type": "markdown",
   "metadata": {
    "slideshow": {
     "slide_type": "subslide"
    }
   },
   "source": [
    "Have a look at the generated files:"
   ]
  },
  {
   "cell_type": "code",
   "execution_count": null,
   "metadata": {
    "slideshow": {
     "slide_type": "-"
    }
   },
   "outputs": [],
   "source": [
    "!ls -l"
   ]
  },
  {
   "cell_type": "markdown",
   "metadata": {},
   "source": [
    "Have a look at the *.gro file with a text editor to see the differences with the pdb file!"
   ]
  },
  {
   "cell_type": "markdown",
   "metadata": {
    "slideshow": {
     "slide_type": "subslide"
    }
   },
   "source": [
    "## Define the simulation box"
   ]
  },
  {
   "cell_type": "markdown",
   "metadata": {},
   "source": [
    "Now, we defined the parameters and water model to be used in the simulation. The next step in the preparation of the system is to actually put the system in a simulation box with the appropriate shape and dimension.\n",
    "\n",
    "There are several possible shapes of the unit cell, such as the cubic or the dodecahedron. The dodecahedron is sometimes chosen to simulate globular systems, since its volume is ~71% of the cubic box with the same distance between periodic distance.\n",
    "\n",
    "The volume of the box must be optimized in real-life problems because it allows to lower the computational cost of the simulation. Indeed, as we will see in the following steps, the box will be filled with water molecules and ions, thus increasing exponentially the number of atoms in the system.\n",
    "\n",
    "<div class=\"alert alert-block alert-info\"><b>Which terms of the potential energy definition are linked to the exponential growth of the computational cost with the number of atoms in the system?</b></div>"
   ]
  },
  {
   "cell_type": "markdown",
   "metadata": {},
   "source": [
    "In this tutorial, we will put our protein in the center of a cubic box big enough to have a minimum distance between the protein and the box wall of 0.8 nm.\n",
    "\n",
    "<center> <div class=\"alert alert-block alert-info\"><b>Is this distance enough to respect the minimum image convention?</b></div>"
   ]
  },
  {
   "cell_type": "markdown",
   "metadata": {
    "slideshow": {
     "slide_type": "subslide"
    }
   },
   "source": [
    "The GROMACS command that allows us to do this operation is:\n",
    "```bash\n",
    "$ gmx editconf -f penetratin.gro -o box.gro -c -d 0.8 -bt cubic \n",
    "```\n",
    "the above command take the atoms in the file `penetratin.gro`, places the origin of the reference system at their center (`-c`), then builds around them a cubic box (`-bt cubic`) with the constraint that the minimum distance between the atoms of the system and the box wall is 0.8 nm (`-d 0.8`).\n",
    "\n",
    "The `editconf` command allows to manipulate the molecular systems is several different ways and it has a lot of different options, some of them are:\n",
    "\n",
    "|Field|Type|Description|\n",
    "|-----|---------|-----------|\n",
    "|-f|.gro, .pdb| Input structure file |\n",
    "|-n|.ndx| Input index file when you want to consider only a subset of the atoms |\n",
    "|-o|.gro, .pdb| Output structure file |\n",
    "|-bt| \\<enum\\> | Box type for -box and -d: triclinic, cubic, dodecahedron, octahedron |\n",
    "|-box| \\<vector\\> | Box vector lengths. E.g. -box 10 5 20 |\n",
    "|-angles| \\<vector\\> | Angles between box vectors. E.g. -angles 90 30 60 |\n",
    "|-d| \\<real\\> | Distance between the solute and the box |\n",
    "|-c| None | Center molecule in box (implied by -box and -d)|\n",
    "|-align|\\<vector\\>| Align to target vector. E.g. -align 1 0 0. NB: you have to tell GROMACS what to align! |\n",
    "|-translate|\\<vector\\>| Translation of the provided vector |\n",
    "|-rotate|\\<vector\\>| Rotation around the X, Y and Z axes in degrees |\n",
    "|-princ| None |  Orient molecule(s) along their principal axes. NB: you have to tell GROMACS what to orient and use to define the principal axis! |"
   ]
  },
  {
   "cell_type": "code",
   "execution_count": null,
   "metadata": {
    "scrolled": true,
    "slideshow": {
     "slide_type": "subslide"
    }
   },
   "outputs": [],
   "source": [
    "!gmx editconf -f penetratin.gro -o box.gro -c -d 0.8 -bt cubic"
   ]
  },
  {
   "cell_type": "markdown",
   "metadata": {},
   "source": [
    "If we now check the last line of the new file we can find the box dimensions:"
   ]
  },
  {
   "cell_type": "code",
   "execution_count": null,
   "metadata": {},
   "outputs": [],
   "source": [
    "!tail -n 1 box.gro"
   ]
  },
  {
   "cell_type": "markdown",
   "metadata": {},
   "source": [
    "We can also check our new system using VMD. Onces you have opened `box.gro` in VMD show the box using the terminal or the Tk console\n",
    "\n",
    "```bash\n",
    "vmd > pbc box\n",
    "```"
   ]
  },
  {
   "cell_type": "markdown",
   "metadata": {
    "slideshow": {
     "slide_type": "subslide"
    }
   },
   "source": [
    "## Solvation of the system"
   ]
  },
  {
   "cell_type": "markdown",
   "metadata": {},
   "source": [
    "Now that the box has been set, we have to introduce the **environment**. We will model the environment as a simple **aqueous system**, but it is possible to use also **different solvents**, provided that good parameters are provided for the species involved. Here, we use an explicit model of water.\n",
    "\n",
    "In the previous laboratory, we have decided to use the TIP3P water model to define the topology of the water molecule. Let's look for a moment at how such water model is defined in the built-in gromacs topologies:"
   ]
  },
  {
   "cell_type": "code",
   "execution_count": null,
   "metadata": {},
   "outputs": [],
   "source": [
    "%%bash\n",
    "dd=$(gmx --version | grep \"Data prefix:\" | cut -d \":\" -f 2)\n",
    "cat $dd/share/gromacs/top/amber99sb-ildn.ff/tip3p.itp | head -n 10"
   ]
  },
  {
   "cell_type": "markdown",
   "metadata": {},
   "source": [
    "- the default name, under the **[ moleculetype ]** section is **SOL**. Keep that in mind for a moment;\n",
    "- the water molecule is made of three atoms, one oxygen and two hydrogens. You can observe that the definition of such atoms under the panel **[ atoms ]**. Notice that the two hydrogen are of the same _atom type_, which means that they are modelled with the same parameters. However, two different _atom names_ are present since they represent two atoms of the same \"residue\";\n",
    "- the water \"residue\" is named **SOL**"
   ]
  },
  {
   "cell_type": "markdown",
   "metadata": {
    "slideshow": {
     "slide_type": "subslide"
    }
   },
   "source": [
    "In this topology you can also find the _bond_ and _angle_ paramters:"
   ]
  },
  {
   "cell_type": "code",
   "execution_count": null,
   "metadata": {},
   "outputs": [],
   "source": [
    "%%bash\n",
    "dd=$(gmx --version | grep \"Data prefix:\" | cut -d \":\" -f 2)\n",
    "cat $dd/share/gromacs/top/amber99sb-ildn.ff/tip3p.itp | tail -n 12 | head -n -1"
   ]
  },
  {
   "cell_type": "markdown",
   "metadata": {},
   "source": [
    "Here we can read the parameters to model the bonded interaction between the atoms of the **TIP3P water molecule**.\n",
    "Notice that the two _bond_ parameters are identical since they represent the same bond between hydrogen and oxygen."
   ]
  },
  {
   "cell_type": "markdown",
   "metadata": {
    "slideshow": {
     "slide_type": "subslide"
    }
   },
   "source": [
    "\n",
    "After this initial consideration, we can solvate the system, i.e. fill the box with water. The GROMACS command that allows us to do this operation is:\n",
    "```bash\n",
    "$ gmx solvate -cp box.gro -o solvated.gro -p topol.top [-cs spc216.gro] \n",
    "```\n",
    "The above command take the system contained in the file `box.gro`, fills the unit cell with water molecules avoiding clasches between the inserted molecules and the atoms already present in the system, writes the output file in `solvated.gro`, then counts how many water molecules have been placed and updates the provided topology file (`-p topol.top`). The argument `-cs spc216.gro` in between brackets since it is optional: if nothing is told to GROMACS, it will use this simple equilibrated 3-point solvent model which can be used fro SPC and TIP3P water models. The file `spc216.gro` is present in the built-in gromacs libraries.\n",
    "\n",
    "With the `solvate` command, you can also insert only a shell of water molecules around the protein specifying `-shell <radius>`."
   ]
  },
  {
   "cell_type": "code",
   "execution_count": null,
   "metadata": {
    "scrolled": true
   },
   "outputs": [],
   "source": [
    "!gmx solvate -cp box.gro -o solvated.gro -p penetratin.top"
   ]
  },
  {
   "cell_type": "markdown",
   "metadata": {
    "slideshow": {
     "slide_type": "subslide"
    }
   },
   "source": [
    "Let's look at the output file and the updated topology:"
   ]
  },
  {
   "cell_type": "code",
   "execution_count": null,
   "metadata": {},
   "outputs": [],
   "source": [
    "!tail -n 20 solvated.gro"
   ]
  },
  {
   "cell_type": "code",
   "execution_count": null,
   "metadata": {},
   "outputs": [],
   "source": [
    "!tail penetratin.top -n 5"
   ]
  },
  {
   "cell_type": "markdown",
   "metadata": {
    "slideshow": {
     "slide_type": "subslide"
    }
   },
   "source": [
    "<div class=\"alert alert-block alert-warning\"><b>Important observation</b><br>As you have seen, GROMACS have updated the topology file to take count of the modification that we have done on the system. The old topology file is not lost, it is saved as #topol.top.1#.</div>\n",
    "<br>\n",
    "<div class=\"alert alert-block alert-danger\"><b>Important observation</b><br> GROMACS is a fantastic computer program, but still a computer program. This means that it does what you tell him. If you repeat the command above two times, GROMACS will take the empty box, fill it and update the topol.top file two times. This will result in a topology file containing double the water that is actually present in the solvated.gro file. This will generate a <b>Fatal Error</b> in the following steps.</div>"
   ]
  },
  {
   "cell_type": "markdown",
   "metadata": {
    "slideshow": {
     "slide_type": "subslide"
    }
   },
   "source": [
    "### Influence of the box shape and dimension on system size"
   ]
  },
  {
   "cell_type": "markdown",
   "metadata": {},
   "source": [
    "We have told you before that the dodecahedric box allows to reduce the volume of the system and reduce the computational cost of the simulation. Let's now look in practice at the amount of water molecules that would have been added using a dodecahedric box.\n",
    "\n",
    "Since we do not wat to mess with the filed produced until now, let's move everything in a folder."
   ]
  },
  {
   "cell_type": "code",
   "execution_count": null,
   "metadata": {},
   "outputs": [],
   "source": [
    "%%bash\n",
    "ls"
   ]
  },
  {
   "cell_type": "code",
   "execution_count": null,
   "metadata": {},
   "outputs": [],
   "source": [
    "%%bash\n",
    "# backup everything in a folder \n",
    "mkdir -p cubic_box\n",
    "mv box.gro solvated.gro penetratin.top \\#penetratin.top.1# cubic_box/\n",
    "\n",
    "# restore the original topology (only protein and not water inside) -> remove last line of the topology (SOL)\n",
    "cat cubic_box/penetratin.top | head -n -1 >penetratin.top\n",
    "\n",
    "# now, repeat everything with different box\n",
    "gmx editconf -f penetratin.gro -o dodecahedron.gro -c -d 0.8 -bt dodecahedron > /dev/null 2>&1\n",
    "gmx solvate -cp dodecahedron.gro -o dodecahedron_solvated.gro -p penetratin.top > /dev/null 2>&1\n",
    "\n",
    "# Let's look at the new topology\n",
    "tail penetratin.top -n 5"
   ]
  },
  {
   "cell_type": "code",
   "execution_count": null,
   "metadata": {},
   "outputs": [],
   "source": []
  }
 ],
 "metadata": {
  "celltoolbar": "Slideshow",
  "colab": {
   "provenance": []
  },
  "kernelspec": {
   "display_name": "Python 3 (ipykernel)",
   "language": "python",
   "name": "python3"
  },
  "language_info": {
   "codemirror_mode": {
    "name": "ipython",
    "version": 3
   },
   "file_extension": ".py",
   "mimetype": "text/x-python",
   "name": "python",
   "nbconvert_exporter": "python",
   "pygments_lexer": "ipython3",
   "version": "3.10.6"
  },
  "toc": {
   "base_numbering": 1,
   "nav_menu": {},
   "number_sections": true,
   "sideBar": true,
   "skip_h1_title": false,
   "title_cell": "Table of Contents",
   "title_sidebar": "Contents",
   "toc_cell": false,
   "toc_position": {},
   "toc_section_display": true,
   "toc_window_display": false
  },
  "vscode": {
   "interpreter": {
    "hash": "a04d7f76d528f9c131396aa3849d34d95981463625d620e907bc7853b8ff2908"
   }
  }
 },
 "nbformat": 4,
 "nbformat_minor": 1
}
