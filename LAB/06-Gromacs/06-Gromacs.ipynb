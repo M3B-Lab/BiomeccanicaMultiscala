{
 "cells": [
  {
   "cell_type": "markdown",
   "metadata": {
    "slideshow": {
     "slide_type": "slide"
    }
   },
   "source": [
    "<a href=\"https://colab.research.google.com/github/lorenzopallante/BiomeccanicaMultiscala/blob/main/LAB/06-Gromacs/06-Gromacs.ipynb\" target=\"_parent\"><img src=\"https://colab.research.google.com/assets/colab-badge.svg\" alt=\"Open In Colab\"/></a>"
   ]
  },
  {
   "cell_type": "markdown",
   "metadata": {
    "slideshow": {
     "slide_type": "-"
    }
   },
   "source": [
    "# Laboratorio 6\n",
    "**Introduction to GROMACS**\n",
    "\n",
    "\n",
    "Authors:\n",
    "    \n",
    "- Prof. Marco A. Deriu (marco.deriu@polito.it)\n",
    "- Lorenzo Pallante (lorenzo.pallante@polito.it)\n",
    "- Eric A. Zizzi (eric.zizzi@polito.it)\n",
    "- Marcello Miceli (marcello.miceli@polito.it)\n",
    "- Marco Cannariato (marco.cannariato@polito.it)"
   ]
  },
  {
   "cell_type": "markdown",
   "metadata": {
    "slideshow": {
     "slide_type": "slide"
    }
   },
   "source": [
    "# Table of Contents\n",
    "\n",
    "1. Gromacs Setup \n",
    "2. Molecular Dynamics (MD) Flow chart\n",
    "3. GROMACS 1 (make_ndx, editconf, pdb2gmx)\n",
    "4. GROMACS 2 (editconf, solvate, grompp, genion)\n",
    "5. GROMACS 3 (grompp, mdrun, energy)\n",
    "6. GROMACS 4 (analysis)\n",
    "\n",
    "**Learning outcomes:** \n",
    "- how to install gromacs and lauch it\n",
    "- General flow chart of a MD simulation\n",
    "- GROMACS:\n",
    "    - create an index file\n",
    "    - generate a simulation box\n",
    "    - create gmx starting files\n",
    "    - prepare the simulation box\n",
    "    - generate the environment: solvent and ions\n",
    "    - equilibrate the system\n",
    "    - perform classical MD simulation\n",
    "    - perform basic analysis"
   ]
  },
  {
   "cell_type": "markdown",
   "metadata": {
    "id": "owpIBUkna5Ow",
    "slideshow": {
     "slide_type": "slide"
    }
   },
   "source": [
    "# Setup"
   ]
  },
  {
   "cell_type": "markdown",
   "metadata": {
    "slideshow": {
     "slide_type": "-"
    }
   },
   "source": [
    "If you don't have GROMACS and NGLView installed on your machine or if you are using Google COLAB, run the following lines\n",
    "\n",
    "**This lines should be run at the beginning of each laboratory**"
   ]
  },
  {
   "cell_type": "code",
   "execution_count": null,
   "metadata": {},
   "outputs": [],
   "source": [
    "#@title Increase the output length \n",
    "from notebook.services.config import ConfigManager\n",
    "cm = ConfigManager().update('notebook', {'limit_output': 10000000})"
   ]
  },
  {
   "cell_type": "code",
   "execution_count": null,
   "metadata": {
    "cellView": "form",
    "executionInfo": {
     "elapsed": 16217,
     "status": "ok",
     "timestamp": 1662116875669,
     "user": {
      "displayName": "Lorenzo Pallante",
      "userId": "15223561348967771574"
     },
     "user_tz": -120
    },
    "id": "B8_MjDYnhDwh",
    "slideshow": {
     "slide_type": "-"
    }
   },
   "outputs": [],
   "source": [
    "#@title Installing GROMACS and related packages\n",
    "!apt install gromacs &> /dev/null\n",
    "!apt install dssp &> /dev/null\n",
    "!ln -s /usr/bin/dssp /usr/local/bin/dssp\n",
    "!apt install ghostscript &> /dev/null"
   ]
  },
  {
   "cell_type": "code",
   "execution_count": null,
   "metadata": {
    "cellView": "form",
    "executionInfo": {
     "elapsed": 16985,
     "status": "ok",
     "timestamp": 1662116892987,
     "user": {
      "displayName": "Lorenzo Pallante",
      "userId": "15223561348967771574"
     },
     "user_tz": -120
    },
    "id": "C2hA7f_MEF5K",
    "slideshow": {
     "slide_type": "-"
    }
   },
   "outputs": [],
   "source": [
    "#@title Installing NGLview\n",
    "!pip install nglview  &> /dev/null\n",
    "!pip install simpletraj  &> /dev/null\n",
    "!pip install mdanalysis &> /dev/null\n",
    "from google.colab import output\n",
    "output.enable_custom_widget_manager()"
   ]
  },
  {
   "cell_type": "markdown",
   "metadata": {},
   "source": [
    "Clone files form GitHub if you are using COLAB"
   ]
  },
  {
   "cell_type": "code",
   "execution_count": null,
   "metadata": {},
   "outputs": [],
   "source": [
    "# IF YOU ARE USING COLAB EXECUTE THIS CELL (to copy over data repository)\n",
    "!git clone https://github.com/lorenzopallante/BiomeccanicaMultiscala.git\n",
    "!mv BiomeccanicaMultiscala/LAB/06-Gromacs/* ."
   ]
  },
  {
   "cell_type": "markdown",
   "metadata": {
    "id": "D6nSkKIS8r53",
    "slideshow": {
     "slide_type": "slide"
    }
   },
   "source": [
    "# Introduction"
   ]
  },
  {
   "cell_type": "markdown",
   "metadata": {
    "id": "ssFzV4Bb85v5"
   },
   "source": [
    "**GROMACS is a major free, open-source, and fast code developed for Molecular Dynamics (MD) simulations**. Its continuous updates (1 major release/year), speed, efficiency and flexibility, along with the inbuilt availability of force fields specific for proteins, make it one of the most popular choices for biomolecular simulations.\n",
    "(http://www.gromacs.org/).\n",
    "\n",
    "Complete **GROMACS tutorial** available at: http://www.mdtutorials.com/gmx/\n",
    "\n",
    "To see what gromacs version is installed on your PC:"
   ]
  },
  {
   "cell_type": "code",
   "execution_count": null,
   "metadata": {
    "colab": {
     "base_uri": "https://localhost:8080/"
    },
    "id": "QiftsBpN7raV",
    "outputId": "fb7e2b89-2cfa-43bb-8613-cb93316db266",
    "scrolled": true
   },
   "outputs": [],
   "source": [
    "!gmx -version"
   ]
  },
  {
   "cell_type": "markdown",
   "metadata": {
    "id": "cbSAT3zW9gLE",
    "slideshow": {
     "slide_type": "subslide"
    }
   },
   "source": [
    "All gromacs commands can be used with the syntax:\n",
    "\n",
    "`\n",
    "    gmx <command>\n",
    "`\n",
    "\n",
    "And all the commands have a help message that can be displayed using the option “-h”, e.g.:\n",
    "\n",
    "`\n",
    "    gmx pdb2gmx -h    \n",
    "`\n",
    "\n",
    "For basic and advanced GROMACS tutorial, please visit: http://www.mdtutorials.com/gmx/\n"
   ]
  },
  {
   "cell_type": "markdown",
   "metadata": {
    "id": "dCVxuTS29o5b",
    "slideshow": {
     "slide_type": "subslide"
    }
   },
   "source": [
    "## Files and suggested directory tree\n",
    "You will need the following files to run a simulation:\n",
    ">1. Atom coordinates: *.pdb (or *.gro)\n",
    ">2. Topology file: *.top\n",
    ">3. MD parameters: *.mdp"
   ]
  },
  {
   "cell_type": "markdown",
   "metadata": {
    "slideshow": {
     "slide_type": "subslide"
    }
   },
   "source": [
    "**1. PDB**\n",
    "- coordinates of atoms in the x,y,z space\n",
    "- see also the lesson *03-Intro_LinuxBash* for further info"
   ]
  },
  {
   "cell_type": "markdown",
   "metadata": {},
   "source": [
    "![title](imgs/pdb.png)"
   ]
  },
  {
   "cell_type": "markdown",
   "metadata": {
    "slideshow": {
     "slide_type": "subslide"
    }
   },
   "source": [
    "**2. TOP**\n",
    "- topology of the systems, i.e. bonds, angles, diehedrals, non-bonded interactios and relative parameters \n",
    "- generated by GROMACS once you select the forcefield (or made by yourself when you're a pro!)\n"
   ]
  },
  {
   "cell_type": "markdown",
   "metadata": {},
   "source": [
    "<img src=\"imgs/top2.png\" width=\"1200\" align=\"center\">"
   ]
  },
  {
   "cell_type": "markdown",
   "metadata": {
    "slideshow": {
     "slide_type": "subslide"
    }
   },
   "source": [
    "**3. MDP**\n",
    "- simulation parameters, such as integration time step, simulation duration, cut-off, temperature and pressure couplings, etc.."
   ]
  },
  {
   "cell_type": "markdown",
   "metadata": {},
   "source": [
    "![mdp](imgs/mdp.png)"
   ]
  },
  {
   "cell_type": "markdown",
   "metadata": {
    "slideshow": {
     "slide_type": "subslide"
    }
   },
   "source": [
    "*We suggest you create a new folder for each simulation you run, put all the necessary files into the simulation folder itself, and let GROMACS write into that same folder.* \n",
    "\n",
    "<div class=\"alert alert-block alert-warning\"> \n",
    "\n",
    "Keep in mind that GROMACS is a **command-line program**: \n",
    "    \n",
    "if you don’t specify the full paths to the required input files, but only the file name (example call: $ gmx make_ndx -s struct.tpr -o index.ndx ), GROMACS will expect the input file (struct.tpr) to be in the folder you’re calling it from, and will write the output file (index.ndx) into the same current folder. If struct.tpr is not in the current folder, GROMACS will throw an error and fail! GROMACS error messages are pretty explicit, so chances are READING THE ERROR is enough to troubleshoot most issues (e.g. if a required file is missing).\n",
    "\n",
    "<div/>"
   ]
  },
  {
   "cell_type": "markdown",
   "metadata": {
    "id": "2zYZ3tLK-VuI",
    "slideshow": {
     "slide_type": "subslide"
    }
   },
   "source": [
    "## Molecule: Cell-Penetrating Peptide\n",
    "\n",
    "The discovery of Cell-Penetrating Peptides (CPPs) represents an important breakthrough for the delivery of large cargo molecules or nanoparticles for several clinical applications. A main feature of CPPs is the ability to\n",
    "penetrate the cell membrane at low micromolar concentrations in vivo and in vitro, without binding any chiralreceptors and without causing significant membrane damage. This ability offers significant therapeutic potential,\n",
    "as targeting areas normally difficult to access for drugs.\n",
    "TAT peptide and Drosophila Antennapedia homeodomain-derived penetratin peptide (pAntp) are the most\n",
    "extensively studied CPPs. In particular, the pAntp is a 16-residues long cationic peptide derived from the third\n",
    "helix of the homeodomain of the Drosohila transcription factor Antennapedia. This amphipatic CPP, largely\n",
    "unstructured in solution, is positively charged at neutral pH (since it contains four lysine and three arginine\n",
    "residues). Interestingly, the pAntp is able to cross biological membranes and enter a hydrophobic environment\n",
    "upon interaction with negatively-charged molecules, like phosphatic acid (PA) or phosphatidylserine (PS).\n",
    "However, mechanisms by which pAntp comes into the cells have not been completely understood. Proposed\n",
    "mechanisms of pAntp cellular uptake hypothesize direct crossing of the peptide through the membrane at low\n",
    "peptide concentrations (1μM) and an endocytotic pathway at high concentrations (10μM). Several studies have\n",
    "suggested that pAntp amphiphilicity may not be enough to drive the membrane penetration, indicating instead\n",
    "tryptophan as key player. Replacement of thryptophan by phenylanine resulted in a loss of penetration activity\n",
    "when interacting with membranes and bicelles. Moreover, a recent computational work has characterized the\n",
    "binding mode of pAntp-DPPC bilayers, proposing arginine, lysine and tryptophan as driving the penetration\n",
    "mechanism.\n",
    "This extraordinary ability of CPPs to penetrate cell membranes has brought to designate them as perfect\n",
    "functionalization molecules for drug delivery systems.\n",
    "For example, pAntp might be employed to decorate Magnetic Nanoparticles (MNPs), thus combining their\n",
    "fascinating physico-chemical properties with a cell-penetrating ability to design novel effective therapeutic\n",
    "strategies as well as innovative biotechnology methodologies. Size, biocompatibility and excellent magnetic\n",
    "properties, have made MAG and Silica-coated MAG the object of a remarkable amount of research in the last\n",
    "decade and numerous biomedical applications have been reported. Recently, MNPs combined with magnetic\n",
    "fields were used to enable cell positioning under non-permissive conditions, local gene therapy and/or\n",
    "optimization of MNP- assisted lentiviral gene transfer.\n",
    "Functionalization strategies comprise grafting with organic molecules, including small organic biomolecules such\n",
    "as CPPs, and/or coating with an inorganic layer (e.g., silica).\n",
    "Design and properties prediction of functionalization strategies may be addressed by computational molecular\n",
    "modelling. In this context, Kubiak-Ossowska and coworkers have recently employed computational modelling\n",
    "to investigate the adsorption of TAT peptides onto three silica surface models. This work has suggested that TAT-\n",
    "Silica adsorption mechanism is driven by electrostatic and hydrophobic interactions mainly involving arginine\n",
    "residues and the nanoparticle surface."
   ]
  },
  {
   "cell_type": "markdown",
   "metadata": {
    "id": "-i1ArCAA-vL9",
    "slideshow": {
     "slide_type": "subslide"
    }
   },
   "source": [
    "## Molecular Dynamics (MD) Simulations\n",
    "\n",
    "Briefly, the general workflow of an MD simulation with GROMACS is\n",
    "divided in the following steps (see also “MD_FlowChart.pdf”):\n",
    "\n",
    "1. System Preparation\n",
    "> - Retrieve starting structure (e.g. RCSB)\n",
    "> - GROMACS structure conversion (from pdb to gro*)\n",
    ">- Topology (and position restraints) generation\n",
    ">- System box generation and addition of water and ions\n",
    "\n",
    "2. Energy Minimization\n",
    "3. Simulation\n",
    "> - (Equilibration: Molecular Dynamics Simulation normally with position restraints)\n",
    "> - Production: Molecular Dynamics Simulation\n",
    "\n",
    "4. Analysis of the Simulation"
   ]
  },
  {
   "cell_type": "markdown",
   "metadata": {
    "slideshow": {
     "slide_type": "subslide"
    }
   },
   "source": [
    "*note that both .gro and .pdb files both contain atomic coordinates and\n",
    "only differ for minor aspects:\n",
    "> - .gro coordinates are in nm, whereas *.pdb coordinates in Å\n",
    "> - .gro file can contain also atoms’ velocities\n",
    "\n",
    "GROMACS can work with both types of files and does not strictly need the .gro file format for most operations.\n",
    "It can be however handy to have a .gro file, for example, to quickly extract the box vector."
   ]
  },
  {
   "cell_type": "markdown",
   "metadata": {
    "id": "ly7hqZlqAcQi",
    "slideshow": {
     "slide_type": "subslide"
    }
   },
   "source": [
    "<img src=\"imgs/MD_FlowChart.png\" width=\"500\" align=\"center\">"
   ]
  },
  {
   "cell_type": "markdown",
   "metadata": {
    "id": "xxhGnfymAMa2",
    "slideshow": {
     "slide_type": "slide"
    }
   },
   "source": [
    "# PART 1 – PDB conversion"
   ]
  },
  {
   "cell_type": "markdown",
   "metadata": {
    "id": "wNxaUtHnBkoH"
   },
   "source": [
    "The protein of interest for the present tutorial is called penetratin.pdb (already present in the data/ folder)"
   ]
  },
  {
   "cell_type": "markdown",
   "metadata": {
    "id": "-yw0NAyKC5PA",
    "slideshow": {
     "slide_type": "-"
    }
   },
   "source": [
    "Using a visualization software (for example VMD, PyMol, UCSF Chimera, Schrödinger Maestro, MOE, ...) you can view and rotate the structure. Here we will use **NGL View** for semplicity."
   ]
  },
  {
   "cell_type": "code",
   "execution_count": null,
   "metadata": {
    "slideshow": {
     "slide_type": "-"
    }
   },
   "outputs": [],
   "source": [
    "import nglview as nv\n",
    "from IPython.display import IFrame\n",
    "\n",
    "with open(\"data/penetratin.pdb\") as f:\n",
    "    view = nv.show_file(f, ext=\"pdb\")\n",
    "view"
   ]
  },
  {
   "cell_type": "markdown",
   "metadata": {
    "id": "ZzVSrYfUe7jp",
    "slideshow": {
     "slide_type": "subslide"
    }
   },
   "source": [
    "Let’s now have a look at the actual pdb file, which is nothing more than a text file!"
   ]
  },
  {
   "cell_type": "code",
   "execution_count": null,
   "metadata": {
    "colab": {
     "base_uri": "https://localhost:8080/",
     "height": 400
    },
    "id": "wmlEVUByfLPs",
    "outputId": "a1683f01-e4c4-4c01-b0f4-daf8a1e3e8dd"
   },
   "outputs": [],
   "source": [
    "!cat data/penetratin.pdb"
   ]
  },
  {
   "cell_type": "markdown",
   "metadata": {
    "id": "D_UjJbcKf4YI"
   },
   "source": [
    "You will see that the pdb is essentially a space-separated text file organized into columns. \n",
    "Briefly:\n",
    "- The first column defines the row type (e.g. REMARK tells you that this row is a comment, ATOM tells you that this row contains actual atomic coordinates, etc.).\n",
    "- Columns 7, 8 and 9 contain the x,y,z coordinates of the atoms of the system.\n",
    "\n",
    "For more information: https://www.cgl.ucsf.edu/chimera/docs/UsersGuide/tutorials/pdbintro.html."
   ]
  },
  {
   "cell_type": "markdown",
   "metadata": {
    "id": "9__i_ebQgGvK",
    "slideshow": {
     "slide_type": "subslide"
    }
   },
   "source": [
    "## Make Index File (gmx make_ndx)\n"
   ]
  },
  {
   "cell_type": "markdown",
   "metadata": {
    "id": "kH6kRGS2gihh"
   },
   "source": [
    "We now introduce a very powerful tool in GROMACS: index files. Index files are created starting from an atomic system (e.g. a pdb file), and split atoms into specific groups. These can be useful to restrict operations and analyses only to specific parts of the system, for example, if you want to see fluctuations of the alpha-Carbons only, you can select that specific group in the analysis tool.\n",
    "\n",
    "To have detailed information about the command to make index files, just type:"
   ]
  },
  {
   "cell_type": "code",
   "execution_count": null,
   "metadata": {
    "colab": {
     "base_uri": "https://localhost:8080/",
     "height": 400
    },
    "id": "7IUc41ZlgoDS",
    "outputId": "11b0f4d0-87fc-400d-b745-37a70fd679a7",
    "scrolled": true
   },
   "outputs": [],
   "source": [
    "!gmx make_ndx -h"
   ]
  },
  {
   "cell_type": "markdown",
   "metadata": {
    "id": "W39IMDUni4Vm",
    "slideshow": {
     "slide_type": "subslide"
    }
   },
   "source": [
    "Let’s first create an index file (it will not be created by default when you launch the simulation!):"
   ]
  },
  {
   "cell_type": "code",
   "execution_count": null,
   "metadata": {
    "scrolled": true
   },
   "outputs": [],
   "source": [
    "!echo -e \"q \\n\" | gmx make_ndx -f data/penetratin.pdb -o index.ndx"
   ]
  },
  {
   "cell_type": "markdown",
   "metadata": {
    "id": "XbfulkTJjRYE"
   },
   "source": [
    "You will see that make_ndx will read the pdb file (option “-f”), create some default groups and then wait for your input. \n",
    "\n",
    "You can manually add groups by typing the atoms manually (we will see the selection syntax later on...), or simply accept the default groups and save them by typing q and hitting Enter. The final index file (index.ndx) will be saved with the name chosen in the option “-o”."
   ]
  },
  {
   "cell_type": "markdown",
   "metadata": {
    "id": "Vz_K0e34CAs_",
    "slideshow": {
     "slide_type": "subslide"
    }
   },
   "source": [
    "## Edit molecular configuration (gmx editconf)"
   ]
  },
  {
   "cell_type": "markdown",
   "metadata": {},
   "source": [
    "As mentioned, the previous groups obtained with gmx make_ndx can be used to tell GROMACS to do operations on a specific subset of atoms only. Let’s say for example I want a pdb file containing only the alpha Carbons of my starting penetratin.pdb structure. I can achieve this by calling editconf (which, as the name suggests, is an editor for molecular configurations) and also including the index.ndx file as input:"
   ]
  },
  {
   "cell_type": "code",
   "execution_count": null,
   "metadata": {
    "scrolled": true
   },
   "outputs": [],
   "source": [
    "!echo \"C-alpha\" | gmx editconf -f data/penetratin.pdb -o calpha.pdb -n index.ndx"
   ]
  },
  {
   "cell_type": "markdown",
   "metadata": {},
   "source": [
    "In simpler words, this command is saying:\n",
    "\n",
    "***“Call the editconf utility, read the penetratin.pdb and the index.ndx files, and write the result to calpha.pdb”***"
   ]
  },
  {
   "cell_type": "markdown",
   "metadata": {
    "slideshow": {
     "slide_type": "subslide"
    }
   },
   "source": [
    "Have a look to the only c-alpha structure: "
   ]
  },
  {
   "cell_type": "code",
   "execution_count": null,
   "metadata": {},
   "outputs": [],
   "source": [
    "with open(\"calpha.pdb\") as f:\n",
    "    view = nv.show_file(f, ext=\"pdb\")\n",
    "\n",
    "view.add_representation(\"hyperball\")    \n",
    "view"
   ]
  },
  {
   "cell_type": "markdown",
   "metadata": {},
   "source": [
    "Indeed, editconf will prompt for a group. Choose C-alpha by typing 3 and hitting Enter. Editconf will confirm the selection and write atoms belonging to the C-alpha group to the file calpha.pdb (check it by opening the file with a text editor!). Easy, right?"
   ]
  },
  {
   "cell_type": "markdown",
   "metadata": {
    "slideshow": {
     "slide_type": "subslide"
    }
   },
   "source": [
    "## Prepare file for Gromacs (gmx pdb2gmx)"
   ]
  },
  {
   "cell_type": "markdown",
   "metadata": {},
   "source": [
    "We have to generate a **topology** for the system and convert it to the **.gro file format**. \n",
    "\n",
    "The tool for conversion is **pdb2gmx**. As always, you can use the -h flag to print some help:"
   ]
  },
  {
   "cell_type": "code",
   "execution_count": null,
   "metadata": {},
   "outputs": [],
   "source": [
    "!gmx pdb2gmx -h"
   ]
  },
  {
   "cell_type": "markdown",
   "metadata": {
    "slideshow": {
     "slide_type": "-"
    }
   },
   "source": [
    "The main options of the **pdb2gmx** tool are:\n",
    "> - f: input file (coordinates, so .pdb or .gro)\n",
    "> - p: topology output file (a text file, ending in .top)\n",
    "> - o: structure output file (coordinates after processing, again .pdb or .gro)\n",
    "> - i: position restraints output file (.itp)"
   ]
  },
  {
   "cell_type": "code",
   "execution_count": null,
   "metadata": {
    "scrolled": true,
    "slideshow": {
     "slide_type": "subslide"
    }
   },
   "outputs": [],
   "source": [
    "!gmx pdb2gmx -f data/penetratin.pdb -i penetratin_posre.itp -p penetratin.top -o penetratin.gro -ff amber99sb-ildn  -ignh -heavyh -water tip3p"
   ]
  },
  {
   "cell_type": "markdown",
   "metadata": {},
   "source": [
    "Let's have a look at all the options of the program: \n",
    "\n",
    "- **ff** : forcefield -> The force field will contain the information that will be written to the topology. This is a very important choice! You should always read thoroughly about each force field and decide which is most applicable to your situation.\n",
    "\n",
    "- **water**: water model chosen among TIP3P, TIP4P, TIP4P-Ew, TIP5P, SPC, SPC/E\n",
    "\n",
    "- **ignh**: it stands for “ignore hydrogens”, so it will ignore all the hydrogens in the input coordinate file\n",
    "\n",
    "- **heavyh**: makes hydrogen atoms heavy to reduce oscillation frequency"
   ]
  },
  {
   "cell_type": "markdown",
   "metadata": {
    "slideshow": {
     "slide_type": "subslide"
    }
   },
   "source": [
    "Have a look at the generated files:"
   ]
  },
  {
   "cell_type": "code",
   "execution_count": null,
   "metadata": {
    "slideshow": {
     "slide_type": "-"
    }
   },
   "outputs": [],
   "source": [
    "!ls -l"
   ]
  },
  {
   "cell_type": "markdown",
   "metadata": {},
   "source": [
    "Have a look at the *.gro file with a text editor to see the differences with the pdb file!"
   ]
  },
  {
   "cell_type": "markdown",
   "metadata": {
    "slideshow": {
     "slide_type": "slide"
    }
   },
   "source": [
    "# PART 2 - Preparation of the simulation box and environment"
   ]
  },
  {
   "cell_type": "markdown",
   "metadata": {
    "slideshow": {
     "slide_type": "fragment"
    }
   },
   "source": [
    "The files obtained at the end of the last laboratory are contained in the folder `data/part_1`. If you have not run the previous part of the notebook, copy those data in the current folder with the following cell:"
   ]
  },
  {
   "cell_type": "code",
   "execution_count": null,
   "metadata": {
    "slideshow": {
     "slide_type": "-"
    }
   },
   "outputs": [],
   "source": [
    "!cp data/part_1/* ."
   ]
  },
  {
   "cell_type": "markdown",
   "metadata": {
    "slideshow": {
     "slide_type": "slide"
    }
   },
   "source": [
    "## Define the simulation box"
   ]
  },
  {
   "cell_type": "markdown",
   "metadata": {
    "slideshow": {
     "slide_type": "-"
    }
   },
   "source": [
    "Now, we defined the parameters and water model to be used in the simulation. The next step in the preparation of the system is to actually put the system in a simulation box with the appropriate shape and dimension.\n",
    "\n",
    "There are several possible shapes of the unit cell, such as the cubic or the dodecahedron. The dodecahedron is sometimes chosen to simulate globular systems, since its volume is ~71% of the cubic box with the same distance between periodic distance.\n",
    "\n",
    "The volume of the box must be optimized in real-life problems because it allows to lower the computational cost of the simulation. Indeed, as we will see in the following steps, the box will be filled with water molecules and ions, thus increasing exponentially the number of atoms in the system.\n",
    "\n",
    "<div class=\"alert alert-block alert-info\"><b>Which terms of the potential energy definition are linked to the exponential growth of the computational cost with the number of atoms in the system?</b></div>"
   ]
  },
  {
   "cell_type": "markdown",
   "metadata": {
    "slideshow": {
     "slide_type": "fragment"
    }
   },
   "source": [
    "In this tutorial, we will put our protein in the center of a cubic box big enough to have a minimum distance between the protein and the box wall of 0.8 nm.\n",
    "\n",
    "<center> <div class=\"alert alert-block alert-info\"><b>Is this distance enough to respect the minimum image convention?</b></div>"
   ]
  },
  {
   "cell_type": "markdown",
   "metadata": {
    "slideshow": {
     "slide_type": "subslide"
    }
   },
   "source": [
    "The GROMACS command that allows us to do this operation is:\n",
    "```bash\n",
    "$ gmx editconf -f penetratin.gro -o box.gro -c -d 0.8 -bt cubic \n",
    "```\n",
    "the above command take the atoms in the file `penetratin.gro`, places the origin of the reference system at their center (`-c`), then builds around them a cubic box (`-bt cubic`) with the constraint that the minimum distance between the atoms of the system and the box wall is 0.8 nm (`-d 0.8`).\n",
    "\n",
    "The `editconf` command allows to manipulate the molecular systems is several different ways and it has a lot of different options, some of them are:\n",
    "\n",
    "|Field|Type|Description|\n",
    "|-----|---------|-----------|\n",
    "|-f|.gro, .pdb| Input structure file |\n",
    "|-n|.ndx| Input index file when you want to consider only a subset of the atoms |\n",
    "|-o|.gro, .pdb| Output structure file |\n",
    "|-bt| \\<enum\\> | Box type for -box and -d: triclinic, cubic, dodecahedron, octahedron |\n",
    "|-box| \\<vector\\> | Box vector lengths. E.g. -box 10 5 20 |\n",
    "|-angles| \\<vector\\> | Angles between box vectors. E.g. -angles 90 30 60 |\n",
    "|-d| \\<real\\> | Distance between the solute and the box |\n",
    "|-c| None | Center molecule in box (implied by -box and -d)|\n",
    "|-align|\\<vector\\>| Align to target vector. E.g. -align 1 0 0. NB: you have to tell GROMACS what to align! |\n",
    "|-translate|\\<vector\\>| Translation of the provided vector |\n",
    "|-rotate|\\<vector\\>| Rotation around the X, Y and Z axes in degrees |\n",
    "|-princ| None |  Orient molecule(s) along their principal axes. NB: you have to tell GROMACS what to orient and use to define the principal axis! |"
   ]
  },
  {
   "cell_type": "code",
   "execution_count": null,
   "metadata": {
    "scrolled": true,
    "slideshow": {
     "slide_type": "fragment"
    }
   },
   "outputs": [],
   "source": [
    "!gmx editconf -f penetratin.gro -o box.gro -c -d 0.8 -bt cubic"
   ]
  },
  {
   "cell_type": "markdown",
   "metadata": {
    "slideshow": {
     "slide_type": "subslide"
    }
   },
   "source": [
    "If we now check the last line of the new file we can find the box dimensions:"
   ]
  },
  {
   "cell_type": "code",
   "execution_count": null,
   "metadata": {
    "slideshow": {
     "slide_type": "-"
    }
   },
   "outputs": [],
   "source": [
    "!tail -n 1 box.gro"
   ]
  },
  {
   "cell_type": "markdown",
   "metadata": {
    "slideshow": {
     "slide_type": "fragment"
    }
   },
   "source": [
    "We can also check our new system using VMD. Onces you have opened `box.gro` in VMD show the box using the terminal or the Tk console\n",
    "\n",
    "```bash\n",
    "vmd > pbc box\n",
    "```"
   ]
  },
  {
   "cell_type": "markdown",
   "metadata": {
    "slideshow": {
     "slide_type": "slide"
    }
   },
   "source": [
    "## Solvation of the system"
   ]
  },
  {
   "cell_type": "markdown",
   "metadata": {
    "slideshow": {
     "slide_type": "fragment"
    }
   },
   "source": [
    "Now that the box has been set, we have to introduce the **environment**. We will model the environment as a simple **aqueous system**, but it is possible to use also **different solvents**, provided that good parameters are provided for the species involved. Here, we use an explicit model of water.\n",
    "\n",
    "In the previous laboratory, we have decided to use the TIP3P water model to define the topology of the water molecule. Let's look for a moment at how such water model is defined in the built-in gromacs topologies:"
   ]
  },
  {
   "cell_type": "code",
   "execution_count": null,
   "metadata": {
    "slideshow": {
     "slide_type": "subslide"
    }
   },
   "outputs": [],
   "source": [
    "%%bash\n",
    "dd=$(gmx --version | grep \"Data prefix:\" | cut -d \":\" -f 2)\n",
    "cat $dd/share/gromacs/top/amber99sb-ildn.ff/tip3p.itp | head -n 10"
   ]
  },
  {
   "cell_type": "markdown",
   "metadata": {
    "slideshow": {
     "slide_type": "fragment"
    }
   },
   "source": [
    "- the default name, under the **[ moleculetype ]** section is **SOL**. Keep that in mind for a moment;\n",
    "- the water molecule is made of three atoms, one oxygen and two hydrogens. You can observe that the definition of such atoms under the panel **[ atoms ]**. Notice that the two hydrogen are of the same _atom type_, which means that they are modelled with the same parameters. However, two different _atom names_ are present since they represent two atoms of the same \"residue\";\n",
    "- the water \"residue\" is named **SOL**"
   ]
  },
  {
   "cell_type": "markdown",
   "metadata": {
    "slideshow": {
     "slide_type": "subslide"
    }
   },
   "source": [
    "In this topology you can also find the _bond_ and _angle_ paramters:"
   ]
  },
  {
   "cell_type": "code",
   "execution_count": null,
   "metadata": {
    "slideshow": {
     "slide_type": "fragment"
    }
   },
   "outputs": [],
   "source": [
    "%%bash\n",
    "dd=$(gmx --version | grep \"Data prefix:\" | cut -d \":\" -f 2)\n",
    "cat $dd/share/gromacs/top/amber99sb-ildn.ff/tip3p.itp | tail -n 12 | head -n -1"
   ]
  },
  {
   "cell_type": "markdown",
   "metadata": {
    "slideshow": {
     "slide_type": "fragment"
    }
   },
   "source": [
    "Here we can read the parameters to model the bonded interaction between the atoms of the **TIP3P water molecule**.\n",
    "Notice that the two _bond_ parameters are identical since they represent the same bond between hydrogen and oxygen.\n",
    "Finally, in a topology you could also find the `[ pairs ]` field, which indicates the pairs of atoms among which a non-bonded short-range interaction should be modelled. An example is:\n",
    "```bash\n",
    "[ pairs ]\n",
    ";   ai     aj    funct\n",
    "     1      9      1 ;      C - P     \n",
    "     2      6      1 ;     H1 - H4    \n",
    "     2      7      1 ;     H1 - H5    \n",
    "     2      8      1 ;     H1 - O\n",
    "```\n",
    "In this example, you can see that the filed `funct` is set to 1 for each interaction. This is the way in which gromacs stores in the topology to model the interaction with the Lennard-Jones potential. The parameters are taken from the atomtypes definition."
   ]
  },
  {
   "cell_type": "markdown",
   "metadata": {
    "slideshow": {
     "slide_type": "subslide"
    }
   },
   "source": [
    "\n",
    "After this initial consideration, we can solvate the system, i.e. fill the box with water. The GROMACS command that allows us to do this operation is:\n",
    "```bash\n",
    "$ gmx solvate -cp box.gro -o solvated.gro -p topol.top [-cs spc216.gro] \n",
    "```\n",
    "The above command take the system contained in the file `box.gro`, fills the unit cell with water molecules avoiding clasches between the inserted molecules and the atoms already present in the system, writes the output file in `solvated.gro`, then counts how many water molecules have been placed and updates the provided topology file (`-p topol.top`). The argument `-cs spc216.gro` in between brackets since it is optional: if nothing is told to GROMACS, it will use this simple equilibrated 3-point solvent model which can be used fro SPC and TIP3P water models. The file `spc216.gro` is present in the built-in gromacs libraries.\n",
    "\n",
    "With the `solvate` command, you can also insert only a shell of water molecules around the protein specifying `-shell <radius>`."
   ]
  },
  {
   "cell_type": "code",
   "execution_count": null,
   "metadata": {
    "scrolled": true,
    "slideshow": {
     "slide_type": "fragment"
    }
   },
   "outputs": [],
   "source": [
    "!gmx solvate -cp box.gro -o solvated.gro -p penetratin.top"
   ]
  },
  {
   "cell_type": "markdown",
   "metadata": {
    "slideshow": {
     "slide_type": "subslide"
    }
   },
   "source": [
    "Let's look at the output file and the updated topology:"
   ]
  },
  {
   "cell_type": "code",
   "execution_count": null,
   "metadata": {
    "slideshow": {
     "slide_type": "fragment"
    }
   },
   "outputs": [],
   "source": [
    "!tail -n 20 solvated.gro"
   ]
  },
  {
   "cell_type": "code",
   "execution_count": null,
   "metadata": {
    "slideshow": {
     "slide_type": "subslide"
    }
   },
   "outputs": [],
   "source": [
    "import nglview as nv\n",
    "with open(\"solvated.gro\") as f:\n",
    "    view = nv.show_file(f, ext=\"gro\")\n",
    "view.add_ball_and_stick(selection=\"water\")\n",
    "view.camera = 'orthographic'\n",
    "view"
   ]
  },
  {
   "cell_type": "code",
   "execution_count": null,
   "metadata": {
    "slideshow": {
     "slide_type": "subslide"
    }
   },
   "outputs": [],
   "source": [
    "!tail  -n 5 penetratin.top "
   ]
  },
  {
   "cell_type": "markdown",
   "metadata": {
    "slideshow": {
     "slide_type": "subslide"
    }
   },
   "source": [
    "<div class=\"alert alert-block alert-warning\"><b>Important observation</b><br>As you have seen, GROMACS have updated the topology file to take count of the modification that we have done on the system. The old topology file is not lost, it is saved as #topol.top.1#.</div>\n",
    "<br>\n",
    "<div class=\"alert alert-block alert-danger\"><b>Important observation</b><br> GROMACS is a fantastic computer program, but still a computer program. This means that it does what you tell him. If you repeat the command above two times, GROMACS will take the empty box, fill it and update the topol.top file two times. This will result in a topology file containing double the water that is actually present in the solvated.gro file. This will generate a <b>Fatal Error</b> in the following steps.</div>"
   ]
  },
  {
   "cell_type": "markdown",
   "metadata": {
    "slideshow": {
     "slide_type": "slide"
    }
   },
   "source": [
    "### Influence of the box shape and dimension on system size"
   ]
  },
  {
   "cell_type": "markdown",
   "metadata": {
    "slideshow": {
     "slide_type": "fragment"
    }
   },
   "source": [
    "We have told you before that the dodecahedric box allows to reduce the volume of the system and reduce the computational cost of the simulation. Let's now look in practice at the amount of water molecules that would have been added using a dodecahedric box.\n",
    "\n",
    "Since we do not wat to mess with the filed produced until now, let's move everything in a folder."
   ]
  },
  {
   "cell_type": "code",
   "execution_count": null,
   "metadata": {
    "slideshow": {
     "slide_type": "fragment"
    }
   },
   "outputs": [],
   "source": [
    "%%bash\n",
    "ls"
   ]
  },
  {
   "cell_type": "code",
   "execution_count": null,
   "metadata": {
    "slideshow": {
     "slide_type": "subslide"
    }
   },
   "outputs": [],
   "source": [
    "%%bash\n",
    "# backup everything in a folder \n",
    "mkdir -p cubic_box\n",
    "mv box.gro solvated.gro penetratin.top \\#penetratin.top.1# cubic_box/\n",
    "\n",
    "# restore the original topology (only protein and not water inside) -> remove last line of the topology (SOL)\n",
    "cat cubic_box/penetratin.top | head -n -1 >penetratin.top\n",
    "\n",
    "# now, repeat everything with different box\n",
    "gmx editconf -f penetratin.gro -o dodecahedron.gro -c -d 0.8 -bt dodecahedron > /dev/null 2>&1\n",
    "gmx solvate -cp dodecahedron.gro -o dodecahedron_solvated.gro -p penetratin.top > /dev/null 2>&1\n",
    "\n",
    "# Let's look at the new topology\n",
    "tail -n 5 penetratin.top "
   ]
  },
  {
   "cell_type": "markdown",
   "metadata": {
    "slideshow": {
     "slide_type": "fragment"
    }
   },
   "source": [
    "From now on, we will use the system solvated in the dodecahedric box."
   ]
  },
  {
   "cell_type": "markdown",
   "metadata": {
    "slideshow": {
     "slide_type": "slide"
    }
   },
   "source": [
    "## Adding ions to the system"
   ]
  },
  {
   "cell_type": "markdown",
   "metadata": {
    "slideshow": {
     "slide_type": "fragment"
    }
   },
   "source": [
    "As a last step, it makes sense to add a proper amount of $Na^+$ and $Cl^-$ ions in the system. There are two main reasons:\n",
    "1. Make the system neutral should it be charged (by adding the proper amount of counterions);\n",
    "2. Simulating physiological salt concentrations (around 0.15M).\n",
    "\n",
    "GROMACS has a specific tool to do that, which is called `genion`. The only caveat is that `genion` needs a **.tpr** input file to work.\n",
    "\n",
    "You can think of the .tpr file as the union of a .gro file (containing coordinates), a .top file (containing topology), and an .mdp file (containing simulation parameters). "
   ]
  },
  {
   "cell_type": "markdown",
   "metadata": {
    "slideshow": {
     "slide_type": "subslide"
    }
   },
   "source": [
    "<br>\n",
    "<font size=\"12\"> <center><b>IMPORTANT</b></center></font> \n",
    "\n",
    "To run any sort of simulation, you need:\n",
    "1. A coordinate file, like a .gro, which contains the system to be simulated (**WHAT SYSTEM**)\n",
    "2. A topology, like a .top, which contains the parameters to model such a system (**WHAT MODEL**)\n",
    "3. A run parameter file, like an .mdp, which contains instructions for the simulation, like the timestep to use, the cutoffs, the total simulation time, etc. (**HOW TO SIMULATE**)\n",
    "\n",
    "These three basic ingredients of any simulation (.gro, .top, .mdp) can then be combined into a single file (the .tpr file), so that the engine carrying out the simulations (which is `gmx mdrun`) has all the necessary information in one single file."
   ]
  },
  {
   "cell_type": "markdown",
   "metadata": {
    "slideshow": {
     "slide_type": "subslide"
    }
   },
   "source": [
    "To see how this works, let’s create a dummy .mdp file, and leave it empty for now:\n",
    "```bash\n",
    "$ touch dummy.mdp\n",
    "```\n",
    "Note that we need the tpr file to add ions to the system, not to run a simulation. This is the reason why we use a dummy .mdp file. Then, we can try to create our .tpr file, since we have all the necessary ingredients (the .gro, .top and .mdp files). `gmx grompp` (which stands for gromacs pre-processor) does that:\n",
    "\n",
    "```bash\n",
    "$ gmx grompp -f dummy.mdp -c dodecahedron_solvated.gro -p penetratin.top -o ions.tpr\n",
    "```"
   ]
  },
  {
   "cell_type": "code",
   "execution_count": null,
   "metadata": {
    "slideshow": {
     "slide_type": "fragment"
    }
   },
   "outputs": [],
   "source": [
    "%%bash\n",
    "touch dummy.mdp\n",
    "gmx grompp -f dummy.mdp -c dodecahedron_solvated.gro -p penetratin.top -o ions.tpr"
   ]
  },
  {
   "cell_type": "markdown",
   "metadata": {
    "slideshow": {
     "slide_type": "subslide"
    }
   },
   "source": [
    "In this  case, the tpr file will contain default simulation parameters since our dummy.mdp file was empty.\n",
    "\n",
    "**NOTE**:  grompp  will  check  that  the  topology  .top  and  coordinates  .gro  indeed  contain  the  same  number  of atoms (i.e. the topology represents the system in the coordinate file). If this is not the case, it will throw an error saying that the number of atoms doesn’t match, and it won’t generate the .tpr. If this happens to you, you likely messed something up during solvation and the number of water molecules in the topology don’t correspond to the ones in the coordinate file. It’s best, in this case,to delete the SOL line in the topology, and start over with the solvation."
   ]
  },
  {
   "cell_type": "markdown",
   "metadata": {
    "slideshow": {
     "slide_type": "subslide"
    }
   },
   "source": [
    "Now, we can fill the solvated dodecahedron with ions at the proper concentration:\n",
    "```\n",
    "$ gmx genion -s ions.tpr -p penetratin.top -o box_ions.gro -conc 0.15 -neutral [-pname NA -nname CL]\n",
    "```\n",
    "\n",
    "The above command takes the input `ions.tpr` that contains the solvated box, then tries to fill it with ions so that the system is electrostatically neutral (`-neutral`) and the total salt concentration in 0.15 mol/L (`-conc 0.15`). While doing so, it also update the topology (`-p penetratin.top`), and save the new system with water and ions into `box_ions.gro`.\n",
    "\n",
    "Genion will ask you for the group of solvent molecules to insert the ions into, so we select group 13 (SOL). Since here in Colab there is not interactive shell, we have agains to exploit the pipe to provide such input."
   ]
  },
  {
   "cell_type": "code",
   "execution_count": null,
   "metadata": {
    "slideshow": {
     "slide_type": "fragment"
    }
   },
   "outputs": [],
   "source": [
    "%%bash\n",
    "echo \"SOL\" | gmx genion -s ions.tpr -p penetratin.top -o box_ions.gro -conc 0.15 -neutral"
   ]
  },
  {
   "cell_type": "markdown",
   "metadata": {
    "slideshow": {
     "slide_type": "subslide"
    }
   },
   "source": [
    "Note that genion also takes the topology file as input, and updates it with the added amount of NA and CL molecules (open the topology and check!). Be careful to **run only one time** the command, since gromacs does not know if the atoms are already present in the system; otherwise:\n",
    "1. the `penetratin.top` file will be updated more than one time by gromacs, which will each time remove water and add ions;\n",
    "2. the `ions.tpr` file remains always the same, therefore each time a new `box_ions.gro` file will be written where ions have been added one time.\n",
    "\n",
    "In the end, you will find a mismatch between coordinates and topology $\\rightarrow$ **Fatal Error!**"
   ]
  },
  {
   "cell_type": "markdown",
   "metadata": {
    "slideshow": {
     "slide_type": "subslide"
    }
   },
   "source": [
    "Now, let's have a look at the final system!"
   ]
  },
  {
   "cell_type": "code",
   "execution_count": null,
   "metadata": {
    "slideshow": {
     "slide_type": "fragment"
    }
   },
   "outputs": [],
   "source": [
    "with open(\"box_ions.gro\") as f:\n",
    "    view = nv.show_file(f, ext=\"gro\")\n",
    "view.add_licorice(selection=\"water\")\n",
    "view.add_ball_and_stick(selection=\"NA\",color='blue',aspectRatio='5') \n",
    "view.add_ball_and_stick(selection=\"CL\",color='green',aspectRatio='5')\n",
    "view.camera = 'orthographic'\n",
    "view"
   ]
  },
  {
   "cell_type": "markdown",
   "metadata": {
    "slideshow": {
     "slide_type": "slide"
    }
   },
   "source": [
    "<font size=\"5\"> <center><b>Exercise for you</b></center></font>\n",
    "Let's put in practise what you have learned until now with an hands-on."
   ]
  },
  {
   "cell_type": "markdown",
   "metadata": {},
   "source": [
    "Lysozyme is an antimicrobial enzyme produced by animals that forms part of the innate immune system, by catalyzing the hydrolysis of peptidoglycan of bacterial cell wall. Lysozyme is abundant in secretions including tears, saliva, and human milk and is very used as a system where to test new methodologies due to the large availability of experimental data.\n",
    "Do the following steps:\n",
    "1. Download the Lysozyme structure from the Protein Data Bank, code 5LSH\n",
    "2. Observe the structure that you have downloaded. Is there only the protein or also other molecules?\n",
    "3. If there is something else other than the protein, create a new pdb file containing only lysozyme structure.\n",
    "4. Import the pdb file in gromacs and generate its topology\n",
    "5. Generate a simulation box with the appropriate dimension and fill it with a physiological environment\n",
    "\n",
    "It is recommended to create a new folder for the exercise"
   ]
  },
  {
   "cell_type": "markdown",
   "metadata": {
    "slideshow": {
     "slide_type": "subslide"
    }
   },
   "source": [
    "**Solution**\n",
    "\n",
    "First, we have to go to the Protein Data Bank and download our file in the pdb format. There are two possibilities:\n",
    "1. Download from the PDB and then upload the file into Colab\n",
    "2. Use the wget command to directly download it into Colab\n",
    "\n",
    "We will use the second option here"
   ]
  },
  {
   "cell_type": "code",
   "execution_count": null,
   "metadata": {},
   "outputs": [],
   "source": [
    "!wget https://files.rcsb.org/download/5LSH.pdb &> /dev/null"
   ]
  },
  {
   "cell_type": "code",
   "execution_count": null,
   "metadata": {
    "slideshow": {
     "slide_type": "subslide"
    }
   },
   "outputs": [],
   "source": [
    "# Let's look at the file\n",
    "with open(\"5LSH.pdb\") as f:\n",
    "    view = nv.show_file(f, ext=\"pdb\")\n",
    "view.add_licorice(selection=\"not protein\")\n",
    "view.camera = 'orthographic'\n",
    "view"
   ]
  },
  {
   "cell_type": "markdown",
   "metadata": {
    "slideshow": {
     "slide_type": "subslide"
    }
   },
   "source": [
    "Since there is not only a protein but also a ligand and water into the pdb file, let's first extract the protein. To do so, we create and index and use it to create a file containing ongly the lysozyme."
   ]
  },
  {
   "cell_type": "code",
   "execution_count": null,
   "metadata": {
    "slideshow": {
     "slide_type": "fragment"
    }
   },
   "outputs": [],
   "source": [
    "%%bash\n",
    "mkdir exercise\n",
    "mv 5LSH.pdb exercise/\n",
    "cd exercise/\n",
    "echo \"q\" | gmx make_ndx -f 5LSH.pdb -o index.ndx > /dev/null 2>&1\n",
    "echo \"Protein\" | gmx editconf -f 5LSH.pdb -o protein.pdb -n index.ndx > /dev/null 2>&1"
   ]
  },
  {
   "cell_type": "markdown",
   "metadata": {
    "slideshow": {
     "slide_type": "subslide"
    }
   },
   "source": [
    "Now we can convert the pdb file into the GROMACS format and generate the topology.\n",
    "\n",
    "**Note**: The PDB file that we are considering contains, for some protein residues, two possible positions (i.e., alternate locations). This is due to the fact that for some atoms, the crystallographic experiment gave information about two possible positions. GROMACS automatically keeps the first position in the pdb file and ignores all the others for the same atom. Sometimes it is worth looking at the alternated locations and select which one to consider, e.g., when these residues are in/near the binding site of interest."
   ]
  },
  {
   "cell_type": "code",
   "execution_count": null,
   "metadata": {
    "slideshow": {
     "slide_type": "fragment"
    }
   },
   "outputs": [],
   "source": [
    "%%bash\n",
    "cd exercise/\n",
    "gmx pdb2gmx -f protein.pdb -o protein.gro -p topol.top -i posre.itp -ignh -heavyh -ff amber99sb-ildn -water tip3p > /dev/null 2>&1"
   ]
  },
  {
   "cell_type": "markdown",
   "metadata": {
    "slideshow": {
     "slide_type": "subslide"
    }
   },
   "source": [
    "Finally, create the box, solvate, and add ions."
   ]
  },
  {
   "cell_type": "code",
   "execution_count": null,
   "metadata": {
    "slideshow": {
     "slide_type": "fragment"
    }
   },
   "outputs": [],
   "source": [
    "%%bash\n",
    "cd exercise/\n",
    "gmx editconf -f protein.gro -o box.gro -bt cubic -d 0.8\n",
    "gmx solvate -cp box.gro -p topol.top -o solvated.gro\n",
    "touch dummy.mdp\n",
    "gmx grompp -f dummy.mdp -c solvated.gro -p topol.top -o ions.tpr\n",
    "echo \"SOL\" | gmx genion -s ions.tpr -o system.gro -p topol.top -pname NA -nname CL -conc 0.15 -neutral"
   ]
  },
  {
   "cell_type": "code",
   "execution_count": null,
   "metadata": {
    "scrolled": true,
    "slideshow": {
     "slide_type": "fragment"
    }
   },
   "outputs": [],
   "source": [
    "with open(\"exercise/system.gro\") as f:\n",
    "    view = nv.show_file(f, ext=\"gro\")\n",
    "view.add_licorice(selection=\"water\")\n",
    "view.add_ball_and_stick(selection=\"NA\",color='blue',aspectRatio='5') \n",
    "view.add_ball_and_stick(selection=\"CL\",color='green',aspectRatio='5')\n",
    "view.camera = 'orthographic'\n",
    "view"
   ]
  },
  {
   "cell_type": "markdown",
   "metadata": {
    "slideshow": {
     "slide_type": "slide"
    }
   },
   "source": [
    "# PART 3 - Energy minimization, Position Restraint, Production"
   ]
  },
  {
   "cell_type": "code",
   "execution_count": null,
   "metadata": {
    "code_folding": [
     0
    ]
   },
   "outputs": [],
   "source": [
    "#@title Visualize the system\n",
    "import nglview as nv\n",
    "with open(\"data/system.pdb\") as f:\n",
    "    view = nv.show_file(f, ext=\"pdb\")\n",
    "view.add_representation(\"ball+stick\",selection=\"water\")\n",
    "view.add_representation(\"ball+stick\",selection=\"ion\",aspectRatio='10')\n",
    "view.center(\"system\")\n",
    "view"
   ]
  },
  {
   "cell_type": "markdown",
   "metadata": {
    "slideshow": {
     "slide_type": "fragment"
    }
   },
   "source": [
    "The files obtained at the end of the last laboratory are contained in the folder `data/part_2`. If you have not run the previous part of the notebook, copy those data in the current folder with the following cell:"
   ]
  },
  {
   "cell_type": "code",
   "execution_count": null,
   "metadata": {},
   "outputs": [],
   "source": [
    "%%bash \n",
    "mkdir -p system\n",
    "cp -r data/part_2/* system/"
   ]
  },
  {
   "cell_type": "markdown",
   "metadata": {
    "slideshow": {
     "slide_type": "slide"
    }
   },
   "source": [
    "The solvated, electroneutral system is now assembled. \n",
    "\n",
    "Before we can begin dynamics, we must ensure that the system has no steric clashes or inappropriate geometry. The structure is relaxed through a process called **energy minimization** (EM). \n",
    "\n",
    "To perform energy minimization, we are once again going to use grompp to assemble the structure, topology, and simulation parameters into a binary input file (`.tpr`), then we will use GROMACS MD engine, mdrun, to run the energy minimization."
   ]
  },
  {
   "cell_type": "markdown",
   "metadata": {
    "slideshow": {
     "slide_type": "subslide"
    }
   },
   "source": [
    "We will use the steepest descent algorithm to perform the energy minimization.\n",
    "To keep things organized, we will do the EM in its own subfolder, so let’s\n",
    "create it:\n"
   ]
  },
  {
   "cell_type": "code",
   "execution_count": null,
   "metadata": {},
   "outputs": [],
   "source": [
    "%%bash\n",
    "mkdir -p 00-em"
   ]
  },
  {
   "cell_type": "markdown",
   "metadata": {
    "slideshow": {
     "slide_type": "subslide"
    }
   },
   "source": [
    "## Exploring the mdp file"
   ]
  },
  {
   "cell_type": "markdown",
   "metadata": {
    "slideshow": {
     "slide_type": "fragment"
    }
   },
   "source": [
    "Assemble the binary input using grompp using the .mdp parameter file, as input. The simulation parameter file (.mdp) determines how the simulation shall be run. Find more information on all the options in the [manual](http://manual.gromacs.org/documentation/current/user-guide/mdp-options.html). \n",
    "\n",
    "There are a lot of parameters that can be set, here we ony set the elemental parametes and leave everything else as default. Let's have a look at the input file:"
   ]
  },
  {
   "cell_type": "code",
   "execution_count": null,
   "metadata": {
    "slideshow": {
     "slide_type": "fragment"
    }
   },
   "outputs": [],
   "source": [
    "! cat data/mdp/em.mdp"
   ]
  },
  {
   "cell_type": "markdown",
   "metadata": {
    "slideshow": {
     "slide_type": "subslide"
    }
   },
   "source": [
    "This file contains the instructions to perform energy minimization. In particular, the most relevant lines are:\n",
    "\n",
    "\n",
    "* `integrator` = `steep`\n",
    "\n",
    "\n",
    "...\n",
    "\n",
    "\n",
    "* `nsteps` = `1000`\n",
    "\n",
    "...\n",
    "\n",
    "\n",
    "* `emtol` =  `1000`\n",
    "\n",
    "\n",
    "Which mean respectively:\n",
    "* **steep**: use the steepest descent algorithm <span style=\"color:red\">**(actually, it isn’t strictly an integrator as for the md code)**</span>\n",
    "\n",
    "<center> <b>STOP CONDITION</b> </center>\n",
    "\n",
    "\n",
    "* do the energy minimization for a maximum of 1000 steps (**nsteps**) \n",
    "\n",
    "<center> <b>OR</b> </center>\n",
    "\n",
    "* until the maximum force drops below 1000 $ \\frac{kJ}{mol*nm}\n",
    "$ (**emtol**).\n"
   ]
  },
  {
   "cell_type": "markdown",
   "metadata": {
    "slideshow": {
     "slide_type": "subslide"
    }
   },
   "source": [
    "## Energy minimization procedure "
   ]
  },
  {
   "cell_type": "markdown",
   "metadata": {
    "slideshow": {
     "slide_type": "fragment"
    }
   },
   "source": [
    "Again, we are in a situation where we have everything we need for a simulation (coordinates, topology and\n",
    "parameters) and we need to merge them into a single file. What do we do? You guessed it, we generate a `*.tpr`\n",
    "with grompp:\n"
   ]
  },
  {
   "cell_type": "code",
   "execution_count": null,
   "metadata": {
    "slideshow": {
     "slide_type": "fragment"
    }
   },
   "outputs": [],
   "source": [
    "%%bash\n",
    "gmx grompp -f data/mdp/em.mdp -p system/penetratin.top -c system/box_ions.gro -o 00-em/em.tpr "
   ]
  },
  {
   "cell_type": "markdown",
   "metadata": {
    "slideshow": {
     "slide_type": "subslide"
    }
   },
   "source": [
    "Know we can feed the unified input file (`em.tpr`) into the engine doing the actual calculations, which is `gmx mdrun`. In genral, mdrun takes many parameters, such as:\n",
    "* s input file (.tpr).\n",
    "* o output file (trajectory, not important in minimization)\n",
    "* e output file (energy)\n"
   ]
  },
  {
   "cell_type": "code",
   "execution_count": null,
   "metadata": {
    "slideshow": {
     "slide_type": "fragment"
    }
   },
   "outputs": [],
   "source": [
    "! gmx mdrun -h"
   ]
  },
  {
   "cell_type": "markdown",
   "metadata": {
    "slideshow": {
     "slide_type": "subslide"
    }
   },
   "source": [
    "If you noticed though, we called the tpr file with the name em.tpr. The mdrun tool has a very useful option called\n",
    "`-deffnm`, which stands for “define file names”: with this option, you can tell mdrun that all the required input files\n",
    "(e.g. the *.tpr) and all the produced output files (e.g. *.xtc, *.edr, *.gro, ...) will all have the same name (with\n",
    "the proper extension). This means that you don’t have to tell mdrun explicitly all the input and output file names.\n",
    "For example, if you set:\n",
    "... -deffnm em ...\n",
    "mdrun will:\n",
    "\n",
    "\n",
    "1. Look for em.tpr as the input file\n",
    "\n",
    "1. Name the output files em.xtc, em.trr, em.gro, em.edr, etc..."
   ]
  },
  {
   "cell_type": "markdown",
   "metadata": {
    "slideshow": {
     "slide_type": "subslide"
    }
   },
   "source": [
    "This is way quicker than specifying all the file names explicitly, and this is what we will do. Run the minimization:\n",
    "\n",
    "**`$ gmx mdrun -deffnm 00-em/em -v`**\n",
    "\n",
    "Which means: “run the calculations on the em.tpr input file and save all the outputs with the root name em (-\n",
    "deffnm em). Also, tell me what you’re doing while you’re running (verbose mode, -v)”.\n",
    "GROMACS will start the energy minimization calculation and will stop once the force drops below the emtol\n",
    "setting or once the maximum number of steps is reached (whatever happens first!)."
   ]
  },
  {
   "cell_type": "code",
   "execution_count": null,
   "metadata": {
    "slideshow": {
     "slide_type": "fragment"
    }
   },
   "outputs": [],
   "source": [
    "!gmx mdrun -s 00-em/em.tpr -deffnm 00-em/em -v -ntmpi 2"
   ]
  },
  {
   "cell_type": "code",
   "execution_count": null,
   "metadata": {
    "scrolled": true,
    "slideshow": {
     "slide_type": "subslide"
    }
   },
   "outputs": [],
   "source": [
    "!ls 00-em/"
   ]
  },
  {
   "cell_type": "markdown",
   "metadata": {
    "slideshow": {
     "slide_type": "subslide"
    }
   },
   "source": [
    "## Analysing Energy Minimization Data "
   ]
  },
  {
   "cell_type": "markdown",
   "metadata": {},
   "source": [
    "Once the energy minimization has finished, we have to check that our system actually reached a low potential\n",
    "energy and plateaued at that level, i.e. that nothing went wrong during the minimization, that the number of steps\n",
    "was sufficient to reach a minimized potential energy, and that we can proceed further. \n",
    "\n",
    "To view the potential energy as a function of the number of minimization steps, we need to use gmx energy, which is a tool that extracts energy data from the `.edr` file and prints it in ASCII format (for example as a tab-separated xy data file) which can then be plotted. \n",
    "\n",
    "Let’s extract the energies:"
   ]
  },
  {
   "cell_type": "code",
   "execution_count": null,
   "metadata": {
    "scrolled": false,
    "slideshow": {
     "slide_type": "fragment"
    }
   },
   "outputs": [],
   "source": [
    "!gmx energy -h"
   ]
  },
  {
   "cell_type": "code",
   "execution_count": null,
   "metadata": {
    "slideshow": {
     "slide_type": "subslide"
    }
   },
   "outputs": [],
   "source": [
    "!echo -e \"Potential \\n 0\" | gmx energy -f 00-em/em.edr -o 00-em/potential.xvg"
   ]
  },
  {
   "cell_type": "code",
   "execution_count": null,
   "metadata": {
    "slideshow": {
     "slide_type": "subslide"
    }
   },
   "outputs": [],
   "source": [
    "!cat 00-em/potential.xvg"
   ]
  },
  {
   "cell_type": "code",
   "execution_count": null,
   "metadata": {
    "slideshow": {
     "slide_type": "subslide"
    }
   },
   "outputs": [],
   "source": [
    "import matplotlib.pyplot as plt # Import from the library matplotlib  the package pyplot and alias it as plt \n",
    "import numpy as np #import the library numpy and alias it as np\n",
    "'''load the data from the potential.xvg format into data, ...\n",
    "define the comments as raw starting with either # or @'''\n",
    "data=np.loadtxt(\"00-em/potential.xvg\",comments=[\"#\",\"@\"])\n",
    "step=data[:,0] #assign the first column of data to the variable step\n",
    "energy=data[:,1] #assign the second column of data to the variable potential\n",
    "plt.plot(step,energy) #plot the function potential(data)\n",
    "plt.xlabel(\"Step\",size=14) #assign the x label \n",
    "plt.ylabel(\"Energy [KJ/mol]\",size=14) #assign the y label\n",
    "plt.title(\"Potential energy as a function of step\"); #assign a title \n",
    "#save the figure in png format with a resolution of 300 dot per inch \"dpi\" \n",
    "plt.savefig(\"00-em/potential.png\",format=\"png\", dpi=300)"
   ]
  },
  {
   "cell_type": "markdown",
   "metadata": {
    "slideshow": {
     "slide_type": "subslide"
    }
   },
   "source": [
    "## Position Restraint"
   ]
  },
  {
   "cell_type": "markdown",
   "metadata": {},
   "source": [
    "EM ensured that we have a reasonable starting structure, in terms of geometry and solvent orientation. \n",
    "\n",
    "To begin real dynamics, we must equilibrate the solvent and ions around the protein. \n",
    "\n",
    "If we were to attempt unrestrained dynamics at this point, the system may collapse. The reason is that the solvent is mostly optimized within itself, and not necessarily with the solute. \n",
    "\n",
    "It needs to be brought to the temperature we wish to simulate.\n",
    "\n"
   ]
  },
  {
   "cell_type": "code",
   "execution_count": null,
   "metadata": {},
   "outputs": [],
   "source": [
    "%%bash  \n",
    "mkdir 01-posres"
   ]
  },
  {
   "cell_type": "markdown",
   "metadata": {},
   "source": [
    "Input files required to run a Molecular Dynamics (MD) simulation are again\n",
    "a molecular structure, a topology and a files with simulation settings:\n",
    "1. (minimized) structure file (`minimized.gro`)\n",
    "1. topology file (`penetratin.top`)\n",
    "1. molecular dynamics parameters file (`posre.mdp/md.mdp`)"
   ]
  },
  {
   "cell_type": "markdown",
   "metadata": {
    "slideshow": {
     "slide_type": "subslide"
    }
   },
   "source": [
    "Remember that `posre.itp` file that `pdb2gmx` generated a long time ago? We're going to use it now. The purpose of posre.itp is to apply a position restraining force on the heavy atoms of the protein (anything that is not hydrogen). Movement is permitted, but the particle will feel a harmonic potential that will tend to keep it around the initial position. \n",
    "\n",
    "$V_{pr}(r_i)=\\frac{1}{2}k_{pr}|r_i-R_i|^2$\n",
    "\n",
    "Where $R_i$ is the reference position and the $k_{pr}$ is the Force constant proportional to the strenght of the potential applied.\n",
    "\n",
    "<img src=\"https://manual.gromacs.org/current/_images/f-pr.png\" width=\"500\" align=\"center\">\n",
    "\n"
   ]
  },
  {
   "cell_type": "code",
   "execution_count": null,
   "metadata": {
    "slideshow": {
     "slide_type": "subslide"
    }
   },
   "outputs": [],
   "source": [
    "!cat system/penetratin_posre.itp"
   ]
  },
  {
   "cell_type": "markdown",
   "metadata": {
    "slideshow": {
     "slide_type": "subslide"
    }
   },
   "source": [
    "The utility of position restraints is that they allow us to equilibrate our solvent around our protein, without the added variable of structural changes in the protein. \n",
    "\n",
    "The origin of the position restraints (the coordinates at which the restraint potential is zero) is provided via a coordinate file passed to the -r option of `grompp`.\n",
    "\n",
    "We’ll use the file `posre.mdp` which contains the parameters for a molecular dynamics simulation with position\n",
    "restraints. \n",
    "\n",
    "Have a look to posre.mdp:"
   ]
  },
  {
   "cell_type": "code",
   "execution_count": null,
   "metadata": {
    "scrolled": true,
    "slideshow": {
     "slide_type": "subslide"
    }
   },
   "outputs": [],
   "source": [
    "!cat data/mdp/posre.mdp"
   ]
  },
  {
   "cell_type": "code",
   "execution_count": null,
   "metadata": {
    "slideshow": {
     "slide_type": "subslide"
    }
   },
   "outputs": [],
   "source": [
    "!tail -n 29 system/penetratin.top"
   ]
  },
  {
   "cell_type": "markdown",
   "metadata": {
    "slideshow": {
     "slide_type": "subslide"
    }
   },
   "source": [
    "We will perform a Molecular dynamic simulation integrating the equation of motion with the leap frog algorithm `integrator=md`. We have to choose the step of integration for the equation of motion `dt=` and define the total numbers of step of simulation `nsteps`.\n",
    "\n",
    "How do I calculate the time for which I am simulating?\n",
    "\n",
    "$t_{tot}=dt*nsteps$\n",
    "\n",
    "where $t_{tot}$ is the total simulation time, dt is the integration step and nsteps is the total number of steps"
   ]
  },
  {
   "cell_type": "code",
   "execution_count": null,
   "metadata": {},
   "outputs": [],
   "source": [
    "dt=0.01 #step of integration\n",
    "nsteps=20000 #total number of steps\n",
    "tot=dt*nsteps #total simulation time\n",
    "print(f\"The total simulation time will be {tot}, which is the unit of measure?\")"
   ]
  },
  {
   "cell_type": "markdown",
   "metadata": {},
   "source": [
    "<div class=\"alert alert-block alert-info\"><center><b> What about the initial velocities?</b></center><div>"
   ]
  },
  {
   "cell_type": "markdown",
   "metadata": {},
   "source": [
    "There are two possible strategies\n",
    "1. Start with initial velocity equal to zero for all the atoms in the simulation environment and coupling with a thermostat \n",
    "1. Assign to the atoms initial velocity so that the distribution of the velocity is equal to a Maxwell-Boltzmann distribution at a given temperature $p(\\it{v}_i)$\n",
    "\n",
    "\n",
    "<div><center>$p(\\it{v}_i)=\\sqrt{\\frac{m_i}{2\\pi kT}}\\exp{\\left(- \\frac{m_i\\it{v}_{i}^2}{2kT}\\right)}$</center> </div>\n",
    "<br>\n",
    "\n",
    "\n",
    "<div class=\"alert alert-block alert-danger\"><center><b>ATTENTION! NERD TIME</b></center>\n",
    "    \n",
    "To accomplish this second possibility, normally distributed random numbers are generated by adding twelve random numbers $R_K$ in the range 0 ≤$R_K$< 1 and subtracting 6.0 from their sum. The result is then multiplied by the standard deviation of the velocity distribution $\\sqrt{\\frac{𝑘𝑇}{𝑚_𝑖}}$. Since the resulting total energy will not correspond exactly to the required temperature $T$, a correction is made: first the center-of-mass motion is removed and then all velocities are scaled so that the total energy corresponds exactly to $T$. \n",
    "\n",
    " </div>\n",
    "\n"
   ]
  },
  {
   "cell_type": "code",
   "execution_count": null,
   "metadata": {
    "slideshow": {
     "slide_type": "subslide"
    }
   },
   "outputs": [],
   "source": [
    "%%bash\n",
    "gmx grompp -f data/mdp/posre.mdp -c 00-em/em.gro -r 00-em/em.gro -p system/penetratin.top -o 01-posres/posres.tpr"
   ]
  },
  {
   "cell_type": "markdown",
   "metadata": {},
   "source": [
    "<div class=\"alert alert-block alert-warning\"><b>Important observation</b><br> In this case Gromacs failed, what we can do? <br>Rise the hand and ask to the professor/assistant for help? <br> Or read the output, solve the problem and enter in the engineer's adulthood?<br>So read the output and try to undersand the problem</div>\n",
    "<br>\n",
    "\n",
    "**NB** Some GROMACS version cannot experience this warning, however this hint is also valid\n",
    "\n",
    "**P.S.** Seeking advice from classroom teachers is essential and strongly recommended and encouraged. Paradoxically, however, asking for advice after trying to solve the problem and reading the terminal is even better!"
   ]
  },
  {
   "cell_type": "code",
   "execution_count": null,
   "metadata": {
    "slideshow": {
     "slide_type": "subslide"
    }
   },
   "outputs": [],
   "source": [
    "%%bash\n",
    "gmx grompp -f data/mdp/posre.mdp -c 00-em/em.gro -r 00-em/em.gro -p system/penetratin.top -o 01-posres/posres.tpr -maxwarn 2"
   ]
  },
  {
   "cell_type": "code",
   "execution_count": null,
   "metadata": {
    "slideshow": {
     "slide_type": "subslide"
    }
   },
   "outputs": [],
   "source": [
    "!gmx mdrun -s 01-posres/posres.tpr -deffnm 01-posres/posres -v -nt 12 "
   ]
  },
  {
   "cell_type": "markdown",
   "metadata": {
    "slideshow": {
     "slide_type": "subslide"
    }
   },
   "source": [
    "<div class=\"alert alert-block alert-info\"><center><b> Is the system well equilibrated in terms of temperature? And in terms of pressure?</b></center><div>"
   ]
  },
  {
   "cell_type": "code",
   "execution_count": null,
   "metadata": {},
   "outputs": [],
   "source": [
    "! echo -e \"Temperature \\n Pressure \\n 0\" | gmx energy -f 01-posres/posres.edr -o 01-posres/Temp_Press.xvg "
   ]
  },
  {
   "cell_type": "code",
   "execution_count": null,
   "metadata": {
    "slideshow": {
     "slide_type": "subslide"
    }
   },
   "outputs": [],
   "source": [
    "data=np.loadtxt(\"01-posres/Temp_Press.xvg\",comments=[\"#\",\"@\"])\n",
    "time=data[:,0] #assign the first column of data to the variable step\n",
    "temp=data[:,1] #assign the second column of data to the variable potential\n",
    "pressure=data[:,2] #assign the second column of data to the variable pressure\n",
    "plt.plot(time,temp)\n",
    "plt.xlabel(\"Time [ps]\",size=14)\n",
    "plt.ylabel(\"Temperature [K]\",size=14)\n",
    "plt.title(\"Temperature as a function of Time\")\n",
    "plt.tight_layout()"
   ]
  },
  {
   "cell_type": "code",
   "execution_count": null,
   "metadata": {
    "slideshow": {
     "slide_type": "subslide"
    }
   },
   "outputs": [],
   "source": [
    "plt.plot(time,pressure)\n",
    "plt.xlabel(\"Time [ps]\",size=14)\n",
    "plt.ylabel(\"Pressure [bar]\",size=14)\n",
    "plt.title(\"Pressure as a function of Time\")\n",
    "plt.tight_layout()"
   ]
  },
  {
   "cell_type": "code",
   "execution_count": null,
   "metadata": {
    "slideshow": {
     "slide_type": "subslide"
    }
   },
   "outputs": [],
   "source": [
    "! echo -e \"Density \\n 0\" | gmx energy -f 01-posres/posres.edr -o 01-posres/density.xvg"
   ]
  },
  {
   "cell_type": "code",
   "execution_count": null,
   "metadata": {},
   "outputs": [],
   "source": [
    "data=np.loadtxt(\"01-posres/density.xvg\",comments=[\"#\",\"@\"])\n",
    "time=data[:,0] #assign the first column of data to the variable time\n",
    "density=data[:,1] #assign the second column of data to the variable Density\n",
    "plt.plot(time,density)\n",
    "plt.xlabel(\"Time [ps]\",size=14)\n",
    "plt.ylabel(\"Density [$kg/m^3$]\",size=14)\n",
    "plt.axhline(1000,time[0],time[-1],ls=\"--\")\n",
    "plt.title(\"Density as a function of Time\")\n",
    "plt.tight_layout()"
   ]
  },
  {
   "cell_type": "markdown",
   "metadata": {
    "slideshow": {
     "slide_type": "subslide"
    }
   },
   "source": [
    "<div class=\"alert alert-block alert-info\"><center><b> How to plot two diagrams in a single subplot? </b></center><div>"
   ]
  },
  {
   "cell_type": "code",
   "execution_count": null,
   "metadata": {},
   "outputs": [],
   "source": [
    "import matplotlib.pyplot as plt # Import from the library matplotlib  the package pyplot and alias it as plt \n",
    "import numpy as np #import the library numpy and alias it as np\n",
    "'''load the data from the potential.xvg format into data, ...\n",
    "define the comments as raw starting with either # or @'''\n",
    "data=np.loadtxt(\"01-posres/Temp_Press.xvg\",comments=[\"#\",\"@\"])\n",
    "time=data[:,0] #assign the first column of data to the variable step\n",
    "temp=data[:,1] #assign the second column of data to the variable potential\n",
    "press=data[:,2] #assign the second column of data to the variable potential\n",
    "\n",
    "plot,axes=plt.subplots(2,1,sharex=True,figsize=(16/2.54,8/2.54)) #plot the function potential(data)\n",
    "# note: size expressed in inches ~= cm / 2.54\n",
    "axes[0].plot(time,temp)\n",
    "axes[1].plot(time,press)\n",
    "axes[1].set_xlabel(\"Time [ps]\",fontsize=10) #assign the x label \n",
    "axes[0].set_ylabel(\"Temperature [K]\",fontsize=10) #assign the y label\n",
    "axes[1].set_ylabel(\"Pressure [bar]\",fontsize=10) #assign the y label\n",
    "#save the figure in png format with a resolution of 300 dot per inch \"dpi\" \n",
    "plot.tight_layout()\n",
    "plot.savefig(\"01-posres/subplot_temp_press.png\",format=\"png\", dpi=300)"
   ]
  },
  {
   "cell_type": "markdown",
   "metadata": {
    "slideshow": {
     "slide_type": "subslide"
    }
   },
   "source": [
    "## Production without position restraints"
   ]
  },
  {
   "cell_type": "markdown",
   "metadata": {},
   "source": [
    "Upon completion of the equilibration phase, the system is now well-equilibrated at the desired temperature and pressure. We are now ready to release the position restraints and run production MD for data collection.\n",
    "\n",
    "\n",
    "Return at the root of your working directory, create a folder for the molecular dynamics production:"
   ]
  },
  {
   "cell_type": "code",
   "execution_count": null,
   "metadata": {},
   "outputs": [],
   "source": [
    "!mkdir 02-prod"
   ]
  },
  {
   "cell_type": "code",
   "execution_count": null,
   "metadata": {
    "slideshow": {
     "slide_type": "subslide"
    }
   },
   "outputs": [],
   "source": [
    "!cat data/mdp/md.mdp"
   ]
  },
  {
   "cell_type": "markdown",
   "metadata": {
    "slideshow": {
     "slide_type": "subslide"
    }
   },
   "source": [
    "Create the tpr and run the simulation: we will use the file “md.mdp” for molecular dynamics parameters which\n",
    "do not include the position restraints of the previous step. Note that we will use the structure file coming from\n",
    "the previous equilibration with position restraints, i.e. posre.gro"
   ]
  },
  {
   "cell_type": "code",
   "execution_count": null,
   "metadata": {
    "slideshow": {
     "slide_type": "subslide"
    }
   },
   "outputs": [],
   "source": [
    "!gmx grompp -f data/mdp/md.mdp -c  01-posres/posres.gro -p system/penetratin.top -o 02-prod/prod.tpr"
   ]
  },
  {
   "cell_type": "code",
   "execution_count": null,
   "metadata": {
    "slideshow": {
     "slide_type": "subslide"
    }
   },
   "outputs": [],
   "source": [
    "!gmx mdrun -deffnm 02-prod/prod -s 02-prod/prod.tpr -v -nt 12"
   ]
  },
  {
   "cell_type": "markdown",
   "metadata": {
    "slideshow": {
     "slide_type": "subslide"
    }
   },
   "source": [
    "## Visualize the trajectory"
   ]
  },
  {
   "cell_type": "code",
   "execution_count": null,
   "metadata": {},
   "outputs": [],
   "source": [
    "import nglview as nv\n",
    "traj = nv.SimpletrajTrajectory(\"02-prod/prod.xtc\", \"02-prod/prod.gro\")\n",
    "view_pbc = nv.show_simpletraj(traj)\n",
    "view_pbc.add_representation(\"ball+stick\",selection=\"water\")\n",
    "view_pbc.center(\"System\")\n",
    "view_pbc "
   ]
  },
  {
   "cell_type": "markdown",
   "metadata": {
    "slideshow": {
     "slide_type": "subslide"
    }
   },
   "source": [
    "The trajectory file that is obtained as a result of the simulation, if directly loaded onto a visualization program has artifacts due to the presence of the periodic conditions. \n",
    "\n",
    "In fact since the bonds are created heuristically at the beginning by the program, if some atoms of the molecule exit from one side and re-enter from the opposite side the visualization program always considers them joined. \n",
    "\n",
    "Mind you, this is not an error in the trajectory, it is due to the presence of the periodic conditions. To \"reconstruct\" molecules \"broken\" due to the periodic conditions one uses the gromacs program `gmx trjconv`, which is generally used to manipulate trajectory files in the various gromacs formats (`.trr`, `.xtc`, `.pdb`).\n"
   ]
  },
  {
   "cell_type": "code",
   "execution_count": null,
   "metadata": {},
   "outputs": [],
   "source": [
    "!gmx trjconv -h"
   ]
  },
  {
   "cell_type": "code",
   "execution_count": null,
   "metadata": {
    "slideshow": {
     "slide_type": "subslide"
    }
   },
   "outputs": [],
   "source": [
    "!echo -e \"0 \\n\" | gmx trjconv -s 02-prod/prod.tpr -f 02-prod/prod.xtc -o 02-prod/noPBC.xtc -pbc mol -ur compact"
   ]
  },
  {
   "cell_type": "code",
   "execution_count": null,
   "metadata": {
    "slideshow": {
     "slide_type": "subslide"
    }
   },
   "outputs": [],
   "source": [
    "import nglview as nv\n",
    "traj_nopbc = nv.SimpletrajTrajectory(\"02-prod/noPBC.xtc\", \"02-prod/prod.gro\")\n",
    "view_nopbc = nv.show_simpletraj(traj_nopbc)\n",
    "view_nopbc.add_representation(\"ball+stick\",selection=\"water\")\n",
    "view_nopbc.center(\"sytem\")\n",
    "view_nopbc"
   ]
  },
  {
   "cell_type": "markdown",
   "metadata": {
    "slideshow": {
     "slide_type": "subslide"
    }
   },
   "source": [
    "As we saw in class, in reality, to study protein folding and phenomena at the molecular scale, it is necessary to simulate for orders of tens of nanoseconds or even microsends. \n",
    "\n",
    "Usually at the end of a simulation, certain quantities such as the RMSD (which we will see in the next part) are observed to assess the convergence of the simulations. \n",
    "\n",
    "In the case that a simulation has not converged, it is possible to extend an existing simulation without having to start it all over again. "
   ]
  },
  {
   "cell_type": "markdown",
   "metadata": {
    "slideshow": {
     "slide_type": "subslide"
    }
   },
   "source": [
    "To extend an existing simulation it is possible to follow diverse approach. \n",
    "\n",
    "One is to build a new `.tpr` with the `.gro` file coming as an output of the previous simulation and run another production.\n",
    "\n",
    "Another approach is to overwrite the directive nsteps in the existing `.tpr` file and \"extend\" the existing trajectory. \n",
    "\n",
    "To overwrite the number of steps one can employ the command \n",
    "\n",
    "**`gmx convert-tpr -s \"old.tpr\" -nsteps \"number of steps\"`**\n",
    "\n",
    "or \n",
    "\n",
    "employ the option `-nsteps` in the command **`gmx mdrun`** to perform additional steps.\n",
    "\n",
    "In both case the command **`gmx mdrun`** must be lunched with the `-cpi` option. `-cpi` option takes as input a check point file (`.cpt`).\n",
    "\n",
    "**NB** The check point file (`.cpt`) can also be employed to conclude a simulation that for some reason, such computer shutdown, has not concluded the total number of steps.\n",
    "\n",
    "Let's extend the previous simulation in order to have a trajectory of 10 ns.\n",
    "\n",
    "If the `dt=0.002` how many steps we must perform in order to have 10 ns of simulation?"
   ]
  },
  {
   "cell_type": "code",
   "execution_count": null,
   "metadata": {
    "scrolled": false
   },
   "outputs": [],
   "source": [
    "!gmx convert-tpr -s 02-prod/prod.tpr -nsteps 5000000 -o 02-prod/prod_ext.tpr"
   ]
  },
  {
   "cell_type": "code",
   "execution_count": null,
   "metadata": {},
   "outputs": [],
   "source": [
    "!gmx mdrun -deffnm 02-prod/prod -cpi 02-prod/prod.cpt -s 02-prod/prod_ext.tpr -v"
   ]
  },
  {
   "cell_type": "markdown",
   "metadata": {
    "slideshow": {
     "slide_type": "slide"
    }
   },
   "source": [
    "# PART 4 - Analysis"
   ]
  },
  {
   "cell_type": "markdown",
   "metadata": {
    "slideshow": {
     "slide_type": "subslide"
    }
   },
   "source": [
    "In this section, we will see some basic analysis that can be done on the result of a MD simulation.\n",
    "We will do the analysis on the data contained in the folder `data/part_4`. We will need a tpr, so let's create it.\n",
    "\n",
    "Let's create a working directory and copy those data:"
   ]
  },
  {
   "cell_type": "code",
   "execution_count": 5,
   "metadata": {
    "slideshow": {
     "slide_type": "fragment"
    }
   },
   "outputs": [],
   "source": [
    "%%bash\n",
    "mkdir -p 03-analysis\n",
    "cp data/part_4/* 03-analysis/\n",
    "cd 03-analysis\n",
    "gmx grompp -f dummy.mdp -c penetratin.pdb -p penetratin.top -o topol.tpr > /dev/null 2>&1"
   ]
  },
  {
   "cell_type": "markdown",
   "metadata": {
    "slideshow": {
     "slide_type": "fragment"
    }
   },
   "source": [
    "<div class=\"alert alert-block alert-warning\"><b><center>WARNING</center></b><br>\n",
    "    As you have noticed, we have created a new file <b>\".tpr\"</b> in the previous cell. This is due to the fact that the <b>\".tpr\"</b>  file, unlike most of the other formats produced by gromacs ('xtc', 'gro', 'trr' etc...) is linked to the version of the software with which it was created. In other words, a <b>\".tpr\"</b>  created with the <b>\"gromacs 2020\"</b> version can only be read by <b>\"gromacs 2020\"</b> and not by the version of <b>\"gromacs 2021\"</b>.\n",
    "</div>"
   ]
  },
  {
   "cell_type": "markdown",
   "metadata": {
    "slideshow": {
     "slide_type": "subslide"
    }
   },
   "source": [
    "First, import and install necessary packages necessary packages"
   ]
  },
  {
   "cell_type": "code",
   "execution_count": 6,
   "metadata": {
    "slideshow": {
     "slide_type": "fragment"
    }
   },
   "outputs": [],
   "source": [
    "import numpy as np\n",
    "import matplotlib.pyplot as plt\n",
    "\n",
    "%matplotlib inline\n",
    "\n",
    "def convert_image(f=\"plot.eps\",o=\"plot.png\"):\n",
    "    '''\n",
    "    Function that allows you to convert a file from esp format to png format\n",
    "    '''\n",
    "    from PIL import Image\n",
    "    eps_image = Image.open(f)\n",
    "    eps_image.load(scale=10)\n",
    "    eps_image.save(o)"
   ]
  },
  {
   "cell_type": "markdown",
   "metadata": {
    "slideshow": {
     "slide_type": "subslide"
    }
   },
   "source": [
    "## RMSD"
   ]
  },
  {
   "cell_type": "markdown",
   "metadata": {
    "slideshow": {
     "slide_type": "fragment"
    }
   },
   "source": [
    "The root-mean-square deviation (RMSD) is a measure of the average distance between the atoms (usually C$\\alpha$s or the backbone) of superimposed proteins. Typically RMSD is used as a quantitative measure of similarity between two or more protein structures. In the case of Molecular Dynamics simulations, one of the first analysis that is usually done is the observation of RMSD of protein atoms with respect to a target conformation over time:\n",
    "\n",
    "$$RMSD (t) = \\sqrt{\\frac{1}{N}\\sum^{N}_{i=1}{\\left(r_{i}(t)-r_{ref}\\right)^2}}$$\n",
    "\n",
    "where N is the number of atoms that you are considering (e.g., the total number of C$\\alpha$s).\n",
    "\n",
    "If RMSD is computed using the first frame as reference, we can quantify possible conformational changes from the initial structure used in the simulation. Moreover, we can have a first information about simulation convegernce if the RMSD stabilizes.\n",
    "\n",
    "Consider a 500 ns long simulation and the RMSD with respect to the initial conformation. The RMSD stabilized around 1 nm starting from 100 ns. Can you say that the conformations at 450 ns and 200 ns are for sure similar?"
   ]
  },
  {
   "cell_type": "markdown",
   "metadata": {
    "slideshow": {
     "slide_type": "subslide"
    }
   },
   "source": [
    "The answer is no!\n",
    "That information suggests you that the conformation are similar, but the actual information is that they are \"equally distant\" from the initial configuration of the system (reference frame). Therefore, it can happen that:\n",
    "\n",
    "$$ RMSD(200ns, 450ns) >> RMSD(0ns, 450ns) = RMSD(0ns, 200ns)$$\n",
    "\n",
    "We can test deeper the convergence of the simulation by using another frame as reference, such as the frame at 450ns. If the RMSD is stable and \"low\" starting from 100 ns (i.e., much lower than the one with respect to the initial frame), then we can be more confident about simulation convergence."
   ]
  },
  {
   "cell_type": "markdown",
   "metadata": {
    "slideshow": {
     "slide_type": "fragment"
    }
   },
   "source": [
    "**Note**\n",
    "\n",
    "The RMSD can be computed to other, non-protein molecules, such as small organic molecules, i.e., ligands. For instance, if we fit the trajectory on the protein and measure the RMSD of the ligand, we obtain information about the ligand position within the protein binding cleft."
   ]
  },
  {
   "cell_type": "code",
   "execution_count": 7,
   "metadata": {
    "slideshow": {
     "slide_type": "fragment"
    }
   },
   "outputs": [
    {
     "name": "stdout",
     "output_type": "stream",
     "text": [
      "                   :-) GROMACS - gmx rms, 2024.4-Homebrew (-:\n",
      "\n",
      "Executable:   /opt/homebrew/bin/../Cellar/gromacs/2024.4/bin/gmx\n",
      "Data prefix:  /opt/homebrew/bin/../Cellar/gromacs/2024.4\n",
      "Working dir:  /Users/lorenzo/Documents/GitHub/BiomeccanicaMultiscala/LAB/06-Gromacs\n",
      "Command line:\n",
      "  gmx rms -h\n",
      "\n",
      "SYNOPSIS\n",
      "\n",
      "gmx rms [-s [<.tpr/.gro/...>]] [-f [<.xtc/.trr/...>]]\n",
      "        [-f2 [<.xtc/.trr/...>]] [-n [<.ndx>]] [-o [<.xvg>]] [-mir [<.xvg>]]\n",
      "        [-a [<.xvg>]] [-dist [<.xvg>]] [-m [<.xpm>]] [-bin [<.dat>]]\n",
      "        [-bm [<.xpm>]] [-b <time>] [-e <time>] [-dt <time>] [-tu <enum>]\n",
      "        [-[no]w] [-xvg <enum>] [-what <enum>] [-[no]pbc] [-fit <enum>]\n",
      "        [-prev <int>] [-[no]split] [-skip <int>] [-skip2 <int>] [-max <real>]\n",
      "        [-min <real>] [-bmax <real>] [-bmin <real>] [-[no]mw]\n",
      "        [-nlevels <int>] [-ng <int>]\n",
      "\n",
      "DESCRIPTION\n",
      "\n",
      "gmx rms compares two structures by computing the root mean square deviation\n",
      "(RMSD), the size-independent rho similarity parameter (rho) or the scaled rho\n",
      "(rhosc), see Maiorov & Crippen, Proteins 22, 273 (1995). This is selected by\n",
      "-what.\n",
      "\n",
      "Each structure from a trajectory (-f) is compared to a reference structure.\n",
      "The reference structure is taken from the structure file (-s).\n",
      "\n",
      "With option -mir also a comparison with the mirror image of the reference\n",
      "structure is calculated. This is useful as a reference for 'significant'\n",
      "values, see Maiorov & Crippen, Proteins 22, 273 (1995).\n",
      "\n",
      "Option -prev produces the comparison with a previous frame the specified\n",
      "number of frames ago.\n",
      "\n",
      "Option -m produces a matrix in .xpm format of comparison values of each\n",
      "structure in the trajectory with respect to each other structure. This file\n",
      "can be visualized with for instance xv and can be converted to postscript with\n",
      "gmx xpm2ps.\n",
      "\n",
      "Option -fit controls the least-squares fitting of the structures on top of\n",
      "each other: complete fit (rotation and translation), translation only, or no\n",
      "fitting at all.\n",
      "\n",
      "Option -mw controls whether mass weighting is done or not. If you select the\n",
      "option (default) and supply a valid .tpr file masses will be taken from there,\n",
      "otherwise the masses will be deduced from the atommass.dat file in GMXLIB\n",
      "(deprecated). This is fine for proteins, but not necessarily for other\n",
      "molecules. You can check whether this happened by turning on the -debug flag\n",
      "and inspecting the log file.\n",
      "\n",
      "With -f2, the 'other structures' are taken from a second trajectory, this\n",
      "generates a comparison matrix of one trajectory versus the other.\n",
      "\n",
      "Option -bin does a binary dump of the comparison matrix.\n",
      "\n",
      "Option -bm produces a matrix of average bond angle deviations analogously to\n",
      "the -m option. Only bonds between atoms in the comparison group are\n",
      "considered.\n",
      "\n",
      "OPTIONS\n",
      "\n",
      "Options to specify input files:\n",
      "\n",
      " -s      [<.tpr/.gro/...>]  (topol.tpr)\n",
      "           Structure+mass(db): tpr gro g96 pdb brk ent\n",
      " -f      [<.xtc/.trr/...>]  (traj.xtc)\n",
      "           Trajectory: xtc trr cpt gro g96 pdb tng\n",
      " -f2     [<.xtc/.trr/...>]  (traj.xtc)       (Opt.)\n",
      "           Trajectory: xtc trr cpt gro g96 pdb tng\n",
      " -n      [<.ndx>]           (index.ndx)      (Opt.)\n",
      "           Index file\n",
      "\n",
      "Options to specify output files:\n",
      "\n",
      " -o      [<.xvg>]           (rmsd.xvg)\n",
      "           xvgr/xmgr file\n",
      " -mir    [<.xvg>]           (rmsdmir.xvg)    (Opt.)\n",
      "           xvgr/xmgr file\n",
      " -a      [<.xvg>]           (avgrp.xvg)      (Opt.)\n",
      "           xvgr/xmgr file\n",
      " -dist   [<.xvg>]           (rmsd-dist.xvg)  (Opt.)\n",
      "           xvgr/xmgr file\n",
      " -m      [<.xpm>]           (rmsd.xpm)       (Opt.)\n",
      "           X PixMap compatible matrix file\n",
      " -bin    [<.dat>]           (rmsd.dat)       (Opt.)\n",
      "           Generic data file\n",
      " -bm     [<.xpm>]           (bond.xpm)       (Opt.)\n",
      "           X PixMap compatible matrix file\n",
      "\n",
      "Other options:\n",
      "\n",
      " -b      <time>             (0)\n",
      "           Time of first frame to read from trajectory (default unit ps)\n",
      " -e      <time>             (0)\n",
      "           Time of last frame to read from trajectory (default unit ps)\n",
      " -dt     <time>             (0)\n",
      "           Only use frame when t MOD dt = first time (default unit ps)\n",
      " -tu     <enum>             (ps)\n",
      "           Unit for time values: fs, ps, ns, us, ms, s\n",
      " -[no]w                     (no)\n",
      "           View output .xvg, .xpm, .eps and .pdb files\n",
      " -xvg    <enum>             (xmgrace)\n",
      "           xvg plot formatting: xmgrace, xmgr, none\n",
      " -what   <enum>             (rmsd)\n",
      "           Structural difference measure: rmsd, rho, rhosc\n",
      " -[no]pbc                   (yes)\n",
      "           PBC check\n",
      " -fit    <enum>             (rot+trans)\n",
      "           Fit to reference structure: rot+trans, translation, none\n",
      " -prev   <int>              (0)\n",
      "           Compare with previous frame\n",
      " -[no]split                 (no)\n",
      "           Split graph where time is zero\n",
      " -skip   <int>              (1)\n",
      "           Only write every nr-th frame to matrix\n",
      " -skip2  <int>              (1)\n",
      "           Only write every nr-th frame to matrix\n",
      " -max    <real>             (-1)\n",
      "           Maximum level in comparison matrix\n",
      " -min    <real>             (-1)\n",
      "           Minimum level in comparison matrix\n",
      " -bmax   <real>             (-1)\n",
      "           Maximum level in bond angle matrix\n",
      " -bmin   <real>             (-1)\n",
      "           Minimum level in bond angle matrix\n",
      " -[no]mw                    (yes)\n",
      "           Use mass weighting for superposition\n",
      " -nlevels <int>             (80)\n",
      "           Number of levels in the matrices\n",
      " -ng     <int>              (1)\n",
      "           Number of groups to compute RMS between\n",
      "\n",
      "GROMACS reminds you: \"Culture eats strategy for breakfast\" (Peter Drucker)\n",
      "\n"
     ]
    }
   ],
   "source": [
    "!gmx rms -h"
   ]
  },
  {
   "cell_type": "code",
   "execution_count": 8,
   "metadata": {
    "slideshow": {
     "slide_type": "subslide"
    }
   },
   "outputs": [
    {
     "name": "stderr",
     "output_type": "stream",
     "text": [
      "                   :-) GROMACS - gmx rms, 2024.4-Homebrew (-:\n",
      "\n",
      "Executable:   /opt/homebrew/bin/../Cellar/gromacs/2024.4/bin/gmx\n",
      "Data prefix:  /opt/homebrew/bin/../Cellar/gromacs/2024.4\n",
      "Working dir:  /Users/lorenzo/Documents/GitHub/BiomeccanicaMultiscala/LAB/06-Gromacs/03-analysis\n",
      "Command line:\n",
      "  gmx rms -s penetratin.pdb -f penetratin.xtc -o rmsd.xvg -tu ns\n",
      "\n",
      "Select group for least squares fit\n",
      "Group     0 (         System) has  6608 elements\n",
      "Group     1 (        Protein) has   334 elements\n",
      "Group     2 (      Protein-H) has   159 elements\n",
      "Group     3 (        C-alpha) has    16 elements\n",
      "Group     4 (       Backbone) has    48 elements\n",
      "Group     5 (      MainChain) has    65 elements\n",
      "Group     6 (   MainChain+Cb) has    81 elements\n",
      "Group     7 (    MainChain+H) has    83 elements\n",
      "Group     8 (      SideChain) has   251 elements\n",
      "Group     9 (    SideChain-H) has    94 elements\n",
      "Group    10 (    Prot-Masses) has   334 elements\n",
      "Group    11 (    non-Protein) has  6274 elements\n",
      "Group    12 (          Water) has  6255 elements\n",
      "Group    13 (            SOL) has  6255 elements\n",
      "Group    14 (      non-Water) has   353 elements\n",
      "Group    15 (            Ion) has    19 elements\n",
      "Group    16 ( Water_and_ions) has  6274 elements\n",
      "Select a group: Select group for RMSD calculation\n",
      "Group     0 (         System) has  6608 elements\n",
      "Group     1 (        Protein) has   334 elements\n",
      "Group     2 (      Protein-H) has   159 elements\n",
      "Group     3 (        C-alpha) has    16 elements\n",
      "Group     4 (       Backbone) has    48 elements\n",
      "Group     5 (      MainChain) has    65 elements\n",
      "Group     6 (   MainChain+Cb) has    81 elements\n",
      "Group     7 (    MainChain+H) has    83 elements\n",
      "Group     8 (      SideChain) has   251 elements\n",
      "Group     9 (    SideChain-H) has    94 elements\n",
      "Group    10 (    Prot-Masses) has   334 elements\n",
      "Group    11 (    non-Protein) has  6274 elements\n",
      "Group    12 (          Water) has  6255 elements\n",
      "Group    13 (            SOL) has  6255 elements\n",
      "Group    14 (      non-Water) has   353 elements\n",
      "Group    15 (            Ion) has    19 elements\n",
      "Group    16 ( Water_and_ions) has  6274 elements\n",
      "Select a group: \n",
      "WARNING: If there are molecules in the input trajectory file\n",
      "         that are broken across periodic boundaries, they\n",
      "         cannot be made whole (or treated as whole) without\n",
      "         you providing a run input file.\n",
      "\n",
      "Last frame       1000 time   10.000   \n",
      "\n",
      "GROMACS reminds you: \"Sie haben also recht gehabt, Sie Spitzbube. [You were right after all, you rascal.]\" (Albert Einstein (letter to Wolfgang Pauli))\n",
      "\n"
     ]
    },
    {
     "name": "stdout",
     "output_type": "stream",
     "text": [
      "\n",
      "WARNING: Masses and atomic (Van der Waals) radii will be guessed\n",
      "         based on residue and atom names, since they could not be\n",
      "         definitively assigned from the information in your input\n",
      "         files. These guessed numbers might deviate from the mass\n",
      "         and radius of the atom type. Please check the output\n",
      "         files if necessary. Note, that this functionality may\n",
      "         be removed in a future GROMACS version. Please, consider\n",
      "         using another file format for your input.\n",
      "\n",
      "Selected 4: 'Backbone'\n",
      "Selected 4: 'Backbone'\n"
     ]
    },
    {
     "name": "stderr",
     "output_type": "stream",
     "text": [
      "                 :-) GROMACS - gmx trjconv, 2024.4-Homebrew (-:\n",
      "\n",
      "Executable:   /opt/homebrew/bin/../Cellar/gromacs/2024.4/bin/gmx\n",
      "Data prefix:  /opt/homebrew/bin/../Cellar/gromacs/2024.4\n",
      "Working dir:  /Users/lorenzo/Documents/GitHub/BiomeccanicaMultiscala/LAB/06-Gromacs/03-analysis\n",
      "Command line:\n",
      "  gmx trjconv -s topol.tpr -f penetratin.xtc -dump 9 -o struct9ns.pdb -tu ns\n",
      "\n",
      "Will write pdb: Protein data bank file\n",
      "Reading file topol.tpr, VERSION 2024.4-Homebrew (single precision)\n",
      "Reading file topol.tpr, VERSION 2024.4-Homebrew (single precision)\n",
      "Group     0 (         System) has  6608 elements\n",
      "Group     1 (        Protein) has   334 elements\n",
      "Group     2 (      Protein-H) has   159 elements\n",
      "Group     3 (        C-alpha) has    16 elements\n",
      "Group     4 (       Backbone) has    48 elements\n",
      "Group     5 (      MainChain) has    65 elements\n",
      "Group     6 (   MainChain+Cb) has    81 elements\n",
      "Group     7 (    MainChain+H) has    83 elements\n",
      "Group     8 (      SideChain) has   251 elements\n",
      "Group     9 (    SideChain-H) has    94 elements\n",
      "Group    10 (    Prot-Masses) has   334 elements\n",
      "Group    11 (    non-Protein) has  6274 elements\n",
      "Group    12 (          Water) has  6255 elements\n",
      "Group    13 (            SOL) has  6255 elements\n",
      "Group    14 (      non-Water) has   353 elements\n",
      "Group    15 (            Ion) has    19 elements\n",
      "Group    16 ( Water_and_ions) has  6274 elements\n",
      "Reading frame       0 time    0.000   \n",
      "Precision of penetratin.xtc is 0.001 (nm)\n",
      "Reading frame     900 time    9.000   \n",
      "Dumping frame at t= 9 ns\n",
      "\n",
      "Last written: frame      0 time    9.000\n",
      "\n",
      "\n",
      "GROMACS reminds you: \"Sie haben also recht gehabt, Sie Spitzbube. [You were right after all, you rascal.]\" (Albert Einstein (letter to Wolfgang Pauli))\n",
      "\n"
     ]
    },
    {
     "name": "stdout",
     "output_type": "stream",
     "text": [
      "Note that major changes are planned in future for trjconv, to improve usability and utility.\n",
      "Select group for output\n",
      "Selected 0: 'System'\n"
     ]
    },
    {
     "name": "stderr",
     "output_type": "stream",
     "text": [
      "                   :-) GROMACS - gmx rms, 2024.4-Homebrew (-:\n",
      "\n",
      "Executable:   /opt/homebrew/bin/../Cellar/gromacs/2024.4/bin/gmx\n",
      "Data prefix:  /opt/homebrew/bin/../Cellar/gromacs/2024.4\n",
      "Working dir:  /Users/lorenzo/Documents/GitHub/BiomeccanicaMultiscala/LAB/06-Gromacs/03-analysis\n",
      "Command line:\n",
      "  gmx rms -s struct9ns.pdb -f penetratin.xtc -o rmsd_9ns.xvg -tu ns\n",
      "\n",
      "Select group for least squares fit\n",
      "Group     0 (         System) has  6608 elements\n",
      "Group     1 (        Protein) has   334 elements\n",
      "Group     2 (      Protein-H) has   159 elements\n",
      "Group     3 (        C-alpha) has    16 elements\n",
      "Group     4 (       Backbone) has    48 elements\n",
      "Group     5 (      MainChain) has    65 elements\n",
      "Group     6 (   MainChain+Cb) has    81 elements\n",
      "Group     7 (    MainChain+H) has    83 elements\n",
      "Group     8 (      SideChain) has   251 elements\n",
      "Group     9 (    SideChain-H) has    94 elements\n",
      "Group    10 (    Prot-Masses) has   334 elements\n",
      "Group    11 (    non-Protein) has  6274 elements\n",
      "Group    12 (          Water) has  6255 elements\n",
      "Group    13 (            SOL) has  6255 elements\n",
      "Group    14 (      non-Water) has   353 elements\n",
      "Group    15 (            Ion) has    19 elements\n",
      "Group    16 ( Water_and_ions) has  6274 elements\n",
      "Select a group: Select group for RMSD calculation\n",
      "Group     0 (         System) has  6608 elements\n",
      "Group     1 (        Protein) has   334 elements\n",
      "Group     2 (      Protein-H) has   159 elements\n",
      "Group     3 (        C-alpha) has    16 elements\n",
      "Group     4 (       Backbone) has    48 elements\n",
      "Group     5 (      MainChain) has    65 elements\n",
      "Group     6 (   MainChain+Cb) has    81 elements\n",
      "Group     7 (    MainChain+H) has    83 elements\n",
      "Group     8 (      SideChain) has   251 elements\n",
      "Group     9 (    SideChain-H) has    94 elements\n",
      "Group    10 (    Prot-Masses) has   334 elements\n",
      "Group    11 (    non-Protein) has  6274 elements\n",
      "Group    12 (          Water) has  6255 elements\n",
      "Group    13 (            SOL) has  6255 elements\n",
      "Group    14 (      non-Water) has   353 elements\n",
      "Group    15 (            Ion) has    19 elements\n",
      "Group    16 ( Water_and_ions) has  6274 elements\n",
      "Select a group: \n",
      "WARNING: If there are molecules in the input trajectory file\n",
      "         that are broken across periodic boundaries, they\n",
      "         cannot be made whole (or treated as whole) without\n",
      "         you providing a run input file.\n",
      "\n",
      "Last frame       1000 time   10.000   \n",
      "\n",
      "GROMACS reminds you: \"Sie haben also recht gehabt, Sie Spitzbube. [You were right after all, you rascal.]\" (Albert Einstein (letter to Wolfgang Pauli))\n",
      "\n"
     ]
    },
    {
     "name": "stdout",
     "output_type": "stream",
     "text": [
      "\n",
      "WARNING: Masses and atomic (Van der Waals) radii will be guessed\n",
      "         based on residue and atom names, since they could not be\n",
      "         definitively assigned from the information in your input\n",
      "         files. These guessed numbers might deviate from the mass\n",
      "         and radius of the atom type. Please check the output\n",
      "         files if necessary. Note, that this functionality may\n",
      "         be removed in a future GROMACS version. Please, consider\n",
      "         using another file format for your input.\n",
      "\n",
      "Selected 4: 'Backbone'\n",
      "Selected 4: 'Backbone'\n"
     ]
    }
   ],
   "source": [
    "%%bash\n",
    "cd 03-analysis/\n",
    "echo -e \"Backbone\\nBackbone\" | gmx rms -s penetratin.pdb -f penetratin.xtc -o rmsd.xvg -tu ns\n",
    "echo -e \"System\" | gmx trjconv -s topol.tpr -f penetratin.xtc -dump 9 -o struct9ns.pdb -tu ns\n",
    "echo -e \"Backbone\\nBackbone\" | gmx rms -s struct9ns.pdb -f penetratin.xtc -o rmsd_9ns.xvg -tu ns"
   ]
  },
  {
   "cell_type": "code",
   "execution_count": 9,
   "metadata": {
    "scrolled": true,
    "slideshow": {
     "slide_type": "subslide"
    }
   },
   "outputs": [
    {
     "data": {
      "image/png": "[encoded data removed]",
      "text/plain": [
       "<Figure size 640x480 with 1 Axes>"
      ]
     },
     "metadata": {},
     "output_type": "display_data"
    }
   ],
   "source": [
    "# Load your data\n",
    "time, rmsd = np.loadtxt('03-analysis/rmsd.xvg',comments=['@','#'],unpack=True)\n",
    "_, rmsd9 = np.loadtxt('03-analysis/rmsd_9ns.xvg',comments=['@','#'],unpack=True)\n",
    "\n",
    "# Prepare the figure\n",
    "fig = plt.figure()\n",
    "ax = fig.add_subplot(111,)\n",
    "\n",
    "# Plot your data\n",
    "ax.plot(time,rmsd,label='Ref: 0 ns',c='k')\n",
    "ax.plot(time,rmsd9,label='Ref: 9 ns',c='r')\n",
    "\n",
    "# Adjust the plot and personalize\n",
    "ax.set_xlim(time[0],time[-1])\n",
    "m = np.max(np.concatenate((rmsd,rmsd9)))*1.05\n",
    "ax.set_ylim(0,m)\n",
    "ax.set_xlabel(r\"Time [ns]\")\n",
    "ax.set_ylabel(r\"RMSD [nm]\")\n",
    "ax.legend(frameon=False)\n",
    "\n",
    "# This allows you to adjust the figure limits to make your figure nice\n",
    "# (Recommended but not compulsory)\n",
    "fig.tight_layout()\n",
    "\n",
    "# Now, save the plot (if you want)\n",
    "fig.savefig('03-analysis/rmsd_comparison.jpg',dpi=300,facecolor='white')"
   ]
  },
  {
   "cell_type": "markdown",
   "metadata": {
    "slideshow": {
     "slide_type": "subslide"
    }
   },
   "source": [
    "## RMSF"
   ]
  },
  {
   "cell_type": "markdown",
   "metadata": {
    "slideshow": {
     "slide_type": "fragment"
    }
   },
   "source": [
    "The root-mean-square fluctuation (RMSF) from the average is a measure that allows you to quantify the fluctuation of an atom (or a group of atoms) during time.\n",
    "\n",
    "In the case of Molecular Dynamics simulations, the RMSF of protein residues is computed to identify the most stable and the most flexible parts of the protein structures. Usually, non-structured regions are the most flexible. The RMSF is usually computed as an average for each residue or is computed considering the C$\\alpha$s as representative of the whole residues.\n",
    "\n",
    "The RMSF for the i-th atom is defined as:\n",
    "\n",
    "$$RMSF = \\sqrt{\\frac{1}{N}\\sum^{N}_{t=1}{\\left(r_{i}(t)-r_{ref}\\right)^2}}$$\n",
    "\n",
    "where N is the total number of frames in the trajectory."
   ]
  },
  {
   "cell_type": "code",
   "execution_count": null,
   "metadata": {
    "scrolled": true,
    "slideshow": {
     "slide_type": "fragment"
    }
   },
   "outputs": [],
   "source": [
    "!gmx rmsf -h"
   ]
  },
  {
   "cell_type": "code",
   "execution_count": 10,
   "metadata": {
    "slideshow": {
     "slide_type": "subslide"
    }
   },
   "outputs": [
    {
     "name": "stderr",
     "output_type": "stream",
     "text": [
      "                  :-) GROMACS - gmx rmsf, 2024.4-Homebrew (-:\n",
      "\n",
      "Executable:   /opt/homebrew/bin/../Cellar/gromacs/2024.4/bin/gmx\n",
      "Data prefix:  /opt/homebrew/bin/../Cellar/gromacs/2024.4\n",
      "Working dir:  /Users/lorenzo/Documents/GitHub/BiomeccanicaMultiscala/LAB/06-Gromacs/03-analysis\n",
      "Command line:\n",
      "  gmx rmsf -f penetratin.xtc -s topol.tpr -o rmsf.xvg -res\n",
      "\n",
      "Reading file topol.tpr, VERSION 2024.4-Homebrew (single precision)\n",
      "Reading file topol.tpr, VERSION 2024.4-Homebrew (single precision)\n",
      "Select group(s) for root mean square calculation\n",
      "Group     0 (         System) has  6608 elements\n",
      "Group     1 (        Protein) has   334 elements\n",
      "Group     2 (      Protein-H) has   159 elements\n",
      "Group     3 (        C-alpha) has    16 elements\n",
      "Group     4 (       Backbone) has    48 elements\n",
      "Group     5 (      MainChain) has    65 elements\n",
      "Group     6 (   MainChain+Cb) has    81 elements\n",
      "Group     7 (    MainChain+H) has    83 elements\n",
      "Group     8 (      SideChain) has   251 elements\n",
      "Group     9 (    SideChain-H) has    94 elements\n",
      "Group    10 (    Prot-Masses) has   334 elements\n",
      "Group    11 (    non-Protein) has  6274 elements\n",
      "Group    12 (          Water) has  6255 elements\n",
      "Group    13 (            SOL) has  6255 elements\n",
      "Group    14 (      non-Water) has   353 elements\n",
      "Group    15 (            Ion) has    19 elements\n",
      "Group    16 ( Water_and_ions) has  6274 elements\n",
      "Last frame       1000 time 10000.000   \n",
      "\n",
      "GROMACS reminds you: \"Do not quench your inspiration and your imagination; do not become the slave of your model.\" (Vincent Van Gogh)\n",
      "\n"
     ]
    },
    {
     "name": "stdout",
     "output_type": "stream",
     "text": [
      "Selected 3: 'C-alpha'\n"
     ]
    }
   ],
   "source": [
    "%%bash\n",
    "cd 03-analysis/\n",
    "echo \"C-alpha\" | gmx rmsf -f penetratin.xtc -s topol.tpr -o rmsf.xvg -res"
   ]
  },
  {
   "cell_type": "code",
   "execution_count": 11,
   "metadata": {},
   "outputs": [
    {
     "name": "stdout",
     "output_type": "stream",
     "text": [
      "# This file was created Thu Dec  5 19:19:15 2024\n",
      "# Created by:\n",
      "#                  :-) GROMACS - gmx rmsf, 2024.4-Homebrew (-:\n",
      "# \n",
      "# Executable:   /opt/homebrew/bin/../Cellar/gromacs/2024.4/bin/gmx\n",
      "# Data prefix:  /opt/homebrew/bin/../Cellar/gromacs/2024.4\n",
      "# Working dir:  /Users/lorenzo/Documents/GitHub/BiomeccanicaMultiscala/LAB/06-Gromacs/03-analysis\n",
      "# Command line:\n",
      "#   gmx rmsf -f penetratin.xtc -s topol.tpr -o rmsf.xvg -res\n",
      "# gmx rmsf is part of G R O M A C S:\n",
      "#\n",
      "# Grunge ROck MAChoS\n",
      "#\n",
      "@    title \"RMS fluctuation\"\n",
      "@    xaxis  label \"Residue\"\n",
      "@    yaxis  label \"(nm)\"\n",
      "@TYPE xy\n",
      "   43   0.3175\n",
      "   44   0.1455\n",
      "   45   0.1107\n",
      "   46   0.1499\n",
      "   47   0.1581\n",
      "   48   0.0981\n",
      "   49   0.1163\n",
      "   50   0.1668\n",
      "   51   0.1300\n",
      "   52   0.0735\n",
      "   53   0.1429\n",
      "   54   0.1518\n",
      "   55   0.1611\n",
      "   56   0.1685\n",
      "   57   0.1479\n",
      "   58   0.3097\n"
     ]
    }
   ],
   "source": [
    "!cat 03-analysis/rmsf.xvg"
   ]
  },
  {
   "cell_type": "code",
   "execution_count": 12,
   "metadata": {
    "scrolled": true,
    "slideshow": {
     "slide_type": "subslide"
    }
   },
   "outputs": [
    {
     "data": {
      "image/png": "[encoded data removed]",
      "text/plain": [
       "<Figure size 640x480 with 1 Axes>"
      ]
     },
     "metadata": {},
     "output_type": "display_data"
    }
   ],
   "source": [
    "# Load your data\n",
    "res, rmsf = np.loadtxt('03-analysis/rmsf.xvg',comments=['@','#'],unpack=True)\n",
    "\n",
    "# Prepare the figure\n",
    "fig = plt.figure()\n",
    "ax = fig.add_subplot(111,)\n",
    "\n",
    "# Plot your data\n",
    "ax.plot(res,rmsf,c='k')\n",
    "\n",
    "# Adjust the plot and personalize\n",
    "ax.set_xlim(res[0],res[-1])\n",
    "m = np.max(rmsf)*1.05\n",
    "ax.set_ylim(0,m)\n",
    "ax.set_xlabel(r\"Residue number\")\n",
    "ax.set_ylabel(r\"RMSF [nm]\")\n",
    "\n",
    "# This allows you to adjust the figure limits to make your figure nice\n",
    "# (Recommended but not compulsory)\n",
    "fig.tight_layout()\n",
    "\n",
    "# Now, save the plot (if you want)\n",
    "fig.savefig('03-analysis/rmsf.png',dpi=300,facecolor='white')"
   ]
  },
  {
   "cell_type": "markdown",
   "metadata": {
    "slideshow": {
     "slide_type": "subslide"
    }
   },
   "source": [
    "**Note**\n",
    "You can use the rmsf command of GROMACS to generate an average configuration of the protein in a certain portion of the trajectory. This configuration can be used as reference in the RMSD analysis.\n",
    "\n",
    "Suppose that you take the average configuration in the trajectory from 400ns to 450ns: if the RMSD is \"low\" and stable also berfore (and after) that interval, it means that during the equilibrium trajectory the conformations are equally distant from the average of time \\[400ns; 450ns\\]"
   ]
  },
  {
   "cell_type": "code",
   "execution_count": 13,
   "metadata": {
    "slideshow": {
     "slide_type": "fragment"
    }
   },
   "outputs": [
    {
     "name": "stderr",
     "output_type": "stream",
     "text": [
      "                  :-) GROMACS - gmx rmsf, 2024.4-Homebrew (-:\n",
      "\n",
      "Executable:   /opt/homebrew/bin/../Cellar/gromacs/2024.4/bin/gmx\n",
      "Data prefix:  /opt/homebrew/bin/../Cellar/gromacs/2024.4\n",
      "Working dir:  /Users/lorenzo/Documents/GitHub/BiomeccanicaMultiscala/LAB/06-Gromacs/03-analysis\n",
      "Command line:\n",
      "  gmx rmsf -f penetratin.xtc -s topol.tpr -o rmsf_eq.xvg -ox average.pdb -b 8000 -e 9000\n",
      "\n",
      "Reading file topol.tpr, VERSION 2024.4-Homebrew (single precision)\n",
      "Reading file topol.tpr, VERSION 2024.4-Homebrew (single precision)\n",
      "Select group(s) for root mean square calculation\n",
      "Group     0 (         System) has  6608 elements\n",
      "Group     1 (        Protein) has   334 elements\n",
      "Group     2 (      Protein-H) has   159 elements\n",
      "Group     3 (        C-alpha) has    16 elements\n",
      "Group     4 (       Backbone) has    48 elements\n",
      "Group     5 (      MainChain) has    65 elements\n",
      "Group     6 (   MainChain+Cb) has    81 elements\n",
      "Group     7 (    MainChain+H) has    83 elements\n",
      "Group     8 (      SideChain) has   251 elements\n",
      "Group     9 (    SideChain-H) has    94 elements\n",
      "Group    10 (    Prot-Masses) has   334 elements\n",
      "Group    11 (    non-Protein) has  6274 elements\n",
      "Group    12 (          Water) has  6255 elements\n",
      "Group    13 (            SOL) has  6255 elements\n",
      "Group    14 (      non-Water) has   353 elements\n",
      "Group    15 (            Ion) has    19 elements\n",
      "Group    16 ( Water_and_ions) has  6274 elements\n",
      "Last frame        100 time 9000.000   \n",
      "\n",
      "GROMACS reminds you: \"Making merry out of nothing, like in refugee camp\" (Gogol Bordello)\n",
      "\n"
     ]
    },
    {
     "name": "stdout",
     "output_type": "stream",
     "text": [
      "Selected 1: 'Protein'\n"
     ]
    },
    {
     "name": "stderr",
     "output_type": "stream",
     "text": [
      "                   :-) GROMACS - gmx rms, 2024.4-Homebrew (-:\n",
      "\n",
      "Executable:   /opt/homebrew/bin/../Cellar/gromacs/2024.4/bin/gmx\n",
      "Data prefix:  /opt/homebrew/bin/../Cellar/gromacs/2024.4\n",
      "Working dir:  /Users/lorenzo/Documents/GitHub/BiomeccanicaMultiscala/LAB/06-Gromacs/03-analysis\n",
      "Command line:\n",
      "  gmx rms -s average.pdb -f penetratin.xtc -o rmsd_av.xvg -tu ns\n",
      "\n",
      "Select group for least squares fit\n",
      "Group     0 (         System) has   334 elements\n",
      "Group     1 (        Protein) has   334 elements\n",
      "Group     2 (      Protein-H) has   159 elements\n",
      "Group     3 (        C-alpha) has    16 elements\n",
      "Group     4 (       Backbone) has    48 elements\n",
      "Group     5 (      MainChain) has    65 elements\n",
      "Group     6 (   MainChain+Cb) has    81 elements\n",
      "Group     7 (    MainChain+H) has    83 elements\n",
      "Group     8 (      SideChain) has   251 elements\n",
      "Group     9 (    SideChain-H) has    94 elements\n",
      "Select a group: Select group for RMSD calculation\n",
      "Group     0 (         System) has   334 elements\n",
      "Group     1 (        Protein) has   334 elements\n",
      "Group     2 (      Protein-H) has   159 elements\n",
      "Group     3 (        C-alpha) has    16 elements\n",
      "Group     4 (       Backbone) has    48 elements\n",
      "Group     5 (      MainChain) has    65 elements\n",
      "Group     6 (   MainChain+Cb) has    81 elements\n",
      "Group     7 (    MainChain+H) has    83 elements\n",
      "Group     8 (      SideChain) has   251 elements\n",
      "Group     9 (    SideChain-H) has    94 elements\n",
      "Select a group: \n",
      "WARNING: If there are molecules in the input trajectory file\n",
      "         that are broken across periodic boundaries, they\n",
      "         cannot be made whole (or treated as whole) without\n",
      "         you providing a run input file.\n",
      "\n",
      "Reading frame       0 time    0.000   \n",
      "WARNING: topology has 334 atoms, whereas trajectory has 6608\n",
      "Last frame       1000 time   10.000   \n",
      "\n",
      "GROMACS reminds you: \"Mathematics is no more computation than typing is literature.\" (John Allen Paulos)\n",
      "\n"
     ]
    },
    {
     "name": "stdout",
     "output_type": "stream",
     "text": [
      "\n",
      "WARNING: Masses and atomic (Van der Waals) radii will be guessed\n",
      "         based on residue and atom names, since they could not be\n",
      "         definitively assigned from the information in your input\n",
      "         files. These guessed numbers might deviate from the mass\n",
      "         and radius of the atom type. Please check the output\n",
      "         files if necessary. Note, that this functionality may\n",
      "         be removed in a future GROMACS version. Please, consider\n",
      "         using another file format for your input.\n",
      "\n",
      "Selected 4: 'Backbone'\n",
      "Selected 4: 'Backbone'\n"
     ]
    }
   ],
   "source": [
    "%%bash\n",
    "cd 03-analysis/\n",
    "echo \"Protein\" | gmx rmsf -f penetratin.xtc -s topol.tpr -o rmsf_eq.xvg -ox average.pdb -b 8000 -e 9000\n",
    "echo -e \"Backbone\\nBackbone\" | gmx rms -s average.pdb -f penetratin.xtc -o rmsd_av.xvg -tu ns"
   ]
  },
  {
   "cell_type": "code",
   "execution_count": 14,
   "metadata": {
    "slideshow": {
     "slide_type": "fragment"
    }
   },
   "outputs": [
    {
     "data": {
      "image/png": "[encoded data removed]",
      "text/plain": [
       "<Figure size 640x480 with 1 Axes>"
      ]
     },
     "metadata": {},
     "output_type": "display_data"
    }
   ],
   "source": [
    "time, rmsd = np.loadtxt('03-analysis/rmsd_av.xvg',comments=['@','#'],unpack=True)\n",
    "_, rmsd50 = np.loadtxt('03-analysis/rmsd_9ns.xvg',comments=['@','#'],unpack=True)\n",
    "_, rmsd0 = np.loadtxt('03-analysis/rmsd.xvg',comments=['@','#'],unpack=True)\n",
    "fig = plt.figure()\n",
    "ax = fig.add_subplot(111,)\n",
    "ax.plot(time,rmsd0,c='k',label='Ref: 0 ns')\n",
    "ax.plot(time,rmsd50,c='r',label='Ref: 9 ns')\n",
    "ax.plot(time,rmsd,c='b',label='Ref: [8-9]ns')\n",
    "ax.set_xlim(time[0],time[-1])\n",
    "m = np.max(np.concatenate((rmsd,rmsd50,rmsd0)))*1.05\n",
    "ax.set_ylim(0,m)\n",
    "ax.set_xlabel(r\"Time [ns]\")\n",
    "ax.set_ylabel(r\"RMSD [nm]\")\n",
    "ax.legend()\n",
    "fig.tight_layout()\n",
    "fig.savefig('03-analysis/rmsd_average.png',dpi=300,facecolor='white')"
   ]
  },
  {
   "cell_type": "markdown",
   "metadata": {
    "slideshow": {
     "slide_type": "subslide"
    }
   },
   "source": [
    "## Radius of Gyration"
   ]
  },
  {
   "cell_type": "markdown",
   "metadata": {
    "slideshow": {
     "slide_type": "fragment"
    }
   },
   "source": [
    "Radius of gyration or gyradius of a body about the axis of rotation is defined as the radial distance to a point which would have a moment of inertia the same as the body's actual distribution of mass, if the total mass of the body were concentrated there.\n",
    "In polymer physics, the radius of gyration is used to describe the dimensions of a polymer chain. The radius of gyration of a particular molecule at a given time is defined as:\n",
    "\n",
    "$$ R_{\\mathrm {g} }\\ =\\ \\sqrt{{\\frac {1}{N}}\\sum _{i=1}^{N}\\left(\\mathbf {r} _{i}-\\mathbf {r} _{\\mathrm {COM} }\\right)^{2}}$$"
   ]
  },
  {
   "cell_type": "code",
   "execution_count": 15,
   "metadata": {
    "slideshow": {
     "slide_type": "fragment"
    }
   },
   "outputs": [
    {
     "name": "stdout",
     "output_type": "stream",
     "text": [
      "                 :-) GROMACS - gmx gyrate, 2024.4-Homebrew (-:\n",
      "\n",
      "Executable:   /opt/homebrew/bin/../Cellar/gromacs/2024.4/bin/gmx\n",
      "Data prefix:  /opt/homebrew/bin/../Cellar/gromacs/2024.4\n",
      "Working dir:  /Users/lorenzo/Documents/GitHub/BiomeccanicaMultiscala/LAB/06-Gromacs\n",
      "Command line:\n",
      "  gmx gyrate -h\n",
      "\n",
      "SYNOPSIS\n",
      "\n",
      "gmx gyrate [-f [<.xtc/.trr/...>]] [-s [<.tpr/.gro/...>]] [-n [<.ndx>]]\n",
      "           [-o [<.xvg>]] [-b <time>] [-e <time>] [-dt <time>] [-tu <enum>]\n",
      "           [-fgroup <selection>] [-xvg <enum>] [-[no]rmpbc] [-sf <file>]\n",
      "           [-selrpos <enum>] [-seltype <enum>] [-sel <selection>]\n",
      "           [-mode <enum>]\n",
      "\n",
      "DESCRIPTION\n",
      "\n",
      "gmx gyrate computes the radius of gyration of a molecule and the radii of\n",
      "gyration about the x-, y- and z-axes, as a function of time. The atoms are\n",
      "explicitly mass weighted.\n",
      "\n",
      "The axis components corresponds to the mass-weighted root-mean-square of the\n",
      "radii components orthogonal to each axis, for example:\n",
      "\n",
      "Rg(x) = sqrt((sum_i w_i (R_i(y)^2 + R_i(z)^2))/(sum_i w_i)).\n",
      "\n",
      "where w_i is the weight value in the given situation (mass, charge, unit)\n",
      "\n",
      "Note that this is a new implementation of the gyrate utility added in GROMACS\n",
      "2024. If you need the old one, use gmx gyrate-legacy.\n",
      "\n",
      "OPTIONS\n",
      "\n",
      "Options to specify input files:\n",
      "\n",
      " -f      [<.xtc/.trr/...>]  (traj.xtc)       (Opt.)\n",
      "           Input trajectory or single configuration: xtc trr cpt gro g96 pdb\n",
      "           tng\n",
      " -s      [<.tpr/.gro/...>]  (topol.tpr)      (Opt.)\n",
      "           Input structure: tpr gro g96 pdb brk ent\n",
      " -n      [<.ndx>]           (index.ndx)      (Opt.)\n",
      "           Extra index groups\n",
      "\n",
      "Options to specify output files:\n",
      "\n",
      " -o      [<.xvg>]           (gyrate-taf.xvg)\n",
      "           Filename for gyrate plot output\n",
      "\n",
      "Other options:\n",
      "\n",
      " -b      <time>             (0)\n",
      "           First frame (ps) to read from trajectory\n",
      " -e      <time>             (0)\n",
      "           Last frame (ps) to read from trajectory\n",
      " -dt     <time>             (0)\n",
      "           Only use frame if t MOD dt == first time (ps)\n",
      " -tu     <enum>             (ps)\n",
      "           Unit for time values: fs, ps, ns, us, ms, s\n",
      " -fgroup <selection>\n",
      "           Atoms stored in the trajectory file (if not set, assume first N\n",
      "           atoms)\n",
      " -xvg    <enum>             (xmgrace)\n",
      "           Plot formatting: xmgrace, xmgr, none\n",
      " -[no]rmpbc                 (yes)\n",
      "           Make molecules whole for each frame\n",
      " -sf     <file>\n",
      "           Provide selections from files\n",
      " -selrpos <enum>            (atom)\n",
      "           Selection reference positions: atom, res_com, res_cog, mol_com,\n",
      "           mol_cog, whole_res_com, whole_res_cog, whole_mol_com,\n",
      "           whole_mol_cog, part_res_com, part_res_cog, part_mol_com,\n",
      "           part_mol_cog, dyn_res_com, dyn_res_cog, dyn_mol_com, dyn_mol_cog\n",
      " -seltype <enum>            (atom)\n",
      "           Default selection output positions: atom, res_com, res_cog,\n",
      "           mol_com, mol_cog, whole_res_com, whole_res_cog, whole_mol_com,\n",
      "           whole_mol_cog, part_res_com, part_res_cog, part_mol_com,\n",
      "           part_mol_cog, dyn_res_com, dyn_res_cog, dyn_mol_com, dyn_mol_cog\n",
      " -sel    <selection>\n",
      "           Select group to compute gyrate radius\n",
      " -mode   <enum>             (mass)\n",
      "           Atom weighting mode: mass, charge, geometry\n",
      "\n",
      "GROMACS reminds you: \"Do not go where the path may lead, go instead where there is no path and leave a trail\" (Ralph Waldo Emerson)\n",
      "\n"
     ]
    }
   ],
   "source": [
    "!gmx gyrate -h"
   ]
  },
  {
   "cell_type": "code",
   "execution_count": 16,
   "metadata": {
    "scrolled": true,
    "slideshow": {
     "slide_type": "subslide"
    }
   },
   "outputs": [
    {
     "name": "stderr",
     "output_type": "stream",
     "text": [
      "                 :-) GROMACS - gmx gyrate, 2024.4-Homebrew (-:\n",
      "\n",
      "Executable:   /opt/homebrew/bin/../Cellar/gromacs/2024.4/bin/gmx\n",
      "Data prefix:  /opt/homebrew/bin/../Cellar/gromacs/2024.4\n",
      "Working dir:  /Users/lorenzo/Documents/GitHub/BiomeccanicaMultiscala/LAB/06-Gromacs/03-analysis\n",
      "Command line:\n",
      "  gmx gyrate -f penetratin.xtc -s topol.tpr -o rog.xvg\n",
      "\n",
      "Reading file topol.tpr, VERSION 2024.4-Homebrew (single precision)\n",
      "Reading file topol.tpr, VERSION 2024.4-Homebrew (single precision)\n",
      "Last frame       1000 time 10000.000   \n",
      "Analyzed 1001 frames, last time 10000.000\n",
      "\n",
      "GROMACS reminds you: \"Big Data is like teenage sex: everyone talks about it, nobody really knows how to do it, everyone thinks everyone else is doing it, so everyone claims they are doing it...\" (Dan Ariely)\n",
      "\n"
     ]
    }
   ],
   "source": [
    "%%bash\n",
    "cd 03-analysis/\n",
    "echo \"Protein\" | gmx gyrate -f penetratin.xtc -s topol.tpr -o rog.xvg"
   ]
  },
  {
   "cell_type": "markdown",
   "metadata": {
    "slideshow": {
     "slide_type": "subslide"
    }
   },
   "source": [
    "Let's make thing more difficult. Plot both the time distribution of the radius of gyration and an histogram distribution"
   ]
  },
  {
   "cell_type": "code",
   "execution_count": 17,
   "metadata": {
    "slideshow": {
     "slide_type": "fragment"
    }
   },
   "outputs": [
    {
     "data": {
      "image/png": "[encoded data removed]",
      "text/plain": [
       "<Figure size 600x300 with 2 Axes>"
      ]
     },
     "metadata": {},
     "output_type": "display_data"
    }
   ],
   "source": [
    "time, rog,_,_,_ = np.loadtxt('03-analysis/rog.xvg',comments=['@','#'],unpack=True)\n",
    "time /= 1000 # gmx gyrate gives the time in ps \n",
    "fig = plt.figure(figsize=(6,3))\n",
    "# in time\n",
    "ax1 = fig.add_subplot(121,)\n",
    "ax1.plot(time,rog,c='k')\n",
    "ax1.set_xlim(time[0],time[-1])\n",
    "M = np.max(rog)*1.05\n",
    "m = np.min(rog)*0.95\n",
    "ax1.set_ylim(m,M)\n",
    "ax1.set_xlabel(r\"Time [ns]\")\n",
    "ax1.set_ylabel(r\"$R_g$ [nm]\")\n",
    "\n",
    "# histogram\n",
    "ax2 = fig.add_subplot(122,)\n",
    "ax2.hist(rog,color='k',density=True,alpha=0.5)\n",
    "ax2.set_ylabel(r\"Probability density\")\n",
    "ax2.set_xlabel(r\"$R_g$ [nm]\")\n",
    "fig.tight_layout()\n",
    "fig.savefig('03-analysis/radius_of_gyration.png',dpi=300,facecolor='white')"
   ]
  },
  {
   "cell_type": "markdown",
   "metadata": {
    "slideshow": {
     "slide_type": "subslide"
    }
   },
   "source": [
    "## Ramachandran plot"
   ]
  },
  {
   "cell_type": "markdown",
   "metadata": {
    "slideshow": {
     "slide_type": "fragment"
    }
   },
   "source": [
    "The allowed combinations of torsional angles ψ and φ for a couple of residues are illustrated in the Ramachandran plot. It serves to represent allowed and disallowed regions of the two torsional angles of each peptide bond in a polypeptide chain.\n",
    "\n",
    "To compute the torsional angles in GROMACS we need:\n",
    "1. a tpr file containing the information about all the atoms in the system\n",
    "2. the coordinates of the system. It can be a single structure or an ensemble (a pdb with multiple frames or an xtc)"
   ]
  },
  {
   "cell_type": "code",
   "execution_count": 18,
   "metadata": {
    "slideshow": {
     "slide_type": "fragment"
    }
   },
   "outputs": [
    {
     "name": "stdout",
     "output_type": "stream",
     "text": [
      "                  :-) GROMACS - gmx rama, 2024.4-Homebrew (-:\n",
      "\n",
      "Executable:   /opt/homebrew/bin/../Cellar/gromacs/2024.4/bin/gmx\n",
      "Data prefix:  /opt/homebrew/bin/../Cellar/gromacs/2024.4\n",
      "Working dir:  /Users/lorenzo/Documents/GitHub/BiomeccanicaMultiscala/LAB/06-Gromacs\n",
      "Command line:\n",
      "  gmx rama -f 03-analysis/penetratin.xtc -s 03-analysis/topol.tpr -o 03-analysis/rama.xvg\n",
      "\n",
      "Reading file 03-analysis/topol.tpr, VERSION 2024.4-Homebrew (single precision)\n",
      "Found 14 phi-psi combinations\n",
      "Last frame       1000 time 10000.000   \n",
      "\n",
      "\n",
      "GROMACS reminds you: \"printf(\"%d is the year of the linux desktop\", year+1);\" (Anonymous)\n",
      "\n"
     ]
    }
   ],
   "source": [
    "!gmx rama -f 03-analysis/penetratin.xtc -s 03-analysis/topol.tpr -o 03-analysis/rama.xvg"
   ]
  },
  {
   "cell_type": "markdown",
   "metadata": {
    "slideshow": {
     "slide_type": "subslide"
    }
   },
   "source": [
    "Now, the formatting of the output file is:\n",
    "\n",
    "$\\phi$ $\\psi$ res1(time 1)\n",
    "\n",
    "$\\phi$ $\\psi$ res2(time 1)\n",
    "\n",
    "$\\phi$ $\\psi$ res3(time 1)\n",
    "\n",
    "$\\phi$ $\\psi$ res4(time 1)\n",
    "\n",
    "$\\phi$ $\\psi$ res1(time 2)\n",
    "\n",
    "$\\phi$ $\\psi$ res2(time 2)\n",
    "\n",
    "...\n",
    "\n",
    "$\\phi$ $\\psi$ res4(time N-1)\n",
    "\n",
    "$\\phi$ $\\psi$ res1(time N)\n",
    "\n",
    "$\\phi$ $\\psi$ res2(time N)\n",
    "\n",
    "$\\phi$ $\\psi$ res3(time N)\n",
    "\n",
    "$\\phi$ $\\psi$ res4(time N)\n",
    "\n",
    "**No need to worry:**\n",
    "Here we have an example of analysis, so you can extract pieces of cose to use in your analysis. Use them wisely!"
   ]
  },
  {
   "cell_type": "code",
   "execution_count": 19,
   "metadata": {
    "slideshow": {
     "slide_type": "subslide"
    }
   },
   "outputs": [
    {
     "name": "stderr",
     "output_type": "stream",
     "text": [
      "/var/folders/t0/zf7cxrc51fvfqdxck_h42z_h0000gn/T/ipykernel_14387/3034716451.py:4: UserWarning: Input line 1 contained no data and will not be counted towards `max_rows=50000`.  This differs from the behaviour in NumPy <=1.22 which counted lines rather than rows.  If desired, the previous behaviour can be achieved by using `itertools.islice`.\n",
      "Please see the 1.23 release notes for an example on how to do this.  If you wish to ignore this warning, use `warnings.filterwarnings`.  This warning is expected to be removed in the future and is given only once per `loadtxt` call.\n",
      "  residues = np.loadtxt('03-analysis/rama.xvg',comments=['@','#'],usecols=(2),dtype=str)\n"
     ]
    }
   ],
   "source": [
    "# Load data\n",
    "# You have to load separately floating point numbers and string\n",
    "phi, psi = np.loadtxt('03-analysis/rama.xvg',comments=['@','#'],usecols=(0,1),unpack=True)\n",
    "residues = np.loadtxt('03-analysis/rama.xvg',comments=['@','#'],usecols=(2),dtype=str)\n",
    "\n",
    "# This line searches all the points in the array where the first residue of the protein is present\n",
    "# Therefore, it contains the information to separate information of different frames\n",
    "delimiters = np.squeeze(np.argwhere(residues == residues[0]))"
   ]
  },
  {
   "cell_type": "code",
   "execution_count": 20,
   "metadata": {
    "slideshow": {
     "slide_type": "fragment"
    }
   },
   "outputs": [],
   "source": [
    "from matplotlib.lines import Line2D # For the legend\n",
    "from MDAnalysis.analysis.data.filenames import Rama_ref\n",
    "import time"
   ]
  },
  {
   "cell_type": "markdown",
   "metadata": {
    "slideshow": {
     "slide_type": "fragment"
    }
   },
   "source": [
    "The data in `Rama_ref` contains information about dihedral $\\phi$ and $\\psi$ angles on a set of 500 PDB structures taken from [Lovell2003](https://doi.org/https://doi.org/10.1002/prot.10286). This is a numpy array that can be used to create *Allowed* and *Generously Allowed* (which means that contain 90% and 99% of the data points) in the Ramachandran plot."
   ]
  },
  {
   "cell_type": "code",
   "execution_count": 21,
   "metadata": {
    "slideshow": {
     "slide_type": "subslide"
    }
   },
   "outputs": [
    {
     "data": {
      "image/png": "[encoded data removed]",
      "text/plain": [
       "<Figure size 500x500 with 1 Axes>"
      ]
     },
     "metadata": {},
     "output_type": "display_data"
    }
   ],
   "source": [
    "from IPython import display\n",
    "frames = [0,800]\n",
    "fig = plt.figure(figsize=(5,5))\n",
    "ax = fig.add_subplot(111,)\n",
    "# Generate points in the plane to plot the Ramachandran regions\n",
    "# THESE X,Y POINTS ARE CREATED IN ORDER TO BE COHERENT WITH DATA IN Rama_ref\n",
    "# DO NOT MODIFY\n",
    "X, Y = np.meshgrid(np.arange(-180, 180, 4), np.arange(-180, 180, 4))\n",
    "Z = np.load(Rama_ref)\n",
    "# THE NUMBERS ON LEVELS ARE DEFINED TO PLOT THE ALLOWED AND GENEROUSLY ALLOWED REGIONS\n",
    "# DO NOT MODIFY\n",
    "c = ax.contourf(X, Y, Z, levels=[1, 17, 15000],colors = ['#A1D4FF', '#35A1FF'])\n",
    "\n",
    "# Set the limits of torsional angles\n",
    "ax.set_xlim(-180,180)\n",
    "ax.set_ylim(-180,180)\n",
    "ax.set_xlabel(r\"$\\phi$ [°]\")\n",
    "ax.set_ylabel(r\"$\\psi$ [°]\")\n",
    "\n",
    "#Personalize it with a legend\n",
    "custom_lines = [Line2D([0], [0], color='#A1D4FF', lw=8),\n",
    "                Line2D([0], [0], color='#35A1FF', lw=8)]\n",
    "ax.legend(custom_lines, ['99%', '90%'],loc='lower center',frameon=False)\n",
    "colors=['tomato','k']\n",
    "plt.ion()\n",
    "for col,frame in zip(colors,frames):\n",
    "    ax.scatter(phi[delimiters[frame]:delimiters[frame+1]],psi[delimiters[frame]:delimiters[frame+1]],\n",
    "              marker='o',s=20,c=col)\n",
    "    display.display(plt.gcf())\n",
    "    display.clear_output(wait=True)\n",
    "    time.sleep(1)\n",
    "plt.show()\n"
   ]
  },
  {
   "cell_type": "markdown",
   "metadata": {
    "slideshow": {
     "slide_type": "fragment"
    }
   },
   "source": [
    "Do you remember what secondary structure is usually present in the region populated by in the above Ramachandran plot?\n",
    "\n",
    "Is this coherent with our peptide?"
   ]
  },
  {
   "cell_type": "markdown",
   "metadata": {
    "slideshow": {
     "slide_type": "subslide"
    }
   },
   "source": [
    "## Distance between the extrema"
   ]
  },
  {
   "cell_type": "markdown",
   "metadata": {
    "slideshow": {
     "slide_type": "fragment"
    }
   },
   "source": [
    "In some molecular systems, the distance between two residues (or group of residues) is an important descriptor of the protein conformation.\n",
    "\n",
    "Let's assume that there is loop of a protein that, with its movement, opens or closes a binding site. We might define the distance of this loop from the binding site and describe the site opening or closure in terms of such distance.\n",
    "\n",
    "This was only a very basic example, but it stresses the fact that, in some cases, important information of the molecular systems can be described with simple metrics. Usually, in real life problems, the heard part is finding these metrics from the observation of the system trajectory (do you remember the lessons about metadynamics and collective variables?)."
   ]
  },
  {
   "cell_type": "markdown",
   "metadata": {
    "slideshow": {
     "slide_type": "fragment"
    }
   },
   "source": [
    "To make an example, let's compute the distance between the two extrema of our peptide. It can be done with GROMACS using the `gmx distance` command. To do so:\n",
    "1. create an index containing the two groups from which you want to compute the distance\n",
    "2. use the gromacs function with the option `-select 'com of group \"[name group 1]\" plus com of group \"[name group 2]\"`\n",
    "\n",
    "**Note** that `com` stands for _center of mass_, which means you are computing the distances between the centres of mass of the two groups."
   ]
  },
  {
   "cell_type": "code",
   "execution_count": 22,
   "metadata": {
    "slideshow": {
     "slide_type": "subslide"
    }
   },
   "outputs": [
    {
     "name": "stderr",
     "output_type": "stream",
     "text": [
      "                :-) GROMACS - gmx make_ndx, 2024.4-Homebrew (-:\n",
      "\n",
      "Executable:   /opt/homebrew/bin/../Cellar/gromacs/2024.4/bin/gmx\n",
      "Data prefix:  /opt/homebrew/bin/../Cellar/gromacs/2024.4\n",
      "Working dir:  /Users/lorenzo/Documents/GitHub/BiomeccanicaMultiscala/LAB/06-Gromacs/03-analysis\n",
      "Command line:\n",
      "  gmx make_ndx -f penetratin.pdb -o index.ndx\n",
      "\n",
      "\n",
      "Reading structure file\n",
      "\n",
      "GROMACS reminds you: \"It's Against the Rules\" (Pulp Fiction)\n",
      "\n"
     ]
    },
    {
     "name": "stdout",
     "output_type": "stream",
     "text": [
      "Going to read 0 old index file(s)\n",
      "Analysing residue names:\n",
      "There are:    16    Protein residues\n",
      "There are:  2085      Water residues\n",
      "There are:    19        Ion residues\n",
      "Analysing Protein...\n",
      "\n",
      "  0 System              :  6608 atoms\n",
      "  1 Protein             :   334 atoms\n",
      "  2 Protein-H           :   159 atoms\n",
      "  3 C-alpha             :    16 atoms\n",
      "  4 Backbone            :    48 atoms\n",
      "  5 MainChain           :    65 atoms\n",
      "  6 MainChain+Cb        :    81 atoms\n",
      "  7 MainChain+H         :    83 atoms\n",
      "  8 SideChain           :   251 atoms\n",
      "  9 SideChain-H         :    94 atoms\n",
      " 10 Prot-Masses         :   334 atoms\n",
      " 11 non-Protein         :  6274 atoms\n",
      " 12 Water               :  6255 atoms\n",
      " 13 SOL                 :  6255 atoms\n",
      " 14 non-Water           :   353 atoms\n",
      " 15 Ion                 :    19 atoms\n",
      " 16 Water_and_ions      :  6274 atoms\n",
      "\n",
      " nr : group      '!': not  'name' nr name   'splitch' nr    Enter: list groups\n",
      " 'a': atom       '&': and  'del' nr         'splitres' nr   'l': list residues\n",
      " 't': atom type  '|': or   'keep' nr        'splitat' nr    'h': help\n",
      " 'r': residue              'res' nr         'chain' char\n",
      " \"name\": group             'case': case sensitive           'q': save and quit\n",
      " 'ri': residue index\n",
      "\n",
      "> \n",
      "\n",
      "> \n",
      "\n",
      "> \n",
      "\n",
      "> \n",
      "\n",
      "> \n"
     ]
    },
    {
     "name": "stderr",
     "output_type": "stream",
     "text": [
      "                :-) GROMACS - gmx distance, 2024.4-Homebrew (-:\n",
      "\n",
      "Executable:   /opt/homebrew/bin/../Cellar/gromacs/2024.4/bin/gmx\n",
      "Data prefix:  /opt/homebrew/bin/../Cellar/gromacs/2024.4\n",
      "Working dir:  /Users/lorenzo/Documents/GitHub/BiomeccanicaMultiscala/LAB/06-Gromacs/03-analysis\n",
      "Command line:\n",
      "  gmx distance -f penetratin.xtc -s topol.tpr -select 'com of group \"E1\" plus com of group \"E2\"' -n index.ndx -oav distance.xvg\n",
      "\n",
      "Reading file topol.tpr, VERSION 2024.4-Homebrew (single precision)\n",
      "Reading file topol.tpr, VERSION 2024.4-Homebrew (single precision)\n",
      "Last frame       1000 time 10000.000   \n",
      "Analyzed 1001 frames, last time 10000.000\n",
      "\n",
      "GROMACS reminds you: \"It's Against the Rules\" (Pulp Fiction)\n",
      "\n"
     ]
    },
    {
     "name": "stdout",
     "output_type": "stream",
     "text": [
      "com of group \"E1\" plus com of group \"E2\":\n",
      "  Number of samples:  1001\n",
      "  Average distance:   2.02520  nm\n",
      "  Standard deviation: 0.24539  nm\n"
     ]
    }
   ],
   "source": [
    "%%bash\n",
    "cd 03-analysis\n",
    "echo \"r 43\n",
    "name 17 E1\n",
    "r 56\n",
    "name 18 E2\n",
    "q\" | gmx make_ndx -f penetratin.pdb -o index.ndx\n",
    "gmx distance -f penetratin.xtc -s topol.tpr -select 'com of group \"E1\" plus com of group \"E2\"' \\\n",
    "-n index.ndx -oav distance.xvg"
   ]
  },
  {
   "cell_type": "code",
   "execution_count": 23,
   "metadata": {
    "slideshow": {
     "slide_type": "subslide"
    }
   },
   "outputs": [
    {
     "data": {
      "image/png": "[encoded data removed]",
      "text/plain": [
       "<Figure size 600x300 with 2 Axes>"
      ]
     },
     "metadata": {},
     "output_type": "display_data"
    }
   ],
   "source": [
    "time, d = np.loadtxt('03-analysis/distance.xvg',comments=['@','#'],unpack=True)\n",
    "time = time/1000 # gmx distance gives output only in ps\n",
    "fig = plt.figure(figsize=(6,3))\n",
    "# in time\n",
    "ax1 = fig.add_subplot(121,)\n",
    "ax1.plot(time,d,c='k')\n",
    "ax1.set_xlim(time[0],time[-1])\n",
    "M = np.max(d)*1.05\n",
    "m = np.min(d)*0.95\n",
    "ax1.set_ylim(m,M)\n",
    "ax1.set_xlabel(r\"Time [ns]\")\n",
    "ax1.set_ylabel(r\"$d_{ee}$ [nm]\")\n",
    "\n",
    "# histogram\n",
    "ax2 = fig.add_subplot(122,)\n",
    "ax2.hist(d,color='k',density=True,alpha=0.5)\n",
    "ax2.set_ylabel(r\"Probability density\")\n",
    "ax2.set_xlabel(r\"$d_{ee}$ [nm]\")\n",
    "fig.tight_layout()\n",
    "fig.savefig('03-analysis/distance.png',dpi=300,facecolor='white')"
   ]
  },
  {
   "cell_type": "markdown",
   "metadata": {
    "slideshow": {
     "slide_type": "subslide"
    }
   },
   "source": [
    "## Hydrogen Bonds"
   ]
  },
  {
   "cell_type": "markdown",
   "metadata": {
    "slideshow": {
     "slide_type": "fragment"
    }
   },
   "source": [
    "Hydrogen bond is a type of dipole-dipole attraction between molecules. It results from the attractive force between a hydrogen atom convalently bonded to a very elecctronegative atom such as N, O or F atom and another very elecctronegative atom.\n",
    "\n",
    "The Hydrogen Bond analysis aims at identify the number and/or the duration of hydrogen bonds in a system of interest. \n",
    "\n",
    "Hydrogen bonds are determined by `GROMACS` function **`gmx hbond`** based on two geometric features:\n",
    "* the angle Hydrogen - Donor - Acceptor\n",
    "* the distance Donor - Acceptor (or Hydrogen - Acceptor)."
   ]
  },
  {
   "cell_type": "code",
   "execution_count": 24,
   "metadata": {
    "slideshow": {
     "slide_type": "fragment"
    }
   },
   "outputs": [
    {
     "name": "stdout",
     "output_type": "stream",
     "text": [
      "                  :-) GROMACS - gmx hbond, 2024.4-Homebrew (-:\n",
      "\n",
      "Executable:   /opt/homebrew/bin/../Cellar/gromacs/2024.4/bin/gmx\n",
      "Data prefix:  /opt/homebrew/bin/../Cellar/gromacs/2024.4\n",
      "Working dir:  /Users/lorenzo/Documents/GitHub/BiomeccanicaMultiscala/LAB/06-Gromacs\n",
      "Command line:\n",
      "  gmx hbond -h\n",
      "\n",
      "SYNOPSIS\n",
      "\n",
      "gmx hbond [-f [<.xtc/.trr/...>]] [-s [<.tpr/.gro/...>]] [-n [<.ndx>]]\n",
      "          [-o [<.ndx>]] [-num [<.xvg>]] [-dist [<.xvg>]] [-ang [<.xvg>]]\n",
      "          [-dan [<.xvg>]] [-b <time>] [-e <time>] [-dt <time>] [-tu <enum>]\n",
      "          [-fgroup <selection>] [-xvg <enum>] [-[no]rmpbc] [-[no]pbc]\n",
      "          [-sf <file>] [-selrpos <enum>] [-seltype <enum>] [-r <selection>]\n",
      "          [-t <selection>] [-[no]m] [-[no]pf] [-[no]an] [-cutoff <real>]\n",
      "\n",
      "DESCRIPTION\n",
      "\n",
      "gmx hbond allows using geometric definition of hydrogen bonds to define them\n",
      "throughout the structure.\n",
      "\n",
      "-r specifies reference selection, relative to which the search for hydrogen\n",
      "bonds in target selection will develop. Note that all atoms in reference and\n",
      "target selections should be either absolutely identical or non-overlapping at\n",
      "all.\n",
      "\n",
      "-t specifies target selection, relative to which the search for hydrogen bonds\n",
      "in reference selection will develop. Note that all atoms in reference and\n",
      "target selections should be either absolutely identical or non-overlapping at\n",
      "all.\n",
      "\n",
      "-m forces to merge together information in output index file about hydrogen\n",
      "bonds if they differ only in hydrogen indices. This also means that\n",
      "information about hydrogen atoms in the hydrogen bonds would not be written in\n",
      "output index file at all.\n",
      "\n",
      "-pf forces to write hydrogen bonds for each frame separately instead of\n",
      "writing hydrogen bonds for the whole system. Each information about hydrogen\n",
      "bonds in new frame will be stored in its own section of the output index file.\n",
      "\n",
      "-an forces to accept nitrogen atoms as acceptors of hydrogen bond. If this\n",
      "option is set to 'false' state, only oxygen atoms will be considered as\n",
      "acceptors.\n",
      "\n",
      "-cutoff is a real value that defines distance from donor to acceptor (and vise\n",
      "versa) that used in neighbor search. Minimum (and also recommended) value is\n",
      "0.35.\n",
      "\n",
      "-num allows you to get a plot of the number of hydrogen bonds as a function of\n",
      "time at the output.\n",
      "\n",
      "-dist allows you to get a plot of the distance distribution of all hydrogen\n",
      "bonds at the output.\n",
      "\n",
      "-ang allows you to get a plot of the angular distribution of all hydrogen\n",
      "bonds at the output.\n",
      "\n",
      "-dan allows you to get a plot of the number of analyzed donors and acceptors\n",
      "for each frame at the output.\n",
      "\n",
      "Note that this is a new implementation of the hbond utility added in GROMACS\n",
      "2024. If you need the old one, use gmx hbond-legacy.\n",
      "\n",
      "OPTIONS\n",
      "\n",
      "Options to specify input files:\n",
      "\n",
      " -f      [<.xtc/.trr/...>]  (traj.xtc)       (Opt.)\n",
      "           Input trajectory or single configuration: xtc trr cpt gro g96 pdb\n",
      "           tng\n",
      " -s      [<.tpr/.gro/...>]  (topol.tpr)      (Opt.)\n",
      "           Input structure: tpr gro g96 pdb brk ent\n",
      " -n      [<.ndx>]           (index.ndx)      (Opt.)\n",
      "           Extra index groups\n",
      "\n",
      "Options to specify output files:\n",
      "\n",
      " -o      [<.ndx>]           (hbond.ndx)\n",
      "           Index file that contains selected groups', acceptors', donors' and\n",
      "           hydrogens' indices and hydrogen bond pairs between or within\n",
      "           selected groups.\n",
      " -num    [<.xvg>]           (hbnum.xvg)      (Opt.)\n",
      "           Number of hydrogen bonds as a function of time.\n",
      " -dist   [<.xvg>]           (hbdist.xvg)     (Opt.)\n",
      "           Distance distribution of all hydrogen bonds.\n",
      " -ang    [<.xvg>]           (hbang.xvg)      (Opt.)\n",
      "           Angle distribution of all hydrogen bonds.\n",
      " -dan    [<.xvg>]           (hbdan.xvg)      (Opt.)\n",
      "           Number of donors and acceptors analyzed for each frame.\n",
      "\n",
      "Other options:\n",
      "\n",
      " -b      <time>             (0)\n",
      "           First frame (ps) to read from trajectory\n",
      " -e      <time>             (0)\n",
      "           Last frame (ps) to read from trajectory\n",
      " -dt     <time>             (0)\n",
      "           Only use frame if t MOD dt == first time (ps)\n",
      " -tu     <enum>             (ps)\n",
      "           Unit for time values: fs, ps, ns, us, ms, s\n",
      " -fgroup <selection>\n",
      "           Atoms stored in the trajectory file (if not set, assume first N\n",
      "           atoms)\n",
      " -xvg    <enum>             (xmgrace)\n",
      "           Plot formatting: xmgrace, xmgr, none\n",
      " -[no]rmpbc                 (yes)\n",
      "           Make molecules whole for each frame\n",
      " -[no]pbc                   (yes)\n",
      "           Use periodic boundary conditions for distance calculation\n",
      " -sf     <file>\n",
      "           Provide selections from files\n",
      " -selrpos <enum>            (atom)\n",
      "           Selection reference positions: atom, res_com, res_cog, mol_com,\n",
      "           mol_cog, whole_res_com, whole_res_cog, whole_mol_com,\n",
      "           whole_mol_cog, part_res_com, part_res_cog, part_mol_com,\n",
      "           part_mol_cog, dyn_res_com, dyn_res_cog, dyn_mol_com, dyn_mol_cog\n",
      " -seltype <enum>            (atom)\n",
      "           Default selection output positions: atom, res_com, res_cog,\n",
      "           mol_com, mol_cog, whole_res_com, whole_res_cog, whole_mol_com,\n",
      "           whole_mol_cog, part_res_com, part_res_cog, part_mol_com,\n",
      "           part_mol_cog, dyn_res_com, dyn_res_cog, dyn_mol_com, dyn_mol_cog\n",
      " -r      <selection>\n",
      "           Reference selection, relative to which the search for hydrogen\n",
      "           bonds in target selection will develop.\n",
      " -t      <selection>\n",
      "           Target selection, relative to which the search for hydrogen bonds\n",
      "           in reference selection will develop.\n",
      " -[no]m                     (no)\n",
      "           Merge together information about hydrogen bonds if they differ only\n",
      "           in hydrogen indices.\n",
      " -[no]pf                    (no)\n",
      "           Write hydrogen bonds for each frame separately instead of writing\n",
      "           hydrogen bonds for the whole system.\n",
      " -[no]an                    (yes)\n",
      "           Accept nitrogen atoms as acceptors of hydrogen bond.\n",
      " -cutoff <real>             (0.35)\n",
      "           Distance from donor to acceptor (and vise versa) that used in\n",
      "           neighbor search. Must be >= 0.35.\n",
      "\n",
      "GROMACS reminds you: \"What's Your Definition Of Dirty ?\" (G. Michael)\n",
      "\n"
     ]
    }
   ],
   "source": [
    "!gmx hbond -h"
   ]
  },
  {
   "cell_type": "markdown",
   "metadata": {
    "slideshow": {
     "slide_type": "subslide"
    }
   },
   "source": [
    "Usully one can be interested in exploring the number of hydrogen bonds between the Protein and the solvent (Water) and the Protein with it-self "
   ]
  },
  {
   "cell_type": "code",
   "execution_count": 25,
   "metadata": {
    "slideshow": {
     "slide_type": "fragment"
    }
   },
   "outputs": [
    {
     "name": "stderr",
     "output_type": "stream",
     "text": [
      "                  :-) GROMACS - gmx hbond, 2024.4-Homebrew (-:\n",
      "\n",
      "Executable:   /opt/homebrew/bin/../Cellar/gromacs/2024.4/bin/gmx\n",
      "Data prefix:  /opt/homebrew/bin/../Cellar/gromacs/2024.4\n",
      "Working dir:  /Users/lorenzo/Documents/GitHub/BiomeccanicaMultiscala/LAB/06-Gromacs/03-analysis\n",
      "Command line:\n",
      "  gmx hbond -f penetratin.xtc -s topol.tpr -num hb_water_protein.xvg\n",
      "\n",
      "Reading file topol.tpr, VERSION 2024.4-Homebrew (single precision)\n",
      "Reading file topol.tpr, VERSION 2024.4-Homebrew (single precision)\n",
      "Last frame       1000 time 10000.000   \n",
      "Analyzed 1001 frames, last time 10000.000\n",
      "\n",
      "GROMACS reminds you: \"Pretend That You're Hercule Poirot\" (TeX)\n",
      "\n"
     ]
    },
    {
     "name": "stdout",
     "output_type": "stream",
     "text": [
      "Checking for overlap in atoms between Protein (334 atoms) and Water (6255 atoms)\n"
     ]
    },
    {
     "name": "stderr",
     "output_type": "stream",
     "text": [
      "                  :-) GROMACS - gmx hbond, 2024.4-Homebrew (-:\n",
      "\n",
      "Executable:   /opt/homebrew/bin/../Cellar/gromacs/2024.4/bin/gmx\n",
      "Data prefix:  /opt/homebrew/bin/../Cellar/gromacs/2024.4\n",
      "Working dir:  /Users/lorenzo/Documents/GitHub/BiomeccanicaMultiscala/LAB/06-Gromacs/03-analysis\n",
      "Command line:\n",
      "  gmx hbond -f penetratin.xtc -s topol.tpr -num hb_protein_protein.xvg\n",
      "\n",
      "Reading file topol.tpr, VERSION 2024.4-Homebrew (single precision)\n",
      "Reading file topol.tpr, VERSION 2024.4-Homebrew (single precision)\n",
      "Last frame       1000 time 10000.000   \n",
      "Analyzed 1001 frames, last time 10000.000\n",
      "\n",
      "Back Off! I just backed up hbond.ndx to ./#hbond.ndx.1#\n",
      "\n",
      "GROMACS reminds you: \"We're having an information explosion, among others, and it's certainly obvious that information is of no use unless it's available.\" (Sister Mary Kenneth Keller)\n",
      "\n"
     ]
    },
    {
     "name": "stdout",
     "output_type": "stream",
     "text": [
      "Checking for overlap in atoms between Protein (334 atoms) and Protein (334 atoms)\n"
     ]
    }
   ],
   "source": [
    "%%bash\n",
    "cd 03-analysis\n",
    "echo -e \"Protein \\n Water \\n \" | gmx hbond -f penetratin.xtc -s topol.tpr -num hb_water_protein.xvg \n",
    "echo -e \"Protein \\n Protein \\n \" | gmx hbond -f penetratin.xtc -s topol.tpr -num hb_protein_protein.xvg "
   ]
  },
  {
   "cell_type": "code",
   "execution_count": 26,
   "metadata": {
    "slideshow": {
     "slide_type": "subslide"
    }
   },
   "outputs": [
    {
     "data": {
      "image/png": "[encoded data removed]",
      "text/plain": [
       "<Figure size 1100x400 with 3 Axes>"
      ]
     },
     "metadata": {},
     "output_type": "display_data"
    }
   ],
   "source": [
    "time, hb_protein_water = np.loadtxt('03-analysis/hb_water_protein.xvg',comments=['@','#'],unpack=True)\n",
    "_, hb_protein_protein = np.loadtxt('03-analysis/hb_protein_protein.xvg',comments=['@','#'],unpack=True)\n",
    "time /= 1000\n",
    "\n",
    "fig = plt.figure(figsize=(11,4))\n",
    "ax1 = fig.add_subplot(131,)\n",
    "ax2 = fig.add_subplot(132,sharex = ax1)\n",
    "ax3 = fig.add_subplot(133,)\n",
    "ax1.plot(time,hb_protein_water,c='b')\n",
    "ax2.plot(time,hb_protein_protein,c='r')\n",
    "ax3.hist(hb_protein_water,color='b',density=True)\n",
    "ax3.hist(hb_protein_protein,color='r',density=True)\n",
    "ax1.set_xlim(time[0],time[-1])\n",
    "ax1.set_xlabel(r\"Time [ns]\")\n",
    "ax2.set_xlabel(r\"Time [ns]\")\n",
    "ax3.set_xlabel(r\"# HB\")\n",
    "ax1.set_ylabel(r\"# HB\")\n",
    "ax2.set_ylabel(r\"# HB\")\n",
    "ax3.set_ylabel(\"Probability density\")\n",
    "ax1.set_title('Water-Protein')\n",
    "ax2.set_title('Protein-Protein')\n",
    "m = np.min(np.concatenate((hb_protein_water,hb_protein_protein)))*0.95\n",
    "M = np.max(np.concatenate((hb_protein_water,hb_protein_protein)))*1.05\n",
    "ax3.set_xlim(m,M)\n",
    "fig.tight_layout()\n",
    "fig.savefig('03-analysis/hydrogen_bond.png',dpi=300,facecolor='white')"
   ]
  },
  {
   "cell_type": "markdown",
   "metadata": {
    "slideshow": {
     "slide_type": "subslide"
    }
   },
   "source": [
    "## Secondary structures Assesment"
   ]
  },
  {
   "cell_type": "markdown",
   "metadata": {
    "slideshow": {
     "slide_type": "fragment"
    }
   },
   "source": [
    "Protein secondary structure is the three dimensional form of local segments of proteins and refers to the pattern of hydrogen bonds between the carboxyloxygen atoms and amino hydrogen in the peptide backbone.\n",
    "\n",
    "<img src=\"imgs/SS.png\" width=\"400\" align=\"center\">\n",
    "\n",
    "\n",
    "Different methodologies and program has been developed to assess the secondary structure from the 3D protein coordinates. \n",
    "\n",
    "**`Gromacs`** employ the software **`DSSP`** integrated in the function **`gmx do_dssp`**."
   ]
  },
  {
   "cell_type": "markdown",
   "metadata": {
    "slideshow": {
     "slide_type": "subslide"
    }
   },
   "source": [
    "The **`DSSP`** program works by calculating the most likely secondary structure assignment given the 3D structure of a protein. \n",
    "\n",
    "It does this by reading the position of the atoms in a protein followed by calculation of the H-bond energy between all atoms. \n",
    "\n",
    "The algorithm will discard any hydrogens present in the input structure and calculates the optimal hydrogen positions by placing them at 1.000 Å from the backbone N in the opposite direction from the backbone C=O bond. \n",
    "\n",
    "The best two H-bonds for each atom are then used to determine the most likely class of secondary structure for each residue in the protein.\n",
    "\n",
    "**`gmx do_dssp`** requires two necessary input:\n",
    "1. **-f** the coordinates of the system. It can be a single structure or an ensemble (.xtc, .trr, .pdb)\n",
    "1. **-s** the `.tpr` file containing the information about all the atoms in the system"
   ]
  },
  {
   "cell_type": "code",
   "execution_count": 27,
   "metadata": {
    "slideshow": {
     "slide_type": "fragment"
    }
   },
   "outputs": [
    {
     "name": "stdout",
     "output_type": "stream",
     "text": [
      "                  :-) GROMACS - gmx dssp, 2024.4-Homebrew (-:\n",
      "\n",
      "Executable:   /opt/homebrew/bin/../Cellar/gromacs/2024.4/bin/gmx\n",
      "Data prefix:  /opt/homebrew/bin/../Cellar/gromacs/2024.4\n",
      "Working dir:  /Users/lorenzo/Documents/GitHub/BiomeccanicaMultiscala/LAB/06-Gromacs\n",
      "Command line:\n",
      "  gmx dssp -h\n",
      "\n",
      "SYNOPSIS\n",
      "\n",
      "gmx dssp [-f [<.xtc/.trr/...>]] [-s [<.tpr/.gro/...>]] [-n [<.ndx>]]\n",
      "         [-o [<.dat>]] [-num [<.xvg>]] [-b <time>] [-e <time>] [-dt <time>]\n",
      "         [-tu <enum>] [-fgroup <selection>] [-xvg <enum>] [-[no]rmpbc]\n",
      "         [-[no]pbc] [-sf <file>] [-selrpos <enum>] [-seltype <enum>]\n",
      "         [-sel <selection>] [-hmode <enum>] [-hbond <enum>] [-[no]nb]\n",
      "         [-cutoff <real>] [-[no]clear] [-[no]pihelix] [-ppstretch <enum>]\n",
      "\n",
      "DESCRIPTION\n",
      "\n",
      "gmx dssp allows using the DSSP algorithm (namely, by detecting specific\n",
      "patterns of hydrogen bonds between amino acid residues) to determine the\n",
      "secondary structure of a protein.\n",
      "\n",
      "One-symbol secondary structure designations that are used in the output file:\n",
      "\n",
      "H — alpha-helix;\n",
      "\n",
      "B — residue in isolated beta-bridge;\n",
      "\n",
      "E — extended strand that participates in beta-ladder;\n",
      "\n",
      "G — 3_10-helix;\n",
      "\n",
      "I — pi-helix;\n",
      "\n",
      "P — kappa-helix (poly-proline II helix);\n",
      "\n",
      "S — bend;\n",
      "\n",
      "T — hydrogen-bonded turn;\n",
      "\n",
      "= — break;\n",
      "\n",
      "~ — loop (no special secondary structure designation).\n",
      "\n",
      "-num allows you to get a plot of the number of secondary structures of each\n",
      "type as a function of time at the output.\n",
      "\n",
      "-hmode selects between using hydrogen atoms directly from the structure\n",
      "(\"gromacs\" option) and using hydrogen pseudo-atoms based on C and O atom\n",
      "coordinates of previous residue (\"dssp\" option). You should always use the\n",
      "\"dssp\" option for structures with absent hydrogen atoms!\n",
      "\n",
      "-hbond selects between different definitions of hydrogen bond. \"energy\" means\n",
      "the calculation of a hydrogen bond using the electrostatic interaction energy\n",
      "and \"geometry\" means the calculation of the hydrogen bond using geometric\n",
      "criterion for the existence of a hydrogen bond.\n",
      "\n",
      "-nb allows using GROMACS neighbor-search method to find residue pairs that may\n",
      "have a hydrogen bond instead of simply iterating over the residues among\n",
      "themselves.\n",
      "\n",
      "-cutoff is a real value that defines maximum distance from residue to its\n",
      "neighbor residue used in -nb. Minimum (and also recommended) value is 0.9.\n",
      "\n",
      "-clear allows you to ignore the analysis of the secondary structure residues\n",
      "that are missing one or more critical atoms (CA, C, N, O or H). Always use\n",
      "this option together with -hmode dssp for structures that lack hydrogen atoms!\n",
      "\n",
      "-pihelix changes pattern-search algorithm towards preference of pi-helices.\n",
      "\n",
      "-ppstretch defines stretch value of polyproline-helices. \"shortened\" means\n",
      "stretch with size 2 and \"default\" means stretch with size 3.\n",
      "\n",
      "Note that gmx dssp currently is not capable of reproducing the secondary\n",
      "structure of proteins whose structure is determined by methods other than\n",
      "X-ray crystallography (structures in .pdb format with incorrect values in the\n",
      "CRYST1 line) due to the incorrect cell size in such structures.\n",
      "\n",
      "Please note that the computation is always done in single precision,\n",
      "regardless of the precision for which GROMACS was configured.\n",
      "\n",
      "OPTIONS\n",
      "\n",
      "Options to specify input files:\n",
      "\n",
      " -f      [<.xtc/.trr/...>]  (traj.xtc)       (Opt.)\n",
      "           Input trajectory or single configuration: xtc trr cpt gro g96 pdb\n",
      "           tng\n",
      " -s      [<.tpr/.gro/...>]  (topol.tpr)      (Opt.)\n",
      "           Input structure: tpr gro g96 pdb brk ent\n",
      " -n      [<.ndx>]           (index.ndx)      (Opt.)\n",
      "           Extra index groups\n",
      "\n",
      "Options to specify output files:\n",
      "\n",
      " -o      [<.dat>]           (dssp.dat)\n",
      "           Filename for DSSP output\n",
      " -num    [<.xvg>]           (num.xvg)        (Opt.)\n",
      "           Output file name for secondary structures statistics for the\n",
      "           trajectory\n",
      "\n",
      "Other options:\n",
      "\n",
      " -b      <time>             (0)\n",
      "           First frame (ps) to read from trajectory\n",
      " -e      <time>             (0)\n",
      "           Last frame (ps) to read from trajectory\n",
      " -dt     <time>             (0)\n",
      "           Only use frame if t MOD dt == first time (ps)\n",
      " -tu     <enum>             (ps)\n",
      "           Unit for time values: fs, ps, ns, us, ms, s\n",
      " -fgroup <selection>\n",
      "           Atoms stored in the trajectory file (if not set, assume first N\n",
      "           atoms)\n",
      " -xvg    <enum>             (xmgrace)\n",
      "           Plot formatting: xmgrace, xmgr, none\n",
      " -[no]rmpbc                 (yes)\n",
      "           Make molecules whole for each frame\n",
      " -[no]pbc                   (yes)\n",
      "           Use periodic boundary conditions for distance calculation\n",
      " -sf     <file>\n",
      "           Provide selections from files\n",
      " -selrpos <enum>            (atom)\n",
      "           Selection reference positions: atom, res_com, res_cog, mol_com,\n",
      "           mol_cog, whole_res_com, whole_res_cog, whole_mol_com,\n",
      "           whole_mol_cog, part_res_com, part_res_cog, part_mol_com,\n",
      "           part_mol_cog, dyn_res_com, dyn_res_cog, dyn_mol_com, dyn_mol_cog\n",
      " -seltype <enum>            (atom)\n",
      "           Default selection output positions: atom, res_com, res_cog,\n",
      "           mol_com, mol_cog, whole_res_com, whole_res_cog, whole_mol_com,\n",
      "           whole_mol_cog, part_res_com, part_res_cog, part_mol_com,\n",
      "           part_mol_cog, dyn_res_com, dyn_res_cog, dyn_mol_com, dyn_mol_cog\n",
      " -sel    <selection>\n",
      "           Group for DSSP\n",
      " -hmode  <enum>             (gromacs)\n",
      "           Hydrogens pseudoatoms creating mode: gromacs, dssp\n",
      " -hbond  <enum>             (energy)\n",
      "           Selects between different definitions of hydrogen bond: energy,\n",
      "           geometry\n",
      " -[no]nb                    (yes)\n",
      "           Use GROMACS neighbor-search method\n",
      " -cutoff <real>             (0.9)\n",
      "           Distance from residue to its neighbor residue in neighbor search.\n",
      "           Must be >= 0.9\n",
      " -[no]clear                 (no)\n",
      "           Clear defective residues from the structure\n",
      " -[no]pihelix               (no)\n",
      "           Prefer Pi Helices\n",
      " -ppstretch <enum>          (default)\n",
      "           Stretch value for PP-helices: shortened, default\n",
      "\n",
      "GROMACS reminds you: \"If You Don't Like Cool Quotes Check Your GMXRC File\" (Your Sysadmin)\n",
      "\n"
     ]
    }
   ],
   "source": [
    "!gmx dssp -h"
   ]
  },
  {
   "cell_type": "code",
   "execution_count": 28,
   "metadata": {
    "slideshow": {
     "slide_type": "subslide"
    }
   },
   "outputs": [
    {
     "name": "stderr",
     "output_type": "stream",
     "text": [
      "                  :-) GROMACS - gmx dssp, 2024.4-Homebrew (-:\n",
      "\n",
      "Executable:   /opt/homebrew/bin/../Cellar/gromacs/2024.4/bin/gmx\n",
      "Data prefix:  /opt/homebrew/bin/../Cellar/gromacs/2024.4\n",
      "Working dir:  /Users/lorenzo/Documents/GitHub/BiomeccanicaMultiscala/LAB/06-Gromacs/03-analysis\n",
      "Command line:\n",
      "  gmx dssp -s penetratin.pdb -f penetratin.xtc -tu ns -dt 0.1\n",
      "\n",
      "Last frame       1000 time   10.000   \n",
      "Analyzed 101 frames, last time 10000.000\n",
      "\n",
      "GROMACS reminds you: \"I managed to get two hours of work done before work\" (E. Lindahl)\n",
      "\n"
     ]
    },
    {
     "name": "stdout",
     "output_type": "stream",
     "text": [
      "\n",
      "WARNING: Masses and atomic (Van der Waals) radii will be guessed\n",
      "         based on residue and atom names, since they could not be\n",
      "         definitively assigned from the information in your input\n",
      "         files. These guessed numbers might deviate from the mass\n",
      "         and radius of the atom type. Please check the output\n",
      "         files if necessary. Note, that this functionality may\n",
      "         be removed in a future GROMACS version. Please, consider\n",
      "         using another file format for your input.\n",
      "\n",
      "\n",
      "++++ PLEASE READ AND CITE THE FOLLOWING REFERENCE ++++\n",
      "W. Kabsch, C. Sander\n",
      "Dictionary of protein secondary structure: pattern recognition of\n",
      "hydrogen-bonded and geometrical features.\n",
      "Biopolymers 22 (1983) pp. 2577-2637\n",
      "-------- -------- --- Thank You --- -------- --------\n",
      "\n",
      "\n",
      "++++ PLEASE READ AND CITE THE FOLLOWING REFERENCE ++++\n",
      "S. Gorelov, A. Titov, O. Tolicheva, A. Konevega, A. Shvetsov\n",
      "DSSP in GROMACS: Tool for Defining Secondary Structures of Proteins in\n",
      "Trajectories\n",
      "Journal of Chemical Information and Modeling 0 (2024) pp. 0\n",
      "-------- -------- --- Thank You --- -------- --------\n",
      "\n"
     ]
    }
   ],
   "source": [
    "%%bash\n",
    "cd 03-analysis/\n",
    "echo \"Protein\" | gmx dssp -s penetratin.pdb -f penetratin.xtc -tu ns -dt 0.1"
   ]
  },
  {
   "cell_type": "markdown",
   "metadata": {},
   "source": [
    "Now, let's plot the secondary structure of the peptide along the simulation!\n",
    "\n",
    "The ```gmx dssp``` command will produce a file called \"dssp.dat\" that contains the secondary structure of the protein along the simulation. \n",
    "\n",
    "***Every line of the file is a frame of the trajectory and contains the secondary structure of each residue of the protein.***\n",
    "\n",
    "gmx dssp allows using the DSSP algorithm (namely, by detecting specific patterns of hydrogen bonds between amino acid residues) to determine the secondary structure of a protein.\n",
    "\n",
    "One-symbol secondary structure designations that are used in the output file:\n",
    "\n",
    "    H — alpha-helix;\n",
    "    B — residue in isolated beta-bridge;\n",
    "    E — extended strand that participates in beta-ladder;\n",
    "    G — 3_10-helix;\n",
    "    I — pi-helix;\n",
    "    P — kappa-helix (poly-proline II helix);\n",
    "    S — bend;\n",
    "    T — hydrogen-bonded turn;\n",
    "    = — break;\n",
    "    ~ — loop (no special secondary structure designation)."
   ]
  },
  {
   "cell_type": "code",
   "execution_count": 99,
   "metadata": {},
   "outputs": [],
   "source": [
    "# now let's plot the secondary structure every frame using a different color for each secondary structure\n",
    "\n",
    "# Load the data\n",
    "data = np.loadtxt('03-analysis/dssp.dat',comments=['@','#'],dtype=str)\n",
    "\n",
    "# assign a number to each secondary structure\n",
    "ss = {'H':0,'B':1,'E':2,'G':3,'I':4,'T':5,'S':6,'P':7,'=':8,'~':9}\n",
    "ss_translation = {0:'Helix',1:'Beta-Sheet',2:'Strand',3:'3-10 helix',4:'Pi helix',5:'Hydrogen Bond Turn',6:'Bend',7:'Kappa-Helix',8:'Break',9:'Loop'}\n",
    "\n",
    "# i want to replace all the H letters with 0, all the B letters with 1, etc.\n",
    "data = [[ss[j] for j in i] for i in data]"
   ]
  },
  {
   "cell_type": "code",
   "execution_count": 100,
   "metadata": {},
   "outputs": [
    {
     "data": {
      "image/png": "[encoded data removed]",
      "text/plain": [
       "<Figure size 1000x500 with 1 Axes>"
      ]
     },
     "metadata": {},
     "output_type": "display_data"
    }
   ],
   "source": [
    "# plot the data as a heatmap\n",
    "plt.figure(figsize=(10,5))\n",
    "\n",
    "# Define a set of discrete colors\n",
    "colors = [\n",
    "    \"#4E79A7\",  # Steel Blue\n",
    "    \"#F28E2B\",  # Mandarin Orange\n",
    "    \"#E15759\",  # Coral Red\n",
    "    \"#76B7B2\",  # Seafoam Green\n",
    "    \"#59A14F\",  # Fresh Green\n",
    "    \"#EDC948\",  # Golden Yellow\n",
    "    \"#AF7AA1\",  # Soft Lavender\n",
    "    \"#FF9DA7\",  # Pink Salmon\n",
    "    \"#9C755F\",  # Mocha Brown\n",
    "    \"#BAB0AC\"   # Warm Gray\n",
    "]\n",
    "\n",
    "# Create a colormap using the colors\n",
    "import matplotlib.colors as mcolors\n",
    "cmap = mcolors.ListedColormap(colors, name='discrete')\n",
    "\n",
    "plt.imshow(np.array(data).T, cmap=cmap, aspect='auto')\n",
    "plt.xlabel(\"Frame\")\n",
    "plt.ylabel(\"Residue\")\n",
    "plt.title(\"Secondary structure\")\n",
    "# create a legend outside the plot using the ss keys as labels\n",
    "plt.legend(handles=[plt.Line2D([0], [0], color=c, lw=4) for c in colors], labels=ss_translation.values(), loc='center left', bbox_to_anchor=(1, 0.5))\n",
    "\n",
    "plt.savefig('03-analysis/secondary_structure.png',dpi=300,facecolor='white')\n",
    "plt.tight_layout()\n"
   ]
  }
 ],
 "metadata": {
  "celltoolbar": "Slideshow",
  "colab": {
   "provenance": []
  },
  "kernelspec": {
   "display_name": "mbm",
   "language": "python",
   "name": "python3"
  },
  "language_info": {
   "codemirror_mode": {
    "name": "ipython",
    "version": 3
   },
   "file_extension": ".py",
   "mimetype": "text/x-python",
   "name": "python",
   "nbconvert_exporter": "python",
   "pygments_lexer": "ipython3",
   "version": "3.13.0"
  },
  "rise": {
   "scroll": true
  },
  "toc": {
   "base_numbering": 1,
   "nav_menu": {
    "height": "446px",
    "width": "376px"
   },
   "number_sections": true,
   "sideBar": true,
   "skip_h1_title": false,
   "title_cell": "Table of Contents",
   "title_sidebar": "Contents",
   "toc_cell": false,
   "toc_position": {
    "height": "calc(100% - 180px)",
    "left": "10px",
    "top": "150px",
    "width": "382px"
   },
   "toc_section_display": true,
   "toc_window_display": true
  }
 },
 "nbformat": 4,
 "nbformat_minor": 1
}
