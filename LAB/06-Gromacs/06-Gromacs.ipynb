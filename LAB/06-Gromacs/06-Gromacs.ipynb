{
 "cells": [
  {
   "cell_type": "markdown",
   "metadata": {
    "slideshow": {
     "slide_type": "slide"
    }
   },
   "source": [
    "<a href=\"https://colab.research.google.com/github/lorenzopallante/BiomeccanicaMultiscala/blob/main/LAB/06-Gromacs/06-Gromacs.ipynb\" target=\"_parent\"><img src=\"https://colab.research.google.com/assets/colab-badge.svg\" alt=\"Open In Colab\"/></a>"
   ]
  },
  {
   "cell_type": "markdown",
   "metadata": {
    "slideshow": {
     "slide_type": "-"
    }
   },
   "source": [
    "# Laboratorio 6\n",
    "**Introduction to GROMACS**\n",
    "\n",
    "\n",
    "Authors:\n",
    "    \n",
    "- Prof. Marco A. Deriu (marco.deriu@polito.it)\n",
    "- Lorenzo Pallante (lorenzo.pallante@polito.it)\n",
    "- Eric A. Zizzi (eric.zizzi@polito.it)\n",
    "- Marcello Miceli (marcello.miceli@polito.it)\n",
    "- Marco Cannariato (marco.cannariato@polito.it)"
   ]
  },
  {
   "cell_type": "markdown",
   "metadata": {
    "slideshow": {
     "slide_type": "slide"
    }
   },
   "source": [
    "# Table of Contents\n",
    "\n",
    "3. Gromacs Setup \n",
    "4. Molecular Dynamics (MD) Flow chart\n",
    "5. GROMACS 1 (make_ndx, editconf, pdb2gmx)\n",
    "\n",
    "**Learning outcomes:** \n",
    "- how to install gromacs and lauch it\n",
    "- General flow chart of a MD simulation\n",
    "- GROMACS: create an index file, generate a simulation box, create gmx starting files"
   ]
  },
  {
   "cell_type": "markdown",
   "metadata": {
    "id": "owpIBUkna5Ow",
    "slideshow": {
     "slide_type": "slide"
    }
   },
   "source": [
    "# Setup"
   ]
  },
  {
   "cell_type": "markdown",
   "metadata": {
    "slideshow": {
     "slide_type": "-"
    }
   },
   "source": [
    "If you don't have GROMACS and NGLView installed on your machine or if you are using Google COLAB, run the following line"
   ]
  },
  {
   "cell_type": "code",
   "execution_count": null,
   "metadata": {
    "cellView": "form",
    "executionInfo": {
     "elapsed": 16217,
     "status": "ok",
     "timestamp": 1662116875669,
     "user": {
      "displayName": "Lorenzo Pallante",
      "userId": "15223561348967771574"
     },
     "user_tz": -120
    },
    "id": "B8_MjDYnhDwh",
    "slideshow": {
     "slide_type": "-"
    }
   },
   "outputs": [],
   "source": [
    "#@title Installing GROMACS\n",
    "!apt install gromacs &> /dev/null"
   ]
  },
  {
   "cell_type": "code",
   "execution_count": null,
   "metadata": {
    "cellView": "form",
    "executionInfo": {
     "elapsed": 16985,
     "status": "ok",
     "timestamp": 1662116892987,
     "user": {
      "displayName": "Lorenzo Pallante",
      "userId": "15223561348967771574"
     },
     "user_tz": -120
    },
    "id": "C2hA7f_MEF5K",
    "slideshow": {
     "slide_type": "-"
    }
   },
   "outputs": [],
   "source": [
    "#@title Installing NGLview\n",
    "!pip install nglview  &> /dev/null\n",
    "from google.colab import output\n",
    "output.enable_custom_widget_manager()"
   ]
  },
  {
   "cell_type": "markdown",
   "metadata": {},
   "source": [
    "Clone files form GitHub if you are using COLAB"
   ]
  },
  {
   "cell_type": "code",
   "execution_count": null,
   "metadata": {},
   "outputs": [],
   "source": [
    "# IF YOU ARE USING COLAB EXECUTE THIS CELL (to copy over data repository)\n",
    "!git clone https://github.com/lorenzopallante/BiomeccanicaMultiscala.git\n",
    "!mv BiomeccanicaMultiscala/LAB/06-Gromacs/* ."
   ]
  },
  {
   "cell_type": "markdown",
   "metadata": {
    "id": "D6nSkKIS8r53",
    "slideshow": {
     "slide_type": "slide"
    }
   },
   "source": [
    "# Introduction"
   ]
  },
  {
   "cell_type": "markdown",
   "metadata": {
    "id": "ssFzV4Bb85v5"
   },
   "source": [
    "**GROMACS is a major free, open-source, and fast code developed for Molecular Dynamics (MD) simulations**. Its continuous updates (1 major release/year), speed, efficiency and flexibility, along with the inbuilt availability of force fields specific for proteins, make it one of the most popular choices for biomolecular simulations.\n",
    "(http://www.gromacs.org/).\n",
    "\n",
    "Complete **GROMACS tutorial** available at: http://www.mdtutorials.com/gmx/\n",
    "\n",
    "To see what gromacs version is installed on your PC:"
   ]
  },
  {
   "cell_type": "code",
   "execution_count": 1,
   "metadata": {
    "colab": {
     "base_uri": "https://localhost:8080/"
    },
    "id": "QiftsBpN7raV",
    "outputId": "fb7e2b89-2cfa-43bb-8613-cb93316db266",
    "scrolled": true
   },
   "outputs": [
    {
     "name": "stdout",
     "output_type": "stream",
     "text": [
      "                     :-) GROMACS - gmx, 2020.6-MODIFIED (-:\n",
      "\n",
      "                            GROMACS is written by:\n",
      "     Emile Apol      Rossen Apostolov      Paul Bauer     Herman J.C. Berendsen\n",
      "    Par Bjelkmar      Christian Blau   Viacheslav Bolnykh     Kevin Boyd    \n",
      " Aldert van Buuren   Rudi van Drunen     Anton Feenstra       Alan Gray     \n",
      "  Gerrit Groenhof     Anca Hamuraru    Vincent Hindriksen  M. Eric Irrgang  \n",
      "  Aleksei Iupinov   Christoph Junghans     Joe Jordan     Dimitrios Karkoulis\n",
      "    Peter Kasson        Jiri Kraus      Carsten Kutzner      Per Larsson    \n",
      "  Justin A. Lemkul    Viveca Lindahl    Magnus Lundborg     Erik Marklund   \n",
      "    Pascal Merz     Pieter Meulenhoff    Teemu Murtola       Szilard Pall   \n",
      "    Sander Pronk      Roland Schulz      Michael Shirts    Alexey Shvetsov  \n",
      "   Alfons Sijbers     Peter Tieleman      Jon Vincent      Teemu Virolainen \n",
      " Christian Wennberg    Maarten Wolf      Artem Zhmurov   \n",
      "                           and the project leaders:\n",
      "        Mark Abraham, Berk Hess, Erik Lindahl, and David van der Spoel\n",
      "\n",
      "Copyright (c) 1991-2000, University of Groningen, The Netherlands.\n",
      "Copyright (c) 2001-2019, The GROMACS development team at\n",
      "Uppsala University, Stockholm University and\n",
      "the Royal Institute of Technology, Sweden.\n",
      "check out http://www.gromacs.org for more information.\n",
      "\n",
      "GROMACS is free software; you can redistribute it and/or modify it\n",
      "under the terms of the GNU Lesser General Public License\n",
      "as published by the Free Software Foundation; either version 2.1\n",
      "of the License, or (at your option) any later version.\n",
      "\n",
      "GROMACS:      gmx, version 2020.6-MODIFIED\n",
      "Executable:   /opt/gromacs/2020.6/bin/gmx\n",
      "Data prefix:  /opt/gromacs/2020.6\n",
      "Working dir:  /home/lorenzo/Documenti/GitHub/BiomeccanicaMultiscala/LAB/06-Gromacs\n",
      "Command line:\n",
      "  gmx -version\n",
      "\n",
      "GROMACS version:    2020.6-MODIFIED\n",
      "This program has been built from source code that has been altered and does not match the code released as part of the official GROMACS version 2020.6-MODIFIED. If you did not intend to use an altered GROMACS version, make sure to download an intact source distribution and compile that before proceeding.\n",
      "If you have modified the source code, you are strongly encouraged to set your custom version suffix (using -DGMX_VERSION_STRING_OF_FORK) which will can help later with scientific reproducibility but also when reporting bugs.\n",
      "Release checksum: 2f568d8884e039acbc6b68722432516e0628be00c847969b7c905c8b53ef826f\n",
      "Computed checksum: 8678ccd3b3c0029b47532bc635979a3c09e4a8ee0d5e359bad0bdac6e9f39cc5\n",
      "Precision:          single\n",
      "Memory model:       64 bit\n",
      "MPI library:        thread_mpi\n",
      "OpenMP support:     enabled (GMX_OPENMP_MAX_THREADS = 64)\n",
      "GPU support:        CUDA\n",
      "SIMD instructions:  AVX2_256\n",
      "FFT library:        fftw-3.3.8-sse2-avx-avx2-avx2_128\n",
      "RDTSCP usage:       enabled\n",
      "TNG support:        enabled\n",
      "Hwloc support:      hwloc-1.11.6\n",
      "Tracing support:    disabled\n",
      "C compiler:         /usr/bin/cc GNU 7.5.0\n",
      "C compiler flags:   -mavx2 -mfma -fexcess-precision=fast -funroll-all-loops -fopenmp -O3 -DNDEBUG\n",
      "C++ compiler:       /usr/bin/c++ GNU 7.5.0\n",
      "C++ compiler flags: -mavx2 -mfma -fexcess-precision=fast -funroll-all-loops -fopenmp -O3 -DNDEBUG\n",
      "CUDA compiler:      /usr/local/cuda/bin/nvcc nvcc: NVIDIA (R) Cuda compiler driver;Copyright (c) 2005-2019 NVIDIA Corporation;Built on Wed_Oct_23_19:24:38_PDT_2019;Cuda compilation tools, release 10.2, V10.2.89\n",
      "CUDA compiler flags:-gencode;arch=compute_30,code=sm_30;-gencode;arch=compute_35,code=sm_35;-gencode;arch=compute_37,code=sm_37;-gencode;arch=compute_50,code=sm_50;-gencode;arch=compute_52,code=sm_52;-gencode;arch=compute_60,code=sm_60;-gencode;arch=compute_61,code=sm_61;-gencode;arch=compute_70,code=sm_70;-gencode;arch=compute_35,code=compute_35;-gencode;arch=compute_50,code=compute_50;-gencode;arch=compute_52,code=compute_52;-gencode;arch=compute_60,code=compute_60;-gencode;arch=compute_61,code=compute_61;-gencode;arch=compute_70,code=compute_70;-gencode;arch=compute_75,code=compute_75;-use_fast_math;-D_FORCE_INLINES;-mavx2 -mfma -fexcess-precision=fast -funroll-all-loops -fopenmp -O3 -DNDEBUG\n",
      "CUDA driver:        11.60\n",
      "CUDA runtime:       10.20\n",
      "\n"
     ]
    }
   ],
   "source": [
    "!gmx -version"
   ]
  },
  {
   "cell_type": "markdown",
   "metadata": {
    "id": "cbSAT3zW9gLE",
    "slideshow": {
     "slide_type": "subslide"
    }
   },
   "source": [
    "All gromacs commands can be used with the syntax:\n",
    "\n",
    "`\n",
    "    gmx <command>\n",
    "`\n",
    "\n",
    "And all the commands have a help message that can be displayed using the option “-h”, e.g.:\n",
    "\n",
    "`\n",
    "    gmx pdb2gmx -h    \n",
    "`\n",
    "\n",
    "For basic and advanced GROMACS tutorial, please visit: http://www.mdtutorials.com/gmx/\n"
   ]
  },
  {
   "cell_type": "markdown",
   "metadata": {
    "id": "dCVxuTS29o5b",
    "slideshow": {
     "slide_type": "subslide"
    }
   },
   "source": [
    "## Files and suggested directory tree\n",
    "You will need the following files to run a simulation:\n",
    ">1. Atom coordinates: *.pdb (or *.gro)\n",
    ">2. Topology file: *.top\n",
    ">3. MD parameters: *.mdp"
   ]
  },
  {
   "cell_type": "markdown",
   "metadata": {
    "slideshow": {
     "slide_type": "subslide"
    }
   },
   "source": [
    "**1. PDB**\n",
    "- coordinates of atoms in the x,y,z space\n",
    "- see also the lesson *03-Intro_LinuxBash* for further info"
   ]
  },
  {
   "cell_type": "markdown",
   "metadata": {},
   "source": [
    "![title](imgs/pdb.png)"
   ]
  },
  {
   "cell_type": "markdown",
   "metadata": {
    "slideshow": {
     "slide_type": "subslide"
    }
   },
   "source": [
    "**2. TOP**\n",
    "- topology of the systems, i.e. bonds, angles, diehedrals, non-bonded interactios and relative parameters \n",
    "- generated by GROMACS once you select the forcefield (or made by yourself when you're a pro!)\n"
   ]
  },
  {
   "cell_type": "markdown",
   "metadata": {},
   "source": [
    "<img src=\"imgs/top2.png\" width=\"1200\" align=\"center\">"
   ]
  },
  {
   "cell_type": "markdown",
   "metadata": {
    "slideshow": {
     "slide_type": "subslide"
    }
   },
   "source": [
    "**3. MDP**\n",
    "- simulation parameters, such as integration time step, simulation duration, cut-off, temperature and pressure couplings, etc.."
   ]
  },
  {
   "cell_type": "markdown",
   "metadata": {},
   "source": [
    "![mdp](imgs/mdp.png)"
   ]
  },
  {
   "cell_type": "markdown",
   "metadata": {
    "slideshow": {
     "slide_type": "subslide"
    }
   },
   "source": [
    "*We suggest you create a new folder for each simulation you run, put all the necessary files into the simulation folder itself, and let GROMACS write into that same folder.* \n",
    "\n",
    "<div class=\"alert alert-block alert-warning\"> \n",
    "\n",
    "Keep in mind that GROMACS is a **command-line program**: \n",
    "    \n",
    "if you don’t specify the full paths to the required input files, but only the file name (example call: $ gmx make_ndx -s struct.tpr -o index.ndx ), GROMACS will expect the input file (struct.tpr) to be in the folder you’re calling it from, and will write the output file (index.ndx) into the same current folder. If struct.tpr is not in the current folder, GROMACS will throw an error and fail! GROMACS error messages are pretty explicit, so chances are READING THE ERROR is enough to troubleshoot most issues (e.g. if a required file is missing).\n",
    "\n",
    "<div/>"
   ]
  },
  {
   "cell_type": "markdown",
   "metadata": {
    "id": "2zYZ3tLK-VuI",
    "slideshow": {
     "slide_type": "subslide"
    }
   },
   "source": [
    "## Molecule: Cell-Penetrating Peptide\n",
    "\n",
    "The discovery of Cell-Penetrating Peptides (CPPs) represents an important breakthrough for the delivery of large cargo molecules or nanoparticles for several clinical applications. A main feature of CPPs is the ability to\n",
    "penetrate the cell membrane at low micromolar concentrations in vivo and in vitro, without binding any chiralreceptors and without causing significant membrane damage. This ability offers significant therapeutic potential,\n",
    "as targeting areas normally difficult to access for drugs.\n",
    "TAT peptide and Drosophila Antennapedia homeodomain-derived penetratin peptide (pAntp) are the most\n",
    "extensively studied CPPs. In particular, the pAntp is a 16-residues long cationic peptide derived from the third\n",
    "helix of the homeodomain of the Drosohila transcription factor Antennapedia. This amphipatic CPP, largely\n",
    "unstructured in solution, is positively charged at neutral pH (since it contains four lysine and three arginine\n",
    "residues). Interestingly, the pAntp is able to cross biological membranes and enter a hydrophobic environment\n",
    "upon interaction with negatively-charged molecules, like phosphatic acid (PA) or phosphatidylserine (PS).\n",
    "However, mechanisms by which pAntp comes into the cells have not been completely understood. Proposed\n",
    "mechanisms of pAntp cellular uptake hypothesize direct crossing of the peptide through the membrane at low\n",
    "peptide concentrations (1μM) and an endocytotic pathway at high concentrations (10μM). Several studies have\n",
    "suggested that pAntp amphiphilicity may not be enough to drive the membrane penetration, indicating instead\n",
    "tryptophan as key player. Replacement of thryptophan by phenylanine resulted in a loss of penetration activity\n",
    "when interacting with membranes and bicelles. Moreover, a recent computational work has characterized the\n",
    "binding mode of pAntp-DPPC bilayers, proposing arginine, lysine and tryptophan as driving the penetration\n",
    "mechanism.\n",
    "This extraordinary ability of CPPs to penetrate cell membranes has brought to designate them as perfect\n",
    "functionalization molecules for drug delivery systems.\n",
    "For example, pAntp might be employed to decorate Magnetic Nanoparticles (MNPs), thus combining their\n",
    "fascinating physico-chemical properties with a cell-penetrating ability to design novel effective therapeutic\n",
    "strategies as well as innovative biotechnology methodologies. Size, biocompatibility and excellent magnetic\n",
    "properties, have made MAG and Silica-coated MAG the object of a remarkable amount of research in the last\n",
    "decade and numerous biomedical applications have been reported. Recently, MNPs combined with magnetic\n",
    "fields were used to enable cell positioning under non-permissive conditions, local gene therapy and/or\n",
    "optimization of MNP- assisted lentiviral gene transfer.\n",
    "Functionalization strategies comprise grafting with organic molecules, including small organic biomolecules such\n",
    "as CPPs, and/or coating with an inorganic layer (e.g., silica).\n",
    "Design and properties prediction of functionalization strategies may be addressed by computational molecular\n",
    "modelling. In this context, Kubiak-Ossowska and coworkers have recently employed computational modelling\n",
    "to investigate the adsorption of TAT peptides onto three silica surface models. This work has suggested that TAT-\n",
    "Silica adsorption mechanism is driven by electrostatic and hydrophobic interactions mainly involving arginine\n",
    "residues and the nanoparticle surface."
   ]
  },
  {
   "cell_type": "markdown",
   "metadata": {
    "id": "-i1ArCAA-vL9",
    "slideshow": {
     "slide_type": "subslide"
    }
   },
   "source": [
    "## Molecular Dynamics (MD) Simulations\n",
    "\n",
    "Briefly, the general workflow of an MD simulation with GROMACS is\n",
    "divided in the following steps (see also “MD_FlowChart.pdf”):\n",
    "\n",
    "1. System Preparation\n",
    "> - Retrieve starting structure (e.g. RCSB)\n",
    "> - GROMACS structure conversion (from pdb to gro*)\n",
    ">- Topology (and position restraints) generation\n",
    ">- System box generation and addition of water and ions\n",
    "\n",
    "2. Energy Minimization\n",
    "3. Simulation\n",
    "> - (Equilibration: Molecular Dynamics Simulation normally with position restraints)\n",
    "> - Production: Molecular Dynamics Simulation\n",
    "\n",
    "4. Analysis of the Simulation"
   ]
  },
  {
   "cell_type": "markdown",
   "metadata": {
    "slideshow": {
     "slide_type": "subslide"
    }
   },
   "source": [
    "*note that both .gro and .pdb files both contain atomic coordinates and\n",
    "only differ for minor aspects:\n",
    "> - .gro coordinates are in nm, whereas *.pdb coordinates in Å\n",
    "> - .gro file can contain also atoms’ velocities\n",
    "\n",
    "GROMACS can work with both types of files and does not strictly need the .gro file format for most operations.\n",
    "It can be however handy to have a .gro file, for example, to quickly extract the box vector."
   ]
  },
  {
   "cell_type": "markdown",
   "metadata": {
    "id": "ly7hqZlqAcQi",
    "slideshow": {
     "slide_type": "subslide"
    }
   },
   "source": [
    "<img src=\"imgs/MD_FlowChart.png\" width=\"500\" align=\"center\">"
   ]
  },
  {
   "cell_type": "markdown",
   "metadata": {
    "id": "xxhGnfymAMa2",
    "slideshow": {
     "slide_type": "slide"
    }
   },
   "source": [
    "# STEP 1 – PDB conversion and system preparation"
   ]
  },
  {
   "cell_type": "markdown",
   "metadata": {
    "id": "wNxaUtHnBkoH"
   },
   "source": [
    "The protein of interest for the present tutorial is called penetratin.pdb (already present in the data/ folder)"
   ]
  },
  {
   "cell_type": "markdown",
   "metadata": {
    "id": "-yw0NAyKC5PA",
    "slideshow": {
     "slide_type": "-"
    }
   },
   "source": [
    "Using a visualization software (for example VMD, PyMol, UCSF Chimera, Schrödinger Maestro, MOE, ...) you can view and rotate the structure. Here we will use **NGL View** for semplicity."
   ]
  },
  {
   "cell_type": "code",
   "execution_count": 2,
   "metadata": {
    "slideshow": {
     "slide_type": "-"
    }
   },
   "outputs": [
    {
     "data": {
      "application/vnd.jupyter.widget-view+json": {
       "model_id": "05dd616d6cdf4ac080caa854b1126656",
       "version_major": 2,
       "version_minor": 0
      },
      "text/plain": []
     },
     "metadata": {},
     "output_type": "display_data"
    },
    {
     "data": {
      "application/vnd.jupyter.widget-view+json": {
       "model_id": "7bca802be4424a739a46b850e258fed5",
       "version_major": 2,
       "version_minor": 0
      },
      "text/plain": [
       "NGLWidget()"
      ]
     },
     "metadata": {},
     "output_type": "display_data"
    }
   ],
   "source": [
    "import nglview as nv\n",
    "from IPython.display import IFrame\n",
    "\n",
    "with open(\"data/penetratin.pdb\") as f:\n",
    "    view = nv.show_file(f, ext=\"pdb\")\n",
    "view"
   ]
  },
  {
   "cell_type": "markdown",
   "metadata": {
    "id": "ZzVSrYfUe7jp",
    "slideshow": {
     "slide_type": "subslide"
    }
   },
   "source": [
    "Let’s now have a look at the actual pdb file, which is nothing more than a text file!"
   ]
  },
  {
   "cell_type": "code",
   "execution_count": 3,
   "metadata": {
    "colab": {
     "base_uri": "https://localhost:8080/",
     "height": 400
    },
    "id": "wmlEVUByfLPs",
    "outputId": "a1683f01-e4c4-4c01-b0f4-daf8a1e3e8dd"
   },
   "outputs": [
    {
     "name": "stdout",
     "output_type": "stream",
     "text": [
      "TITLE     Penetratin-Silica Umbrella simulation in water\r",
      "\r\n",
      "REMARK    THIS IS A SIMULATION BOX\r",
      "\r\n",
      "CRYST1   65.000   65.000   70.000  90.00  90.00  90.00 P 1           1\r",
      "\r\n",
      "MODEL        1\r",
      "\r\n",
      "ATOM      1  N   ARG B  43      27.450  39.330  58.820  1.00  0.00           N\r",
      "\r\n",
      "ATOM      2  H1  ARG B  43      28.202  39.988  58.773  1.00  0.00            \r",
      "\r\n",
      "ATOM      3  H2  ARG B  43      26.584  39.820  58.920  1.00  0.00            \r",
      "\r\n",
      "ATOM      4  H3  ARG B  43      27.584  38.726  59.606  1.00  0.00            \r",
      "\r\n",
      "ATOM      5  CA  ARG B  43      27.420  38.520  57.570  1.00  0.00           C\r",
      "\r\n",
      "ATOM      6  HA  ARG B  43      28.336  38.125  57.501  1.00  0.00            \r",
      "\r\n",
      "ATOM      7  CB  ARG B  43      26.210  37.540  57.770  1.00  0.00           C\r",
      "\r\n",
      "ATOM      8  HB1 ARG B  43      25.409  38.082  58.024  1.00  0.00            \r",
      "\r\n",
      "ATOM      9  HB2 ARG B  43      26.437  36.913  58.515  1.00  0.00            \r",
      "\r\n",
      "ATOM     10  CG  ARG B  43      25.810  36.680  56.560  1.00  0.00           C\r",
      "\r\n",
      "ATOM     11  HG1 ARG B  43      26.609  36.144  56.287  1.00  0.00            \r",
      "\r\n",
      "ATOM     12  HG2 ARG B  43      25.553  37.297  55.816  1.00  0.00            \r",
      "\r\n",
      "ATOM     13  CD  ARG B  43      24.610  35.700  56.850  1.00  0.00           C\r",
      "\r\n",
      "ATOM     14  HD1 ARG B  43      24.839  35.140  57.646  1.00  0.00            \r",
      "\r\n",
      "ATOM     15  HD2 ARG B  43      24.480  35.109  56.054  1.00  0.00            \r",
      "\r\n",
      "ATOM     16  NE  ARG B  43      23.270  36.340  57.140  1.00  0.00           N\r",
      "\r\n",
      "ATOM     17  HE  ARG B  43      23.048  36.531  58.096  1.00  0.00            \r",
      "\r\n",
      "ATOM     18  CZ  ARG B  43      22.360  36.670  56.220  1.00  0.00           C\r",
      "\r\n",
      "ATOM     19  NH1 ARG B  43      22.540  36.840  54.930  1.00  0.00           N\r",
      "\r\n",
      "ATOM     20 1HH1 ARG B  43      23.450  36.721  54.532  1.00  0.00            \r",
      "\r\n",
      "ATOM     21 2HH1 ARG B  43      21.767  37.089  54.346  1.00  0.00            \r",
      "\r\n",
      "ATOM     22  NH2 ARG B  43      21.140  36.930  56.700  1.00  0.00           N\r",
      "\r\n",
      "ATOM     23 1HH2 ARG B  43      20.966  36.870  57.683  1.00  0.00            \r",
      "\r\n",
      "ATOM     24 2HH2 ARG B  43      20.401  37.185  56.076  1.00  0.00            \r",
      "\r\n",
      "ATOM     25  C   ARG B  43      27.280  39.260  56.220  1.00  0.00           C\r",
      "\r\n",
      "ATOM     26  O   ARG B  43      27.950  38.850  55.260  1.00  0.00           O\r",
      "\r\n",
      "ATOM     27  N   GLN B  44      26.610  40.410  56.110  1.00  0.00           N\r",
      "\r\n",
      "ATOM     28  H   GLN B  44      26.173  40.764  56.937  1.00  0.00            \r",
      "\r\n",
      "ATOM     29  CA  GLN B  44      26.460  41.190  54.900  1.00  0.00           C\r",
      "\r\n",
      "ATOM     30  HA  GLN B  44      26.127  40.600  54.164  1.00  0.00            \r",
      "\r\n",
      "ATOM     31  CB  GLN B  44      25.480  42.340  55.290  1.00  0.00           C\r",
      "\r\n",
      "ATOM     32  HB1 GLN B  44      25.346  42.914  54.482  1.00  0.00            \r",
      "\r\n",
      "ATOM     33  HB2 GLN B  44      25.914  42.878  56.013  1.00  0.00            \r",
      "\r\n",
      "ATOM     34  CG  GLN B  44      24.080  41.930  55.800  1.00  0.00           C\r",
      "\r\n",
      "ATOM     35  HG1 GLN B  44      23.687  41.302  55.128  1.00  0.00            \r",
      "\r\n",
      "ATOM     36  HG2 GLN B  44      23.523  42.759  55.848  1.00  0.00            \r",
      "\r\n",
      "ATOM     37  CD  GLN B  44      24.050  41.230  57.210  1.00  0.00           C\r",
      "\r\n",
      "ATOM     38  OE1 GLN B  44      24.800  41.530  58.130  1.00  0.00           O\r",
      "\r\n",
      "ATOM     39  NE2 GLN B  44      23.160  40.250  57.500  1.00  0.00           N\r",
      "\r\n",
      "ATOM     40 1HE2 GLN B  44      22.500  39.954  56.810  1.00  0.00            \r",
      "\r\n",
      "ATOM     41 2HE2 GLN B  44      23.164  39.823  58.404  1.00  0.00            \r",
      "\r\n",
      "ATOM     42  C   GLN B  44      27.770  41.670  54.360  1.00  0.00           C\r",
      "\r\n",
      "ATOM     43  O   GLN B  44      27.950  41.740  53.130  1.00  0.00           O\r",
      "\r\n",
      "ATOM     44  N   ILE B  45      28.750  42.060  55.160  1.00  0.00           N\r",
      "\r\n",
      "ATOM     45  H   ILE B  45      28.608  41.937  56.142  1.00  0.00            \r",
      "\r\n",
      "ATOM     46  CA  ILE B  45      29.970  42.630  54.760  1.00  0.00           C\r",
      "\r\n",
      "ATOM     47  HA  ILE B  45      29.820  42.887  53.805  1.00  0.00            \r",
      "\r\n",
      "ATOM     48  CB  ILE B  45      30.250  43.870  55.550  1.00  0.00           C\r",
      "\r\n",
      "ATOM     49  HB  ILE B  45      31.176  44.152  55.299  1.00  0.00            \r",
      "\r\n",
      "ATOM     50  CG2 ILE B  45      29.050  44.860  55.180  1.00  0.00           C\r",
      "\r\n",
      "ATOM     51 1HG2 ILE B  45      29.165  45.722  55.673  1.00  0.00            \r",
      "\r\n",
      "ATOM     52 2HG2 ILE B  45      29.055  45.036  54.196  1.00  0.00            \r",
      "\r\n",
      "ATOM     53 3HG2 ILE B  45      28.180  44.441  55.440  1.00  0.00            \r",
      "\r\n",
      "ATOM     54  CG1 ILE B  45      30.220  43.660  57.120  1.00  0.00           C\r",
      "\r\n",
      "ATOM     55 1HG1 ILE B  45      30.744  42.839  57.346  1.00  0.00            \r",
      "\r\n",
      "ATOM     56 2HG1 ILE B  45      29.271  43.540  57.411  1.00  0.00            \r",
      "\r\n",
      "ATOM     57  CD  ILE B  45      30.790  44.780  57.960  1.00  0.00           C\r",
      "\r\n",
      "ATOM     58  HD1 ILE B  45      30.719  44.540  58.928  1.00  0.00            \r",
      "\r\n",
      "ATOM     59  HD2 ILE B  45      31.751  44.920  57.721  1.00  0.00            \r",
      "\r\n",
      "ATOM     60  HD3 ILE B  45      30.277  45.621  57.787  1.00  0.00            \r",
      "\r\n",
      "ATOM     61  C   ILE B  45      31.120  41.600  54.910  1.00  0.00           C\r",
      "\r\n",
      "ATOM     62  O   ILE B  45      32.300  41.990  54.920  1.00  0.00           O\r",
      "\r\n",
      "ATOM     63  N   LYS B  46      30.780  40.360  55.010  1.00  0.00           N\r",
      "\r\n",
      "ATOM     64  H   LYS B  46      29.858  40.084  54.739  1.00  0.00            \r",
      "\r\n",
      "ATOM     65  CA  LYS B  46      31.690  39.370  55.500  1.00  0.00           C\r",
      "\r\n",
      "ATOM     66  HA  LYS B  46      32.522  39.920  55.576  1.00  0.00            \r",
      "\r\n",
      "ATOM     67  CB  LYS B  46      31.320  38.750  56.950  1.00  0.00           C\r",
      "\r\n",
      "ATOM     68  HB1 LYS B  46      30.418  38.322  56.887  1.00  0.00            \r",
      "\r\n",
      "ATOM     69  HB2 LYS B  46      31.288  39.499  57.612  1.00  0.00            \r",
      "\r\n",
      "ATOM     70  CG  LYS B  46      32.230  37.690  57.580  1.00  0.00           C\r",
      "\r\n",
      "ATOM     71  HG1 LYS B  46      33.135  38.103  57.682  1.00  0.00            \r",
      "\r\n",
      "ATOM     72  HG2 LYS B  46      32.282  36.927  56.936  1.00  0.00            \r",
      "\r\n",
      "ATOM     73  CD  LYS B  46      31.800  37.120  58.970  1.00  0.00           C\r",
      "\r\n",
      "ATOM     74  HD1 LYS B  46      32.252  36.240  59.115  1.00  0.00            \r",
      "\r\n",
      "ATOM     75  HD2 LYS B  46      30.809  36.990  58.976  1.00  0.00            \r",
      "\r\n",
      "ATOM     76  CE  LYS B  46      32.160  38.030  60.140  1.00  0.00           C\r",
      "\r\n",
      "ATOM     77  HE1 LYS B  46      31.637  38.878  60.052  1.00  0.00            \r",
      "\r\n",
      "ATOM     78  HE2 LYS B  46      33.138  38.235  60.091  1.00  0.00            \r",
      "\r\n",
      "ATOM     79  NZ  LYS B  46      31.890  37.480  61.500  1.00  0.00           N\r",
      "\r\n",
      "ATOM     80  HZ1 LYS B  46      32.160  38.151  62.191  1.00  0.00            \r",
      "\r\n",
      "ATOM     81  HZ2 LYS B  46      30.914  37.281  61.592  1.00  0.00            \r",
      "\r\n",
      "ATOM     82  HZ3 LYS B  46      32.415  36.639  61.630  1.00  0.00            \r",
      "\r\n",
      "ATOM     83  C   LYS B  46      31.880  38.280  54.440  1.00  0.00           C\r",
      "\r\n",
      "ATOM     84  O   LYS B  46      32.720  37.380  54.620  1.00  0.00           O\r",
      "\r\n",
      "ATOM     85  N   ILE B  47      31.170  38.270  53.350  1.00  0.00           N\r",
      "\r\n",
      "ATOM     86  H   ILE B  47      30.600  39.079  53.207  1.00  0.00            \r",
      "\r\n",
      "ATOM     87  CA  ILE B  47      31.080  37.240  52.290  1.00  0.00           C\r",
      "\r\n",
      "ATOM     88  HA  ILE B  47      31.019  36.452  52.903  1.00  0.00            \r",
      "\r\n",
      "ATOM     89  CB  ILE B  47      29.840  37.300  51.340  1.00  0.00           C\r",
      "\r\n",
      "ATOM     90  HB  ILE B  47      30.039  37.855  50.532  1.00  0.00            \r",
      "\r\n",
      "ATOM     91  CG2 ILE B  47      29.540  35.750  51.010  1.00  0.00           C\r",
      "\r\n",
      "ATOM     92 1HG2 ILE B  47      28.751  35.686  50.399  1.00  0.00            \r",
      "\r\n",
      "ATOM     93 2HG2 ILE B  47      30.339  35.343  50.567  1.00  0.00            \r",
      "\r\n",
      "ATOM     94 3HG2 ILE B  47      29.344  35.260  51.860  1.00  0.00            \r",
      "\r\n",
      "ATOM     95  CG1 ILE B  47      28.610  38.100  51.900  1.00  0.00           C\r",
      "\r\n",
      "ATOM     96 1HG1 ILE B  47      28.944  38.991  52.208  1.00  0.00            \r",
      "\r\n",
      "ATOM     97 2HG1 ILE B  47      28.249  37.591  52.681  1.00  0.00            \r",
      "\r\n",
      "ATOM     98  CD  ILE B  47      27.420  38.340  50.860  1.00  0.00           C\r",
      "\r\n",
      "ATOM     99  HD1 ILE B  47      26.687  38.854  51.305  1.00  0.00            \r",
      "\r\n",
      "ATOM    100  HD2 ILE B  47      27.762  38.858  50.076  1.00  0.00            \r",
      "\r\n",
      "ATOM    101  HD3 ILE B  47      27.067  37.458  50.548  1.00  0.00            \r",
      "\r\n",
      "ATOM    102  C   ILE B  47      32.300  37.050  51.480  1.00  0.00           C\r",
      "\r\n",
      "ATOM    103  O   ILE B  47      32.610  35.910  51.140  1.00  0.00           O\r",
      "\r\n",
      "ATOM    104  N   TRP B  48      33.020  38.130  51.110  1.00  0.00           N\r",
      "\r\n",
      "ATOM    105  H   TRP B  48      32.623  39.046  51.166  1.00  0.00            \r",
      "\r\n",
      "ATOM    106  CA  TRP B  48      34.350  37.950  50.640  1.00  0.00           C\r",
      "\r\n",
      "ATOM    107  HA  TRP B  48      34.165  37.375  49.843  1.00  0.00            \r",
      "\r\n",
      "ATOM    108  CB  TRP B  48      35.020  39.270  50.210  1.00  0.00           C\r",
      "\r\n",
      "ATOM    109  HB1 TRP B  48      35.266  39.797  51.024  1.00  0.00            \r",
      "\r\n",
      "ATOM    110  HB2 TRP B  48      34.381  39.799  49.651  1.00  0.00            \r",
      "\r\n",
      "ATOM    111  CG  TRP B  48      36.260  39.060  49.410  1.00  0.00           C\r",
      "\r\n",
      "ATOM    112  CD1 TRP B  48      36.430  39.190  48.040  1.00  0.00           C\r",
      "\r\n",
      "ATOM    113  HD1 TRP B  48      35.692  39.355  47.386  1.00  0.00            \r",
      "\r\n",
      "ATOM    114  NE1 TRP B  48      37.750  39.060  47.710  1.00  0.00           N\r",
      "\r\n",
      "ATOM    115  HE1 TRP B  48      38.086  39.106  46.769  1.00  0.00            \r",
      "\r\n",
      "ATOM    116  CE2 TRP B  48      38.570  38.860  48.790  1.00  0.00           C\r",
      "\r\n",
      "ATOM    117  CZ2 TRP B  48      40.010  38.680  48.950  1.00  0.00           C\r",
      "\r\n",
      "ATOM    118  HZ2 TRP B  48      40.644  38.693  48.177  1.00  0.00            \r",
      "\r\n",
      "ATOM    119  CH2 TRP B  48      40.430  38.490  50.260  1.00  0.00           C\r",
      "\r\n",
      "ATOM    120  HH2 TRP B  48      41.400  38.305  50.418  1.00  0.00            \r",
      "\r\n",
      "ATOM    121  CZ3 TRP B  48      39.600  38.540  51.350  1.00  0.00           C\r",
      "\r\n",
      "ATOM    122  "
     ]
    },
    {
     "data": {
      "text/html": [
       "<b>limit_output extension: Maximum message size of 10000 exceeded with 27255 characters</b>"
      ]
     },
     "metadata": {},
     "output_type": "display_data"
    }
   ],
   "source": [
    "!cat data/penetratin.pdb"
   ]
  },
  {
   "cell_type": "markdown",
   "metadata": {
    "id": "D_UjJbcKf4YI"
   },
   "source": [
    "You will see that the pdb is essentially a space-separated text file organized into columns. \n",
    "Briefly:\n",
    "- The first column defines the row type (e.g. REMARK tells you that this row is a comment, ATOM tells you that this row contains actual atomic coordinates, etc.).\n",
    "- Columns 7, 8 and 9 contain the x,y,z coordinates of the atoms of the system.\n",
    "\n",
    "For more information: https://www.cgl.ucsf.edu/chimera/docs/UsersGuide/tutorials/pdbintro.html."
   ]
  },
  {
   "cell_type": "markdown",
   "metadata": {
    "id": "9__i_ebQgGvK",
    "slideshow": {
     "slide_type": "subslide"
    }
   },
   "source": [
    "## Make Index File (gmx make_ndx)\n"
   ]
  },
  {
   "cell_type": "markdown",
   "metadata": {
    "id": "kH6kRGS2gihh"
   },
   "source": [
    "We now introduce a very powerful tool in GROMACS: index files. Index files are created starting from an atomic system (e.g. a pdb file), and split atoms into specific groups. These can be useful to restrict operations and analyses only to specific parts of the system, for example, if you want to see fluctuations of the alpha-Carbons only, you can select that specific group in the analysis tool.\n",
    "\n",
    "To have detailed information about the command to make index files, just type:"
   ]
  },
  {
   "cell_type": "code",
   "execution_count": 4,
   "metadata": {
    "colab": {
     "base_uri": "https://localhost:8080/",
     "height": 400
    },
    "id": "7IUc41ZlgoDS",
    "outputId": "11b0f4d0-87fc-400d-b745-37a70fd679a7",
    "scrolled": true
   },
   "outputs": [
    {
     "name": "stdout",
     "output_type": "stream",
     "text": [
      "                :-) GROMACS - gmx make_ndx, 2020.6-MODIFIED (-:\r\n",
      "\r\n",
      "                            GROMACS is written by:\r\n",
      "     Emile Apol      Rossen Apostolov      Paul Bauer     Herman J.C. Berendsen\r\n",
      "    Par Bjelkmar      Christian Blau   Viacheslav Bolnykh     Kevin Boyd    \r\n",
      " Aldert van Buuren   Rudi van Drunen     Anton Feenstra       Alan Gray     \r\n",
      "  Gerrit Groenhof     Anca Hamuraru    Vincent Hindriksen  M. Eric Irrgang  \r\n",
      "  Aleksei Iupinov   Christoph Junghans     Joe Jordan     Dimitrios Karkoulis\r\n",
      "    Peter Kasson        Jiri Kraus      Carsten Kutzner      Per Larsson    \r\n",
      "  Justin A. Lemkul    Viveca Lindahl    Magnus Lundborg     Erik Marklund   \r\n",
      "    Pascal Merz     Pieter Meulenhoff    Teemu Murtola       Szilard Pall   \r\n",
      "    Sander Pronk      Roland Schulz      Michael Shirts    Alexey Shvetsov  \r\n",
      "   Alfons Sijbers     Peter Tieleman      Jon Vincent      Teemu Virolainen \r\n",
      " Christian Wennberg    Maarten Wolf      Artem Zhmurov   \r\n",
      "                           and the project leaders:\r\n",
      "        Mark Abraham, Berk Hess, Erik Lindahl, and David van der Spoel\r\n",
      "\r\n",
      "Copyright (c) 1991-2000, University of Groningen, The Netherlands.\r\n",
      "Copyright (c) 2001-2019, The GROMACS development team at\r\n",
      "Uppsala University, Stockholm University and\r\n",
      "the Royal Institute of Technology, Sweden.\r\n",
      "check out http://www.gromacs.org for more information.\r\n",
      "\r\n",
      "GROMACS is free software; you can redistribute it and/or modify it\r\n",
      "under the terms of the GNU Lesser General Public License\r\n",
      "as published by the Free Software Foundation; either version 2.1\r\n",
      "of the License, or (at your option) any later version.\r\n",
      "\r\n",
      "GROMACS:      gmx make_ndx, version 2020.6-MODIFIED\r\n",
      "Executable:   /opt/gromacs/2020.6/bin/gmx\r\n",
      "Data prefix:  /opt/gromacs/2020.6\r\n",
      "Working dir:  /home/lorenzo/Documenti/GitHub/BiomeccanicaMultiscala/LAB/06-Gromacs\r\n",
      "Command line:\r\n",
      "  gmx make_ndx -h\r\n",
      "\r\n",
      "SYNOPSIS\r\n",
      "\r\n",
      "gmx make_ndx [-f [<.gro/.g96/...>]] [-n [<.ndx> [...]]] [-o [<.ndx>]]\r\n",
      "             [-natoms <int>] [-[no]twin]\r\n",
      "\r\n",
      "DESCRIPTION\r\n",
      "\r\n",
      "Index groups are necessary for almost every GROMACS program. All these\r\n",
      "programs can generate default index groups. You ONLY have to use gmx make_ndx\r\n",
      "when you need SPECIAL index groups. There is a default index group for the\r\n",
      "whole system, 9 default index groups for proteins, and a default index group\r\n",
      "is generated for every other residue name.\r\n",
      "\r\n",
      "When no index file is supplied, also gmx make_ndx will generate the default\r\n",
      "groups. With the index editor you can select on atom, residue and chain names\r\n",
      "and numbers. When a run input file is supplied you can also select on atom\r\n",
      "type. You can use boolean operations, you can split groups into chains,\r\n",
      "residues or atoms. You can delete and rename groups. Type 'h' in the editor\r\n",
      "for more details.\r\n",
      "\r\n",
      "The atom numbering in the editor and the index file starts at 1.\r\n",
      "\r\n",
      "The -twin switch duplicates all index groups with an offset of -natoms, which\r\n",
      "is useful for Computational Electrophysiology double-layer membrane setups.\r\n",
      "\r\n",
      "See also gmx select -on, which provides an alternative way for constructing\r\n",
      "index groups.  It covers nearly all of gmx make_ndx functionality, and in many\r\n",
      "cases much more.\r\n",
      "\r\n",
      "OPTIONS\r\n",
      "\r\n",
      "Options to specify input files:\r\n",
      "\r\n",
      " -f      [<.gro/.g96/...>]  (conf.gro)       (Opt.)\r\n",
      "           Structure file: gro g96 pdb brk ent esp tpr\r\n",
      " -n      [<.ndx> [...]]     (index.ndx)      (Opt.)\r\n",
      "           Index file\r\n",
      "\r\n",
      "Options to specify output files:\r\n",
      "\r\n",
      " -o      [<.ndx>]           (index.ndx)\r\n",
      "           Index file\r\n",
      "\r\n",
      "Other options:\r\n",
      "\r\n",
      " -natoms <int>              (0)\r\n",
      "           set number of atoms (default: read from coordinate or index file)\r\n",
      " -[no]twin                  (no)\r\n",
      "           Duplicate all index groups with an offset of -natoms\r\n",
      "\r\n",
      "GROMACS reminds you: \"I have not failed. I've just found 10,000 ways that won't work\" (Thomas Alva Edison)\r\n",
      "\r\n"
     ]
    }
   ],
   "source": [
    "!gmx make_ndx -h"
   ]
  },
  {
   "cell_type": "markdown",
   "metadata": {
    "id": "W39IMDUni4Vm",
    "slideshow": {
     "slide_type": "subslide"
    }
   },
   "source": [
    "Let’s first create an index file (it will not be created by default when you launch the simulation!):"
   ]
  },
  {
   "cell_type": "code",
   "execution_count": 5,
   "metadata": {
    "scrolled": true
   },
   "outputs": [
    {
     "name": "stdout",
     "output_type": "stream",
     "text": [
      "                :-) GROMACS - gmx make_ndx, 2020.6-MODIFIED (-:\r\n",
      "\r\n",
      "                            GROMACS is written by:\r\n",
      "     Emile Apol      Rossen Apostolov      Paul Bauer     Herman J.C. Berendsen\r\n",
      "    Par Bjelkmar      Christian Blau   Viacheslav Bolnykh     Kevin Boyd    \r\n",
      " Aldert van Buuren   Rudi van Drunen     Anton Feenstra       Alan Gray     \r\n",
      "  Gerrit Groenhof     Anca Hamuraru    Vincent Hindriksen  M. Eric Irrgang  \r\n",
      "  Aleksei Iupinov   Christoph Junghans     Joe Jordan     Dimitrios Karkoulis\r\n",
      "    Peter Kasson        Jiri Kraus      Carsten Kutzner      Per Larsson    \r\n",
      "  Justin A. Lemkul    Viveca Lindahl    Magnus Lundborg     Erik Marklund   \r\n",
      "    Pascal Merz     Pieter Meulenhoff    Teemu Murtola       Szilard Pall   \r\n",
      "    Sander Pronk      Roland Schulz      Michael Shirts    Alexey Shvetsov  \r\n",
      "   Alfons Sijbers     Peter Tieleman      Jon Vincent      Teemu Virolainen \r\n",
      " Christian Wennberg    Maarten Wolf      Artem Zhmurov   \r\n",
      "                           and the project leaders:\r\n",
      "        Mark Abraham, Berk Hess, Erik Lindahl, and David van der Spoel\r\n",
      "\r\n",
      "Copyright (c) 1991-2000, University of Groningen, The Netherlands.\r\n",
      "Copyright (c) 2001-2019, The GROMACS development team at\r\n",
      "Uppsala University, Stockholm University and\r\n",
      "the Royal Institute of Technology, Sweden.\r\n",
      "check out http://www.gromacs.org for more information.\r\n",
      "\r\n",
      "GROMACS is free software; you can redistribute it and/or modify it\r\n",
      "under the terms of the GNU Lesser General Public License\r\n",
      "as published by the Free Software Foundation; either version 2.1\r\n",
      "of the License, or (at your option) any later version.\r\n",
      "\r\n",
      "GROMACS:      gmx make_ndx, version 2020.6-MODIFIED\r\n",
      "Executable:   /opt/gromacs/2020.6/bin/gmx\r\n",
      "Data prefix:  /opt/gromacs/2020.6\r\n",
      "Working dir:  /home/lorenzo/Documenti/GitHub/BiomeccanicaMultiscala/LAB/06-Gromacs\r\n",
      "Command line:\r\n",
      "  gmx make_ndx -f data/penetratin.pdb -o index.ndx\r\n",
      "\r\n",
      "\r\n",
      "Reading structure file\r\n",
      "Going to read 0 old index file(s)\r\n",
      "Analysing residue names:\r\n",
      "There are:    16    Protein residues\r\n",
      "Analysing Protein...\r\n",
      "\r\n",
      "  0 System              :   334 atoms\r\n",
      "  1 Protein             :   334 atoms\r\n",
      "  2 Protein-H           :   159 atoms\r\n",
      "  3 C-alpha             :    16 atoms\r\n",
      "  4 Backbone            :    48 atoms\r\n",
      "  5 MainChain           :    65 atoms\r\n",
      "  6 MainChain+Cb        :    81 atoms\r\n",
      "  7 MainChain+H         :    83 atoms\r\n",
      "  8 SideChain           :   251 atoms\r\n",
      "  9 SideChain-H         :    94 atoms\r\n",
      "\r\n",
      " nr : group      '!': not  'name' nr name   'splitch' nr    Enter: list groups\r\n",
      " 'a': atom       '&': and  'del' nr         'splitres' nr   'l': list residues\r\n",
      " 't': atom type  '|': or   'keep' nr        'splitat' nr    'h': help\r\n",
      " 'r': residue              'res' nr         'chain' char\r\n",
      " \"name\": group             'case': case sensitive           'q': save and quit\r\n",
      " 'ri': residue index\r\n",
      "\r\n",
      "> \r\n",
      "\r\n",
      "GROMACS reminds you: \"It has not escaped our notice that the specific pairing we have postulated immediately suggests a possible copying mechanism for the genetic material.\" (Watson & Crick)\r\n",
      "\r\n"
     ]
    }
   ],
   "source": [
    "!echo -e \"q \\n\" | gmx make_ndx -f data/penetratin.pdb -o index.ndx"
   ]
  },
  {
   "cell_type": "markdown",
   "metadata": {
    "id": "XbfulkTJjRYE"
   },
   "source": [
    "You will see that make_ndx will read the pdb file (option “-f”), create some default groups and then wait for your input. \n",
    "\n",
    "You can manually add groups by typing the atoms manually (we will see the selection syntax later on...), or simply accept the default groups and save them by typing q and hitting Enter. The final index file (index.ndx) will be saved with the name chosen in the option “-o”."
   ]
  },
  {
   "cell_type": "markdown",
   "metadata": {
    "id": "Vz_K0e34CAs_",
    "slideshow": {
     "slide_type": "subslide"
    }
   },
   "source": [
    "## Edit molecular configuration (gmx editconf)"
   ]
  },
  {
   "cell_type": "markdown",
   "metadata": {},
   "source": [
    "As mentioned, the previous groups obtained with gmx make_ndx can be used to tell GROMACS to do operations on a specific subset of atoms only. Let’s say for example I want a pdb file containing only the alpha Carbons of my starting penetratin.pdb structure. I can achieve this by calling editconf (which, as the name suggests, is an editor for molecular configurations) and also including the index.ndx file as input:"
   ]
  },
  {
   "cell_type": "code",
   "execution_count": 6,
   "metadata": {
    "scrolled": true
   },
   "outputs": [
    {
     "name": "stdout",
     "output_type": "stream",
     "text": [
      "                :-) GROMACS - gmx editconf, 2020.6-MODIFIED (-:\r\n",
      "\r\n",
      "                            GROMACS is written by:\r\n",
      "     Emile Apol      Rossen Apostolov      Paul Bauer     Herman J.C. Berendsen\r\n",
      "    Par Bjelkmar      Christian Blau   Viacheslav Bolnykh     Kevin Boyd    \r\n",
      " Aldert van Buuren   Rudi van Drunen     Anton Feenstra       Alan Gray     \r\n",
      "  Gerrit Groenhof     Anca Hamuraru    Vincent Hindriksen  M. Eric Irrgang  \r\n",
      "  Aleksei Iupinov   Christoph Junghans     Joe Jordan     Dimitrios Karkoulis\r\n",
      "    Peter Kasson        Jiri Kraus      Carsten Kutzner      Per Larsson    \r\n",
      "  Justin A. Lemkul    Viveca Lindahl    Magnus Lundborg     Erik Marklund   \r\n",
      "    Pascal Merz     Pieter Meulenhoff    Teemu Murtola       Szilard Pall   \r\n",
      "    Sander Pronk      Roland Schulz      Michael Shirts    Alexey Shvetsov  \r\n",
      "   Alfons Sijbers     Peter Tieleman      Jon Vincent      Teemu Virolainen \r\n",
      " Christian Wennberg    Maarten Wolf      Artem Zhmurov   \r\n",
      "                           and the project leaders:\r\n",
      "        Mark Abraham, Berk Hess, Erik Lindahl, and David van der Spoel\r\n",
      "\r\n",
      "Copyright (c) 1991-2000, University of Groningen, The Netherlands.\r\n",
      "Copyright (c) 2001-2019, The GROMACS development team at\r\n",
      "Uppsala University, Stockholm University and\r\n",
      "the Royal Institute of Technology, Sweden.\r\n",
      "check out http://www.gromacs.org for more information.\r\n",
      "\r\n",
      "GROMACS is free software; you can redistribute it and/or modify it\r\n",
      "under the terms of the GNU Lesser General Public License\r\n",
      "as published by the Free Software Foundation; either version 2.1\r\n",
      "of the License, or (at your option) any later version.\r\n",
      "\r\n",
      "GROMACS:      gmx editconf, version 2020.6-MODIFIED\r\n",
      "Executable:   /opt/gromacs/2020.6/bin/gmx\r\n",
      "Data prefix:  /opt/gromacs/2020.6\r\n",
      "Working dir:  /home/lorenzo/Documenti/GitHub/BiomeccanicaMultiscala/LAB/06-Gromacs\r\n",
      "Command line:\r\n",
      "  gmx editconf -f data/penetratin.pdb -o calpha.pdb -n index.ndx\r\n",
      "\r\n",
      "Note that major changes are planned in future for editconf, to improve usability and utility.\r\n",
      "Read 334 atoms\r\n",
      "Volume: 295.75 nm^3, corresponds to roughly 133000 electrons\r\n",
      "No velocities found\r\n",
      "\r\n",
      "Select a group for output:\r\n",
      "Group     0 (         System) has   334 elements\r\n",
      "Group     1 (        Protein) has   334 elements\r\n",
      "Group     2 (      Protein-H) has   159 elements\r\n",
      "Group     3 (        C-alpha) has    16 elements\r\n",
      "Group     4 (       Backbone) has    48 elements\r\n",
      "Group     5 (      MainChain) has    65 elements\r\n",
      "Group     6 (   MainChain+Cb) has    81 elements\r\n",
      "Group     7 (    MainChain+H) has    83 elements\r\n",
      "Group     8 (      SideChain) has   251 elements\r\n",
      "Group     9 (    SideChain-H) has    94 elements\r\n",
      "Select a group: Selected 3: 'C-alpha'\r\n",
      "\r\n",
      "GROMACS reminds you: \"Science... never solves a problem without creating ten more.\" (George Bernard Shaw)\r\n",
      "\r\n"
     ]
    }
   ],
   "source": [
    "!echo \"C-alpha\" | gmx editconf -f data/penetratin.pdb -o calpha.pdb -n index.ndx"
   ]
  },
  {
   "cell_type": "markdown",
   "metadata": {},
   "source": [
    "In simpler words, this command is saying:\n",
    "\n",
    "***“Call the editconf utility, read the penetratin.pdb and the index.ndx files, and write the result to calpha.pdb”***"
   ]
  },
  {
   "cell_type": "markdown",
   "metadata": {
    "slideshow": {
     "slide_type": "subslide"
    }
   },
   "source": [
    "Have a look to the only c-alpha structure: "
   ]
  },
  {
   "cell_type": "code",
   "execution_count": 7,
   "metadata": {},
   "outputs": [
    {
     "data": {
      "application/vnd.jupyter.widget-view+json": {
       "model_id": "ace7abc1e4b94e45b74d9886ba500990",
       "version_major": 2,
       "version_minor": 0
      },
      "text/plain": [
       "NGLWidget()"
      ]
     },
     "metadata": {},
     "output_type": "display_data"
    }
   ],
   "source": [
    "with open(\"calpha.pdb\") as f:\n",
    "    view = nv.show_file(f, ext=\"pdb\")\n",
    "\n",
    "view.add_representation(\"hyperball\")    \n",
    "view"
   ]
  },
  {
   "cell_type": "markdown",
   "metadata": {},
   "source": [
    "Indeed, editconf will prompt for a group. Choose C-alpha by typing 3 and hitting Enter. Editconf will confirm the selection and write atoms belonging to the C-alpha group to the file calpha.pdb (check it by opening the file with a text editor!). Easy, right?"
   ]
  },
  {
   "cell_type": "markdown",
   "metadata": {
    "slideshow": {
     "slide_type": "subslide"
    }
   },
   "source": [
    "## Prepare file for Gromacs (gmx pdb2gmx)"
   ]
  },
  {
   "cell_type": "markdown",
   "metadata": {},
   "source": [
    "We have to generate a **topology** for the system and convert it to the **.gro file format**. \n",
    "\n",
    "The tool for conversion is **pdb2gmx**. As always, you can use the -h flag to print some help:"
   ]
  },
  {
   "cell_type": "code",
   "execution_count": 8,
   "metadata": {},
   "outputs": [
    {
     "name": "stdout",
     "output_type": "stream",
     "text": [
      "                 :-) GROMACS - gmx pdb2gmx, 2020.6-MODIFIED (-:\r\n",
      "\r\n",
      "                            GROMACS is written by:\r\n",
      "     Emile Apol      Rossen Apostolov      Paul Bauer     Herman J.C. Berendsen\r\n",
      "    Par Bjelkmar      Christian Blau   Viacheslav Bolnykh     Kevin Boyd    \r\n",
      " Aldert van Buuren   Rudi van Drunen     Anton Feenstra       Alan Gray     \r\n",
      "  Gerrit Groenhof     Anca Hamuraru    Vincent Hindriksen  M. Eric Irrgang  \r\n",
      "  Aleksei Iupinov   Christoph Junghans     Joe Jordan     Dimitrios Karkoulis\r\n",
      "    Peter Kasson        Jiri Kraus      Carsten Kutzner      Per Larsson    \r\n",
      "  Justin A. Lemkul    Viveca Lindahl    Magnus Lundborg     Erik Marklund   \r\n",
      "    Pascal Merz     Pieter Meulenhoff    Teemu Murtola       Szilard Pall   \r\n",
      "    Sander Pronk      Roland Schulz      Michael Shirts    Alexey Shvetsov  \r\n",
      "   Alfons Sijbers     Peter Tieleman      Jon Vincent      Teemu Virolainen \r\n",
      " Christian Wennberg    Maarten Wolf      Artem Zhmurov   \r\n",
      "                           and the project leaders:\r\n",
      "        Mark Abraham, Berk Hess, Erik Lindahl, and David van der Spoel\r\n",
      "\r\n",
      "Copyright (c) 1991-2000, University of Groningen, The Netherlands.\r\n",
      "Copyright (c) 2001-2019, The GROMACS development team at\r\n",
      "Uppsala University, Stockholm University and\r\n",
      "the Royal Institute of Technology, Sweden.\r\n",
      "check out http://www.gromacs.org for more information.\r\n",
      "\r\n",
      "GROMACS is free software; you can redistribute it and/or modify it\r\n",
      "under the terms of the GNU Lesser General Public License\r\n",
      "as published by the Free Software Foundation; either version 2.1\r\n",
      "of the License, or (at your option) any later version.\r\n",
      "\r\n",
      "GROMACS:      gmx pdb2gmx, version 2020.6-MODIFIED\r\n",
      "Executable:   /opt/gromacs/2020.6/bin/gmx\r\n",
      "Data prefix:  /opt/gromacs/2020.6\r\n",
      "Working dir:  /home/lorenzo/Documenti/GitHub/BiomeccanicaMultiscala/LAB/06-Gromacs\r\n",
      "Command line:\r\n",
      "  gmx pdb2gmx -h\r\n",
      "\r\n",
      "SYNOPSIS\r\n",
      "\r\n",
      "gmx pdb2gmx [-f [<.gro/.g96/...>]] [-o [<.gro/.g96/...>]] [-p [<.top>]]\r\n",
      "            [-i [<.itp>]] [-n [<.ndx>]] [-q [<.gro/.g96/...>]]\r\n",
      "            [-chainsep <enum>] [-merge <enum>] [-ff <string>] [-water <enum>]\r\n",
      "            [-[no]inter] [-[no]ss] [-[no]ter] [-[no]lys] [-[no]arg]\r\n",
      "            [-[no]asp] [-[no]glu] [-[no]gln] [-[no]his] [-angle <real>]\r\n",
      "            [-dist <real>] [-[no]una] [-[no]ignh] [-[no]missing] [-[no]v]\r\n",
      "            [-posrefc <real>] [-vsite <enum>] [-[no]heavyh] [-[no]deuterate]\r\n",
      "            [-[no]chargegrp] [-[no]cmap] [-[no]renum] [-[no]rtpres]\r\n",
      "\r\n",
      "DESCRIPTION\r\n",
      "\r\n",
      "gmx pdb2gmx reads a .pdb (or .gro) file, reads some database files, adds\r\n",
      "hydrogens to the molecules and generates coordinates in GROMACS (GROMOS), or\r\n",
      "optionally .pdb, format and a topology in GROMACS format. These files can\r\n",
      "subsequently be processed to generate a run input file.\r\n",
      "\r\n",
      "gmx pdb2gmx will search for force fields by looking for a forcefield.itp file\r\n",
      "in subdirectories <forcefield>.ff of the current working directory and of the\r\n",
      "GROMACS library directory as inferred from the path of the binary or the\r\n",
      "GMXLIB environment variable. By default the forcefield selection is\r\n",
      "interactive, but you can use the -ff option to specify one of the short names\r\n",
      "in the list on the command line instead. In that case gmx pdb2gmx just looks\r\n",
      "for the corresponding <forcefield>.ff directory.\r\n",
      "\r\n",
      "After choosing a force field, all files will be read only from the\r\n",
      "corresponding force field directory. If you want to modify or add a residue\r\n",
      "types, you can copy the force field directory from the GROMACS library\r\n",
      "directory to your current working directory. If you want to add new protein\r\n",
      "residue types, you will need to modify residuetypes.dat in the library\r\n",
      "directory or copy the whole library directory to a local directory and set the\r\n",
      "environment variable GMXLIB to the name of that directory. Check Chapter 5 of\r\n",
      "the manual for more information about file formats.\r\n",
      "\r\n",
      "Note that a .pdb file is nothing more than a file format, and it need not\r\n",
      "necessarily contain a protein structure. Every kind of molecule for which\r\n",
      "there is support in the database can be converted. If there is no support in\r\n",
      "the database, you can add it yourself.\r\n",
      "\r\n",
      "The program has limited intelligence, it reads a number of database files,\r\n",
      "that allow it to make special bonds (Cys-Cys, Heme-His, etc.), if necessary\r\n",
      "this can be done manually. The program can prompt the user to select which\r\n",
      "kind of LYS, ASP, GLU, CYS or HIS residue is desired. For Lys the choice is\r\n",
      "between neutral (two protons on NZ) or protonated (three protons, default),\r\n",
      "for Asp and Glu unprotonated (default) or protonated, for His the proton can\r\n",
      "be either on ND1, on NE2 or on both. By default these selections are done\r\n",
      "automatically. For His, this is based on an optimal hydrogen bonding\r\n",
      "conformation. Hydrogen bonds are defined based on a simple geometric\r\n",
      "criterion, specified by the maximum hydrogen-donor-acceptor angle and\r\n",
      "donor-acceptor distance, which are set by -angle and -dist respectively.\r\n",
      "\r\n",
      "The protonation state of N- and C-termini can be chosen interactively with the\r\n",
      "-ter flag.  Default termini are ionized (NH3+ and COO-), respectively.  Some\r\n",
      "force fields support zwitterionic forms for chains of one residue, but for\r\n",
      "polypeptides these options should NOT be selected. The AMBER force fields have\r\n",
      "unique forms for the terminal residues, and these are incompatible with the\r\n",
      "-ter mechanism. You need to prefix your N- or C-terminal residue names with\r\n",
      "\"N\" or \"C\" respectively to use these forms, making sure you preserve the\r\n",
      "format of the coordinate file. Alternatively, use named terminating residues\r\n",
      "(e.g. ACE, NME).\r\n",
      "\r\n",
      "The separation of chains is not entirely trivial since the markup in\r\n",
      "user-generated PDB files frequently varies and sometimes it is desirable to\r\n",
      "merge entries across a TER record, for instance if you want a disulfide bridge\r\n",
      "or distance restraints between two protein chains or if you have a HEME group\r\n",
      "bound to a protein. In such cases multiple chains should be contained in a\r\n",
      "single moleculetype definition. To handle this, gmx pdb2gmx uses two separate\r\n",
      "options. First, -chainsep allows you to choose when a new chemical chain\r\n",
      "should start, and termini added when applicable. This can be done based on the\r\n",
      "existence of TER records, when the chain id changes, or combinations of either\r\n",
      "or both of these. You can also do the selection fully interactively. In\r\n",
      "addition, there is a -merge option that controls how multiple chains are\r\n",
      "merged into one moleculetype, after adding all the chemical termini (or not).\r\n",
      "This can be turned off (no merging), all non-water chains can be merged into a\r\n",
      "single molecule, or the selection can be done interactively.\r\n",
      "\r\n",
      "gmx pdb2gmx will also check the occupancy field of the .pdb file. If any of\r\n",
      "the occupancies are not one, indicating that the atom is not resolved well in\r\n",
      "the structure, a warning message is issued. When a .pdb file does not\r\n",
      "originate from an X-ray structure determination all occupancy fields may be\r\n",
      "zero. Either way, it is up to the user to verify the correctness of the input\r\n",
      "data (read the article!).\r\n",
      "\r\n",
      "During processing the atoms will be reordered according to GROMACS\r\n",
      "conventions. With -n an index file can be generated that contains one group\r\n",
      "reordered in the same way. This allows you to convert a GROMOS trajectory and\r\n",
      "coordinate file to GROMOS. There is one limitation: reordering is done after\r\n",
      "the hydrogens are stripped from the input and before new hydrogens are added.\r\n",
      "This means that you should not use -ignh.\r\n",
      "\r\n",
      "The .gro and .g96 file formats do not support chain identifiers. Therefore it\r\n",
      "is useful to enter a .pdb file name at the -o option when you want to convert\r\n",
      "a multi-chain .pdb file.\r\n",
      "\r\n",
      "The option -vsite removes hydrogen and fast improper dihedral motions. Angular\r\n",
      "and out-of-plane motions can be removed by changing hydrogens into virtual\r\n",
      "sites and fixing angles, which fixes their position relative to neighboring\r\n",
      "atoms. Additionally, all atoms in the aromatic rings of the standard amino\r\n",
      "acids (i.e. PHE, TRP, TYR and HIS) can be converted into virtual sites,\r\n",
      "eliminating the fast improper dihedral fluctuations in these rings (but this\r\n",
      "feature is deprecated). Note that in this case all other hydrogen atoms are\r\n",
      "also converted to virtual sites. The mass of all atoms that are converted into\r\n",
      "virtual sites, is added to the heavy atoms.\r\n",
      "\r\n",
      "Also slowing down of dihedral motion can be done with -heavyh done by\r\n",
      "increasing the hydrogen-mass by a factor of 4. This is also done for water\r\n",
      "hydrogens to slow down the rotational motion of water. The increase in mass of\r\n",
      "the hydrogens is subtracted from the bonded (heavy) atom so that the total\r\n",
      "mass of the system remains the same.\r\n",
      "\r\n",
      "OPTIONS\r\n",
      "\r\n",
      "Options to specify input files:\r\n",
      "\r\n",
      " -f      [<.gro/.g96/...>]  (protein.pdb)\r\n",
      "           Structure file: gro g96 pdb brk ent esp tpr\r\n",
      "\r\n",
      "Options to specify output files:\r\n",
      "\r\n",
      " -o      [<.gro/.g96/...>]  (conf.gro)\r\n",
      "           Structure file: gro g96 pdb brk ent esp\r\n",
      " -p      [<.top>]           (topol.top)\r\n",
      "           Topology file\r\n",
      " -i      [<.itp>]           (posre.itp)\r\n",
      "           Include file for topology\r\n",
      " -n      [<.ndx>]           (index.ndx)      (Opt.)\r\n",
      "           Index file\r\n",
      " -q      [<.gro/.g96/...>]  (clean.pdb)      (Opt.)\r\n",
      "           Structure file: gro g96 pdb brk ent esp\r\n",
      "\r\n",
      "Other options:\r\n",
      "\r\n",
      " -chainsep <enum>           (id_or_ter)\r\n",
      "           Condition in PDB files when a new chain should be started (adding\r\n",
      "           termini): id_or_ter, id_and_ter, ter, id, interactive\r\n",
      " -merge  <enum>             (no)\r\n",
      "           Merge multiple chains into a single [moleculetype]: no, all,\r\n",
      "           interactive\r\n",
      " -ff     <string>           (select)\r\n",
      "           Force field, interactive by default. Use -h for information.\r\n",
      " -water  <enum>             (select)\r\n",
      "           Water model to use: select, none, spc, spce, tip3p, tip4p, tip5p,\r\n",
      "           tips3p\r\n",
      " -[no]inter                 (no)\r\n",
      "           Set the next 8 options to interactive\r\n",
      " -[no]ss                    (no)\r\n",
      "           Interactive"
     ]
    },
    {
     "data": {
      "text/html": [
       "<b>limit_output extension: Maximum message size of 10000 exceeded with 12168 characters</b>"
      ]
     },
     "metadata": {},
     "output_type": "display_data"
    }
   ],
   "source": [
    "!gmx pdb2gmx -h"
   ]
  },
  {
   "cell_type": "markdown",
   "metadata": {
    "slideshow": {
     "slide_type": "-"
    }
   },
   "source": [
    "The main options of the **pdb2gmx** tool are:\n",
    "> - f: input file (coordinates, so .pdb or .gro)\n",
    "> - p: topology output file (a text file, ending in .top)\n",
    "> - o: structure output file (coordinates after processing, again .pdb or .gro)\n",
    "> - i: position restraints output file (.itp)"
   ]
  },
  {
   "cell_type": "code",
   "execution_count": 30,
   "metadata": {
    "scrolled": true,
    "slideshow": {
     "slide_type": "subslide"
    }
   },
   "outputs": [
    {
     "name": "stdout",
     "output_type": "stream",
     "text": [
      "                 :-) GROMACS - gmx pdb2gmx, 2020.6-MODIFIED (-:\r\n",
      "\r\n",
      "                            GROMACS is written by:\r\n",
      "     Emile Apol      Rossen Apostolov      Paul Bauer     Herman J.C. Berendsen\r\n",
      "    Par Bjelkmar      Christian Blau   Viacheslav Bolnykh     Kevin Boyd    \r\n",
      " Aldert van Buuren   Rudi van Drunen     Anton Feenstra       Alan Gray     \r\n",
      "  Gerrit Groenhof     Anca Hamuraru    Vincent Hindriksen  M. Eric Irrgang  \r\n",
      "  Aleksei Iupinov   Christoph Junghans     Joe Jordan     Dimitrios Karkoulis\r\n",
      "    Peter Kasson        Jiri Kraus      Carsten Kutzner      Per Larsson    \r\n",
      "  Justin A. Lemkul    Viveca Lindahl    Magnus Lundborg     Erik Marklund   \r\n",
      "    Pascal Merz     Pieter Meulenhoff    Teemu Murtola       Szilard Pall   \r\n",
      "    Sander Pronk      Roland Schulz      Michael Shirts    Alexey Shvetsov  \r\n",
      "   Alfons Sijbers     Peter Tieleman      Jon Vincent      Teemu Virolainen \r\n",
      " Christian Wennberg    Maarten Wolf      Artem Zhmurov   \r\n",
      "                           and the project leaders:\r\n",
      "        Mark Abraham, Berk Hess, Erik Lindahl, and David van der Spoel\r\n",
      "\r\n",
      "Copyright (c) 1991-2000, University of Groningen, The Netherlands.\r\n",
      "Copyright (c) 2001-2019, The GROMACS development team at\r\n",
      "Uppsala University, Stockholm University and\r\n",
      "the Royal Institute of Technology, Sweden.\r\n",
      "check out http://www.gromacs.org for more information.\r\n",
      "\r\n",
      "GROMACS is free software; you can redistribute it and/or modify it\r\n",
      "under the terms of the GNU Lesser General Public License\r\n",
      "as published by the Free Software Foundation; either version 2.1\r\n",
      "of the License, or (at your option) any later version.\r\n",
      "\r\n",
      "GROMACS:      gmx pdb2gmx, version 2020.6-MODIFIED\r\n",
      "Executable:   /opt/gromacs/2020.6/bin/gmx\r\n",
      "Data prefix:  /opt/gromacs/2020.6\r\n",
      "Working dir:  /home/lorenzo/Documenti/GitHub/BiomeccanicaMultiscala/LAB/06-Gromacs\r\n",
      "Command line:\r\n",
      "  gmx pdb2gmx -f data/penetratin.pdb -i penetratin_posre.itp -p penetratin.top -o penetratin.gro -ff amber99sb-ildn -ignh -heavyh -water tip3p\r\n",
      "\r\n",
      "\r\n",
      "Using the Amber99sb-ildn force field in directory amber99sb-ildn.ff\r\n",
      "\r\n",
      "going to rename amber99sb-ildn.ff/aminoacids.r2b\r\n",
      "Opening force field file /opt/gromacs/2020.6/share/gromacs/top/amber99sb-ildn.ff/aminoacids.r2b\r\n",
      "going to rename amber99sb-ildn.ff/dna.r2b\r\n",
      "Opening force field file /opt/gromacs/2020.6/share/gromacs/top/amber99sb-ildn.ff/dna.r2b\r\n",
      "going to rename amber99sb-ildn.ff/rna.r2b\r\n",
      "Opening force field file /opt/gromacs/2020.6/share/gromacs/top/amber99sb-ildn.ff/rna.r2b\r\n",
      "Reading data/penetratin.pdb...\r\n",
      "Read 'Penetratin-Silica Umbrella simulation in water', 159 atoms\r\n",
      "Analyzing pdb file\r\n",
      "Splitting chemical chains based on TER records or chain id changing.\r\n",
      "There are 1 chains and 0 blocks of water and 16 residues with 159 atoms\r\n",
      "\r\n",
      "  chain  #res #atoms\r\n",
      "  1 'B'    16    159  \r\n",
      "\r\n",
      "All occupancies are one\r\n",
      "Opening force field file /opt/gromacs/2020.6/share/gromacs/top/amber99sb-ildn.ff/atomtypes.atp\r\n",
      "Reading residue database... (Amber99sb-ildn)\r\n",
      "Opening force field file /opt/gromacs/2020.6/share/gromacs/top/amber99sb-ildn.ff/aminoacids.rtp\r\n",
      "Opening force field file /opt/gromacs/2020.6/share/gromacs/top/amber99sb-ildn.ff/dna.rtp\r\n",
      "Opening force field file /opt/gromacs/2020.6/share/gromacs/top/amber99sb-ildn.ff/rna.rtp\r\n",
      "Opening force field file /opt/gromacs/2020.6/share/gromacs/top/amber99sb-ildn.ff/aminoacids.hdb\r\n",
      "Opening force field file /opt/gromacs/2020.6/share/gromacs/top/amber99sb-ildn.ff/dna.hdb\r\n",
      "Opening force field file /opt/gromacs/2020.6/share/gromacs/top/amber99sb-ildn.ff/rna.hdb\r\n",
      "Opening force field file /opt/gromacs/2020.6/share/gromacs/top/amber99sb-ildn.ff/aminoacids.n.tdb\r\n",
      "Opening force field file /opt/gromacs/2020.6/share/gromacs/top/amber99sb-ildn.ff/aminoacids.c.tdb\r\n",
      "\r\n",
      "Back Off! I just backed up penetratin.top to ./#penetratin.top.2#\r\n",
      "Processing chain 1 'B' (159 atoms, 16 residues)\r\n",
      "Identified residue ARG43 as a starting terminus.\r\n",
      "Identified residue LYS58 as a ending terminus.\r\n",
      "8 out of 8 lines of specbond.dat converted successfully\r\n",
      "Opening force field file /opt/gromacs/2020.6/share/gromacs/top/amber99sb-ildn.ff/aminoacids.arn\r\n",
      "Opening force field file /opt/gromacs/2020.6/share/gromacs/top/amber99sb-ildn.ff/dna.arn\r\n",
      "Opening force field file /opt/gromacs/2020.6/share/gromacs/top/amber99sb-ildn.ff/rna.arn\r\n",
      "Checking for duplicate atoms....\r\n",
      "Generating any missing hydrogen atoms and/or adding termini.\r\n",
      "Now there are 16 residues with 334 atoms\r\n",
      "Making bonds...\r\n",
      "Number of bonds was 339, now 338\r\n",
      "Generating angles, dihedrals and pairs...\r\n",
      "Before cleaning: 880 pairs\r\n",
      "Before cleaning: 902 dihedrals\r\n",
      "Keeping all generated dihedrals\r\n",
      "Making cmap torsions...\r\n",
      "There are  902 dihedrals,   69 impropers,  610 angles\r\n",
      "           871 pairs,      338 bonds and     0 virtual sites\r\n",
      "Total mass 2253.840 a.m.u.\r\n",
      "Total charge 7.000 e\r\n",
      "Writing topology\r\n",
      "\r\n",
      "Back Off! I just backed up penetratin_posre.itp to ./#penetratin_posre.itp.1#\r\n",
      "\r\n",
      "Writing coordinate file...\r\n",
      "\r\n",
      "Back Off! I just backed up penetratin.gro to ./#penetratin.gro.1#\r\n",
      "\t\t--------- PLEASE NOTE ------------\r\n",
      "You have successfully generated a topology from: data/penetratin.pdb.\r\n",
      "The Amber99sb-ildn force field and the tip3p water model are used.\r\n",
      "\t\t--------- ETON ESAELP ------------\r\n",
      "\r\n",
      "GROMACS reminds you: \"X-rays will prove to be a hoax.\" (Lord Kelvin, while president of the Royal Society)\r\n",
      "\r\n"
     ]
    }
   ],
   "source": [
    "!gmx pdb2gmx -f data/penetratin.pdb -i penetratin_posre.itp -p penetratin.top -o penetratin.gro -ff amber99sb-ildn  -ignh -heavyh -water tip3p"
   ]
  },
  {
   "cell_type": "markdown",
   "metadata": {},
   "source": [
    "Let's have a look at all the options of the program: \n",
    "\n",
    "- **ff** : forcefield -> The force field will contain the information that will be written to the topology. This is a very important choice! You should always read thoroughly about each force field and decide which is most applicable to your situation.\n",
    "\n",
    "- **water**: water model chosen among TIP3P, TIP4P, TIP4P-Ew, TIP5P, SPC, SPC/E\n",
    "\n",
    "- **ignh**: it stands for “ignore hydrogens”, so it will ignore all the hydrogens in the input coordinate file\n",
    "\n",
    "- **heavyh**: makes hydrogen atoms heavy to reduce oscillation frequency"
   ]
  },
  {
   "cell_type": "markdown",
   "metadata": {
    "slideshow": {
     "slide_type": "subslide"
    }
   },
   "source": [
    "Have a look at the generated files:"
   ]
  },
  {
   "cell_type": "code",
   "execution_count": 11,
   "metadata": {
    "slideshow": {
     "slide_type": "-"
    }
   },
   "outputs": [
    {
     "name": "stdout",
     "output_type": "stream",
     "text": [
      "totale 188\r\n",
      "-rw-rw-r-- 1 lorenzo lorenzo 41189 nov 22 17:44 06-Gromacs.ipynb\r\n",
      "-rw-rw-r-- 1 lorenzo lorenzo  1453 nov 22 17:45 calpha.pdb\r\n",
      "drwx------ 2 lorenzo lorenzo  4096 set  9 12:48 data\r\n",
      "drwx------ 2 lorenzo lorenzo  4096 set  9 12:48 examples\r\n",
      "drwx------ 2 lorenzo lorenzo  4096 nov 22 15:16 imgs\r\n",
      "-rw-rw-r-- 1 lorenzo lorenzo  7464 nov 22 17:45 index.ndx\r\n",
      "drwxrwxr-x 2 lorenzo lorenzo  4096 nov 22 15:16 materials\r\n",
      "-rw-rw-r-- 1 lorenzo lorenzo 15114 nov 22 17:46 penetratin.gro\r\n",
      "-rw-rw-r-- 1 lorenzo lorenzo  5202 nov 22 17:46 penetratin_posre.itp\r\n",
      "-rw-rw-r-- 1 lorenzo lorenzo 94190 nov 22 17:46 penetratin.top\r\n"
     ]
    }
   ],
   "source": [
    "!ls -l"
   ]
  },
  {
   "cell_type": "markdown",
   "metadata": {},
   "source": [
    "Have a look at the *.gro file with a text editor to see the differences with the pdb file!"
   ]
  },
  {
   "cell_type": "markdown",
   "metadata": {
    "slideshow": {
     "slide_type": "subslide"
    }
   },
   "source": [
    "## Define the simulation box"
   ]
  },
  {
   "cell_type": "markdown",
   "metadata": {},
   "source": [
    "Now, we defined the parameters and water model to be used in the simulation. The next step in the preparation of the system is to actually put the system in a simulation box with the appropriate shape and dimension.\n",
    "\n",
    "There are several possible shapes of the unit cell, such as the cubic or the dodecahedron. The dodecahedron is sometimes chosen to simulate globular systems, since its volume is ~71% of the cubic box with the same distance between periodic distance.\n",
    "\n",
    "The volume of the box must be optimized in real-life problems because it allows to lower the computational cost of the simulation. Indeed, as we will see in the following steps, the box will be filled with water molecules and ions, thus increasing exponentially the number of atoms in the system.\n",
    "\n",
    "<div class=\"alert alert-block alert-info\"><b>Which terms of the potential energy definition are linked to the exponential growth of the computational cost with the number of atoms in the system?</b></div>"
   ]
  },
  {
   "cell_type": "markdown",
   "metadata": {},
   "source": [
    "In this tutorial, we will put our protein in the center of a cubic box big enough to have a minimum distance between the protein and the box wall of 0.8 nm.\n",
    "\n",
    "<center> <div class=\"alert alert-block alert-info\"><b>Is this distance enough to respect the minimum image convention?</b></div>"
   ]
  },
  {
   "cell_type": "markdown",
   "metadata": {
    "slideshow": {
     "slide_type": "subslide"
    }
   },
   "source": [
    "The GROMACS command that allows us to do this operation is:\n",
    "```bash\n",
    "$ gmx editconf -f penetratin.gro -o box.gro -c -d 0.8 -bt cubic \n",
    "```\n",
    "the above command take the atoms in the file `penetratin.gro`, places the origin of the reference system at their center (`-c`), then builds around them a cubic box (`-bt cubic`) with the constraint that the minimum distance between the atoms of the system and the box wall is 0.8 nm (`-d 0.8`).\n",
    "\n",
    "The `editconf` command allows to manipulate the molecular systems is several different ways and it has a lot of different options, some of them are:\n",
    "\n",
    "|Field|Type|Description|\n",
    "|-----|---------|-----------|\n",
    "|-f|.gro, .pdb| Input structure file |\n",
    "|-n|.ndx| Input index file when you want to consider only a subset of the atoms |\n",
    "|-o|.gro, .pdb| Output structure file |\n",
    "|-bt| \\<enum\\> | Box type for -box and -d: triclinic, cubic, dodecahedron, octahedron |\n",
    "|-box| \\<vector\\> | Box vector lengths. E.g. -box 10 5 20 |\n",
    "|-angles| \\<vector\\> | Angles between box vectors. E.g. -angles 90 30 60 |\n",
    "|-d| \\<real\\> | Distance between the solute and the box |\n",
    "|-c| None | Center molecule in box (implied by -box and -d)|\n",
    "|-align|\\<vector\\>| Align to target vector. E.g. -align 1 0 0. NB: you have to tell GROMACS what to align! |\n",
    "|-translate|\\<vector\\>| Translation of the provided vector |\n",
    "|-rotate|\\<vector\\>| Rotation around the X, Y and Z axes in degrees |\n",
    "|-princ| None |  Orient molecule(s) along their principal axes. NB: you have to tell GROMACS what to orient and use to define the principal axis! |"
   ]
  },
  {
   "cell_type": "code",
   "execution_count": 31,
   "metadata": {
    "scrolled": true,
    "slideshow": {
     "slide_type": "subslide"
    }
   },
   "outputs": [
    {
     "name": "stdout",
     "output_type": "stream",
     "text": [
      "                :-) GROMACS - gmx editconf, 2020.6-MODIFIED (-:\r\n",
      "\r\n",
      "                            GROMACS is written by:\r\n",
      "     Emile Apol      Rossen Apostolov      Paul Bauer     Herman J.C. Berendsen\r\n",
      "    Par Bjelkmar      Christian Blau   Viacheslav Bolnykh     Kevin Boyd    \r\n",
      " Aldert van Buuren   Rudi van Drunen     Anton Feenstra       Alan Gray     \r\n",
      "  Gerrit Groenhof     Anca Hamuraru    Vincent Hindriksen  M. Eric Irrgang  \r\n",
      "  Aleksei Iupinov   Christoph Junghans     Joe Jordan     Dimitrios Karkoulis\r\n",
      "    Peter Kasson        Jiri Kraus      Carsten Kutzner      Per Larsson    \r\n",
      "  Justin A. Lemkul    Viveca Lindahl    Magnus Lundborg     Erik Marklund   \r\n",
      "    Pascal Merz     Pieter Meulenhoff    Teemu Murtola       Szilard Pall   \r\n",
      "    Sander Pronk      Roland Schulz      Michael Shirts    Alexey Shvetsov  \r\n",
      "   Alfons Sijbers     Peter Tieleman      Jon Vincent      Teemu Virolainen \r\n",
      " Christian Wennberg    Maarten Wolf      Artem Zhmurov   \r\n",
      "                           and the project leaders:\r\n",
      "        Mark Abraham, Berk Hess, Erik Lindahl, and David van der Spoel\r\n",
      "\r\n",
      "Copyright (c) 1991-2000, University of Groningen, The Netherlands.\r\n",
      "Copyright (c) 2001-2019, The GROMACS development team at\r\n",
      "Uppsala University, Stockholm University and\r\n",
      "the Royal Institute of Technology, Sweden.\r\n",
      "check out http://www.gromacs.org for more information.\r\n",
      "\r\n",
      "GROMACS is free software; you can redistribute it and/or modify it\r\n",
      "under the terms of the GNU Lesser General Public License\r\n",
      "as published by the Free Software Foundation; either version 2.1\r\n",
      "of the License, or (at your option) any later version.\r\n",
      "\r\n",
      "GROMACS:      gmx editconf, version 2020.6-MODIFIED\r\n",
      "Executable:   /opt/gromacs/2020.6/bin/gmx\r\n",
      "Data prefix:  /opt/gromacs/2020.6\r\n",
      "Working dir:  /home/lorenzo/Documenti/GitHub/BiomeccanicaMultiscala/LAB/06-Gromacs\r\n",
      "Command line:\r\n",
      "  gmx editconf -f penetratin.gro -o box.gro -c -d 0.8 -bt cubic\r\n",
      "\r\n",
      "Note that major changes are planned in future for editconf, to improve usability and utility.\r\n",
      "Read 334 atoms\r\n",
      "Volume: 295.75 nm^3, corresponds to roughly 133000 electrons\r\n",
      "No velocities found\r\n",
      "    system size :  2.655  2.778  1.954 (nm)\r\n",
      "    diameter    :  2.977               (nm)\r\n",
      "    center      :  3.502  3.352  5.348 (nm)\r\n",
      "    box vectors :  6.500  6.500  7.000 (nm)\r\n",
      "    box angles  :  90.00  90.00  90.00 (degrees)\r\n",
      "    box volume  : 295.75               (nm^3)\r\n",
      "    shift       : -1.214 -1.064 -3.059 (nm)\r\n",
      "new center      :  2.288  2.288  2.288 (nm)\r\n",
      "new box vectors :  4.577  4.577  4.577 (nm)\r\n",
      "new box angles  :  90.00  90.00  90.00 (degrees)\r\n",
      "new box volume  :  95.88               (nm^3)\r\n",
      "\r\n",
      "GROMACS reminds you: \"Bailed Out Of Edge Synchronization After 10,000 Iterations\" (X/Motif)\r\n",
      "\r\n"
     ]
    }
   ],
   "source": [
    "!gmx editconf -f penetratin.gro -o box.gro -c -d 0.8 -bt cubic"
   ]
  },
  {
   "cell_type": "markdown",
   "metadata": {},
   "source": [
    "If we now check the last line of the new file we can find the box dimensions:"
   ]
  },
  {
   "cell_type": "code",
   "execution_count": 13,
   "metadata": {},
   "outputs": [
    {
     "name": "stdout",
     "output_type": "stream",
     "text": [
      "   4.57693   4.57693   4.57693\r\n"
     ]
    }
   ],
   "source": [
    "!tail -n 1 box.gro"
   ]
  },
  {
   "cell_type": "markdown",
   "metadata": {},
   "source": [
    "We can also check our new system using VMD. Onces you have opened `box.gro` in VMD show the box using the terminal or the Tk console\n",
    "\n",
    "```bash\n",
    "vmd > pbc box\n",
    "```"
   ]
  },
  {
   "cell_type": "markdown",
   "metadata": {
    "slideshow": {
     "slide_type": "subslide"
    }
   },
   "source": [
    "## Solvation of the system"
   ]
  },
  {
   "cell_type": "markdown",
   "metadata": {},
   "source": [
    "Now that the box has been set, we have to introduce the **environment**. We will model the environment as a simple **aqueous system**, but it is possible to use also **different solvents**, provided that good parameters are provided for the species involved. Here, we use an explicit model of water.\n",
    "\n",
    "In the previous laboratory, we have decided to use the TIP3P water model to define the topology of the water molecule. Let's look for a moment at how such water model is defined in the built-in gromacs topologies:"
   ]
  },
  {
   "cell_type": "code",
   "execution_count": 14,
   "metadata": {},
   "outputs": [
    {
     "name": "stdout",
     "output_type": "stream",
     "text": [
      "[ moleculetype ]\n",
      "; molname\tnrexcl\n",
      "SOL\t\t2\n",
      "\n",
      "[ atoms ]\n",
      "; id  at type     res nr  res name  at name  cg nr  charge    mass\n",
      "  1   OW          1       SOL       OW       1      -0.834    16.00000\n",
      "  2   HW          1       SOL       HW1      1       0.417     1.00800\n",
      "  3   HW          1       SOL       HW2      1       0.417     1.00800\n",
      "\n"
     ]
    }
   ],
   "source": [
    "%%bash\n",
    "dd=$(gmx --version | grep \"Data prefix:\" | cut -d \":\" -f 2)\n",
    "cat $dd/share/gromacs/top/amber99sb-ildn.ff/tip3p.itp | head -n 10"
   ]
  },
  {
   "cell_type": "markdown",
   "metadata": {},
   "source": [
    "- the default name, under the **[ moleculetype ]** section is **SOL**. Keep that in mind for a moment;\n",
    "- the water molecule is made of three atoms, one oxygen and two hydrogens. You can observe that the definition of such atoms under the panel **[ atoms ]**. Notice that the two hydrogen are of the same _atom type_, which means that they are modelled with the same parameters. However, two different _atom names_ are present since they represent two atoms of the same \"residue\";\n",
    "- the water \"residue\" is named **SOL**"
   ]
  },
  {
   "cell_type": "markdown",
   "metadata": {
    "slideshow": {
     "slide_type": "subslide"
    }
   },
   "source": [
    "In this topology you can also find the _bond_ and _angle_ paramters:"
   ]
  },
  {
   "cell_type": "code",
   "execution_count": 15,
   "metadata": {},
   "outputs": [
    {
     "name": "stdout",
     "output_type": "stream",
     "text": [
      "\n",
      "[ bonds ]\n",
      "; i     j       funct   length  force_constant\n",
      "1       2       1       0.09572 502416.0   0.09572        502416.0 \n",
      "1       3       1       0.09572 502416.0   0.09572        502416.0 \n",
      "        \n",
      "\n",
      "[ angles ]\n",
      "; i     j       k       funct   angle   force_constant\n",
      "2       1       3       1       104.52  628.02      104.52  628.02  \n",
      "\n"
     ]
    }
   ],
   "source": [
    "%%bash\n",
    "dd=$(gmx --version | grep \"Data prefix:\" | cut -d \":\" -f 2)\n",
    "cat $dd/share/gromacs/top/amber99sb-ildn.ff/tip3p.itp | tail -n 12 | head -n -1"
   ]
  },
  {
   "cell_type": "markdown",
   "metadata": {},
   "source": [
    "Here we can read the parameters to model the bonded interaction between the atoms of the **TIP3P water molecule**.\n",
    "Notice that the two _bond_ parameters are identical since they represent the same bond between hydrogen and oxygen."
   ]
  },
  {
   "cell_type": "markdown",
   "metadata": {
    "slideshow": {
     "slide_type": "subslide"
    }
   },
   "source": [
    "\n",
    "After this initial consideration, we can solvate the system, i.e. fill the box with water. The GROMACS command that allows us to do this operation is:\n",
    "```bash\n",
    "$ gmx solvate -cp box.gro -o solvated.gro -p topol.top [-cs spc216.gro] \n",
    "```\n",
    "The above command take the system contained in the file `box.gro`, fills the unit cell with water molecules avoiding clasches between the inserted molecules and the atoms already present in the system, writes the output file in `solvated.gro`, then counts how many water molecules have been placed and updates the provided topology file (`-p topol.top`). The argument `-cs spc216.gro` in between brackets since it is optional: if nothing is told to GROMACS, it will use this simple equilibrated 3-point solvent model which can be used fro SPC and TIP3P water models. The file `spc216.gro` is present in the built-in gromacs libraries.\n",
    "\n",
    "With the `solvate` command, you can also insert only a shell of water molecules around the protein specifying `-shell <radius>`."
   ]
  },
  {
   "cell_type": "code",
   "execution_count": 32,
   "metadata": {
    "scrolled": true
   },
   "outputs": [
    {
     "name": "stdout",
     "output_type": "stream",
     "text": [
      "                 :-) GROMACS - gmx solvate, 2020.6-MODIFIED (-:\n",
      "\n",
      "                            GROMACS is written by:\n",
      "     Emile Apol      Rossen Apostolov      Paul Bauer     Herman J.C. Berendsen\n",
      "    Par Bjelkmar      Christian Blau   Viacheslav Bolnykh     Kevin Boyd    \n",
      " Aldert van Buuren   Rudi van Drunen     Anton Feenstra       Alan Gray     \n",
      "  Gerrit Groenhof     Anca Hamuraru    Vincent Hindriksen  M. Eric Irrgang  \n",
      "  Aleksei Iupinov   Christoph Junghans     Joe Jordan     Dimitrios Karkoulis\n",
      "    Peter Kasson        Jiri Kraus      Carsten Kutzner      Per Larsson    \n",
      "  Justin A. Lemkul    Viveca Lindahl    Magnus Lundborg     Erik Marklund   \n",
      "    Pascal Merz     Pieter Meulenhoff    Teemu Murtola       Szilard Pall   \n",
      "    Sander Pronk      Roland Schulz      Michael Shirts    Alexey Shvetsov  \n",
      "   Alfons Sijbers     Peter Tieleman      Jon Vincent      Teemu Virolainen \n",
      " Christian Wennberg    Maarten Wolf      Artem Zhmurov   \n",
      "                           and the project leaders:\n",
      "        Mark Abraham, Berk Hess, Erik Lindahl, and David van der Spoel\n",
      "\n",
      "Copyright (c) 1991-2000, University of Groningen, The Netherlands.\n",
      "Copyright (c) 2001-2019, The GROMACS development team at\n",
      "Uppsala University, Stockholm University and\n",
      "the Royal Institute of Technology, Sweden.\n",
      "check out http://www.gromacs.org for more information.\n",
      "\n",
      "GROMACS is free software; you can redistribute it and/or modify it\n",
      "under the terms of the GNU Lesser General Public License\n",
      "as published by the Free Software Foundation; either version 2.1\n",
      "of the License, or (at your option) any later version.\n",
      "\n",
      "GROMACS:      gmx solvate, version 2020.6-MODIFIED\n",
      "Executable:   /opt/gromacs/2020.6/bin/gmx\n",
      "Data prefix:  /opt/gromacs/2020.6\n",
      "Working dir:  /home/lorenzo/Documenti/GitHub/BiomeccanicaMultiscala/LAB/06-Gromacs\n",
      "Command line:\n",
      "  gmx solvate -cp box.gro -o solvated.gro -p penetratin.top\n",
      "\n",
      "Reading solute configuration\n",
      "Reading solvent configuration\n",
      "\n",
      "Initialising inter-atomic distances...\n",
      "\n",
      "WARNING: Masses and atomic (Van der Waals) radii will be guessed\n",
      "         based on residue and atom names, since they could not be\n",
      "         definitively assigned from the information in your input\n",
      "         files. These guessed numbers might deviate from the mass\n",
      "         and radius of the atom type. Please check the output\n",
      "         files if necessary.\n",
      "\n",
      "NOTE: From version 5.0 gmx solvate uses the Van der Waals radii\n",
      "from the source below. This means the results may be different\n",
      "compared to previous GROMACS versions.\n",
      "\n",
      "++++ PLEASE READ AND CITE THE FOLLOWING REFERENCE ++++\n",
      "A. Bondi\n",
      "van der Waals Volumes and Radii\n",
      "J. Phys. Chem. 68 (1964) pp. 441-451\n",
      "-------- -------- --- Thank You --- -------- --------\n",
      "\n",
      "Generating solvent configuration\n",
      "Will generate new solvent configuration of 3x3x3 boxes\n",
      "Solvent box contains 11565 atoms in 3855 residues\n",
      "Removed 2166 solvent atoms due to solvent-solvent overlap\n",
      "Removed 354 solvent atoms due to solute-solvent overlap\n",
      "Sorting configuration\n",
      "Found 1 molecule type:\n",
      "    SOL (   3 atoms):  3015 residues\n",
      "Generated solvent containing 9045 atoms in 3015 residues\n",
      "Writing generated configuration to solvated.gro\n",
      "\n",
      "Output configuration contains 9379 atoms in 3031 residues\n",
      "Volume                 :     95.8788 (nm^3)\n",
      "Density                :     982.698 (g/l)\n",
      "Number of solvent molecules:   3015   \n",
      "\n",
      "Processing topology\n",
      "Adding line for 3015 solvent molecules with resname (SOL) to topology file (penetratin.top)\n",
      "\n",
      "Back Off! I just backed up penetratin.top to ./#penetratin.top.3#\n",
      "\n",
      "GROMACS reminds you: \"Research ! A mere excuse for idleness; it has never achieved, and will never achieve any results of the slightest value.\" (Benjamin Jowett, British theologian, 1817-93)\n",
      "\n"
     ]
    }
   ],
   "source": [
    "!gmx solvate -cp box.gro -o solvated.gro -p penetratin.top"
   ]
  },
  {
   "cell_type": "markdown",
   "metadata": {
    "slideshow": {
     "slide_type": "subslide"
    }
   },
   "source": [
    "Let's look at the output file and the updated topology:"
   ]
  },
  {
   "cell_type": "code",
   "execution_count": 19,
   "metadata": {},
   "outputs": [
    {
     "name": "stdout",
     "output_type": "stream",
     "text": [
      " 3067SOL    HW2 9361   4.102   4.255   3.922\r\n",
      " 3068SOL     OW 9362   4.627   3.810   3.857\r\n",
      " 3068SOL    HW1 9363   4.678   3.811   3.771\r\n",
      " 3068SOL    HW2 9364   4.683   3.768   3.928\r\n",
      " 3069SOL     OW 9365   3.987   4.050   4.444\r\n",
      " 3069SOL    HW1 9366   3.908   4.101   4.410\r\n",
      " 3069SOL    HW2 9367   3.978   4.035   4.542\r\n",
      " 3070SOL     OW 9368   3.799   4.069   3.757\r\n",
      " 3070SOL    HW1 9369   3.707   4.041   3.728\r\n",
      " 3070SOL    HW2 9370   3.830   4.146   3.701\r\n",
      " 3071SOL     OW 9371   3.796   3.890   4.042\r\n",
      " 3071SOL    HW1 9372   3.779   3.973   3.988\r\n",
      " 3071SOL    HW2 9373   3.886   3.853   4.020\r\n",
      " 3072SOL     OW 9374   4.318   4.469   4.376\r\n",
      " 3072SOL    HW1 9375   4.368   4.554   4.357\r\n",
      " 3072SOL    HW2 9376   4.230   4.471   4.328\r\n",
      " 3073SOL     OW 9377   4.152   4.148   4.244\r\n",
      " 3073SOL    HW1 9378   4.182   4.076   4.182\r\n",
      " 3073SOL    HW2 9379   4.113   4.108   4.327\r\n",
      "   4.57693   4.57693   4.57693\r\n"
     ]
    }
   ],
   "source": [
    "!tail -n 20 solvated.gro"
   ]
  },
  {
   "cell_type": "code",
   "execution_count": 21,
   "metadata": {},
   "outputs": [
    {
     "name": "stdout",
     "output_type": "stream",
     "text": [
      "\r\n",
      "[ molecules ]\r\n",
      "; Compound        #mols\r\n",
      "Protein_chain_B     1\r\n",
      "SOL              3015\r\n"
     ]
    }
   ],
   "source": [
    "!tail penetratin.top -n 5"
   ]
  },
  {
   "cell_type": "markdown",
   "metadata": {
    "slideshow": {
     "slide_type": "subslide"
    }
   },
   "source": [
    "<div class=\"alert alert-block alert-warning\"><b>Important observation</b><br>As you have seen, GROMACS have updated the topology file to take count of the modification that we have done on the system. The old topology file is not lost, it is saved as #topol.top.1#.</div>\n",
    "<br>\n",
    "<div class=\"alert alert-block alert-danger\"><b>Important observation</b><br> GROMACS is a fantastic computer program, but still a computer program. This means that it does what you tell him. If you repeat the command above two times, GROMACS will take the empty box, fill it and update the topol.top file two times. This will result in a topology file containing double the water that is actually present in the solvated.gro file. This will generate a <b>Fatal Error</b> in the following steps.</div>"
   ]
  },
  {
   "cell_type": "markdown",
   "metadata": {
    "slideshow": {
     "slide_type": "subslide"
    }
   },
   "source": [
    "### Influence of the box shape and dimension on system size"
   ]
  },
  {
   "cell_type": "markdown",
   "metadata": {},
   "source": [
    "We have told you before that the dodecahedric box allows to reduce the volume of the system and reduce the computational cost of the simulation. Let's now look in practice at the amount of water molecules that would have been added using a dodecahedric box.\n",
    "\n",
    "Since we do not wat to mess with the filed produced until now, let's move everything in a folder."
   ]
  },
  {
   "cell_type": "code",
   "execution_count": 25,
   "metadata": {},
   "outputs": [
    {
     "name": "stdout",
     "output_type": "stream",
     "text": [
      "06-Gromacs.ipynb\n",
      "calpha.pdb\n",
      "cubic_box\n",
      "data\n",
      "examples\n",
      "imgs\n",
      "index.ndx\n",
      "materials\n",
      "penetratin.gro\n",
      "penetratin_posre.itp\n",
      "penetratin.top\n",
      "#penetratin.top.1#\n"
     ]
    }
   ],
   "source": [
    "%%bash\n",
    "ls"
   ]
  },
  {
   "cell_type": "code",
   "execution_count": 35,
   "metadata": {},
   "outputs": [
    {
     "name": "stderr",
     "output_type": "stream",
     "text": [
      "mv: impossibile eseguire stat di 'box.gro': File o directory non esistente\n",
      "mv: impossibile eseguire stat di 'solvated.gro': File o directory non esistente\n",
      "mv: impossibile eseguire stat di '#penetratin.top.1#': File o directory non esistente\n"
     ]
    },
    {
     "name": "stdout",
     "output_type": "stream",
     "text": [
      "\n",
      "[ molecules ]\n",
      "; Compound        #mols\n",
      "Protein_chain_B     1\n",
      "SOL              2104\n"
     ]
    }
   ],
   "source": [
    "%%bash\n",
    "# backup everything in a folder \n",
    "mkdir -p cubic_box\n",
    "mv box.gro solvated.gro penetratin.top \\#penetratin.top.1# cubic_box/\n",
    "\n",
    "# restore the original topology (only protein and not water inside) -> remove last line of the topology (SOL)\n",
    "cat cubic_box/penetratin.top | head -n -1 >penetratin.top\n",
    "\n",
    "# now, repeat everything with different box\n",
    "gmx editconf -f penetratin.gro -o dodecahedron.gro -c -d 0.8 -bt dodecahedron > /dev/null 2>&1\n",
    "gmx solvate -cp dodecahedron.gro -o dodecahedron_solvated.gro -p penetratin.top > /dev/null 2>&1\n",
    "\n",
    "# Let's look at the new topology\n",
    "tail penetratin.top -n 5"
   ]
  },
  {
   "cell_type": "code",
   "execution_count": null,
   "metadata": {},
   "outputs": [],
   "source": []
  }
 ],
 "metadata": {
  "celltoolbar": "Slideshow",
  "colab": {
   "provenance": []
  },
  "kernelspec": {
   "display_name": "Python 3 (ipykernel)",
   "language": "python",
   "name": "python3"
  },
  "language_info": {
   "codemirror_mode": {
    "name": "ipython",
    "version": 3
   },
   "file_extension": ".py",
   "mimetype": "text/x-python",
   "name": "python",
   "nbconvert_exporter": "python",
   "pygments_lexer": "ipython3",
   "version": "3.10.6"
  },
  "toc": {
   "base_numbering": 1,
   "nav_menu": {},
   "number_sections": true,
   "sideBar": true,
   "skip_h1_title": false,
   "title_cell": "Table of Contents",
   "title_sidebar": "Contents",
   "toc_cell": false,
   "toc_position": {},
   "toc_section_display": true,
   "toc_window_display": false
  },
  "vscode": {
   "interpreter": {
    "hash": "a04d7f76d528f9c131396aa3849d34d95981463625d620e907bc7853b8ff2908"
   }
  }
 },
 "nbformat": 4,
 "nbformat_minor": 1
}
