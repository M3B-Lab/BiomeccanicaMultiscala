{
 "cells": [
  {
   "cell_type": "markdown",
   "metadata": {
    "slideshow": {
     "slide_type": "slide"
    }
   },
   "source": [
    "<a href=\"https://colab.research.google.com/github/lorenzopallante/BiomeccanicaMultiscala/blob/main/LAB/06-Gromacs/06-Gromacs.ipynb\" target=\"_parent\"><img src=\"https://colab.research.google.com/assets/colab-badge.svg\" alt=\"Open In Colab\"/></a>"
   ]
  },
  {
   "cell_type": "markdown",
   "metadata": {
    "slideshow": {
     "slide_type": "-"
    }
   },
   "source": [
    "# Laboratorio 6\n",
    "**Introduction to GROMACS**\n",
    "\n",
    "\n",
    "Authors:\n",
    "    \n",
    "- Prof. Marco A. Deriu (marco.deriu@polito.it)\n",
    "- Lorenzo Pallante (lorenzo.pallante@polito.it)\n",
    "- Eric A. Zizzi (eric.zizzi@polito.it)\n",
    "- Marcello Miceli (marcello.miceli@polito.it)\n",
    "- Marco Cannariato (marco.cannariato@polito.it)"
   ]
  },
  {
   "cell_type": "markdown",
   "metadata": {
    "slideshow": {
     "slide_type": "slide"
    }
   },
   "source": [
    "# Table of Contents\n",
    "\n",
    "3. Gromacs Setup \n",
    "4. Molecular Dynamics (MD) Flow chart\n",
    "5. GROMACS 1 (make_ndx, editconf, pdb2gmx)\n",
    "\n",
    "**Learning outcomes:** \n",
    "- how to install gromacs and lauch it\n",
    "- General flow chart of a MD simulation\n",
    "- GROMACS: create an index file, generate a simulation box, create gmx starting files"
   ]
  },
  {
   "cell_type": "markdown",
   "metadata": {
    "id": "owpIBUkna5Ow",
    "slideshow": {
     "slide_type": "slide"
    }
   },
   "source": [
    "# Setup"
   ]
  },
  {
   "cell_type": "markdown",
   "metadata": {
    "slideshow": {
     "slide_type": "-"
    }
   },
   "source": [
    "If you don't have GROMACS and NGLView installed on your machine or if you are using Google COLAB, run the following line"
   ]
  },
  {
   "cell_type": "code",
   "execution_count": 1,
   "metadata": {
    "cellView": "form",
    "executionInfo": {
     "elapsed": 16217,
     "status": "ok",
     "timestamp": 1662116875669,
     "user": {
      "displayName": "Lorenzo Pallante",
      "userId": "15223561348967771574"
     },
     "user_tz": -120
    },
    "id": "B8_MjDYnhDwh",
    "slideshow": {
     "slide_type": "-"
    }
   },
   "outputs": [],
   "source": [
    "#@title Installing GROMACS\n",
    "!apt install gromacs &> /dev/null"
   ]
  },
  {
   "cell_type": "code",
   "execution_count": 2,
   "metadata": {
    "cellView": "form",
    "executionInfo": {
     "elapsed": 16985,
     "status": "ok",
     "timestamp": 1662116892987,
     "user": {
      "displayName": "Lorenzo Pallante",
      "userId": "15223561348967771574"
     },
     "user_tz": -120
    },
    "id": "C2hA7f_MEF5K",
    "slideshow": {
     "slide_type": "-"
    }
   },
   "outputs": [],
   "source": [
    "# ONLY IF YOU ARE USING COLAB EXECUTE THIS CELL (to install nglview)\n",
    "!pip install nglview\n",
    "from google.colab import output\n",
    "output.enable_custom_widget_manager()"
   ]
  },
  {
   "cell_type": "markdown",
   "metadata": {},
   "source": [
    "Clone files form GitHub if you are using COLAB"
   ]
  },
  {
   "cell_type": "code",
   "execution_count": null,
   "metadata": {},
   "outputs": [],
   "source": [
    "# IF YOU ARE USING COLAB EXECUTE THIS CELL (to copy over data repository)\n",
    "!git clone https://github.com/lorenzopallante/BiomeccanicaMultiscala.git\n",
    "!mv BiomeccanicaMultiscala/LAB/06-Gromacs/* "
   ]
  },
  {
   "cell_type": "markdown",
   "metadata": {
    "id": "D6nSkKIS8r53",
    "slideshow": {
     "slide_type": "slide"
    }
   },
   "source": [
    "# Introduction"
   ]
  },
  {
   "cell_type": "markdown",
   "metadata": {
    "id": "ssFzV4Bb85v5"
   },
   "source": [
    "**GROMACS is a major free, open-source, and fast code developed for Molecular Dynamics (MD) simulations**. Its continuous updates (1 major release/year), speed, efficiency and flexibility, along with the inbuilt availability of force fields specific for proteins, make it one of the most popular choices for biomolecular simulations.\n",
    "(http://www.gromacs.org/).\n",
    "\n",
    "Complete **GROMACS tutorial** available at: http://www.mdtutorials.com/gmx/\n",
    "\n",
    "To see what gromacs version is installed on your PC:"
   ]
  },
  {
   "cell_type": "code",
   "execution_count": 2,
   "metadata": {
    "colab": {
     "base_uri": "https://localhost:8080/"
    },
    "id": "QiftsBpN7raV",
    "outputId": "fb7e2b89-2cfa-43bb-8613-cb93316db266",
    "scrolled": true
   },
   "outputs": [
    {
     "name": "stdout",
     "output_type": "stream",
     "text": [
      "                     :-) GROMACS - gmx, 2020.6-MODIFIED (-:\r\n",
      "\r\n",
      "                            GROMACS is written by:\r\n",
      "     Emile Apol      Rossen Apostolov      Paul Bauer     Herman J.C. Berendsen\r\n",
      "    Par Bjelkmar      Christian Blau   Viacheslav Bolnykh     Kevin Boyd    \r\n",
      " Aldert van Buuren   Rudi van Drunen     Anton Feenstra       Alan Gray     \r\n",
      "  Gerrit Groenhof     Anca Hamuraru    Vincent Hindriksen  M. Eric Irrgang  \r\n",
      "  Aleksei Iupinov   Christoph Junghans     Joe Jordan     Dimitrios Karkoulis\r\n",
      "    Peter Kasson        Jiri Kraus      Carsten Kutzner      Per Larsson    \r\n",
      "  Justin A. Lemkul    Viveca Lindahl    Magnus Lundborg     Erik Marklund   \r\n",
      "    Pascal Merz     Pieter Meulenhoff    Teemu Murtola       Szilard Pall   \r\n",
      "    Sander Pronk      Roland Schulz      Michael Shirts    Alexey Shvetsov  \r\n",
      "   Alfons Sijbers     Peter Tieleman      Jon Vincent      Teemu Virolainen \r\n",
      " Christian Wennberg    Maarten Wolf      Artem Zhmurov   \r\n",
      "                           and the project leaders:\r\n",
      "        Mark Abraham, Berk Hess, Erik Lindahl, and David van der Spoel\r\n",
      "\r\n",
      "Copyright (c) 1991-2000, University of Groningen, The Netherlands.\r\n",
      "Copyright (c) 2001-2019, The GROMACS development team at\r\n",
      "Uppsala University, Stockholm University and\r\n",
      "the Royal Institute of Technology, Sweden.\r\n",
      "check out http://www.gromacs.org for more information.\r\n",
      "\r\n",
      "GROMACS is free software; you can redistribute it and/or modify it\r\n",
      "under the terms of the GNU Lesser General Public License\r\n",
      "as published by the Free Software Foundation; either version 2.1\r\n",
      "of the License, or (at your option) any later version.\r\n",
      "\r\n",
      "GROMACS:      gmx, version 2020.6-MODIFIED\r\n",
      "Executable:   /opt/gromacs/2020.6/bin/gmx\r\n",
      "Data prefix:  /opt/gromacs/2020.6\r\n",
      "Working dir:  /home/lorenzo/Documenti/GitHub/BiomeccanicaMultiscala/LAB/06-Gromacs\r\n",
      "Command line:\r\n",
      "  gmx -version\r\n",
      "\r\n",
      "GROMACS version:    2020.6-MODIFIED\r\n",
      "This program has been built from source code that has been altered and does not match the code released as part of the official GROMACS version 2020.6-MODIFIED. If you did not intend to use an altered GROMACS version, make sure to download an intact source distribution and compile that before proceeding.\r\n",
      "If you have modified the source code, you are strongly encouraged to set your custom version suffix (using -DGMX_VERSION_STRING_OF_FORK) which will can help later with scientific reproducibility but also when reporting bugs.\r\n",
      "Release checksum: 2f568d8884e039acbc6b68722432516e0628be00c847969b7c905c8b53ef826f\r\n",
      "Computed checksum: 8678ccd3b3c0029b47532bc635979a3c09e4a8ee0d5e359bad0bdac6e9f39cc5\r\n",
      "Precision:          single\r\n",
      "Memory model:       64 bit\r\n",
      "MPI library:        thread_mpi\r\n",
      "OpenMP support:     enabled (GMX_OPENMP_MAX_THREADS = 64)\r\n",
      "GPU support:        CUDA\r\n",
      "SIMD instructions:  AVX2_256\r\n",
      "FFT library:        fftw-3.3.8-sse2-avx-avx2-avx2_128\r\n",
      "RDTSCP usage:       enabled\r\n",
      "TNG support:        enabled\r\n",
      "Hwloc support:      hwloc-1.11.6\r\n",
      "Tracing support:    disabled\r\n",
      "C compiler:         /usr/bin/cc GNU 7.5.0\r\n",
      "C compiler flags:   -mavx2 -mfma -fexcess-precision=fast -funroll-all-loops -fopenmp -O3 -DNDEBUG\r\n",
      "C++ compiler:       /usr/bin/c++ GNU 7.5.0\r\n",
      "C++ compiler flags: -mavx2 -mfma -fexcess-precision=fast -funroll-all-loops -fopenmp -O3 -DNDEBUG\r\n",
      "CUDA compiler:      /usr/local/cuda/bin/nvcc nvcc: NVIDIA (R) Cuda compiler driver;Copyright (c) 2005-2019 NVIDIA Corporation;Built on Wed_Oct_23_19:24:38_PDT_2019;Cuda compilation tools, release 10.2, V10.2.89\r\n",
      "CUDA compiler flags:-gencode;arch=compute_30,code=sm_30;-gencode;arch=compute_35,code=sm_35;-gencode;arch=compute_37,code=sm_37;-gencode;arch=compute_50,code=sm_50;-gencode;arch=compute_52,code=sm_52;-gencode;arch=compute_60,code=sm_60;-gencode;arch=compute_61,code=sm_61;-gencode;arch=compute_70,code=sm_70;-gencode;arch=compute_35,code=compute_35;-gencode;arch=compute_50,code=compute_50;-gencode;arch=compute_52,code=compute_52;-gencode;arch=compute_60,code=compute_60;-gencode;arch=compute_61,code=compute_61;-gencode;arch=compute_70,code=compute_70;-gencode;arch=compute_75,code=compute_75;-use_fast_math;-D_FORCE_INLINES;-mavx2 -mfma -fexcess-precision=fast -funroll-all-loops -fopenmp -O3 -DNDEBUG\r\n",
      "CUDA driver:        11.60\r\n",
      "CUDA runtime:       10.20\r\n",
      "\r\n"
     ]
    }
   ],
   "source": [
    "!gmx -version"
   ]
  },
  {
   "cell_type": "markdown",
   "metadata": {
    "id": "cbSAT3zW9gLE",
    "slideshow": {
     "slide_type": "subslide"
    }
   },
   "source": [
    "All gromacs commands can be used with the syntax:\n",
    "\n",
    "`\n",
    "    gmx <command>\n",
    "`\n",
    "\n",
    "And all the commands have a help message that can be displayed using the option “-h”, e.g.:\n",
    "\n",
    "`\n",
    "    gmx pdb2gmx -h    \n",
    "`\n",
    "\n",
    "For basic and advanced GROMACS tutorial, please visit: http://www.mdtutorials.com/gmx/\n"
   ]
  },
  {
   "cell_type": "markdown",
   "metadata": {
    "id": "dCVxuTS29o5b",
    "slideshow": {
     "slide_type": "subslide"
    }
   },
   "source": [
    "## Files and suggested directory tree\n",
    "You will need the following files to run a simulation:\n",
    ">1. Atom coordinates: *.pdb (or *.gro)\n",
    ">2. Topology file: *.top\n",
    ">3. MD parameters: *.mdp"
   ]
  },
  {
   "cell_type": "markdown",
   "metadata": {
    "slideshow": {
     "slide_type": "subslide"
    }
   },
   "source": [
    "**1. PDB**\n",
    "- coordinates of atoms in the x,y,z space\n",
    "- see also the lesson *03-Intro_LinuxBash* for further info"
   ]
  },
  {
   "cell_type": "markdown",
   "metadata": {},
   "source": [
    "![title](imgs/pdb.png)"
   ]
  },
  {
   "cell_type": "markdown",
   "metadata": {
    "slideshow": {
     "slide_type": "subslide"
    }
   },
   "source": [
    "**2. TOP**\n",
    "- topology of the systems, i.e. bonds, angles, diehedrals, non-bonded interactios and relative parameters \n",
    "- generated by GROMACS once you select the forcefield (or made by yourself when you're a pro!)\n"
   ]
  },
  {
   "cell_type": "markdown",
   "metadata": {},
   "source": [
    "![top](imgs/top.png)"
   ]
  },
  {
   "cell_type": "markdown",
   "metadata": {
    "slideshow": {
     "slide_type": "subslide"
    }
   },
   "source": [
    "**3. MDP**\n",
    "- simulation parameters, such as integration time step, simulation duration, cut-off, temperature and pressure couplings, etc.."
   ]
  },
  {
   "cell_type": "markdown",
   "metadata": {},
   "source": [
    "![mdp](imgs/mdp.png)"
   ]
  },
  {
   "cell_type": "markdown",
   "metadata": {
    "slideshow": {
     "slide_type": "subslide"
    }
   },
   "source": [
    "*We suggest you create a new folder for each simulation you run, put all the necessary files into the simulation folder itself, and let GROMACS write into that same folder.* \n",
    "\n",
    "<div class=\"alert alert-block alert-warning\"> \n",
    "\n",
    "Keep in mind that GROMACS is a **command-line program**: \n",
    "    \n",
    "if you don’t specify the full paths to the required input files, but only the file name (example call: $ gmx make_ndx -s struct.tpr -o index.ndx ), GROMACS will expect the input file (struct.tpr) to be in the folder you’re calling it from, and will write the output file (index.ndx) into the same current folder. If struct.tpr is not in the current folder, GROMACS will throw an error and fail! GROMACS error messages are pretty explicit, so chances are READING THE ERROR is enough to troubleshoot most issues (e.g. if a required file is missing).\n",
    "\n",
    "<div/>"
   ]
  },
  {
   "cell_type": "markdown",
   "metadata": {
    "id": "2zYZ3tLK-VuI",
    "slideshow": {
     "slide_type": "subslide"
    }
   },
   "source": [
    "## Molecule: Cell-Penetrating Peptide\n",
    "\n",
    "The discovery of Cell-Penetrating Peptides (CPPs) represents an important breakthrough for the delivery of large cargo molecules or nanoparticles for several clinical applications. A main feature of CPPs is the ability to\n",
    "penetrate the cell membrane at low micromolar concentrations in vivo and in vitro, without binding any chiralreceptors and without causing significant membrane damage. This ability offers significant therapeutic potential,\n",
    "as targeting areas normally difficult to access for drugs.\n",
    "TAT peptide and Drosophila Antennapedia homeodomain-derived penetratin peptide (pAntp) are the most\n",
    "extensively studied CPPs. In particular, the pAntp is a 16-residues long cationic peptide derived from the third\n",
    "helix of the homeodomain of the Drosohila transcription factor Antennapedia. This amphipatic CPP, largely\n",
    "unstructured in solution, is positively charged at neutral pH (since it contains four lysine and three arginine\n",
    "residues). Interestingly, the pAntp is able to cross biological membranes and enter a hydrophobic environment\n",
    "upon interaction with negatively-charged molecules, like phosphatic acid (PA) or phosphatidylserine (PS).\n",
    "However, mechanisms by which pAntp comes into the cells have not been completely understood. Proposed\n",
    "mechanisms of pAntp cellular uptake hypothesize direct crossing of the peptide through the membrane at low\n",
    "peptide concentrations (1μM) and an endocytotic pathway at high concentrations (10μM). Several studies have\n",
    "suggested that pAntp amphiphilicity may not be enough to drive the membrane penetration, indicating instead\n",
    "tryptophan as key player. Replacement of thryptophan by phenylanine resulted in a loss of penetration activity\n",
    "when interacting with membranes and bicelles. Moreover, a recent computational work has characterized the\n",
    "binding mode of pAntp-DPPC bilayers, proposing arginine, lysine and tryptophan as driving the penetration\n",
    "mechanism.\n",
    "This extraordinary ability of CPPs to penetrate cell membranes has brought to designate them as perfect\n",
    "functionalization molecules for drug delivery systems.\n",
    "For example, pAntp might be employed to decorate Magnetic Nanoparticles (MNPs), thus combining their\n",
    "fascinating physico-chemical properties with a cell-penetrating ability to design novel effective therapeutic\n",
    "strategies as well as innovative biotechnology methodologies. Size, biocompatibility and excellent magnetic\n",
    "properties, have made MAG and Silica-coated MAG the object of a remarkable amount of research in the last\n",
    "decade and numerous biomedical applications have been reported. Recently, MNPs combined with magnetic\n",
    "fields were used to enable cell positioning under non-permissive conditions, local gene therapy and/or\n",
    "optimization of MNP- assisted lentiviral gene transfer.\n",
    "Functionalization strategies comprise grafting with organic molecules, including small organic biomolecules such\n",
    "as CPPs, and/or coating with an inorganic layer (e.g., silica).\n",
    "Design and properties prediction of functionalization strategies may be addressed by computational molecular\n",
    "modelling. In this context, Kubiak-Ossowska and coworkers have recently employed computational modelling\n",
    "to investigate the adsorption of TAT peptides onto three silica surface models. This work has suggested that TAT-\n",
    "Silica adsorption mechanism is driven by electrostatic and hydrophobic interactions mainly involving arginine\n",
    "residues and the nanoparticle surface."
   ]
  },
  {
   "cell_type": "markdown",
   "metadata": {
    "id": "-i1ArCAA-vL9",
    "slideshow": {
     "slide_type": "subslide"
    }
   },
   "source": [
    "## Molecular Dynamics (MD) Simulations\n",
    "\n",
    "Briefly, the general workflow of an MD simulation with GROMACS is\n",
    "divided in the following steps (see also “MD_FlowChart.pdf”):\n",
    "\n",
    "1. System Preparation\n",
    "> - Retrieve starting structure (e.g. RCSB)\n",
    "> - GROMACS structure conversion (from pdb to gro*)\n",
    ">- Topology (and position restraints) generation\n",
    ">- System box generation and addition of water and ions\n",
    "\n",
    "2. Energy Minimization\n",
    "3. Simulation\n",
    "> - (Equilibration: Molecular Dynamics Simulation normally with position restraints)\n",
    "> - Production: Molecular Dynamics Simulation\n",
    "\n",
    "4. Analysis of the Simulation"
   ]
  },
  {
   "cell_type": "markdown",
   "metadata": {
    "slideshow": {
     "slide_type": "subslide"
    }
   },
   "source": [
    "*note that both .gro and .pdb files both contain atomic coordinates and\n",
    "only differ for minor aspects:\n",
    "> - .gro coordinates are in nm, whereas *.pdb coordinates in Å\n",
    "> - .gro file can contain also atoms’ velocities\n",
    "\n",
    "GROMACS can work with both types of files and does not strictly need the .gro file format for most operations.\n",
    "It can be however handy to have a .gro file, for example, to quickly extract the box vector."
   ]
  },
  {
   "cell_type": "markdown",
   "metadata": {
    "id": "ly7hqZlqAcQi",
    "slideshow": {
     "slide_type": "subslide"
    }
   },
   "source": [
    "![MD_FlowChart.jpg](data:image/jpeg;base64,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)"
   ]
  },
  {
   "cell_type": "markdown",
   "metadata": {
    "id": "xxhGnfymAMa2",
    "slideshow": {
     "slide_type": "slide"
    }
   },
   "source": [
    "# STEP 1 – PDB conversion and system preparation"
   ]
  },
  {
   "cell_type": "markdown",
   "metadata": {
    "id": "wNxaUtHnBkoH"
   },
   "source": [
    "The protein of interest for the present tutorial is called penetratin.pdb (already present in the data/ folder)"
   ]
  },
  {
   "cell_type": "markdown",
   "metadata": {
    "id": "-yw0NAyKC5PA",
    "slideshow": {
     "slide_type": "-"
    }
   },
   "source": [
    "Using a visualization software (for example VMD, PyMol, UCSF Chimera, Schrödinger Maestro, MOE, ...) you can view and rotate the structure. Here we will use **NGL View** for semplicity."
   ]
  },
  {
   "cell_type": "code",
   "execution_count": 1,
   "metadata": {
    "slideshow": {
     "slide_type": "-"
    }
   },
   "outputs": [
    {
     "data": {
      "application/vnd.jupyter.widget-view+json": {
       "model_id": "d7a3d3718d9d45c48eb2878ddcab5f56",
       "version_major": 2,
       "version_minor": 0
      },
      "text/plain": []
     },
     "metadata": {},
     "output_type": "display_data"
    },
    {
     "data": {
      "application/vnd.jupyter.widget-view+json": {
       "model_id": "af399145d2c74eecb11885538aebd40d",
       "version_major": 2,
       "version_minor": 0
      },
      "text/plain": [
       "NGLWidget()"
      ]
     },
     "metadata": {},
     "output_type": "display_data"
    }
   ],
   "source": [
    "import nglview as nv\n",
    "from IPython.display import IFrame\n",
    "\n",
    "with open(\"data/penetratin.pdb\") as f:\n",
    "    view = nv.show_file(f, ext=\"pdb\")\n",
    "view"
   ]
  },
  {
   "cell_type": "markdown",
   "metadata": {
    "id": "ZzVSrYfUe7jp",
    "slideshow": {
     "slide_type": "subslide"
    }
   },
   "source": [
    "Let’s now have a look at the actual pdb file, which is nothing more than a text file!"
   ]
  },
  {
   "cell_type": "code",
   "execution_count": 18,
   "metadata": {
    "colab": {
     "base_uri": "https://localhost:8080/",
     "height": 400
    },
    "id": "wmlEVUByfLPs",
    "outputId": "a1683f01-e4c4-4c01-b0f4-daf8a1e3e8dd"
   },
   "outputs": [
    {
     "name": "stdout",
     "output_type": "stream",
     "text": [
      "TITLE     Penetratin-Silica Umbrella simulation in water\r",
      "\r\n",
      "REMARK    THIS IS A SIMULATION BOX\r",
      "\r\n",
      "CRYST1   65.000   65.000   70.000  90.00  90.00  90.00 P 1           1\r",
      "\r\n",
      "MODEL        1\r",
      "\r\n",
      "ATOM      1  N   ARG B  43      27.450  39.330  58.820  1.00  0.00           N\r",
      "\r\n",
      "ATOM      2  H1  ARG B  43      28.202  39.988  58.773  1.00  0.00            \r",
      "\r\n",
      "ATOM      3  H2  ARG B  43      26.584  39.820  58.920  1.00  0.00            \r",
      "\r\n",
      "ATOM      4  H3  ARG B  43      27.584  38.726  59.606  1.00  0.00            \r",
      "\r\n",
      "ATOM      5  CA  ARG B  43      27.420  38.520  57.570  1.00  0.00           C\r",
      "\r\n",
      "ATOM      6  HA  ARG B  43      28.336  38.125  57.501  1.00  0.00            \r",
      "\r\n",
      "ATOM      7  CB  ARG B  43      26.210  37.540  57.770  1.00  0.00           C\r",
      "\r\n",
      "ATOM      8  HB1 ARG B  43      25.409  38.082  58.024  1.00  0.00            \r",
      "\r\n",
      "ATOM      9  HB2 ARG B  43      26.437  36.913  58.515  1.00  0.00            \r",
      "\r\n",
      "ATOM     10  CG  ARG B  43      25.810  36.680  56.560  1.00  0.00           C\r",
      "\r\n",
      "ATOM     11  HG1 ARG B  43      26.609  36.144  56.287  1.00  0.00            \r",
      "\r\n",
      "ATOM     12  HG2 ARG B  43      25.553  37.297  55.816  1.00  0.00            \r",
      "\r\n",
      "ATOM     13  CD  ARG B  43      24.610  35.700  56.850  1.00  0.00           C\r",
      "\r\n",
      "ATOM     14  HD1 ARG B  43      24.839  35.140  57.646  1.00  0.00            \r",
      "\r\n",
      "ATOM     15  HD2 ARG B  43      24.480  35.109  56.054  1.00  0.00            \r",
      "\r\n",
      "ATOM     16  NE  ARG B  43      23.270  36.340  57.140  1.00  0.00           N\r",
      "\r\n",
      "ATOM     17  HE  ARG B  43      23.048  36.531  58.096  1.00  0.00            \r",
      "\r\n",
      "ATOM     18  CZ  ARG B  43      22.360  36.670  56.220  1.00  0.00           C\r",
      "\r\n",
      "ATOM     19  NH1 ARG B  43      22.540  36.840  54.930  1.00  0.00           N\r",
      "\r\n",
      "ATOM     20 1HH1 ARG B  43      23.450  36.721  54.532  1.00  0.00            \r",
      "\r\n",
      "ATOM     21 2HH1 ARG B  43      21.767  37.089  54.346  1.00  0.00            \r",
      "\r\n",
      "ATOM     22  NH2 ARG B  43      21.140  36.930  56.700  1.00  0.00           N\r",
      "\r\n",
      "ATOM     23 1HH2 ARG B  43      20.966  36.870  57.683  1.00  0.00            \r",
      "\r\n",
      "ATOM     24 2HH2 ARG B  43      20.401  37.185  56.076  1.00  0.00            \r",
      "\r\n",
      "ATOM     25  C   ARG B  43      27.280  39.260  56.220  1.00  0.00           C\r",
      "\r\n",
      "ATOM     26  O   ARG B  43      27.950  38.850  55.260  1.00  0.00           O\r",
      "\r\n",
      "ATOM     27  N   GLN B  44      26.610  40.410  56.110  1.00  0.00           N\r",
      "\r\n",
      "ATOM     28  H   GLN B  44      26.173  40.764  56.937  1.00  0.00            \r",
      "\r\n",
      "ATOM     29  CA  GLN B  44      26.460  41.190  54.900  1.00  0.00           C\r",
      "\r\n",
      "ATOM     30  HA  GLN B  44      26.127  40.600  54.164  1.00  0.00            \r",
      "\r\n",
      "ATOM     31  CB  GLN B  44      25.480  42.340  55.290  1.00  0.00           C\r",
      "\r\n",
      "ATOM     32  HB1 GLN B  44      25.346  42.914  54.482  1.00  0.00            \r",
      "\r\n",
      "ATOM     33  HB2 GLN B  44      25.914  42.878  56.013  1.00  0.00            \r",
      "\r\n",
      "ATOM     34  CG  GLN B  44      24.080  41.930  55.800  1.00  0.00           C\r",
      "\r\n",
      "ATOM     35  HG1 GLN B  44      23.687  41.302  55.128  1.00  0.00            \r",
      "\r\n",
      "ATOM     36  HG2 GLN B  44      23.523  42.759  55.848  1.00  0.00            \r",
      "\r\n",
      "ATOM     37  CD  GLN B  44      24.050  41.230  57.210  1.00  0.00           C\r",
      "\r\n",
      "ATOM     38  OE1 GLN B  44      24.800  41.530  58.130  1.00  0.00           O\r",
      "\r\n",
      "ATOM     39  NE2 GLN B  44      23.160  40.250  57.500  1.00  0.00           N\r",
      "\r\n",
      "ATOM     40 1HE2 GLN B  44      22.500  39.954  56.810  1.00  0.00            \r",
      "\r\n",
      "ATOM     41 2HE2 GLN B  44      23.164  39.823  58.404  1.00  0.00            \r",
      "\r\n",
      "ATOM     42  C   GLN B  44      27.770  41.670  54.360  1.00  0.00           C\r",
      "\r\n",
      "ATOM     43  O   GLN B  44      27.950  41.740  53.130  1.00  0.00           O\r",
      "\r\n",
      "ATOM     44  N   ILE B  45      28.750  42.060  55.160  1.00  0.00           N\r",
      "\r\n",
      "ATOM     45  H   ILE B  45      28.608  41.937  56.142  1.00  0.00            \r",
      "\r\n",
      "ATOM     46  CA  ILE B  45      29.970  42.630  54.760  1.00  0.00           C\r",
      "\r\n",
      "ATOM     47  HA  ILE B  45      29.820  42.887  53.805  1.00  0.00            \r",
      "\r\n",
      "ATOM     48  CB  ILE B  45      30.250  43.870  55.550  1.00  0.00           C\r",
      "\r\n",
      "ATOM     49  HB  ILE B  45      31.176  44.152  55.299  1.00  0.00            \r",
      "\r\n",
      "ATOM     50  CG2 ILE B  45      29.050  44.860  55.180  1.00  0.00           C\r",
      "\r\n",
      "ATOM     51 1HG2 ILE B  45      29.165  45.722  55.673  1.00  0.00            \r",
      "\r\n",
      "ATOM     52 2HG2 ILE B  45      29.055  45.036  54.196  1.00  0.00            \r",
      "\r\n",
      "ATOM     53 3HG2 ILE B  45      28.180  44.441  55.440  1.00  0.00            \r",
      "\r\n",
      "ATOM     54  CG1 ILE B  45      30.220  43.660  57.120  1.00  0.00           C\r",
      "\r\n",
      "ATOM     55 1HG1 ILE B  45      30.744  42.839  57.346  1.00  0.00            \r",
      "\r\n",
      "ATOM     56 2HG1 ILE B  45      29.271  43.540  57.411  1.00  0.00            \r",
      "\r\n",
      "ATOM     57  CD  ILE B  45      30.790  44.780  57.960  1.00  0.00           C\r",
      "\r\n",
      "ATOM     58  HD1 ILE B  45      30.719  44.540  58.928  1.00  0.00            \r",
      "\r\n",
      "ATOM     59  HD2 ILE B  45      31.751  44.920  57.721  1.00  0.00            \r",
      "\r\n",
      "ATOM     60  HD3 ILE B  45      30.277  45.621  57.787  1.00  0.00            \r",
      "\r\n",
      "ATOM     61  C   ILE B  45      31.120  41.600  54.910  1.00  0.00           C\r",
      "\r\n",
      "ATOM     62  O   ILE B  45      32.300  41.990  54.920  1.00  0.00           O\r",
      "\r\n",
      "ATOM     63  N   LYS B  46      30.780  40.360  55.010  1.00  0.00           N\r",
      "\r\n",
      "ATOM     64  H   LYS B  46      29.858  40.084  54.739  1.00  0.00            \r",
      "\r\n",
      "ATOM     65  CA  LYS B  46      31.690  39.370  55.500  1.00  0.00           C\r",
      "\r\n",
      "ATOM     66  HA  LYS B  46      32.522  39.920  55.576  1.00  0.00            \r",
      "\r\n",
      "ATOM     67  CB  LYS B  46      31.320  38.750  56.950  1.00  0.00           C\r",
      "\r\n",
      "ATOM     68  HB1 LYS B  46      30.418  38.322  56.887  1.00  0.00            \r",
      "\r\n",
      "ATOM     69  HB2 LYS B  46      31.288  39.499  57.612  1.00  0.00            \r",
      "\r\n",
      "ATOM     70  CG  LYS B  46      32.230  37.690  57.580  1.00  0.00           C\r",
      "\r\n",
      "ATOM     71  HG1 LYS B  46      33.135  38.103  57.682  1.00  0.00            \r",
      "\r\n",
      "ATOM     72  HG2 LYS B  46      32.282  36.927  56.936  1.00  0.00            \r",
      "\r\n",
      "ATOM     73  CD  LYS B  46      31.800  37.120  58.970  1.00  0.00           C\r",
      "\r\n",
      "ATOM     74  HD1 LYS B  46      32.252  36.240  59.115  1.00  0.00            \r",
      "\r\n",
      "ATOM     75  HD2 LYS B  46      30.809  36.990  58.976  1.00  0.00            \r",
      "\r\n",
      "ATOM     76  CE  LYS B  46      32.160  38.030  60.140  1.00  0.00           C\r",
      "\r\n",
      "ATOM     77  HE1 LYS B  46      31.637  38.878  60.052  1.00  0.00            \r",
      "\r\n",
      "ATOM     78  HE2 LYS B  46      33.138  38.235  60.091  1.00  0.00            \r",
      "\r\n",
      "ATOM     79  NZ  LYS B  46      31.890  37.480  61.500  1.00  0.00           N\r",
      "\r\n",
      "ATOM     80  HZ1 LYS B  46      32.160  38.151  62.191  1.00  0.00            \r",
      "\r\n",
      "ATOM     81  HZ2 LYS B  46      30.914  37.281  61.592  1.00  0.00            \r",
      "\r\n",
      "ATOM     82  HZ3 LYS B  46      32.415  36.639  61.630  1.00  0.00            \r",
      "\r\n",
      "ATOM     83  C   LYS B  46      31.880  38.280  54.440  1.00  0.00           C\r",
      "\r\n",
      "ATOM     84  O   LYS B  46      32.720  37.380  54.620  1.00  0.00           O\r",
      "\r\n",
      "ATOM     85  N   ILE B  47      31.170  38.270  53.350  1.00  0.00           N\r",
      "\r\n",
      "ATOM     86  H   ILE B  47      30.600  39.079  53.207  1.00  0.00            \r",
      "\r\n",
      "ATOM     87  CA  ILE B  47      31.080  37.240  52.290  1.00  0.00           C\r",
      "\r\n",
      "ATOM     88  HA  ILE B  47      31.019  36.452  52.903  1.00  0.00            \r",
      "\r\n",
      "ATOM     89  CB  ILE B  47      29.840  37.300  51.340  1.00  0.00           C\r",
      "\r\n",
      "ATOM     90  HB  ILE B  47      30.039  37.855  50.532  1.00  0.00            \r",
      "\r\n",
      "ATOM     91  CG2 ILE B  47      29.540  35.750  51.010  1.00  0.00           C\r",
      "\r\n",
      "ATOM     92 1HG2 ILE B  47      28.751  35.686  50.399  1.00  0.00            \r",
      "\r\n",
      "ATOM     93 2HG2 ILE B  47      30.339  35.343  50.567  1.00  0.00            \r",
      "\r\n",
      "ATOM     94 3HG2 ILE B  47      29.344  35.260  51.860  1.00  0.00            \r",
      "\r\n",
      "ATOM     95  CG1 ILE B  47      28.610  38.100  51.900  1.00  0.00           C\r",
      "\r\n",
      "ATOM     96 1HG1 ILE B  47      28.944  38.991  52.208  1.00  0.00            \r",
      "\r\n",
      "ATOM     97 2HG1 ILE B  47      28.249  37.591  52.681  1.00  0.00            \r",
      "\r\n",
      "ATOM     98  CD  ILE B  47      27.420  38.340  50.860  1.00  0.00           C\r",
      "\r\n",
      "ATOM     99  HD1 ILE B  47      26.687  38.854  51.305  1.00  0.00            \r",
      "\r\n",
      "ATOM    100  HD2 ILE B  47      27.762  38.858  50.076  1.00  0.00            \r",
      "\r\n",
      "ATOM    101  HD3 ILE B  47      27.067  37.458  50.548  1.00  0.00            \r",
      "\r\n",
      "ATOM    102  C   ILE B  47      32.300  37.050  51.480  1.00  0.00           C\r",
      "\r\n",
      "ATOM    103  O   ILE B  47      32.610  35.910  51.140  1.00  0.00           O\r",
      "\r\n",
      "ATOM    104  N   TRP B  48      33.020  38.130  51.110  1.00  0.00           N\r",
      "\r\n",
      "ATOM    105  H   TRP B  48      32.623  39.046  51.166  1.00  0.00            \r",
      "\r\n",
      "ATOM    106  CA  TRP B  48      34.350  37.950  50.640  1.00  0.00           C\r",
      "\r\n",
      "ATOM    107  HA  TRP B  48      34.165  37.375  49.843  1.00  0.00            \r",
      "\r\n",
      "ATOM    108  CB  TRP B  48      35.020  39.270  50.210  1.00  0.00           C\r",
      "\r\n",
      "ATOM    109  HB1 TRP B  48      35.266  39.797  51.024  1.00  0.00            \r",
      "\r\n",
      "ATOM    110  HB2 TRP B  48      34.381  39.799  49.651  1.00  0.00            \r",
      "\r\n",
      "ATOM    111  CG  TRP B  48      36.260  39.060  49.410  1.00  0.00           C\r",
      "\r\n",
      "ATOM    112  CD1 TRP B  48      36.430  39.190  48.040  1.00  0.00           C\r",
      "\r\n",
      "ATOM    113  HD1 TRP B  48      35.692  39.355  47.386  1.00  0.00            \r",
      "\r\n",
      "ATOM    114  NE1 TRP B  48      37.750  39.060  47.710  1.00  0.00           N\r",
      "\r\n",
      "ATOM    115  HE1 TRP B  48      38.086  39.106  46.769  1.00  0.00            \r",
      "\r\n",
      "ATOM    116  CE2 TRP B  48      38.570  38.860  48.790  1.00  0.00           C\r",
      "\r\n",
      "ATOM    117  CZ2 TRP B  48      40.010  38.680  48.950  1.00  0.00           C\r",
      "\r\n",
      "ATOM    118  HZ2 TRP B  48      40.644  38.693  48.177  1.00  0.00            \r",
      "\r\n",
      "ATOM    119  CH2 TRP B  48      40.430  38.490  50.260  1.00  0.00           C\r",
      "\r\n",
      "ATOM    120  HH2 TRP B  48      41.400  38.305  50.418  1.00  0.00            \r",
      "\r\n",
      "ATOM    121  CZ3 TRP B  48      39.600  38.540  51.350  1.00  0.00           C\r",
      "\r\n",
      "ATOM    122  "
     ]
    },
    {
     "data": {
      "text/html": [
       "<b>limit_output extension: Maximum message size of 10000 exceeded with 27255 characters</b>"
      ]
     },
     "metadata": {},
     "output_type": "display_data"
    }
   ],
   "source": [
    "!cat data/penetratin.pdb"
   ]
  },
  {
   "cell_type": "markdown",
   "metadata": {
    "id": "D_UjJbcKf4YI"
   },
   "source": [
    "You will see that the pdb is essentially a space-separated text file organized into columns. \n",
    "Briefly:\n",
    "- The first column defines the row type (e.g. REMARK tells you that this row is a comment, ATOM tells you that this row contains actual atomic coordinates, etc.).\n",
    "- Columns 7, 8 and 9 contain the x,y,z coordinates of the atoms of the system.\n",
    "\n",
    "For more information: https://www.cgl.ucsf.edu/chimera/docs/UsersGuide/tutorials/pdbintro.html."
   ]
  },
  {
   "cell_type": "markdown",
   "metadata": {
    "id": "9__i_ebQgGvK",
    "slideshow": {
     "slide_type": "subslide"
    }
   },
   "source": [
    "## Make Index File (gmx make_ndx)\n"
   ]
  },
  {
   "cell_type": "markdown",
   "metadata": {
    "id": "kH6kRGS2gihh"
   },
   "source": [
    "We now introduce a very powerful tool in GROMACS: index files. Index files are created starting from an atomic system (e.g. a pdb file), and split atoms into specific groups. These can be useful to restrict operations and analyses only to specific parts of the system, for example, if you want to see fluctuations of the alpha-Carbons only, you can select that specific group in the analysis tool.\n",
    "\n",
    "To have detailed information about the command to make index files, just type:"
   ]
  },
  {
   "cell_type": "code",
   "execution_count": 1,
   "metadata": {
    "colab": {
     "base_uri": "https://localhost:8080/",
     "height": 400
    },
    "id": "7IUc41ZlgoDS",
    "outputId": "11b0f4d0-87fc-400d-b745-37a70fd679a7",
    "scrolled": true
   },
   "outputs": [
    {
     "name": "stdout",
     "output_type": "stream",
     "text": [
      "                :-) GROMACS - gmx make_ndx, 2020.6-MODIFIED (-:\r\n",
      "\r\n",
      "                            GROMACS is written by:\r\n",
      "     Emile Apol      Rossen Apostolov      Paul Bauer     Herman J.C. Berendsen\r\n",
      "    Par Bjelkmar      Christian Blau   Viacheslav Bolnykh     Kevin Boyd    \r\n",
      " Aldert van Buuren   Rudi van Drunen     Anton Feenstra       Alan Gray     \r\n",
      "  Gerrit Groenhof     Anca Hamuraru    Vincent Hindriksen  M. Eric Irrgang  \r\n",
      "  Aleksei Iupinov   Christoph Junghans     Joe Jordan     Dimitrios Karkoulis\r\n",
      "    Peter Kasson        Jiri Kraus      Carsten Kutzner      Per Larsson    \r\n",
      "  Justin A. Lemkul    Viveca Lindahl    Magnus Lundborg     Erik Marklund   \r\n",
      "    Pascal Merz     Pieter Meulenhoff    Teemu Murtola       Szilard Pall   \r\n",
      "    Sander Pronk      Roland Schulz      Michael Shirts    Alexey Shvetsov  \r\n",
      "   Alfons Sijbers     Peter Tieleman      Jon Vincent      Teemu Virolainen \r\n",
      " Christian Wennberg    Maarten Wolf      Artem Zhmurov   \r\n",
      "                           and the project leaders:\r\n",
      "        Mark Abraham, Berk Hess, Erik Lindahl, and David van der Spoel\r\n",
      "\r\n",
      "Copyright (c) 1991-2000, University of Groningen, The Netherlands.\r\n",
      "Copyright (c) 2001-2019, The GROMACS development team at\r\n",
      "Uppsala University, Stockholm University and\r\n",
      "the Royal Institute of Technology, Sweden.\r\n",
      "check out http://www.gromacs.org for more information.\r\n",
      "\r\n",
      "GROMACS is free software; you can redistribute it and/or modify it\r\n",
      "under the terms of the GNU Lesser General Public License\r\n",
      "as published by the Free Software Foundation; either version 2.1\r\n",
      "of the License, or (at your option) any later version.\r\n",
      "\r\n",
      "GROMACS:      gmx make_ndx, version 2020.6-MODIFIED\r\n",
      "Executable:   /opt/gromacs/2020.6/bin/gmx\r\n",
      "Data prefix:  /opt/gromacs/2020.6\r\n",
      "Working dir:  /home/lorenzo/Documenti/GitHub/BiomeccanicaMultiscala/LAB/06-Gromacs\r\n",
      "Command line:\r\n",
      "  gmx make_ndx -h\r\n",
      "\r\n",
      "SYNOPSIS\r\n",
      "\r\n",
      "gmx make_ndx [-f [<.gro/.g96/...>]] [-n [<.ndx> [...]]] [-o [<.ndx>]]\r\n",
      "             [-natoms <int>] [-[no]twin]\r\n",
      "\r\n",
      "DESCRIPTION\r\n",
      "\r\n",
      "Index groups are necessary for almost every GROMACS program. All these\r\n",
      "programs can generate default index groups. You ONLY have to use gmx make_ndx\r\n",
      "when you need SPECIAL index groups. There is a default index group for the\r\n",
      "whole system, 9 default index groups for proteins, and a default index group\r\n",
      "is generated for every other residue name.\r\n",
      "\r\n",
      "When no index file is supplied, also gmx make_ndx will generate the default\r\n",
      "groups. With the index editor you can select on atom, residue and chain names\r\n",
      "and numbers. When a run input file is supplied you can also select on atom\r\n",
      "type. You can use boolean operations, you can split groups into chains,\r\n",
      "residues or atoms. You can delete and rename groups. Type 'h' in the editor\r\n",
      "for more details.\r\n",
      "\r\n",
      "The atom numbering in the editor and the index file starts at 1.\r\n",
      "\r\n",
      "The -twin switch duplicates all index groups with an offset of -natoms, which\r\n",
      "is useful for Computational Electrophysiology double-layer membrane setups.\r\n",
      "\r\n",
      "See also gmx select -on, which provides an alternative way for constructing\r\n",
      "index groups.  It covers nearly all of gmx make_ndx functionality, and in many\r\n",
      "cases much more.\r\n",
      "\r\n",
      "OPTIONS\r\n",
      "\r\n",
      "Options to specify input files:\r\n",
      "\r\n",
      " -f      [<.gro/.g96/...>]  (conf.gro)       (Opt.)\r\n",
      "           Structure file: gro g96 pdb brk ent esp tpr\r\n",
      " -n      [<.ndx> [...]]     (index.ndx)      (Opt.)\r\n",
      "           Index file\r\n",
      "\r\n",
      "Options to specify output files:\r\n",
      "\r\n",
      " -o      [<.ndx>]           (index.ndx)\r\n",
      "           Index file\r\n",
      "\r\n",
      "Other options:\r\n",
      "\r\n",
      " -natoms <int>              (0)\r\n",
      "           set number of atoms (default: read from coordinate or index file)\r\n",
      " -[no]twin                  (no)\r\n",
      "           Duplicate all index groups with an offset of -natoms\r\n",
      "\r\n",
      "GROMACS reminds you: \"I Want to Know Right Now\" (Meatloaf)\r\n",
      "\r\n"
     ]
    }
   ],
   "source": [
    "!gmx make_ndx -h"
   ]
  },
  {
   "cell_type": "markdown",
   "metadata": {
    "id": "W39IMDUni4Vm",
    "slideshow": {
     "slide_type": "subslide"
    }
   },
   "source": [
    "Let’s first create an index file (it will not be created by default when you launch the simulation!):"
   ]
  },
  {
   "cell_type": "code",
   "execution_count": 21,
   "metadata": {
    "scrolled": true
   },
   "outputs": [
    {
     "name": "stdout",
     "output_type": "stream",
     "text": [
      "                :-) GROMACS - gmx make_ndx, 2020.6-MODIFIED (-:\r\n",
      "\r\n",
      "                            GROMACS is written by:\r\n",
      "     Emile Apol      Rossen Apostolov      Paul Bauer     Herman J.C. Berendsen\r\n",
      "    Par Bjelkmar      Christian Blau   Viacheslav Bolnykh     Kevin Boyd    \r\n",
      " Aldert van Buuren   Rudi van Drunen     Anton Feenstra       Alan Gray     \r\n",
      "  Gerrit Groenhof     Anca Hamuraru    Vincent Hindriksen  M. Eric Irrgang  \r\n",
      "  Aleksei Iupinov   Christoph Junghans     Joe Jordan     Dimitrios Karkoulis\r\n",
      "    Peter Kasson        Jiri Kraus      Carsten Kutzner      Per Larsson    \r\n",
      "  Justin A. Lemkul    Viveca Lindahl    Magnus Lundborg     Erik Marklund   \r\n",
      "    Pascal Merz     Pieter Meulenhoff    Teemu Murtola       Szilard Pall   \r\n",
      "    Sander Pronk      Roland Schulz      Michael Shirts    Alexey Shvetsov  \r\n",
      "   Alfons Sijbers     Peter Tieleman      Jon Vincent      Teemu Virolainen \r\n",
      " Christian Wennberg    Maarten Wolf      Artem Zhmurov   \r\n",
      "                           and the project leaders:\r\n",
      "        Mark Abraham, Berk Hess, Erik Lindahl, and David van der Spoel\r\n",
      "\r\n",
      "Copyright (c) 1991-2000, University of Groningen, The Netherlands.\r\n",
      "Copyright (c) 2001-2019, The GROMACS development team at\r\n",
      "Uppsala University, Stockholm University and\r\n",
      "the Royal Institute of Technology, Sweden.\r\n",
      "check out http://www.gromacs.org for more information.\r\n",
      "\r\n",
      "GROMACS is free software; you can redistribute it and/or modify it\r\n",
      "under the terms of the GNU Lesser General Public License\r\n",
      "as published by the Free Software Foundation; either version 2.1\r\n",
      "of the License, or (at your option) any later version.\r\n",
      "\r\n",
      "GROMACS:      gmx make_ndx, version 2020.6-MODIFIED\r\n",
      "Executable:   /opt/gromacs/2020.6/bin/gmx\r\n",
      "Data prefix:  /opt/gromacs/2020.6\r\n",
      "Working dir:  /home/lorenzo/Documenti/GitHub/BiomeccanicaMultiscala/LAB/06-Gromacs\r\n",
      "Command line:\r\n",
      "  gmx make_ndx -f data/penetratin.pdb -o index.ndx\r\n",
      "\r\n",
      "\r\n",
      "Reading structure file\r\n",
      "Going to read 0 old index file(s)\r\n",
      "Analysing residue names:\r\n",
      "There are:    16    Protein residues\r\n",
      "Analysing Protein...\r\n",
      "\r\n",
      "  0 System              :   334 atoms\r\n",
      "  1 Protein             :   334 atoms\r\n",
      "  2 Protein-H           :   159 atoms\r\n",
      "  3 C-alpha             :    16 atoms\r\n",
      "  4 Backbone            :    48 atoms\r\n",
      "  5 MainChain           :    65 atoms\r\n",
      "  6 MainChain+Cb        :    81 atoms\r\n",
      "  7 MainChain+H         :    83 atoms\r\n",
      "  8 SideChain           :   251 atoms\r\n",
      "  9 SideChain-H         :    94 atoms\r\n",
      "\r\n",
      " nr : group      '!': not  'name' nr name   'splitch' nr    Enter: list groups\r\n",
      " 'a': atom       '&': and  'del' nr         'splitres' nr   'l': list residues\r\n",
      " 't': atom type  '|': or   'keep' nr        'splitat' nr    'h': help\r\n",
      " 'r': residue              'res' nr         'chain' char\r\n",
      " \"name\": group             'case': case sensitive           'q': save and quit\r\n",
      " 'ri': residue index\r\n",
      "\r\n",
      "> \r\n",
      "\r\n",
      "Back Off! I just backed up index.ndx to ./#index.ndx.7#\r\n",
      "\r\n",
      "GROMACS reminds you: \"I'll Master Your Language, and In the Meantime I'll Create My Own\" (Tricky)\r\n",
      "\r\n"
     ]
    }
   ],
   "source": [
    "!echo -e \"q \\n\" | gmx make_ndx -f data/penetratin.pdb -o index.ndx"
   ]
  },
  {
   "cell_type": "markdown",
   "metadata": {
    "id": "XbfulkTJjRYE"
   },
   "source": [
    "You will see that make_ndx will read the pdb file (option “-f”), create some default groups and then wait for your input. \n",
    "\n",
    "You can manually add groups by typing the atoms manually (we will see the selection syntax later on...), or simply accept the default groups and save them by typing q and hitting Enter. The final index file (index.ndx) will be saved with the name chosen in the option “-o”."
   ]
  },
  {
   "cell_type": "markdown",
   "metadata": {
    "id": "Vz_K0e34CAs_",
    "slideshow": {
     "slide_type": "subslide"
    }
   },
   "source": [
    "## Edit molecular configuration (gmx editconf)"
   ]
  },
  {
   "cell_type": "markdown",
   "metadata": {},
   "source": [
    "As mentioned, the previous groups obtained with gmx make_ndx can be used to tell GROMACS to do operations on a specific subset of atoms only. Let’s say for example I want a pdb file containing only the alpha Carbons of my starting penetratin.pdb structure. I can achieve this by calling editconf (which, as the name suggests, is an editor for molecular configurations) and also including the index.ndx file as input:"
   ]
  },
  {
   "cell_type": "code",
   "execution_count": 22,
   "metadata": {
    "scrolled": true
   },
   "outputs": [
    {
     "name": "stdout",
     "output_type": "stream",
     "text": [
      "                :-) GROMACS - gmx editconf, 2020.6-MODIFIED (-:\r\n",
      "\r\n",
      "                            GROMACS is written by:\r\n",
      "     Emile Apol      Rossen Apostolov      Paul Bauer     Herman J.C. Berendsen\r\n",
      "    Par Bjelkmar      Christian Blau   Viacheslav Bolnykh     Kevin Boyd    \r\n",
      " Aldert van Buuren   Rudi van Drunen     Anton Feenstra       Alan Gray     \r\n",
      "  Gerrit Groenhof     Anca Hamuraru    Vincent Hindriksen  M. Eric Irrgang  \r\n",
      "  Aleksei Iupinov   Christoph Junghans     Joe Jordan     Dimitrios Karkoulis\r\n",
      "    Peter Kasson        Jiri Kraus      Carsten Kutzner      Per Larsson    \r\n",
      "  Justin A. Lemkul    Viveca Lindahl    Magnus Lundborg     Erik Marklund   \r\n",
      "    Pascal Merz     Pieter Meulenhoff    Teemu Murtola       Szilard Pall   \r\n",
      "    Sander Pronk      Roland Schulz      Michael Shirts    Alexey Shvetsov  \r\n",
      "   Alfons Sijbers     Peter Tieleman      Jon Vincent      Teemu Virolainen \r\n",
      " Christian Wennberg    Maarten Wolf      Artem Zhmurov   \r\n",
      "                           and the project leaders:\r\n",
      "        Mark Abraham, Berk Hess, Erik Lindahl, and David van der Spoel\r\n",
      "\r\n",
      "Copyright (c) 1991-2000, University of Groningen, The Netherlands.\r\n",
      "Copyright (c) 2001-2019, The GROMACS development team at\r\n",
      "Uppsala University, Stockholm University and\r\n",
      "the Royal Institute of Technology, Sweden.\r\n",
      "check out http://www.gromacs.org for more information.\r\n",
      "\r\n",
      "GROMACS is free software; you can redistribute it and/or modify it\r\n",
      "under the terms of the GNU Lesser General Public License\r\n",
      "as published by the Free Software Foundation; either version 2.1\r\n",
      "of the License, or (at your option) any later version.\r\n",
      "\r\n",
      "GROMACS:      gmx editconf, version 2020.6-MODIFIED\r\n",
      "Executable:   /opt/gromacs/2020.6/bin/gmx\r\n",
      "Data prefix:  /opt/gromacs/2020.6\r\n",
      "Working dir:  /home/lorenzo/Documenti/GitHub/BiomeccanicaMultiscala/LAB/06-Gromacs\r\n",
      "Command line:\r\n",
      "  gmx editconf -f data/penetratin.pdb -o calpha.pdb -n index.ndx\r\n",
      "\r\n",
      "Note that major changes are planned in future for editconf, to improve usability and utility.\r\n",
      "Read 334 atoms\r\n",
      "Volume: 295.75 nm^3, corresponds to roughly 133000 electrons\r\n",
      "No velocities found\r\n",
      "\r\n",
      "Select a group for output:\r\n",
      "Group     0 (         System) has   334 elements\r\n",
      "Group     1 (        Protein) has   334 elements\r\n",
      "Group     2 (      Protein-H) has   159 elements\r\n",
      "Group     3 (        C-alpha) has    16 elements\r\n",
      "Group     4 (       Backbone) has    48 elements\r\n",
      "Group     5 (      MainChain) has    65 elements\r\n",
      "Group     6 (   MainChain+Cb) has    81 elements\r\n",
      "Group     7 (    MainChain+H) has    83 elements\r\n",
      "Group     8 (      SideChain) has   251 elements\r\n",
      "Group     9 (    SideChain-H) has    94 elements\r\n",
      "Select a group: Selected 3: 'C-alpha'\r\n",
      "\r\n",
      "Back Off! I just backed up calpha.pdb to ./#calpha.pdb.2#\r\n",
      "\r\n",
      "GROMACS reminds you: \"If you want to destroy my sweater, hold this thread as I walk away.\" (Weezer)\r\n",
      "\r\n"
     ]
    }
   ],
   "source": [
    "!echo \"C-alpha\" | gmx editconf -f data/penetratin.pdb -o calpha.pdb -n index.ndx"
   ]
  },
  {
   "cell_type": "markdown",
   "metadata": {},
   "source": [
    "In simpler words, this command is saying:\n",
    "\n",
    "***“Call the editconf utility, read the penetratin.pdb and the index.ndx files, and write the result to calpha.pdb”***"
   ]
  },
  {
   "cell_type": "markdown",
   "metadata": {
    "slideshow": {
     "slide_type": "subslide"
    }
   },
   "source": [
    "Have a look to the only c-alpha structure: "
   ]
  },
  {
   "cell_type": "code",
   "execution_count": 39,
   "metadata": {},
   "outputs": [
    {
     "data": {
      "application/vnd.jupyter.widget-view+json": {
       "model_id": "af45fc586e834dba9b45650542d4c684",
       "version_major": 2,
       "version_minor": 0
      },
      "text/plain": [
       "NGLWidget()"
      ]
     },
     "metadata": {},
     "output_type": "display_data"
    }
   ],
   "source": [
    "with open(\"calpha.pdb\") as f:\n",
    "    view = nv.show_file(f, ext=\"pdb\")\n",
    "view"
   ]
  },
  {
   "cell_type": "markdown",
   "metadata": {},
   "source": [
    "Indeed, editconf will prompt for a group. Choose C-alpha by typing 3 and hitting Enter. Editconf will confirm the selection and write atoms belonging to the C-alpha group to the file calpha.pdb (check it by opening the file with a text editor!). Easy, right?"
   ]
  },
  {
   "cell_type": "markdown",
   "metadata": {
    "slideshow": {
     "slide_type": "subslide"
    }
   },
   "source": [
    "## Prepare file for Gromacs (gmx pdb2gmx)"
   ]
  },
  {
   "cell_type": "markdown",
   "metadata": {},
   "source": [
    "We have to generate a **topology** for the system and convert it to the **.gro file format**. \n",
    "\n",
    "The tool for conversion is **pdb2gmx**. As always, you can use the -h flag to print some help:"
   ]
  },
  {
   "cell_type": "code",
   "execution_count": 15,
   "metadata": {},
   "outputs": [
    {
     "name": "stdout",
     "output_type": "stream",
     "text": [
      "                 :-) GROMACS - gmx pdb2gmx, 2020.6-MODIFIED (-:\r\n",
      "\r\n",
      "                            GROMACS is written by:\r\n",
      "     Emile Apol      Rossen Apostolov      Paul Bauer     Herman J.C. Berendsen\r\n",
      "    Par Bjelkmar      Christian Blau   Viacheslav Bolnykh     Kevin Boyd    \r\n",
      " Aldert van Buuren   Rudi van Drunen     Anton Feenstra       Alan Gray     \r\n",
      "  Gerrit Groenhof     Anca Hamuraru    Vincent Hindriksen  M. Eric Irrgang  \r\n",
      "  Aleksei Iupinov   Christoph Junghans     Joe Jordan     Dimitrios Karkoulis\r\n",
      "    Peter Kasson        Jiri Kraus      Carsten Kutzner      Per Larsson    \r\n",
      "  Justin A. Lemkul    Viveca Lindahl    Magnus Lundborg     Erik Marklund   \r\n",
      "    Pascal Merz     Pieter Meulenhoff    Teemu Murtola       Szilard Pall   \r\n",
      "    Sander Pronk      Roland Schulz      Michael Shirts    Alexey Shvetsov  \r\n",
      "   Alfons Sijbers     Peter Tieleman      Jon Vincent      Teemu Virolainen \r\n",
      " Christian Wennberg    Maarten Wolf      Artem Zhmurov   \r\n",
      "                           and the project leaders:\r\n",
      "        Mark Abraham, Berk Hess, Erik Lindahl, and David van der Spoel\r\n",
      "\r\n",
      "Copyright (c) 1991-2000, University of Groningen, The Netherlands.\r\n",
      "Copyright (c) 2001-2019, The GROMACS development team at\r\n",
      "Uppsala University, Stockholm University and\r\n",
      "the Royal Institute of Technology, Sweden.\r\n",
      "check out http://www.gromacs.org for more information.\r\n",
      "\r\n",
      "GROMACS is free software; you can redistribute it and/or modify it\r\n",
      "under the terms of the GNU Lesser General Public License\r\n",
      "as published by the Free Software Foundation; either version 2.1\r\n",
      "of the License, or (at your option) any later version.\r\n",
      "\r\n",
      "GROMACS:      gmx pdb2gmx, version 2020.6-MODIFIED\r\n",
      "Executable:   /opt/gromacs/2020.6/bin/gmx\r\n",
      "Data prefix:  /opt/gromacs/2020.6\r\n",
      "Working dir:  /home/lorenzo/Documenti/GitHub/BiomeccanicaMultiscala/LAB/06-Gromacs\r\n",
      "Command line:\r\n",
      "  gmx pdb2gmx -h\r\n",
      "\r\n",
      "SYNOPSIS\r\n",
      "\r\n",
      "gmx pdb2gmx [-f [<.gro/.g96/...>]] [-o [<.gro/.g96/...>]] [-p [<.top>]]\r\n",
      "            [-i [<.itp>]] [-n [<.ndx>]] [-q [<.gro/.g96/...>]]\r\n",
      "            [-chainsep <enum>] [-merge <enum>] [-ff <string>] [-water <enum>]\r\n",
      "            [-[no]inter] [-[no]ss] [-[no]ter] [-[no]lys] [-[no]arg]\r\n",
      "            [-[no]asp] [-[no]glu] [-[no]gln] [-[no]his] [-angle <real>]\r\n",
      "            [-dist <real>] [-[no]una] [-[no]ignh] [-[no]missing] [-[no]v]\r\n",
      "            [-posrefc <real>] [-vsite <enum>] [-[no]heavyh] [-[no]deuterate]\r\n",
      "            [-[no]chargegrp] [-[no]cmap] [-[no]renum] [-[no]rtpres]\r\n",
      "\r\n",
      "DESCRIPTION\r\n",
      "\r\n",
      "gmx pdb2gmx reads a .pdb (or .gro) file, reads some database files, adds\r\n",
      "hydrogens to the molecules and generates coordinates in GROMACS (GROMOS), or\r\n",
      "optionally .pdb, format and a topology in GROMACS format. These files can\r\n",
      "subsequently be processed to generate a run input file.\r\n",
      "\r\n",
      "gmx pdb2gmx will search for force fields by looking for a forcefield.itp file\r\n",
      "in subdirectories <forcefield>.ff of the current working directory and of the\r\n",
      "GROMACS library directory as inferred from the path of the binary or the\r\n",
      "GMXLIB environment variable. By default the forcefield selection is\r\n",
      "interactive, but you can use the -ff option to specify one of the short names\r\n",
      "in the list on the command line instead. In that case gmx pdb2gmx just looks\r\n",
      "for the corresponding <forcefield>.ff directory.\r\n",
      "\r\n",
      "After choosing a force field, all files will be read only from the\r\n",
      "corresponding force field directory. If you want to modify or add a residue\r\n",
      "types, you can copy the force field directory from the GROMACS library\r\n",
      "directory to your current working directory. If you want to add new protein\r\n",
      "residue types, you will need to modify residuetypes.dat in the library\r\n",
      "directory or copy the whole library directory to a local directory and set the\r\n",
      "environment variable GMXLIB to the name of that directory. Check Chapter 5 of\r\n",
      "the manual for more information about file formats.\r\n",
      "\r\n",
      "Note that a .pdb file is nothing more than a file format, and it need not\r\n",
      "necessarily contain a protein structure. Every kind of molecule for which\r\n",
      "there is support in the database can be converted. If there is no support in\r\n",
      "the database, you can add it yourself.\r\n",
      "\r\n",
      "The program has limited intelligence, it reads a number of database files,\r\n",
      "that allow it to make special bonds (Cys-Cys, Heme-His, etc.), if necessary\r\n",
      "this can be done manually. The program can prompt the user to select which\r\n",
      "kind of LYS, ASP, GLU, CYS or HIS residue is desired. For Lys the choice is\r\n",
      "between neutral (two protons on NZ) or protonated (three protons, default),\r\n",
      "for Asp and Glu unprotonated (default) or protonated, for His the proton can\r\n",
      "be either on ND1, on NE2 or on both. By default these selections are done\r\n",
      "automatically. For His, this is based on an optimal hydrogen bonding\r\n",
      "conformation. Hydrogen bonds are defined based on a simple geometric\r\n",
      "criterion, specified by the maximum hydrogen-donor-acceptor angle and\r\n",
      "donor-acceptor distance, which are set by -angle and -dist respectively.\r\n",
      "\r\n",
      "The protonation state of N- and C-termini can be chosen interactively with the\r\n",
      "-ter flag.  Default termini are ionized (NH3+ and COO-), respectively.  Some\r\n",
      "force fields support zwitterionic forms for chains of one residue, but for\r\n",
      "polypeptides these options should NOT be selected. The AMBER force fields have\r\n",
      "unique forms for the terminal residues, and these are incompatible with the\r\n",
      "-ter mechanism. You need to prefix your N- or C-terminal residue names with\r\n",
      "\"N\" or \"C\" respectively to use these forms, making sure you preserve the\r\n",
      "format of the coordinate file. Alternatively, use named terminating residues\r\n",
      "(e.g. ACE, NME).\r\n",
      "\r\n",
      "The separation of chains is not entirely trivial since the markup in\r\n",
      "user-generated PDB files frequently varies and sometimes it is desirable to\r\n",
      "merge entries across a TER record, for instance if you want a disulfide bridge\r\n",
      "or distance restraints between two protein chains or if you have a HEME group\r\n",
      "bound to a protein. In such cases multiple chains should be contained in a\r\n",
      "single moleculetype definition. To handle this, gmx pdb2gmx uses two separate\r\n",
      "options. First, -chainsep allows you to choose when a new chemical chain\r\n",
      "should start, and termini added when applicable. This can be done based on the\r\n",
      "existence of TER records, when the chain id changes, or combinations of either\r\n",
      "or both of these. You can also do the selection fully interactively. In\r\n",
      "addition, there is a -merge option that controls how multiple chains are\r\n",
      "merged into one moleculetype, after adding all the chemical termini (or not).\r\n",
      "This can be turned off (no merging), all non-water chains can be merged into a\r\n",
      "single molecule, or the selection can be done interactively.\r\n",
      "\r\n",
      "gmx pdb2gmx will also check the occupancy field of the .pdb file. If any of\r\n",
      "the occupancies are not one, indicating that the atom is not resolved well in\r\n",
      "the structure, a warning message is issued. When a .pdb file does not\r\n",
      "originate from an X-ray structure determination all occupancy fields may be\r\n",
      "zero. Either way, it is up to the user to verify the correctness of the input\r\n",
      "data (read the article!).\r\n",
      "\r\n",
      "During processing the atoms will be reordered according to GROMACS\r\n",
      "conventions. With -n an index file can be generated that contains one group\r\n",
      "reordered in the same way. This allows you to convert a GROMOS trajectory and\r\n",
      "coordinate file to GROMOS. There is one limitation: reordering is done after\r\n",
      "the hydrogens are stripped from the input and before new hydrogens are added.\r\n",
      "This means that you should not use -ignh.\r\n",
      "\r\n",
      "The .gro and .g96 file formats do not support chain identifiers. Therefore it\r\n",
      "is useful to enter a .pdb file name at the -o option when you want to convert\r\n",
      "a multi-chain .pdb file.\r\n",
      "\r\n",
      "The option -vsite removes hydrogen and fast improper dihedral motions. Angular\r\n",
      "and out-of-plane motions can be removed by changing hydrogens into virtual\r\n",
      "sites and fixing angles, which fixes their position relative to neighboring\r\n",
      "atoms. Additionally, all atoms in the aromatic rings of the standard amino\r\n",
      "acids (i.e. PHE, TRP, TYR and HIS) can be converted into virtual sites,\r\n",
      "eliminating the fast improper dihedral fluctuations in these rings (but this\r\n",
      "feature is deprecated). Note that in this case all other hydrogen atoms are\r\n",
      "also converted to virtual sites. The mass of all atoms that are converted into\r\n",
      "virtual sites, is added to the heavy atoms.\r\n",
      "\r\n",
      "Also slowing down of dihedral motion can be done with -heavyh done by\r\n",
      "increasing the hydrogen-mass by a factor of 4. This is also done for water\r\n",
      "hydrogens to slow down the rotational motion of water. The increase in mass of\r\n",
      "the hydrogens is subtracted from the bonded (heavy) atom so that the total\r\n",
      "mass of the system remains the same.\r\n",
      "\r\n",
      "OPTIONS\r\n",
      "\r\n",
      "Options to specify input files:\r\n",
      "\r\n",
      " -f      [<.gro/.g96/...>]  (protein.pdb)\r\n",
      "           Structure file: gro g96 pdb brk ent esp tpr\r\n",
      "\r\n",
      "Options to specify output files:\r\n",
      "\r\n",
      " -o      [<.gro/.g96/...>]  (conf.gro)\r\n",
      "           Structure file: gro g96 pdb brk ent esp\r\n",
      " -p      [<.top>]           (topol.top)\r\n",
      "           Topology file\r\n",
      " -i      [<.itp>]           (posre.itp)\r\n",
      "           Include file for topology\r\n",
      " -n      [<.ndx>]           (index.ndx)      (Opt.)\r\n",
      "           Index file\r\n",
      " -q      [<.gro/.g96/...>]  (clean.pdb)      (Opt.)\r\n",
      "           Structure file: gro g96 pdb brk ent esp\r\n",
      "\r\n",
      "Other options:\r\n",
      "\r\n",
      " -chainsep <enum>           (id_or_ter)\r\n",
      "           Condition in PDB files when a new chain should be started (adding\r\n",
      "           termini): id_or_ter, id_and_ter, ter, id, interactive\r\n",
      " -merge  <enum>             (no)\r\n",
      "           Merge multiple chains into a single [moleculetype]: no, all,\r\n",
      "           interactive\r\n",
      " -ff     <string>           (select)\r\n",
      "           Force field, interactive by default. Use -h for information.\r\n",
      " -water  <enum>             (select)\r\n",
      "           Water model to use: select, none, spc, spce, tip3p, tip4p, tip5p,\r\n",
      "           tips3p\r\n",
      " -[no]inter                 (no)\r\n",
      "           Set the next 8 options to interactive\r\n",
      " -[no]ss                    (no)\r\n",
      "           Interactive"
     ]
    },
    {
     "data": {
      "text/html": [
       "<b>limit_output extension: Maximum message size of 10000 exceeded with 12243 characters</b>"
      ]
     },
     "metadata": {},
     "output_type": "display_data"
    }
   ],
   "source": [
    "!gmx pdb2gmx -h"
   ]
  },
  {
   "cell_type": "markdown",
   "metadata": {
    "slideshow": {
     "slide_type": "-"
    }
   },
   "source": [
    "The main options of the **pdb2gmx** tool are:\n",
    "> - f: input file (coordinates, so .pdb or .gro)\n",
    "> - p: topology output file (a text file, ending in .top)\n",
    "> - o: structure output file (coordinates after processing, again .pdb or .gro)\n",
    "> - i: position restraints output file (.itp)"
   ]
  },
  {
   "cell_type": "code",
   "execution_count": 36,
   "metadata": {
    "scrolled": true,
    "slideshow": {
     "slide_type": "subslide"
    }
   },
   "outputs": [
    {
     "name": "stdout",
     "output_type": "stream",
     "text": [
      "                 :-) GROMACS - gmx pdb2gmx, 2020.6-MODIFIED (-:\r\n",
      "\r\n",
      "                            GROMACS is written by:\r\n",
      "     Emile Apol      Rossen Apostolov      Paul Bauer     Herman J.C. Berendsen\r\n",
      "    Par Bjelkmar      Christian Blau   Viacheslav Bolnykh     Kevin Boyd    \r\n",
      " Aldert van Buuren   Rudi van Drunen     Anton Feenstra       Alan Gray     \r\n",
      "  Gerrit Groenhof     Anca Hamuraru    Vincent Hindriksen  M. Eric Irrgang  \r\n",
      "  Aleksei Iupinov   Christoph Junghans     Joe Jordan     Dimitrios Karkoulis\r\n",
      "    Peter Kasson        Jiri Kraus      Carsten Kutzner      Per Larsson    \r\n",
      "  Justin A. Lemkul    Viveca Lindahl    Magnus Lundborg     Erik Marklund   \r\n",
      "    Pascal Merz     Pieter Meulenhoff    Teemu Murtola       Szilard Pall   \r\n",
      "    Sander Pronk      Roland Schulz      Michael Shirts    Alexey Shvetsov  \r\n",
      "   Alfons Sijbers     Peter Tieleman      Jon Vincent      Teemu Virolainen \r\n",
      " Christian Wennberg    Maarten Wolf      Artem Zhmurov   \r\n",
      "                           and the project leaders:\r\n",
      "        Mark Abraham, Berk Hess, Erik Lindahl, and David van der Spoel\r\n",
      "\r\n",
      "Copyright (c) 1991-2000, University of Groningen, The Netherlands.\r\n",
      "Copyright (c) 2001-2019, The GROMACS development team at\r\n",
      "Uppsala University, Stockholm University and\r\n",
      "the Royal Institute of Technology, Sweden.\r\n",
      "check out http://www.gromacs.org for more information.\r\n",
      "\r\n",
      "GROMACS is free software; you can redistribute it and/or modify it\r\n",
      "under the terms of the GNU Lesser General Public License\r\n",
      "as published by the Free Software Foundation; either version 2.1\r\n",
      "of the License, or (at your option) any later version.\r\n",
      "\r\n",
      "GROMACS:      gmx pdb2gmx, version 2020.6-MODIFIED\r\n",
      "Executable:   /opt/gromacs/2020.6/bin/gmx\r\n",
      "Data prefix:  /opt/gromacs/2020.6\r\n",
      "Working dir:  /home/lorenzo/Documenti/GitHub/BiomeccanicaMultiscala/LAB/06-Gromacs\r\n",
      "Command line:\r\n",
      "  gmx pdb2gmx -f data/penetratin.pdb -i penetratin_posre.itp -p penetratin.top -o penetratin.gro -ff amber99sb-ildn -ignh -heavyh -water tip3p\r\n",
      "\r\n",
      "\r\n",
      "Using the Amber99sb-ildn force field in directory amber99sb-ildn.ff\r\n",
      "\r\n",
      "going to rename amber99sb-ildn.ff/aminoacids.r2b\r\n",
      "Opening force field file /opt/gromacs/2020.6/share/gromacs/top/amber99sb-ildn.ff/aminoacids.r2b\r\n",
      "going to rename amber99sb-ildn.ff/dna.r2b\r\n",
      "Opening force field file /opt/gromacs/2020.6/share/gromacs/top/amber99sb-ildn.ff/dna.r2b\r\n",
      "going to rename amber99sb-ildn.ff/rna.r2b\r\n",
      "Opening force field file /opt/gromacs/2020.6/share/gromacs/top/amber99sb-ildn.ff/rna.r2b\r\n",
      "Reading data/penetratin.pdb...\r\n",
      "Read 'Penetratin-Silica Umbrella simulation in water', 159 atoms\r\n",
      "Analyzing pdb file\r\n",
      "Splitting chemical chains based on TER records or chain id changing.\r\n",
      "There are 1 chains and 0 blocks of water and 16 residues with 159 atoms\r\n",
      "\r\n",
      "  chain  #res #atoms\r\n",
      "  1 'B'    16    159  \r\n",
      "\r\n",
      "All occupancies are one\r\n",
      "Opening force field file /opt/gromacs/2020.6/share/gromacs/top/amber99sb-ildn.ff/atomtypes.atp\r\n",
      "Reading residue database... (Amber99sb-ildn)\r\n",
      "Opening force field file /opt/gromacs/2020.6/share/gromacs/top/amber99sb-ildn.ff/aminoacids.rtp\r\n",
      "Opening force field file /opt/gromacs/2020.6/share/gromacs/top/amber99sb-ildn.ff/dna.rtp\r\n",
      "Opening force field file /opt/gromacs/2020.6/share/gromacs/top/amber99sb-ildn.ff/rna.rtp\r\n",
      "Opening force field file /opt/gromacs/2020.6/share/gromacs/top/amber99sb-ildn.ff/aminoacids.hdb\r\n",
      "Opening force field file /opt/gromacs/2020.6/share/gromacs/top/amber99sb-ildn.ff/dna.hdb\r\n",
      "Opening force field file /opt/gromacs/2020.6/share/gromacs/top/amber99sb-ildn.ff/rna.hdb\r\n",
      "Opening force field file /opt/gromacs/2020.6/share/gromacs/top/amber99sb-ildn.ff/aminoacids.n.tdb\r\n",
      "Opening force field file /opt/gromacs/2020.6/share/gromacs/top/amber99sb-ildn.ff/aminoacids.c.tdb\r\n",
      "\r\n",
      "Back Off! I just backed up penetratin.top to ./#penetratin.top.1#\r\n",
      "Processing chain 1 'B' (159 atoms, 16 residues)\r\n",
      "Identified residue ARG43 as a starting terminus.\r\n",
      "Identified residue LYS58 as a ending terminus.\r\n",
      "8 out of 8 lines of specbond.dat converted successfully\r\n",
      "Opening force field file /opt/gromacs/2020.6/share/gromacs/top/amber99sb-ildn.ff/aminoacids.arn\r\n",
      "Opening force field file /opt/gromacs/2020.6/share/gromacs/top/amber99sb-ildn.ff/dna.arn\r\n",
      "Opening force field file /opt/gromacs/2020.6/share/gromacs/top/amber99sb-ildn.ff/rna.arn\r\n",
      "Checking for duplicate atoms....\r\n",
      "Generating any missing hydrogen atoms and/or adding termini.\r\n",
      "Now there are 16 residues with 334 atoms\r\n",
      "Making bonds...\r\n",
      "Number of bonds was 339, now 338\r\n",
      "Generating angles, dihedrals and pairs...\r\n",
      "Before cleaning: 880 pairs\r\n",
      "Before cleaning: 902 dihedrals\r\n",
      "Keeping all generated dihedrals\r\n",
      "Making cmap torsions...\r\n",
      "There are  902 dihedrals,   69 impropers,  610 angles\r\n",
      "           871 pairs,      338 bonds and     0 virtual sites\r\n",
      "Total mass 2253.840 a.m.u.\r\n",
      "Total charge 7.000 e\r\n",
      "Writing topology\r\n",
      "\r\n",
      "Back Off! I just backed up penetratin_posre.itp to ./#penetratin_posre.itp.1#\r\n",
      "\r\n",
      "Writing coordinate file...\r\n",
      "\r\n",
      "Back Off! I just backed up penetratin.gro to ./#penetratin.gro.1#\r\n",
      "\t\t--------- PLEASE NOTE ------------\r\n",
      "You have successfully generated a topology from: data/penetratin.pdb.\r\n",
      "The Amber99sb-ildn force field and the tip3p water model are used.\r\n",
      "\t\t--------- ETON ESAELP ------------\r\n",
      "\r\n",
      "GROMACS reminds you: \"I Do It All the Time\" (Magnapop)\r\n",
      "\r\n"
     ]
    }
   ],
   "source": [
    "!gmx pdb2gmx -f data/penetratin.pdb -i penetratin_posre.itp -p penetratin.top -o penetratin.gro -ff amber99sb-ildn  -ignh -heavyh -water tip3p"
   ]
  },
  {
   "cell_type": "markdown",
   "metadata": {},
   "source": [
    "Let's have a look at all the options of the program: \n",
    "\n",
    "- **ff** : forcefield -> The force field will contain the information that will be written to the topology. This is a very important choice! You should always read thoroughly about each force field and decide which is most applicable to your situation.\n",
    "\n",
    "- **water**: water model chosen among TIP3P, TIP4P, TIP4P-Ew, TIP5P, SPC, SPC/E\n",
    "\n",
    "- **ignh**: it stands for “ignore hydrogens”, so it will ignore all the hydrogens in the input coordinate file\n",
    "\n",
    "- **heavyh**: makes hydrogen atoms heavy to reduce oscillation frequency\n",
    "\n",
    "Have a look at the generated files:"
   ]
  },
  {
   "cell_type": "code",
   "execution_count": 37,
   "metadata": {
    "slideshow": {
     "slide_type": "subslide"
    }
   },
   "outputs": [
    {
     "name": "stdout",
     "output_type": "stream",
     "text": [
      "06-Gromacs.ipynb  data\t    imgs       penetratin.gro\t     penetratin.top\r\n",
      "calpha.pdb\t  examples  index.ndx  penetratin_posre.itp\r\n"
     ]
    }
   ],
   "source": [
    "!ls"
   ]
  },
  {
   "cell_type": "markdown",
   "metadata": {},
   "source": [
    "Have a look at the *.gro file with a text editor to see the differences with the pdb file!"
   ]
  }
 ],
 "metadata": {
  "celltoolbar": "Slideshow",
  "colab": {
   "provenance": []
  },
  "kernelspec": {
   "display_name": "Python 3 (ipykernel)",
   "language": "python",
   "name": "python3"
  },
  "language_info": {
   "codemirror_mode": {
    "name": "ipython",
    "version": 3
   },
   "file_extension": ".py",
   "mimetype": "text/x-python",
   "name": "python",
   "nbconvert_exporter": "python",
   "pygments_lexer": "ipython3",
   "version": "3.10.6"
  },
  "toc": {
   "base_numbering": 1,
   "nav_menu": {},
   "number_sections": true,
   "sideBar": true,
   "skip_h1_title": false,
   "title_cell": "Table of Contents",
   "title_sidebar": "Contents",
   "toc_cell": false,
   "toc_position": {},
   "toc_section_display": true,
   "toc_window_display": false
  },
  "vscode": {
   "interpreter": {
    "hash": "a04d7f76d528f9c131396aa3849d34d95981463625d620e907bc7853b8ff2908"
   }
  }
 },
 "nbformat": 4,
 "nbformat_minor": 1
}
