{
 "cells": [
  {
   "cell_type": "markdown",
   "id": "8d95e6ba",
   "metadata": {
    "slideshow": {
     "slide_type": "skip"
    }
   },
   "source": [
    "# Import all necessary packages"
   ]
  },
  {
   "cell_type": "code",
   "execution_count": null,
   "id": "b1202844",
   "metadata": {
    "slideshow": {
     "slide_type": "skip"
    }
   },
   "outputs": [],
   "source": [
    "import numpy as np\n",
    "import matplotlib.pyplot as plt\n",
    "import matplotlib as mpl\n",
    "from itertools import *\n",
    "from math import *\n",
    "from random import shuffle\n",
    "import seaborn as sns\n",
    "import scipy.stats as stats\n",
    "\n",
    "%matplotlib inline\n",
    "mpl.rcParams['font.size'] = 35\n",
    "mpl.rcParams['lines.linewidth'] = 4\n",
    "mpl.rcParams['legend.frameon'] = False\n",
    "mpl.rcParams['legend.fontsize'] = 35"
   ]
  },
  {
   "cell_type": "markdown",
   "id": "fa438a6b",
   "metadata": {
    "slideshow": {
     "slide_type": "slide"
    }
   },
   "source": [
    "# Biomeccanica Multiscala\n",
    "## Laboratorio 2\n",
    "### Molecular Driving Forces - Principles of Probability"
   ]
  },
  {
   "cell_type": "markdown",
   "id": "3e19f4c1",
   "metadata": {
    "slideshow": {
     "slide_type": "slide"
    }
   },
   "source": [
    "# Exercise 1\n",
    "What is the probability of throwing one die and getting a number greater than 3?"
   ]
  },
  {
   "cell_type": "markdown",
   "id": "fef79e27",
   "metadata": {
    "slideshow": {
     "slide_type": "fragment"
    }
   },
   "source": [
    "The probability of an event A is defined as the number of outcomes $n_A$ falling into the category of A divided by the total number of possible outcomes $N$: $$p_A = \\frac{n_{A}}{N}$$\n",
    "\n",
    "Outcomes into the category A: 4,5,6 $\\rightarrow$ $n_A = 3$\n",
    "\n",
    "Total of outcomes: 1,2,3,4,5,6 $\\rightarrow$ $N = 6$\n",
    "$$p_A = \\frac{3}{6} = 0.5$$"
   ]
  },
  {
   "cell_type": "markdown",
   "id": "663976ce",
   "metadata": {
    "slideshow": {
     "slide_type": "slide"
    }
   },
   "source": [
    "# Exercise 2\n",
    "What is the probability of a 1 on the first roll of a die **AND** a 4 on the second roll of a die?"
   ]
  },
  {
   "cell_type": "markdown",
   "id": "0145dd23",
   "metadata": {
    "slideshow": {
     "slide_type": "fragment"
    }
   },
   "source": [
    "Two consecutive rolls of a die are independent events, therefore the rules of probability tells us that:\n",
    "$$p(A \\cap B) = p_A \\bullet p_B$$\n",
    "\n",
    "In this case, $p_A = p_B = 1/6$, therefore: $$p(A \\cap B) = \\left(\\frac{1}{6}\\right)^2 = 0.028$$"
   ]
  },
  {
   "cell_type": "markdown",
   "id": "12dbab92",
   "metadata": {
    "cell_style": "center",
    "slideshow": {
     "slide_type": "slide"
    }
   },
   "source": [
    "# Exercise 3\n",
    "What is the probability of a 1 on the first roll of a die **OR** a number greater than 4 on the second roll?"
   ]
  },
  {
   "cell_type": "markdown",
   "id": "53075f61",
   "metadata": {
    "cell_style": "center",
    "slideshow": {
     "slide_type": "fragment"
    }
   },
   "source": [
    "Compared to the previous cases, the enumeration of the possible outcomes is not immediate. However, we can obtain them as:"
   ]
  },
  {
   "cell_type": "code",
   "execution_count": null,
   "id": "d8bea23e",
   "metadata": {
    "cell_style": "center",
    "slideshow": {
     "slide_type": "fragment"
    }
   },
   "outputs": [],
   "source": [
    "tot_out = np.array([x for x in product(np.arange(1,7),np.arange(1,7))])\n",
    "N = tot_out.shape[0]; print(f\"Total number of outcomes: {N}\")\n",
    "n = np.sum((tot_out[:,0]==1) | (tot_out[:,1]>4))\n",
    "print(f\"Number of favourable outcomes: {n}\")\n",
    "p = n/N ; print(f\"Probability: {p:.2f}\")"
   ]
  },
  {
   "cell_type": "markdown",
   "id": "cb315054",
   "metadata": {
    "slideshow": {
     "slide_type": "slide"
    }
   },
   "source": [
    "# Exercise 4\n",
    "What is the probability of getting a card of clubs, a card of diamonds, and a card of clubs in three consecutive extractions? how does this probability change if after each extraction the card is put again into the deck?\n",
    "\n",
    "<div class=\"alert alert-info\"> <b>Hint</b>: Remember the definition of conditional probability!</div>\n",
    "\n",
    "***Try to do it by yourself first!***"
   ]
  },
  {
   "cell_type": "markdown",
   "id": "cf770e23",
   "metadata": {
    "slideshow": {
     "slide_type": "subslide"
    }
   },
   "source": [
    "Let us first consider the case of extraction without replacement. The probability of getting a card of clubs in the first extraction is $$p(C)=\\frac{13}{52}$$\n",
    "The probability of getting a diamond in the second extraction is $$p(D|C)=\\frac{13}{51}$$\n",
    "The probability of getting a club in the third extraction is $$p(C|D,C)=\\frac{12}{50}$$\n",
    "\n",
    "The probability of the composite event is\n",
    "$$p(C,D,C)=p(C)\\bullet p(D|C) \\bullet p(C|D,C) = \\frac{13}{52} \\bullet \\frac{13}{51} \\bullet \\frac{12}{50} = 0.0153$$"
   ]
  },
  {
   "cell_type": "markdown",
   "id": "0ce24bc6",
   "metadata": {
    "slideshow": {
     "slide_type": "subslide"
    }
   },
   "source": [
    "Now, if the cards are put again into the deck, the extractions become independent and with same probability. Thus,\n",
    "$$p(C,D,C)=p(C)^3 = \\left(\\frac{13}{52}\\right)^3 = 0.0156$$\n",
    "\n",
    "Which corresponds to an increase of 2.16%"
   ]
  },
  {
   "cell_type": "markdown",
   "id": "0381635f",
   "metadata": {
    "slideshow": {
     "slide_type": "slide"
    }
   },
   "source": [
    "# Exercise 5\n",
    "A die is rolled 3 times. What is the probability of obtaining a 2 in the first roll, a 6 in the second, **OR** a 5 in the third?\n",
    "\n",
    "<div class=\"alert alert-info\"> <b>Hint</b>: When computing the probability of the union of two or more events, make sure you are treating the insersection of the events in the right way!</div>\n",
    "\n",
    "***Try to do it by yourself first!***"
   ]
  },
  {
   "cell_type": "markdown",
   "id": "63b77eda",
   "metadata": {
    "slideshow": {
     "slide_type": "fragment"
    }
   },
   "source": [
    "In this case, we have to consider the union of three events that are NOT mutually exclusive. Therefore, we have to apply the formula general addition rule"
   ]
  },
  {
   "cell_type": "markdown",
   "id": "1f0f6507",
   "metadata": {
    "cell_style": "center",
    "slideshow": {
     "slide_type": "subslide"
    }
   },
   "source": [
    "$$p(A \\cup B \\cup C)=p(A) + p(B) + p(C) - p(A \\cap B)$$\n",
    "\n",
    "$$- p(A \\cap C) - p(B \\cap C) + p(A \\cap B \\cap C)$$"
   ]
  },
  {
   "cell_type": "markdown",
   "id": "ed4deffb",
   "metadata": {
    "cell_style": "center",
    "slideshow": {
     "slide_type": "fragment"
    }
   },
   "source": [
    "<center><img src=https://i.pinimg.com/originals/89/a1/17/89a1177e7e1f988eb92878d39c95175e.png width=500 height=500 /><center>"
   ]
  },
  {
   "cell_type": "code",
   "execution_count": null,
   "id": "d9d02f7b",
   "metadata": {
    "slideshow": {
     "slide_type": "subslide"
    }
   },
   "outputs": [],
   "source": [
    "tot_out = np.array([x for x in product(np.arange(1,7),np.arange(1,7),np.arange(1,7))])\n",
    "p_A = np.sum(tot_out[:,0]==2)/tot_out.shape[0]\n",
    "p_B = np.sum(tot_out[:,1]==6)/tot_out.shape[0]\n",
    "p_C = np.sum(tot_out[:,2]==5)/tot_out.shape[0]\n",
    "p_A_B = np.sum((tot_out[:,0]==2)&(tot_out[:,1]==6))/tot_out.shape[0]\n",
    "p_A_C = np.sum((tot_out[:,0]==2)&(tot_out[:,2]==5))/tot_out.shape[0]\n",
    "p_B_C = np.sum((tot_out[:,2]==5)&(tot_out[:,1]==6))/tot_out.shape[0]\n",
    "p_A_B_C = np.sum((tot_out[:,0]==2)&(tot_out[:,1]==6)&(tot_out[:,2]==5))/tot_out.shape[0]\n",
    "p = p_A + p_B + p_C - p_A_B - p_A_B - p_B_C + p_A_B_C\n",
    "print(f\"The probability is {100*p:.2f} %\")"
   ]
  },
  {
   "cell_type": "markdown",
   "id": "f94a94ce",
   "metadata": {
    "slideshow": {
     "slide_type": "fragment"
    }
   },
   "source": [
    "Is the result the same as counting the single favourable events?\n",
    "Sometimes the enumeration of all possible cases may be very difficult or not possible due to large numbers."
   ]
  },
  {
   "cell_type": "code",
   "execution_count": null,
   "id": "afb592b3",
   "metadata": {
    "slideshow": {
     "slide_type": "fragment"
    }
   },
   "outputs": [],
   "source": [
    "p2 = np.sum((tot_out[:,0]==2)|(tot_out[:,1]==6)|(tot_out[:,2]==5))/tot_out.shape[0]\n",
    "print(p==p2)"
   ]
  },
  {
   "cell_type": "markdown",
   "id": "3820db4e",
   "metadata": {
    "slideshow": {
     "slide_type": "slide"
    }
   },
   "source": [
    "# Exercise 6\n",
    "A system is composed by 15 particles of type A and 5 particles of type B that can be organized in a total of 23 sites. Considering the particles of the same type as indistinguishable, how many arrangements are possible? If the total number of sites is 20 or 26, how does the number of combination changes?"
   ]
  },
  {
   "cell_type": "markdown",
   "id": "da569f0f",
   "metadata": {
    "slideshow": {
     "slide_type": "subslide"
    }
   },
   "source": [
    "We can solve this problem considering a number of objects equal to the number of sites and three type of objects:\n",
    "$$n_A = 15; n_B = 5; n_E = n_S - n_A - n_B $$\n",
    "where $n_S$ is the number of sites"
   ]
  },
  {
   "cell_type": "code",
   "execution_count": null,
   "id": "c673106d",
   "metadata": {
    "cell_style": "center",
    "slideshow": {
     "slide_type": "fragment"
    }
   },
   "outputs": [],
   "source": [
    "nA, nB, nS = 15,5,23\n",
    "nE = nS-nA-nB\n",
    "seq = list('A'*nA + 'B'*nB + '_'*nE)\n",
    "for i in range(4):\n",
    "    shuffle(seq)\n",
    "    print(''.join(seq)+'\\n')"
   ]
  },
  {
   "cell_type": "code",
   "execution_count": null,
   "id": "415bac9a",
   "metadata": {
    "cell_style": "split",
    "slideshow": {
     "slide_type": "subslide"
    }
   },
   "outputs": [],
   "source": [
    "for nS in [23,20,26]:\n",
    "    nE = nS-nA-nB\n",
    "    N = factorial(nS)/(factorial(nA)* \\\n",
    "                       factorial(nB)*factorial(nE))\n",
    "    print(f\"{nS} sites: {N:.0f} arrangements\\n\")"
   ]
  },
  {
   "cell_type": "code",
   "execution_count": null,
   "id": "49247eea",
   "metadata": {
    "cell_style": "split",
    "code_folding": [],
    "slideshow": {
     "slide_type": "fragment"
    }
   },
   "outputs": [],
   "source": [
    "nS = np.arange(20,41,dtype=int)\n",
    "N = list()\n",
    "for n in nS:\n",
    "    N.append(factorial(n)/(factorial(nA)* \\\n",
    "                           factorial(nB)* \\\n",
    "                           factorial(n-nA-nB)))\n",
    "N = np.array(N)\n",
    "fig,ax = plt.subplots(figsize=(10,6))\n",
    "ax.plot(nS,N,color='k')\n",
    "sns.despine(); ax.set_xlim(nS[0]-1,nS[-1])\n",
    "ax.set_ylim(bottom=0); ax.set_xlabel(r\"$n_S$\")\n",
    "ax.set_ylabel('# combinations')\n",
    "plt.tight_layout()"
   ]
  },
  {
   "cell_type": "markdown",
   "id": "d56413af",
   "metadata": {
    "slideshow": {
     "slide_type": "slide"
    }
   },
   "source": [
    "# Exercise 7\n",
    "A test contains 10 questions, each one with available four different answers, among which just one is correct. To pass the test at least 5 questions must be answered correctly. What is the probability that completely unprepared student will pass the test?\n",
    "\n",
    "<div class=\"alert alert-info\"> <b>Hint</b>: When computing the grade, each question can have only two possible outcomes, correct (1) or wrong (0). Moreover, the answers of two different questions are independent.</div>\n",
    "\n",
    "***Try to do it by yourself first!***"
   ]
  },
  {
   "cell_type": "markdown",
   "id": "17a4a8ff",
   "metadata": {
    "slideshow": {
     "slide_type": "subslide"
    }
   },
   "source": [
    "Let us consider the test as one event. The probability for the student to pass the test with a score of 5 is\n",
    "$$p = {10 \\choose 5} p_{correct}^5 \\bullet p_{wrong}^5$$\n",
    "Where the multiplication factor takes into account that the order of answers has no effect on the final grade.\n",
    "\n",
    "The probability for the student to pass the test with a score of 6 is\n",
    "$$p = {10 \\choose 6} p_{correct}^6 \\bullet p_{wrong}^4$$\n",
    "and so on...\n",
    "\n",
    "Since the test outcomes are mutually exclusive, the total probability is the sum of the individual ones."
   ]
  },
  {
   "cell_type": "code",
   "execution_count": null,
   "id": "9d06177f",
   "metadata": {
    "slideshow": {
     "slide_type": "subslide"
    }
   },
   "outputs": [],
   "source": [
    "pq = 1/4\n",
    "p = 0\n",
    "for i in range(5,11):\n",
    "    p += factorial(10)/(factorial(i)*factorial(10-i))*(pq**(i))*((1-pq)**(10-i))\n",
    "print(f\"The probability is {100*p:.2f} %\")"
   ]
  },
  {
   "cell_type": "markdown",
   "id": "28a93c89",
   "metadata": {
    "slideshow": {
     "slide_type": "slide"
    }
   },
   "source": [
    "# Exercise 8\n",
    "The water molecule is characterized by an average angle of 104.5° and standard deviation of 5°. What is the probability for a water molecule of having an angle between 90° and 100°? "
   ]
  },
  {
   "cell_type": "markdown",
   "id": "99fc4c4e",
   "metadata": {
    "slideshow": {
     "slide_type": "fragment"
    }
   },
   "source": [
    "The probability can be derived from the probability density function as:\n",
    "$$P(a,b)=\\int_a^b \\! p(x) \\, \\mathrm{d}x$$\n",
    "\n",
    "where here we assume the probability density to a gaussian with mean $\\mu$ and variance $\\sigma^2$:\n",
    "$$p(x)=\\frac{1}{\\sqrt{2\\pi}}e^{-\\left(x-\\mu\\right)^2/2\\sigma^2}$$"
   ]
  },
  {
   "cell_type": "code",
   "execution_count": null,
   "id": "f07380aa",
   "metadata": {
    "slideshow": {
     "slide_type": "subslide"
    }
   },
   "outputs": [],
   "source": [
    "x = np.linspace(80,130,500)\n",
    "y = stats.norm.pdf(x, 104.5, 5)\n",
    "i = (x>=90) & (x<=100)\n",
    "fig,ax = plt.subplots(figsize=(10,6))\n",
    "ax.plot(x,y,color='k')\n",
    "ax.fill_between(x[i],0,y[i],color='r',alpha=.5)\n",
    "sns.despine(); ax.set_xlim(80,130)\n",
    "ax.set_ylim(bottom=0); ax.set_xlabel(r\"Angle (°)\")\n",
    "ax.set_ylabel('Density')\n",
    "plt.tight_layout()\n",
    "plt.show()\n",
    "\n",
    "p = np.trapz(y[i],x[i])\n",
    "print(f\"Probability: {p:.2f}\")"
   ]
  },
  {
   "cell_type": "markdown",
   "id": "a3ab783b",
   "metadata": {
    "slideshow": {
     "slide_type": "slide"
    }
   },
   "source": [
    "# Exercise 9\n",
    "You have obtained the following samples S from a distribution:\n",
    "\n",
    "$$s = \\{6, 2, 13, 9, 10, 10, 9, 11, 9, 10, 16, 12, 7, 16, 13, 10, 11, 8, 10, 6\\}$$\n",
    "\n",
    "Estimate the average and variance of the sampled distribution. Then compare the probabilities of having a number higher or equal to 11 obtained:\n",
    "1. considering only the samples of the distribution\n",
    "2. considering a gaussian distribution with the estimated mean and variance\n",
    "\n",
    "***Try to do it by yourself first!***"
   ]
  },
  {
   "cell_type": "markdown",
   "id": "924fdd47",
   "metadata": {
    "slideshow": {
     "slide_type": "subslide"
    }
   },
   "source": [
    "The mean $\\mu$ of the distribution is computed as:\n",
    "$$\\mu =  \\sum_{i} s_i p_i $$\n",
    "where $s_i$ is the value of a sample and $p_i$ its observed probability.\n",
    "\n",
    "\n",
    "\n",
    "Then, the variance $\\sigma^2$ can be obtained as:\n",
    "$$\\sigma^2 = \\left< s^2 \\right> - \\left< s \\right>^2$$"
   ]
  },
  {
   "cell_type": "code",
   "execution_count": null,
   "id": "8a023562",
   "metadata": {
    "scrolled": true,
    "slideshow": {
     "slide_type": "subslide"
    }
   },
   "outputs": [],
   "source": [
    "s = np.array([6, 2, 13, 9, 10, 10, 9, 11, 9, 10, 16, 12, 7, 16, 13, 10, 11, 8, 10, 6])\n",
    "m = 0\n",
    "m2 = 0\n",
    "for el,c in zip(*np.unique(s,return_counts=True)):\n",
    "    p = c/len(s)\n",
    "    print(f\"Element {el}  -> Probability {p:.2f}\")\n",
    "    m += el*p\n",
    "    m2 += el**2*p\n",
    "v = m2 - m**2\n",
    "print(f\"\\nmean = {m:.2f}; variance = {v:.2f}\")\n",
    "\n",
    "# or, in a faster way\n",
    "print('-'*40)\n",
    "print(f\"mean = {s.mean():.2f}; variance = {s.var():.2f}\")"
   ]
  },
  {
   "cell_type": "code",
   "execution_count": null,
   "id": "caa2c42e",
   "metadata": {
    "slideshow": {
     "slide_type": "subslide"
    }
   },
   "outputs": [],
   "source": [
    "mm = s.mean(); vv = s.std()\n",
    "x = np.linspace(mm-2*vv,mm+2*vv,500)\n",
    "y = stats.norm.pdf(x, mm,vv)\n",
    "i = (x>=11)\n",
    "fig,ax = plt.subplots(figsize=(10,6))\n",
    "ax.plot(x,y,color='k')\n",
    "ax.fill_between(x[i],0,y[i],color='r',alpha=.5)\n",
    "sns.despine(); ax.set_xlim(mm-2.5*vv,mm+2.5*vv)\n",
    "ax.set_ylim(bottom=0); ax.set_xlabel(r\"s\"); ax.set_ylabel('Density')\n",
    "plt.tight_layout(); plt.show()\n",
    "\n",
    "p = np.trapz(y[i],x[i])\n",
    "print(f\"Probability: {p:.2f}\"); print(f\"Probability from samples: {np.sum(s>=11)/len(s)}\")"
   ]
  },
  {
   "cell_type": "markdown",
   "id": "c5d6a5c5",
   "metadata": {
    "slideshow": {
     "slide_type": "slide"
    }
   },
   "source": [
    "# Exercise 10\n",
    "***Try to do it by yourself first!***\n",
    "\n",
    "Consider the Boltzmann distribution:\n",
    "$$ p(x) = \\frac{1}{\\beta} e^{-x/\\beta}$$\n",
    "\n",
    "- If $\\beta=10$, what is the ratio between the probability of 10 and 20?\n",
    "- Consider the same ratio with $\\beta=5$ and $\\beta=20$. How does it change?\n",
    "- Plot the Boltzmann distribution at the three values of $\\beta$. Which difference do you notice? if $\\beta \\propto T$, where $T$ is the temperature, and $x$ is the energy of a particle when it is in a certain position, what can you deduce from the plot of the distributions?"
   ]
  },
  {
   "cell_type": "code",
   "execution_count": null,
   "id": "f054821d",
   "metadata": {
    "cell_style": "split",
    "slideshow": {
     "slide_type": "subslide"
    }
   },
   "outputs": [],
   "source": [
    "beta = 10\n",
    "p1 = np.exp(-10/beta)/beta\n",
    "p2 = np.exp(-20/beta)/beta\n",
    "print(f\"{p1/p2:.2f}\")"
   ]
  },
  {
   "cell_type": "code",
   "execution_count": null,
   "id": "9a5382b5",
   "metadata": {
    "cell_style": "split",
    "slideshow": {
     "slide_type": "fragment"
    }
   },
   "outputs": [],
   "source": [
    "for beta in [5,10,20]:\n",
    "    p1 = np.exp(-10/beta)/beta\n",
    "    p2 = np.exp(-20/beta)/beta\n",
    "    print(f\"At beta = {beta}:\\t{p1/p2:.2f}\")"
   ]
  },
  {
   "cell_type": "markdown",
   "id": "8daedfb7",
   "metadata": {
    "slideshow": {
     "slide_type": "fragment"
    }
   },
   "source": [
    "As could be expected by the Boltzmann distribution, probabilities at low $x$ values are greater than at higher values. Increasing the parameter $\\beta$, such difference is reduced, i.e., the different $x$ values becomes more and more equiprobable and, in the limit $\\beta \\rightarrow \\infty$ the distribution becomes flat."
   ]
  },
  {
   "cell_type": "code",
   "execution_count": null,
   "id": "2293ae13",
   "metadata": {
    "cell_style": "split",
    "slideshow": {
     "slide_type": "subslide"
    }
   },
   "outputs": [],
   "source": [
    "x2 = 50\n",
    "x = np.linspace(0.01,x2,100)\n",
    "fig,ax = plt.subplots(figsize=(10,6))\n",
    "for beta in [5,10,20]:\n",
    "    y = np.exp(-x/beta)/beta\n",
    "    ax.plot(x,y,label=fr\"$\\beta$={beta}\")\n",
    "sns.despine(); ax.set_xlim(0,x2)\n",
    "ax.set_ylim(bottom=0); ax.set_xlabel(r\"$x$\")\n",
    "ax.set_ylabel(r'$P(x)$')\n",
    "ax.legend()\n",
    "plt.tight_layout()\n",
    "plt.show()\n"
   ]
  },
  {
   "cell_type": "markdown",
   "id": "9bee4ea2",
   "metadata": {
    "cell_style": "split",
    "slideshow": {
     "slide_type": "-"
    }
   },
   "source": [
    "The steepness of the curve at low $x$ increases while decreasing $\\beta$, and at the same time higher probabilities are reached. At higher $\\beta$, the distribution beacomes more and more flat.\n",
    "\n",
    "<div class=\"alert alert-success\">Considerig the case in which $\\beta \\propto T$, and $x$ is the energy of a particle when it is in a certain position, the Boltzmann distribution describes a situation where positions of the particle corresponing to a lower energy are more favoured in general. However, increasing the temperature, positions at higher energy becomes more probable. In the limit $T \\rightarrow \\infty$, all positions have the same probability</div>\n"
   ]
  }
 ],
 "metadata": {
  "celltoolbar": "Slideshow",
  "kernelspec": {
   "display_name": "Python 3",
   "language": "python",
   "name": "python3"
  },
  "language_info": {
   "codemirror_mode": {
    "name": "ipython",
    "version": 3
   },
   "file_extension": ".py",
   "mimetype": "text/x-python",
   "name": "python",
   "nbconvert_exporter": "python",
   "pygments_lexer": "ipython3",
   "version": "3.8.11"
  },
  "toc": {
   "base_numbering": 1,
   "nav_menu": {},
   "number_sections": false,
   "sideBar": true,
   "skip_h1_title": false,
   "title_cell": "Table of Contents",
   "title_sidebar": "Contents",
   "toc_cell": false,
   "toc_position": {},
   "toc_section_display": true,
   "toc_window_display": false
  }
 },
 "nbformat": 4,
 "nbformat_minor": 5
}
